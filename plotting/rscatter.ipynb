{
 "cells": [
  {
   "cell_type": "code",
   "execution_count": 1,
   "metadata": {},
   "outputs": [],
   "source": [
    "import sys\n",
    "sys.path.append(\".\")\n",
    "\n",
    "from roughviz.charts.scatter import Scatter\n",
    "import glob, subprocess, os\n"
   ]
  },
  {
   "cell_type": "code",
   "execution_count": 2,
   "metadata": {},
   "outputs": [
    {
     "name": "stdout",
     "output_type": "stream",
     "text": [
      "10 files, 10 points.\n"
     ]
    }
   ],
   "source": [
    "\n",
    "def getData ():\n",
    "    \"\"\" collect the data to scatter plot \"\"\"\n",
    "    x,y=[],[]\n",
    "    Dir=\"../protomodels/data/\"\n",
    "    Dir = os.getcwd()\n",
    "    Dir = Dir.replace(\"/protomodels/plotting\",\"\")\n",
    "    Dir = Dir.replace(\"/py-roughviz\",\"\")\n",
    "    Dir = Dir + \"/protomodels/data\"\n",
    "    files = glob.glob ( f\"{Dir}/real*dict\" )\n",
    "    for f in files:\n",
    "        h = open ( f, \"rt\" )\n",
    "        D = eval ( h.read() )\n",
    "        h.close()\n",
    "        D0m = D[0][\"masses\"]\n",
    "        if not 1000006 in D0m:\n",
    "            continue\n",
    "        x.append ( D0m[1000006] )\n",
    "        y.append ( D0m[1000022] )\n",
    "    print ( f\"{len(files)} files, {len(x)} points.\" )\n",
    "    return x,y\n",
    "\n",
    "x,y=  getData()"
   ]
  },
  {
   "cell_type": "code",
   "execution_count": 7,
   "metadata": {
    "scrolled": false
   },
   "outputs": [
    {
     "data": {
      "text/html": [
       "<html>\n",
       "<body>\n",
       "\n",
       "<div id=f47eb76739534e3db22dc7739cc94ef8></div>\n",
       "\n",
       "<script src=\"https://requirejs.org/docs/release/2.3.6/minified/require.js\"></script>\n",
       "<script>\n",
       "require.config({paths: {roughViz: \"https://unpkg.com/rough-viz@1.0.5/dist/roughviz.min\"}});\n",
       "require([\"roughViz\"], function(roughViz) {\n",
       "\n",
       "new roughViz.Scatter(\n",
       "  {\"x\": null, \"y\": null, \"data\": {\"x\": [683.92, 792.759, 786.555, 1117.577, 1188.473, 687.383, 796.477, 1126.127, 1152.509, 1152.953], \"y\": [419.045, 507.27, 491.285, 109.495, 169.158, 413.551, 484.366, 16.692, 103.219, 124.235]}, \"title\": \"Distribution of masses of runs\", \"margin\": {\"top\": 60, \"right\": 20, \"bottom\": 70, \"left\": 170}, \"width\": 800, \"height\": 600, \"interactive\": true, \"bowing\": 0.2, \"fillStyle\": \"cross-hatch\", \"fillWeight\": 0, \"strokeWidth\": 1, \"roughness\": 1, \"tooltipFontSize\": \"0.95rem\", \"titleFontSize\": \"3rem\", \"colors\": [\"coral\", \"skyblue\", \"#66c2a5\", \"tan\", \"#8da0cb\", \"#e78ac3\", \"#a6d854\", \"#ffd92f\", \"tan\", \"orange\"], \"xLabel\": \"Xt [GeV]\", \"yLabel\": \"XZ [GeV]\", \"axisFontSize\": \"1.5rem\", \"labelFontSize\": \"2rem\", \"colorZero\": false, \"font\": \"Gaegu\", \"radius\": 30, \"axisRoughness\": 0.5, \"axisStrokeWidth\": 0.5, \"highlight\": \"coral\", \"innerStrokeWidth\": 0, \"simplification\": 0.2, \"stroke\": \"black\", \"element\": \"#f47eb76739534e3db22dc7739cc94ef8\"}\n",
       ");\n",
       "\tvar text = document.querySelectorAll(\".xAxisf47eb76739534e3db22dc7739cc94ef8 .tick text\");\n",
       "\tvar i;\n",
       "\tfor (i = 0; i < text.length; i++) {\n",
       "\t\ttext[i].setAttribute(\"transform\", \"rotate(0)\");\n",
       "\t\ttext[i].style.textAnchor=\"middle\";\n",
       "\t}\n",
       "\tdocument.getElementById(\"f47eb76739534e3db22dc7739cc94ef8\").style.height = \"px\";\n",
       "\tdocument.querySelector(\"#f47eb76739534e3db22dc7739cc94ef8 svg\").style.height = \"px\";\n",
       "});\n",
       "</script>\n",
       "\n",
       "</body>\n",
       "</html>"
      ],
      "text/plain": [
       "<IPython.core.display.HTML object>"
      ]
     },
     "metadata": {},
     "output_type": "display_data"
    }
   ],
   "source": [
    "scatter = Scatter(data={\"x\": x, \"y\": y}, radius=30, margin= {\"top\": 60, \"right\": 20, \"bottom\": 70, \"left\": 170 } )\n",
    "scatter.set_title(\"Distribution of masses of runs\", fontsize=3)\n",
    "scatter.set_xlabel(\"Xt [GeV]\", fontsize=2 )\n",
    "scatter.set_ylabel(\"XZ [GeV]\", fontsize=2 )\n",
    "scatter.show()"
   ]
  },
  {
   "cell_type": "code",
   "execution_count": 4,
   "metadata": {},
   "outputs": [],
   "source": [
    "\n",
    "#with open ( \"bla.html\", \"wt\" ) as f:\n",
    "#    f.write ( scatter.output+\"\\n\" )\n",
    "#with open ( \"blu.html\", \"wt\" ) as f:\n",
    " #   more = scatter.output\n",
    "    # print ( \"tp\", type(more) )\n",
    "  #  f.write ( more )\n",
    "\n",
    "# print ( scatter.output )"
   ]
  }
 ],
 "metadata": {
  "kernelspec": {
   "display_name": "Python 3",
   "language": "python",
   "name": "python3"
  },
  "language_info": {
   "codemirror_mode": {
    "name": "ipython",
    "version": 3
   },
   "file_extension": ".py",
   "mimetype": "text/x-python",
   "name": "python",
   "nbconvert_exporter": "python",
   "pygments_lexer": "ipython3",
   "version": "3.8.6"
  }
 },
 "nbformat": 4,
 "nbformat_minor": 4
}

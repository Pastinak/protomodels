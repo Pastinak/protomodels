{
 "cells": [
  {
   "cell_type": "code",
   "execution_count": 1,
   "metadata": {},
   "outputs": [],
   "source": [
    "import sys,os,copy,glob\n",
    "import numpy as np\n",
    "sys.path.append(os.path.abspath('./smodels'))\n",
    "sys.path.append(os.path.abspath('./protomodels'))\n",
    "from builder.protomodel import ProtoModel\n",
    "from builder.manipulator import Manipulator\n",
    "from tester.predictor import Predictor\n",
    "from tester.combiner import Combiner\n",
    "from walker.hiscore import Hiscore\n",
    "from smodels.experiment.databaseObj import Database\n",
    "from smodels.tools import runtime\n",
    "from smodels.tools.physicsUnits import fb\n",
    "runtime._experimental = True\n",
    "import matplotlib.pyplot as plt\n",
    "import seaborn as sns\n",
    "import pickle\n",
    "sns.set() #Set style\n",
    "sns.set_style('ticks',{'font.family':'serif', 'font.serif':'Times New Roman'})\n",
    "sns.set_context('paper', font_scale=1.8)\n",
    "sns.set_palette(sns.color_palette(\"Paired\"))"
   ]
  },
  {
   "cell_type": "code",
   "execution_count": 2,
   "metadata": {},
   "outputs": [],
   "source": [
    "def fromDict(inputDict):\n",
    "    \n",
    "    p = ProtoModel(walkerid=0)\n",
    "    for key,v in inputDict.items():\n",
    "        setattr(p,key,copy.deepcopy(v))\n",
    "        \n",
    "    return p"
   ]
  },
  {
   "cell_type": "code",
   "execution_count": 3,
   "metadata": {},
   "outputs": [],
   "source": [
    "#Get highest score from each run:\n",
    "protomodelsDict = {}\n",
    "for ff in glob.glob('./highestScores/real_run/real*.dict'):\n",
    "    with open(ff,'r') as f:\n",
    "        pList = eval(f.read())\n",
    "    run = eval(os.path.basename(ff).replace('real','').replace('.dict',''))\n",
    "    pList = [fromDict(pDict) for pDict in pList[:]]\n",
    "    p = sorted(pList, key = lambda p: p.K, reverse=True)[0]\n",
    "    protomodelsDict[run] = p  "
   ]
  },
  {
   "cell_type": "code",
   "execution_count": 5,
   "metadata": {},
   "outputs": [
    {
     "name": "stdout",
     "output_type": "stream",
     "text": [
      "1 ProtoModel (XZ1,Xd,Xt): K = 6.57, Z = 3.18\n",
      "2 ProtoModel (XZ1,Xc,Xt): K = 6.74, Z = 3.20\n",
      "3 ProtoModel (XZ1,Xd,Xt): K = 7.53, Z = 3.33\n",
      "4 ProtoModel (XZ1,Xt,Xc): K = 6.33, Z = 3.14\n",
      "5 ProtoModel (XZ1,Xd,Xt): K = 6.63, Z = 3.19\n"
     ]
    }
   ],
   "source": [
    "for run in sorted(protomodelsDict.keys()):\n",
    "    print(run,protomodelsDict[run])    "
   ]
  },
  {
   "cell_type": "code",
   "execution_count": 6,
   "metadata": {},
   "outputs": [],
   "source": [
    "protomodel = protomodelsDict[3]"
   ]
  },
  {
   "cell_type": "code",
   "execution_count": 8,
   "metadata": {},
   "outputs": [
    {
     "name": "stderr",
     "output_type": "stream",
     "text": [
      "combination #0/288   0%|                                        |ETA:  --:--:--\r"
     ]
    },
    {
     "name": "stdout",
     "output_type": "stream",
     "text": [
      "[combine:0] selected predictions down via SRs from 262 to 19.\n",
      "[combine:0] sorting out subsets, reduced 2788 -> 288 combinations.\n"
     ]
    },
    {
     "name": "stderr",
     "output_type": "stream",
     "text": [
      "combination #288/288 100%|||||||||||||||||||||||||||||||||||||||||Time: 0:00:19\n",
      "combination #0/288   0%|                                        |ETA:  --:--:--\r"
     ]
    },
    {
     "name": "stdout",
     "output_type": "stream",
     "text": [
      "[combine:0] selected predictions down via SRs from 262 to 19.\n",
      "[combine:0] sorting out subsets, reduced 2788 -> 288 combinations.\n"
     ]
    },
    {
     "name": "stderr",
     "output_type": "stream",
     "text": [
      "combination #288/288 100%|||||||||||||||||||||||||||||||||||||||||Time: 0:00:19\n"
     ]
    }
   ],
   "source": [
    "pred = Predictor(walkerid=0,dbpath='./official124_smodels200.pcl')\n",
    "res = pred.predict(protomodel)"
   ]
  },
  {
   "cell_type": "code",
   "execution_count": 9,
   "metadata": {},
   "outputs": [
    {
     "name": "stdout",
     "output_type": "stream",
     "text": [
      "new K =  7.535795944741408\n"
     ]
    }
   ],
   "source": [
    "print('new K = ',protomodel.K)"
   ]
  },
  {
   "cell_type": "code",
   "execution_count": 10,
   "metadata": {},
   "outputs": [
    {
     "name": "stderr",
     "output_type": "stream",
     "text": [
      "combination #0/288   0%|                                        |ETA:  --:--:--\r"
     ]
    },
    {
     "name": "stdout",
     "output_type": "stream",
     "text": [
      "[combine:0] selected predictions down via SRs from 262 to 19.\n",
      "[combine:0] sorting out subsets, reduced 2788 -> 288 combinations.\n"
     ]
    },
    {
     "name": "stderr",
     "output_type": "stream",
     "text": [
      "combination #288/288 100%|||||||||||||||||||||||||||||||||||||||||Time: 0:00:21\r"
     ]
    },
    {
     "name": "stdout",
     "output_type": "stream",
     "text": [
      "new K =  7.535795944741408\n"
     ]
    },
    {
     "name": "stderr",
     "output_type": "stream",
     "text": [
      "\n"
     ]
    }
   ],
   "source": [
    "pred = Predictor(walkerid=0,dbpath='./smodels-database')\n",
    "res = pred.predict(protomodel)\n",
    "print('new K = ',protomodel.K)"
   ]
  }
 ],
 "metadata": {
  "kernelspec": {
   "display_name": "Python 3",
   "language": "python",
   "name": "python3"
  },
  "language_info": {
   "codemirror_mode": {
    "name": "ipython",
    "version": 3
   },
   "file_extension": ".py",
   "mimetype": "text/x-python",
   "name": "python",
   "nbconvert_exporter": "python",
   "pygments_lexer": "ipython3",
   "version": "3.8.2"
  }
 },
 "nbformat": 4,
 "nbformat_minor": 4
}

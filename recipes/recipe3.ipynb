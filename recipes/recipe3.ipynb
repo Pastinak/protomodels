{
 "metadata": {
  "name": "",
  "signature": "sha256:faa1e328f4b12be519bf9f155c4683a53946496d2e118702b7a27df8e5676a30"
 },
 "nbformat": 3,
 "nbformat_minor": 0,
 "worksheets": [
  {
   "cells": [
    {
     "cell_type": "heading",
     "level": 1,
     "metadata": {},
     "source": [
      "Recipe #3: create an element from an lhe event, with cross sections, and draw it as an ascii graph"
     ]
    },
    {
     "cell_type": "code",
     "collapsed": false,
     "input": [
      "from smodels.theory import lheReader, lheDecomposer, crossSection\n",
      "from smodels.installation import installDirectory\n",
      "from smodels.tools import asciiGraph"
     ],
     "language": "python",
     "metadata": {},
     "outputs": [],
     "prompt_number": 10
    },
    {
     "cell_type": "code",
     "collapsed": false,
     "input": [
      "filename=\"%sinputFiles/lhe/T1_1.lhe\" % installDirectory() "
     ],
     "language": "python",
     "metadata": {},
     "outputs": [],
     "prompt_number": 3
    },
    {
     "cell_type": "code",
     "collapsed": false,
     "input": [
      "reader = lheReader.LheReader ( filename )"
     ],
     "language": "python",
     "metadata": {},
     "outputs": [],
     "prompt_number": 4
    },
    {
     "cell_type": "code",
     "collapsed": false,
     "input": [
      "event=reader.next()"
     ],
     "language": "python",
     "metadata": {},
     "outputs": [],
     "prompt_number": 5
    },
    {
     "cell_type": "code",
     "collapsed": false,
     "input": [
      "xsecs=crossSection.getXsecFromLHEFile ( filename )"
     ],
     "language": "python",
     "metadata": {},
     "outputs": [],
     "prompt_number": 7
    },
    {
     "cell_type": "code",
     "collapsed": false,
     "input": [
      "element=lheDecomposer.elementFromEvent ( event, xsecs )"
     ],
     "language": "python",
     "metadata": {},
     "outputs": [],
     "prompt_number": 9
    },
    {
     "cell_type": "code",
     "collapsed": false,
     "input": [
      "print asciiGraph.asciidraw ( element )"
     ],
     "language": "python",
     "metadata": {},
     "outputs": [
      {
       "output_type": "stream",
       "stream": "stdout",
       "text": [
        "   q  q \n",
        "   \\ /  \n",
        "----*----\n",
        "----*----\n",
        "   / \\  \n",
        "   q  q \n",
        "\n"
       ]
      }
     ],
     "prompt_number": 16
    }
   ],
   "metadata": {}
  }
 ]
}
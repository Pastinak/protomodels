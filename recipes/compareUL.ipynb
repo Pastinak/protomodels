{
 "metadata": {
  "name": ""
 },
 "nbformat": 3,
 "nbformat_minor": 0,
 "worksheets": [
  {
   "cells": [
    {
     "cell_type": "heading",
     "level": 1,
     "metadata": {},
     "source": [
      "How To: Compare theory predictions with experimental limits"
     ]
    },
    {
     "cell_type": "code",
     "collapsed": false,
     "input": [
      "#Set up the path to SModelS installation folder if running on a different folder\n",
      "import sys\n",
      "sys.path.append(\"../\")"
     ],
     "language": "python",
     "metadata": {},
     "outputs": [],
     "prompt_number": 1
    },
    {
     "cell_type": "code",
     "collapsed": false,
     "input": [
      "#Import those parts of smodels that are needed for this exercise\n",
      "#(We will assume the input is a SLHA file. For LHE files, use the lheDecomposer instead)\n",
      "from smodels.theory import slhaDecomposer\n",
      "from smodels.installation import installDirectory\n",
      "from smodels.tools.physicsUnits import fb, GeV\n",
      "from smodels.theory.theoryPrediction import theoryPredictionFor\n",
      "from smodels.experiment import smsAnalysisFactory, smsHelpers"
     ],
     "language": "python",
     "metadata": {},
     "outputs": [],
     "prompt_number": 2
    },
    {
     "cell_type": "code",
     "collapsed": false,
     "input": [
      "#Define the SLHA input file name\n",
      "filename=\"%s/inputFiles/slha/lightSquarks.slha\" % installDirectory()"
     ],
     "language": "python",
     "metadata": {},
     "outputs": [],
     "prompt_number": 3
    },
    {
     "cell_type": "code",
     "collapsed": false,
     "input": [
      "#Load the database, do the decomposition and compute theory predictions:\n",
      "#(Look at the theory predictions HowTo to learn how to compute theory predictions)\n",
      "smsHelpers.base=\"../test/database/\"\n",
      "listofanalyses = smsAnalysisFactory.load()\n",
      "listOfTopologies = slhaDecomposer.decompose (filename, sigcut = 0.03 * fb, doCompress=True, doInvisible=True,minmassgap = 5* GeV)\n",
      "analysesPredictions = [theoryPredictionFor(analysis, listOfTopologies) for analysis in listofanalyses]"
     ],
     "language": "python",
     "metadata": {},
     "outputs": [
      {
       "output_type": "stream",
       "stream": "stdout",
       "text": [
        "12:02:03.189 INFO     smodels.experiment.smsAnalysisFactory:61  SUS12022 has been superseded by SUS13006, skipping SUS12022\n"
       ]
      },
      {
       "output_type": "stream",
       "stream": "stdout",
       "text": [
        "12:02:03.254 INFO     smodels.theory.slhaDecomposer:132 Ignoring t+ decays\n"
       ]
      },
      {
       "output_type": "stream",
       "stream": "stdout",
       "text": [
        "12:02:03.269 INFO     smodels.theory.slhaDecomposer:132 Ignoring higgs decays\n"
       ]
      },
      {
       "output_type": "stream",
       "stream": "stdout",
       "text": [
        "12:02:03.270 INFO     smodels.theory.slhaDecomposer:132 Ignoring H0 decays\n"
       ]
      },
      {
       "output_type": "stream",
       "stream": "stdout",
       "text": [
        "12:02:03.270 INFO     smodels.theory.slhaDecomposer:132 Ignoring A0 decays\n"
       ]
      },
      {
       "output_type": "stream",
       "stream": "stdout",
       "text": [
        "12:02:03.271 INFO     smodels.theory.slhaDecomposer:132 Ignoring H+ decays\n"
       ]
      },
      {
       "output_type": "stream",
       "stream": "stdout",
       "text": [
        "12:02:03.335 INFO     smodels.theory.crossSection:512 Ignoring 76 lower order cross-sections\n"
       ]
      },
      {
       "output_type": "stream",
       "stream": "stdout",
       "text": [
        "12:02:21.672 INFO     smodels.experiment.smsInterpolation:174 Masses out of range for ATLAS_CONF_2013_048/T6bbWW (no extrapolation)\n"
       ]
      }
     ],
     "prompt_number": 4
    },
    {
     "cell_type": "code",
     "collapsed": false,
     "input": [
      "#Print the value of each theory prediction (cluster) for each analysis and the corresponding analysis upper limit:\n",
      "for anaPrediction in analysesPredictions:\n",
      "    if not anaPrediction: continue #skip analyses without results\n",
      "    for theoryPred in anaPrediction:\n",
      "        print \"Analysis name = \",theoryPred.analysis.label\n",
      "        print \"Theory prediction = \",theoryPred.value[0].value\n",
      "        print \"Upper limit = \",theoryPred.analysis.getUpperLimitFor(theoryPred.mass)"
     ],
     "language": "python",
     "metadata": {},
     "outputs": [
      {
       "output_type": "stream",
       "stream": "stdout",
       "text": [
        "Analysis name =  SUS13006:TChiWZ\n",
        "Theory prediction =  1.85E-02 [pb]\n",
        "Upper limit =  4.44E-01 [pb]\n",
        "Analysis name =  SUS12028:T2\n",
        "Theory prediction =  1.77E-03 [pb]\n",
        "Upper limit =  "
       ]
      },
      {
       "output_type": "stream",
       "stream": "stdout",
       "text": [
        "1.64E-02 [pb]\n",
        "Analysis name =  SUS12028:T1\n",
        "Theory prediction =  3.92E-04 [pb]\n",
        "Upper limit =  "
       ]
      },
      {
       "output_type": "stream",
       "stream": "stdout",
       "text": [
        "3.14E-02 [pb]\n"
       ]
      }
     ],
     "prompt_number": 5
    },
    {
     "cell_type": "code",
     "collapsed": false,
     "input": [],
     "language": "python",
     "metadata": {},
     "outputs": [],
     "prompt_number": 5
    }
   ],
   "metadata": {}
  }
 ]
}
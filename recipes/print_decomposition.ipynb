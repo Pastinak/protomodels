{
 "metadata": {
  "name": "",
  "signature": "sha256:b9f9c0ea132c1ca996cbbbc2791bbfefd49abc7376e1ebffa14318be9d9a76bb"
 },
 "nbformat": 3,
 "nbformat_minor": 0,
 "worksheets": [
  {
   "cells": [
    {
     "cell_type": "heading",
     "level": 1,
     "metadata": {},
     "source": [
      "How To: Print out the theoretical decomposition"
     ]
    },
    {
     "cell_type": "code",
     "collapsed": false,
     "input": [
      "#Set up the path to SModelS installation folder if running on a different folder\n",
      "import sys\n",
      "sys.path.append(\"../\")"
     ],
     "language": "python",
     "metadata": {},
     "outputs": [],
     "prompt_number": 1
    },
    {
     "cell_type": "code",
     "collapsed": false,
     "input": [
      "#Import those parts of smodels that are needed for this exercise\n",
      "#(We will assume the input is a SLHA file. For LHE files, use the lheDecomposer instead)\n",
      "from smodels.theory import slhaDecomposer\n",
      "from smodels.installation import installDirectory\n",
      "from smodels.tools.physicsUnits import fb, GeV"
     ],
     "language": "python",
     "metadata": {},
     "outputs": [],
     "prompt_number": 2
    },
    {
     "cell_type": "code",
     "collapsed": false,
     "input": [
      "#Define the SLHA file name\n",
      "filename=\"%s/inputFiles/slha/lightSquarks.slha\" % installDirectory()"
     ],
     "language": "python",
     "metadata": {},
     "outputs": [],
     "prompt_number": 3
    },
    {
     "cell_type": "code",
     "collapsed": false,
     "input": [
      "#Perform the decomposition:\n",
      "listOfTopologies = slhaDecomposer.decompose (filename, sigcut = 0.5 * fb, doCompress=True, doInvisible=True,minmassgap = 5* GeV)"
     ],
     "language": "python",
     "metadata": {},
     "outputs": [
      {
       "output_type": "stream",
       "stream": "stdout",
       "text": [
        "15:22:44.736 WARNING  smodels.theory.slhaDecomposer:132 Ignoring t+ decays\n"
       ]
      },
      {
       "output_type": "stream",
       "stream": "stdout",
       "text": [
        "15:22:44.748 WARNING  smodels.theory.slhaDecomposer:132 Ignoring higgs decays\n"
       ]
      },
      {
       "output_type": "stream",
       "stream": "stdout",
       "text": [
        "15:22:44.749 WARNING  smodels.theory.slhaDecomposer:132 Ignoring H0 decays\n"
       ]
      },
      {
       "output_type": "stream",
       "stream": "stdout",
       "text": [
        "15:22:44.750 WARNING  smodels.theory.slhaDecomposer:132 Ignoring A0 decays\n"
       ]
      },
      {
       "output_type": "stream",
       "stream": "stdout",
       "text": [
        "15:22:44.750 WARNING  smodels.theory.slhaDecomposer:132 Ignoring H+ decays\n"
       ]
      },
      {
       "output_type": "stream",
       "stream": "stdout",
       "text": [
        "15:22:44.797 WARNING  smodels.theory.crossSection:512 Ignoring 76 lower order cross-sections\n"
       ]
      }
     ],
     "prompt_number": 4
    },
    {
     "cell_type": "code",
     "collapsed": false,
     "input": [
      "#Print a summary of all the topologies generated:\n",
      "listOfTopologies.printout()"
     ],
     "language": "python",
     "metadata": {},
     "outputs": [
      {
       "output_type": "stream",
       "stream": "stdout",
       "text": [
        "   ======================================================= \n",
        " || \t \t\t\t\t\t\t || \n",
        " || \t \t Global topologies table \t \t ||\n",
        " || \t \t\t\t\t\t\t || \n",
        "   ======================================================= \n",
        "===================================================== \n",
        "Topology:\n",
        "Number of vertices: [3, 2] \n",
        "Number of vertex parts: [[1, 1, 0], [1, 0]]\n",
        "Total Global topology weight :\n",
        "Sqrts: 8.00E+00 [TeV], Weight:6.72E-03 [pb]\n",
        "\n",
        "Total Number of Elements: 7\n",
        "===================================================== \n",
        "Topology:\n",
        "Number of vertices: [3, 3] \n",
        "Number of vertex parts: [[1, 1, 0], [1, 1, 0]]\n",
        "Total Global topology weight :\n",
        "Sqrts: 8.00E+00 [TeV], Weight:1.16E-02 [pb]\n",
        "\n",
        "Total Number of Elements: 7\n",
        "===================================================== \n",
        "Topology:\n",
        "Number of vertices: [2, 2] \n",
        "Number of vertex parts: [[2, 0], [1, 0]]\n",
        "Total Global topology weight :\n",
        "Sqrts: 8.00E+00 [TeV], Weight:1.63E-03 [pb]\n",
        "\n",
        "Total Number of Elements: 1\n",
        "===================================================== \n",
        "Topology:\n",
        "Number of vertices: [3, 2] \n",
        "Number of vertex parts: [[2, 1, 0], [1, 0]]\n",
        "Total Global topology weight :\n",
        "Sqrts: 8.00E+00 [TeV], Weight:1.66E-02 [pb]\n",
        "\n",
        "Total Number of Elements: 7\n",
        "===================================================== \n",
        "Topology:\n",
        "Number of vertices: [1, 2] \n",
        "Number of vertex parts: [[0], [1, 0]]\n",
        "Total Global topology weight :\n",
        "Sqrts: 8.00E+00 [TeV], Weight:6.15E-04 [pb]\n",
        "\n",
        "Total Number of Elements: 1\n",
        "===================================================== \n",
        "Topology:\n",
        "Number of vertices: [2, 2] \n",
        "Number of vertex parts: [[1, 0], [1, 0]]\n",
        "Total Global topology weight :\n",
        "Sqrts: 8.00E+00 [TeV], Weight:1.76E-01 [pb]\n",
        "\n",
        "Total Number of Elements: 7\n",
        "===================================================== \n",
        "Topology:\n",
        "Number of vertices: [3, 2] \n",
        "Number of vertex parts: [[1, 1, 0], [2, 0]]\n",
        "Total Global topology weight :\n",
        "Sqrts: 8.00E+00 [TeV], Weight:3.49E-03 [pb]\n",
        "\n",
        "Total Number of Elements: 2\n",
        "===================================================== \n",
        "Topology:\n",
        "Number of vertices: [3, 3] \n",
        "Number of vertex parts: [[1, 1, 0], [2, 1, 0]]\n",
        "Total Global topology weight :\n",
        "Sqrts: 8.00E+00 [TeV], Weight:4.03E-02 [pb]\n",
        "\n",
        "Total Number of Elements: 17\n",
        "\t .................................................. \n",
        "Number of vertex parts: [[2, 1, 0], [2, 1, 0]]\n",
        "Total Global topology weight :\n",
        "Sqrts: 8.00E+00 [TeV], Weight:2.06E-02 [pb]\n",
        "\n",
        "Total Number of Elements: 10\n",
        "\n"
       ]
      }
     ],
     "prompt_number": 5
    },
    {
     "cell_type": "code",
     "collapsed": false,
     "input": [
      "#To print specific information about othe i-th topology:\n",
      "i = 3\n",
      "top = listOfTopologies[i]\n",
      "print \"Number of vertices = \",top.vertnumb\n",
      "print \"Number of final states = \",top.vertparts\n",
      "print \"Number of elements = \",len(top.elementList)"
     ],
     "language": "python",
     "metadata": {},
     "outputs": [
      {
       "output_type": "stream",
       "stream": "stdout",
       "text": [
        "Number of vertices =  [3, 2]\n",
        "Number of final states =  [[2, 1, 0], [1, 0]]\n",
        "Number of elements =  7\n"
       ]
      }
     ],
     "prompt_number": 6
    },
    {
     "cell_type": "code",
     "collapsed": false,
     "input": [
      "#We can also print information for each element in the list:\n",
      "for element in top.elementList:\n",
      "    element.printout()    "
     ],
     "language": "python",
     "metadata": {},
     "outputs": [
      {
       "output_type": "stream",
       "stream": "stdout",
       "text": [
        "\t\t Particles in element: [[['b', 't-'], ['W+']], [['jet']]]\n",
        "\t\t The element masses are \n",
        "\t\t Branch 0: [8.65E+02 [GeV], 2.69E+02 [GeV], 1.29E+02 [GeV]]\n",
        "\t\t Branch 1: [9.91E+02 [GeV], 1.29E+02 [GeV]]\n",
        "\t\t The element weights are: \n",
        " \t\t Sqrts: 8.00E+00 [TeV], Weight:1.98E-03 [pb]\n",
        "\n",
        "\t\t Particles in element: [[['t+', 'b'], ['W-']], [['jet']]]\n",
        "\t\t The element masses are \n",
        "\t\t Branch 0: [8.65E+02 [GeV], 2.69E+02 [GeV], 1.29E+02 [GeV]]\n",
        "\t\t Branch 1: [9.91E+02 [GeV], 1.29E+02 [GeV]]\n",
        "\t\t The element weights are: \n",
        " \t\t Sqrts: 8.00E+00 [TeV], Weight:1.98E-03 [pb]\n",
        "\n",
        "\t\t Particles in element: [[['jet', 'jet'], ['W+']], [['jet']]]\n",
        "\t\t The element masses are \n",
        "\t\t Branch 0: [8.65E+02 [GeV], 2.69E+02 [GeV], 1.29E+02 [GeV]]\n",
        "\t\t Branch 1: [9.91E+02 [GeV], 1.29E+02 [GeV]]\n",
        "\t\t The element weights are: \n",
        " \t\t Sqrts: 8.00E+00 [TeV], Weight:3.91E-03 [pb]\n",
        "\n",
        "\t\t Particles in element: [[['jet', 'jet'], ['W-']], [['jet']]]\n",
        "\t\t The element masses are \n",
        "\t\t Branch 0: [8.65E+02 [GeV], 2.69E+02 [GeV], 1.29E+02 [GeV]]\n",
        "\t\t Branch 1: [9.91E+02 [GeV], 1.29E+02 [GeV]]\n",
        "\t\t The element weights are: \n",
        " \t\t Sqrts: 8.00E+00 [TeV], Weight:3.91E-03 [pb]\n",
        "\n",
        "\t\t Particles in element: [[['b', 'b'], ['higgs']], [['jet']]]\n",
        "\t\t The element masses are \n",
        "\t\t Branch 0: [8.65E+02 [GeV], 2.69E+02 [GeV], 1.29E+02 [GeV]]\n",
        "\t\t Branch 1: [9.91E+02 [GeV], 1.29E+02 [GeV]]\n",
        "\t\t The element weights are: \n",
        " \t\t Sqrts: 8.00E+00 [TeV], Weight:1.06E-03 [pb]\n",
        "\n",
        "\t\t Particles in element: [[['jet', 'jet'], ['higgs']], [['jet']]]\n",
        "\t\t The element masses are \n",
        "\t\t Branch 0: [8.65E+02 [GeV], 2.69E+02 [GeV], 1.29E+02 [GeV]]\n",
        "\t\t Branch 1: [9.91E+02 [GeV], 1.29E+02 [GeV]]\n",
        "\t\t The element weights are: \n",
        " \t\t Sqrts: 8.00E+00 [TeV], Weight:3.28E-03 [pb]\n",
        "\n",
        "\t\t Particles in element: [[['t+', 't-'], ['higgs']], [['jet']]]\n",
        "\t\t The element masses are \n",
        "\t\t Branch 0: [8.65E+02 [GeV], 2.69E+02 [GeV], 1.29E+02 [GeV]]\n",
        "\t\t Branch 1: [9.91E+02 [GeV], 1.29E+02 [GeV]]\n",
        "\t\t The element weights are: \n",
        " \t\t Sqrts: 8.00E+00 [TeV], Weight:5.15E-04 [pb]\n",
        "\n"
       ]
      }
     ],
     "prompt_number": 7
    },
    {
     "cell_type": "code",
     "collapsed": false,
     "input": [
      "#The element information can be also accessed directly:\n",
      "el = top.elementList[0]\n",
      "print \"Final states = \",el.getParticles()\n",
      "print \"Mass array = \",el.getMasses()\n",
      "print \"Weight = \",el.weight.niceStr()"
     ],
     "language": "python",
     "metadata": {},
     "outputs": [
      {
       "output_type": "stream",
       "stream": "stdout",
       "text": [
        "Final states =  [[['b', 't-'], ['W+']], [['jet']]]\n",
        "Mass array =  [[8.65E+02 [GeV], 2.69E+02 [GeV], 1.29E+02 [GeV]], [9.91E+02 [GeV], 1.29E+02 [GeV]]]\n",
        "Weight =  Sqrts: 8.00E+00 [TeV], Weight:1.98E-03 [pb]\n",
        "\n"
       ]
      }
     ],
     "prompt_number": 8
    },
    {
     "cell_type": "code",
     "collapsed": false,
     "input": [],
     "language": "python",
     "metadata": {},
     "outputs": [],
     "prompt_number": 8
    }
   ],
   "metadata": {}
  }
 ]
}
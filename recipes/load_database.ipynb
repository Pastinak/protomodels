{
 "metadata": {
  "name": "",
  "signature": "sha256:5c5a2aaf77919c1774789ce4965be506c7bbeff3d81894161d8a040ba618624b"
 },
 "nbformat": 3,
 "nbformat_minor": 0,
 "worksheets": [
  {
   "cells": [
    {
     "cell_type": "heading",
     "level": 1,
     "metadata": {},
     "source": [
      "Recipe: load the database, filtering out only a few results. Will be obsolete with the database browser"
     ]
    },
    {
     "cell_type": "code",
     "collapsed": false,
     "input": [
      "import sys ## ugly hack to make sure smodels is in your path\n",
      "sys.path.append(\"../\")"
     ],
     "language": "python",
     "metadata": {},
     "outputs": [],
     "prompt_number": 1
    },
    {
     "cell_type": "code",
     "collapsed": false,
     "input": [
      "from smodels.experiment import smsAnalysisFactory, smsHelpers\n",
      "from smodels.tools.physicsUnits import GeV"
     ],
     "language": "python",
     "metadata": {},
     "outputs": [],
     "prompt_number": 2
    },
    {
     "cell_type": "code",
     "collapsed": false,
     "input": [
      "smsHelpers.base=\"../test/database/\" ## define where the database resides"
     ],
     "language": "python",
     "metadata": {},
     "outputs": [],
     "prompt_number": 3
    },
    {
     "cell_type": "code",
     "collapsed": false,
     "input": [
      "analyses=[\"SUS12011\"]\n",
      "topologies=[\"T1\"]"
     ],
     "language": "python",
     "metadata": {},
     "outputs": [],
     "prompt_number": 4
    },
    {
     "cell_type": "code",
     "collapsed": false,
     "input": [
      "list_of_results=smsAnalysisFactory.load(analyses,topologies) ## load only the given analyses and topos"
     ],
     "language": "python",
     "metadata": {},
     "outputs": [],
     "prompt_number": 5
    },
    {
     "cell_type": "code",
     "collapsed": false,
     "input": [
      "masses=[[300*GeV,100*GeV],[300*GeV,100*GeV]]"
     ],
     "language": "python",
     "metadata": {},
     "outputs": [],
     "prompt_number": 6
    },
    {
     "cell_type": "code",
     "collapsed": false,
     "input": [
      "for result in list_of_results:\n",
      "    print(\"result.label:     \\t\\t%s\" % result.label )\n",
      "    print(\"result.sqrts:     \\t\\t%s\" % result.sqrts )\n",
      "    print(\"result.conditions:\\t\\t%s\" % result.conditions )\n",
      "    print(\"result.constraint:\\t\\t%s\" % result.constraint )\n",
      "    print(\"upper limit for mass vector:\\t\\t%s\" % result.getUpperLimitFor(masses))"
     ],
     "language": "python",
     "metadata": {},
     "outputs": [
      {
       "output_type": "stream",
       "stream": "stdout",
       "text": [
        "result.label:     \t\tSUS12011:T1\n",
        "result.sqrts:     \t\t7.00E+00 [TeV]\n",
        "result.conditions:\t\t['None']\n",
        "result.constraint:\t\t[[['jet','jet']],[['jet','jet']]]\n",
        "upper limit for mass vector:\t\t5.12E+00 [pb]"
       ]
      },
      {
       "output_type": "stream",
       "stream": "stdout",
       "text": [
        "\n"
       ]
      }
     ],
     "prompt_number": 7
    },
    {
     "cell_type": "code",
     "collapsed": false,
     "input": [],
     "language": "python",
     "metadata": {},
     "outputs": []
    }
   ],
   "metadata": {}
  }
 ]
}
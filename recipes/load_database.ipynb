{
 "metadata": {
  "name": "",
  "signature": "sha256:8ffaab11bc90881d05f252e92a77db99d164da45656ddf15f2376da3a18feb6a"
 },
 "nbformat": 3,
 "nbformat_minor": 0,
 "worksheets": [
  {
   "cells": [
    {
     "cell_type": "heading",
     "level": 1,
     "metadata": {},
     "source": [
      "Recipe: load the database, filtering out only a few results. Will be obsolete with the database browser"
     ]
    },
    {
     "cell_type": "code",
     "collapsed": false,
     "input": [
      "import sys ## ugly hack to make sure smodels is in your path\n",
      "sys.path.append(\"../\")"
     ],
     "language": "python",
     "metadata": {},
     "outputs": [],
     "prompt_number": 1
    },
    {
     "cell_type": "code",
     "collapsed": false,
     "input": [
      "from smodels.experiment import smsAnalysisFactory, smsHelpers\n",
      "from smodels.tools.physicsUnits import GeV"
     ],
     "language": "python",
     "metadata": {},
     "outputs": [],
     "prompt_number": 2
    },
    {
     "cell_type": "code",
     "collapsed": false,
     "input": [
      "## smsHelpers.base=\"../../smodels-database/\" ## define where the database resides"
     ],
     "language": "python",
     "metadata": {},
     "outputs": [],
     "prompt_number": 3
    },
    {
     "cell_type": "code",
     "collapsed": false,
     "input": [
      "analyses=[\"SUS13006\"]\n",
      "topologies=[\"TSlepSlep\"]"
     ],
     "language": "python",
     "metadata": {},
     "outputs": [],
     "prompt_number": 4
    },
    {
     "cell_type": "code",
     "collapsed": false,
     "input": [
      "list_of_results=smsAnalysisFactory.load() ## load only the given analyses and topos"
     ],
     "language": "python",
     "metadata": {},
     "outputs": [
      {
       "output_type": "stream",
       "stream": "stdout",
       "text": [
        "11:47:39.881 INFO     smodels.experiment.smsAnalysisFactory:58  Skipping private analysis SUS14002.\n"
       ]
      },
      {
       "output_type": "stream",
       "stream": "stdout",
       "text": [
        "11:47:39.882 WARNING  smodels.experiment.smsAnalysisFactory:87  Skipping SUS12006MT TChiWZ (TChiWZ), Condition does not exist.\n"
       ]
      },
      {
       "output_type": "stream",
       "stream": "stdout",
       "text": [
        "11:47:39.883 INFO     smodels.experiment.smsAnalysisFactory:58  Skipping private analysis SUS12018.\n"
       ]
      },
      {
       "output_type": "stream",
       "stream": "stdout",
       "text": [
        "11:47:39.889 INFO     smodels.experiment.smsAnalysisFactory:58  Skipping private analysis T1ttttCombination8TeV.\n"
       ]
      },
      {
       "output_type": "stream",
       "stream": "stdout",
       "text": [
        "11:47:39.893 INFO     smodels.experiment.smsAnalysisFactory:58  Skipping private analysis SUS13022.\n"
       ]
      },
      {
       "output_type": "stream",
       "stream": "stdout",
       "text": [
        "11:47:39.901 WARNING  smodels.experiment.smsAnalysisFactory:87  Skipping SUS13019 T2_OneSq (T2_OneSq), Condition does not exist.\n"
       ]
      },
      {
       "output_type": "stream",
       "stream": "stdout",
       "text": [
        "11:47:39.904 WARNING  smodels.experiment.smsAnalysisFactory:87  Skipping SUS13012 T2_OneSq (T2_OneSq), Condition does not exist.\n"
       ]
      },
      {
       "output_type": "stream",
       "stream": "stdout",
       "text": [
        "11:47:39.910 INFO     smodels.experiment.smsAnalysisFactory:58  Skipping private analysis SUS13014.\n"
       ]
      },
      {
       "output_type": "stream",
       "stream": "stdout",
       "text": [
        "11:47:39.911 INFO     smodels.experiment.smsAnalysisFactory:58  Skipping private analysis SUS13015.\n"
       ]
      },
      {
       "output_type": "stream",
       "stream": "stdout",
       "text": [
        "11:47:39.920 WARNING  smodels.experiment.smsAnalysisFactory:87  Skipping ATLAS_CONF_2013_007 T7tbtbWW (T7tbtbWW), Condition does not exist.\n"
       ]
      },
      {
       "output_type": "stream",
       "stream": "stdout",
       "text": [
        "11:47:39.921 INFO     smodels.experiment.smsAnalysisFactory:58  Skipping private analysis SUS13009.\n"
       ]
      },
      {
       "output_type": "stream",
       "stream": "stdout",
       "text": [
        "11:47:39.923 INFO     smodels.experiment.smsAnalysisFactory:58  Skipping private analysis SUS13007LS.\n"
       ]
      },
      {
       "output_type": "stream",
       "stream": "stdout",
       "text": [
        "11:47:39.946 INFO     smodels.experiment.smsAnalysisFactory:58  Skipping private analysis SUCHI_RL_TEST.\n"
       ]
      },
      {
       "output_type": "stream",
       "stream": "stdout",
       "text": [
        "11:47:39.948 INFO     smodels.experiment.smsAnalysisFactory:58  Skipping private analysis RazorMono8TeV.\n"
       ]
      },
      {
       "output_type": "stream",
       "stream": "stdout",
       "text": [
        "11:47:39.950 INFO     smodels.experiment.smsAnalysisFactory:58  Skipping private analysis ATLAS_CONF_2013_068.\n"
       ]
      },
      {
       "output_type": "stream",
       "stream": "stdout",
       "text": [
        "11:47:39.954 INFO     smodels.experiment.smsAnalysisFactory:58  Skipping private analysis SUS12001MET.\n"
       ]
      },
      {
       "output_type": "stream",
       "stream": "stdout",
       "text": [
        "11:47:39.959 WARNING  smodels.experiment.smsAnalysisFactory:87  Skipping SUS14011 T2ttComb (T2ttComb), Condition does not exist.\n"
       ]
      },
      {
       "output_type": "stream",
       "stream": "stdout",
       "text": [
        "11:47:39.959 INFO     smodels.experiment.smsAnalysisFactory:58  Skipping private analysis SUS11011shape.\n"
       ]
      },
      {
       "output_type": "stream",
       "stream": "stdout",
       "text": [
        "11:47:39.960 INFO     smodels.experiment.smsAnalysisFactory:58  Skipping private analysis SUS12010LP.\n"
       ]
      },
      {
       "output_type": "stream",
       "stream": "stdout",
       "text": [
        "11:47:39.961 INFO     smodels.experiment.smsAnalysisFactory:58  Skipping private analysis DileptonicStop8TeV.\n"
       ]
      },
      {
       "output_type": "stream",
       "stream": "stdout",
       "text": [
        "11:47:39.964 WARNING  smodels.experiment.smsAnalysisFactory:87  Skipping SUS12028 T2_OneSq (T2_OneSq), Condition does not exist.\n"
       ]
      },
      {
       "output_type": "stream",
       "stream": "stdout",
       "text": [
        "11:47:39.974 INFO     smodels.experiment.smsAnalysisFactory:58  Skipping private analysis ATLAS_CONF_2013_047.\n"
       ]
      }
     ],
     "prompt_number": 5
    },
    {
     "cell_type": "code",
     "collapsed": false,
     "input": [
      "masses=[[300*GeV,100*GeV],[300*GeV,100*GeV]]"
     ],
     "language": "python",
     "metadata": {},
     "outputs": [],
     "prompt_number": 6
    },
    {
     "cell_type": "code",
     "collapsed": false,
     "input": [
      "for result in list_of_results:\n",
      "    print(\"result.label:     \\t\\t%s\" % result.label )\n",
      "    print(\"result.sqrts:     \\t\\t%s\" % result.sqrts )\n",
      "    print(\"result.conditions:\\t\\t%s\" % result.conditions )\n",
      "    print(\"result.constraint:\\t\\t%s\" % result.constraint )\n",
      "    print(\"upper limit for mass vector:\\t\\t%s\" % result.getUpperLimitFor(masses))"
     ],
     "language": "python",
     "metadata": {},
     "outputs": [
      {
       "output_type": "stream",
       "stream": "stdout",
       "text": [
        "result.label:     \t\tATLAS_CONF_2013_053:T2bb\n",
        "result.sqrts:     \t\t8.00E+00 [TeV]\n",
        "result.conditions:\t\t['None']\n",
        "result.constraint:\t\t[[['b']],[['b']]]\n",
        "upper limit for mass vector:\t\t1.70E-01 [pb]\n",
        "result.label:     \t\tSUS11022:T1tttt\n",
        "result.sqrts:     \t\t7.00E+00 [TeV]\n",
        "result.conditions:\t\t['None']\n",
        "result.constraint:\t\t[[['t','t']],[['t','t']]]\n",
        "upper limit for mass vector:\t\tNone"
       ]
      },
      {
       "output_type": "stream",
       "stream": "stdout",
       "text": [
        "\n",
        "result.label:     \t\tSUS11022:T2tt\n",
        "result.sqrts:     \t\t7.00E+00 [TeV]\n",
        "result.conditions:\t\t['None']\n",
        "result.constraint:\t\t[[['t']],[['t']]]\n",
        "upper limit for mass vector:\t\tNone"
       ]
      },
      {
       "output_type": "stream",
       "stream": "stdout",
       "text": [
        "\n",
        "result.label:     \t\tSUS11022:T1bbbb\n",
        "result.sqrts:     \t\t7.00E+00 [TeV]\n",
        "result.conditions:\t\t['None']\n",
        "result.constraint:\t\t[[['b','b']],[['b','b']]]\n",
        "upper limit for mass vector:\t\tNone"
       ]
      },
      {
       "output_type": "stream",
       "stream": "stdout",
       "text": [
        "\n",
        "result.label:     \t\tSUS11022:T2\n",
        "result.sqrts:     \t\t7.00E+00 [TeV]\n",
        "result.conditions:\t\t['None']\n",
        "result.constraint:\t\t[[['jet']],[['jet']]]\n",
        "upper limit for mass vector:\t\tNone"
       ]
      },
      {
       "output_type": "stream",
       "stream": "stdout",
       "text": [
        "\n",
        "result.label:     \t\tSUS11022:T1\n",
        "result.sqrts:     \t\t7.00E+00 [TeV]\n",
        "result.conditions:\t\t['None']\n",
        "result.constraint:\t\t[[['jet','jet']],[['jet','jet']]]\n",
        "upper limit for mass vector:\t\tNone"
       ]
      },
      {
       "output_type": "stream",
       "stream": "stdout",
       "text": [
        "\n",
        "result.label:     \t\tSUS11022:T2bb\n",
        "result.sqrts:     \t\t7.00E+00 [TeV]\n",
        "result.conditions:\t\t['None']\n",
        "result.constraint:\t\t[[['b']],[['b']]]\n",
        "upper limit for mass vector:\t\tNone"
       ]
      },
      {
       "output_type": "stream",
       "stream": "stdout",
       "text": [
        "\n",
        "result.label:     \t\tATLAS_CONF_2013_025:T6ttZZ\n",
        "result.sqrts:     \t\t8.00E+00 [TeV]\n",
        "result.conditions:\t\t['None']\n",
        "result.constraint:\t\t[[['Z'],['t']],[['Z'],['t']]]\n",
        "11:47:40.382 ERROR    smodels.experiment.smsInterpolation:52  Need intermediate mass input for ATLAS_CONF_2013_025/T6ttZZ.\n"
       ]
      },
      {
       "output_type": "stream",
       "stream": "stdout",
       "text": [
        "upper limit for mass vector:\t\tNone\n",
        "result.label:     \t\tATLAS_CONF_2013_024:T2tt\n",
        "result.sqrts:     \t\t8.00E+00 [TeV]\n",
        "result.conditions:\t\t['None']\n",
        "result.constraint:\t\t[[['t']],[['t']]]\n",
        "upper limit for mass vector:\t\t6.00E+01 [pb]\n",
        "result.label:     \t\tATLAS_CONF_2013_028:TChiChipmStauL\n",
        "result.sqrts:     \t\t8.00E+00 [TeV]\n",
        "result.conditions:\t\t['Csim([[[nu],[ta]],[[ta+],[ta-]]],[[[ta],[nu]],[[ta+],[ta-]]],[[[nu],[ta]],[[ta-],[ta+]]],[[[ta],[nu]],[[ta-],[ta+]]])']\n",
        "result.constraint:\t\t2.*([[['nu'],['ta']],[['ta+'],['ta-']]] + [[['ta'],['nu']],[['ta+'],['ta-']]]+[[['nu'],['ta']],[['ta-'],['ta+']]] + [[['ta'],['nu']],[['ta-'],['ta+']]])\n",
        "11:47:40.420 ERROR    smodels.experiment.smsInterpolation:52  Need intermediate mass input for ATLAS_CONF_2013_028/TChiChipmStauL.\n"
       ]
      },
      {
       "output_type": "stream",
       "stream": "stdout",
       "text": [
        "upper limit for mass vector:\t\tNone\n",
        "result.label:     \t\tATLAS_CONF_2013_028:TChipChimStauSnu\n",
        "result.sqrts:     \t\t8.00E+00 [TeV]\n",
        "result.conditions:\t\t['Csim([[[ta-],[nu]],[[nu],[ta+]]],[[[ta+],[nu]],[[nu],[ta-]]],[[[ta+],[nu]],[[ta-],[nu]]],[[[nu],[ta+]],[[nu],[ta-]]])']\n",
        "result.constraint:\t\t[[['ta-'],['nu']],[['nu'],['ta+']]] + [[['ta+'],['nu']],[['nu'],['ta-']]] + [[['ta+'],['nu']],[['ta-'],['nu']]] + [[['nu'],['ta+']],[['nu'],['ta-']]]\n",
        "11:47:40.422 ERROR    smodels.experiment.smsInterpolation:52  Need intermediate mass input for ATLAS_CONF_2013_028/TChipChimStauSnu.\n"
       ]
      },
      {
       "output_type": "stream",
       "stream": "stdout",
       "text": [
        "upper limit for mass vector:\t\tNone\n",
        "result.label:     \t\tSUS12005:T2\n",
        "result.sqrts:     \t\t7.00E+00 [TeV]\n",
        "result.conditions:\t\t['None']\n",
        "result.constraint:\t\t[[['jet']],[['jet']]]\n",
        "upper limit for mass vector:\t\t3.47E-01 [pb]"
       ]
      },
      {
       "output_type": "stream",
       "stream": "stdout",
       "text": [
        "\n",
        "result.label:     \t\tSUS13024:T6ZZtt\n",
        "result.sqrts:     \t\t8.00E+00 [TeV]\n",
        "result.conditions:\t\t['None']\n",
        "result.constraint:\t\t[[['Z'],['t']],[['Z'],['t']]]\n",
        "11:47:40.609 ERROR    smodels.experiment.smsInterpolation:52  Need intermediate mass input for SUS13024/T6ZZtt.\n"
       ]
      },
      {
       "output_type": "stream",
       "stream": "stdout",
       "text": [
        "upper limit for mass vector:\t\tNone\n",
        "result.label:     \t\tSUS13024:T6HHtt\n",
        "result.sqrts:     \t\t8.00E+00 [TeV]\n",
        "result.conditions:\t\t['None']\n",
        "result.constraint:\t\t[[['higgs'],['t']],[['higgs'],['t']]]\n",
        "11:47:40.611 ERROR    smodels.experiment.smsInterpolation:52  Need intermediate mass input for SUS13024/T6HHtt.\n"
       ]
      },
      {
       "output_type": "stream",
       "stream": "stdout",
       "text": [
        "upper limit for mass vector:\t\tNone\n",
        "result.label:     \t\tSUS13021:T6ttHH\n",
        "result.sqrts:     \t\t8.00E+00 [TeV]\n",
        "result.conditions:\t\t['None']\n",
        "result.constraint:\t\t[[['higgs'],['t']],[['higgs'],['t']]]\n",
        "11:47:40.615 ERROR    smodels.experiment.smsInterpolation:52  Need intermediate mass input for SUS13021/T6ttHH.\n"
       ]
      },
      {
       "output_type": "stream",
       "stream": "stdout",
       "text": [
        "upper limit for mass vector:\t\tNone\n",
        "result.label:     \t\tATLAS_CONF_2013_035:TChiWZoff\n",
        "result.sqrts:     \t\t8.00E+00 [TeV]\n",
        "result.conditions:\t\t['Cgtr([[[mu+,mu-]],[[l,nu]]],[[[e+,e-]],[[l,nu]]])']\n",
        "result.constraint:\t\t71.*([[['mu+','mu-']],[['l','nu']]] + [[['e+','e-']],[['l','nu']]])\n",
        "upper limit for mass vector:\t\tNone\n",
        "result.label:     \t\tATLAS_CONF_2013_035:TChiWZon\n",
        "result.sqrts:     \t\t8.00E+00 [TeV]\n",
        "result.conditions:\t\t['None']\n",
        "result.constraint:\t\t[[['W']],[['Z']]]\n",
        "11:47:40.635 WARNING  smodels.experiment.smsHelpers:194 Dictionary does not have topology TChiWZon.\n"
       ]
      },
      {
       "output_type": "stream",
       "stream": "stdout",
       "text": [
        "upper limit for mass vector:\t\tNone\n",
        "result.label:     \t\tATLAS_CONF_2013_035:TChiChipmSlepL\n",
        "result.sqrts:     \t\t8.00E+00 [TeV]\n",
        "result.conditions:\t\t['Csim([[[L],[L]],[[L],[nu]]],[[[L],[L]],[[nu],[L]]])', 'Cgtr([[[L],[L]],[[nu],[L]]],3.*[[[ta],[ta]],[[nu],[L]]])', 'Cgtr([[[L],[L]],[[L],[nu]]],3.*[[[ta],[ta]],[[L],[nu]]])', 'Cgtr([[[L],[L]],[[nu],[L]]],3.*[[[L],[L]],[[nu],[ta]]])', 'Cgtr([[[L],[L]],[[L],[nu]]],3.*[[[L],[L]],[[ta],[nu]]])', 'Cgtr([[[L],[L]],[[nu],[L]]],3.*[[[e],[e]],[[nu],[L]]])', 'Cgtr([[[L],[L]],[[L],[nu]]],3.*[[[e],[e]],[[L],[nu]]])', 'Cgtr([[[L],[L]],[[nu],[L]]],3.*[[[L],[L]],[[nu],[e]]])', 'Cgtr([[[L],[L]],[[L],[nu]]],3.*[[[L],[L]],[[e],[nu]]])']\n",
        "result.constraint:\t\t2.*([[['L'],['L']],[['L'],['nu']]] + [[['L'],['L']],[['nu'],['L']]])\n",
        "11:47:40.636 ERROR    smodels.experiment.smsInterpolation:52  Need intermediate mass input for ATLAS_CONF_2013_035/TChiChipmSlepL.\n"
       ]
      },
      {
       "output_type": "stream",
       "stream": "stdout",
       "text": [
        "upper limit for mass vector:\t\tNone\n",
        "result.label:     \t\tATLAS_CONF_2013_036:TChiChiSlepSlep\n",
        "result.sqrts:     \t\t8.00E+00 [TeV]\n",
        "result.conditions:\t\t['Csim([[[l+],[l-]],[[l+],[l-]]],[[[l-],[l+]],[[l-],[l+]]],0.5*[[[l+],[l-]],[[l-],[l+]]])', 'Csim([[[mu+],[mu-]],[[e+],[e-]]],2.*[[[mu+],[mu-]],[[mu+],[mu-]]],2.*[[[e+],[e-]],[[e+],[e-]]])', 'Csim([[[mu-],[mu+]],[[e-],[e+]]],2.*[[[e-],[e+]],[[e-],[e+]]],2.*[[[mu-],[mu+]],[[mu-],[mu+]]])', 'Csim([[[mu+],[mu-]],[[e-],[e+]]],2.*[[[e+],[e-]],[[e-],[e+]]],2.*[[[mu+],[mu-]],[[mu-],[mu+]]])']\n",
        "result.constraint:\t\t[[['l+'],['l-']],[['l+'],['l-']]]+[[['l-'],['l+']],[['l-'],['l+']]]+[[['l+'],['l-']],[['l-'],['l+']]]\n",
        "11:47:40.639 ERROR    smodels.experiment.smsInterpolation:52  Need intermediate mass input for ATLAS_CONF_2013_036/TChiChiSlepSlep.\n"
       ]
      },
      {
       "output_type": "stream",
       "stream": "stdout",
       "text": [
        "upper limit for mass vector:\t\tNone\n",
        "result.label:     \t\tATLAS_CONF_2013_037:T2tt\n",
        "result.sqrts:     \t\t8.00E+00 [TeV]\n",
        "result.conditions:\t\t['None']\n",
        "result.constraint:\t\t[[['t']],[['t']]]\n",
        "upper limit for mass vector:\t\t9.00E-01 [pb]\n",
        "result.label:     \t\tATLAS_CONF_2013_037:T6bbWW\n",
        "result.sqrts:     \t\t8.00E+00 [TeV]\n",
        "result.conditions:\t\t['None']\n",
        "result.constraint:\t\t[[['b'],['W']],[['b'],['W']]]\n",
        "11:47:40.653 ERROR    smodels.experiment.smsInterpolation:52  Need intermediate mass input for ATLAS_CONF_2013_037/T6bbWW.\n"
       ]
      },
      {
       "output_type": "stream",
       "stream": "stdout",
       "text": [
        "upper limit for mass vector:\t\tNone\n",
        "result.label:     \t\tATLAS_CONF_2013_037:T6bbWWoff\n",
        "result.sqrts:     \t\t8.00E+00 [TeV]\n",
        "result.conditions:\t\t['notyetassigned']\n",
        "result.constraint:\t\tnot yet assigned\n",
        "11:47:40.653 ERROR    smodels.experiment.smsInterpolation:52  Need intermediate mass input for ATLAS_CONF_2013_037/T6bbWWoff.\n"
       ]
      },
      {
       "output_type": "stream",
       "stream": "stdout",
       "text": [
        "upper limit for mass vector:\t\tNone\n",
        "result.label:     \t\tSUS13019:T1tttt\n",
        "result.sqrts:     \t\t8.00E+00 [TeV]\n",
        "result.conditions:\t\t['None']\n",
        "result.constraint:\t\t[[['t','t']],[['t','t']]]\n",
        "upper limit for mass vector:\t\tNone"
       ]
      },
      {
       "output_type": "stream",
       "stream": "stdout",
       "text": [
        "\n",
        "result.label:     \t\tSUS13019:T5WH\n",
        "result.sqrts:     \t\t8.00E+00 [TeV]\n",
        "result.conditions:\t\t['None']\n",
        "result.constraint:\t\t[[['jet','jet'],['W']],[['jet','jet'],['higgs']]]\n",
        "11:47:40.805 ERROR    smodels.experiment.smsInterpolation:52  Need intermediate mass input for SUS13019/T5WH.\n"
       ]
      },
      {
       "output_type": "stream",
       "stream": "stdout",
       "text": [
        "upper limit for mass vector:\t\tNone\n",
        "result.label:     \t\tSUS13019:T2tt\n",
        "result.sqrts:     \t\t8.00E+00 [TeV]\n",
        "result.conditions:\t\t['None']\n",
        "result.constraint:\t\t[[['t']],[['t']]]\n",
        "upper limit for mass vector:\t\t2.79E+00 [pb]"
       ]
      },
      {
       "output_type": "stream",
       "stream": "stdout",
       "text": [
        "\n",
        "result.label:     \t\tSUS13019:T1bbbb\n",
        "result.sqrts:     \t\t8.00E+00 [TeV]\n",
        "result.conditions:\t\t['None']\n",
        "result.constraint:\t\t[[['b','b']],[['b','b']]]\n",
        "upper limit for mass vector:\t\tNone"
       ]
      },
      {
       "output_type": "stream",
       "stream": "stdout",
       "text": [
        "\n",
        "result.label:     \t\tSUS13019:T2\n",
        "result.sqrts:     \t\t8.00E+00 [TeV]\n",
        "result.conditions:\t\t['None']\n",
        "result.constraint:\t\t[[['jet']],[['jet']]]\n",
        "upper limit for mass vector:\t\t7.38E-01 [pb]"
       ]
      },
      {
       "output_type": "stream",
       "stream": "stdout",
       "text": [
        "\n",
        "result.label:     \t\tSUS13019:T1\n",
        "result.sqrts:     \t\t8.00E+00 [TeV]\n",
        "result.conditions:\t\t['None']\n",
        "result.constraint:\t\t[[['jet','jet']],[['jet','jet']]]\n",
        "upper limit for mass vector:\t\tNone"
       ]
      },
      {
       "output_type": "stream",
       "stream": "stdout",
       "text": [
        "\n",
        "result.label:     \t\tSUS13019:T1ttttoff\n",
        "result.sqrts:     \t\t8.00E+00 [TeV]\n",
        "result.conditions:\t\t['None']\n",
        "result.constraint:\t\t[[['b','b','W','W']],[['b','b','W','W']]]\n",
        "upper limit for mass vector:\t\tNone"
       ]
      },
      {
       "output_type": "stream",
       "stream": "stdout",
       "text": [
        "\n",
        "result.label:     \t\tSUS13019:T2bb\n",
        "result.sqrts:     \t\t8.00E+00 [TeV]\n",
        "result.conditions:\t\t['None']\n",
        "result.constraint:\t\t[[['b']],[['b']]]\n",
        "upper limit for mass vector:\t\t4.29E-01 [pb]"
       ]
      },
      {
       "output_type": "stream",
       "stream": "stdout",
       "text": [
        "\n",
        "result.label:     \t\tSUS12011:T2\n",
        "result.sqrts:     \t\t7.00E+00 [TeV]\n",
        "result.conditions:\t\t['None']\n",
        "result.constraint:\t\t[[['jet']],[['jet']]]\n",
        "upper limit for mass vector:\t\t2.85E+00 [pb]"
       ]
      },
      {
       "output_type": "stream",
       "stream": "stdout",
       "text": [
        "\n",
        "result.label:     \t\tSUS12011:T1bbbb\n",
        "result.sqrts:     \t\t7.00E+00 [TeV]\n",
        "result.conditions:\t\t['None']\n",
        "result.constraint:\t\t[[['b','b']],[['b','b']]]\n",
        "upper limit for mass vector:\t\t5.63E+00 [pb]"
       ]
      },
      {
       "output_type": "stream",
       "stream": "stdout",
       "text": [
        "\n",
        "result.label:     \t\tSUS13012:T2\n",
        "result.sqrts:     \t\t8.00E+00 [TeV]\n",
        "result.conditions:\t\t['None']\n",
        "result.constraint:\t\t[[['jet']],[['jet']]]\n",
        "upper limit for mass vector:\t\t1.50E+00 [pb]"
       ]
      },
      {
       "output_type": "stream",
       "stream": "stdout",
       "text": [
        "\n",
        "result.label:     \t\tSUS13012:T1ttttoff\n",
        "result.sqrts:     \t\t8.00E+00 [TeV]\n",
        "result.conditions:\t\t['None']\n",
        "result.constraint:\t\t[[['b','b','W','W']],[['b','b','W','W']]]\n",
        "upper limit for mass vector:\t\tNone\n",
        "result.label:     \t\tSUS13012:T1tttt\n",
        "result.sqrts:     \t\t8.00E+00 [TeV]\n",
        "result.conditions:\t\t['None']\n",
        "result.constraint:\t\t[[['t','t']],[['t','t']]]\n",
        "upper limit for mass vector:\t\tNone"
       ]
      },
      {
       "output_type": "stream",
       "stream": "stdout",
       "text": [
        "\n",
        "result.label:     \t\tSUS13012:T1\n",
        "result.sqrts:     \t\t8.00E+00 [TeV]\n",
        "result.conditions:\t\t['None']\n",
        "result.constraint:\t\t[[['jet','jet']],[['jet','jet']]]\n",
        "upper limit for mass vector:\t\tNone"
       ]
      },
      {
       "output_type": "stream",
       "stream": "stdout",
       "text": [
        "\n",
        "result.label:     \t\tSUS13013:T6ttWW\n",
        "result.sqrts:     \t\t8.00E+00 [TeV]\n",
        "result.conditions:\t\t['None']\n",
        "result.constraint:\t\t[[['t+'],['W-']],[['t+'],['W-']]]+[[['t-'],['W+']],[['t-'],['W+']]]+[[['t+'],['W-']],[['t-'],['W+']]]\n",
        "11:47:41.746 ERROR    smodels.experiment.smsInterpolation:52  Need intermediate mass input for SUS13013/T6ttWW.\n"
       ]
      },
      {
       "output_type": "stream",
       "stream": "stdout",
       "text": [
        "upper limit for mass vector:\t\tNone\n",
        "result.label:     \t\tSUS13013:T1tttt\n",
        "result.sqrts:     \t\t8.00E+00 [TeV]\n",
        "result.conditions:\t\t['None']\n",
        "result.constraint:\t\t[[['t+','t-']],[['t+','t-']]]\n",
        "upper limit for mass vector:\t\tNone"
       ]
      },
      {
       "output_type": "stream",
       "stream": "stdout",
       "text": [
        "\n",
        "result.label:     \t\tSUS13013:T5tttt\n",
        "result.sqrts:     \t\t8.00E+00 [TeV]\n",
        "result.conditions:\t\t['None']\n",
        "result.constraint:\t\t[[['t+'],['t-']],[['t+'],['t-']]]+[[['t-'],['t+']],[['t-'],['t+']]]+[[['t+'],['t-']],[['t-'],['t+']]]\n",
        "11:47:41.872 ERROR    smodels.experiment.smsInterpolation:52  Need intermediate mass input for SUS13013/T5tttt.\n"
       ]
      },
      {
       "output_type": "stream",
       "stream": "stdout",
       "text": [
        "upper limit for mass vector:\t\tNone\n",
        "result.label:     \t\tSUS13013:T1ttttoff\n",
        "result.sqrts:     \t\t8.00E+00 [TeV]\n",
        "result.conditions:\t\t['None']\n",
        "result.constraint:\t\t[[['b','b','W+','W-']],[['b','b','W+','W-']]]\n",
        "upper limit for mass vector:\t\tNone\n",
        "result.label:     \t\tSUS13013:T5WW\n",
        "result.sqrts:     \t\t8.00E+00 [TeV]\n",
        "result.conditions:\t\t['None']\n",
        "result.constraint:\t\t[[['jet','jet'],['W']],[['jet','jet'],['W']]]\n",
        "11:47:41.916 ERROR    smodels.experiment.smsInterpolation:52  Need intermediate mass input for SUS13013/T5WW.\n"
       ]
      },
      {
       "output_type": "stream",
       "stream": "stdout",
       "text": [
        "upper limit for mass vector:\t\tNone\n",
        "result.label:     \t\tSUS13011:T6bbWW\n",
        "result.sqrts:     \t\t8.00E+00 [TeV]\n",
        "result.conditions:\t\t['None']\n",
        "result.constraint:\t\t[[['b'],['W']],[['b'],['W']]]\n",
        "11:47:41.920 ERROR    smodels.experiment.smsInterpolation:52  Need intermediate mass input for SUS13011/T6bbWW.\n"
       ]
      },
      {
       "output_type": "stream",
       "stream": "stdout",
       "text": [
        "upper limit for mass vector:\t\tNone\n",
        "result.label:     \t\tSUS13011:T2tt\n",
        "result.sqrts:     \t\t8.00E+00 [TeV]\n",
        "result.conditions:\t\t['None']\n",
        "result.constraint:\t\t[[['t']],[['t']]]\n",
        "upper limit for mass vector:\t\t1.55E+00 [pb]"
       ]
      },
      {
       "output_type": "stream",
       "stream": "stdout",
       "text": [
        "\n",
        "result.label:     \t\tSUS13011:T6bbWWoff\n",
        "result.sqrts:     \t\t8.00E+00 [TeV]\n",
        "result.conditions:\t\t['notyetassignet']\n",
        "result.constraint:\t\tnot yet assignet\n",
        "11:47:41.973 ERROR    smodels.experiment.smsInterpolation:52  Need intermediate mass input for SUS13011/T6bbWWoff.\n"
       ]
      },
      {
       "output_type": "stream",
       "stream": "stdout",
       "text": [
        "upper limit for mass vector:\t\tNone\n",
        "result.label:     \t\tSUS13016:T1tttt\n",
        "result.sqrts:     \t\t8.00E+00 [TeV]\n",
        "result.conditions:\t\t['None']\n",
        "result.constraint:\t\t[[['t','t']],[['t','t']]]\n",
        "upper limit for mass vector:\t\tNone\n",
        "result.label:     \t\tSUS13016:T1ttttoff\n",
        "result.sqrts:     \t\t8.00E+00 [TeV]\n",
        "result.conditions:\t\t['None']\n",
        "result.constraint:\t\t[[['b','b','W','W']],[['b','b','W','W']]]\n",
        "upper limit for mass vector:\t\tNone\n",
        "result.label:     \t\tSUS13017:TChiWH\n",
        "result.sqrts:     \t\t8.00E+00 [TeV]\n",
        "result.conditions:\t\t['None']\n",
        "result.constraint:\t\t[[['higgs']],[['W']]]\n",
        "upper limit for mass vector:\t\t3.47E-01 [pb]\n",
        "result.label:     \t\tSUSY_2013_04:T1tttt\n",
        "result.sqrts:     \t\t8.00E+00 [TeV]\n",
        "result.conditions:\t\t['None']\n",
        "result.constraint:\t\t[[['t','t']],[['t','t']]]\n",
        "upper limit for mass vector:\t\tNone\n",
        "result.label:     \t\tSUSY_2013_04:T5tttt\n",
        "result.sqrts:     \t\t8.00E+00 [TeV]\n",
        "result.conditions:\t\t['None']\n",
        "result.constraint:\t\t[[['t'],['t']],[['t'],['t']]]\n",
        "11:47:42.014 ERROR    smodels.experiment.smsInterpolation:52  Need intermediate mass input for SUSY_2013_04/T5tttt.\n"
       ]
      },
      {
       "output_type": "stream",
       "stream": "stdout",
       "text": [
        "upper limit for mass vector:\t\tNone\n",
        "result.label:     \t\tSUSY_2013_04:T5WW\n",
        "result.sqrts:     \t\t8.00E+00 [TeV]\n",
        "result.conditions:\t\t['None']\n",
        "result.constraint:\t\t[[['jet','jet'],['W']],[['jet','jet'],['W']]]\n",
        "11:47:42.017 ERROR    smodels.experiment.smsInterpolation:52  Need intermediate mass input for SUSY_2013_04/T5WW.\n"
       ]
      },
      {
       "output_type": "stream",
       "stream": "stdout",
       "text": [
        "upper limit for mass vector:\t\tNone\n",
        "result.label:     \t\tSUSY_2013_05:T6bbWWon\n",
        "result.sqrts:     \t\t8.00E+00 [TeV]\n",
        "result.conditions:\t\t['None']\n",
        "result.constraint:\t\t[[['b'],['W']],[['b'],['W']]]\n",
        "11:47:42.029 ERROR    smodels.experiment.smsInterpolation:52  Need intermediate mass input for SUSY_2013_05/T6bbWWon.\n"
       ]
      },
      {
       "output_type": "stream",
       "stream": "stdout",
       "text": [
        "upper limit for mass vector:\t\tNone\n",
        "result.label:     \t\tSUSY_2013_05:T2bb\n",
        "result.sqrts:     \t\t8.00E+00 [TeV]\n",
        "result.conditions:\t\t['None']\n",
        "result.constraint:\t\t[[['b']],[['b']]]\n",
        "upper limit for mass vector:\t\t1.62E-01 [pb]\n",
        "result.label:     \t\tSUSY_2013_05:T6bbWWoff\n",
        "result.sqrts:     \t\t8.00E+00 [TeV]\n",
        "result.conditions:\t\t['None']\n",
        "result.constraint:\t\t[[['b'],['L','nu']],[['b'],['L','nu']]] + [[['b'],['L','nu']],[['b'],['jet','jet']]] + [[['b'],['jet','jet']],[['b'],['jet','jet']]]\n",
        "11:47:42.058 ERROR    smodels.experiment.smsInterpolation:52  Need intermediate mass input for SUSY_2013_05/T6bbWWoff.\n"
       ]
      },
      {
       "output_type": "stream",
       "stream": "stdout",
       "text": [
        "upper limit for mass vector:\t\tNone\n",
        "result.label:     \t\tSUSY_2013_08:T6ttZZ\n",
        "result.sqrts:     \t\t8.00E+00 [TeV]\n",
        "result.conditions:\t\t['None']\n",
        "result.constraint:\t\t[[['Z'],['t']],[['Z'],['t']]]\n",
        "11:47:42.062 ERROR    smodels.experiment.smsInterpolation:52  Need intermediate mass input for SUSY_2013_08/T6ttZZ.\n"
       ]
      },
      {
       "output_type": "stream",
       "stream": "stdout",
       "text": [
        "upper limit for mass vector:\t\tNone\n",
        "result.label:     \t\tSUSY_2013_09:T6ttWW\n",
        "result.sqrts:     \t\t8.00E+00 [TeV]\n",
        "result.conditions:\t\t['None']\n",
        "result.constraint:\t\t[[[t+],[W-]],[[t+],[W-]]]+[[[t-],[W+]],[[t-],[W+]]]+[[[t+],[W-]],[[t-],[W+]]]\n",
        "11:47:42.065 ERROR    smodels.experiment.smsInterpolation:52  Need intermediate mass input for SUSY_2013_09/T6ttWW.\n"
       ]
      },
      {
       "output_type": "stream",
       "stream": "stdout",
       "text": [
        "upper limit for mass vector:\t\tNone\n",
        "result.label:     \t\tSUSY_2013_09:T1tttt\n",
        "result.sqrts:     \t\t8.00E+00 [TeV]\n",
        "result.conditions:\t\t['None']\n",
        "result.constraint:\t\t[[['t'],['t']],[['t'],['t']]]\n",
        "upper limit for mass vector:\t\tNone\n",
        "result.label:     \t\tSUSY_2013_09:T5WW\n",
        "result.sqrts:     \t\t8.00E+00 [TeV]\n",
        "result.conditions:\t\t['None']\n",
        "result.constraint:\t\t[[[jet,jet],[W]],[[jet,jet],[W]]]\n",
        "11:47:42.107 ERROR    smodels.experiment.smsInterpolation:52  Need intermediate mass input for SUSY_2013_09/T5WW.\n"
       ]
      },
      {
       "output_type": "stream",
       "stream": "stdout",
       "text": [
        "upper limit for mass vector:\t\tNone\n",
        "result.label:     \t\tSUSY_2013_09:T5tctc\n",
        "result.sqrts:     \t\t8.00E+00 [TeV]\n",
        "result.conditions:\t\t['None']\n",
        "result.constraint:\t\t[[[t],[jet]],[[t],[jet]]]\n",
        "11:47:42.109 ERROR    smodels.experiment.smsInterpolation:52  Need intermediate mass input for SUSY_2013_09/T5tctc.\n"
       ]
      },
      {
       "output_type": "stream",
       "stream": "stdout",
       "text": [
        "upper limit for mass vector:\t\tNone\n",
        "result.label:     \t\tATLAS_CONF_2013_001:T6bbWWoff\n",
        "result.sqrts:     \t\t8.00E+00 [TeV]\n",
        "result.conditions:\t\t['None']\n",
        "result.constraint:\t\t[[['b'],['L','nu']],[['b'],['L','nu']]] + [[['b'],['L','nu']],[['b'],['jet','jet']]] + [[['b'],['jet','jet']],[['b'],['jet','jet']]]\n",
        "11:47:42.112 ERROR    smodels.experiment.smsInterpolation:52  Need intermediate mass input for ATLAS_CONF_2013_001/T6bbWWoff.\n"
       ]
      },
      {
       "output_type": "stream",
       "stream": "stdout",
       "text": [
        "upper limit for mass vector:\t\tNone\n",
        "result.label:     \t\tATLAS_CONF_2013_007:T1tbtb\n",
        "result.sqrts:     \t\t8.00E+00 [TeV]\n",
        "result.conditions:\t\t['None']\n",
        "result.constraint:\t\t[[['t','b']],[['t','b']]]\n",
        "upper limit for mass vector:\t\tNone\n",
        "result.label:     \t\tATLAS_CONF_2013_007:T6ttWW\n",
        "result.sqrts:     \t\t8.00E+00 [TeV]\n",
        "result.conditions:\t\t['None']\n",
        "result.constraint:\t\t[[['t+'],['W-']],[['t+'],['W-']]]+[[['t-'],['W+']],[['t-'],['W+']]]+[[['t+'],['W-']],[['t-'],['W+']]]\n",
        "11:47:42.137 ERROR    smodels.experiment.smsInterpolation:52  Need intermediate mass input for ATLAS_CONF_2013_007/T6ttWW.\n"
       ]
      },
      {
       "output_type": "stream",
       "stream": "stdout",
       "text": [
        "upper limit for mass vector:\t\tNone\n",
        "result.label:     \t\tATLAS_CONF_2013_007:T1tttt\n",
        "result.sqrts:     \t\t8.00E+00 [TeV]\n",
        "result.conditions:\t\t['None']\n",
        "result.constraint:\t\t[[['t+','t-']],[['t+','t-']]]\n",
        "upper limit for mass vector:\t\tNone\n",
        "result.label:     \t\tATLAS_CONF_2013_007:T5tttt\n",
        "result.sqrts:     \t\t8.00E+00 [TeV]\n",
        "result.conditions:\t\t['None']\n",
        "result.constraint:\t\t[[['t+'],['t-']],[['t+'],['t-']]]+[[['t-'],['t+']],[['t-'],['t+']]]+[[['t+'],['t-']],[['t-'],['t+']]]\n",
        "11:47:42.145 ERROR    smodels.experiment.smsInterpolation:52  Need intermediate mass input for ATLAS_CONF_2013_007/T5tttt.\n"
       ]
      },
      {
       "output_type": "stream",
       "stream": "stdout",
       "text": [
        "upper limit for mass vector:\t\tNone\n",
        "result.label:     \t\tATLAS_CONF_2013_007:T5WW\n",
        "result.sqrts:     \t\t8.00E+00 [TeV]\n",
        "result.conditions:\t\t['None']\n",
        "result.constraint:\t\t[[['jet','jet'],['W']],[['jet','jet'],['W']]]\n",
        "11:47:42.146 ERROR    smodels.experiment.smsInterpolation:52  Need intermediate mass input for ATLAS_CONF_2013_007/T5WW.\n"
       ]
      },
      {
       "output_type": "stream",
       "stream": "stdout",
       "text": [
        "upper limit for mass vector:\t\tNone\n",
        "result.label:     \t\tSUS13008:T6ttWW\n",
        "result.sqrts:     \t\t8.00E+00 [TeV]\n",
        "result.conditions:\t\t['None']\n",
        "result.constraint:\t\t[[['t'],['W']],[['t'],['W']]]\n",
        "11:47:42.149 ERROR    smodels.experiment.smsInterpolation:52  Need intermediate mass input for SUS13008/T6ttWW.\n"
       ]
      },
      {
       "output_type": "stream",
       "stream": "stdout",
       "text": [
        "upper limit for mass vector:\t\tNone\n",
        "result.label:     \t\tSUS13008:T1tttt\n",
        "result.sqrts:     \t\t8.00E+00 [TeV]\n",
        "result.conditions:\t\t['None']\n",
        "result.constraint:\t\t[[['t','t']],[['t','t']]]\n",
        "upper limit for mass vector:\t\tNone"
       ]
      },
      {
       "output_type": "stream",
       "stream": "stdout",
       "text": [
        "\n",
        "result.label:     \t\tSUS13008:T6bbZZ\n",
        "result.sqrts:     \t\t8.00E+00 [TeV]\n",
        "result.conditions:\t\t['None']\n",
        "result.constraint:\t\t[[['b'],['Z']],[['b'],['Z']]]\n",
        "11:47:42.243 ERROR    smodels.experiment.smsInterpolation:52  Need intermediate mass input for SUS13008/T6bbZZ.\n"
       ]
      },
      {
       "output_type": "stream",
       "stream": "stdout",
       "text": [
        "upper limit for mass vector:\t\tNone\n",
        "result.label:     \t\tSUS13008:T7btbtWW\n",
        "result.sqrts:     \t\t8.00E+00 [TeV]\n",
        "result.conditions:\t\t['None']\n",
        "result.constraint:\t\t[[['b'],['t'],['W']],[['b'],['t'],['W']]]\n",
        "11:47:42.244 ERROR    smodels.experiment.smsInterpolation:52  Need intermediate mass input for SUS13008/T7btbtWW.\n"
       ]
      },
      {
       "output_type": "stream",
       "stream": "stdout",
       "text": [
        "upper limit for mass vector:\t\tNone\n",
        "result.label:     \t\tSUS13008:T5tttt\n",
        "result.sqrts:     \t\t8.00E+00 [TeV]\n",
        "result.conditions:\t\t['None']\n",
        "result.constraint:\t\t[[['t'],['t']],[['t'],['t']]]\n",
        "11:47:42.244 ERROR    smodels.experiment.smsInterpolation:52  Need intermediate mass input for SUS13008/T5tttt.\n"
       ]
      },
      {
       "output_type": "stream",
       "stream": "stdout",
       "text": [
        "upper limit for mass vector:\t\tNone\n",
        "result.label:     \t\tSUS13004:T2tt\n",
        "result.sqrts:     \t\t8.00E+00 [TeV]\n",
        "result.conditions:\t\t['None']\n",
        "result.constraint:\t\t[[['t']],[['t']]]\n",
        "upper limit for mass vector:\t\t1.03E+01 [pb]"
       ]
      },
      {
       "output_type": "stream",
       "stream": "stdout",
       "text": [
        "\n",
        "result.label:     \t\tSUS13004:T1bbbb\n",
        "result.sqrts:     \t\t8.00E+00 [TeV]\n",
        "result.conditions:\t\t['None']\n",
        "result.constraint:\t\t[[['b','b']],[['b','b']]]\n",
        "upper limit for mass vector:\t\tNone"
       ]
      },
      {
       "output_type": "stream",
       "stream": "stdout",
       "text": [
        "\n",
        "result.label:     \t\tSUS13004:T1ttttoff\n",
        "result.sqrts:     \t\t8.00E+00 [TeV]\n",
        "result.conditions:\t\t['None']\n",
        "result.constraint:\t\t[[['b','b','W','W']],[['b','b','W','W']]]\n",
        "upper limit for mass vector:\t\tNone\n",
        "result.label:     \t\tSUS13004:T1tttt\n",
        "result.sqrts:     \t\t8.00E+00 [TeV]\n",
        "result.conditions:\t\t['None']\n",
        "result.constraint:\t\t[[['t','t']],[['t','t']]]\n",
        "upper limit for mass vector:\t\tNone"
       ]
      },
      {
       "output_type": "stream",
       "stream": "stdout",
       "text": [
        "\n",
        "result.label:     \t\tSUS13007:T1tttt\n",
        "result.sqrts:     \t\t8.00E+00 [TeV]\n",
        "result.conditions:\t\t['None']\n",
        "result.constraint:\t\t[[['t','t']],[['t','t']]]\n",
        "upper limit for mass vector:\t\tNone"
       ]
      },
      {
       "output_type": "stream",
       "stream": "stdout",
       "text": [
        "\n",
        "result.label:     \t\tSUS13007:T1ttttoff\n",
        "result.sqrts:     \t\t8.00E+00 [TeV]\n",
        "result.conditions:\t\t['None']\n",
        "result.constraint:\t\t[[['b','b','W','W']],[['b','b','W','W']]]\n",
        "upper limit for mass vector:\t\tNone\n",
        "result.label:     \t\tSUS13007:T5tttt\n",
        "result.sqrts:     \t\t8.00E+00 [TeV]\n",
        "result.conditions:\t\t['None']\n",
        "result.constraint:\t\t[[['t'],['t']],[['t'],['t']]]\n",
        "11:47:42.665 ERROR    smodels.experiment.smsInterpolation:52  Need intermediate mass input for SUS13007/T5tttt.\n"
       ]
      },
      {
       "output_type": "stream",
       "stream": "stdout",
       "text": [
        "upper limit for mass vector:\t\tNone\n",
        "result.label:     \t\tSUS13006:TChiWZon\n",
        "result.sqrts:     \t\t8.00E+00 [TeV]\n",
        "result.conditions:\t\t['None']\n",
        "result.constraint:\t\t[[['W']],[['Z']]]\n",
        "11:47:42.694 WARNING  smodels.experiment.smsHelpers:194 Dictionary does not have topology TChiWZon.\n"
       ]
      },
      {
       "output_type": "stream",
       "stream": "stdout",
       "text": [
        "upper limit for mass vector:\t\tNone\n",
        "result.label:     \t\tSUS13006:TChiChipmStauStau\n",
        "result.sqrts:     \t\t8.00E+00 [TeV]\n",
        "result.conditions:\t\t['None']\n",
        "result.constraint:\t\t[[['ta'],['ta']],[['nu'],['ta']]]\n",
        "11:47:42.695 ERROR    smodels.experiment.smsInterpolation:52  Need intermediate mass input for SUS13006/TChiChipmStauStau.\n"
       ]
      },
      {
       "output_type": "stream",
       "stream": "stdout",
       "text": [
        "upper limit for mass vector:\t\tNone\n",
        "result.label:     \t\tSUS13006:TSlepSlep\n",
        "result.sqrts:     \t\t8.00E+00 [TeV]\n",
        "result.conditions:\t\t['Cgtr([[[mu+]],[[mu-]]],[[[e+]],[[e-]]])']\n",
        "result.constraint:\t\t[[['e+']],[['e-']]]+[[['mu+']],[['mu-']]]\n",
        "upper limit for mass vector:\t\t4.10E-03 [pb]\n",
        "result.label:     \t\tSUS13006:TChiChipmSlepStau\n",
        "result.sqrts:     \t\t8.00E+00 [TeV]\n",
        "result.conditions:\t\t['Cgtr([[[L],[L]],[[nu],[ta]]],3.*[[[ta],[ta]],[[nu],[ta]]])', 'Cgtr([[[L],[L]],[[nu],[ta]]],3.*[[[e],[e]],[[nu],[ta]]])']\n",
        "result.constraint:\t\t[[['L'],['L']],[['nu'],['ta']]]\n",
        "11:47:42.734 ERROR    smodels.experiment.smsInterpolation:52  Need intermediate mass input for SUS13006/TChiChipmSlepStau.\n"
       ]
      },
      {
       "output_type": "stream",
       "stream": "stdout",
       "text": [
        "upper limit for mass vector:\t\tNone\n",
        "result.label:     \t\tSUS13006:TChiWH\n",
        "result.sqrts:     \t\t8.00E+00 [TeV]\n",
        "result.conditions:\t\t['None']\n",
        "result.constraint:\t\t[[['W']],[['higgs']]]\n",
        "upper limit for mass vector:\t\t3.75E-01 [pb]\n",
        "result.label:     \t\tSUS13006:TChipChimSlepSnu\n",
        "result.sqrts:     \t\t8.00E+00 [TeV]\n",
        "result.conditions:\t\t['Csim([[[L-],[nu]],[[nu],[L+]]],[[[L+],[nu]],[[nu],[L-]]],[[[L+],[nu]],[[L-],[nu]]],[[[nu],[L+]],[[nu],[L-]]])', 'Cgtr([[[L-],[nu]],[[nu],[L+]]],3.*[[[ta-],[nu]],[[nu],[L+]]])', 'Cgtr([[[L-],[nu]],[[nu],[L+]]],3.*[[[L-],[nu]],[[nu],[ta+]]])', 'Cgtr([[[L+],[nu]],[[nu],[L-]]],3.*[[[ta+],[nu]],[[nu],[L-]]])', 'Cgtr([[[L+],[nu]],[[nu],[L-]]],3.*[[[L+],[nu]],[[nu],[ta-]]])', 'Cgtr([[[L+],[nu]],[[L-],[nu]]],3.*[[[ta+],[nu]],[[L-],[nu]]])', 'Cgtr([[[L+],[nu]],[[L-],[nu]]],3.*[[[L+],[nu]],[[ta-],[nu]]])', 'Cgtr([[[nu],[L+]],[[nu],[L-]]],3.*[[[nu],[ta+]],[[nu],[L-]]])', 'Cgtr([[[nu],[L+]],[[nu],[L-]]],3.*[[[nu],[L+]],[[nu],[ta-]]])', 'Cgtr([[[L-],[nu]],[[nu],[L+]]],3.*[[[e-],[nu]],[[nu],[L+]]])', 'Cgtr([[[L-],[nu]],[[nu],[L+]]],3.*[[[L-],[nu]],[[nu],[e+]]])', 'Cgtr([[[L+],[nu]],[[nu],[L-]]],3.*[[[e+],[nu]],[[nu],[L-]]])', 'Cgtr([[[L+],[nu]],[[nu],[L-]]],3.*[[[L+],[nu]],[[nu],[e-]]])', 'Cgtr([[[L+],[nu]],[[L-],[nu]]],3.*[[[e+],[nu]],[[L-],[nu]]])', 'Cgtr([[[L+],[nu]],[[L-],[nu]]],3.*[[[L+],[nu]],[[e-],[nu]]])', 'Cgtr([[[nu],[L+]],[[nu],[L-]]],3.*[[[nu],[e+]],[[nu],[L-]]])', 'Cgtr([[[nu],[L+]],[[nu],[L-]]],3.*[[[nu],[L+]],[[nu],[e-]]])']\n",
        "result.constraint:\t\t[[['L-'],['nu']],[['nu'],['L+']]] + [[['L+'],['nu']],[['nu'],['L-']]] + [[['L+'],['nu']],[['L-'],['nu']]] + [[['nu'],['L+']],[['nu'],['L-']]]\n",
        "11:47:42.771 ERROR    smodels.experiment.smsInterpolation:52  Need intermediate mass input for SUS13006/TChipChimSlepSnu.\n"
       ]
      },
      {
       "output_type": "stream",
       "stream": "stdout",
       "text": [
        "upper limit for mass vector:\t\tNone\n",
        "result.label:     \t\tSUS13006:TChiChipmSlepL\n",
        "result.sqrts:     \t\t8.00E+00 [TeV]\n",
        "result.conditions:\t\t['Csim([[[L],[L]],[[L],[nu]]],[[[L],[L]],[[nu],[L]]])', 'Cgtr([[[L],[L]],[[nu],[L]]],3.*[[[ta],[ta]],[[nu],[L]]])', 'Cgtr([[[L],[L]],[[L],[nu]]],3.*[[[ta],[ta]],[[L],[nu]]])', 'Cgtr([[[L],[L]],[[nu],[L]]],3.*[[[L],[L]],[[nu],[ta]]])', 'Cgtr([[[L],[L]],[[L],[nu]]],3.*[[[L],[L]],[[ta],[nu]]])', 'Cgtr([[[L],[L]],[[nu],[L]]],3.*[[[e],[e]],[[nu],[L]]])', 'Cgtr([[[L],[L]],[[L],[nu]]],3.*[[[e],[e]],[[L],[nu]]])', 'Cgtr([[[L],[L]],[[nu],[L]]],3.*[[[L],[L]],[[nu],[e]]])', 'Cgtr([[[L],[L]],[[L],[nu]]],3.*[[[L],[L]],[[e],[nu]]])']\n",
        "result.constraint:\t\t2.*([[['L'],['L']],[['L'],['nu']]] + [[['L'],['L']],[['nu'],['L']]])\n",
        "11:47:42.772 ERROR    smodels.experiment.smsInterpolation:52  Need intermediate mass input for SUS13006/TChiChipmSlepL.\n"
       ]
      },
      {
       "output_type": "stream",
       "stream": "stdout",
       "text": [
        "upper limit for mass vector:\t\tNone\n",
        "result.label:     \t\tSUS13006:TChiWZoff\n",
        "result.sqrts:     \t\t8.00E+00 [TeV]\n",
        "result.conditions:\t\t['Cgtr([[[mu+,mu-]],[[l,nu]]],[[[e+,e-]],[[l,nu]]])']\n",
        "result.constraint:\t\t71.*([[['mu+','mu-']],[['l','nu']]] + [[['e+','e-']],[['l','nu']]])\n",
        "upper limit for mass vector:\t\tNone\n",
        "result.label:     \t\tSUS13002:T6ttWW\n",
        "result.sqrts:     \t\t8.00E+00 [TeV]\n",
        "result.conditions:\t\t['None']\n",
        "result.constraint:\t\t[[['t+'],['W-']],[['t-'],['W+']]]\n",
        "11:47:42.808 ERROR    smodels.experiment.smsInterpolation:52  Need intermediate mass input for SUS13002/T6ttWW.\n"
       ]
      },
      {
       "output_type": "stream",
       "stream": "stdout",
       "text": [
        "upper limit for mass vector:\t\tNone\n",
        "result.label:     \t\tSUS13002:T1tttt\n",
        "result.sqrts:     \t\t8.00E+00 [TeV]\n",
        "result.conditions:\t\t['None']\n",
        "result.constraint:\t\t[[['t+','t-']],[['t+','t-']]]\n",
        "upper limit for mass vector:\t\tNone\n",
        "result.label:     \t\tSUSY_2013_15:T2bbWWoff\n",
        "result.sqrts:     \t\t8.00E+00 [TeV]\n",
        "result.conditions:\t\t['Cgtr([[[b,L,nu]],[[b,jet,jet]]],3.*[[[b,ta,nu]],[[b,jet,jet]]])', 'Cgtr([[[b,L,nu]],[[b,jet,jet]]],3.*[[[b,e,nu]],[[b,jet,jet]]])']\n",
        "result.constraint:\t\t2.3*([[['b','L','nu']],[['b','jet','jet']]])\n",
        "11:47:42.852 ERROR    smodels.experiment.smsInterpolation:36  SUSY_2013_15/T2bbWWoff not found.\n"
       ]
      },
      {
       "output_type": "stream",
       "stream": "stdout",
       "text": [
        "upper limit for mass vector:\t\tNone\n",
        "result.label:     \t\tSUSY_2013_15:T2tt\n",
        "result.sqrts:     \t\t8.00E+00 [TeV]\n",
        "result.conditions:\t\t['None']\n",
        "result.constraint:\t\t[[['t']],[['t']]]\n",
        "11:47:42.853 ERROR    smodels.experiment.smsInterpolation:36  SUSY_2013_15/T2tt not found.\n"
       ]
      },
      {
       "output_type": "stream",
       "stream": "stdout",
       "text": [
        "upper limit for mass vector:\t\tNone\n",
        "result.label:     \t\tSUSY_2013_15:T6bbWWoff\n",
        "result.sqrts:     \t\t8.00E+00 [TeV]\n",
        "result.conditions:\t\t['Cgtr([[[b],[L,nu]],[[b],[jet,jet]]],3.*[[[b],[ta,nu]],[[b],[jet,jet]]])', 'Cgtr([[[b],[L,nu]],[[b],[jet,jet]]],3.*[[[b],[e,nu]],[[b],[jet,jet]]])']\n",
        "result.constraint:\t\t2.3*([[['b'],['L','nu']],[['b'],['jet','jet']]])\n",
        "11:47:42.853 ERROR    smodels.experiment.smsInterpolation:36  SUSY_2013_15/T6bbWWoff not found.\n"
       ]
      },
      {
       "output_type": "stream",
       "stream": "stdout",
       "text": [
        "upper limit for mass vector:\t\tNone\n",
        "result.label:     \t\tSUSY_2013_15:T6bbWW\n",
        "result.sqrts:     \t\t8.00E+00 [TeV]\n",
        "result.conditions:\t\t['None']\n",
        "result.constraint:\t\t[[['b'],['W']],[['b'],['W']]]\n",
        "11:47:42.854 ERROR    smodels.experiment.smsInterpolation:36  SUSY_2013_15/T6bbWW not found.\n"
       ]
      },
      {
       "output_type": "stream",
       "stream": "stdout",
       "text": [
        "upper limit for mass vector:\t\tNone\n",
        "result.label:     \t\tSUSY_2013_15:T2bbWW\n",
        "result.sqrts:     \t\t8.00E+00 [TeV]\n",
        "result.conditions:\t\t['None']\n",
        "result.constraint:\t\t[[['b','W']],[['b','W']]]\n",
        "11:47:42.855 ERROR    smodels.experiment.smsInterpolation:36  SUSY_2013_15/T2bbWW not found.\n"
       ]
      },
      {
       "output_type": "stream",
       "stream": "stdout",
       "text": [
        "upper limit for mass vector:\t\tNone\n",
        "result.label:     \t\tSUSY_2013_14:TChiChipmStauStau\n",
        "result.sqrts:     \t\t8.00E+00 [TeV]\n",
        "result.conditions:\t\t['Csim([[[ta],[ta]],[[nu],[ta]]],[[[ta],[ta]],[[ta],[nu]]])']\n",
        "result.constraint:\t\t2*([[['ta'],['ta']],[['nu'],['ta']]]+[[['ta'],['ta']],[['ta'],['nu']]])\n",
        "11:47:42.858 ERROR    smodels.experiment.smsInterpolation:52  Need intermediate mass input for SUSY_2013_14/TChiChipmStauStau.\n"
       ]
      },
      {
       "output_type": "stream",
       "stream": "stdout",
       "text": [
        "upper limit for mass vector:\t\tNone\n",
        "result.label:     \t\tSUSY_2013_14:TStauStau\n",
        "result.sqrts:     \t\t8.00E+00 [TeV]\n",
        "result.conditions:\t\t['None']\n",
        "result.constraint:\t\t[[['ta+']],[['ta-']]]\n",
        "upper limit for mass vector:\t\t2.70E-02 [pb]\n",
        "result.label:     \t\tSUSY_2013_14:TChipChimStauSnu\n",
        "result.sqrts:     \t\t8.00E+00 [TeV]\n",
        "result.conditions:\t\t['Csim([[[ta-],[nu]],[[nu],[ta+]]],[[[ta+],[nu]],[[nu],[ta-]]],[[[ta+],[nu]],[[ta-],[nu]]],[[[nu],[ta+]],[[nu],[ta-]]])']\n",
        "result.constraint:\t\t[[['ta-'],['nu']],[['nu'],['ta+']]] + [[['ta+'],['nu']],[['nu'],['ta-']]] + [[['ta+'],['nu']],[['ta-'],['nu']]] + [[['nu'],['ta+']],[['nu'],['ta-']]]\n",
        "11:47:42.877 ERROR    smodels.experiment.smsInterpolation:52  Need intermediate mass input for SUSY_2013_14/TChipChimStauSnu.\n"
       ]
      },
      {
       "output_type": "stream",
       "stream": "stdout",
       "text": [
        "upper limit for mass vector:\t\tNone\n",
        "result.label:     \t\tSUSY_2013_12:TChiChipmStauL\n",
        "result.sqrts:     \t\t8.00E+00 [TeV]\n",
        "result.conditions:\t\t['Csim([[[nu],[ta]],[[ta+],[ta-]]],[[[ta],[nu]],[[ta+],[ta-]]],[[[nu],[ta]],[[ta-],[ta+]]],[[[ta],[nu]],[[ta-],[ta+]]])']\n",
        "result.constraint:\t\t2.*([[['nu'],['ta']],[['ta+'],['ta-']]] + [[['ta'],['nu']],[['ta+'],['ta-']]]+[[['nu'],['ta']],[['ta-'],['ta+']]] + [[['ta'],['nu']],[['ta-'],['ta+']]])\n",
        "11:47:42.880 ERROR    smodels.experiment.smsInterpolation:52  Need intermediate mass input for SUSY_2013_12/TChiChipmStauL.\n"
       ]
      },
      {
       "output_type": "stream",
       "stream": "stdout",
       "text": [
        "upper limit for mass vector:\t\tNone\n",
        "result.label:     \t\tSUSY_2013_12:TChiWH\n",
        "result.sqrts:     \t\t8.00E+00 [TeV]\n",
        "result.conditions:\t\t['None']\n",
        "result.constraint:\t\t[[['W']],[['higgs']]]\n",
        "upper limit for mass vector:\t\tNone\n",
        "result.label:     \t\tSUSY_2013_12:TChiWZoff\n",
        "result.sqrts:     \t\t8.00E+00 [TeV]\n",
        "result.conditions:\t\t['Cgtr([[[mu+,mu-]],[[l,nu]]],[[[e+,e-]],[[l,nu]]])']\n",
        "result.constraint:\t\t71.*([[['mu+','mu-']],[['l','nu']]] + [[['e+','e-']],[['l','nu']]])\n",
        "upper limit for mass vector:\t\tNone\n",
        "result.label:     \t\tSUSY_2013_12:TChiWZon\n",
        "result.sqrts:     \t\t8.00E+00 [TeV]\n",
        "result.conditions:\t\t['None']\n",
        "result.constraint:\t\t[[['W']],[['Z']]]\n",
        "11:47:42.893 WARNING  smodels.experiment.smsHelpers:194 Dictionary does not have topology TChiWZon.\n"
       ]
      },
      {
       "output_type": "stream",
       "stream": "stdout",
       "text": [
        "upper limit for mass vector:\t\tNone\n",
        "result.label:     \t\tSUSY_2013_12:TChiChipmSlepL\n",
        "result.sqrts:     \t\t8.00E+00 [TeV]\n",
        "result.conditions:\t\t['Csim([[[L],[L]],[[L],[nu]]],[[[L],[L]],[[nu],[L]]])', 'Cgtr([[[L],[L]],[[nu],[L]]],3.*[[[ta],[ta]],[[nu],[L]]])', 'Cgtr([[[L],[L]],[[L],[nu]]],3.*[[[ta],[ta]],[[L],[nu]]])', 'Cgtr([[[L],[L]],[[nu],[L]]],3.*[[[L],[L]],[[nu],[ta]]])', 'Cgtr([[[L],[L]],[[L],[nu]]],3.*[[[L],[L]],[[ta],[nu]]])', 'Cgtr([[[L],[L]],[[nu],[L]]],3.*[[[e],[e]],[[nu],[L]]])', 'Cgtr([[[L],[L]],[[L],[nu]]],3.*[[[e],[e]],[[L],[nu]]])', 'Cgtr([[[L],[L]],[[nu],[L]]],3.*[[[L],[L]],[[nu],[e]]])', 'Cgtr([[[L],[L]],[[L],[nu]]],3.*[[[L],[L]],[[e],[nu]]])']\n",
        "result.constraint:\t\t2.*([[['L'],['L']],[['L'],['nu']]] + [[['L'],['L']],[['nu'],['L']]])\n",
        "11:47:42.894 ERROR    smodels.experiment.smsInterpolation:52  Need intermediate mass input for SUSY_2013_12/TChiChipmSlepL.\n"
       ]
      },
      {
       "output_type": "stream",
       "stream": "stdout",
       "text": [
        "upper limit for mass vector:\t\tNone\n",
        "result.label:     \t\tSUSY_2013_11:TChiWZ\n",
        "result.sqrts:     \t\t8.00E+00 [TeV]\n",
        "result.conditions:\t\t['None']\n",
        "result.constraint:\t\t[[['W']],[['Z']]]\n",
        "upper limit for mass vector:\t\t1.51E-01 [pb]\n",
        "result.label:     \t\tSUSY_2013_11:TChipChimSlepSnu\n",
        "result.sqrts:     \t\t8.00E+00 [TeV]\n",
        "result.conditions:\t\t['Csim([[[L-],[nu]],[[nu],[L+]]],[[[L+],[nu]],[[nu],[L-]]],[[[L+],[nu]],[[L-],[nu]]],[[[nu],[L+]],[[nu],[L-]]])', 'Cgtr([[[L-],[nu]],[[nu],[L+]]],3.*[[[ta-],[nu]],[[nu],[L+]]])', 'Cgtr([[[L-],[nu]],[[nu],[L+]]],3.*[[[L-],[nu]],[[nu],[ta+]]])', 'Cgtr([[[L+],[nu]],[[nu],[L-]]],3.*[[[ta+],[nu]],[[nu],[L-]]])', 'Cgtr([[[L+],[nu]],[[nu],[L-]]],3.*[[[L+],[nu]],[[nu],[ta-]]])', 'Cgtr([[[L+],[nu]],[[L-],[nu]]],3.*[[[ta+],[nu]],[[L-],[nu]]])', 'Cgtr([[[L+],[nu]],[[L-],[nu]]],3.*[[[L+],[nu]],[[ta-],[nu]]])', 'Cgtr([[[nu],[L+]],[[nu],[L-]]],3.*[[[nu],[ta+]],[[nu],[L-]]])', 'Cgtr([[[nu],[L+]],[[nu],[L-]]],3.*[[[nu],[L+]],[[nu],[ta-]]])', 'Cgtr([[[L-],[nu]],[[nu],[L+]]],3.*[[[e-],[nu]],[[nu],[L+]]])', 'Cgtr([[[L-],[nu]],[[nu],[L+]]],3.*[[[L-],[nu]],[[nu],[e+]]])', 'Cgtr([[[L+],[nu]],[[nu],[L-]]],3.*[[[e+],[nu]],[[nu],[L-]]])', 'Cgtr([[[L+],[nu]],[[nu],[L-]]],3.*[[[L+],[nu]],[[nu],[e-]]])', 'Cgtr([[[L+],[nu]],[[L-],[nu]]],3.*[[[e+],[nu]],[[L-],[nu]]])', 'Cgtr([[[L+],[nu]],[[L-],[nu]]],3.*[[[L+],[nu]],[[e-],[nu]]])', 'Cgtr([[[nu],[L+]],[[nu],[L-]]],3.*[[[nu],[e+]],[[nu],[L-]]])', 'Cgtr([[[nu],[L+]],[[nu],[L-]]],3.*[[[nu],[L+]],[[nu],[e-]]])']\n",
        "result.constraint:\t\t[[['L-'],['nu']],[['nu'],['L+']]] + [[['L+'],['nu']],[['nu'],['L-']]] + [[['L+'],['nu']],[['L-'],['nu']]] + [[['nu'],['L+']],[['nu'],['L-']]]\n",
        "11:47:42.916 ERROR    smodels.experiment.smsInterpolation:52  Need intermediate mass input for SUSY_2013_11/TChipChimSlepSnu.\n"
       ]
      },
      {
       "output_type": "stream",
       "stream": "stdout",
       "text": [
        "upper limit for mass vector:\t\tNone\n",
        "result.label:     \t\tSUSY_2013_11:TChiWW\n",
        "result.sqrts:     \t\t8.00E+00 [TeV]\n",
        "result.conditions:\t\t['None']\n",
        "result.constraint:\t\t[[['W+']],[['W-']]]\n",
        "upper limit for mass vector:\t\tNone\n",
        "result.label:     \t\tSUSY_2013_11:TSlepSlep\n",
        "result.sqrts:     \t\t8.00E+00 [TeV]\n",
        "result.conditions:\t\t['Cgtr([[[mu+]],[[mu-]]],[[[e+]],[[e-]]])']\n",
        "result.constraint:\t\t[[['e+']],[['e-']]]+[[['mu+']],[['mu-']]]\n",
        "upper limit for mass vector:\t\t2.49E-03 [pb]\n",
        "result.label:     \t\tATLAS_CONF_2013_089:T6WW\n",
        "result.sqrts:     \t\t8.00E+00 [TeV]\n",
        "result.conditions:\t\t['None']\n",
        "result.constraint:\t\t[[['jet'],['W+']],[['jet'],['W-']]]\n",
        "11:47:42.947 ERROR    smodels.experiment.smsInterpolation:52  Need intermediate mass input for ATLAS_CONF_2013_089/T6WW.\n"
       ]
      },
      {
       "output_type": "stream",
       "stream": "stdout",
       "text": [
        "upper limit for mass vector:\t\tNone\n",
        "result.label:     \t\tATLAS_CONF_2013_089:T5WW\n",
        "result.sqrts:     \t\t8.00E+00 [TeV]\n",
        "result.conditions:\t\t['None']\n",
        "result.constraint:\t\t[[['jet','jet'],['W']],[['jet','jet'],['W']]]\n",
        "11:47:42.948 ERROR    smodels.experiment.smsInterpolation:52  Need intermediate mass input for ATLAS_CONF_2013_089/T5WW.\n"
       ]
      },
      {
       "output_type": "stream",
       "stream": "stdout",
       "text": [
        "upper limit for mass vector:\t\tNone\n",
        "result.label:     \t\tSUSY_2013_19:T6bbWW\n",
        "result.sqrts:     \t\t8.00E+00 [TeV]\n",
        "result.conditions:\t\t['None']\n",
        "result.constraint:\t\t[[['b'],['W+']],[['b'],['W-']]]\n",
        "11:47:42.953 ERROR    smodels.experiment.smsInterpolation:52  Need intermediate mass input for SUSY_2013_19/T6bbWW.\n"
       ]
      },
      {
       "output_type": "stream",
       "stream": "stdout",
       "text": [
        "upper limit for mass vector:\t\tNone\n",
        "result.label:     \t\tSUSY_2013_19:T2tt\n",
        "result.sqrts:     \t\t8.00E+00 [TeV]\n",
        "result.conditions:\t\t['None']\n",
        "result.constraint:\t\t[[['t+']],[['t-']]]\n",
        "upper limit for mass vector:\t\t2.20E+00 [pb]\n",
        "result.label:     \t\tSUSY_2013_19:T2bbWW\n",
        "result.sqrts:     \t\t8.00E+00 [TeV]\n",
        "result.conditions:\t\t['None']\n",
        "result.constraint:\t\t[[['b','W+']],[['b','W-']]]\n",
        "upper limit for mass vector:\t\tNone\n",
        "result.label:     \t\tSUSY_2013_19:T6bbWWoff\n",
        "result.sqrts:     \t\t8.00E+00 [TeV]\n",
        "result.conditions:\t\t['notyetassigned']\n",
        "result.constraint:\t\tnot yet assigned\n",
        "11:47:42.977 ERROR    smodels.experiment.smsInterpolation:52  Need intermediate mass input for SUSY_2013_19/T6bbWWoff.\n"
       ]
      },
      {
       "output_type": "stream",
       "stream": "stdout",
       "text": [
        "upper limit for mass vector:\t\tNone\n",
        "result.label:     \t\tSUSY_2013_21:T2tt\n",
        "result.sqrts:     \t\t8.00E+00 [TeV]\n",
        "result.conditions:\t\t['None']\n",
        "result.constraint:\t\t[[['t+']],[['t-']]]\n",
        "11:47:42.977 ERROR    smodels.experiment.smsInterpolation:36  SUSY_2013_21/T2tt not found.\n"
       ]
      },
      {
       "output_type": "stream",
       "stream": "stdout",
       "text": [
        "upper limit for mass vector:\t\tNone\n",
        "result.label:     \t\tSUSY_2013_21:T2bbWW\n",
        "result.sqrts:     \t\t8.00E+00 [TeV]\n",
        "result.conditions:\t\t['None']\n",
        "result.constraint:\t\t[[['b','W+']],[['b','W-']]]\n",
        "11:47:42.978 ERROR    smodels.experiment.smsInterpolation:36  SUSY_2013_21/T2bbWW not found.\n"
       ]
      },
      {
       "output_type": "stream",
       "stream": "stdout",
       "text": [
        "upper limit for mass vector:\t\tNone\n",
        "result.label:     \t\tSUSY_2013_21:T6bbWW\n",
        "result.sqrts:     \t\t8.00E+00 [TeV]\n",
        "result.conditions:\t\t['None']\n",
        "result.constraint:\t\t[[['b'],['W+']],[['b'],['W-']]]\n",
        "11:47:42.979 ERROR    smodels.experiment.smsInterpolation:36  SUSY_2013_21/T6bbWW not found.\n"
       ]
      },
      {
       "output_type": "stream",
       "stream": "stdout",
       "text": [
        "upper limit for mass vector:\t\tNone\n",
        "result.label:     \t\tATLAS_CONF_2013_093:TChiChipmHW\n",
        "result.sqrts:     \t\t8.00E+00 [TeV]\n",
        "result.conditions:\t\t['None']\n",
        "result.constraint:\t\t[[['higgs']],[['W']]]\n",
        "upper limit for mass vector:\t\tNone\n",
        "result.label:     \t\tSUS12002b:T1bbbb\n",
        "result.sqrts:     \t\t7.00E+00 [TeV]\n",
        "result.conditions:\t\t['None']\n",
        "result.constraint:\t\t[[['b','b']],[['b','b']]]\n",
        "upper limit for mass vector:\t\tNone"
       ]
      },
      {
       "output_type": "stream",
       "stream": "stdout",
       "text": [
        "\n",
        "result.label:     \t\tSUS12002b:T5ZZ\n",
        "result.sqrts:     \t\t7.00E+00 [TeV]\n",
        "result.conditions:\t\t['None']\n",
        "result.constraint:\t\tNone\n",
        "11:47:43.103 ERROR    smodels.experiment.smsInterpolation:52  Need intermediate mass input for SUS12002b/T5ZZ.\n"
       ]
      },
      {
       "output_type": "stream",
       "stream": "stdout",
       "text": [
        "upper limit for mass vector:\t\tNone\n",
        "result.label:     \t\tSUS12002b:T1tttt\n",
        "result.sqrts:     \t\t7.00E+00 [TeV]\n",
        "result.conditions:\t\t['None']\n",
        "result.constraint:\t\t[[['t','t']],[['t','t']]]\n",
        "upper limit for mass vector:\t\tNone\n",
        "result.label:     \t\tATLAS_CONF_2012_105:T1tttt\n",
        "result.sqrts:     \t\t8.00E+00 [TeV]\n",
        "result.conditions:\t\t['None']\n",
        "result.constraint:\t\t[[['t+','t-']],[['t+','t-']]]\n",
        "upper limit for mass vector:\t\tNone\n",
        "result.label:     \t\tATLAS_CONF_2013_062:T6WW\n",
        "result.sqrts:     \t\t8.00E+00 [TeV]\n",
        "result.conditions:\t\t['None']\n",
        "result.constraint:\t\t[[['jet'],['W']],[['jet'],['W']]]\n",
        "11:47:43.152 ERROR    smodels.experiment.smsInterpolation:52  Need intermediate mass input for ATLAS_CONF_2013_062/T6WW.\n"
       ]
      },
      {
       "output_type": "stream",
       "stream": "stdout",
       "text": [
        "upper limit for mass vector:\t\tNone\n",
        "result.label:     \t\tATLAS_CONF_2013_062:T6bbWWoff\n",
        "result.sqrts:     \t\t8.00E+00 [TeV]\n",
        "result.conditions:\t\t['None']\n",
        "result.constraint:\t\t[[['b'],['L','nu']],[['b'],['L','nu']]] + [[['b'],['L','nu']],[['b'],['jet','jet']]] + [[['b'],['jet','jet']],[['b'],['jet','jet']]]\n",
        "11:47:43.153 ERROR    smodels.experiment.smsInterpolation:52  Need intermediate mass input for ATLAS_CONF_2013_062/T6bbWWoff.\n"
       ]
      },
      {
       "output_type": "stream",
       "stream": "stdout",
       "text": [
        "upper limit for mass vector:\t\tNone\n",
        "result.label:     \t\tATLAS_CONF_2013_062:T5WW\n",
        "result.sqrts:     \t\t8.00E+00 [TeV]\n",
        "result.conditions:\t\t['None']\n",
        "result.constraint:\t\t[[['jet','jet'],['W']],[['jet','jet'],['W']]]\n",
        "11:47:43.153 ERROR    smodels.experiment.smsInterpolation:52  Need intermediate mass input for ATLAS_CONF_2013_062/T5WW.\n"
       ]
      },
      {
       "output_type": "stream",
       "stream": "stdout",
       "text": [
        "upper limit for mass vector:\t\tNone\n",
        "result.label:     \t\tATLAS_CONF_2013_061:T1bbbb\n",
        "result.sqrts:     \t\t8.00E+00 [TeV]\n",
        "result.conditions:\t\t['None']\n",
        "result.constraint:\t\t[[['b','b']],[['b','b']]]\n",
        "upper limit for mass vector:\t\tNone\n",
        "result.label:     \t\tATLAS_CONF_2013_061:T1tbtb\n",
        "result.sqrts:     \t\t8.00E+00 [TeV]\n",
        "result.conditions:\t\t['None']\n",
        "result.constraint:\t\t[[['t','b']],[['t','b']]]\n",
        "upper limit for mass vector:\t\tNone\n",
        "result.label:     \t\tATLAS_CONF_2013_061:T1tttt\n",
        "result.sqrts:     \t\t8.00E+00 [TeV]\n",
        "result.conditions:\t\t['None']\n",
        "result.constraint:\t\t[[['t','t']],[['t','t']]]\n",
        "upper limit for mass vector:\t\tNone\n",
        "result.label:     \t\tATLAS_CONF_2013_065:T2tt\n",
        "result.sqrts:     \t\t8.00E+00 [TeV]\n",
        "result.conditions:\t\t['None']\n",
        "result.constraint:\t\t[[['t+']],[['t-']]]\n",
        "upper limit for mass vector:\t\t2.40E+00 [pb]"
       ]
      },
      {
       "output_type": "stream",
       "stream": "stdout",
       "text": [
        "\n",
        "result.label:     \t\tATLAS_CONF_2013_065:T6bbWW\n",
        "result.sqrts:     \t\t8.00E+00 [TeV]\n",
        "result.conditions:\t\t['None']\n",
        "result.constraint:\t\t[[['b'],['W+']],[['b'],['W-']]]\n",
        "11:47:43.207 ERROR    smodels.experiment.smsInterpolation:52  Need intermediate mass input for ATLAS_CONF_2013_065/T6bbWW.\n"
       ]
      },
      {
       "output_type": "stream",
       "stream": "stdout",
       "text": [
        "upper limit for mass vector:\t\tNone\n",
        "result.label:     \t\tATLAS_CONF_2013_065:T6bbWWoff\n",
        "result.sqrts:     \t\t8.00E+00 [TeV]\n",
        "result.conditions:\t\t['notyetassigned']\n",
        "result.constraint:\t\tnot yet assigned\n",
        "11:47:43.208 ERROR    smodels.experiment.smsInterpolation:52  Need intermediate mass input for ATLAS_CONF_2013_065/T6bbWWoff.\n"
       ]
      },
      {
       "output_type": "stream",
       "stream": "stdout",
       "text": [
        "upper limit for mass vector:\t\tNone\n",
        "result.label:     \t\tSUS14011:T1tttt\n",
        "result.sqrts:     \t\t8.00E+00 [TeV]\n",
        "result.conditions:\t\t['None']\n",
        "result.constraint:\t\t[[['t','t']],[['t','t']]]\n",
        "upper limit for mass vector:\t\tNone"
       ]
      },
      {
       "output_type": "stream",
       "stream": "stdout",
       "text": [
        "\n",
        "result.label:     \t\tSUS14011:T6bbWWoff\n",
        "result.sqrts:     \t\t8.00E+00 [TeV]\n",
        "result.conditions:\t\t['notjetassigned']\n",
        "result.constraint:\t\tnot jet assigned\n",
        "11:47:43.853 ERROR    smodels.experiment.smsInterpolation:52  Need intermediate mass input for SUS14011/T6bbWWoff.\n"
       ]
      },
      {
       "output_type": "stream",
       "stream": "stdout",
       "text": [
        "upper limit for mass vector:\t\tNone\n",
        "result.label:     \t\tSUS14011:T3tttbWoff\n",
        "result.sqrts:     \t\t8.00E+00 [TeV]\n",
        "result.conditions:\t\t['notjetassigned']\n",
        "result.constraint:\t\tnot jet assigned\n",
        "11:47:43.854 ERROR    smodels.experiment.smsInterpolation:52  Need intermediate mass input for SUS14011/T3tttbWoff.\n"
       ]
      },
      {
       "output_type": "stream",
       "stream": "stdout",
       "text": [
        "upper limit for mass vector:\t\tNone\n",
        "result.label:     \t\tSUS14011:T2tt\n",
        "result.sqrts:     \t\t8.00E+00 [TeV]\n",
        "result.conditions:\t\t['None']\n",
        "result.constraint:\t\t[[['t']],[['t']]]\n",
        "upper limit for mass vector:\t\t3.56E+00 [pb]"
       ]
      },
      {
       "output_type": "stream",
       "stream": "stdout",
       "text": [
        "\n",
        "result.label:     \t\tSUS14011:T1bbbb\n",
        "result.sqrts:     \t\t8.00E+00 [TeV]\n",
        "result.conditions:\t\t['None']\n",
        "result.constraint:\t\t[[['b','b']],[['b','b']]]\n",
        "upper limit for mass vector:\t\tNone"
       ]
      },
      {
       "output_type": "stream",
       "stream": "stdout",
       "text": [
        "\n",
        "result.label:     \t\tSUS14011:T1ttttoff\n",
        "result.sqrts:     \t\t8.00E+00 [TeV]\n",
        "result.conditions:\t\t['None']\n",
        "result.constraint:\t\t[[['b','b','W','W']],[['b','b','W','W']]]\n",
        "upper limit for mass vector:\t\tNone"
       ]
      },
      {
       "output_type": "stream",
       "stream": "stdout",
       "text": [
        "\n",
        "result.label:     \t\tSUS14011:T3tbbbWoff\n",
        "result.sqrts:     \t\t8.00E+00 [TeV]\n",
        "result.conditions:\t\t['notjetassigned']\n",
        "result.constraint:\t\tnot jet assigned\n",
        "11:47:44.128 ERROR    smodels.experiment.smsInterpolation:52  Need intermediate mass input for SUS14011/T3tbbbWoff.\n"
       ]
      },
      {
       "output_type": "stream",
       "stream": "stdout",
       "text": [
        "upper limit for mass vector:\t\tNone\n",
        "result.label:     \t\tSUS14011:T5tbtbWoff\n",
        "result.sqrts:     \t\t8.00E+00 [TeV]\n",
        "result.conditions:\t\t['notjetassigned']\n",
        "result.constraint:\t\tnot jet assigned\n",
        "11:47:44.129 ERROR    smodels.experiment.smsInterpolation:52  Need intermediate mass input for SUS14011/T5tbtbWoff.\n"
       ]
      },
      {
       "output_type": "stream",
       "stream": "stdout",
       "text": [
        "upper limit for mass vector:\t\tNone\n",
        "result.label:     \t\tSUS14011:T4tbWoff\n",
        "result.sqrts:     \t\t8.00E+00 [TeV]\n",
        "result.conditions:\t\t['notjetassigned']\n",
        "result.constraint:\t\tnot jet assigned\n",
        "11:47:44.130 ERROR    smodels.experiment.smsInterpolation:52  Need intermediate mass input for SUS14011/T4tbWoff.\n"
       ]
      },
      {
       "output_type": "stream",
       "stream": "stdout",
       "text": [
        "upper limit for mass vector:\t\tNone\n",
        "result.label:     \t\tSUS13018:T2bb\n",
        "result.sqrts:     \t\t8.00E+00 [TeV]\n",
        "result.conditions:\t\t['None']\n",
        "result.constraint:\t\t[[['b']],[['b']]]\n",
        "upper limit for mass vector:\t\t1.00E-01 [pb]\n",
        "result.label:     \t\tSUS12028:T1tttt\n",
        "result.sqrts:     \t\t8.00E+00 [TeV]\n",
        "result.conditions:\t\t['None']\n",
        "result.constraint:\t\t[[['t','t']],[['t','t']]]\n",
        "upper limit for mass vector:\t\tNone"
       ]
      },
      {
       "output_type": "stream",
       "stream": "stdout",
       "text": [
        "\n",
        "result.label:     \t\tSUS12028:T2tt\n",
        "result.sqrts:     \t\t8.00E+00 [TeV]\n",
        "result.conditions:\t\t['None']\n",
        "result.constraint:\t\t[[['t']],[['t']]]\n",
        "upper limit for mass vector:\t\t8.27E+00 [pb]"
       ]
      },
      {
       "output_type": "stream",
       "stream": "stdout",
       "text": [
        "\n",
        "result.label:     \t\tSUS12028:T1bbbb\n",
        "result.sqrts:     \t\t8.00E+00 [TeV]\n",
        "result.conditions:\t\t['None']\n",
        "result.constraint:\t\t[[['b','b']],[['b','b']]]\n",
        "upper limit for mass vector:\t\t6.27E-01 [pb]"
       ]
      },
      {
       "output_type": "stream",
       "stream": "stdout",
       "text": [
        "\n",
        "result.label:     \t\tSUS12028:T2\n",
        "result.sqrts:     \t\t8.00E+00 [TeV]\n",
        "result.conditions:\t\t['None']\n",
        "result.constraint:\t\t[[['jet']],[['jet']]]\n",
        "upper limit for mass vector:\t\t1.45E+00 [pb]"
       ]
      },
      {
       "output_type": "stream",
       "stream": "stdout",
       "text": [
        "\n",
        "result.label:     \t\tSUS12028:T1\n",
        "result.sqrts:     \t\t8.00E+00 [TeV]\n",
        "result.conditions:\t\t['None']\n",
        "result.constraint:\t\t[[['jet','jet']],[['jet','jet']]]\n",
        "upper limit for mass vector:\t\t2.11E+00 [pb]"
       ]
      },
      {
       "output_type": "stream",
       "stream": "stdout",
       "text": [
        "\n",
        "result.label:     \t\tSUS12028:T2bb\n",
        "result.sqrts:     \t\t8.00E+00 [TeV]\n",
        "result.conditions:\t\t['None']\n",
        "result.constraint:\t\t[[['b']],[['b']]]\n",
        "upper limit for mass vector:\t\t5.61E-01 [pb]"
       ]
      },
      {
       "output_type": "stream",
       "stream": "stdout",
       "text": [
        "\n",
        "result.label:     \t\tATLAS_CONF_2012_166:T2tt\n",
        "result.sqrts:     \t\t8.00E+00 [TeV]\n",
        "result.conditions:\t\t['None']\n",
        "result.constraint:\t\t[[['t']],[['t']]]\n",
        "upper limit for mass vector:\t\t2.54E+00 [pb]\n",
        "result.label:     \t\tATLAS_CONF_2012_166:T6bbWW\n",
        "result.sqrts:     \t\t8.00E+00 [TeV]\n",
        "result.conditions:\t\t['None']\n",
        "result.constraint:\t\t[[['b'],['W']],[['b'],['W']]]\n",
        "11:47:44.930 ERROR    smodels.experiment.smsInterpolation:52  Need intermediate mass input for ATLAS_CONF_2012_166/T6bbWW.\n"
       ]
      },
      {
       "output_type": "stream",
       "stream": "stdout",
       "text": [
        "upper limit for mass vector:\t\tNone\n",
        "result.label:     \t\tSUS12024:T1bbbb\n",
        "result.sqrts:     \t\t8.00E+00 [TeV]\n",
        "result.conditions:\t\t['None']\n",
        "result.constraint:\t\t[[['b','b']],[['b','b']]]\n",
        "upper limit for mass vector:\t\tNone"
       ]
      },
      {
       "output_type": "stream",
       "stream": "stdout",
       "text": [
        "\n",
        "result.label:     \t\tSUS12024:T1ttttoff\n",
        "result.sqrts:     \t\t8.00E+00 [TeV]\n",
        "result.conditions:\t\t['None']\n",
        "result.constraint:\t\t[[['b','b','W','W']],[['b','b','W','W']]]\n",
        "upper limit for mass vector:\t\tNone\n",
        "result.label:     \t\tSUS12024:T1tttt\n",
        "result.sqrts:     \t\t8.00E+00 [TeV]\n",
        "result.conditions:\t\t['None']\n",
        "result.constraint:\t\t[[['t','t']],[['t','t']]]\n",
        "upper limit for mass vector:\t\tNone"
       ]
      },
      {
       "output_type": "stream",
       "stream": "stdout",
       "text": [
        "\n",
        "result.label:     \t\tSUS12024:T5tttt\n",
        "result.sqrts:     \t\t8.00E+00 [TeV]\n",
        "result.conditions:\t\t['None']\n",
        "result.constraint:\t\t[[['t'],['t']],[['t'],['t']]]\n",
        "11:47:45.080 ERROR    smodels.experiment.smsInterpolation:52  Need intermediate mass input for SUS12024/T5tttt.\n"
       ]
      },
      {
       "output_type": "stream",
       "stream": "stdout",
       "text": [
        "upper limit for mass vector:\t\tNone\n",
        "result.label:     \t\tSUS12026:T1tttt\n",
        "result.sqrts:     \t\t8.00E+00 [TeV]\n",
        "result.conditions:\t\t['None']\n",
        "result.constraint:\t\t[[['t+','t-']],[['t+','t-']]]\n",
        "upper limit for mass vector:\t\tNone\n",
        "result.label:     \t\tSUS12022:TChiWZ\n",
        "result.sqrts:     \t\t8.00E+00 [TeV]\n",
        "result.conditions:\t\t['None']\n",
        "result.constraint:\t\t[[['W']],[['Z']]]\n",
        "upper limit for mass vector:\t\t1.52E-01 [pb]"
       ]
      },
      {
       "output_type": "stream",
       "stream": "stdout",
       "text": [
        "\n",
        "result.label:     \t\tSUS12022:TChiChipmStauStau\n",
        "result.sqrts:     \t\t8.00E+00 [TeV]\n",
        "result.conditions:\t\t['None']\n",
        "result.constraint:\t\t[[['ta'],['ta']],[['nu'],['ta']]]\n",
        "11:47:45.201 ERROR    smodels.experiment.smsInterpolation:52  Need intermediate mass input for SUS12022/TChiChipmStauStau.\n"
       ]
      },
      {
       "output_type": "stream",
       "stream": "stdout",
       "text": [
        "upper limit for mass vector:\t\tNone\n",
        "result.label:     \t\tSUS12022:TSlepSlep\n",
        "result.sqrts:     \t\t8.00E+00 [TeV]\n",
        "result.conditions:\t\t['Cgtr([[[mu+]],[[mu-]]],[[[e+]],[[e-]]])']\n",
        "result.constraint:\t\t[[['e+']],[['e-']]]+[[['mu+']],[['mu-']]]\n",
        "upper limit for mass vector:\t\t4.20E-03 [pb]\n",
        "result.label:     \t\tSUS12022:TChiChipmSlepStau\n",
        "result.sqrts:     \t\t8.00E+00 [TeV]\n",
        "result.conditions:\t\t['Cgtr([[[L],[L]],[[nu],[ta]]],3.*[[[ta],[ta]],[[nu],[ta]]])', 'Cgtr([[[L],[L]],[[nu],[ta]]],3.*[[[e],[e]],[[nu],[ta]]])']\n",
        "result.constraint:\t\t[[['L'],['L']],[['nu'],['ta']]]\n",
        "11:47:45.233 ERROR    smodels.experiment.smsInterpolation:52  Need intermediate mass input for SUS12022/TChiChipmSlepStau.\n"
       ]
      },
      {
       "output_type": "stream",
       "stream": "stdout",
       "text": [
        "upper limit for mass vector:\t\tNone\n",
        "result.label:     \t\tSUS12022:TChiChipmSlepL\n",
        "result.sqrts:     \t\t8.00E+00 [TeV]\n",
        "result.conditions:\t\t['Csim([[[L],[L]],[[L],[nu]]],[[[L],[L]],[[nu],[L]]])', 'Cgtr([[[L],[L]],[[nu],[L]]],3.*[[[ta],[ta]],[[nu],[L]]])', 'Cgtr([[[L],[L]],[[L],[nu]]],3.*[[[ta],[ta]],[[L],[nu]]])', 'Cgtr([[[L],[L]],[[nu],[L]]],3.*[[[L],[L]],[[nu],[ta]]])', 'Cgtr([[[L],[L]],[[L],[nu]]],3.*[[[L],[L]],[[ta],[nu]]])', 'Cgtr([[[L],[L]],[[nu],[L]]],3.*[[[e],[e]],[[nu],[L]]])', 'Cgtr([[[L],[L]],[[L],[nu]]],3.*[[[e],[e]],[[L],[nu]]])', 'Cgtr([[[L],[L]],[[nu],[L]]],3.*[[[L],[L]],[[nu],[e]]])', 'Cgtr([[[L],[L]],[[L],[nu]]],3.*[[[L],[L]],[[e],[nu]]])']\n",
        "result.constraint:\t\t2.*([[['L'],['L']],[['L'],['nu']]] + [[['L'],['L']],[['nu'],['L']]])\n",
        "11:47:45.234 ERROR    smodels.experiment.smsInterpolation:52  Need intermediate mass input for SUS12022/TChiChipmSlepL.\n"
       ]
      },
      {
       "output_type": "stream",
       "stream": "stdout",
       "text": [
        "upper limit for mass vector:\t\tNone\n",
        "result.label:     \t\tSUS12022:TChipChimSlepSnu\n",
        "result.sqrts:     \t\t8.00E+00 [TeV]\n",
        "result.conditions:\t\t['Csim([[[L-],[nu]],[[nu],[L+]]],[[[L+],[nu]],[[nu],[L-]]],[[[L+],[nu]],[[L-],[nu]]],[[[nu],[L+]],[[nu],[L-]]])', 'Cgtr([[[L-],[nu]],[[nu],[L+]]],3.*[[[ta-],[nu]],[[nu],[L+]]])', 'Cgtr([[[L-],[nu]],[[nu],[L+]]],3.*[[[L-],[nu]],[[nu],[ta+]]])', 'Cgtr([[[L+],[nu]],[[nu],[L-]]],3.*[[[ta+],[nu]],[[nu],[L-]]])', 'Cgtr([[[L+],[nu]],[[nu],[L-]]],3.*[[[L+],[nu]],[[nu],[ta-]]])', 'Cgtr([[[L+],[nu]],[[L-],[nu]]],3.*[[[ta+],[nu]],[[L-],[nu]]])', 'Cgtr([[[L+],[nu]],[[L-],[nu]]],3.*[[[L+],[nu]],[[ta-],[nu]]])', 'Cgtr([[[nu],[L+]],[[nu],[L-]]],3.*[[[nu],[ta+]],[[nu],[L-]]])', 'Cgtr([[[nu],[L+]],[[nu],[L-]]],3.*[[[nu],[L+]],[[nu],[ta-]]])', 'Cgtr([[[L-],[nu]],[[nu],[L+]]],3.*[[[e-],[nu]],[[nu],[L+]]])', 'Cgtr([[[L-],[nu]],[[nu],[L+]]],3.*[[[L-],[nu]],[[nu],[e+]]])', 'Cgtr([[[L+],[nu]],[[nu],[L-]]],3.*[[[e+],[nu]],[[nu],[L-]]])', 'Cgtr([[[L+],[nu]],[[nu],[L-]]],3.*[[[L+],[nu]],[[nu],[e-]]])', 'Cgtr([[[L+],[nu]],[[L-],[nu]]],3.*[[[e+],[nu]],[[L-],[nu]]])', 'Cgtr([[[L+],[nu]],[[L-],[nu]]],3.*[[[L+],[nu]],[[e-],[nu]]])', 'Cgtr([[[nu],[L+]],[[nu],[L-]]],3.*[[[nu],[e+]],[[nu],[L-]]])', 'Cgtr([[[nu],[L+]],[[nu],[L-]]],3.*[[[nu],[L+]],[[nu],[e-]]])']\n",
        "result.constraint:\t\t[[['L-'],['nu']],[['nu'],['L+']]] + [[['L+'],['nu']],[['nu'],['L-']]] + [[['L+'],['nu']],[['L-'],['nu']]] + [[['nu'],['L+']],[['nu'],['L-']]]\n",
        "11:47:45.235 ERROR    smodels.experiment.smsInterpolation:52  Need intermediate mass input for SUS12022/TChipChimSlepSnu.\n"
       ]
      },
      {
       "output_type": "stream",
       "stream": "stdout",
       "text": [
        "upper limit for mass vector:\t\tNone\n",
        "result.label:     \t\tATLAS_CONF_2013_049:TSlepSlep\n",
        "result.sqrts:     \t\t8.00E+00 [TeV]\n",
        "result.conditions:\t\t['Cgtr([[[mu+]],[[mu-]]],[[[e+]],[[e-]]])']\n",
        "result.constraint:\t\t[[['e+']],[['e-']]]+[[['mu+']],[['mu-']]]\n",
        "upper limit for mass vector:\t\t3.26E-03 [pb]\n",
        "result.label:     \t\tATLAS_CONF_2013_048:T2bbWW\n",
        "result.sqrts:     \t\t8.00E+00 [TeV]\n",
        "result.conditions:\t\t['None']\n",
        "result.constraint:\t\t[[['b','W+']],[['b','W-']]]\n",
        "upper limit for mass vector:\t\tNone\n",
        "result.label:     \t\tATLAS_CONF_2013_048:T6bbWW\n",
        "result.sqrts:     \t\t8.00E+00 [TeV]\n",
        "result.conditions:\t\t['None']\n",
        "result.constraint:\t\t[[['b'],['W+']],[['b'],['W-']]]\n",
        "11:47:45.270 ERROR    smodels.experiment.smsInterpolation:52  Need intermediate mass input for ATLAS_CONF_2013_048/T6bbWW.\n"
       ]
      },
      {
       "output_type": "stream",
       "stream": "stdout",
       "text": [
        "upper limit for mass vector:\t\tNone\n"
       ]
      }
     ],
     "prompt_number": 7
    },
    {
     "cell_type": "code",
     "collapsed": false,
     "input": [],
     "language": "python",
     "metadata": {},
     "outputs": []
    }
   ],
   "metadata": {}
  }
 ]
}
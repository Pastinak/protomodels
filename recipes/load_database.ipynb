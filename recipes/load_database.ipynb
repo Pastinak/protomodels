{
 "metadata": {
  "name": "",
  "signature": "sha256:062dee4d18567b0d13d345f864ab86508c8d322a56a012ed86c4d9e824a4118c"
 },
 "nbformat": 3,
 "nbformat_minor": 0,
 "worksheets": [
  {
   "cells": [
    {
     "cell_type": "heading",
     "level": 1,
     "metadata": {},
     "source": [
      "Recipe: load the database, filtering out only a few results. Will be obsolete with the database browser"
     ]
    },
    {
     "cell_type": "code",
     "collapsed": false,
     "input": [
      "import sys ## ugly hack to make sure smodels is in your path\n",
      "sys.path.append(\"../\")"
     ],
     "language": "python",
     "metadata": {},
     "outputs": [],
     "prompt_number": 1
    },
    {
     "cell_type": "code",
     "collapsed": false,
     "input": [
      "from smodels.experiment import smsAnalysisFactory, smsHelpers"
     ],
     "language": "python",
     "metadata": {},
     "outputs": [],
     "prompt_number": 2
    },
    {
     "cell_type": "code",
     "collapsed": false,
     "input": [
      "## smsHelpers.base=\"../../smodels-database/\" ## define where the database resides"
     ],
     "language": "python",
     "metadata": {},
     "outputs": [],
     "prompt_number": 3
    },
    {
     "cell_type": "code",
     "collapsed": false,
     "input": [
      "analyses=[\"SUS13006\"]\n",
      "topologies=[\"TSlepSlep\"]"
     ],
     "language": "python",
     "metadata": {},
     "outputs": [],
     "prompt_number": 4
    },
    {
     "cell_type": "code",
     "collapsed": false,
     "input": [
      "list_of_results=smsAnalysisFactory.load(analyses,topologies) ## load only the given analyses and topos"
     ],
     "language": "python",
     "metadata": {},
     "outputs": [],
     "prompt_number": 5
    },
    {
     "cell_type": "code",
     "collapsed": false,
     "input": [
      "for result in list_of_results:\n",
      "    print(\"result.label:     \\t\\t%s\" % result.label )\n",
      "    print(\"result.sqrts:     \\t\\t%s\" % result.sqrts )\n",
      "    print(\"result.conditions:\\t\\t%s\" % result.conditions )\n",
      "    print(\"result.constraint:\\t\\t%s\" % result.constraint )"
     ],
     "language": "python",
     "metadata": {},
     "outputs": [
      {
       "output_type": "stream",
       "stream": "stdout",
       "text": [
        "result.label:     \t\tSUS13006:TSlepSlep\n",
        "result.sqrts:     \t\t8.00E+00 [TeV]\n",
        "result.conditions:\t\t['Cgtr([[[mu+]],[[mu-]]],[[[e+]],[[e-]]])']\n",
        "result.constraint:\t\t[[['e+']],[['e-']]]+[[['mu+']],[['mu-']]]\n"
       ]
      }
     ],
     "prompt_number": 6
    },
    {
     "cell_type": "code",
     "collapsed": false,
     "input": [],
     "language": "python",
     "metadata": {},
     "outputs": []
    }
   ],
   "metadata": {}
  }
 ]
}
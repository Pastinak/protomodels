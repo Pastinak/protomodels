{
 "metadata": {
  "name": "",
  "signature": "sha256:f69c048a6e94c255a78c194233c4afead7201ee2ac7cb7a3c717729aed9612de"
 },
 "nbformat": 3,
 "nbformat_minor": 0,
 "worksheets": [
  {
   "cells": [
    {
     "cell_type": "heading",
     "level": 1,
     "metadata": {},
     "source": [
      "How To: Load the database, selecting only a few results."
     ]
    },
    {
     "cell_type": "code",
     "collapsed": false,
     "input": [
      "#Set up the path to SModelS installation folder if running on a different folder\n",
      "import sys\n",
      "sys.path.append(\"../\")"
     ],
     "language": "python",
     "metadata": {},
     "outputs": [],
     "prompt_number": 2
    },
    {
     "cell_type": "code",
     "collapsed": false,
     "input": [
      "from smodels.experiment import smsAnalysisFactory, smsHelpers\n",
      "from smodels.tools.physicsUnits import GeV"
     ],
     "language": "python",
     "metadata": {},
     "outputs": [],
     "prompt_number": 3
    },
    {
     "cell_type": "code",
     "collapsed": false,
     "input": [
      "## define where the database resides\n",
      "smsHelpers.base=\"../test/database/\""
     ],
     "language": "python",
     "metadata": {},
     "outputs": [],
     "prompt_number": 4
    },
    {
     "cell_type": "heading",
     "level": 2,
     "metadata": {},
     "source": [
      "How to load results from one publication."
     ]
    },
    {
     "cell_type": "code",
     "collapsed": false,
     "input": [
      "#Select only the CMS SUS-12-028 conference note\n",
      "analyses=[\"SUS12028\"]"
     ],
     "language": "python",
     "metadata": {},
     "outputs": [],
     "prompt_number": 5
    },
    {
     "cell_type": "code",
     "collapsed": false,
     "input": [
      "#Loads the selected analyses\n",
      "list_of_analyses=smsAnalysisFactory.load(analyses)"
     ],
     "language": "python",
     "metadata": {},
     "outputs": [],
     "prompt_number": 6
    },
    {
     "cell_type": "code",
     "collapsed": false,
     "input": [
      "#Print the analyses that were loaded:\n",
      "for analysis in list_of_analyses: analysis.printout(outputLevel=1)"
     ],
     "language": "python",
     "metadata": {},
     "outputs": [
      {
       "output_type": "stream",
       "stream": "stdout",
       "text": [
        "========================================================\n",
        "Analysis Name: SUS12028\n",
        "Tx Label: T2\n",
        "Analysis Sqrts: 8.00E+00 [TeV]\n",
        "\n",
        "========================================================\n",
        "Analysis Name: SUS12028\n",
        "Tx Label: T1\n",
        "Analysis Sqrts: 8.00E+00 [TeV]\n",
        "\n"
       ]
      }
     ],
     "prompt_number": 7
    },
    {
     "cell_type": "code",
     "collapsed": false,
     "input": [
      "#To see which elements are constrained by the analyses (in bracket notation), set outputLevel=2\n",
      "for analysis in list_of_analyses: analysis.printout(outputLevel=2)"
     ],
     "language": "python",
     "metadata": {},
     "outputs": [
      {
       "output_type": "stream",
       "stream": "stdout",
       "text": [
        "========================================================\n",
        "Analysis Name: SUS12028\n",
        "Tx Label: T2\n",
        "Analysis Sqrts: 8.00E+00 [TeV]\n",
        "\t -----------------------------\n",
        "\t Elements tested by analysis:\n",
        "\t    [[['jet']], [['jet']]]\n",
        "\n",
        "========================================================\n",
        "Analysis Name: SUS12028\n",
        "Tx Label: T1\n",
        "Analysis Sqrts: 8.00E+00 [TeV]\n",
        "\t -----------------------------\n",
        "\t Elements tested by analysis:\n",
        "\t    [[['jet', 'jet']], [['jet', 'jet']]]\n",
        "\n"
       ]
      }
     ],
     "prompt_number": 8
    },
    {
     "cell_type": "code",
     "collapsed": false,
     "input": [
      "#To print basic information about one analysis:\n",
      "analysisT1, analysisT2 = list_of_analyses\n",
      "print \"Name = \",analysisT1.label,\", Sqrts = \",analysisT1.sqrts, \", Luminosity =\",analysisT1.lum"
     ],
     "language": "python",
     "metadata": {},
     "outputs": [
      {
       "output_type": "stream",
       "stream": "stdout",
       "text": [
        "Name =  SUS12028:T2 , Sqrts =  8.00E+00 [TeV] , Luminosity = 1.17E+01 [1/fb]\n"
       ]
      }
     ],
     "prompt_number": 9
    },
    {
     "cell_type": "code",
     "collapsed": false,
     "input": [
      "#To obtain the upper limit for a given analysis and a given mass vector.\n",
      "#Note that the number of masses in the mass vector must be consitent with the analysis. For the T1 analysis, for instance:\n",
      "massesT1 = [[300*GeV,100*GeV],[300*GeV,100*GeV]]\n",
      "analysisT1 = list_of_analyses[0]\n",
      "print analysisT1.getUpperLimitFor(massesT1)"
     ],
     "language": "python",
     "metadata": {},
     "outputs": [
      {
       "output_type": "stream",
       "stream": "stdout",
       "text": [
        "1.45E+00 [pb]\n"
       ]
      }
     ],
     "prompt_number": 10
    },
    {
     "cell_type": "code",
     "collapsed": false,
     "input": [
      "#For the T2 analysis:\n",
      "massesT2 = [[300*GeV,50*GeV],[300*GeV,50*GeV]]\n",
      "print analysisT2.getUpperLimitFor(massesT2)"
     ],
     "language": "python",
     "metadata": {},
     "outputs": [
      {
       "output_type": "stream",
       "stream": "stdout",
       "text": [
        "1.99E+00 [pb]\n"
       ]
      }
     ],
     "prompt_number": 11
    },
    {
     "cell_type": "code",
     "collapsed": false,
     "input": [
      "#If you try with the wrong mass format, an error will be printed:\n",
      "masses = [[300*GeV],[300*GeV,50*GeV]]\n",
      "print analysisT2.getUpperLimitFor(masses)"
     ],
     "language": "python",
     "metadata": {},
     "outputs": [
      {
       "output_type": "stream",
       "stream": "stdout",
       "text": [
        "11:50:36.790 ERROR    smodels.experiment.limitGetter:76  Masses differ between branches.\n"
       ]
      },
      {
       "output_type": "stream",
       "stream": "stdout",
       "text": [
        "False\n"
       ]
      }
     ],
     "prompt_number": 12
    },
    {
     "cell_type": "heading",
     "level": 2,
     "metadata": {},
     "source": [
      "How to load results for one simplified model."
     ]
    },
    {
     "cell_type": "code",
     "collapsed": false,
     "input": [
      "#It is also possible to load all the results for a single constraint (using the Txname convention)\n",
      "#(The warning are just because we are using a test databse)\n",
      "Txnames = [\"T1\"]\n",
      "new_list = smsAnalysisFactory.load(topologies=Txnames)"
     ],
     "language": "python",
     "metadata": {},
     "outputs": [
      {
       "output_type": "stream",
       "stream": "stdout",
       "text": [
        "11:50:44.336 INFO     smodels.experiment.smsAnalysisFactory:61  SUS12022 has been superseded by SUS13006, skipping SUS12022\n"
       ]
      }
     ],
     "prompt_number": 13
    },
    {
     "cell_type": "code",
     "collapsed": false,
     "input": [
      "#In this \"test\" example there is only one analysis:\n",
      "for analysis in new_list: print analysis.label"
     ],
     "language": "python",
     "metadata": {},
     "outputs": [
      {
       "output_type": "stream",
       "stream": "stdout",
       "text": [
        "SUS12028:T1\n"
       ]
      }
     ],
     "prompt_number": 14
    },
    {
     "cell_type": "heading",
     "level": 2,
     "metadata": {},
     "source": [
      "How to load all results, including superseded publications."
     ]
    },
    {
     "cell_type": "code",
     "collapsed": false,
     "input": [
      "full_list = smsAnalysisFactory.load(useSuperseded=True)"
     ],
     "language": "python",
     "metadata": {},
     "outputs": [],
     "prompt_number": 17
    },
    {
     "cell_type": "code",
     "collapsed": false,
     "input": [
      "for analysis in full_list: print analysis.label"
     ],
     "language": "python",
     "metadata": {},
     "outputs": [
      {
       "output_type": "stream",
       "stream": "stdout",
       "text": [
        "SUS13006:TChiWZ\n",
        "SUS12028:T2\n",
        "SUS12028:T1\n",
        "ATLAS_CONF_2013_048:T2bbWW\n",
        "ATLAS_CONF_2013_048:T6bbWW\n",
        "SUS12022:TChiWZ\n"
       ]
      }
     ],
     "prompt_number": 18
    }
   ],
   "metadata": {}
  }
 ]
}
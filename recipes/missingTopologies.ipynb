{
 "metadata": {
  "name": "",
  "signature": "sha256:20df55934dedd3dd22b6ebfb09cd91dedc5b8af02eb7320103bf1a6914a4ba88"
 },
 "nbformat": 3,
 "nbformat_minor": 0,
 "worksheets": [
  {
   "cells": [
    {
     "cell_type": "code",
     "collapsed": false,
     "input": [
      "from smodels.tools.physicsUnits import TeV, GeV, fb"
     ],
     "language": "python",
     "metadata": {},
     "outputs": [],
     "prompt_number": 18
    },
    {
     "cell_type": "code",
     "collapsed": false,
     "input": [
      "from smodels.installation import installDirectory"
     ],
     "language": "python",
     "metadata": {},
     "outputs": [],
     "prompt_number": 19
    },
    {
     "cell_type": "code",
     "collapsed": false,
     "input": [
      "from smodels.theory import slhaDecomposer"
     ],
     "language": "python",
     "metadata": {},
     "outputs": [],
     "prompt_number": 20
    },
    {
     "cell_type": "code",
     "collapsed": false,
     "input": [
      "from smodels.experiment import smsAnalysisFactory, smsHelpers"
     ],
     "language": "python",
     "metadata": {},
     "outputs": [],
     "prompt_number": 21
    },
    {
     "cell_type": "code",
     "collapsed": false,
     "input": [
      "from smodels.tools import missingTopologies"
     ],
     "language": "python",
     "metadata": {},
     "outputs": [],
     "prompt_number": 22
    },
    {
     "cell_type": "code",
     "collapsed": false,
     "input": [
      "# define where the database resides\n",
      "smsHelpers.base = \"../test/database/\""
     ],
     "language": "python",
     "metadata": {},
     "outputs": [],
     "prompt_number": 23
    },
    {
     "cell_type": "code",
     "collapsed": false,
     "input": [
      "# load list of analyses from database\n",
      "listOfAnalyses = smsAnalysisFactory.load()"
     ],
     "language": "python",
     "metadata": {},
     "outputs": [
      {
       "output_type": "stream",
       "stream": "stdout",
       "text": [
        "14:13:45.392 INFO     smodels.experiment.smsAnalysisFactory:61  SUS12022 has been superseded by SUS13006, skipping SUS12022\n"
       ]
      }
     ],
     "prompt_number": 24
    },
    {
     "cell_type": "code",
     "collapsed": false,
     "input": [
      "# Define the SLHA file name\n",
      "filename = \"%s/inputFiles/slha/lightSquarks.slha\" % installDirectory()"
     ],
     "language": "python",
     "metadata": {},
     "outputs": [],
     "prompt_number": 25
    },
    {
     "cell_type": "code",
     "collapsed": false,
     "input": [
      "# Perform the decomposition:\n",
      "listOfTopologies = slhaDecomposer.decompose (filename, sigcut=0.5*fb, doCompress=True, doInvisible=True, minmassgap=5*GeV)"
     ],
     "language": "python",
     "metadata": {},
     "outputs": [
      {
       "output_type": "stream",
       "stream": "stdout",
       "text": [
        "14:13:47.486 INFO     smodels.theory.slhaDecomposer:132 Ignoring t+ decays\n"
       ]
      },
      {
       "output_type": "stream",
       "stream": "stdout",
       "text": [
        "14:13:47.493 INFO     smodels.theory.slhaDecomposer:132 Ignoring higgs decays\n"
       ]
      },
      {
       "output_type": "stream",
       "stream": "stdout",
       "text": [
        "14:13:47.493 INFO     smodels.theory.slhaDecomposer:132 Ignoring H0 decays\n"
       ]
      },
      {
       "output_type": "stream",
       "stream": "stdout",
       "text": [
        "14:13:47.494 INFO     smodels.theory.slhaDecomposer:132 Ignoring A0 decays\n"
       ]
      },
      {
       "output_type": "stream",
       "stream": "stdout",
       "text": [
        "14:13:47.494 INFO     smodels.theory.slhaDecomposer:132 Ignoring H+ decays\n"
       ]
      },
      {
       "output_type": "stream",
       "stream": "stdout",
       "text": [
        "14:13:47.546 INFO     smodels.theory.crossSection:512 Ignoring 76 lower order cross-sections\n"
       ]
      }
     ],
     "prompt_number": 26
    },
    {
     "cell_type": "code",
     "collapsed": false,
     "input": [
      "# Initiate missing Topologies for 8 TeV\n",
      "missingtopos = missingTopologies.MissingTopoList(8*TeV)"
     ],
     "language": "python",
     "metadata": {},
     "outputs": [],
     "prompt_number": 27
    },
    {
     "cell_type": "code",
     "collapsed": false,
     "input": [
      "# Check listOfTopologies against listOfAnalyses to find missing topologies\n",
      "missingtopos.findMissingTopos(listOfTopologies, listOfAnalyses, minmassgap=5*GeV,doCompress=True, doInvisible=True)"
     ],
     "language": "python",
     "metadata": {},
     "outputs": [],
     "prompt_number": 28
    },
    {
     "cell_type": "code",
     "collapsed": false,
     "input": [
      "# to print a sorted list of missing topologies with high weights use\n",
      "missingtopos.printout()"
     ],
     "language": "python",
     "metadata": {},
     "outputs": [
      {
       "output_type": "stream",
       "stream": "stdout",
       "text": [
        "\n",
        "================================================================================\n",
        "Missing topologies with the highest cross-sections (up to 10):\n",
        "Sqrts (TeV)   Weight (fb)        Element description\n",
        "8.00E+00   9.588E+01    #                             [[[W]],[[higgs]]]\n",
        "8.00E+00   5.958E+01    #                                 [[[W]],[[W]]]\n",
        "8.00E+00   1.511E+01    #                 [[[jet],[W]],[[jet,jet],[W]]]\n",
        "8.00E+00   9.069E+00    #             [[[jet,jet],[W]],[[jet,jet],[W]]]\n",
        "8.00E+00   7.822E+00    #                     [[[jet]],[[jet,jet],[W]]]\n",
        "8.00E+00   5.500E+00    #                     [[[jet],[W]],[[jet],[W]]]\n",
        "8.00E+00   4.964E+00    #             [[[jet],[W]],[[jet,jet],[higgs]]]\n",
        "8.00E+00   4.932E+00    #             [[[jet],[higgs]],[[jet,jet],[W]]]\n",
        "8.00E+00   4.603E+00    #                 [[[b,t],[W]],[[jet,jet],[W]]]\n",
        "8.00E+00   4.603E+00    #                 [[[jet,jet],[W]],[[t,b],[W]]]\n",
        "\n"
       ]
      }
     ],
     "prompt_number": 29
    },
    {
     "cell_type": "code",
     "collapsed": false,
     "input": [
      "# To access the missing topologies direcly\n",
      "# For the i-th entry, where the entries are not sorted, do\n",
      "i = 3\n",
      "topology = missingtopos.topos[i]\n",
      "print topology.topo\n",
      "print topology.weights\n",
      "print topology.value"
     ],
     "language": "python",
     "metadata": {},
     "outputs": [
      {
       "output_type": "stream",
       "stream": "stdout",
       "text": [
        "[[[jet]],[[jet],[W]]]\n",
        "['8.00E+00 [TeV]:2.11E-03 [pb]']\n",
        "2.11E+00 \n"
       ]
      }
     ],
     "prompt_number": 30
    }
   ],
   "metadata": {}
  }
 ]
}
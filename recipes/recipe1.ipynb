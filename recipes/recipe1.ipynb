{
 "metadata": {
  "name": "",
  "signature": "sha256:a19aa0cdd47a8350c3390f37050ba034cd734c367e1b9630bc5a341b7efc1567"
 },
 "nbformat": 3,
 "nbformat_minor": 0,
 "worksheets": [
  {
   "cells": [
    {
     "cell_type": "heading",
     "level": 1,
     "metadata": {},
     "source": [
      "Recipe #1: compute LO cross sections for a given slha file"
     ]
    },
    {
     "cell_type": "heading",
     "level": 3,
     "metadata": {},
     "source": [
      "Wolfgang Waltenberger, june 2014"
     ]
    },
    {
     "cell_type": "code",
     "collapsed": false,
     "input": [
      "# now lets import those parts of smodels that are needed for this exercise\n",
      "from smodels.tools import xsecComputer\n",
      "from smodels.tools.physicsUnits import TeV, fb\n",
      "from smodels.tools.xsecComputer import LO, NLL"
     ],
     "language": "python",
     "metadata": {},
     "outputs": [],
     "prompt_number": 1
    },
    {
     "cell_type": "code",
     "collapsed": false,
     "input": [
      "# fetch example1.slha via http, save as tmp.slha\n",
      "import urllib\n",
      "urllib.urlretrieve(\"http://smodels.hephy.at/slha/example1.slha\",\"tmp.slha\")"
     ],
     "language": "python",
     "metadata": {},
     "outputs": [
      {
       "metadata": {},
       "output_type": "pyout",
       "prompt_number": 2,
       "text": [
        "('tmp.slha', <httplib.HTTPMessage instance at 0x7fe23cfe7fc8>)"
       ]
      }
     ],
     "prompt_number": 2
    },
    {
     "cell_type": "code",
     "collapsed": false,
     "input": [
      "# now lets compute the leading order (LO) cross sections for 8 TeV, simulating 1000\n",
      "# events with pythia.\n",
      "xsecs=xsecComputer.computeXSec ( 8*TeV, LO, 1000, \"tmp.slha\" )"
     ],
     "language": "python",
     "metadata": {},
     "outputs": [],
     "prompt_number": 3
    },
    {
     "cell_type": "code",
     "collapsed": false,
     "input": [
      "# the output is a XSectionList ...\n",
      "type(xsecs)"
     ],
     "language": "python",
     "metadata": {},
     "outputs": [
      {
       "metadata": {},
       "output_type": "pyout",
       "prompt_number": 4,
       "text": [
        "smodels.theory.crossSection.XSectionList"
       ]
      }
     ],
     "prompt_number": 4
    },
    {
     "cell_type": "code",
     "collapsed": false,
     "input": [
      "# ... which has a .getDictionary() method which contains the cross sections\n",
      "D=xsecs.getDictionary(groupBy=\"labels\")[\"8 TeV (LO)\"]\n",
      "print D"
     ],
     "language": "python",
     "metadata": {},
     "outputs": [
      {
       "output_type": "stream",
       "stream": "stdout",
       "text": [
        "{(-1000014, 1000013): 7.09E-03 [pb], (-1000024, 1000024): 2.11E-02 [pb], (-2000011, 2000011): 2.08E-04 [pb], (-1000024, 1000023): 1.04E-02 [pb], (-1000011, 1000012): 1.90E-02 [pb], (-1000037, 1000025): 2.08E-04 [pb], (-1000012, 1000012): 8.55E-03 [pb], (-1000012, 1000011): 9.17E-03 [pb], (-1000011, 1000011): 7.50E-03 [pb], (-1000014, 1000014): 9.17E-03 [pb], (-1000016, 1000016): 7.92E-03 [pb], (-1000013, 1000014): 1.77E-02 [pb], (-1000016, 1000015): 9.17E-03 [pb], (-1000013, 1000013): 6.46E-03 [pb], (-2000015, 1000016): 2.08E-04 [pb], (1000023, 1000024): 3.50E-02 [pb], (-1000015, 1000016): 2.77E-02 [pb], (-1000015, 1000015): 1.19E-02 [pb]}\n"
       ]
      }
     ],
     "prompt_number": 5
    },
    {
     "cell_type": "code",
     "collapsed": false,
     "input": [
      "# now lets make a simple bar chart of all cross sections, in fb \n",
      "import pylab; import numpy; pylab.bar( range(len(D)), map ( lambda x: float(x/fb), D.values() ) )\n",
      "pylab.xticks( .5+ numpy.arange(len(D)), D.keys(), rotation=\"vertical\" ); pylab.ylabel( \"xsec [fb]\");"
     ],
     "language": "python",
     "metadata": {},
     "outputs": [
      {
       "metadata": {},
       "output_type": "display_data",
       "png": "[encoded data removed]",
       "text": [
        "<matplotlib.figure.Figure at 0x7fe23cfe0e50>"
       ]
      }
     ],
     "prompt_number": 7
    }
   ],
   "metadata": {}
  }
 ]
}
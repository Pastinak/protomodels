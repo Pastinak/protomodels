{
 "metadata": {
  "name": "",
  "signature": "sha256:554c33af13511bbd71315c5962bd634a59b575ac91b41acd34912733f6c30a69"
 },
 "nbformat": 3,
 "nbformat_minor": 0,
 "worksheets": [
  {
   "cells": [
    {
     "cell_type": "heading",
     "level": 1,
     "metadata": {},
     "source": [
      "Recipe #4: look up the upper limit of a particular result, for a particular set of mother and daughter masses"
     ]
    },
    {
     "cell_type": "code",
     "collapsed": false,
     "input": [
      "from smodels.tools.physicsUnits import GeV\n",
      "from smodels.experiment.smsInterpolation import upperLimit"
     ],
     "language": "python",
     "metadata": {},
     "outputs": [],
     "prompt_number": 1
    },
    {
     "cell_type": "code",
     "collapsed": false,
     "input": [
      "#specify analysis and topology as strings:\n",
      "analysis = \"ATLAS_CONF_2013_048\"\n",
      "topology = \"T6bbWW\""
     ],
     "language": "python",
     "metadata": {},
     "outputs": [],
     "prompt_number": 2
    },
    {
     "cell_type": "code",
     "collapsed": false,
     "input": [
      "masses = [500*GeV, 400*GeV, 100*GeV]"
     ],
     "language": "python",
     "metadata": {},
     "outputs": [],
     "prompt_number": 3
    },
    {
     "cell_type": "code",
     "collapsed": false,
     "input": [
      "upperLimit(analysis, topology, masses)"
     ],
     "language": "python",
     "metadata": {},
     "outputs": [
      {
       "metadata": {},
       "output_type": "pyout",
       "prompt_number": 4,
       "text": [
        "1.02E-01 [pb]"
       ]
      }
     ],
     "prompt_number": 4
    }
   ],
   "metadata": {}
  }
 ]
}
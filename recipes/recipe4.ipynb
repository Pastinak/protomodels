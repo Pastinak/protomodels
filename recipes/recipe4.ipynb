{
 "metadata": {
  "name": "",
  "signature": "sha256:c901a9b26b9802feaf8b7a77a03b881c58dfe16c39a4447b69a9ee89a0d669e7"
 },
 "nbformat": 3,
 "nbformat_minor": 0,
 "worksheets": [
  {
   "cells": [
    {
     "cell_type": "heading",
     "level": 1,
     "metadata": {},
     "source": [
      "Recipe #4: look up the upper limit of a particular result, for a particular set of mother and daughter masses"
     ]
    },
    {
     "cell_type": "code",
     "collapsed": false,
     "input": [
      "from smodels.tools.physicsUnits import GeV\n",
      "from smodels.experiment.smsInterpolation import upperLimit\n",
      "from smodels.experiment import smsHelpers"
     ],
     "language": "python",
     "metadata": {},
     "outputs": [],
     "prompt_number": 1
    },
    {
     "cell_type": "code",
     "collapsed": false,
     "input": [
      "#specify analysis and topology as strings:\n",
      "analysis = \"ATLAS_CONF_2013_048\"\n",
      "topology = \"T6bbWW\""
     ],
     "language": "python",
     "metadata": {},
     "outputs": [],
     "prompt_number": 2
    },
    {
     "cell_type": "code",
     "collapsed": false,
     "input": [
      "masses = [500*GeV, 400*GeV, 100*GeV]"
     ],
     "language": "python",
     "metadata": {},
     "outputs": [],
     "prompt_number": 3
    },
    {
     "cell_type": "code",
     "collapsed": false,
     "input": [
      "upperLimit(analysis, topology, masses)"
     ],
     "language": "python",
     "metadata": {},
     "outputs": [
      {
       "metadata": {},
       "output_type": "pyout",
       "prompt_number": 4,
       "text": [
        "1.02E-01 [pb]"
       ]
      }
     ],
     "prompt_number": 4
    }
   ],
   "metadata": {}
  }
 ]
}
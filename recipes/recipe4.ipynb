{
 "metadata": {
  "name": "",
  "signature": "sha256:ef94b2100135026f429fc4399ef7d6644b7badb4f9bb2f8d756c58eefca1bcd7"
 },
 "nbformat": 3,
 "nbformat_minor": 0,
 "worksheets": [
  {
   "cells": [
    {
     "cell_type": "heading",
     "level": 1,
     "metadata": {},
     "source": [
      "Recipe #4: look up the upper limit of a particular result, for a particular set of mother and daughter masses"
     ]
    },
    {
     "cell_type": "code",
     "collapsed": false,
     "input": [
      "import sys ## ugly hack to make sure smodels is in our path\n",
      "sys.path.append(\"../\")"
     ],
     "language": "python",
     "metadata": {},
     "outputs": [],
     "prompt_number": 1
    },
    {
     "cell_type": "code",
     "collapsed": false,
     "input": [
      "from smodels.tools.physicsUnits import GeV\n",
      "from smodels.experiment.smsInterpolation import upperLimit"
     ],
     "language": "python",
     "metadata": {},
     "outputs": [],
     "prompt_number": 2
    },
    {
     "cell_type": "code",
     "collapsed": false,
     "input": [
      "#specify analysis and topology as strings:\n",
      "analysis = \"ATLAS_CONF_2013_048\"\n",
      "topology = \"T6bbWW\""
     ],
     "language": "python",
     "metadata": {},
     "outputs": [],
     "prompt_number": 3
    },
    {
     "cell_type": "code",
     "collapsed": false,
     "input": [
      "masses = [500*GeV, 400*GeV, 100*GeV]"
     ],
     "language": "python",
     "metadata": {},
     "outputs": [],
     "prompt_number": 4
    },
    {
     "cell_type": "code",
     "collapsed": false,
     "input": [
      "upperLimit(analysis, topology, masses)"
     ],
     "language": "python",
     "metadata": {},
     "outputs": [
      {
       "metadata": {},
       "output_type": "pyout",
       "prompt_number": 5,
       "text": [
        "1.02E-01 [pb]"
       ]
      }
     ],
     "prompt_number": 5
    },
    {
     "cell_type": "code",
     "collapsed": false,
     "input": [],
     "language": "python",
     "metadata": {},
     "outputs": []
    }
   ],
   "metadata": {}
  }
 ]
}
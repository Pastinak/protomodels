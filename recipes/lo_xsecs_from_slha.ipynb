{
 "metadata": {
  "name": "",
  "signature": "sha256:8a59ef8bb5bf238e03790aea3f06aef44f3300c72251976bf6919926e3d25cb5"
 },
 "nbformat": 3,
 "nbformat_minor": 0,
 "worksheets": [
  {
   "cells": [
    {
     "cell_type": "heading",
     "level": 1,
     "metadata": {},
     "source": [
      "How To: Compute LO cross sections for a given SLHA file"
     ]
    },
    {
     "cell_type": "code",
     "collapsed": false,
     "input": [
      "#Set up the path to SModelS installation folder if running on a different folder\n",
      "import sys\n",
      "sys.path.append(\"../\")"
     ],
     "language": "python",
     "metadata": {},
     "outputs": [],
     "prompt_number": 1
    },
    {
     "cell_type": "code",
     "collapsed": false,
     "input": [
      "#Import those parts of smodels that are needed for this exercise\n",
      "from smodels.tools import xsecComputer\n",
      "from smodels.tools.physicsUnits import TeV, fb\n",
      "from smodels.installation import installDirectory\n",
      "from smodels.tools.xsecComputer import LO, NLL"
     ],
     "language": "python",
     "metadata": {},
     "outputs": [],
     "prompt_number": 2
    },
    {
     "cell_type": "code",
     "collapsed": false,
     "input": [
      "#Define the SLHA file name\n",
      "filename=\"%s/inputFiles/slha/gluino_squarks.slha\" % installDirectory()"
     ],
     "language": "python",
     "metadata": {},
     "outputs": [],
     "prompt_number": 3
    },
    {
     "cell_type": "code",
     "collapsed": false,
     "input": [
      "#Now lets compute the leading order (LO) cross sections for 8 TeV, simulating 1000\n",
      "# events with pythia.\n",
      "xsecs=xsecComputer.computeXSec ( 8*TeV, LO, 1000, filename )"
     ],
     "language": "python",
     "metadata": {},
     "outputs": [],
     "prompt_number": 4
    },
    {
     "cell_type": "code",
     "collapsed": false,
     "input": [
      "# the output is a XSectionList ...\n",
      "type(xsecs)"
     ],
     "language": "python",
     "metadata": {},
     "outputs": [
      {
       "metadata": {},
       "output_type": "pyout",
       "prompt_number": 5,
       "text": [
        "smodels.theory.crossSection.XSectionList"
       ]
      }
     ],
     "prompt_number": 5
    },
    {
     "cell_type": "code",
     "collapsed": false,
     "input": [
      "#Each entry in the list contains the cross-section value:\n",
      "print(xsecs[0].value)\n",
      "#The PDGs of the particles produced:\n",
      "print(xsecs[0].pid)\n",
      "#And some additional info\n",
      "print(\"label =\",xsecs[0].info.label,\"Sqrts =\",xsecs[0].info.sqrts, \"QCD order =\",xsecs[0].info.order)"
     ],
     "language": "python",
     "metadata": {},
     "outputs": [
      {
       "output_type": "stream",
       "stream": "stdout",
       "text": [
        "1.24E-02 [pb]\n",
        "(1000001, 1000021)\n",
        "('label =', '8 TeV (LO)', 'Sqrts =', 8.00E+00 [TeV], 'QCD order =', 0)\n"
       ]
      }
     ],
     "prompt_number": 6
    },
    {
     "cell_type": "code",
     "collapsed": false,
     "input": [
      "#It is also possible to convert everything to a dictionary, using the .getDictionary() method:\n",
      "xsecDic=xsecs.getDictionary(groupBy=\"labels\")[\"8 TeV (LO)\"]\n",
      "print xsecDic[(1000001,1000021)]"
     ],
     "language": "python",
     "metadata": {},
     "outputs": [
      {
       "output_type": "stream",
       "stream": "stdout",
       "text": [
        "1.24E-02 [pb]\n"
       ]
      }
     ],
     "prompt_number": 7
    },
    {
     "cell_type": "code",
     "collapsed": false,
     "input": [
      "# now lets make a simple bar chart of the first 12 cross sections, in fb\n",
      "xsecPlot = dict(xsecDic.items()[:12])\n",
      "import pylab; import numpy; pylab.bar( range(len(xsecPlot)), map ( lambda x: float(x/fb), xsecPlot.values() ) )\n",
      "pylab.xticks( .5+ numpy.arange(len(xsecPlot)), xsecPlot.keys(), rotation=\"vertical\" ); pylab.ylabel( \"xsec [fb]\");"
     ],
     "language": "python",
     "metadata": {},
     "outputs": [
      {
       "metadata": {},
       "output_type": "display_data",
       "png": "[encoded data removed]",
       "text": [
        "<matplotlib.figure.Figure at 0x1059e9250>"
       ]
      }
     ],
     "prompt_number": 8
    },
    {
     "cell_type": "code",
     "collapsed": false,
     "input": [
      "#Finally, lets write the cross-sections back to the file (will write only the cross-sections not overlapping the existing ones):\n",
      "xsecComputer.addXSecToFile(xsecs,filename)"
     ],
     "language": "python",
     "metadata": {},
     "outputs": [
      {
       "output_type": "stream",
       "stream": "stdout",
       "text": [
        "20:18:34.465 WARNING  smodels.tools.xsecComputer:150 SLHA file already contains XSECTION blocks. Adding only missing cross-sections.\n"
       ]
      },
      {
       "metadata": {},
       "output_type": "pyout",
       "prompt_number": 9,
       "text": [
        "True"
       ]
      }
     ],
     "prompt_number": 9
    }
   ],
   "metadata": {}
  }
 ]
}
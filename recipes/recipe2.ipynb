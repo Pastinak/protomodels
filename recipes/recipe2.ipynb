{
 "metadata": {
  "name": "",
  "signature": "sha256:e348366cbbbe510357b98f9ee2331610907e1723b0407fd41bb0c2a2b5590989"
 },
 "nbformat": 3,
 "nbformat_minor": 0,
 "worksheets": [
  {
   "cells": [
    {
     "cell_type": "heading",
     "level": 1,
     "metadata": {},
     "source": [
      "Recipe #2: compute NLL cross sections for a given slha file, recycling LO cross sections"
     ]
    },
    {
     "cell_type": "heading",
     "level": 3,
     "metadata": {},
     "source": [
      "Wolfgang Waltenberger, june 2014"
     ]
    },
    {
     "cell_type": "code",
     "collapsed": false,
     "input": [
      "# we start by setting the python paths to the smodels installation\n",
      "import setPath"
     ],
     "language": "python",
     "metadata": {},
     "outputs": [],
     "prompt_number": 1
    },
    {
     "cell_type": "code",
     "collapsed": false,
     "input": [
      "# now lets import those parts of smodels that are needed for this exercise\n",
      "from smodels.tools import xsecComputer\n",
      "from smodels.tools.physicsUnits import TeV, fb\n",
      "from smodels.tools.xsecComputer import LO, NLL"
     ],
     "language": "python",
     "metadata": {},
     "outputs": [],
     "prompt_number": 2
    },
    {
     "cell_type": "code",
     "collapsed": false,
     "input": [
      "# fetch example1.slha via http, save as tmp.slha\n",
      "import urllib\n",
      "urllib.urlretrieve(\"http://smodels.hephy.at/slha/example2.slha\",\"tmp.slha\")"
     ],
     "language": "python",
     "metadata": {},
     "outputs": [
      {
       "metadata": {},
       "output_type": "pyout",
       "prompt_number": 3,
       "text": [
        "('tmp.slha', <httplib.HTTPMessage instance at 0x7fca30052170>)"
       ]
      }
     ],
     "prompt_number": 3
    },
    {
     "cell_type": "code",
     "collapsed": false,
     "input": [
      "# now lets compute the leading order (LO) cross sections for 8 TeV, simulating 1000\n",
      "# events with pythia.\n",
      "xsecsLO=xsecComputer.computeXSec ( 8*TeV, LO, 1000, \"tmp.slha\" )"
     ],
     "language": "python",
     "metadata": {},
     "outputs": [],
     "prompt_number": 4
    },
    {
     "cell_type": "code",
     "collapsed": false,
     "input": [
      "print xsecsLO.getDictionary(groupBy=\"labels\")"
     ],
     "language": "python",
     "metadata": {},
     "outputs": [
      {
       "output_type": "stream",
       "stream": "stdout",
       "text": [
        "{'8 TeV (LO)': {(1000001, 1000021): 0.0121800057495 [pb], (-1000004, -1000001): 0.000348000164272 [pb], (-1000024, 1000024): 0.028188013306 [pb], (1000021, 1000021): 0.00139200065709 [pb], (-1000024, 1000023): 0.0121800057495 [pb], (-2000002, 1000002): 0.000348000164272 [pb], (-1000002, 1000023): 0.000696000328544 [pb], (1000022, 1000037): 0.000348000164272 [pb], (1000003, 1000021): 0.000696000328544 [pb], (-1000004, 1000002): 0.000696000328544 [pb], (1000001, 1000003): 0.00348000164272 [pb], (-1000001, 2000002): 0.00104400049282 [pb], (-1000003, 1000003): 0.0024360011499 [pb], (-2000003, 1000002): 0.000348000164272 [pb], (-1000037, 1000035): 0.000348000164272 [pb], (1000035, 1000037): 0.0024360011499 [pb], (1000001, 1000002): 0.0553320261192 [pb], (1000002, 2000002): 0.00417600197126 [pb], (-1000024, 1000002): 0.00730800344971 [pb], (1000023, 1000024): 0.0334080157701 [pb], (1000001, 2000001): 0.000348000164272 [pb], (-1000024, 1000021): 0.000348000164272 [pb], (-1000003, 1000021): 0.000696000328544 [pb], (-1000002, 1000024): 0.000696000328544 [pb], (1000002, 1000023): 0.00696000328544 [pb], (-1000004, 1000004): 0.00313200147845 [pb], (-1000003, 1000002): 0.00139200065709 [pb], (1000002, 1000002): 0.0546360257907 [pb], (-1000024, -1000003): 0.000348000164272 [pb], (1000025, 1000035): 0.00104400049282 [pb], (1000001, 1000001): 0.00591600279262 [pb], (-1000001, 2000001): 0.000696000328544 [pb], (2000001, 2000002): 0.000348000164272 [pb], (1000001, 1000024): 0.024360011499 [pb], (-1000002, 2000002): 0.000696000328544 [pb], (-1000002, -1000001): 0.000696000328544 [pb], (-1000002, 1000021): 0.000348000164272 [pb], (1000001, 1000023): 0.00174000082136 [pb], (-1000024, 1000022): 0.000696000328544 [pb], (-1000002, 1000002): 0.00382800180699 [pb], (1000021, 1000023): 0.00139200065709 [pb], (1000021, 2000002): 0.00174000082136 [pb], (1000002, 2000001): 0.00174000082136 [pb], (1000003, 1000024): 0.000696000328544 [pb], (-1000003, 1000001): 0.000348000164272 [pb], (1000022, 2000002): 0.00104400049282 [pb], (1000002, 1000003): 0.00522000246408 [pb], (1000021, 1000037): 0.000348000164272 [pb], (-1000001, 1000002): 0.000696000328544 [pb], (-1000037, 1000037): 0.000348000164272 [pb], (-1000037, 1000002): 0.000348000164272 [pb], (-1000024, 1000037): 0.000696000328544 [pb], (-1000024, 1000025): 0.000696000328544 [pb], (-1000024, 1000004): 0.000348000164272 [pb], (1000022, 1000035): 0.000348000164272 [pb], (1000023, 1000025): 0.000348000164272 [pb], (-1000002, 2000001): 0.000348000164272 [pb], (-1000016, 1000016): 0.000348000164272 [pb], (1000001, 1000022): 0.000696000328544 [pb], (-1000004, -1000002): 0.000348000164272 [pb], (-2000001, 1000002): 0.000696000328544 [pb], (1000021, 1000022): 0.00104400049282 [pb], (1000021, 2000001): 0.00139200065709 [pb], (1000002, 1000021): 0.0330600156058 [pb], (-1000003, -1000001): 0.000348000164272 [pb], (1000023, 1000023): 0.000348000164272 [pb], (-1000024, -1000001): 0.000696000328544 [pb], (1000002, 1000004): 0.0024360011499 [pb], (1000024, 1000025): 0.000348000164272 [pb], (-1000003, 1000023): 0.000348000164272 [pb], (1000001, 2000002): 0.00208800098563 [pb], (1000025, 1000037): 0.00174000082136 [pb], (-1000001, 1000021): 0.00104400049282 [pb], (-1000004, 1000024): 0.000696000328544 [pb], (2000002, 2000002): 0.00139200065709 [pb], (1000021, 1000024): 0.00208800098563 [pb], (-1000001, 1000001): 0.00382800180699 [pb]}}\n"
       ]
      }
     ],
     "prompt_number": 5
    },
    {
     "cell_type": "code",
     "collapsed": false,
     "input": [
      "# and write it back into the file\n",
      "xsecComputer.addXSecToFile ( xsecsLO, \"tmp.slha\" )"
     ],
     "language": "python",
     "metadata": {},
     "outputs": [
      {
       "metadata": {},
       "output_type": "pyout",
       "prompt_number": 5,
       "text": [
        "True"
       ]
      }
     ],
     "prompt_number": 5
    },
    {
     "cell_type": "code",
     "collapsed": false,
     "input": [
      "# now compute the NLL cross sections, recycling the LO computations\n",
      "# so only the k-factors are applied, and pythia needs not be rerun\n",
      "xsecsNLL=xsecComputer.computeXSec ( 8*TeV, NLL, None, \"tmp.slha\", loFromSlha=True )"
     ],
     "language": "python",
     "metadata": {},
     "outputs": [
      {
       "output_type": "stream",
       "stream": "stdout",
       "text": [
        "10:45:35.396 INFO     smodels.tools.xsecComputer:63  Using LO cross-sections from tmp.slha\n"
       ]
      }
     ],
     "prompt_number": 6
    },
    {
     "cell_type": "code",
     "collapsed": false,
     "input": [
      "# ... which has a .getDictionary() method which contains the cross sections\n",
      "D=xsecsNLL.getDictionary(groupBy=\"labels\")[\"8 TeV (NLO+NLL)\"]\n",
      "print D"
     ],
     "language": "python",
     "metadata": {},
     "outputs": [
      {
       "output_type": "stream",
       "stream": "stdout",
       "text": [
        "{(1000001, 1000021): 22.8886668045 [fb], (1000001, 1000003): 3.83113380847 [fb], (1000021, 1000021): 5.63537546016 [fb], (-2000002, 1000002): 0.55558226226 [fb], (1000003, 1000021): 1.3079238174 [fb], (-1000004, 1000002): 1.00808687586 [fb], (-2000001, 1000002): 1.08965811437 [fb], (-1000003, 1000003): 3.52830406552 [fb], (-1000001, 2000002): 1.66674678679 [fb], (1000001, 1000002): 60.9150275546 [fb], (-1000003, 1000002): 2.01617375173 [fb], (2000002, 2000002): 1.78064724055 [fb], (1000002, 1000002): 60.148800793 [fb], (1000001, 1000001): 6.5129274744 [fb], (-1000001, 2000001): 1.08965811437 [fb], (2000001, 2000002): 0.437297006424 [fb], (-1000002, 2000002): 1.11116452452 [fb], (-1000002, 1000002): 5.54447781724 [fb], (1000021, 2000002): 3.2698095435 [fb], (1000002, 2000001): 2.05876897183 [fb], (-1000003, 1000001): 0.504043437932 [fb], (1000002, 1000003): 5.74670071271 [fb], (-1000001, 1000002): 1.00808687586 [fb], (1000001, 2000002): 2.5131179863 [fb], (-1000002, 2000001): 0.544829057184 [fb], (-1000004, 1000004): 4.53639094139 [fb], (1000021, 2000001): 2.6158476348 [fb], (1000002, 1000021): 62.1263813264 [fb], (1000001, 2000001): 0.411753794367 [fb], (-2000003, 1000002): 0.544829057184 [fb], (1000002, 2000002): 4.9836407525 [fb], (1000002, 1000004): 2.68179366592 [fb], (-1000001, 1000001): 5.54447781724 [fb]}\n"
       ]
      }
     ],
     "prompt_number": 7
    },
    {
     "cell_type": "code",
     "collapsed": false,
     "input": [
      "# now lets make a simple bar chart of all cross sections, in fb \n",
      "import pylab; import numpy; pylab.bar( range(len(D)), map ( lambda x: float(x/fb), D.values() ) )\n",
      "pylab.xticks( .5+ numpy.arange(len(D)), D.keys(), rotation=\"vertical\" ); pylab.ylabel( \"xsec [fb]\");"
     ],
     "language": "python",
     "metadata": {},
     "outputs": [
      {
       "metadata": {},
       "output_type": "display_data",
       "png": "[encoded data removed]",
       "text": [
        "<matplotlib.figure.Figure at 0x7ffa64f2fd50>"
       ]
      }
     ],
     "prompt_number": 8
    }
   ],
   "metadata": {}
  }
 ]
}
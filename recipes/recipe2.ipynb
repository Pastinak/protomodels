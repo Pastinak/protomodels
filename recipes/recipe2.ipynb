{
 "metadata": {
  "name": "",
  "signature": "sha256:5a626bf117b4e3e33f5e2a317e8e6df2fe0bd4bfd056ae2558fcda9b607774f2"
 },
 "nbformat": 3,
 "nbformat_minor": 0,
 "worksheets": [
  {
   "cells": [
    {
     "cell_type": "heading",
     "level": 1,
     "metadata": {},
     "source": [
      "Recipe #2: compute NLL cross sections for a given slha file, recycling LO cross sections"
     ]
    },
    {
     "cell_type": "heading",
     "level": 3,
     "metadata": {},
     "source": [
      "Wolfgang Waltenberger, june 2014"
     ]
    },
    {
     "cell_type": "code",
     "collapsed": false,
     "input": [
      "# now lets import those parts of smodels that are needed for this exercise\n",
      "from smodels.tools import xsecComputer\n",
      "from smodels.tools.physicsUnits import TeV, fb\n",
      "from smodels.tools.xsecComputer import LO, NLL"
     ],
     "language": "python",
     "metadata": {},
     "outputs": [],
     "prompt_number": 1
    },
    {
     "cell_type": "code",
     "collapsed": false,
     "input": [
      "# fetch example1.slha via http, save as tmp.slha\n",
      "import urllib\n",
      "urllib.urlretrieve(\"http://smodels.hephy.at/slha/example2.slha\",\"tmp.slha\")"
     ],
     "language": "python",
     "metadata": {},
     "outputs": [
      {
       "metadata": {},
       "output_type": "pyout",
       "prompt_number": 2,
       "text": [
        "('tmp.slha', <httplib.HTTPMessage instance at 0x7fd0cd1651b8>)"
       ]
      }
     ],
     "prompt_number": 2
    },
    {
     "cell_type": "code",
     "collapsed": false,
     "input": [
      "# now lets compute the leading order (LO) cross sections for 8 TeV, simulating 1000\n",
      "# events with pythia.\n",
      "xsecsLO=xsecComputer.computeXSec ( 8*TeV, LO, 1000, \"tmp.slha\" )"
     ],
     "language": "python",
     "metadata": {},
     "outputs": [],
     "prompt_number": 3
    },
    {
     "cell_type": "code",
     "collapsed": false,
     "input": [
      "print xsecsLO.getDictionary(groupBy=\"labels\")"
     ],
     "language": "python",
     "metadata": {},
     "outputs": [
      {
       "output_type": "stream",
       "stream": "stdout",
       "text": [
        "{'8 TeV (LO)': {(1000001, 1000021): 1.22E-02 [pb], (-1000004, -1000001): 3.48E-04 [pb], (-1000024, 1000024): 2.82E-02 [pb], (1000021, 1000021): 1.39E-03 [pb], (-1000024, 1000023): 1.22E-02 [pb], (-2000002, 1000002): 3.48E-04 [pb], (-1000002, 1000023): 6.96E-04 [pb], (1000022, 1000037): 3.48E-04 [pb], (1000003, 1000021): 6.96E-04 [pb], (-1000004, 1000002): 6.96E-04 [pb], (1000001, 1000003): 3.48E-03 [pb], (-1000001, 2000002): 1.04E-03 [pb], (-1000003, 1000003): 2.44E-03 [pb], (-2000003, 1000002): 3.48E-04 [pb], (-1000037, 1000035): 3.48E-04 [pb], (1000035, 1000037): 2.44E-03 [pb], (1000001, 1000002): 5.53E-02 [pb], (1000002, 2000002): 4.18E-03 [pb], (-1000024, 1000002): 7.31E-03 [pb], (1000023, 1000024): 3.34E-02 [pb], (1000001, 2000001): 3.48E-04 [pb], (-1000024, 1000021): 3.48E-04 [pb], (-1000003, 1000021): 6.96E-04 [pb], (-1000002, 1000024): 6.96E-04 [pb], (1000002, 1000023): 6.96E-03 [pb], (-1000004, 1000004): 3.13E-03 [pb], (-1000003, 1000002): 1.39E-03 [pb], (1000002, 1000002): 5.46E-02 [pb], (-1000024, -1000003): 3.48E-04 [pb], (1000025, 1000035): 1.04E-03 [pb], (1000001, 1000001): 5.92E-03 [pb], (-1000001, 2000001): 6.96E-04 [pb], (2000001, 2000002): 3.48E-04 [pb], (1000001, 1000024): 2.44E-02 [pb], (-1000002, 2000002): 6.96E-04 [pb], (-1000002, -1000001): 6.96E-04 [pb], (-1000002, 1000021): 3.48E-04 [pb], (1000001, 1000023): 1.74E-03 [pb], (-1000024, 1000022): 6.96E-04 [pb], (-1000002, 1000002): 3.83E-03 [pb], (1000021, 1000023): 1.39E-03 [pb], (1000021, 2000002): 1.74E-03 [pb], (1000002, 2000001): 1.74E-03 [pb], (1000003, 1000024): 6.96E-04 [pb], (-1000003, 1000001): 3.48E-04 [pb], (1000022, 2000002): 1.04E-03 [pb], (1000002, 1000003): 5.22E-03 [pb], (1000021, 1000037): 3.48E-04 [pb], (-1000001, 1000002): 6.96E-04 [pb], (-1000037, 1000037): 3.48E-04 [pb], (-1000037, 1000002): 3.48E-04 [pb], (-1000024, 1000037): 6.96E-04 [pb], (-1000024, 1000025): 6.96E-04 [pb], (-1000024, 1000004): 3.48E-04 [pb], (1000022, 1000035): 3.48E-04 [pb], (1000023, 1000025): 3.48E-04 [pb], (-1000002, 2000001): 3.48E-04 [pb], (-1000016, 1000016): 3.48E-04 [pb], (1000001, 1000022): 6.96E-04 [pb], (-1000004, -1000002): 3.48E-04 [pb], (-2000001, 1000002): 6.96E-04 [pb], (1000021, 1000022): 1.04E-03 [pb], (1000021, 2000001): 1.39E-03 [pb], (1000002, 1000021): 3.31E-02 [pb], (-1000003, -1000001): 3.48E-04 [pb], (1000023, 1000023): 3.48E-04 [pb], (-1000024, -1000001): 6.96E-04 [pb], (1000002, 1000004): 2.44E-03 [pb], (1000024, 1000025): 3.48E-04 [pb], (-1000003, 1000023): 3.48E-04 [pb], (1000001, 2000002): 2.09E-03 [pb], (1000025, 1000037): 1.74E-03 [pb], (-1000001, 1000021): 1.04E-03 [pb], (-1000004, 1000024): 6.96E-04 [pb], (2000002, 2000002): 1.39E-03 [pb], (1000021, 1000024): 2.09E-03 [pb], (-1000001, 1000001): 3.83E-03 [pb]}}\n"
       ]
      }
     ],
     "prompt_number": 4
    },
    {
     "cell_type": "code",
     "collapsed": false,
     "input": [
      "# and write it back into the file\n",
      "xsecComputer.addXSecToFile ( xsecsLO, \"tmp.slha\" )"
     ],
     "language": "python",
     "metadata": {},
     "outputs": [
      {
       "metadata": {},
       "output_type": "pyout",
       "prompt_number": 5,
       "text": [
        "True"
       ]
      }
     ],
     "prompt_number": 5
    },
    {
     "cell_type": "code",
     "collapsed": false,
     "input": [
      "# now compute the NLL cross sections, recycling the LO computations\n",
      "# so only the k-factors are applied, and pythia needs not be rerun\n",
      "xsecsNLL=xsecComputer.computeXSec ( 8*TeV, NLL, None, \"tmp.slha\", loFromSlha=True )"
     ],
     "language": "python",
     "metadata": {},
     "outputs": [
      {
       "output_type": "stream",
       "stream": "stdout",
       "text": [
        "15:13:58.374 INFO     smodels.tools.xsecComputer:62  Using LO cross-sections from tmp.slha\n"
       ]
      }
     ],
     "prompt_number": 6
    },
    {
     "cell_type": "code",
     "collapsed": false,
     "input": [
      "# ... which has a .getDictionary() method which contains the cross sections\n",
      "D=xsecsNLL.getDictionary(groupBy=\"labels\")[\"8 TeV (NLO+NLL)\"]\n",
      "print D"
     ],
     "language": "python",
     "metadata": {},
     "outputs": [
      {
       "output_type": "stream",
       "stream": "stdout",
       "text": [
        "{(1000001, 1000021): 2.29E+01 [fb], (1000001, 1000003): 3.83E+00 [fb], (1000021, 1000021): 5.64E+00 [fb], (-2000002, 1000002): 5.56E-01 [fb], (1000003, 1000021): 1.31E+00 [fb], (-1000004, 1000002): 1.01E+00 [fb], (-2000001, 1000002): 1.09E+00 [fb], (-1000003, 1000003): 3.53E+00 [fb], (-1000001, 2000002): 1.67E+00 [fb], (1000001, 1000002): 6.09E+01 [fb], (-1000003, 1000002): 2.02E+00 [fb], (2000002, 2000002): 1.78E+00 [fb], (1000002, 1000002): 6.01E+01 [fb], (1000001, 1000001): 6.51E+00 [fb], (-1000001, 2000001): 1.09E+00 [fb], (2000001, 2000002): 4.37E-01 [fb], (-1000002, 2000002): 1.11E+00 [fb], (-1000002, 1000002): 5.54E+00 [fb], (1000021, 2000002): 3.27E+00 [fb], (1000002, 2000001): 2.06E+00 [fb], (-1000003, 1000001): 5.04E-01 [fb], (1000002, 1000003): 5.75E+00 [fb], (-1000001, 1000002): 1.01E+00 [fb], (1000001, 2000002): 2.51E+00 [fb], (-1000002, 2000001): 5.45E-01 [fb], (-1000004, 1000004): 4.54E+00 [fb], (1000021, 2000001): 2.62E+00 [fb], (1000002, 1000021): 6.21E+01 [fb], (1000001, 2000001): 4.12E-01 [fb], (-2000003, 1000002): 5.45E-01 [fb], (1000002, 2000002): 4.98E+00 [fb], (1000002, 1000004): 2.68E+00 [fb], (-1000001, 1000001): 5.54E+00 [fb]}\n"
       ]
      }
     ],
     "prompt_number": 7
    },
    {
     "cell_type": "code",
     "collapsed": false,
     "input": [
      "# now lets make a simple bar chart of all cross sections, in fb \n",
      "import pylab; import numpy; pylab.bar( range(len(D)), map ( lambda x: float(x/fb), D.values() ) )\n",
      "pylab.xticks( .5+ numpy.arange(len(D)), D.keys(), rotation=\"vertical\" ); pylab.ylabel( \"xsec [fb]\");"
     ],
     "language": "python",
     "metadata": {},
     "outputs": [
      {
       "metadata": {},
       "output_type": "display_data",
       "png": "[encoded data removed]",
       "text": [
        "<matplotlib.figure.Figure at 0x7fd0e4128c50>"
       ]
      }
     ],
     "prompt_number": 8
    },
    {
     "cell_type": "code",
     "collapsed": false,
     "input": [],
     "language": "python",
     "metadata": {},
     "outputs": []
    }
   ],
   "metadata": {}
  }
 ]
}
{
 "metadata": {
  "name": "",
  "signature": "sha256:1ded1d540e7d8e867c310116fa62b50dc7cd8d69e89572c00262200a04190a9b"
 },
 "nbformat": 3,
 "nbformat_minor": 0,
 "worksheets": [
  {
   "cells": [
    {
     "cell_type": "heading",
     "level": 1,
     "metadata": {},
     "source": [
      "How To: Create ASCII graphs for elements in a LHE event file"
     ]
    },
    {
     "cell_type": "code",
     "collapsed": false,
     "input": [
      "#Set up the path to SModelS installation folder if running on a different folder\n",
      "import sys\n",
      "sys.path.append(\"../\")"
     ],
     "language": "python",
     "metadata": {},
     "outputs": [],
     "prompt_number": 1
    },
    {
     "cell_type": "code",
     "collapsed": false,
     "input": [
      "#Import those parts of smodels that are needed for this exercise\n",
      "from smodels.theory import lheReader, lheDecomposer, crossSection\n",
      "from smodels.installation import installDirectory\n",
      "from smodels.tools import asciiGraph"
     ],
     "language": "python",
     "metadata": {},
     "outputs": [],
     "prompt_number": 2
    },
    {
     "cell_type": "code",
     "collapsed": false,
     "input": [
      "#Load an input file containing LHE events and start the LHE reader\n",
      "filename=\"%s/inputFiles/lhe/gluino_squarks.lhe\" % installDirectory()\n",
      "reader = lheReader.LheReader ( filename )"
     ],
     "language": "python",
     "metadata": {},
     "outputs": [],
     "prompt_number": 3
    },
    {
     "cell_type": "code",
     "collapsed": false,
     "input": [
      "#Read the next event and generate the corresponding element\n",
      "event=reader.next()\n",
      "element=lheDecomposer.elementFromEvent (event)"
     ],
     "language": "python",
     "metadata": {},
     "outputs": [],
     "prompt_number": 4
    },
    {
     "cell_type": "code",
     "collapsed": false,
     "input": [
      "#Print the corresponding ASCII graph\n",
      "print asciiGraph.asciidraw ( element )"
     ],
     "language": "python",
     "metadata": {},
     "outputs": [
      {
       "output_type": "stream",
       "stream": "stdout",
       "text": [
        "    W-  \n",
        "    |   \n",
        "----*----\n",
        "----*----\n",
        "    |   \n",
        "    W+  \n",
        "\n"
       ]
      }
     ],
     "prompt_number": 5
    },
    {
     "cell_type": "code",
     "collapsed": false,
     "input": [
      "#Do the same for the next event:\n",
      "event=reader.next()\n",
      "element=lheDecomposer.elementFromEvent ( event )\n",
      "print asciiGraph.asciidraw ( element )"
     ],
     "language": "python",
     "metadata": {},
     "outputs": [
      {
       "output_type": "stream",
       "stream": "stdout",
       "text": [
        "    q   q  q  hi  \n",
        "    |   \\ /   |   \n",
        "----*----*----*----\n",
        "----*----*----\n",
        "   / \\   |   \n",
        "   q  q  hi  \n",
        "\n"
       ]
      }
     ],
     "prompt_number": 6
    }
   ],
   "metadata": {}
  }
 ]
}
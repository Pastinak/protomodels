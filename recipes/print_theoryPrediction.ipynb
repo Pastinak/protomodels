{
 "metadata": {
  "name": ""
 },
 "nbformat": 3,
 "nbformat_minor": 0,
 "worksheets": [
  {
   "cells": [
    {
     "cell_type": "heading",
     "level": 1,
     "metadata": {},
     "source": [
      "How To: Print out the theory predictions"
     ]
    },
    {
     "cell_type": "code",
     "collapsed": false,
     "input": [
      "#Set up the path to SModelS installation folder if running on a different folder\n",
      "import sys\n",
      "sys.path.append(\"../\")"
     ],
     "language": "python",
     "metadata": {},
     "outputs": [],
     "prompt_number": 1
    },
    {
     "cell_type": "code",
     "collapsed": false,
     "input": [
      "#Import those parts of smodels that are needed for this exercise\n",
      "#(We will assume the input is a SLHA file. For LHE files, use the lheDecomposer instead)\n",
      "from smodels.theory import slhaDecomposer\n",
      "from smodels.installation import installDirectory\n",
      "from smodels.tools.physicsUnits import fb, GeV\n",
      "from smodels.theory.theoryPrediction import theoryPredictionFor\n",
      "from smodels.experiment import smsAnalysisFactory, smsHelpers"
     ],
     "language": "python",
     "metadata": {},
     "outputs": [],
     "prompt_number": 2
    },
    {
     "cell_type": "code",
     "collapsed": false,
     "input": [
      "# define where the database resides\n",
      "smsHelpers.base=\"../test/database/\"\n",
      "#and load the analyses:\n",
      "listofanalyses = smsAnalysisFactory.load()"
     ],
     "language": "python",
     "metadata": {},
     "outputs": [
      {
       "output_type": "stream",
       "stream": "stdout",
       "text": [
        "12:12:57.073 INFO     smodels.experiment.smsAnalysisFactory:61  SUS12022 has been superseded by SUS13006, skipping SUS12022\n"
       ]
      }
     ],
     "prompt_number": 3
    },
    {
     "cell_type": "code",
     "collapsed": false,
     "input": [
      "#Define the SLHA input file name\n",
      "filename=\"%s/inputFiles/slha/lightSquarks.slha\" % installDirectory()"
     ],
     "language": "python",
     "metadata": {},
     "outputs": [],
     "prompt_number": 4
    },
    {
     "cell_type": "code",
     "collapsed": false,
     "input": [
      "#Perform the decomposition:\n",
      "listOfTopologies = slhaDecomposer.decompose (filename, sigcut = 0.03 * fb, doCompress=True, doInvisible=True,minmassgap = 5* GeV)"
     ],
     "language": "python",
     "metadata": {},
     "outputs": [
      {
       "output_type": "stream",
       "stream": "stdout",
       "text": [
        "12:12:57.168 INFO     smodels.theory.slhaDecomposer:132 Ignoring t+ decays\n"
       ]
      },
      {
       "output_type": "stream",
       "stream": "stdout",
       "text": [
        "12:12:57.182 INFO     smodels.theory.slhaDecomposer:132 Ignoring higgs decays\n"
       ]
      },
      {
       "output_type": "stream",
       "stream": "stdout",
       "text": [
        "12:12:57.185 INFO     smodels.theory.slhaDecomposer:132 Ignoring H0 decays\n"
       ]
      },
      {
       "output_type": "stream",
       "stream": "stdout",
       "text": [
        "12:12:57.186 INFO     smodels.theory.slhaDecomposer:132 Ignoring A0 decays\n"
       ]
      },
      {
       "output_type": "stream",
       "stream": "stdout",
       "text": [
        "12:12:57.187 INFO     smodels.theory.slhaDecomposer:132 Ignoring H+ decays\n"
       ]
      },
      {
       "output_type": "stream",
       "stream": "stdout",
       "text": [
        "12:12:57.249 INFO     smodels.theory.crossSection:512 Ignoring 76 lower order cross-sections\n"
       ]
      }
     ],
     "prompt_number": 5
    },
    {
     "cell_type": "code",
     "collapsed": false,
     "input": [
      "#Compute the theory prediction for each analysis using the results from the decomposition:\n",
      "analysesPredictions = [theoryPredictionFor(analysis, listOfTopologies) for analysis in listofanalyses]"
     ],
     "language": "python",
     "metadata": {},
     "outputs": [
      {
       "output_type": "stream",
       "stream": "stdout",
       "text": [
        "12:13:15.689 INFO     smodels.experiment.smsInterpolation:174 Masses out of range for ATLAS_CONF_2013_048/T6bbWW (no extrapolation)\n"
       ]
      }
     ],
     "prompt_number": 6
    },
    {
     "cell_type": "code",
     "collapsed": false,
     "input": [
      "#Print information about each theory prediction (cluster) for each analysis:\n",
      "#(Since this is a test database, there are very few results)\n",
      "for anaPrediction in analysesPredictions:\n",
      "    if not anaPrediction: continue #skip analyses without results\n",
      "    for theoryPred in anaPrediction:\n",
      "        print \"Analysis name = \",theoryPred.analysis.label\n",
      "        print \"Theory prediction = \",theoryPred.value\n",
      "        print \"Conditions violation (if any) = \",theoryPred.conditions\n",
      "        print \"Mass of cluster = \",theoryPred.mass"
     ],
     "language": "python",
     "metadata": {},
     "outputs": [
      {
       "output_type": "stream",
       "stream": "stdout",
       "text": [
        "Analysis name =  SUS13006:TChiWZ\n",
        "Theory prediction =  ['8.00E+00 [TeV]:1.85E-02 [pb]']\n",
        "Conditions violation (if any) =  {'None': None}\n",
        "Mass of cluster =  [[2.69E+02 [GeV], 1.29E+02 [GeV]], [2.69E+02 [GeV], 1.29E+02 [GeV]]]\n",
        "Analysis name =  SUS12028:T2\n",
        "Theory prediction =  ['8.00E+00 [TeV]:1.77E-03 [pb]']\n",
        "Conditions violation (if any) =  {'None': None}\n",
        "Mass of cluster =  [[9.91E+02 [GeV], 1.29E+02 [GeV]], [9.91E+02 [GeV], 1.29E+02 [GeV]]]\n",
        "Analysis name =  SUS12028:T1\n",
        "Theory prediction =  ['8.00E+00 [TeV]:3.92E-04 [pb]']\n",
        "Conditions violation (if any) =  {'None': None}\n",
        "Mass of cluster =  [[8.65E+02 [GeV], 1.29E+02 [GeV]], [8.65E+02 [GeV], 1.29E+02 [GeV]]]\n"
       ]
      }
     ],
     "prompt_number": 7
    },
    {
     "cell_type": "code",
     "collapsed": false,
     "input": [],
     "language": "python",
     "metadata": {},
     "outputs": [],
     "prompt_number": 7
    }
   ],
   "metadata": {}
  }
 ]
}
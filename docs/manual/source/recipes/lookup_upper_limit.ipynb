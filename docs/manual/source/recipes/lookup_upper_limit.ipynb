{
 "metadata": {
  "name": "",
  "signature": "sha256:6f3527e91e807d8605ac0185f7bb1a6eff5e6e1c42095de283c474816aa9d442"
 },
 "nbformat": 3,
 "nbformat_minor": 0,
 "worksheets": [
  {
   "cells": [
    {
     "cell_type": "heading",
     "level": 1,
     "metadata": {},
     "source": [
      "How To: Look up the upper limit of a particular result, for a particular set masses"
     ]
    },
    {
     "cell_type": "code",
     "collapsed": false,
     "input": [
      "#Set up the path to SModelS installation folder if running on a different folder\n",
      "import sys,os\n",
      "sys.path.append(os.path.join(os.getenv(\"HOME\"),\"smodels/\"))"
     ],
     "language": "python",
     "metadata": {},
     "outputs": [],
     "prompt_number": 1
    },
    {
     "cell_type": "code",
     "collapsed": false,
     "input": [
      "#Import those parts of smodels that are needed for this exercise\n",
      "from smodels.tools.physicsUnits import GeV\n",
      "from smodels.experiment import smsAnalysisFactory, smsHelpers"
     ],
     "language": "python",
     "metadata": {},
     "outputs": [],
     "prompt_number": 2
    },
    {
     "cell_type": "code",
     "collapsed": false,
     "input": [
      "## define where the database resides\n",
      "smsHelpers.base=os.path.join(os.getenv(\"HOME\"),\"smodels-database/\")\n",
      "#specify analysis and topology as strings:\n",
      "#and load analysis\n",
      "ananame = [\"CMS-SUS-12-028\"]\n",
      "txname = [\"T2\"]\n",
      "analysis = smsAnalysisFactory.load(ananame, topologies=txname)[0]"
     ],
     "language": "python",
     "metadata": {},
     "outputs": [
      {
       "output_type": "stream",
       "stream": "stdout",
       "text": [
        "12:14:47.608 INFO     smodels.experiment.smsAnalysisFactory:39  useSuperseded is not set, skipping superseded results\n"
       ]
      }
     ],
     "prompt_number": 3
    },
    {
     "cell_type": "code",
     "collapsed": false,
     "input": [
      "masses = [[500*GeV, 150*GeV],[500*GeV, 150*GeV]]"
     ],
     "language": "python",
     "metadata": {},
     "outputs": [],
     "prompt_number": 4
    },
    {
     "cell_type": "code",
     "collapsed": false,
     "input": [
      "analysis.getUpperLimitFor(masses)"
     ],
     "language": "python",
     "metadata": {},
     "outputs": [
      {
       "metadata": {},
       "output_type": "pyout",
       "prompt_number": 5,
       "text": [
        "1.28E-01 [pb]"
       ]
      }
     ],
     "prompt_number": 5
    },
    {
     "cell_type": "code",
     "collapsed": false,
     "input": [],
     "language": "python",
     "metadata": {},
     "outputs": [],
     "prompt_number": 5
    }
   ],
   "metadata": {}
  }
 ]
}
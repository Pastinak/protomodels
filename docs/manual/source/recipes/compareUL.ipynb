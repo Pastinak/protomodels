{
 "metadata": {
  "name": "",
  "signature": "sha256:05d5b1a85a022dcdfe2c71f6ee10a1379793567a4770b53a82201abf8a7bac04"
 },
 "nbformat": 3,
 "nbformat_minor": 0,
 "worksheets": [
  {
   "cells": [
    {
     "cell_type": "heading",
     "level": 1,
     "metadata": {},
     "source": [
      "How To: Compare theory predictions with experimental limits"
     ]
    },
    {
     "cell_type": "code",
     "collapsed": false,
     "input": [
      "#Set up the path to SModelS installation folder if running on a different folder\n",
      "import sys,os\n",
      "sys.path.append(os.path.join(os.getenv(\"HOME\"),\"smodels/\"))"
     ],
     "language": "python",
     "metadata": {},
     "outputs": [],
     "prompt_number": 1
    },
    {
     "cell_type": "code",
     "collapsed": false,
     "input": [
      "#Import those parts of smodels that are needed for this exercise\n",
      "#(We will assume the input is a SLHA file. For LHE files, use the lheDecomposer instead)\n",
      "from smodels.theory import slhaDecomposer\n",
      "from smodels.installation import installDirectory\n",
      "from smodels.tools.physicsUnits import fb, GeV\n",
      "from smodels.theory.theoryPrediction import theoryPredictionFor\n",
      "from smodels.experiment import smsAnalysisFactory, smsHelpers"
     ],
     "language": "python",
     "metadata": {},
     "outputs": [],
     "prompt_number": 2
    },
    {
     "cell_type": "code",
     "collapsed": false,
     "input": [
      "#Define the SLHA input file name\n",
      "filename=\"%s/inputFiles/slha/gluino_squarks.slha\" % installDirectory()"
     ],
     "language": "python",
     "metadata": {},
     "outputs": [],
     "prompt_number": 3
    },
    {
     "cell_type": "code",
     "collapsed": false,
     "input": [
      "#Load the database, do the decomposition and compute theory predictions:\n",
      "#(Look at the theory predictions HowTo to learn how to compute theory predictions)\n",
      "smsHelpers.base=os.path.join(os.getenv(\"HOME\"),\"smodels-database/\")\n",
      "listofanalyses = smsAnalysisFactory.load()\n",
      "listOfTopologies = slhaDecomposer.decompose (filename, sigcut = 0.03 * fb, doCompress=True, doInvisible=True,minmassgap = 5* GeV)\n",
      "analysesPredictions = [theoryPredictionFor(analysis, listOfTopologies) for analysis in listofanalyses]"
     ],
     "language": "python",
     "metadata": {},
     "outputs": [
      {
       "output_type": "stream",
       "stream": "stdout",
       "text": [
        "12:23:58.229 INFO     smodels.experiment.smsAnalysisFactory:39  useSuperseded is not set, skipping superseded results\n"
       ]
      },
      {
       "output_type": "stream",
       "stream": "stdout",
       "text": [
        "12:23:58.279 INFO     smodels.theory.slhaDecomposer:132 Ignoring t+ decays\n"
       ]
      },
      {
       "output_type": "stream",
       "stream": "stdout",
       "text": [
        "12:23:58.286 INFO     smodels.theory.slhaDecomposer:132 Ignoring higgs decays\n"
       ]
      },
      {
       "output_type": "stream",
       "stream": "stdout",
       "text": [
        "12:23:58.287 INFO     smodels.theory.slhaDecomposer:132 Ignoring H0 decays\n"
       ]
      },
      {
       "output_type": "stream",
       "stream": "stdout",
       "text": [
        "12:23:58.287 INFO     smodels.theory.slhaDecomposer:132 Ignoring A0 decays\n"
       ]
      },
      {
       "output_type": "stream",
       "stream": "stdout",
       "text": [
        "12:23:58.287 INFO     smodels.theory.slhaDecomposer:132 Ignoring H+ decays\n"
       ]
      },
      {
       "output_type": "stream",
       "stream": "stdout",
       "text": [
        "12:23:58.320 INFO     smodels.theory.crossSection:512 Ignoring 76 lower order cross-sections\n"
       ]
      },
      {
       "output_type": "stream",
       "stream": "stdout",
       "text": [
        "12:24:12.437 INFO     smodels.experiment.smsInterpolation:174 Masses out of range for ATLAS-SUSY-2013-19/T6bbWW (no extrapolation)\n"
       ]
      },
      {
       "output_type": "stream",
       "stream": "stdout",
       "text": [
        "12:24:12.502 INFO     smodels.experiment.smsInterpolation:174 Masses out of range for CMS-SUS-13-011/T6bbWW (no extrapolation)\n"
       ]
      },
      {
       "output_type": "stream",
       "stream": "stdout",
       "text": [
        "12:24:12.942 INFO     smodels.experiment.smsInterpolation:174 Masses out of range for CMS-PAS-SUS-13-008/T6ttWW (no extrapolation)\n"
       ]
      }
     ],
     "prompt_number": 4
    },
    {
     "cell_type": "code",
     "collapsed": false,
     "input": [
      "#Print the value of each theory prediction (cluster) for each analysis and the corresponding analysis upper limit:\n",
      "for anaPrediction in analysesPredictions:\n",
      "    if not anaPrediction: continue #skip analyses without results\n",
      "    for theoryPred in anaPrediction:\n",
      "        print \"Analysis name = \",theoryPred.analysis.label\n",
      "        print \"Theory prediction = \",theoryPred.value[0].value\n",
      "        print \"Upper limit = \",theoryPred.analysis.getUpperLimitFor(theoryPred.mass)"
     ],
     "language": "python",
     "metadata": {},
     "outputs": [
      {
       "output_type": "stream",
       "stream": "stdout",
       "text": [
        "Analysis name =  CMS-SUS-12-028:T2\n",
        "Theory prediction =  1.77E-03 [pb]\n",
        "Upper limit =  1.64E-02 [pb]\n",
        "Analysis name =  CMS-SUS-12-028:T1\n",
        "Theory prediction =  3.92E-04 [pb]\n",
        "Upper limit =  "
       ]
      },
      {
       "output_type": "stream",
       "stream": "stdout",
       "text": [
        "3.14E-02 [pb]\n",
        "Analysis name =  ATLAS-SUSY-2013-12:TChiWZ\n",
        "Theory prediction =  1.85E-02 [pb]\n",
        "Upper limit =  3.30E-01 [pb]\n",
        "Analysis name =  ATLAS-SUSY-2013-11:TChiWZ\n",
        "Theory prediction =  1.85E-02 [pb]\n",
        "Upper limit =  9.22E-01 [pb]\n",
        "Analysis name =  CMS-SUS-13-012:T2\n",
        "Theory prediction =  1.77E-03 [pb]\n",
        "Upper limit =  6.10E-03 [pb]\n",
        "Analysis name =  CMS-SUS-13-012:T1\n",
        "Theory prediction =  3.92E-04 [pb]\n",
        "Upper limit =  "
       ]
      },
      {
       "output_type": "stream",
       "stream": "stdout",
       "text": [
        "8.03E-03 [pb]\n",
        "Analysis name =  CMS-PAS-SUS-13-019:T2\n",
        "Theory prediction =  1.77E-03 [pb]\n",
        "Upper limit =  3.76E-03 [pb]\n",
        "Analysis name =  CMS-PAS-SUS-13-019:T1\n",
        "Theory prediction =  3.92E-04 [pb]\n",
        "Upper limit =  "
       ]
      },
      {
       "output_type": "stream",
       "stream": "stdout",
       "text": [
        "9.69E-03 [pb]\n",
        "Analysis name =  ATLAS-SUSY-2013-02:T2\n",
        "Theory prediction =  1.77E-03 [pb]\n",
        "Upper limit =  6.10E-03 [pb]\n",
        "Analysis name =  ATLAS-SUSY-2013-02:T1\n",
        "Theory prediction =  3.92E-04 [pb]\n",
        "Upper limit =  1.08E-02 [pb]\n",
        "Analysis name =  CMS-SUS-13-006:TChiWZ\n",
        "Theory prediction =  1.85E-02 [pb]\n",
        "Upper limit =  "
       ]
      },
      {
       "output_type": "stream",
       "stream": "stdout",
       "text": [
        "4.64E-01 [pb]\n"
       ]
      }
     ],
     "prompt_number": 5
    }
   ],
   "metadata": {}
  }
 ]
}
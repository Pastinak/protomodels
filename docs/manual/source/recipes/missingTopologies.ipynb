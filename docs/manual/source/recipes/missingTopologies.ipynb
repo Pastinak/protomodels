{
 "metadata": {
  "name": "",
  "signature": "sha256:3917a0f072decd63a0443589c740968012545802dc5c9c0b2e6994f2179bdfc9"
 },
 "nbformat": 3,
 "nbformat_minor": 0,
 "worksheets": [
  {
   "cells": [
    {
     "cell_type": "heading",
     "level": 1,
     "metadata": {},
     "source": [
      "How To: Find missing topologies that are not covered by the database"
     ]
    },
    {
     "cell_type": "code",
     "collapsed": false,
     "input": [
      "# Set up the path to SModelS installation folder if running on a different folder\n",
      "import sys,os\n",
      "sys.path.append(os.path.join(os.getenv(\"HOME\"),\"smodels/\"))"
     ],
     "language": "python",
     "metadata": {},
     "outputs": [],
     "prompt_number": 1
    },
    {
     "cell_type": "code",
     "collapsed": false,
     "input": [
      "# Import those parts of smodels that are needed for this exercise\n",
      "from smodels.tools.physicsUnits import TeV, GeV, fb\n",
      "from smodels.installation import installDirectory\n",
      "from smodels.theory import slhaDecomposer\n",
      "from smodels.experiment import smsAnalysisFactory, smsHelpers\n",
      "from smodels.tools import missingTopologies"
     ],
     "language": "python",
     "metadata": {},
     "outputs": [],
     "prompt_number": 2
    },
    {
     "cell_type": "code",
     "collapsed": false,
     "input": [
      "# define where the database resides\n",
      "smsHelpers.base=os.path.join(os.getenv(\"HOME\"),\"smodels-database/\")"
     ],
     "language": "python",
     "metadata": {},
     "outputs": [],
     "prompt_number": 3
    },
    {
     "cell_type": "code",
     "collapsed": false,
     "input": [
      "# load list of analyses from database\n",
      "listOfAnalyses = smsAnalysisFactory.load()"
     ],
     "language": "python",
     "metadata": {},
     "outputs": [
      {
       "output_type": "stream",
       "stream": "stdout",
       "text": [
        "12:25:29.818 INFO     smodels.experiment.smsAnalysisFactory:39  useSuperseded is not set, skipping superseded results\n"
       ]
      }
     ],
     "prompt_number": 4
    },
    {
     "cell_type": "code",
     "collapsed": false,
     "input": [
      "# Define the SLHA file name\n",
      "filename = \"%s/inputFiles/slha/gluino_squarks.slha\" % installDirectory()"
     ],
     "language": "python",
     "metadata": {},
     "outputs": [],
     "prompt_number": 5
    },
    {
     "cell_type": "code",
     "collapsed": false,
     "input": [
      "# Perform the decomposition:\n",
      "listOfTopologies = slhaDecomposer.decompose (filename, sigcut=0.5*fb, doCompress=True, doInvisible=True, minmassgap=5*GeV)"
     ],
     "language": "python",
     "metadata": {},
     "outputs": [
      {
       "output_type": "stream",
       "stream": "stdout",
       "text": [
        "12:25:33.310 INFO     smodels.theory.slhaDecomposer:132 Ignoring t+ decays\n"
       ]
      },
      {
       "output_type": "stream",
       "stream": "stdout",
       "text": [
        "12:25:33.315 INFO     smodels.theory.slhaDecomposer:132 Ignoring higgs decays\n"
       ]
      },
      {
       "output_type": "stream",
       "stream": "stdout",
       "text": [
        "12:25:33.316 INFO     smodels.theory.slhaDecomposer:132 Ignoring H0 decays\n"
       ]
      },
      {
       "output_type": "stream",
       "stream": "stdout",
       "text": [
        "12:25:33.316 INFO     smodels.theory.slhaDecomposer:132 Ignoring A0 decays\n"
       ]
      },
      {
       "output_type": "stream",
       "stream": "stdout",
       "text": [
        "12:25:33.316 INFO     smodels.theory.slhaDecomposer:132 Ignoring H+ decays\n"
       ]
      },
      {
       "output_type": "stream",
       "stream": "stdout",
       "text": [
        "12:25:33.348 INFO     smodels.theory.crossSection:512 Ignoring 76 lower order cross-sections\n"
       ]
      }
     ],
     "prompt_number": 6
    },
    {
     "cell_type": "code",
     "collapsed": false,
     "input": [
      "# Initiate missing Topologies for 8 TeV\n",
      "missingtopos = missingTopologies.MissingTopoList(8*TeV)"
     ],
     "language": "python",
     "metadata": {},
     "outputs": [],
     "prompt_number": 7
    },
    {
     "cell_type": "code",
     "collapsed": false,
     "input": [
      "# Check listOfTopologies against listOfAnalyses to find missing topologies\n",
      "missingtopos.findMissingTopos(listOfTopologies, listOfAnalyses, minmassgap=5*GeV,doCompress=True, doInvisible=True)"
     ],
     "language": "python",
     "metadata": {},
     "outputs": [],
     "prompt_number": 8
    },
    {
     "cell_type": "code",
     "collapsed": false,
     "input": [
      "# to print a sorted list of missing topologies with high weights use\n",
      "missingtopos.printout()"
     ],
     "language": "python",
     "metadata": {},
     "outputs": [
      {
       "output_type": "stream",
       "stream": "stdout",
       "text": [
        "\n",
        "================================================================================\n",
        "Missing topologies with the highest cross-sections (up to 10):\n",
        "Sqrts (TeV)   Weight (fb)        Element description\n",
        "8.00E+00   5.958E+01    #                                 [[[W]],[[W]]]\n",
        "8.00E+00   1.511E+01    #                 [[[jet],[W]],[[jet,jet],[W]]]\n",
        "8.00E+00   9.069E+00    #             [[[jet,jet],[W]],[[jet,jet],[W]]]\n",
        "8.00E+00   7.822E+00    #                     [[[jet]],[[jet,jet],[W]]]\n",
        "8.00E+00   5.500E+00    #                     [[[jet],[W]],[[jet],[W]]]\n",
        "8.00E+00   4.964E+00    #             [[[jet],[W]],[[jet,jet],[higgs]]]\n",
        "8.00E+00   4.932E+00    #             [[[jet],[higgs]],[[jet,jet],[W]]]\n",
        "8.00E+00   4.603E+00    #                 [[[b,t],[W]],[[jet,jet],[W]]]\n",
        "8.00E+00   4.603E+00    #                 [[[jet,jet],[W]],[[t,b],[W]]]\n",
        "8.00E+00   4.596E+00    #                 [[[jet],[W]],[[jet],[higgs]]]\n",
        "\n"
       ]
      }
     ],
     "prompt_number": 9
    },
    {
     "cell_type": "code",
     "collapsed": false,
     "input": [
      "# To access the missing topologies direcly\n",
      "# For the i-th entry, where the entries are not sorted, do\n",
      "i = 3\n",
      "topology = missingtopos.topos[i]\n",
      "print topology.topo\n",
      "print topology.weights\n",
      "print topology.value"
     ],
     "language": "python",
     "metadata": {},
     "outputs": [
      {
       "output_type": "stream",
       "stream": "stdout",
       "text": [
        "[[[jet]],[[jet],[W]]]\n",
        "['8.00E+00 [TeV]:2.11E-03 [pb]']\n",
        "2.11E+00 \n"
       ]
      }
     ],
     "prompt_number": 10
    }
   ],
   "metadata": {}
  }
 ]
}
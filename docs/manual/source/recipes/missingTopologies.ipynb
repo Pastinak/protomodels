{
 "cells": [
  {
   "cell_type": "markdown",
   "metadata": {},
   "source": [
    "# How To: Find missing topologies that are not covered by the database"
   ]
  },
  {
   "cell_type": "code",
   "execution_count": 1,
   "metadata": {
    "collapsed": false
   },
   "outputs": [],
   "source": [
    "# Set up the path to SModelS installation folder if running on a different folder\n",
    "import sys,os\n",
    "sys.path.append(os.path.join(os.getenv(\"HOME\"),\"smodels/\"))"
   ]
  },
  {
   "cell_type": "code",
   "execution_count": 2,
   "metadata": {
    "collapsed": false
   },
   "outputs": [],
   "source": [
    "# Import those parts of smodels that are needed for this exercise\n",
    "from smodels.tools.physicsUnits import TeV, GeV, fb\n",
    "from smodels.installation import installDirectory\n",
    "from smodels.theory import slhaDecomposer\n",
    "from smodels.experiment import smsAnalysisFactory, smsHelpers\n",
    "from smodels.tools import missingTopologies"
   ]
  },
  {
   "cell_type": "code",
   "execution_count": 3,
   "metadata": {
    "collapsed": false
   },
   "outputs": [],
   "source": [
    "# define where the database resides\n",
    "smsHelpers.base=os.path.join(os.getenv(\"HOME\"),\"smodels-database/\")"
   ]
  },
  {
   "cell_type": "code",
   "execution_count": 4,
   "metadata": {
    "collapsed": false
   },
   "outputs": [
    {
     "name": "stdout",
     "output_type": "stream",
     "text": [
      "12:25:29.818 INFO     smodels.experiment.smsAnalysisFactory:39  useSuperseded is not set, skipping superseded results\n"
     ]
    }
   ],
   "source": [
    "# load list of analyses from database\n",
    "listOfAnalyses = smsAnalysisFactory.load()"
   ]
  },
  {
   "cell_type": "code",
   "execution_count": 5,
   "metadata": {
    "collapsed": false
   },
   "outputs": [],
   "source": [
    "# Define the SLHA file name\n",
    "filename = \"%s/inputFiles/slha/gluino_squarks.slha\" % installDirectory()"
   ]
  },
  {
   "cell_type": "code",
   "execution_count": 6,
   "metadata": {
    "collapsed": false
   },
   "outputs": [
    {
     "name": "stdout",
     "output_type": "stream",
     "text": [
      "12:25:33.310 INFO     smodels.theory.slhaDecomposer:132 Ignoring t+ decays\n",
      "12:25:33.315 INFO     smodels.theory.slhaDecomposer:132 Ignoring higgs decays\n",
      "12:25:33.316 INFO     smodels.theory.slhaDecomposer:132 Ignoring H0 decays\n",
      "12:25:33.316 INFO     smodels.theory.slhaDecomposer:132 Ignoring A0 decays\n",
      "12:25:33.316 INFO     smodels.theory.slhaDecomposer:132 Ignoring H+ decays\n",
      "12:25:33.348 INFO     smodels.theory.crossSection:512 Ignoring 76 lower order cross-sections\n"
     ]
    }
   ],
   "source": [
    "# Perform the decomposition:\n",
    "listOfTopologies = slhaDecomposer.decompose (filename, sigcut=0.5*fb, doCompress=True, doInvisible=True, minmassgap=5*GeV)"
   ]
  },
  {
   "cell_type": "code",
   "execution_count": 7,
   "metadata": {
    "collapsed": false
   },
   "outputs": [],
   "source": [
    "# Initiate missing Topologies for 8 TeV\n",
    "missingtopos = missingTopologies.MissingTopoList(8*TeV)"
   ]
  },
  {
   "cell_type": "code",
   "execution_count": 8,
   "metadata": {
    "collapsed": false
   },
   "outputs": [],
   "source": [
    "# Check listOfTopologies against listOfAnalyses to find missing topologies\n",
    "missingtopos.findMissingTopos(listOfTopologies, listOfAnalyses, minmassgap=5*GeV,doCompress=True, doInvisible=True)"
   ]
  },
  {
   "cell_type": "code",
   "execution_count": 9,
   "metadata": {
    "collapsed": false
   },
   "outputs": [
    {
     "name": "stdout",
     "output_type": "stream",
     "text": [
      "\n",
      "================================================================================\n",
      "Missing topologies with the highest cross-sections (up to 10):\n",
      "Sqrts (TeV)   Weight (fb)        Element description\n",
      "8.00E+00   5.958E+01    #                                 [[[W]],[[W]]]\n",
      "8.00E+00   1.511E+01    #                 [[[jet],[W]],[[jet,jet],[W]]]\n",
      "8.00E+00   9.069E+00    #             [[[jet,jet],[W]],[[jet,jet],[W]]]\n",
      "8.00E+00   7.822E+00    #                     [[[jet]],[[jet,jet],[W]]]\n",
      "8.00E+00   5.500E+00    #                     [[[jet],[W]],[[jet],[W]]]\n",
      "8.00E+00   4.964E+00    #             [[[jet],[W]],[[jet,jet],[higgs]]]\n",
      "8.00E+00   4.932E+00    #             [[[jet],[higgs]],[[jet,jet],[W]]]\n",
      "8.00E+00   4.603E+00    #                 [[[b,t],[W]],[[jet,jet],[W]]]\n",
      "8.00E+00   4.603E+00    #                 [[[jet,jet],[W]],[[t,b],[W]]]\n",
      "8.00E+00   4.596E+00    #                 [[[jet],[W]],[[jet],[higgs]]]\n",
      "\n"
     ]
    }
   ],
   "source": [
    "# to print a sorted list of missing topologies with high weights use\n",
    "missingtopos.printout()"
   ]
  },
  {
   "cell_type": "code",
   "execution_count": 10,
   "metadata": {
    "collapsed": false
   },
   "outputs": [
    {
     "name": "stdout",
     "output_type": "stream",
     "text": [
      "[[[jet]],[[jet],[W]]]\n",
      "['8.00E+00 [TeV]:2.11E-03 [pb]']\n",
      "2.11E+00 \n"
     ]
    }
   ],
   "source": [
    "# To access the missing topologies direcly\n",
    "# For the i-th entry, where the entries are not sorted, do\n",
    "i = 3\n",
    "topology = missingtopos.topos[i]\n",
    "print topology.topo\n",
    "print topology.weights\n",
    "print topology.value"
   ]
  }
 ],
 "metadata": {
  "kernelspec": {
   "display_name": "Python 2",
   "language": "python",
   "name": "python2"
  },
  "language_info": {
   "codemirror_mode": {
    "name": "ipython",
    "version": 2
   },
   "file_extension": ".py",
   "mimetype": "text/x-python",
   "name": "python",
   "nbconvert_exporter": "python",
   "pygments_lexer": "ipython2",
   "version": "2.7.12"
  }
 },
 "nbformat": 4,
 "nbformat_minor": 0
}

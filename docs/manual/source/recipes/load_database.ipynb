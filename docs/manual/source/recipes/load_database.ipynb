{
 "metadata": {
  "name": "",
  "signature": "sha256:f69c048a6e94c255a78c194233c4afead7201ee2ac7cb7a3c717729aed9612de"
 },
 "nbformat": 3,
 "nbformat_minor": 0,
 "worksheets": [
  {
   "cells": [
    {
     "cell_type": "heading",
     "level": 1,
     "metadata": {},
     "source": [
      "How To: Load the database, selecting only a few results."
     ]
    },
    {
     "cell_type": "code",
     "collapsed": false,
     "input": [
      "#Set up the path to SModelS installation folder if running on a different folder\n",
      "import sys,os\n",
      "sys.path.append(os.path.join(os.getenv(\"HOME\"),\"smodels/\"))"
     ],
     "language": "python",
     "metadata": {},
     "outputs": [],
     "prompt_number": 1
    },
    {
     "cell_type": "code",
     "collapsed": false,
     "input": [
      "from smodels.experiment import smsAnalysisFactory, smsHelpers\n",
      "from smodels.tools.physicsUnits import GeV"
     ],
     "language": "python",
     "metadata": {},
     "outputs": [],
     "prompt_number": 2
    },
    {
     "cell_type": "code",
     "collapsed": false,
     "input": [
      "## define where the database resides\n",
      "smsHelpers.base=os.path.join(os.getenv(\"HOME\"),\"smodels-database/\")"
     ],
     "language": "python",
     "metadata": {},
     "outputs": [],
     "prompt_number": 3
    },
    {
     "cell_type": "heading",
     "level": 2,
     "metadata": {},
     "source": [
      "How to load results from one publication (or conference note)"
     ]
    },
    {
     "cell_type": "code",
     "collapsed": false,
     "input": [
      "#Select only the CMS SUS-12-028 conference note\n",
      "analyses=[\"CMS-SUS-12-028\"]"
     ],
     "language": "python",
     "metadata": {},
     "outputs": [],
     "prompt_number": 4
    },
    {
     "cell_type": "code",
     "collapsed": false,
     "input": [
      "#Loads the selected analyses\n",
      "#(The INFO tells you that superseded analyses are not loaded, see below)\n",
      "list_of_analyses=smsAnalysisFactory.load(analyses)"
     ],
     "language": "python",
     "metadata": {},
     "outputs": [
      {
       "output_type": "stream",
       "stream": "stdout",
       "text": [
        "12:12:28.879 INFO     smodels.experiment.smsAnalysisFactory:39  useSuperseded is not set, skipping superseded results\n"
       ]
      }
     ],
     "prompt_number": 5
    },
    {
     "cell_type": "code",
     "collapsed": false,
     "input": [
      "#Print the analyses that were loaded:\n",
      "for analysis in list_of_analyses: analysis.printout(outputLevel=1)"
     ],
     "language": "python",
     "metadata": {},
     "outputs": [
      {
       "output_type": "stream",
       "stream": "stdout",
       "text": [
        "========================================================\n",
        "Analysis Name: CMS-SUS-12-028\n",
        "Tx Label: T1bbbb\n",
        "Analysis Sqrts: 8.00E+00 [TeV]\n",
        "\n",
        "========================================================\n",
        "Analysis Name: CMS-SUS-12-028\n",
        "Tx Label: T1tttt\n",
        "Analysis Sqrts: 8.00E+00 [TeV]\n",
        "\n",
        "========================================================\n",
        "Analysis Name: CMS-SUS-12-028\n",
        "Tx Label: T2\n",
        "Analysis Sqrts: 8.00E+00 [TeV]\n",
        "\n",
        "========================================================\n",
        "Analysis Name: CMS-SUS-12-028\n",
        "Tx Label: T2bb\n",
        "Analysis Sqrts: 8.00E+00 [TeV]\n",
        "\n",
        "========================================================\n",
        "Analysis Name: CMS-SUS-12-028\n",
        "Tx Label: T1\n",
        "Analysis Sqrts: 8.00E+00 [TeV]\n",
        "\n"
       ]
      }
     ],
     "prompt_number": 6
    },
    {
     "cell_type": "code",
     "collapsed": false,
     "input": [
      "#To see which elements are constrained by the analyses (in bracket notation), set outputLevel=2\n",
      "for analysis in list_of_analyses: analysis.printout(outputLevel=2)"
     ],
     "language": "python",
     "metadata": {},
     "outputs": [
      {
       "output_type": "stream",
       "stream": "stdout",
       "text": [
        "========================================================\n",
        "Analysis Name: CMS-SUS-12-028\n",
        "Tx Label: T1bbbb\n",
        "Analysis Sqrts: 8.00E+00 [TeV]\n",
        "\t -----------------------------\n",
        "\t Elements tested by analysis:\n",
        "\t    [[['b', 'b']], [['b', 'b']]]\n",
        "\n",
        "========================================================\n",
        "Analysis Name: CMS-SUS-12-028\n",
        "Tx Label: T1tttt\n",
        "Analysis Sqrts: 8.00E+00 [TeV]\n",
        "\t -----------------------------\n",
        "\t Elements tested by analysis:\n",
        "\t    [[['t', 't']], [['t', 't']]]\n",
        "\n",
        "========================================================\n",
        "Analysis Name: CMS-SUS-12-028\n",
        "Tx Label: T2\n",
        "Analysis Sqrts: 8.00E+00 [TeV]\n",
        "\t -----------------------------\n",
        "\t Elements tested by analysis:\n",
        "\t    [[['jet']], [['jet']]]\n",
        "\n",
        "========================================================\n",
        "Analysis Name: CMS-SUS-12-028\n",
        "Tx Label: T2bb\n",
        "Analysis Sqrts: 8.00E+00 [TeV]\n",
        "\t -----------------------------\n",
        "\t Elements tested by analysis:\n",
        "\t    [[['b']], [['b']]]\n",
        "\n",
        "========================================================\n",
        "Analysis Name: CMS-SUS-12-028\n",
        "Tx Label: T1\n",
        "Analysis Sqrts: 8.00E+00 [TeV]\n",
        "\t -----------------------------\n",
        "\t Elements tested by analysis:\n",
        "\t    [[['jet', 'jet']], [['jet', 'jet']]]\n",
        "\n"
       ]
      }
     ],
     "prompt_number": 7
    },
    {
     "cell_type": "code",
     "collapsed": false,
     "input": [
      "#To print basic information about one analysis:\n",
      "analysisT1 = list_of_analyses[4]\n",
      "analysisT2 = list_of_analyses[2]\n",
      "print \"Name = \",analysisT1.label,\", Sqrts = \",analysisT1.sqrts, \", Luminosity =\",analysisT1.lum"
     ],
     "language": "python",
     "metadata": {},
     "outputs": [
      {
       "output_type": "stream",
       "stream": "stdout",
       "text": [
        "Name =  CMS-SUS-12-028:T1 , Sqrts =  8.00E+00 [TeV] , Luminosity = 1.17E+01 [1/fb]\n"
       ]
      }
     ],
     "prompt_number": 8
    },
    {
     "cell_type": "code",
     "collapsed": false,
     "input": [
      "#To obtain the upper limit for a given analysis and a given mass vector.\n",
      "#Note that the number of masses in the mass vector must be consitent with the analysis. For the T1 analysis, for instance:\n",
      "massesT1 = [[300*GeV,100*GeV],[300*GeV,100*GeV]]\n",
      "analysisT1 = list_of_analyses[0]\n",
      "print analysisT1.getUpperLimitFor(massesT1)"
     ],
     "language": "python",
     "metadata": {},
     "outputs": [
      {
       "output_type": "stream",
       "stream": "stdout",
       "text": [
        "6.27E-01 [pb]\n"
       ]
      }
     ],
     "prompt_number": 9
    },
    {
     "cell_type": "code",
     "collapsed": false,
     "input": [
      "#For the T2 analysis:\n",
      "massesT2 = [[300*GeV,50*GeV],[300*GeV,50*GeV]]\n",
      "print analysisT2.getUpperLimitFor(massesT2)"
     ],
     "language": "python",
     "metadata": {},
     "outputs": [
      {
       "output_type": "stream",
       "stream": "stdout",
       "text": [
        "1.07E+00 [pb]\n"
       ]
      }
     ],
     "prompt_number": 10
    },
    {
     "cell_type": "code",
     "collapsed": false,
     "input": [
      "#If you try with the wrong mass format, an error will be printed:\n",
      "masses = [[300*GeV],[300*GeV,50*GeV]]\n",
      "print analysisT2.getUpperLimitFor(masses)"
     ],
     "language": "python",
     "metadata": {},
     "outputs": [
      {
       "output_type": "stream",
       "stream": "stdout",
       "text": [
        "12:12:29.789 ERROR    smodels.experiment.limitGetter:76  Masses differ between branches.\n"
       ]
      },
      {
       "output_type": "stream",
       "stream": "stdout",
       "text": [
        "False\n"
       ]
      }
     ],
     "prompt_number": 11
    },
    {
     "cell_type": "heading",
     "level": 2,
     "metadata": {},
     "source": [
      "How to load results for one constraint (Txname)"
     ]
    },
    {
     "cell_type": "code",
     "collapsed": false,
     "input": [
      "#It is also possible to load all the results for a single constraint (using the Txname convention)\n",
      "Txnames = [\"T1\"]\n",
      "new_list = smsAnalysisFactory.load(topologies=Txnames)"
     ],
     "language": "python",
     "metadata": {},
     "outputs": [
      {
       "output_type": "stream",
       "stream": "stdout",
       "text": [
        "12:12:29.923 INFO     smodels.experiment.smsAnalysisFactory:39  useSuperseded is not set, skipping superseded results\n"
       ]
      }
     ],
     "prompt_number": 12
    },
    {
     "cell_type": "code",
     "collapsed": false,
     "input": [
      "#Print all the analyses containing the required Txname:\n",
      "for analysis in new_list: print analysis.label"
     ],
     "language": "python",
     "metadata": {},
     "outputs": [
      {
       "output_type": "stream",
       "stream": "stdout",
       "text": [
        "CMS-SUS-12-028:T1\n",
        "CMS-SUS-13-012:T1\n",
        "CMS-PAS-SUS-13-019:T1\n",
        "ATLAS-SUSY-2013-02:T1\n"
       ]
      }
     ],
     "prompt_number": 13
    },
    {
     "cell_type": "heading",
     "level": 2,
     "metadata": {},
     "source": [
      "How to load all experimental analyses, including the superseded publications"
     ]
    },
    {
     "cell_type": "code",
     "collapsed": false,
     "input": [
      "#By default only non-supersed analyses are loaded:\n",
      "analysisList = smsAnalysisFactory.load()\n",
      "for analysis in analysisList: print analysis.label"
     ],
     "language": "python",
     "metadata": {},
     "outputs": [
      {
       "output_type": "stream",
       "stream": "stdout",
       "text": [
        "12:12:30.224 INFO     smodels.experiment.smsAnalysisFactory:39  useSuperseded is not set, skipping superseded results\n"
       ]
      },
      {
       "output_type": "stream",
       "stream": "stdout",
       "text": [
        "CMS-SUS-12-024:T1bbbb\n",
        "CMS-SUS-12-024:T1ttttoff\n",
        "CMS-SUS-12-024:T1tttt\n",
        "CMS-SUS-12-024:T5tttt\n",
        "ATLAS-CONF-2013-065:T2tt\n",
        "CMS-SUS-12-028:T1bbbb\n",
        "CMS-SUS-12-028:T1tttt\n",
        "CMS-SUS-12-028:T2\n",
        "CMS-SUS-12-028:T2bb\n",
        "CMS-SUS-12-028:T1\n",
        "ATLAS-CONF-2012-105:T1tttt\n",
        "ATLAS-CONF-2013-007:T1tttt\n",
        "ATLAS-SUSY-2013-12:TChiWH\n",
        "ATLAS-SUSY-2013-12:TChiWZ\n",
        "ATLAS-SUSY-2013-12:TChiWZoff\n",
        "ATLAS-SUSY-2013-11:TChiWZ\n",
        "ATLAS-SUSY-2013-11:TSlepSlep\n",
        "ATLAS-SUSY-2013-15:T2tt\n",
        "ATLAS-SUSY-2013-15:T2bbWW\n",
        "ATLAS-SUSY-2013-14:TStauStau\n",
        "CMS-SUS-13-012:T1tttt\n",
        "CMS-SUS-13-012:T2\n",
        "CMS-SUS-13-012:T1ttttoff\n",
        "CMS-SUS-13-012:T1\n",
        "CMS-SUS-13-013:T1tttt\n",
        "CMS-SUS-13-013:T1ttttoff\n",
        "ATLAS-SUSY-2013-19:T2tt\n",
        "ATLAS-SUSY-2013-19:T2bbWW\n",
        "ATLAS-SUSY-2013-19:T6bbWW\n",
        "CMS-SUS-13-011:T2tt\n",
        "CMS-SUS-13-011:T6bbWW\n",
        "ATLAS-CONF-2013-024:T2tt\n",
        "CMS-PAS-SUS-13-019:T1tttt\n",
        "CMS-PAS-SUS-13-019:T2tt\n",
        "CMS-PAS-SUS-13-019:T1bbbb\n",
        "CMS-PAS-SUS-13-019:T2\n",
        "CMS-PAS-SUS-13-019:T1\n",
        "CMS-PAS-SUS-13-019:T1ttttoff\n",
        "CMS-PAS-SUS-13-019:T2bb\n",
        "CMS-SUS-13-002:T1tttt\n",
        "CMS-PAS-SUS-13-018:T2bb\n",
        "ATLAS-SUSY-2013-04:T1tttt\n",
        "ATLAS-SUSY-2013-05:T2bb\n",
        "ATLAS-SUSY-2013-02:T2\n",
        "ATLAS-SUSY-2013-02:T1\n",
        "CMS-PAS-SUS-13-008:T6ttWW\n",
        "CMS-PAS-SUS-13-008:T1tttt\n",
        "CMS-SUS-13-007:T1tttt\n",
        "CMS-SUS-13-007:T1ttttoff\n",
        "CMS-SUS-13-006:TChiChipmSlepL\n",
        "CMS-SUS-13-006:TChiWZ\n",
        "CMS-SUS-13-006:TChiChipmSlepStau\n",
        "CMS-SUS-13-006:TSlepSlep\n",
        "CMS-SUS-13-006:TChiWZoff\n",
        "CMS-PAS-SUS-14-011:T1bbbb\n",
        "CMS-PAS-SUS-14-011:T2tt\n",
        "CMS-PAS-SUS-14-011:T1tttt\n",
        "CMS-PAS-SUS-14-011:T1ttttoff\n",
        "CMS-PAS-SUS-13-016:T1tttt\n",
        "CMS-PAS-SUS-13-016:T1ttttoff\n",
        "ATLAS-CONF-2013-061:T1bbbb\n",
        "ATLAS-CONF-2013-061:T1tttt\n"
       ]
      }
     ],
     "prompt_number": 14
    },
    {
     "cell_type": "code",
     "collapsed": false,
     "input": [
      "#To load all analyses (included the superseded ones), set useSuperseded=True\n",
      "full_list = smsAnalysisFactory.load(useSuperseded=True)\n",
      "for analysis in full_list: print analysis.label"
     ],
     "language": "python",
     "metadata": {},
     "outputs": [
      {
       "output_type": "stream",
       "stream": "stdout",
       "text": [
        "ATLAS-CONF-2013-049:TSlepSlep\n",
        "ATLAS-CONF-2013-048:T2bbWW\n",
        "ATLAS-CONF-2013-048:T6bbWW\n",
        "CMS-SUS-12-024:T1bbbb\n",
        "CMS-SUS-12-024:T1ttttoff\n",
        "CMS-SUS-12-024:T1tttt\n",
        "CMS-SUS-12-024:T5tttt\n",
        "ATLAS-CONF-2013-065:T2tt\n",
        "CMS-SUS-12-028:T1bbbb\n",
        "CMS-SUS-12-028:T1tttt\n",
        "CMS-SUS-12-028:T2\n",
        "CMS-SUS-12-028:T2bb\n",
        "CMS-SUS-12-028:T1\n",
        "ATLAS-CONF-2013-047:T2\n",
        "ATLAS-CONF-2013-047:T1\n",
        "ATLAS-CONF-2012-105:T1tttt\n",
        "ATLAS-CONF-2013-007:T1tttt\n",
        "ATLAS-SUSY-2013-12:TChiWH\n",
        "ATLAS-SUSY-2013-12:TChiWZ\n",
        "ATLAS-SUSY-2013-12:TChiWZoff\n",
        "ATLAS-SUSY-2013-11:TChiWZ\n",
        "ATLAS-SUSY-2013-11:TSlepSlep\n",
        "ATLAS-SUSY-2013-15:T2tt\n",
        "ATLAS-SUSY-2013-15:T2bbWW\n",
        "ATLAS-SUSY-2013-14:TStauStau\n",
        "CMS-SUS-13-012:T1tttt\n",
        "CMS-SUS-13-012:T2\n",
        "CMS-SUS-13-012:T1ttttoff\n",
        "CMS-SUS-13-012:T1\n",
        "CMS-SUS-13-013:T1tttt\n",
        "CMS-SUS-13-013:T1ttttoff\n",
        "ATLAS-SUSY-2013-19:T2tt\n",
        "ATLAS-SUSY-2013-19:T2bbWW\n",
        "ATLAS-SUSY-2013-19:T6bbWW\n",
        "CMS-SUS-13-011:T2tt\n",
        "CMS-SUS-13-011:T6bbWW\n",
        "ATLAS-CONF-2013-024:T2tt\n",
        "CMS-PAS-SUS-13-019:T1tttt\n",
        "CMS-PAS-SUS-13-019:T2tt\n",
        "CMS-PAS-SUS-13-019:T1bbbb\n",
        "CMS-PAS-SUS-13-019:T2\n",
        "CMS-PAS-SUS-13-019:T1\n",
        "CMS-PAS-SUS-13-019:T1ttttoff\n",
        "CMS-PAS-SUS-13-019:T2bb\n",
        "ATLAS-CONF-2012-166:T2tt\n",
        "CMS-SUS-13-002:T1tttt\n",
        "CMS-PAS-SUS-12-026:T1tttt\n",
        "CMS-PAS-SUS-13-018:T2bb\n",
        "CMS-PAS-SUS-12-022:TChiChipmSlepL\n",
        "CMS-PAS-SUS-12-022:TChiWZ\n",
        "CMS-PAS-SUS-12-022:TSlepSlep\n",
        "CMS-PAS-SUS-12-022:TChiChipmSlepStau\n",
        "ATLAS-SUSY-2013-04:T1tttt\n",
        "ATLAS-SUSY-2013-05:T2bb\n",
        "ATLAS-CONF-2013-053:T2bb\n",
        "ATLAS-SUSY-2013-02:T2\n",
        "ATLAS-SUSY-2013-02:T1\n",
        "CMS-PAS-SUS-13-004:T2tt\n",
        "CMS-PAS-SUS-13-004:T1bbbb\n",
        "CMS-PAS-SUS-13-004:T1ttttoff\n",
        "CMS-PAS-SUS-13-004:T1tttt\n",
        "CMS-PAS-SUS-13-008:T6ttWW\n",
        "CMS-PAS-SUS-13-008:T1tttt\n",
        "ATLAS-CONF-2013-037:T2tt\n",
        "ATLAS-CONF-2013-037:T6bbWW\n",
        "ATLAS-CONF-2013-035:TChiWZ\n",
        "ATLAS-CONF-2013-035:TChiWZoff\n",
        "CMS-SUS-13-007:T1tttt\n",
        "CMS-SUS-13-007:T1ttttoff\n",
        "CMS-SUS-13-006:TChiChipmSlepL\n",
        "CMS-SUS-13-006:TChiWZ\n",
        "CMS-SUS-13-006:TChiChipmSlepStau\n",
        "CMS-SUS-13-006:TSlepSlep\n",
        "CMS-SUS-13-006:TChiWZoff\n",
        "CMS-PAS-SUS-14-011:T1bbbb\n",
        "CMS-PAS-SUS-14-011:T2tt\n",
        "CMS-PAS-SUS-14-011:T1tttt\n",
        "CMS-PAS-SUS-14-011:T1ttttoff\n",
        "CMS-PAS-SUS-13-016:T1tttt\n",
        "CMS-PAS-SUS-13-016:T1ttttoff\n",
        "ATLAS-CONF-2013-061:T1bbbb\n",
        "ATLAS-CONF-2013-061:T1tttt\n"
       ]
      }
     ],
     "prompt_number": 15
    },
    {
     "cell_type": "code",
     "collapsed": false,
     "input": [],
     "language": "python",
     "metadata": {},
     "outputs": [],
     "prompt_number": 15
    }
   ],
   "metadata": {}
  }
 ]
}
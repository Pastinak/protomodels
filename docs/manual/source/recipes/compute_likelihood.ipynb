{
 "cells": [
  {
   "cell_type": "markdown",
   "metadata": {},
   "source": [
    "# How To: Compute likelihood and chi2"
   ]
  },
  {
   "cell_type": "code",
   "execution_count": 1,
   "metadata": {},
   "outputs": [],
   "source": [
    "#Set up the path to SModelS installation folder if running on a different folder\n",
    "import sys; sys.path.append(\".\")\n",
    "import smodels_paths"
   ]
  },
  {
   "cell_type": "code",
   "execution_count": 2,
   "metadata": {},
   "outputs": [],
   "source": [
    "from smodels.tools.simplifiedLikelihoods import LikelihoodComputer, Model"
   ]
  },
  {
   "cell_type": "markdown",
   "metadata": {},
   "source": [
    "## How to compute the likelihood and chi2 from the number of events"
   ]
  },
  {
   "cell_type": "code",
   "execution_count": 3,
   "metadata": {},
   "outputs": [
    {
     "name": "stdout",
     "output_type": "stream",
     "text": [
      "likelihood= 0.002043162995765441\n",
      "chi2= 7.753011557803882\n"
     ]
    }
   ],
   "source": [
    "#If the number of observed events, the number of expected background events,\n",
    "#its error and the number of signal events and its error are known, the likelihood\n",
    "#for the signal (assuming a truncated gaussian distribution for the background and signal uncertainties)\n",
    "#can be computed as:\n",
    "m=Model ( data=5, backgrounds=4.2, covariance=0.71**2, third_moment=None, efficiencies=.1 )\n",
    "comp=LikelihoodComputer ( m )\n",
    "print ('likelihood=',comp.likelihood(nsig = 10. ) )\n",
    "print ('chi2=',comp.chi2( nsig=10.))"
   ]
  },
  {
   "cell_type": "markdown",
   "metadata": {},
   "source": [
    "## How to compute the likelihood and chi2 from a theory prediction"
   ]
  },
  {
   "cell_type": "code",
   "execution_count": 4,
   "metadata": {},
   "outputs": [],
   "source": [
    "#In most cases one wants to compute the likelihood and chi2 for a given theory prediction computed by SModelS.\n",
    "#Below we generate theory predictions and compute the likelihood and chi2 values for them\n",
    "#First we import those parts of smodels that are needed for this exercise\n",
    "#(We will assume the input is a SLHA file. For LHE files, use the lheDecomposer instead)\n",
    "from smodels.theory import slhaDecomposer\n",
    "from smodels.installation import installDirectory\n",
    "from smodels.tools.physicsUnits import fb, GeV\n",
    "from smodels.theory.theoryPrediction import theoryPredictionsFor\n",
    "from smodels.experiment.databaseObj import Database"
   ]
  },
  {
   "cell_type": "code",
   "execution_count": 5,
   "metadata": {},
   "outputs": [],
   "source": [
    "#Define the SLHA input file name\n",
    "filename=\"%s/inputFiles/slha/gluino_squarks.slha\" % installDirectory()"
   ]
  },
  {
   "cell_type": "code",
   "execution_count": 6,
   "metadata": {},
   "outputs": [],
   "source": [
    "#Load the database, do the decomposition and compute theory predictions:\n",
    "#(Look at the theory predictions HowTo to learn how to compute theory predictions)\n",
    "databasepath = os.path.join(os.getenv(\"HOME\"),\"smodels-database/\")\n",
    "database = Database(databasepath)\n",
    "expResults = database.getExpResults()\n",
    "topList = slhaDecomposer.decompose(filename, sigcut = 0.03 * fb, doCompress=True, doInvisible=True,minmassgap = 5* GeV)\n",
    "allThPredictions = [theoryPredictionsFor(exp, topList) for exp in expResults]"
   ]
  },
  {
   "cell_type": "code",
   "execution_count": 7,
   "metadata": {},
   "outputs": [
    {
     "name": "stdout",
     "output_type": "stream",
     "text": [
      "\n",
      "Experimental Result: ATLAS-CONF-2013-047 (efficiencyMap-type)\n",
      "Theory prediction xsec =  5.24E-04 [pb]\n",
      "likelihood = 0.00075590805708489 , chi2 = 0.01217462089381982\n",
      "\n",
      "Experimental Result: ATLAS-CONF-2013-053 (efficiencyMap-type)\n",
      "Theory prediction xsec =  8.58E-08 [pb]\n",
      "likelihood = 0.143051339776402 , chi2 = 0.0810323621529454\n",
      "\n",
      "Experimental Result: ATLAS-CONF-2013-054 (efficiencyMap-type)\n",
      "Theory prediction xsec =  6.52E-06 [pb]\n",
      "likelihood = 0.020269451965479322 , chi2 = 0.045819527678164995\n",
      "\n",
      "Experimental Result: ATLAS-CONF-2013-061 (efficiencyMap-type)\n",
      "Theory prediction xsec =  4.81E-07 [pb]\n",
      "likelihood = 0.07331381710998529 , chi2 = 0.24970113984601383\n",
      "\n",
      "Experimental Result: ATLAS-CONF-2013-089 (upperLimit-type)\n",
      "Theory prediction xsec =  6.62E-03 [pb]\n",
      "(likelihood not available)\n",
      "\n",
      "Experimental Result: ATLAS-SUSY-2013-02 (upperLimit-type)\n",
      "Theory prediction xsec =  9.07E-03 [pb]\n",
      "(likelihood not available)\n",
      "\n",
      "Experimental Result: ATLAS-SUSY-2013-02 (upperLimit-type)\n",
      "Theory prediction xsec =  1.77E-03 [pb]\n",
      "(likelihood not available)\n",
      "\n",
      "Experimental Result: ATLAS-SUSY-2013-02 (upperLimit-type)\n",
      "Theory prediction xsec =  6.62E-03 [pb]\n",
      "(likelihood not available)\n",
      "\n",
      "Experimental Result: ATLAS-SUSY-2013-02 (upperLimit-type)\n",
      "Theory prediction xsec =  3.92E-04 [pb]\n",
      "(likelihood not available)\n",
      "\n",
      "Experimental Result: ATLAS-SUSY-2013-02 (efficiencyMap-type)\n",
      "Theory prediction xsec =  5.53E-04 [pb]\n",
      "likelihood = 0.0013490672383482893 , chi2 = 0.04415714228845857\n",
      "\n",
      "Experimental Result: ATLAS-SUSY-2013-04 (efficiencyMap-type)\n",
      "Theory prediction xsec =  1.52E-04 [pb]\n",
      "likelihood = 0.01837037788979418 , chi2 = 0.24257043432665437\n",
      "\n",
      "Experimental Result: ATLAS-SUSY-2013-11 (upperLimit-type)\n",
      "Theory prediction xsec =  1.85E-02 [pb]\n",
      "(likelihood not available)\n",
      "\n",
      "Experimental Result: ATLAS-SUSY-2013-11 (efficiencyMap-type)\n",
      "Theory prediction xsec =  4.39E-05 [pb]\n",
      "likelihood = 0.02079682616825798 , chi2 = 0.08019830664274874\n",
      "\n",
      "Experimental Result: ATLAS-SUSY-2013-12 (upperLimit-type)\n",
      "Theory prediction xsec =  1.85E-02 [pb]\n",
      "(likelihood not available)\n",
      "\n",
      "Experimental Result: CMS-SUS-12-028 (upperLimit-type)\n",
      "Theory prediction xsec =  1.77E-03 [pb]\n",
      "(likelihood not available)\n",
      "\n",
      "Experimental Result: CMS-SUS-12-028 (upperLimit-type)\n",
      "Theory prediction xsec =  3.92E-04 [pb]\n",
      "(likelihood not available)\n",
      "\n",
      "Experimental Result: CMS-SUS-13-006 (upperLimit-type)\n",
      "Theory prediction xsec =  1.85E-02 [pb]\n",
      "(likelihood not available)\n",
      "\n",
      "Experimental Result: CMS-SUS-13-006 (upperLimit-type)\n",
      "Theory prediction xsec =  9.59E-02 [pb]\n",
      "(likelihood not available)\n",
      "\n",
      "Experimental Result: CMS-SUS-13-012 (upperLimit-type)\n",
      "Theory prediction xsec =  3.92E-04 [pb]\n",
      "(likelihood not available)\n",
      "\n",
      "Experimental Result: CMS-SUS-13-012 (upperLimit-type)\n",
      "Theory prediction xsec =  1.77E-03 [pb]\n",
      "(likelihood not available)\n",
      "\n",
      "Experimental Result: CMS-SUS-13-012 (efficiencyMap-type)\n",
      "Theory prediction xsec =  8.28E-05 [pb]\n",
      "likelihood = 0.04149999382809347 , chi2 = 0.001518405587942695\n",
      "\n",
      "Experimental Result: CMS-SUS-13-019 (upperLimit-type)\n",
      "Theory prediction xsec =  1.77E-03 [pb]\n",
      "(likelihood not available)\n",
      "\n",
      "Experimental Result: CMS-SUS-13-019 (upperLimit-type)\n",
      "Theory prediction xsec =  3.92E-04 [pb]\n",
      "(likelihood not available)\n"
     ]
    }
   ],
   "source": [
    "#For each theory prediction, compute the corresponding likelihood and chi2 values\n",
    "#(This is only possible for efficiency map-type results):\n",
    "for i,thPreds in enumerate(allThPredictions):\n",
    "    if not thPreds: continue #skip results with no predictions\n",
    "    expID = expResults[i].globalInfo.id\n",
    "    dataType = expResults[i].getValuesFor('dataType')[0]    \n",
    "    for theoryPred in thPreds:\n",
    "        #Compute the likelihood and chi2:\n",
    "        theoryPred.computeStatistics()\n",
    "        print (\"\\nExperimental Result: %s (%s-type)\" %(expID,dataType)) #Result ID and type\n",
    "        print (\"Theory prediction xsec = \",theoryPred.xsection.value) #Signal xsection*efficiency*BR\n",
    "        if dataType == 'efficiencyMap':\n",
    "            print ('likelihood =',theoryPred.likelihood,', chi2 =',theoryPred.chi2)\n",
    "        else:\n",
    "            print (\"(likelihood not available)\")\n"
   ]
  },
  {
   "cell_type": "code",
   "execution_count": null,
   "metadata": {},
   "outputs": [],
   "source": []
  }
 ],
 "metadata": {
  "kernelspec": {
   "display_name": "Python 3",
   "language": "python",
   "name": "python3"
  },
  "language_info": {
   "codemirror_mode": {
    "name": "ipython",
    "version": 3
   },
   "file_extension": ".py",
   "mimetype": "text/x-python",
   "name": "python",
   "nbconvert_exporter": "python",
   "pygments_lexer": "ipython3",
   "version": "3.6.5"
  }
 },
 "nbformat": 4,
 "nbformat_minor": 1
}

{
 "cells": [
  {
   "cell_type": "code",
   "execution_count": 1,
   "metadata": {
    "collapsed": false
   },
   "outputs": [],
   "source": [
    "#Make sure smodels can be found\n",
    "import sys,os\n",
    "sys.path.append(os.path.join(os.getenv(\"HOME\"),'smodels'))\n",
    "from smodels.tools import databaseBrowser\n",
    "#First load the browser:\n",
    "browser = databaseBrowser.Browser(os.path.join(os.getenv(\"HOME\"),'smodels-database'))"
   ]
  },
  {
   "cell_type": "code",
   "execution_count": 2,
   "metadata": {
    "collapsed": false
   },
   "outputs": [
    {
     "name": "stdout",
     "output_type": "stream",
     "text": [
      "55\n"
     ]
    }
   ],
   "source": [
    "#Check the number of loaded results:\n",
    "print len(browser)"
   ]
  },
  {
   "cell_type": "code",
   "execution_count": null,
   "metadata": {
    "collapsed": false
   },
   "outputs": [],
   "source": [
    "#Print details about the first result (result id: dataset ids: txnames)\n",
    "print browser[0]"
   ]
  },
  {
   "cell_type": "code",
   "execution_count": null,
   "metadata": {
    "collapsed": false
   },
   "outputs": [],
   "source": [
    "#Print the all the results loaded\n",
    "print browser"
   ]
  },
  {
   "cell_type": "code",
   "execution_count": null,
   "metadata": {
    "collapsed": false
   },
   "outputs": [],
   "source": [
    "#Get all the values appearing for the datatype field and the txname field\n",
    "print browser.getValuesFor(attribute='dataType')\n",
    "print browser.getValuesFor(attribute='txName')"
   ]
  },
  {
   "cell_type": "code",
   "execution_count": null,
   "metadata": {
    "collapsed": false
   },
   "outputs": [],
   "source": [
    "#Get the same values, but now restricted to the first experimental result:\n",
    "expres = browser[0]\n",
    "print browser.getValuesFor(attribute='dataType',expResult=expres)\n",
    "print browser.getValuesFor(attribute='txName',expResult=expres)"
   ]
  },
  {
   "cell_type": "code",
   "execution_count": 3,
   "metadata": {
    "collapsed": false
   },
   "outputs": [
    {
     "name": "stdout",
     "output_type": "stream",
     "text": [
      "['comment', 'sqrts', 'private', 'observedN', 'supersededBy', 'validated', 'id', 'implementedBy', 'checked', 'publication', 'axes', 'expectedUpperLimit', 'expectedBG', 'supersedes', 'bgError', 'lastUpdate', 'figureUrl', 'publishedData', 'dataUrl', 'conditionDescription', 'dataType', 'store_value', 'txName', 'expectedUpperLimits', 'accept_errors_upto', 'lumi', 'path', 'data', 'condition', 'dataId', 'txnameList', 'constraint', 'url', 'arxiv', 'contact', 'prettyName', 'upperLimit']\n"
     ]
    }
   ],
   "source": [
    "#List all possible fields/attributes appearing in the database\n",
    "print browser.getAttributes()"
   ]
  },
  {
   "cell_type": "code",
   "execution_count": null,
   "metadata": {
    "collapsed": false
   },
   "outputs": [],
   "source": [
    "#Select only the results containing the TChiWZ and T2tt txnames:\n",
    "browser.selectExpResultsWith(txName = ['TChiWZ','T2tt'])\n",
    "print len(browser)\n",
    "#Notice that other txnames may appear, if the result contains more than one txname\n",
    "print browser.getValuesFor(attribute='txName')"
   ]
  },
  {
   "cell_type": "code",
   "execution_count": null,
   "metadata": {
    "collapsed": false
   },
   "outputs": [],
   "source": [
    "#Check that all the results contain at least the selected topologies:\n",
    "for expres in browser:\n",
    "    expresID = browser.getValuesFor(attribute='id', expResult=expres)    \n",
    "    txnames = browser.getValuesFor(attribute='txName', expResult=expres)\n",
    "    print expresID,('T2tt' in txnames or 'TChiWZ' in txnames)"
   ]
  },
  {
   "cell_type": "code",
   "execution_count": null,
   "metadata": {
    "collapsed": false
   },
   "outputs": [],
   "source": [
    "#Now select only the subset containing 'TChiWH':\n",
    "browser.selectExpResultsWith(txName = 'TChiWH')\n",
    "print len(browser)"
   ]
  },
  {
   "cell_type": "code",
   "execution_count": null,
   "metadata": {
    "collapsed": false
   },
   "outputs": [],
   "source": [
    "print browser.getValuesFor(attribute='txName')"
   ]
  },
  {
   "cell_type": "code",
   "execution_count": null,
   "metadata": {
    "collapsed": false
   },
   "outputs": [],
   "source": [
    "print browser.getValuesFor(attribute='id')"
   ]
  },
  {
   "cell_type": "code",
   "execution_count": null,
   "metadata": {
    "collapsed": false
   },
   "outputs": [],
   "source": []
  }
 ],
 "metadata": {
  "kernelspec": {
   "display_name": "Python 2",
   "language": "python",
   "name": "python2"
  },
  "language_info": {
   "codemirror_mode": {
    "name": "ipython",
    "version": 2
   },
   "file_extension": ".py",
   "mimetype": "text/x-python",
   "name": "python",
   "nbconvert_exporter": "python",
   "pygments_lexer": "ipython2",
   "version": "2.7.9"
  }
 },
 "nbformat": 4,
 "nbformat_minor": 0
}

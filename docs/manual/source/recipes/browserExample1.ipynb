{
 "metadata": {
  "name": ""
 },
 "nbformat": 3,
 "nbformat_minor": 0,
 "worksheets": [
  {
   "cells": [
    {
     "cell_type": "code",
     "collapsed": false,
     "input": [
      "#Make sure smodels can be found\n",
      "import sys,os\n",
      "sys.path.append(os.path.join(os.getenv(\"HOME\"),'smodels'))\n",
      "from smodels.experiment import databaseBrowser\n",
      "#First load the browser:\n",
      "browser = databaseBrowser.Browser(os.path.join(os.getenv(\"HOME\"),'smodels-database'))"
     ],
     "language": "python",
     "metadata": {},
     "outputs": [],
     "prompt_number": 1
    },
    {
     "cell_type": "code",
     "collapsed": false,
     "input": [
      "#Check the number of loaded results:\n",
      "print len(browser)"
     ],
     "language": "python",
     "metadata": {},
     "outputs": [
      {
       "output_type": "stream",
       "stream": "stdout",
       "text": [
        "43\n"
       ]
      }
     ],
     "prompt_number": 2
    },
    {
     "cell_type": "code",
     "collapsed": false,
     "input": [
      "#Print details about the first result (result id: dataset ids: txnames)\n",
      "print browser[0]"
     ],
     "language": "python",
     "metadata": {},
     "outputs": [
      {
       "output_type": "stream",
       "stream": "stdout",
       "text": [
        "ATLAS-CONF-2013-053: ANA10-CUT0,ANA10-CUT1,ANA10-CUT2,ANA10-CUT3,ANA10-CUT4,ANA10-CUT5,ANA6-CUT0,ANA6-CUT1,ANA6-CUT2,ANA6-CUT3,ANA6-CUT4,ANA6-CUT5,ANA8-CUT4,ANA8-CUT5,ANA8-CUT2,ANA8-CUT3,ANA8-CUT0,ANA8-CUT1,ANA7-CUT5,ANA7-CUT4,ANA7-CUT3,ANA7-CUT2,ANA7-CUT1,ANA7-CUT0,ANA9-CUT5,ANA9-CUT4,ANA9-CUT1,ANA9-CUT0,ANA9-CUT3,ANA9-CUT2:TGQbtq,TGQbbq,TGQ,TGQqtt,T2bt,T1btbt,T1tttt,T2,T1,T1qqtt,T1btqq,T1bbbb,T2tt,T1bbtt,T1bttt,T1bbbt,T2bb,T1bbqq\n"
       ]
      }
     ],
     "prompt_number": 3
    },
    {
     "cell_type": "code",
     "collapsed": false,
     "input": [
      "#Print the all the results loaded\n",
      "print browser"
     ],
     "language": "python",
     "metadata": {},
     "outputs": [
      {
       "output_type": "stream",
       "stream": "stdout",
       "text": [
        "['ATLAS-CONF-2013-053', 'ATLAS-CONF-2013-048', 'ATLAS-CONF-2013-007', 'ATLAS-CONF-2013-024', 'ATLAS-CONF-2013-024', 'ATLAS-SUSY-2013-11', 'ATLAS-CONF-2013-001', 'ATLAS-CONF-2013-035', 'ATLAS-SUSY-2013-14', 'ATLAS-SUSY-2013-12', 'ATLAS-CONF-2013-028', 'ATLAS-CONF-2013-035', 'ATLAS-CONF-2013-061', 'ATLAS-CONF-2013-062', 'ATLAS-SUSY-2013-19', 'ATLAS-CONF-2013-049', 'ATLAS-CONF-2013-062', 'ATLAS-CONF-2013-089', 'ATLAS-CONF-2013-025', 'ATLAS-CONF-2013-061', 'ATLAS-CONF-2012-166', 'ATLAS-CONF-2013-036', 'ATLAS-CONF-2013-037', 'ATLAS-SUSY-2013-15', 'ATLAS-CONF-2012-105', 'ATLAS-CONF-2013-037', 'ATLAS-CONF-2013-093', 'ATLAS-CONF-2013-093', 'ATLAS-CONF-2013-053', 'ATLAS-CONF-2013-065', 'ATLAS-CONF-2013-048', 'ATLAS-CONF-2013-054', 'ATLAS-SUSY-2013-09', 'ATLAS-CONF-2013-047', 'ATLAS-SUSY-2013-08', 'ATLAS-SUSY-2013-05', 'ATLAS-SUSY-2013-02', 'ATLAS-CONF-2013-047', 'ATLAS-CONF-2013-049', 'ATLAS-SUSY-2013-04', 'CMS-SUS-13-007', 'CMS-SUS-13-004', 'CMS-SUS-14-011']\n"
       ]
      }
     ],
     "prompt_number": 4
    },
    {
     "cell_type": "code",
     "collapsed": false,
     "input": [
      "#Get all the values appearing for the datatype field and the txname field\n",
      "print browser.getValuesFor(attribute='datatype')\n",
      "print browser.getValuesFor(attribute='txname')"
     ],
     "language": "python",
     "metadata": {},
     "outputs": [
      {
       "output_type": "stream",
       "stream": "stdout",
       "text": [
        "['efficiency-map', 'upper-limit']\n",
        "['TChiWZoff', 'TChiChiSlepSlep', 'T6WW', 'T1bbbb', 'T7btbtWWoff', 'TChiChipmStauL', 'T1bbqq', 'T5bbbt', 'T1tbtb', 'T1bbbt', 'TGQbtq', 'TGQ', 'T5tbtb', 'TGQqtt', 'TChipChimStauSnu', 'T2tt', 'T5WWoff', 'TChiWW', 'T5tttt', 'T7ChiSlep', 'TChiWH', 'T1btqq', 'T6WWoff', 'T2bbWW', 'T5ttttoff', 'T1tttt', 'T6bbWWoff', 'T8ChiSlep', 'T6ttWW', 'T1btbt', 'T2', 'TSlepSlep', 'T1', 'TChiWZ', 'T1ttttoff', 'TChiChipmSlepL', 'T5tbtt', 'TGQbbq', 'T4tbWoff', 'T6ttWWoff', 'T5tctc', 'T6ZZtt', 'T2bt', 'T5WW', 'T1bbtt', 'T6bbWW', 'TChipChimSlepSnu', 'T5btbt', 'T1qqtt', 'T2ttoff', 'T5bbbb', 'T1bttt', 'T2bb']"
       ]
      },
      {
       "output_type": "stream",
       "stream": "stdout",
       "text": [
        "\n"
       ]
      }
     ],
     "prompt_number": 5
    },
    {
     "cell_type": "code",
     "collapsed": false,
     "input": [
      "#Get the same values, but now restricted to the first experimental result:\n",
      "expres = browser[0]\n",
      "print browser.getValuesFor(attribute='datatype',expResult=expres)\n",
      "print browser.getValuesFor(attribute='txname',expResult=expres)"
     ],
     "language": "python",
     "metadata": {},
     "outputs": [
      {
       "output_type": "stream",
       "stream": "stdout",
       "text": [
        "['efficiency-map']\n",
        "['TGQbtq', 'TGQbbq', 'TGQ', 'TGQqtt', 'T2bt', 'T1btbt', 'T1tttt', 'T2', 'T1', 'T1qqtt', 'T1btqq', 'T1bbbb', 'T2tt', 'T1bbtt', 'T1bttt', 'T1bbbt', 'T2bb', 'T1bbqq']\n"
       ]
      }
     ],
     "prompt_number": 6
    },
    {
     "cell_type": "code",
     "collapsed": false,
     "input": [
      "#List all possible fields/attributes appearing in the database\n",
      "print browser.getAttributes()"
     ],
     "language": "python",
     "metadata": {},
     "outputs": [
      {
       "output_type": "stream",
       "stream": "stdout",
       "text": [
        "['comment', 'dataid', 'axes', 'sqrts', 'private', 'observedN', 'dataDir', 'path', 'validated', 'id', 'prettyname', 'checked', 'publication', 'txname', 'last_update', 'infofile', 'expectedBG', 'type', 'supersedes', 'bgError', 'lastUpdate', 'figureUrl', 'publishedData', 'store_value', 'expectedUpperLimits', 'accept_errors_upto', 'lumi', 'txnameFile', 'data', 'condition', 'fuzzycondition', 'constraint', 'url', 'superseded_by', 'arxiv', 'datatype', 'contact', 'implemented_by', 'txnameList', 'upperLimit']\n"
       ]
      }
     ],
     "prompt_number": 7
    },
    {
     "cell_type": "code",
     "collapsed": false,
     "input": [
      "#To check the upper limit of a efficiency map result one needs to choose the result and dataset (signal region) IDs:\n",
      "expres = browser[0]\n",
      "print browser.getValuesFor(attribute='id',expResult=expres)\n",
      "print browser.getValuesFor(attribute='dataid',expResult=expres)"
     ],
     "language": "python",
     "metadata": {},
     "outputs": [
      {
       "output_type": "stream",
       "stream": "stdout",
       "text": [
        "['ATLAS-CONF-2013-053']\n",
        "['ANA10-CUT0', 'ANA10-CUT1', 'ANA10-CUT2', 'ANA10-CUT3', 'ANA10-CUT4', 'ANA10-CUT5', 'ANA6-CUT0', 'ANA6-CUT1', 'ANA6-CUT2', 'ANA6-CUT3', 'ANA6-CUT4', 'ANA6-CUT5', 'ANA8-CUT4', 'ANA8-CUT5', 'ANA8-CUT2', 'ANA8-CUT3', 'ANA8-CUT0', 'ANA8-CUT1', 'ANA7-CUT5', 'ANA7-CUT4', 'ANA7-CUT3', 'ANA7-CUT2', 'ANA7-CUT1', 'ANA7-CUT0', 'ANA9-CUT5', 'ANA9-CUT4', 'ANA9-CUT1', 'ANA9-CUT0', 'ANA9-CUT3', 'ANA9-CUT2']\n"
       ]
      }
     ],
     "prompt_number": 8
    },
    {
     "cell_type": "code",
     "collapsed": false,
     "input": [
      "#Check the upper limit for the ANA10-CUT1 ID:\n",
      "print browser.getULFor(expid='ATLAS-CONF-2013-053', datasetID='ANA10-CUT1')\n",
      "#Check the upper limit for the ANA6-CUT5 ID:\n",
      "print browser.getULFor(expid='ATLAS-CONF-2013-053', datasetID='ANA6-CUT5')"
     ],
     "language": "python",
     "metadata": {},
     "outputs": [
      {
       "output_type": "stream",
       "stream": "stdout",
       "text": [
        "1.30E+00 [fb]\n",
        "1.35E+00 [fb]"
       ]
      },
      {
       "output_type": "stream",
       "stream": "stdout",
       "text": [
        "\n"
       ]
      }
     ],
     "prompt_number": 10
    },
    {
     "cell_type": "code",
     "collapsed": false,
     "input": [
      "print browser[0]"
     ],
     "language": "python",
     "metadata": {},
     "outputs": [
      {
       "output_type": "stream",
       "stream": "stdout",
       "text": [
        "ATLAS-CONF-2013-053: ANA10-CUT0,ANA10-CUT1,ANA10-CUT2,ANA10-CUT3,ANA10-CUT4,ANA10-CUT5,ANA6-CUT0,ANA6-CUT1,ANA6-CUT2,ANA6-CUT3,ANA6-CUT4,ANA6-CUT5,ANA8-CUT4,ANA8-CUT5,ANA8-CUT2,ANA8-CUT3,ANA8-CUT0,ANA8-CUT1,ANA7-CUT5,ANA7-CUT4,ANA7-CUT3,ANA7-CUT2,ANA7-CUT1,ANA7-CUT0,ANA9-CUT5,ANA9-CUT4,ANA9-CUT1,ANA9-CUT0,ANA9-CUT3,ANA9-CUT2:TGQbtq,TGQbbq,TGQ,TGQqtt,T2bt,T1btbt,T1tttt,T2,T1,T1qqtt,T1btqq,T1bbbb,T2tt,T1bbtt,T1bttt,T1bbbt,T2bb,T1bbqq\n"
       ]
      }
     ],
     "prompt_number": 16
    },
    {
     "cell_type": "code",
     "collapsed": false,
     "input": [],
     "language": "python",
     "metadata": {},
     "outputs": []
    }
   ],
   "metadata": {}
  }
 ]
}
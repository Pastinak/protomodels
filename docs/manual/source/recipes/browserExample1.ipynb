{
 "metadata": {
  "name": ""
 },
 "nbformat": 3,
 "nbformat_minor": 0,
 "worksheets": [
  {
   "cells": [
    {
     "cell_type": "code",
     "collapsed": false,
     "input": [
      "#Make sure smodels can be found\n",
      "import sys,os\n",
      "sys.path.append(os.path.join(os.getenv(\"HOME\"),'smodels'))\n",
      "from smodels.tools import databaseBrowser\n",
      "#First load the browser:\n",
      "browser = databaseBrowser.Browser(os.path.join(os.getenv(\"HOME\"),'smodels-database'))"
     ],
     "language": "python",
     "metadata": {},
     "outputs": [],
     "prompt_number": 1
    },
    {
     "cell_type": "code",
     "collapsed": false,
     "input": [
      "#Check the number of loaded results:\n",
      "print len(browser)"
     ],
     "language": "python",
     "metadata": {},
     "outputs": [
      {
       "output_type": "stream",
       "stream": "stdout",
       "text": [
        "44\n"
       ]
      }
     ],
     "prompt_number": 2
    },
    {
     "cell_type": "code",
     "collapsed": false,
     "input": [
      "#Print details about the first result (result id: dataset ids: txnames)\n",
      "print browser[0]"
     ],
     "language": "python",
     "metadata": {},
     "outputs": [
      {
       "output_type": "stream",
       "stream": "stdout",
       "text": [
        "ATLAS-CONF-2013-053: ANA10-CUT0,ANA10-CUT1,ANA10-CUT2,ANA10-CUT3,ANA10-CUT4,ANA10-CUT5,ANA6-CUT0,ANA6-CUT1,ANA6-CUT2,ANA6-CUT3,ANA6-CUT4,ANA6-CUT5,ANA8-CUT4,ANA8-CUT5,ANA8-CUT2,ANA8-CUT3,ANA8-CUT0,ANA8-CUT1,ANA7-CUT5,ANA7-CUT4,ANA7-CUT3,ANA7-CUT2,ANA7-CUT1,ANA7-CUT0,ANA9-CUT5,ANA9-CUT4,ANA9-CUT1,ANA9-CUT0,ANA9-CUT3,ANA9-CUT2:TGQbtq,TGQbbq,TGQ,TGQqtt,T2bt,T1btbt,T1tttt,T2,T1,T1qqtt,T1btqq,T1bbbb,T2tt,T1bbtt,T1bttt,T1bbbt,T2bb,T1bbqq\n"
       ]
      }
     ],
     "prompt_number": 3
    },
    {
     "cell_type": "code",
     "collapsed": false,
     "input": [
      "#Print the all the results loaded\n",
      "print browser"
     ],
     "language": "python",
     "metadata": {},
     "outputs": [
      {
       "output_type": "stream",
       "stream": "stdout",
       "text": [
        "['ATLAS-CONF-2013-053', 'ATLAS-CONF-2013-048', 'ATLAS-CONF-2013-007', 'ATLAS-CONF-2013-024', 'ATLAS-CONF-2013-024', 'ATLAS-SUSY-2013-11', 'ATLAS-CONF-2013-001', 'ATLAS-CONF-2013-035', 'ATLAS-SUSY-2013-14', 'ATLAS-SUSY-2013-12', 'ATLAS-CONF-2013-028', 'ATLAS-CONF-2013-035', 'ATLAS-CONF-2013-061', 'ATLAS-CONF-2013-062', 'ATLAS-SUSY-2013-19', 'ATLAS-CONF-2013-049', 'ATLAS-CONF-2013-062', 'ATLAS-CONF-2013-089', 'ATLAS-CONF-2013-025', 'ATLAS-CONF-2013-061', 'ATLAS-CONF-2012-166', 'ATLAS-CONF-2013-036', 'ATLAS-CONF-2013-037', 'ATLAS-SUSY-2013-15', 'ATLAS-CONF-2012-105', 'ATLAS-CONF-2013-037', 'ATLAS-CONF-2013-093', 'ATLAS-CONF-2013-093', 'ATLAS-CONF-2013-053', 'ATLAS-CONF-2013-065', 'ATLAS-CONF-2013-048', 'ATLAS-CONF-2013-054', 'ATLAS-SUSY-2013-09', 'ATLAS-CONF-2013-047', 'ATLAS-SUSY-2013-08', 'ATLAS-SUSY-2013-05', 'ATLAS-SUSY-2013-02', 'ATLAS-CONF-2013-047', 'ATLAS-CONF-2013-049', 'ATLAS-SUSY-2013-04', 'CMS-SUS-13-007', 'CMS-SUS-13-004', 'CMS-SUS-14-011', 'CMS-SUS-PAS-12-022']\n"
       ]
      }
     ],
     "prompt_number": 4
    },
    {
     "cell_type": "code",
     "collapsed": false,
     "input": [
      "#Get all the values appearing for the datatype field and the txname field\n",
      "print browser.getValuesFor(attribute='dataType')\n",
      "print browser.getValuesFor(attribute='txName')"
     ],
     "language": "python",
     "metadata": {},
     "outputs": [
      {
       "output_type": "stream",
       "stream": "stdout",
       "text": [
        "['efficiencyMap', 'upperLimit']\n",
        "['TChiWZoff', 'TChiChiSlepSlep', 'T6WW', 'T1bbbb', 'T7btbtWWoff', 'TChiChipmStauL', 'T1bbqq', 'T5bbbt', 'T1tbtb', 'T1bbbt', 'TGQbtq', 'TGQ', 'T5tbtb', 'TGQqtt', 'TChipChimStauSnu', 'T2tt', 'T5WWoff', 'TChiWW', 'T5tttt', 'T7ChiSlep', 'TChiWH', 'T1btqq', 'T6WWoff', 'T2bbWW', 'T5ttttoff', 'T1tttt', 'T6bbWWoff', 'T8ChiSlep', 'T6ttWW', 'T1btbt', 'T2', 'TSlepSlep', 'T1', 'TChiWZ', 'T1ttttoff', 'TChiChipmSlepL', 'T5tbtt', 'TGQbbq', 'T4tbWoff', 'T6ttWWoff', 'T5tctc', 'T6ZZtt', 'T2bt', 'T5WW', 'T1bbtt', 'T6bbWW', 'TChipChimSlepSnu', 'TChiChipmStauStau', 'T5btbt', 'T1qqtt', 'T2ttoff', 'T5bbbb', 'T1bttt', 'T2bb']"
       ]
      },
      {
       "output_type": "stream",
       "stream": "stdout",
       "text": [
        "\n"
       ]
      }
     ],
     "prompt_number": 5
    },
    {
     "cell_type": "code",
     "collapsed": false,
     "input": [
      "#Get the same values, but now restricted to the first experimental result:\n",
      "expres = browser[0]\n",
      "print browser.getValuesFor(attribute='dataType',expResult=expres)\n",
      "print browser.getValuesFor(attribute='txName',expResult=expres)"
     ],
     "language": "python",
     "metadata": {},
     "outputs": [
      {
       "output_type": "stream",
       "stream": "stdout",
       "text": [
        "['efficiencyMap']\n",
        "['TGQbtq', 'TGQbbq', 'TGQ', 'TGQqtt', 'T2bt', 'T1btbt', 'T1tttt', 'T2', 'T1', 'T1qqtt', 'T1btqq', 'T1bbbb', 'T2tt', 'T1bbtt', 'T1bttt', 'T1bbbt', 'T2bb', 'T1bbqq']\n"
       ]
      }
     ],
     "prompt_number": 6
    },
    {
     "cell_type": "code",
     "collapsed": false,
     "input": [
      "#List all possible fields/attributes appearing in the database\n",
      "print browser.getAttributes()"
     ],
     "language": "python",
     "metadata": {},
     "outputs": [
      {
       "output_type": "stream",
       "stream": "stdout",
       "text": [
        "['comment', 'sqrts', 'private', 'observedN', 'supersededBy', 'validated', 'id', 'implementedBy', 'checked', 'publication', 'axes', 'expectedBG', 'type', 'supersedes', 'bgError', 'upperLimit', 'lastUpdate', 'figureUrl', 'publishedData', 'conditionDescription', 'dataType', 'store_value', 'txName', 'expectedUpperLimits', 'accept_errors_upto', 'lumi', 'path', 'data', 'condition', 'dataId', 'constraint', 'url', 'arxiv', 'contact', 'prettyName', 'txnameList']\n"
       ]
      }
     ],
     "prompt_number": 7
    },
    {
     "cell_type": "code",
     "collapsed": false,
     "input": [
      "#Select only the results containing the TChiWZ and T2tt txnames:\n",
      "browser.selectExpResultsWith(txName = ['TChiWZ','T2tt'])\n",
      "print len(browser)\n",
      "#Notice that other txnames may appear, if the result contains more than one txname\n",
      "print browser.getValuesFor(attribute='txName')"
     ],
     "language": "python",
     "metadata": {},
     "outputs": [
      {
       "output_type": "stream",
       "stream": "stdout",
       "text": [
        "22\n",
        "['TChiWZoff', 'T1', 'T1bbbb', 'T5btbt', 'TChiChipmStauL', 'T1bbqq', 'T5bbbt', 'T1bbbt', 'TGQbtq', 'TGQ', 'TGQqtt', 'T6bbWW', 'T2tt', 'TChiWW', 'T5tttt', 'TChiWH', 'T1btqq', 'T2bbWW', 'T1tttt', 'T6bbWWoff', 'T1btbt', 'T2', 'TSlepSlep', 'T5tbtb', 'TChiWZ', 'T1ttttoff', 'TChiChipmSlepL', 'T5tbtt', 'TGQbbq', 'T2ttoff', 'T2bt', 'T1bbtt', 'T5bbbb', 'TChipChimSlepSnu', 'TChiChipmStauStau', 'T1qqtt', 'T1bttt', 'T2bb']"
       ]
      },
      {
       "output_type": "stream",
       "stream": "stdout",
       "text": [
        "\n"
       ]
      }
     ],
     "prompt_number": 8
    },
    {
     "cell_type": "code",
     "collapsed": false,
     "input": [
      "#Check that all the results contain at least the selected topologies:\n",
      "for expres in browser:\n",
      "    expresID = browser.getValuesFor(attribute='id', expResult=expres)    \n",
      "    txnames = browser.getValuesFor(attribute='txName', expResult=expres)\n",
      "    print expresID,('T2tt' in txnames or 'TChiWZ' in txnames)"
     ],
     "language": "python",
     "metadata": {},
     "outputs": [
      {
       "output_type": "stream",
       "stream": "stdout",
       "text": [
        "['ATLAS-CONF-2013-053'] True\n",
        "['ATLAS-CONF-2013-024'] True\n",
        "['ATLAS-CONF-2013-024'] True\n",
        "['ATLAS-SUSY-2013-11'] True\n",
        "['ATLAS-CONF-2013-035'] True\n",
        "['ATLAS-SUSY-2013-12'] True\n",
        "['ATLAS-CONF-2013-035'] True\n",
        "['ATLAS-CONF-2013-061'] True\n",
        "['ATLAS-SUSY-2013-19'] True\n",
        "['ATLAS-CONF-2013-062']"
       ]
      },
      {
       "output_type": "stream",
       "stream": "stdout",
       "text": [
        " True\n",
        "['ATLAS-CONF-2012-166'] True\n",
        "['ATLAS-CONF-2013-037'] True\n",
        "['ATLAS-SUSY-2013-15'] True\n",
        "['ATLAS-CONF-2013-037'] True\n",
        "['ATLAS-CONF-2013-093'] True\n",
        "['ATLAS-CONF-2013-065'] True\n",
        "['ATLAS-CONF-2013-048'] True\n",
        "['ATLAS-CONF-2013-054']"
       ]
      },
      {
       "output_type": "stream",
       "stream": "stdout",
       "text": [
        " True\n",
        "['ATLAS-CONF-2013-047'] True\n",
        "['ATLAS-CONF-2013-049'] True\n",
        "['CMS-SUS-13-004']"
       ]
      },
      {
       "output_type": "stream",
       "stream": "stdout",
       "text": [
        " True\n",
        "['CMS-SUS-PAS-12-022'] True\n"
       ]
      }
     ],
     "prompt_number": 9
    },
    {
     "cell_type": "code",
     "collapsed": false,
     "input": [
      "#Now select only the subset containing 'TChiWH':\n",
      "browser.selectExpResultsWith(txName = 'TChiWH')\n",
      "print len(browser)"
     ],
     "language": "python",
     "metadata": {},
     "outputs": [
      {
       "output_type": "stream",
       "stream": "stdout",
       "text": [
        "2\n"
       ]
      }
     ],
     "prompt_number": 11
    },
    {
     "cell_type": "code",
     "collapsed": false,
     "input": [
      "print browser.getValuesFor(attribute='txName')"
     ],
     "language": "python",
     "metadata": {},
     "outputs": [
      {
       "output_type": "stream",
       "stream": "stdout",
       "text": [
        "['TChiChipmStauL', 'TChiWH', 'TChiWZ', 'TChiWZoff', 'TChiChipmSlepL']\n"
       ]
      }
     ],
     "prompt_number": 12
    },
    {
     "cell_type": "code",
     "collapsed": false,
     "input": [
      "print browser.getValuesFor(attribute='id')"
     ],
     "language": "python",
     "metadata": {},
     "outputs": [
      {
       "output_type": "stream",
       "stream": "stdout",
       "text": [
        "['ATLAS-SUSY-2013-12', 'ATLAS-CONF-2013-093']\n"
       ]
      }
     ],
     "prompt_number": 13
    },
    {
     "cell_type": "code",
     "collapsed": false,
     "input": [],
     "language": "python",
     "metadata": {},
     "outputs": []
    }
   ],
   "metadata": {}
  }
 ]
}
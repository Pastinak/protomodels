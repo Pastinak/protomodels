{
 "cells": [
  {
   "cell_type": "markdown",
   "metadata": {},
   "source": [
    "## Marginalize a combined result, instead of profiling it"
   ]
  },
  {
   "cell_type": "code",
   "execution_count": 2,
   "metadata": {},
   "outputs": [],
   "source": [
    "#Set up the path to SModelS installation folder if running on a different folder\n",
    "import sys; sys.path.append( \".\" )\n",
    "import smodels_paths ## simple module that sets the import paths\n",
    "from smodels.theory import slhaDecomposer\n",
    "from smodels.installation import installDirectory\n",
    "from smodels.theory.theoryPrediction import theoryPredictionsFor\n",
    "from smodels.tools.physicsUnits import fb, GeV\n",
    "from smodels.experiment.databaseObj import Database"
   ]
  },
  {
   "cell_type": "code",
   "execution_count": null,
   "metadata": {},
   "outputs": [],
   "source": [
    "# load the official database\n",
    "database = Database(\"http://smodels.hephy.at/database/official113\")"
   ]
  },
  {
   "cell_type": "code",
   "execution_count": null,
   "metadata": {},
   "outputs": [],
   "source": [
    "# however filter out the aggregated CMS-SUS-16-050 result\n",
    "expResult = database.getExpResults( analysisIDs=[\"CMS-SUS-16-050-agg\"] )[0]"
   ]
  },
  {
   "cell_type": "code",
   "execution_count": null,
   "metadata": {},
   "outputs": [],
   "source": [
    "# Check: print out the experimental result\n",
    "print ( expResult )"
   ]
  },
  {
   "cell_type": "code",
   "execution_count": null,
   "metadata": {},
   "outputs": [],
   "source": [
    "# We look at a model that has gluinos -> t t LSP\n",
    "filename=\"%s/inputFiles/slha/gluinoToTops.slha\" % installDirectory()"
   ]
  },
  {
   "cell_type": "code",
   "execution_count": null,
   "metadata": {},
   "outputs": [],
   "source": [
    "# perform the decompoistion\n",
    "topList = slhaDecomposer.decompose(filename)\n",
    "print ( topList )"
   ]
  },
  {
   "cell_type": "code",
   "execution_count": null,
   "metadata": {},
   "outputs": [],
   "source": [
    "# obtain the theory predictions with marginalize=False\n",
    "predProf = theoryPredictionsFor(expResult, topList, combinedResults=True, marginalize=False ) "
   ]
  },
  {
   "cell_type": "code",
   "execution_count": null,
   "metadata": {},
   "outputs": [],
   "source": [
    "# print the combined upper limit\n",
    "print ( predProf[1].combinedUL.asNumber(fb) )"
   ]
  },
  {
   "cell_type": "code",
   "execution_count": null,
   "metadata": {},
   "outputs": [],
   "source": [
    "# obtain the theory predictions with marginalize=True\n",
    "predMarg = theoryPredictionsFor(expResult, topList, combinedResults=True, marginalize=True )"
   ]
  },
  {
   "cell_type": "code",
   "execution_count": null,
   "metadata": {},
   "outputs": [],
   "source": [
    "# print the combined upper limit\n",
    "print ( predMarg[1].combinedUL.asNumber(fb) )"
   ]
  },
  {
   "cell_type": "code",
   "execution_count": null,
   "metadata": {},
   "outputs": [],
   "source": []
  }
 ],
 "metadata": {
  "kernelspec": {
   "display_name": "Python 3",
   "language": "python",
   "name": "python3"
  },
  "language_info": {
   "codemirror_mode": {
    "name": "ipython",
    "version": 3
   },
   "file_extension": ".py",
   "mimetype": "text/x-python",
   "name": "python",
   "nbconvert_exporter": "python",
   "pygments_lexer": "ipython3",
   "version": "3.6.5"
  }
 },
 "nbformat": 4,
 "nbformat_minor": 2
}

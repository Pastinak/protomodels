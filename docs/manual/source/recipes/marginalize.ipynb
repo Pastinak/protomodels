{
 "cells": [
  {
   "cell_type": "markdown",
   "metadata": {},
   "source": [
    "## Marginalize a combined result, instead of profiling it"
   ]
  },
  {
   "cell_type": "code",
   "execution_count": 6,
   "metadata": {},
   "outputs": [],
   "source": [
    "#Set up the path to SModelS installation folder if running on a different folder\n",
    "import sys,os\n",
    "sys.path.append(os.path.join(os.getenv(\"HOME\"),\"smodels/\"))\n",
    "from smodels.theory import slhaDecomposer\n",
    "from smodels.installation import installDirectory\n",
    "from smodels.theory.theoryPrediction import theoryPredictionsFor\n",
    "from smodels.experiment.databaseObj import Database"
   ]
  },
  {
   "cell_type": "code",
   "execution_count": 2,
   "metadata": {},
   "outputs": [
    {
     "name": "stdout",
     "output_type": "stream",
     "text": [
      "loading >...................................................\n"
     ]
    }
   ],
   "source": [
    "database = Database(\"http://smodels.hephy.at/database/official113agg\")"
   ]
  },
  {
   "cell_type": "code",
   "execution_count": 39,
   "metadata": {},
   "outputs": [],
   "source": [
    "expResult = database.getExpResults( analysisIDs=[\"CMS-SUS-16-050\"] )[1]"
   ]
  },
  {
   "cell_type": "code",
   "execution_count": 40,
   "metadata": {},
   "outputs": [
    {
     "name": "stdout",
     "output_type": "stream",
     "text": [
      "CMS-SUS-16-050: t1b1MT2200__300MET250__400,t1b1MT2400__550MET250__400,t1b1MT2400__550MET400__500,t1b1MT2400__550MET500__600,t1b1MT2400__550MET600__750,t1b1MT2550__750MET250__400,t1b1MT2550__750MET400__500,t1b1MT2550__750MET500__600,t1b1MT2550__750MET600__750,t1b1MT2550__750MET>=750,t1b1MT2>=750MET250__600,t1b1MT2200__300MET400__500,t1b1MT2>=750MET600__750,t1b1MT2>=750MET>=750,t1b2MT2200__350MET250__400,t1b2MT2200__350MET400__500,t1b2MT2200__350MET500__600,t1b2MT2200__350MET600__750,t1b2MT2200__650MET>=750,t1b2MT2350__450MET250__400,t1b2MT2350__450MET400__500,t1b2MT2350__450MET500__600,t1b1MT2200__300MET500__600,t1b2MT2350__450MET600__750,t1b2MT2450__650MET250__400,t1b2MT2450__650MET400__500,t1b2MT2450__650MET500__600,t1b2MT2450__650MET600__750,t1b2MT2>=650MET250__600,t1b2MT2>=650MET600__750,t1b2MT2>=650MET>=750,t1b>=3MT2300__1000MET250__350,t1b>=3MT2300__1000MET350__450,t1b1MT2200__300MET600__750,t1b>=3MT2300__1000MET450__550,t1b>=3MT2300__1000MET>=550,t1b>=3MT21000__1500MET250__350,t1b>=3MT21000__1500MET350__450,t1b>=3MT21000__1500MET450__550,t1b>=3MT21000__1500MET>=550,t1b>=3MT2>=1500MET250__350,t1b>=3MT2>=1500MET350__550,t1b>=3MT2>=1500MET>=550,t2b1MT2200__300MET250__350,t1b1MT2200__550MET>=750,t2b1MT2200__300MET350__450,t2b1MT2200__300MET450__600,t2b1MT2200__450MET>=600,t2b1MT2300__450MET250__350,t2b1MT2300__450MET350__450,t2b1MT2300__450MET450__600,t2b1MT2>=450MET250__450,t2b1MT2>=450MET450__600,t2b1MT2>=450MET>=600,t2b2MT2200__300MET250__350,t1b1MT2300__400MET250__400,t2b2MT2200__300MET350__450,t2b2MT2200__300MET450__600,t2b2MT2200__400MET>=600,t2b2MT2300__400MET250__350,t2b2MT2300__400MET350__450,t2b2MT2300__400MET450__600,t2b2MT2400__500MET250__450,t2b2MT2400__500MET450__600,t2b2MT2>=400MET>=600,t2b2MT2>=500MET250__450,t1b1MT2300__400MET400__500,t2b2MT2>=500MET450__600,t2b>=3MT2300__900MET250__350,t2b>=3MT2300__900MET350__500,t2b>=3MT2300__1300MET>=500,t2b>=3MT2900__1300MET250__350,t2b>=3MT2900__1300MET350__500,t2b>=3MT2>=1300MET250__350,t2b>=3MT2>=1300MET350__500,t2b>=3MT2>=1300MET>=500,t>=3b1MT2>=300MET250__350,t1b1MT2300__400MET500__600,t>=3b1MT2>=300MET>=350,t>=3b2MT2>=300MET250__400,t>=3b2MT2>=300MET>=400,t>=3b>=3MT2>=300MET250__350,t>=3b>=3MT2>=300MET>=350,t1b1MT2300__400MET600__750(84):T1tttt,T2tt,T5tctc(3)\n"
     ]
    }
   ],
   "source": [
    "print ( expResult )"
   ]
  },
  {
   "cell_type": "code",
   "execution_count": 41,
   "metadata": {},
   "outputs": [],
   "source": [
    "filename=\"%s/inputFiles/slha/gluinoToTops.slha\" % installDirectory()"
   ]
  },
  {
   "cell_type": "code",
   "execution_count": 42,
   "metadata": {},
   "outputs": [
    {
     "name": "stdout",
     "output_type": "stream",
     "text": [
      "TopologyList:\n",
      "[2][2]\n",
      "\n"
     ]
    }
   ],
   "source": [
    "# perform the decompoistion\n",
    "topList = slhaDecomposer.decompose(filename)\n",
    "print ( topList )"
   ]
  },
  {
   "cell_type": "code",
   "execution_count": 43,
   "metadata": {},
   "outputs": [],
   "source": [
    "predictions = theoryPredictionsFor(expResult, topList, combinedResults=True, marginalize=False ) "
   ]
  },
  {
   "cell_type": "code",
   "execution_count": 44,
   "metadata": {},
   "outputs": [
    {
     "name": "stdout",
     "output_type": "stream",
     "text": [
      "2 predictions: CMS-SUS-16-050:1.30E+01 [TeV]:1.00E-03 [pb] (1000021, 1000021), CMS-SUS-16-050:1.30E+01 [TeV]:4.03E-04 [pb] (1000021, 1000021)\n"
     ]
    }
   ],
   "source": [
    "print ( predictions )"
   ]
  },
  {
   "cell_type": "code",
   "execution_count": 45,
   "metadata": {},
   "outputs": [],
   "source": [
    "predictions = theoryPredictionsFor(expResult, topList, combinedResults=True, marginalize=True ) "
   ]
  },
  {
   "cell_type": "code",
   "execution_count": 38,
   "metadata": {},
   "outputs": [
    {
     "name": "stdout",
     "output_type": "stream",
     "text": [
      "1 predictions: CMS-SUS-16-050:1.30E+01 [TeV]:8.85E-02 [pb] (None, None)\n"
     ]
    }
   ],
   "source": [
    "print ( predictions )"
   ]
  },
  {
   "cell_type": "code",
   "execution_count": null,
   "metadata": {},
   "outputs": [],
   "source": []
  }
 ],
 "metadata": {
  "kernelspec": {
   "display_name": "Python 3",
   "language": "python",
   "name": "python3"
  },
  "language_info": {
   "codemirror_mode": {
    "name": "ipython",
    "version": 3
   },
   "file_extension": ".py",
   "mimetype": "text/x-python",
   "name": "python",
   "nbconvert_exporter": "python",
   "pygments_lexer": "ipython3",
   "version": "3.6.5"
  }
 },
 "nbformat": 4,
 "nbformat_minor": 2
}

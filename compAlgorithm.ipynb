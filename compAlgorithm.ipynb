{
 "cells": [
  {
   "cell_type": "code",
   "execution_count": 43,
   "metadata": {},
   "outputs": [],
   "source": [
    "from smodels.theory import branch,element,particle,model\n",
    "from smodels.experiment.databaseObj import Database\n",
    "from smodels.share.models import mssm\n",
    "from smodels.experiment.finalStateParticles import finalStates\n",
    "from smodels.particlesLoader import BSMList\n",
    "from smodels.share.models.SMparticles import SMList\n",
    "from smodels.theory.auxiliaryFunctions import index_bisect, simParticles\n",
    "import numpy as np\n",
    "import sys,time"
   ]
  },
  {
   "cell_type": "code",
   "execution_count": 3,
   "metadata": {},
   "outputs": [],
   "source": [
    "slhafile = 'inputFiles/slha/lightEWinos.slha'\n",
    "bsmModel = model.Model(inputFile=slhafile, BSMparticles=BSMList, SMparticles=SMList)\n",
    "bsmModel.updateParticles()\n",
    "\n",
    "BSMparticles = bsmModel.BSMparticles\n",
    "SMparticles = bsmModel.SMparticles\n",
    "fStates = finalStates.SMparticles"
   ]
  },
  {
   "cell_type": "code",
   "execution_count": 29,
   "metadata": {},
   "outputs": [],
   "source": [
    "allParticles = []\n",
    "for p in SMparticles+BSMparticles+fStates:\n",
    "    if any(p is pB for pB in allParticles):\n",
    "        continue\n",
    "    allParticles.append(p)\n",
    "allParticles = sorted(allParticles, key = lambda p: id(p))\n",
    "idList = [id(p) for p in allParticles]"
   ]
  },
  {
   "cell_type": "code",
   "execution_count": 35,
   "metadata": {},
   "outputs": [
    {
     "name": "stdout",
     "output_type": "stream",
     "text": [
      "0.14673185348510742\n"
     ]
    }
   ],
   "source": [
    "#Now create huge comparison matrix with all unique states, including inclusive ones:\n",
    "compMatrix = np.zeros((len(allParticles),len(allParticles)))\n",
    "for i,p1 in enumerate(allParticles):\n",
    "    for j,p2 in enumerate(allParticles):\n",
    "        if i <= j:\n",
    "            continue\n",
    "        compMatrix[i,j] = int(p1 == p2)\n",
    "compMatrix = compMatrix + compMatrix.T + np.identity(len(allParticles))"
   ]
  },
  {
   "cell_type": "code",
   "execution_count": 48,
   "metadata": {},
   "outputs": [
    {
     "name": "stdout",
     "output_type": "stream",
     "text": [
      "0.0013458728790283203\n"
     ]
    }
   ],
   "source": [
    "#Directly compare all particles with each other:\n",
    "t0 = time.time()\n",
    "for p1,p2 in zip(allParticles,allParticles):\n",
    "    i = (p1 == p2)\n",
    "print(time.time()-t0)"
   ]
  },
  {
   "cell_type": "code",
   "execution_count": 49,
   "metadata": {},
   "outputs": [
    {
     "name": "stdout",
     "output_type": "stream",
     "text": [
      "0.0009138584136962891\n"
     ]
    }
   ],
   "source": [
    "#Compare all particles with each other using compMatrix and idList:\n",
    "t0 = time.time()\n",
    "for p1,p2 in zip(allParticles,allParticles):\n",
    "    i1 = index_bisect(idList, id(p1))\n",
    "    i2 = index_bisect(idList, id(p2))\n",
    "    i = compMatrix[i1,i2]\n",
    "print(time.time()-t0)"
   ]
  },
  {
   "cell_type": "code",
   "execution_count": 45,
   "metadata": {},
   "outputs": [
    {
     "name": "stdout",
     "output_type": "stream",
     "text": [
      "[A0~, su_L~, sc_L~, st_1~, N2, sta_2, se_L, snta_L, sb_1, ss_L, sc_R, ta, nu, u, t+, W+, u, t-, ta+, g~, higgs~, l+, W, L, *, HSCP, RHadronQ]\n",
      "[se_L~, se_R~, snmu_L~, sta_1~, sta_2~, N1~, N3~, C1-, H+, H0, A0~, C2+, su_L~, su_R~, sc_L~, sc_R~, st_1~, st_2~, N2, sta_1, sta_2, snmu_L, se_L]\n"
     ]
    }
   ],
   "source": [
    "#Compare two unordered sets of particles:\n",
    "l1 = allParticles[20:][::4]\n",
    "l2 = allParticles[:45][::2][:len(l1)]\n",
    "print(l1)\n",
    "print(l2)"
   ]
  },
  {
   "cell_type": "code",
   "execution_count": 46,
   "metadata": {},
   "outputs": [
    {
     "name": "stdout",
     "output_type": "stream",
     "text": [
      "False\n",
      "0.0013554096221923828\n"
     ]
    }
   ],
   "source": [
    "t0 = time.time()\n",
    "print(simParticles(l1,l2))\n",
    "print(time.time()-t0)"
   ]
  },
  {
   "cell_type": "code",
   "execution_count": 54,
   "metadata": {},
   "outputs": [
    {
     "name": "stdout",
     "output_type": "stream",
     "text": [
      "False\n",
      "0.0015981197357177734\n"
     ]
    }
   ],
   "source": [
    "t0 = time.time()\n",
    "l1Index = [index_bisect(idList,id(p)) for p in l1]\n",
    "l2Index = [index_bisect(idList,id(p)) for p in l2]\n",
    "print(all(compMatrix[i1,i2] for i1 in l1Index for i2 in l2Index))\n",
    "print(time.time()-t0)"
   ]
  },
  {
   "cell_type": "code",
   "execution_count": null,
   "metadata": {},
   "outputs": [],
   "source": []
  }
 ],
 "metadata": {
  "kernelspec": {
   "display_name": "Python 3",
   "language": "python",
   "name": "python3"
  },
  "language_info": {
   "codemirror_mode": {
    "name": "ipython",
    "version": 3
   },
   "file_extension": ".py",
   "mimetype": "text/x-python",
   "name": "python",
   "nbconvert_exporter": "python",
   "pygments_lexer": "ipython3",
   "version": "3.6.3"
  }
 },
 "nbformat": 4,
 "nbformat_minor": 2
}

{
 "cells": [
  {
   "cell_type": "code",
   "execution_count": 1,
   "metadata": {},
   "outputs": [],
   "source": [
    "import sys,os,copy, pickle, glob\n",
    "import numpy as np\n",
    "sys.path.append(os.path.abspath('../smodels'))\n",
    "sys.path.append(os.path.abspath('../protomodels'))\n",
    "from builder.protomodel import ProtoModel\n",
    "from tester.predictor import Predictor\n",
    "from tester.combiner import Combiner\n",
    "from builder.manipulator import Manipulator\n",
    "from walker.hiscore import Hiscore\n",
    "from smodels.experiment.databaseObj import Database\n",
    "from smodels.tools.physicsUnits import fb, TeV\n",
    "from smodels.tools import runtime\n",
    "runtime._experimental = True\n",
    "import matplotlib.pyplot as plt\n",
    "import seaborn as sns\n",
    "from names import particleLabels\n",
    "from sparticleNames import SParticleNames\n",
    "import pandas as pd\n",
    "from IPython.display import display, Markdown, Latex\n",
    "# sns.set() #Set style\n",
    "# sns.set_style('ticks')\n",
    "sns.set_style('ticks',{'font.family':'Times New Roman', 'font.serif':'Times New Roman'})\n",
    "sns.set_context('paper', font_scale=2.0)\n",
    "# sns.set_palette(sns.color_palette(\"Paired\"))\n",
    "sns.set_palette(sns.color_palette(\"deep\"))\n"
   ]
  },
  {
   "cell_type": "code",
   "execution_count": 2,
   "metadata": {},
   "outputs": [],
   "source": [
    "def fromDict(inputDict):\n",
    "    \n",
    "    p = ProtoModel(walkerid=0)\n",
    "    for key,v in inputDict.items():\n",
    "        setattr(p,key,copy.deepcopy(v))\n",
    "        \n",
    "    return p"
   ]
  },
  {
   "cell_type": "code",
   "execution_count": 3,
   "metadata": {},
   "outputs": [],
   "source": [
    "#Get highest score model:\n",
    "protomodelsDict = {}\n",
    "for ff in glob.glob('../highestScores/real_run/real3.dict'):\n",
    "    with open(ff,'r') as f:\n",
    "        pList = eval(f.read())\n",
    "    pList = [fromDict(pDict) for pDict in pList[:]]\n",
    "    p = sorted(pList, key = lambda p: p.K, reverse=True)[0]\n",
    "    protomodel = p"
   ]
  },
  {
   "cell_type": "code",
   "execution_count": 4,
   "metadata": {},
   "outputs": [
    {
     "name": "stdout",
     "output_type": "stream",
     "text": [
      "Skipping result for: ATLAS-SUSY-2016-07\n",
      "Skipping result for: ATLAS-SUSY-2016-07\n",
      "Skipping result for: ATLAS-SUSY-2016-15\n",
      "Skipping result for: ATLAS-SUSY-2016-15\n",
      "Skipping result for: ATLAS-SUSY-2016-16\n",
      "Skipping result for: ATLAS-SUSY-2016-16\n",
      "Skipping result for: ATLAS-SUSY-2016-17\n",
      "Skipping result for: ATLAS-SUSY-2016-17\n",
      "Skipping result for: CMS-SUS-17-001\n",
      "Skipping result for: CMS-SUS-17-001\n",
      "Skipping result for: ATLAS-SUSY-2013-02\n",
      "Skipping result for: ATLAS-SUSY-2013-02\n",
      "Skipping result for: CMS-SUS-13-004\n",
      "Skipping result for: CMS-SUS-13-004\n"
     ]
    },
    {
     "name": "stderr",
     "output_type": "stream",
     "text": [
      "combination #0/288   0%|                                        |ETA:  --:--:--\r"
     ]
    },
    {
     "name": "stdout",
     "output_type": "stream",
     "text": [
      "Skipping result for: CMS-SUS-13-019\n",
      "Skipping result for: CMS-SUS-13-019\n",
      "Skipping result for: CMS-SUS-13-019\n",
      "Skipping result for: CMS-SUS-13-019\n",
      "[combine:0] selected predictions down via SRs from 262 to 19.\n",
      "[combine:0] sorting out subsets, reduced 2788 -> 288 combinations.\n"
     ]
    },
    {
     "name": "stderr",
     "output_type": "stream",
     "text": [
      "combination #288/288 100%|||||||||||||||||||||||||||||||||||||||||Time: 0:00:19\n"
     ]
    },
    {
     "name": "stdout",
     "output_type": "stream",
     "text": [
      "Skipping result for: ATLAS-SUSY-2016-07\n",
      "Skipping result for: ATLAS-SUSY-2016-07\n",
      "Skipping result for: ATLAS-SUSY-2016-15\n",
      "Skipping result for: ATLAS-SUSY-2016-15\n",
      "Skipping result for: ATLAS-SUSY-2016-16\n",
      "Skipping result for: ATLAS-SUSY-2016-16\n",
      "Skipping result for: ATLAS-SUSY-2016-17\n",
      "Skipping result for: ATLAS-SUSY-2016-17\n",
      "Skipping result for: CMS-SUS-17-001\n",
      "Skipping result for: CMS-SUS-17-001\n",
      "Skipping result for: ATLAS-SUSY-2013-02\n",
      "Skipping result for: ATLAS-SUSY-2013-02\n",
      "Skipping result for: CMS-SUS-13-004\n",
      "Skipping result for: CMS-SUS-13-004\n"
     ]
    },
    {
     "name": "stderr",
     "output_type": "stream",
     "text": [
      "combination #0/288   0%|                                        |ETA:  --:--:--\r"
     ]
    },
    {
     "name": "stdout",
     "output_type": "stream",
     "text": [
      "Skipping result for: CMS-SUS-13-019\n",
      "Skipping result for: CMS-SUS-13-019\n",
      "Skipping result for: CMS-SUS-13-019\n",
      "Skipping result for: CMS-SUS-13-019\n",
      "[combine:0] selected predictions down via SRs from 262 to 19.\n",
      "[combine:0] sorting out subsets, reduced 2788 -> 288 combinations.\n"
     ]
    },
    {
     "name": "stderr",
     "output_type": "stream",
     "text": [
      "combination #288/288 100%|||||||||||||||||||||||||||||||||||||||||Time: 0:00:22\r"
     ]
    },
    {
     "name": "stdout",
     "output_type": "stream",
     "text": [
      "Protomodel (real): ProtoModel (XZ1,Xd,Xt): K = 7.54, Z = 3.33\n"
     ]
    },
    {
     "name": "stderr",
     "output_type": "stream",
     "text": [
      "\n"
     ]
    }
   ],
   "source": [
    "#Compute predictions using real database\n",
    "m = Manipulator(p)\n",
    "#Get predictions:\n",
    "pred = Predictor(walkerid=0,dbpath='../official124_smodels200.pcl')\n",
    "res = pred.predict(p)\n",
    "print('Protomodel (real):',p)"
   ]
  },
  {
   "cell_type": "code",
   "execution_count": 5,
   "metadata": {},
   "outputs": [
    {
     "name": "stderr",
     "output_type": "stream",
     "text": [
      "WARNING in statistics.likelihoodFromLimits() in 41: asking for likelihood from limit but difference between oUL(291.45) and eUL(1418.33) is too large (dr=0.66)\n"
     ]
    },
    {
     "name": "stdout",
     "output_type": "stream",
     "text": [
      "Skipping result for: ATLAS-SUSY-2016-07\n",
      "Skipping result for: ATLAS-SUSY-2016-07\n",
      "Skipping result for: ATLAS-SUSY-2016-15\n",
      "Skipping result for: ATLAS-SUSY-2016-15\n",
      "Skipping result for: ATLAS-SUSY-2016-16\n",
      "Skipping result for: ATLAS-SUSY-2016-16\n"
     ]
    },
    {
     "name": "stderr",
     "output_type": "stream",
     "text": [
      "WARNING in statistics.likelihoodFromLimits() in 41: asking for likelihood from limit but difference between oUL(291.45) and eUL(1418.33) is too large (dr=0.66)\n",
      "WARNING in statistics.likelihoodFromLimits() in 41: asking for likelihood from limit but difference between oUL(291.45) and eUL(1418.33) is too large (dr=0.66)\n"
     ]
    },
    {
     "name": "stdout",
     "output_type": "stream",
     "text": [
      "Skipping result for: ATLAS-SUSY-2016-17\n",
      "Skipping result for: ATLAS-SUSY-2016-17\n",
      "Skipping result for: CMS-SUS-16-049\n",
      "Skipping result for: CMS-SUS-16-049\n",
      "Skipping result for: CMS-SUS-17-001\n",
      "Skipping result for: CMS-SUS-17-001\n",
      "Skipping result for: ATLAS-SUSY-2013-02\n",
      "Skipping result for: ATLAS-SUSY-2013-02\n",
      "Skipping result for: CMS-SUS-13-004\n",
      "Skipping result for: CMS-SUS-13-004\n"
     ]
    },
    {
     "name": "stderr",
     "output_type": "stream",
     "text": [
      "combination #0/216   0%|                                        |ETA:  --:--:--\r"
     ]
    },
    {
     "name": "stdout",
     "output_type": "stream",
     "text": [
      "Skipping result for: CMS-SUS-13-019\n",
      "Skipping result for: CMS-SUS-13-019\n",
      "Skipping result for: CMS-SUS-13-019\n",
      "Skipping result for: CMS-SUS-13-019\n",
      "[combine:0] selected predictions down via SRs from 260 to 18.\n",
      "[combine:0] sorting out subsets, reduced 2141 -> 216 combinations.\n"
     ]
    },
    {
     "name": "stderr",
     "output_type": "stream",
     "text": [
      "combination #216/216 100%|||||||||||||||||||||||||||||||||||||||||Time: 0:00:12\r"
     ]
    },
    {
     "name": "stdout",
     "output_type": "stream",
     "text": [
      "Protomodel (fake): ProtoModel (XZ1,Xd,Xt): K = -1.07, Z = 1.57\n"
     ]
    },
    {
     "name": "stderr",
     "output_type": "stream",
     "text": [
      "\n"
     ]
    }
   ],
   "source": [
    "protomodelFake = copy.deepcopy(protomodel)\n",
    "#Compute predictions using fake database\n",
    "m = Manipulator(p)\n",
    "#Get predictions:\n",
    "pred = Predictor(walkerid=0,dbpath='../official124_smodels200_signal10.pcl')\n",
    "res = pred.predict(p)\n",
    "print('Protomodel (fake):',p)"
   ]
  },
  {
   "cell_type": "code",
   "execution_count": 6,
   "metadata": {},
   "outputs": [],
   "source": [
    "dbReal = Database('../smodels-database/')\n",
    "dbFake = Database('../official124_smodels200_signal10.pcl')"
   ]
  },
  {
   "cell_type": "code",
   "execution_count": 8,
   "metadata": {},
   "outputs": [
    {
     "name": "stdout",
     "output_type": "stream",
     "text": [
      "tp= ATLAS-SUSY-2015-02:1.30E+01 [TeV]:2.88E-04 [pb] (-1000006, 1000006)\n",
      "3\n",
      "/home/lessa/protomodelsPaper/smodels-database/13TeV/ATLAS/ATLAS-SUSY-2015-02-eff\n",
      "/scratch-cbe/users/wolfgan.waltenberger/git/smodels-database-release/13TeV/ATLAS/ATLAS-SUSY-2015-02-eff/SR1\n",
      "tp= None\n",
      "3\n",
      "/scratch-cbe/users/wolfgan.waltenberger/git/smodels-database-release/13TeV/ATLAS/ATLAS-SUSY-2015-02-eff\n",
      "/scratch-cbe/users/wolfgan.waltenberger/git/smodels-database-release/13TeV/ATLAS/ATLAS-SUSY-2015-02-eff/SR1\n"
     ]
    },
    {
     "data": {
      "text/markdown": [
       "| Analysis | sqrts | TxName  | SR | Nobs | Nbg | NbgErr | Pred (dObs) || TxName  | SR | Nobs | Nbg | NbgErr | Pred (dObs) |\n",
       "| --- | --- | --- | --- | --- | --- | --- | --- || --- | --- | --- | --- | --- | --- |\n",
       "| ATLAS-SUSY-2013-02 | 8 | [T2] | SR6jt.. | 6 | 4.90 | 1.60 | 0.16 (1.10) || [T2] | SR6jt.. | 6 | 4.90 | 1.60 | 0.16 (1.10) |\n",
       "| ATLAS-SUSY-2013-15 | 8 | [T2tt] | tNboo.. | 6 | 3.30 | 0.70 | 0.39 (2.70) || [T2tt] | tNboo.. | 5 | 3.30 | 0.70 | 0.39 (1.70) |\n",
       "| ATLAS-SUSY-2015-02 | 13 | [T2tt] | SR1 | 3 | 5.50 | 0.72 | 0.92 (-2.50) || --- | SR1 | 3 | 5.50 | 0.72 | 0.00 (-2.50) |\n",
       "| ATLAS-SUSY-2015-06 | 13 | [T2] | SR4jt | 4 | 4.10 | 1.10 | 0.32 (-0.10) || --- | SR4jt | 4 | 4.10 | 1.10 | 0.00 (-0.10) |\n",
       "| CMS-SUS-13-012 | 8 | [T2, T2tt] | 6NJet.. | 2 | 0.80 | 3.30 | 0.11 (1.20) ||  | [T2] | 29.5 fb | 18.3 fb |  | 1.57 fb (11.21 fb) |\n",
       "| CMS-SUS-16-033 | 13 |  | [T2] | 45.6 fb | 24.5 fb |  | 20.90 fb (21.09 fb) ||  | --- | 0.0 fb | 0.0 fb |  | 0.00 fb (0.00 fb) |\n",
       "| CMS-SUS-17-010 | 13 |  | [T2tt] | 150.5 fb | 97.5 fb |  | 28.69 fb (52.96 fb) ||  | --- | 0.0 fb | 0.0 fb |  | 0.00 fb (0.00 fb) |\n",
       "| ATLAS-SUSY-2016-07 | 13 | --- | 2j_Me.. | 611 | 526.00 | 31.00 | 0.00 (85.00) || [T2] | 2j_Me.. | 611 | 526.00 | 31.00 | 47.54 (85.00) |\n",
       "| ATLAS-SUSY-2016-16 | 13 | --- | tN_me.. | 50 | 36.30 | 6.60 | 0.00 (13.70) || [T2tt] | tN_me.. | 50 | 36.30 | 6.60 | 9.99 (13.70) |\n",
       "| CMS-SUS-13-012 | 8 | [T2, T2tt] | 6NJet.. | 2 | 0.80 | 3.30 | 0.11 (1.20) ||  | [T2] | 29.5 fb | 18.3 fb |  | 1.57 fb (11.21 fb) |\n",
       "| CMS-SUS-16-050 | 13 |  | --- | 0.0 fb | 0.0 fb |  | 0.00 fb (0.00 fb) ||  | [T2tt] | 106.1 fb | 49.3 fb |  | 28.69 fb (56.76 fb) |\n"
      ],
      "text/plain": [
       "<IPython.core.display.Markdown object>"
      ]
     },
     "metadata": {},
     "output_type": "display_data"
    }
   ],
   "source": [
    "### Compare best combo predictions with both databases:\n",
    "\n",
    "allAnalysesReal = sorted([[tp.expResult.globalInfo.id,tp.dataset.dataInfo.dataType] for tp in protomodel.bestCombo])\n",
    "allAnalysesFake = sorted([[tp.expResult.globalInfo.id,tp.dataset.dataInfo.dataType] for tp in protomodelFake.bestCombo])\n",
    "allAnalyses = allAnalysesReal[:]\n",
    "for ana in allAnalysesFake:\n",
    "    if not ana in allAnalyses:\n",
    "        allAnalyses.append(ana)\n",
    "\n",
    "header = '| TxName  | SR | Nobs | Nbg | NbgErr | Pred (dObs) |'\n",
    "emptyLine = '| --- | --- | --- | --- | --- | --- |'\n",
    "\n",
    "tableStr = '| Analysis | sqrts '+(header*2)+'\\n'+'| --- | --- '+(emptyLine*2)+'\\n'\n",
    "\n",
    "for ana in allAnalyses:\n",
    "    expReal = dbReal.getExpResults(analysisIDs=[ana[0]],dataTypes=[ana[1]])[0]\n",
    "    expFake = dbFake.getExpResults(analysisIDs=[ana[0]],dataTypes=[ana[1]])[0]\n",
    "    tpReal = [tp for tp in protomodel.bestCombo if tp.expResult.globalInfo.id == ana[0]]\n",
    "    tpFake = [tp for tp in protomodelFake.bestCombo if tp.expResult.globalInfo.id == ana[0]]\n",
    "    if tpReal:\n",
    "        tpReal = tpReal[0]        \n",
    "    else:\n",
    "        tpReal = None\n",
    "    if tpFake:\n",
    "        tpFake = tpFake[0]\n",
    "    else:\n",
    "        tpFake = None\n",
    "    \n",
    "    \n",
    "    SRs = [tp.dataset.dataInfo.dataId for tp in [tpReal,tpFake] if tp]\n",
    "    \n",
    "        \n",
    "    line = '| %s | %1.0f ' %(expReal.globalInfo.id,expReal.globalInfo.sqrts.asNumber(TeV))\n",
    "    \n",
    "    for xx in [[tpReal,expReal],[tpFake,expFake]]:\n",
    "        tp = xx[0]\n",
    "        exp = xx[1]\n",
    "#         print('exp path=',exp.path)\n",
    "        if not tp:\n",
    "            SR = SRs[0]\n",
    "            dataset = [ds for ds in exp.datasets if ds.dataInfo.dataId == SR][0]\n",
    "            txnames = '---'\n",
    "            UL = 0.0\n",
    "            expUL = 0.0\n",
    "            pred = 0.0\n",
    "        else:\n",
    "            SR = tp.dataset.dataInfo.dataId\n",
    "            dataset = tp.dataset\n",
    "            txnames = tp.txnames\n",
    "            UL = tp.getUpperLimit().asNumber(fb)\n",
    "            expUL = tp.getUpperLimit(expected=True).asNumber(fb)\n",
    "            pred = tp.xsection.value.asNumber(fb)\n",
    "            \n",
    "        SR = str(SR)\n",
    "        if len(SR) > 5: SR = SR[:5]+'..'\n",
    "        if exp.globalInfo.id == 'ATLAS-SUSY-2015-02':\n",
    "            print('tp=',tp)\n",
    "            print(dataset.dataInfo.observedN)\n",
    "            print(exp.path)\n",
    "            print(dataset.path)\n",
    "        if dataset.dataInfo.dataType == 'efficiencyMap':\n",
    "            pred = pred*exp.globalInfo.lumi.asNumber(1/fb)\n",
    "            line += '| %s | %s | %1.0f | %1.2f | %1.2f | %1.2f (%1.2f) |' %(txnames,SR,dataset.dataInfo.observedN,\n",
    "                                                                 dataset.dataInfo.expectedBG,\n",
    "                                                            dataset.dataInfo.bgError,pred,\n",
    "                                                            dataset.dataInfo.observedN-dataset.dataInfo.expectedBG)\n",
    "        else:\n",
    "            line += '|  | %s | %1.1f fb | %1.1f fb |  | %1.2f fb (%1.2f fb) |' %(txnames,UL,expUL,pred,UL-expUL)\n",
    "    tableStr += line+'\\n'\n",
    "        \n",
    "display(Markdown(tableStr))"
   ]
  },
  {
   "cell_type": "code",
   "execution_count": null,
   "metadata": {},
   "outputs": [],
   "source": [
    "exp = dbFake.getExpResults(analysisIDs='ATLAS-SUSY-2015-02',dataTypes=['efficiencyMap'])[0]\n",
    "print(exp)\n",
    "for ds in exp.datasets:\n",
    "    print(ds,ds.dataInfo.observedN,ds.dataInfo.expectedBG)\n",
    "    print(ds.path)"
   ]
  },
  {
   "cell_type": "code",
   "execution_count": null,
   "metadata": {},
   "outputs": [],
   "source": [
    "exp = dbReal.getExpResults(analysisIDs='ATLAS-SUSY-2015-02',dataTypes=['efficiencyMap'])[0]\n",
    "print(exp)\n",
    "for ds in exp.datasets:\n",
    "    print(ds,ds.dataInfo.observedN,ds.dataInfo.expectedBG)\n",
    "    print(ds.path)"
   ]
  },
  {
   "cell_type": "code",
   "execution_count": null,
   "metadata": {},
   "outputs": [],
   "source": [
    "ds.path"
   ]
  },
  {
   "cell_type": "code",
   "execution_count": null,
   "metadata": {},
   "outputs": [],
   "source": []
  }
 ],
 "metadata": {
  "kernelspec": {
   "display_name": "Python 3",
   "language": "python",
   "name": "python3"
  },
  "language_info": {
   "codemirror_mode": {
    "name": "ipython",
    "version": 3
   },
   "file_extension": ".py",
   "mimetype": "text/x-python",
   "name": "python",
   "nbconvert_exporter": "python",
   "pygments_lexer": "ipython3",
   "version": "3.8.2"
  }
 },
 "nbformat": 4,
 "nbformat_minor": 4
}

{
 "cells": [
  {
   "cell_type": "code",
   "execution_count": 80,
   "metadata": {},
   "outputs": [],
   "source": [
    "import sys,os,copy,glob\n",
    "import numpy as np\n",
    "sys.path.append(os.path.abspath('../smodels'))\n",
    "sys.path.append(os.path.abspath('../'))\n",
    "from builder.protomodel import ProtoModel\n",
    "from builder.manipulator import Manipulator\n",
    "from tester.predictor import Predictor\n",
    "from tester.combiner import Combiner\n",
    "from walker.hiscore import Hiscore\n",
    "from smodels.experiment.databaseObj import Database\n",
    "from smodels.tools import runtime\n",
    "from smodels.tools.physicsUnits import fb\n",
    "runtime._experimental = True\n",
    "import matplotlib.pyplot as plt\n",
    "import seaborn as sns\n",
    "import pandas as pd\n",
    "from names import particleLabels\n",
    "from sparticleNames import SParticleNames\n",
    "# sns.set() #Set style\n",
    "# sns.set_style('ticks')\n",
    "sns.set_style('ticks',{'font.family':'Times New Roman', 'font.serif':'Times New Roman'})\n",
    "sns.set_context('paper', font_scale=2.0)\n",
    "sns.set_palette(sns.color_palette(\"Paired\"))\n",
    "# sns.set_palette(sns.color_palette(\"deep\"))\n",
    "from smodels.tools import smodelsLogging\n",
    "smodelsLogging.setLogLevel('error')"
   ]
  },
  {
   "cell_type": "code",
   "execution_count": 112,
   "metadata": {},
   "outputs": [],
   "source": [
    "#Set colors:\n",
    "namer = SParticleNames ( susy = False )\n",
    "#Replace default colors:\n",
    "colorPalette = 'deep' #Set color palette for particles, if None use default\n",
    "colorDict = dict(zip(namer.names.keys(),sns.color_palette(palette=colorPalette,n_colors=len(namer.names))))\n",
    "colors = sns.color_palette(palette=colorPalette,n_colors=10)"
   ]
  },
  {
   "cell_type": "code",
   "execution_count": 3,
   "metadata": {},
   "outputs": [],
   "source": [
    "def getLikelihoods(protomodel,muvals,normalize=True):\n",
    "    \n",
    "    #Sort tpList\n",
    "    critic = sorted(protomodel.tpList, key = lambda tp: tp[0], reverse = True)[0][2]\n",
    "\n",
    "    #Combiner likelihood:\n",
    "    combiner = Combiner(0)\n",
    "    llhComb = np.array([combiner.getCombinedLikelihood(protomodel.bestCombo,mu) for mu in muvals])\n",
    "    llhCombSM = combiner.getCombinedLikelihood(protomodel.bestCombo,0.)\n",
    "    llhDict = {'Combined' : llhComb}\n",
    "    llhDictSM = {'Combined' : llhCombSM}\n",
    "    for tp in protomodel.bestCombo:\n",
    "        llhDict[tp.expResult.globalInfo.id] = np.array([tp.getLikelihood(mu) for mu in muvals])\n",
    "        llhDictSM[tp.expResult.globalInfo.id] = tp.getLikelihood(0.0)\n",
    "\n",
    "    #Critic likelihood:\n",
    "    if critic.getLikelihood(1.0) is not None:\n",
    "        llhDictSM['Critic'] = critic.getLikelihood(0.0)\n",
    "        llhDict['Critic'] = np.array([critic.getLikelihood(mu) for mu in muvals])\n",
    "    else:\n",
    "        llhDict['Critic'] = None\n",
    "        llhDictSM['Critic'] = None\n",
    "    llhDict['SM values'] = llhDictSM\n",
    "    \n",
    "    #Compute normalizations:\n",
    "    if normalize:\n",
    "        for key,llhd in llhDict.items():\n",
    "            if key != 'SM values':\n",
    "                norm = llhd.sum()\n",
    "                llhDict[key] = llhd/norm\n",
    "                llhDict['SM values'][key] *= 1/norm\n",
    "    \n",
    "    \n",
    "    return llhDict\n"
   ]
  },
  {
   "cell_type": "code",
   "execution_count": 4,
   "metadata": {},
   "outputs": [],
   "source": [
    "def fromDict(inputDict):\n",
    "    \n",
    "    p = ProtoModel(walkerid=0)\n",
    "    for key,v in inputDict.items():\n",
    "        setattr(p,key,copy.deepcopy(v))\n",
    "        \n",
    "    return p"
   ]
  },
  {
   "cell_type": "code",
   "execution_count": 5,
   "metadata": {},
   "outputs": [],
   "source": [
    "#Get highest score model:\n",
    "protomodel = None\n",
    "for ff in glob.glob('../data/real*.dict'):\n",
    "    with open(ff,'r') as f:\n",
    "        pList = eval(f.read())\n",
    "    run = eval(os.path.basename(ff).replace('real','').replace('.dict',''))\n",
    "    pList = [fromDict(pDict) for pDict in pList[:]]\n",
    "    p = sorted(pList, key = lambda p: p.K, reverse=True)[0]\n",
    "    if (protomodel is None) or (protomodel.K < p.K):\n",
    "        protomodel = copy.deepcopy(p)"
   ]
  },
  {
   "cell_type": "code",
   "execution_count": 6,
   "metadata": {},
   "outputs": [
    {
     "name": "stdout",
     "output_type": "stream",
     "text": [
      "ProtoModel (XZ1,Xd,Xt): K = 6.90, Z = 3.24\n"
     ]
    }
   ],
   "source": [
    "print(protomodel)"
   ]
  },
  {
   "cell_type": "code",
   "execution_count": 7,
   "metadata": {},
   "outputs": [
    {
     "name": "stdout",
     "output_type": "stream",
     "text": [
      "(1000022, 1000022) 0.003\n",
      "(1000001, 1000001) 0.493\n",
      "(-1000001, 1000001) 0.492\n",
      "(-1000001, -1000001) 0.493\n",
      "(1000001, 1000022) 0.493\n",
      "(-1000001, 1000022) 0.493\n",
      "(1000006, 1000006) 1.325\n",
      "(-1000006, 1000006) 1.226\n",
      "(-1000006, -1000006) 1.11\n",
      "(1000006, 1000022) 1.226\n",
      "(-1000006, 1000022) 1.11\n",
      "(1000001, 1000006) 1.11\n",
      "(-1000006, 1000001) 1.11\n",
      "(-1000001, 1000006) 1.11\n",
      "(-1000006, -1000001) 1.11\n",
      "{1000022: 162.552, 1000001: 734.948, 1000006: 1165.865}\n"
     ]
    }
   ],
   "source": [
    "for pids, ssm in protomodel.ssmultipliers.items():\n",
    "    if not ssm: continue\n",
    "    print(pids,ssm)\n",
    "print(protomodel.masses)    "
   ]
  },
  {
   "cell_type": "code",
   "execution_count": 8,
   "metadata": {},
   "outputs": [
    {
     "name": "stderr",
     "output_type": "stream",
     "text": [
      "combination #2/42   4%|--                                        |ETA:  0:00:03\r"
     ]
    },
    {
     "name": "stdout",
     "output_type": "stream",
     "text": [
      "[combine:0] selected predictions down via SRs from 208 to 15.\n",
      "[combine:0] sorting out subsets, reduced 512 -> 42 combinations.\n"
     ]
    },
    {
     "name": "stderr",
     "output_type": "stream",
     "text": [
      "combination #42/42 100%|||||||||||||||||||||||||||||||||||||||||||Time: 0:00:02\n",
      "combination #2/42   4%|--                                        |ETA:  0:00:02\r"
     ]
    },
    {
     "name": "stdout",
     "output_type": "stream",
     "text": [
      "[combine:0] selected predictions down via SRs from 208 to 15.\n",
      "[combine:0] sorting out subsets, reduced 512 -> 42 combinations.\n"
     ]
    },
    {
     "name": "stderr",
     "output_type": "stream",
     "text": [
      "combination #42/42 100%|||||||||||||||||||||||||||||||||||||||||||Time: 0:00:02\n"
     ]
    },
    {
     "name": "stdout",
     "output_type": "stream",
     "text": [
      "[hiscore:0] computing contribution of Xt (1165.9): [1/2]\n"
     ]
    },
    {
     "name": "stderr",
     "output_type": "stream",
     "text": [
      "combination #5/24  20%|////////                                  |ETA:  0:00:00\r"
     ]
    },
    {
     "name": "stdout",
     "output_type": "stream",
     "text": [
      "[combine:0] selected predictions down via SRs from 190 to 10.\n",
      "[combine:0] sorting out subsets, reduced 109 -> 24 combinations.\n"
     ]
    },
    {
     "name": "stderr",
     "output_type": "stream",
     "text": [
      "combination #24/24 100%|||||||||||||||||||||||||||||||||||||||||||Time: 0:00:01\n"
     ]
    },
    {
     "name": "stdout",
     "output_type": "stream",
     "text": [
      "[hiscore:0] when removing Xt, K changed: 6.901 -> 2.586 (-62.5%), Z: 3.237 -> 2.216 (100000 evts)\n",
      "[hiscore:0] computing contribution of Xd (734.9): [2/2]\n",
      "[combine:0] selected predictions down via SRs from 40 to 9.\n",
      "[combine:0] sorting out subsets, reduced 8 -> 8 combinations.\n",
      "[hiscore:0] when removing Xd, K changed: 6.901 -> 3.905 (-43.4%), Z: 3.237 -> 2.481 (100000 evts)\n",
      "[hiscore:0] stored 2 particle contributions\n",
      "[hiscore:0] Now computing analysis contributions\n",
      "[hiscore:0] Recompute the score. Old one at K=6.90, Z=3.24\n",
      "[hiscore:0] finished computing contributions\n",
      "[hiscore:0] contributionsK of 0 reads 7.036143001096877\n",
      "[hiscore:0] contributionsK of 1 reads 3.3085372634096144\n",
      "[hiscore:0] contributionsK of 2 reads 4.437114326356055\n",
      "[hiscore:0] contributionsK of 3 reads 6.341210189286495\n",
      "[hiscore:0] contributionsK of 4 reads 4.328802956473696\n",
      "[hiscore:0] stored 5 analyses contributions\n",
      "ProtoModel (XZ1,Xd,Xt): K = 6.90, Z = 3.24\n"
     ]
    }
   ],
   "source": [
    "#Get predictions:\n",
    "pred = Predictor(walkerid=0,dbpath='../official124_smodels200.pcl')\n",
    "res = pred.predict(protomodel)\n",
    "#Get contributions\n",
    "m = Manipulator(protomodel)\n",
    "hi = Hiscore(walkerid=0,save_hiscores=False,predictor=pred)   \n",
    "hi.computeParticleContributions(m)\n",
    "hi.computeAnalysisContributions(m)\n",
    "\n",
    "muvals = np.linspace(-10,10,500)\n",
    "print(protomodel)\n",
    "llhDict = getLikelihoods(protomodel,muvals)"
   ]
  },
  {
   "cell_type": "code",
   "execution_count": 9,
   "metadata": {},
   "outputs": [],
   "source": [
    "sortedKeys = []\n",
    "for key in llhDict.keys():\n",
    "    if key == 'SM values' or key == 'Critic':\n",
    "        continue\n",
    "    else:\n",
    "        sortedKeys.append((llhDict[key].max()/llhDict['SM values'][key],key))\n",
    "sortedKeys = sorted(sortedKeys,reverse=True)\n",
    "sortedKeys = [pt[1] for pt in sortedKeys]"
   ]
  },
  {
   "cell_type": "code",
   "execution_count": 10,
   "metadata": {},
   "outputs": [
    {
     "data": {
      "image/png": "[encoded data removed]",
      "text/plain": [
       "<Figure size 648x288 with 1 Axes>"
      ]
     },
     "metadata": {},
     "output_type": "display_data"
    }
   ],
   "source": [
    "fig = plt.figure(figsize=(9,4))\n",
    "for key in sortedKeys:\n",
    "    val = llhDict[key]\n",
    "    if key == 'Combined': ls = '-'\n",
    "    else: ls = '--'\n",
    "    plt.plot(muvals,val/llhDict['SM values'][key],label=key,linestyle=ls,linewidth=3)\n",
    "\n",
    "plt.axvline(x=protomodel.mumax,ymax=0.95,c='black',linestyle='-.',label=r'$\\mathdefault{\\mu_{max}}$',\n",
    "               linewidth=2.5)\n",
    "plt.xticks(np.linspace(0,5,6))\n",
    "plt.xlabel(r'$\\mathdefault{\\mu}$',fontsize=30)\n",
    "plt.ylabel(r'$\\mathdefault{\\mathrm{L}_{\\mathrm{BSM}}/\\mathrm{L}_{\\mathrm{SM}}}$',fontsize=30)\n",
    "plt.legend(loc=(1.01,0.05),framealpha=1,fontsize=13,labelspacing=0.6)\n",
    "plt.xlim(0,2.5)\n",
    "plt.ylim(1,2e3)\n",
    "plt.yscale('log')\n",
    "plt.tight_layout()\n",
    "plt.savefig('winner_likelihood.pdf')\n",
    "plt.savefig('winner_likelihood.png')\n",
    "plt.show()"
   ]
  },
  {
   "cell_type": "code",
   "execution_count": 11,
   "metadata": {},
   "outputs": [
    {
     "name": "stdout",
     "output_type": "stream",
     "text": [
      "\n",
      " run 10: K = 6.90, Z = 3.24, muhat = 1.00, mumax = 1.06\n",
      "\t Best Combo:\n",
      "\t\t ATLAS-SUSY-2013-02 [T2] SR6jtp 6 4.9 1.6\n",
      "\t\t  prediction = 0.25\n",
      "\t\t ATLAS-SUSY-2016-07 [T2] 2j_Meff_1200 611.0 526.0 31.0\n",
      "\t\t  prediction = 44.16\n",
      "\t\t ATLAS-SUSY-2016-16 [T2tt] tN_high 8 3.8 1\n",
      "\t\t  prediction = 3.93\n",
      "\t\t CMS-SUS-13-012 [T2] 3.08E+01 [fb] 1.96E+01 [fb]\n",
      "\t\t  prediction =  2.66E+00 [fb]\n",
      "\t\t CMS-SUS-16-050 [T2tt] 4.50E+00 [fb] 2.50E+00 [fb]\n",
      "\t\t  prediction =  2.62E+00 [fb]\n",
      "\t Constraints:\n",
      "\t\t r = 1.30\n",
      " CMS-SUS-19-006 upperLimit [T2] theory xsec =  23.95, UL = 1.85E+01 [fb], UL_exp = 2.16E+01 [fb]\n",
      "\n",
      "\t\t r = 1.28\n",
      " CMS-SUS-19-006 upperLimit [T2tt] theory xsec =  2.62, UL = 2.04E+00 [fb], UL_exp = 2.08E+00 [fb]\n",
      "\n",
      "\t\t r = 1.24\n",
      " CMS-SUS-16-033 upperLimit [T2] theory xsec =  23.95, UL = 1.93E+01 [fb], UL_exp = 2.83E+01 [fb]\n",
      "\n",
      "\t\t r = 0.92\n",
      " CMS-SUS-16-036 upperLimit [T2] theory xsec =  23.95, UL = 2.60E+01 [fb], UL_exp = 3.18E+01 [fb]\n",
      "\n",
      "\t\t r = 0.90\n",
      " CMS-SUS-16-051 upperLimit [T2tt] theory xsec =  2.62, UL = 2.91E+00 [fb], UL_exp = 4.44E+00 [fb]\n",
      "\n",
      "\t\t r = 0.84\n",
      " CMS-SUS-16-036 upperLimit [T2tt] theory xsec =  2.62, UL = 3.12E+00 [fb], UL_exp = 3.90E+00 [fb]\n",
      "\n",
      "\t\t r = 0.64\n",
      " ATLAS-SUSY-2016-15 upperLimit [T2tt] theory xsec =  2.62, UL = 4.08E+00 [fb], UL_exp = None\n",
      "\n",
      "\t\t r = 0.63\n",
      " CMS-SUS-16-049 upperLimit [T2tt] theory xsec =  2.62, UL = 4.17E+00 [fb], UL_exp = 2.60E+00 [fb]\n",
      "\n",
      "\t\t r = 0.58\n",
      " CMS-SUS-16-050 upperLimit [T2tt] theory xsec =  2.62, UL = 4.50E+00 [fb], UL_exp = 2.50E+00 [fb]\n",
      "\n",
      "\t Particle Contributions:\n",
      "\t\t 1000006 2.586219735520931\n",
      "\t\t 1000001 3.904595711154392\n",
      "\t Analysis Contributions:\n",
      "\t\t ATLAS-SUSY-2013-02 7.036143001096877\n",
      "\t\t ATLAS-SUSY-2016-07 3.3085372634096144\n",
      "\t\t ATLAS-SUSY-2016-16 4.437114326356055\n",
      "\t\t CMS-SUS-13-012 6.341210189286495\n",
      "\t\t CMS-SUS-16-050 4.328802956473696\n"
     ]
    }
   ],
   "source": [
    "p = protomodel\n",
    "print('\\n run %i: K = %1.2f, Z = %1.2f, muhat = %1.2f, mumax = %1.2f' %(run,p.K,p.Z,p.muhat,p.mumax))\n",
    "print('\\t Best Combo:')\n",
    "for tp in sorted(p.bestCombo, key = lambda tp: tp.expResult.globalInfo.id):\n",
    "    if tp.dataset.dataInfo.dataType == 'efficiencyMap':\n",
    "        print('\\t\\t',tp.expResult.globalInfo.id,tp.txnames,tp.dataset.dataInfo.dataId,\n",
    "          tp.dataset.dataInfo.observedN,tp.dataset.dataInfo.expectedBG,tp.dataset.dataInfo.bgError)\n",
    "        print('\\t\\t  prediction = %1.2f' %(tp.xsection.value*tp.expResult.globalInfo.lumi))\n",
    "    else:\n",
    "        print('\\t\\t',tp.expResult.globalInfo.id,tp.txnames,tp.getUpperLimit(),tp.getUpperLimit(expected=True))\n",
    "        print('\\t\\t  prediction = ',tp.xsection.value.asNumber(fb)*fb)\n",
    "print('\\t Constraints:')\n",
    "for tp in sorted(p.tpList, key = lambda x: x[0], reverse=True):\n",
    "    if tp[0] < 0.5: continue\n",
    "    print('\\t\\t r = %1.2f\\n' %tp[0],tp[2].expResult.globalInfo.id,tp[2].dataset.dataInfo.dataType,tp[2].txnames,\n",
    "          'theory xsec =  %1.2f, UL = %s, UL_exp = %s\\n' \n",
    "          %(tp[2].xsection.value.asNumber(fb),tp[2].getUpperLimit(),tp[2].getUpperLimit(expected=True)))\n",
    "print('\\t Particle Contributions:')\n",
    "for pid,cont in p.particleContributions.items():\n",
    "    print('\\t\\t',pid,cont)\n",
    "\n",
    "print('\\t Analysis Contributions:')\n",
    "for ana,cont in p.analysisContributions.items():\n",
    "    print('\\t\\t',ana,cont)"
   ]
  },
  {
   "cell_type": "code",
   "execution_count": 12,
   "metadata": {},
   "outputs": [
    {
     "name": "stderr",
     "output_type": "stream",
     "text": [
      "combination #0/216   0%|                                        |ETA:  --:--:--\r"
     ]
    },
    {
     "name": "stdout",
     "output_type": "stream",
     "text": [
      "[combine:0] selected predictions down via SRs from 242 to 18.\n",
      "[combine:0] sorting out subsets, reduced 1493 -> 216 combinations.\n"
     ]
    },
    {
     "name": "stderr",
     "output_type": "stream",
     "text": [
      "combination #216/216 100%|||||||||||||||||||||||||||||||||||||||||Time: 0:00:14\n"
     ]
    },
    {
     "name": "stdout",
     "output_type": "stream",
     "text": [
      "900.0 1.1181675589789561\n"
     ]
    },
    {
     "name": "stderr",
     "output_type": "stream",
     "text": [
      "combination #2/108   1%|                                         |ETA:  0:00:06\r"
     ]
    },
    {
     "name": "stdout",
     "output_type": "stream",
     "text": [
      "[combine:0] selected predictions down via SRs from 236 to 17.\n",
      "[combine:0] sorting out subsets, reduced 990 -> 108 combinations.\n"
     ]
    },
    {
     "name": "stderr",
     "output_type": "stream",
     "text": [
      "combination #108/108 100%|||||||||||||||||||||||||||||||||||||||||Time: 0:00:07\n"
     ]
    },
    {
     "name": "stdout",
     "output_type": "stream",
     "text": [
      "910.204081632653 1.2164809145853424\n"
     ]
    },
    {
     "name": "stderr",
     "output_type": "stream",
     "text": [
      "combination #2/108   1%|                                         |ETA:  0:00:06\r"
     ]
    },
    {
     "name": "stdout",
     "output_type": "stream",
     "text": [
      "[combine:0] selected predictions down via SRs from 236 to 17.\n",
      "[combine:0] sorting out subsets, reduced 990 -> 108 combinations.\n"
     ]
    },
    {
     "name": "stderr",
     "output_type": "stream",
     "text": [
      "combination #108/108 100%|||||||||||||||||||||||||||||||||||||||||Time: 0:00:07\n"
     ]
    },
    {
     "name": "stdout",
     "output_type": "stream",
     "text": [
      "920.4081632653061 1.2368091982151457\n"
     ]
    },
    {
     "name": "stderr",
     "output_type": "stream",
     "text": [
      "combination #0/108   0%|                                        |ETA:  --:--:--\r"
     ]
    },
    {
     "name": "stdout",
     "output_type": "stream",
     "text": [
      "[combine:0] selected predictions down via SRs from 238 to 17.\n",
      "[combine:0] sorting out subsets, reduced 990 -> 108 combinations.\n"
     ]
    },
    {
     "name": "stderr",
     "output_type": "stream",
     "text": [
      "combination #108/108 100%|||||||||||||||||||||||||||||||||||||||||Time: 0:00:08\n"
     ]
    },
    {
     "name": "stdout",
     "output_type": "stream",
     "text": [
      "930.6122448979592 2.5331239989272287\n"
     ]
    },
    {
     "name": "stderr",
     "output_type": "stream",
     "text": [
      "combination #2/108   1%|                                         |ETA:  0:00:07\r"
     ]
    },
    {
     "name": "stdout",
     "output_type": "stream",
     "text": [
      "[combine:0] selected predictions down via SRs from 238 to 17.\n",
      "[combine:0] sorting out subsets, reduced 990 -> 108 combinations.\n"
     ]
    },
    {
     "name": "stderr",
     "output_type": "stream",
     "text": [
      "combination #108/108 100%|||||||||||||||||||||||||||||||||||||||||Time: 0:00:08\n"
     ]
    },
    {
     "name": "stdout",
     "output_type": "stream",
     "text": [
      "940.8163265306123 2.714353578766053\n"
     ]
    },
    {
     "name": "stderr",
     "output_type": "stream",
     "text": [
      "combination #2/96   2%|                                          |ETA:  0:00:07\r"
     ]
    },
    {
     "name": "stdout",
     "output_type": "stream",
     "text": [
      "[combine:0] selected predictions down via SRs from 236 to 16.\n",
      "[combine:0] sorting out subsets, reduced 919 -> 96 combinations.\n"
     ]
    },
    {
     "name": "stderr",
     "output_type": "stream",
     "text": [
      "combination #96/96 100%|||||||||||||||||||||||||||||||||||||||||||Time: 0:00:08\n"
     ]
    },
    {
     "name": "stdout",
     "output_type": "stream",
     "text": [
      "951.0204081632653 2.8884191794852168\n"
     ]
    },
    {
     "name": "stderr",
     "output_type": "stream",
     "text": [
      "combination #2/96   2%|                                          |ETA:  0:00:07\r"
     ]
    },
    {
     "name": "stdout",
     "output_type": "stream",
     "text": [
      "[combine:0] selected predictions down via SRs from 234 to 16.\n",
      "[combine:0] sorting out subsets, reduced 919 -> 96 combinations.\n"
     ]
    },
    {
     "name": "stderr",
     "output_type": "stream",
     "text": [
      "combination #96/96 100%|||||||||||||||||||||||||||||||||||||||||||Time: 0:00:08\n"
     ]
    },
    {
     "name": "stdout",
     "output_type": "stream",
     "text": [
      "961.2244897959183 2.939571366504179\n"
     ]
    },
    {
     "name": "stderr",
     "output_type": "stream",
     "text": [
      "combination #2/96   2%|                                          |ETA:  0:00:07\r"
     ]
    },
    {
     "name": "stdout",
     "output_type": "stream",
     "text": [
      "[combine:0] selected predictions down via SRs from 234 to 16.\n",
      "[combine:0] sorting out subsets, reduced 919 -> 96 combinations.\n"
     ]
    },
    {
     "name": "stderr",
     "output_type": "stream",
     "text": [
      "combination #96/96 100%|||||||||||||||||||||||||||||||||||||||||||Time: 0:00:08\n"
     ]
    },
    {
     "name": "stdout",
     "output_type": "stream",
     "text": [
      "971.4285714285714 3.1592440952669048\n"
     ]
    },
    {
     "name": "stderr",
     "output_type": "stream",
     "text": [
      "combination #2/96   2%|                                          |ETA:  0:00:07\r"
     ]
    },
    {
     "name": "stdout",
     "output_type": "stream",
     "text": [
      "[combine:0] selected predictions down via SRs from 234 to 16.\n",
      "[combine:0] sorting out subsets, reduced 919 -> 96 combinations.\n"
     ]
    },
    {
     "name": "stderr",
     "output_type": "stream",
     "text": [
      "combination #96/96 100%|||||||||||||||||||||||||||||||||||||||||||Time: 0:00:08\n"
     ]
    },
    {
     "name": "stdout",
     "output_type": "stream",
     "text": [
      "981.6326530612245 3.3560637168732326\n"
     ]
    },
    {
     "name": "stderr",
     "output_type": "stream",
     "text": [
      "combination #2/96   2%|                                          |ETA:  0:00:07\r"
     ]
    },
    {
     "name": "stdout",
     "output_type": "stream",
     "text": [
      "[combine:0] selected predictions down via SRs from 234 to 16.\n",
      "[combine:0] sorting out subsets, reduced 919 -> 96 combinations.\n"
     ]
    },
    {
     "name": "stderr",
     "output_type": "stream",
     "text": [
      "combination #96/96 100%|||||||||||||||||||||||||||||||||||||||||||Time: 0:00:08\n"
     ]
    },
    {
     "name": "stdout",
     "output_type": "stream",
     "text": [
      "991.8367346938776 3.537275600430915\n"
     ]
    },
    {
     "name": "stderr",
     "output_type": "stream",
     "text": [
      "combination #2/48   4%|-                                         |ETA:  0:00:03\r"
     ]
    },
    {
     "name": "stdout",
     "output_type": "stream",
     "text": [
      "[combine:0] selected predictions down via SRs from 208 to 15.\n",
      "[combine:0] sorting out subsets, reduced 608 -> 48 combinations.\n"
     ]
    },
    {
     "name": "stderr",
     "output_type": "stream",
     "text": [
      "combination #48/48 100%|||||||||||||||||||||||||||||||||||||||||||Time: 0:00:04\n"
     ]
    },
    {
     "name": "stdout",
     "output_type": "stream",
     "text": [
      "1002.0408163265306 3.7030713362918313\n"
     ]
    },
    {
     "name": "stderr",
     "output_type": "stream",
     "text": [
      "combination #2/48   4%|-                                         |ETA:  0:00:03\r"
     ]
    },
    {
     "name": "stdout",
     "output_type": "stream",
     "text": [
      "[combine:0] selected predictions down via SRs from 208 to 15.\n",
      "[combine:0] sorting out subsets, reduced 608 -> 48 combinations.\n"
     ]
    },
    {
     "name": "stderr",
     "output_type": "stream",
     "text": [
      "combination #48/48 100%|||||||||||||||||||||||||||||||||||||||||||Time: 0:00:04\n"
     ]
    },
    {
     "name": "stdout",
     "output_type": "stream",
     "text": [
      "1012.2448979591836 3.8632843867199496\n"
     ]
    },
    {
     "name": "stderr",
     "output_type": "stream",
     "text": [
      "combination #2/42   4%|--                                        |ETA:  0:00:03\r"
     ]
    },
    {
     "name": "stdout",
     "output_type": "stream",
     "text": [
      "[combine:0] selected predictions down via SRs from 208 to 15.\n",
      "[combine:0] sorting out subsets, reduced 512 -> 42 combinations.\n"
     ]
    },
    {
     "name": "stderr",
     "output_type": "stream",
     "text": [
      "combination #42/42 100%|||||||||||||||||||||||||||||||||||||||||||Time: 0:00:03\n"
     ]
    },
    {
     "name": "stdout",
     "output_type": "stream",
     "text": [
      "1022.4489795918367 4.108393674791575\n"
     ]
    },
    {
     "name": "stderr",
     "output_type": "stream",
     "text": [
      "combination #2/42   4%|--                                        |ETA:  0:00:03\r"
     ]
    },
    {
     "name": "stdout",
     "output_type": "stream",
     "text": [
      "[combine:0] selected predictions down via SRs from 208 to 15.\n",
      "[combine:0] sorting out subsets, reduced 512 -> 42 combinations.\n"
     ]
    },
    {
     "name": "stderr",
     "output_type": "stream",
     "text": [
      "combination #42/42 100%|||||||||||||||||||||||||||||||||||||||||||Time: 0:00:03\n"
     ]
    },
    {
     "name": "stdout",
     "output_type": "stream",
     "text": [
      "1032.6530612244899 4.351333842032686\n"
     ]
    },
    {
     "name": "stderr",
     "output_type": "stream",
     "text": [
      "combination #2/42   4%|--                                        |ETA:  0:00:03\r"
     ]
    },
    {
     "name": "stdout",
     "output_type": "stream",
     "text": [
      "[combine:0] selected predictions down via SRs from 208 to 15.\n",
      "[combine:0] sorting out subsets, reduced 512 -> 42 combinations.\n"
     ]
    },
    {
     "name": "stderr",
     "output_type": "stream",
     "text": [
      "combination #42/42 100%|||||||||||||||||||||||||||||||||||||||||||Time: 0:00:04\n"
     ]
    },
    {
     "name": "stdout",
     "output_type": "stream",
     "text": [
      "1042.857142857143 4.608002102022664\n"
     ]
    },
    {
     "name": "stderr",
     "output_type": "stream",
     "text": [
      "combination #2/42   4%|--                                        |ETA:  0:00:03\r"
     ]
    },
    {
     "name": "stdout",
     "output_type": "stream",
     "text": [
      "[combine:0] selected predictions down via SRs from 208 to 15.\n",
      "[combine:0] sorting out subsets, reduced 512 -> 42 combinations.\n"
     ]
    },
    {
     "name": "stderr",
     "output_type": "stream",
     "text": [
      "combination #42/42 100%|||||||||||||||||||||||||||||||||||||||||||Time: 0:00:04\n"
     ]
    },
    {
     "name": "stdout",
     "output_type": "stream",
     "text": [
      "1053.061224489796 4.798957271692866\n"
     ]
    },
    {
     "name": "stderr",
     "output_type": "stream",
     "text": [
      "combination #2/42   4%|--                                        |ETA:  0:00:03\r"
     ]
    },
    {
     "name": "stdout",
     "output_type": "stream",
     "text": [
      "[combine:0] selected predictions down via SRs from 208 to 15.\n",
      "[combine:0] sorting out subsets, reduced 512 -> 42 combinations.\n"
     ]
    },
    {
     "name": "stderr",
     "output_type": "stream",
     "text": [
      "combination #42/42 100%|||||||||||||||||||||||||||||||||||||||||||Time: 0:00:03\n"
     ]
    },
    {
     "name": "stdout",
     "output_type": "stream",
     "text": [
      "1063.265306122449 5.082763453932567\n"
     ]
    },
    {
     "name": "stderr",
     "output_type": "stream",
     "text": [
      "combination #2/42   4%|--                                        |ETA:  0:00:03\r"
     ]
    },
    {
     "name": "stdout",
     "output_type": "stream",
     "text": [
      "[combine:0] selected predictions down via SRs from 208 to 15.\n",
      "[combine:0] sorting out subsets, reduced 512 -> 42 combinations.\n"
     ]
    },
    {
     "name": "stderr",
     "output_type": "stream",
     "text": [
      "combination #42/42 100%|||||||||||||||||||||||||||||||||||||||||||Time: 0:00:03\n"
     ]
    },
    {
     "name": "stdout",
     "output_type": "stream",
     "text": [
      "1073.4693877551022 5.323730211658568\n"
     ]
    },
    {
     "name": "stderr",
     "output_type": "stream",
     "text": [
      "combination #2/42   4%|--                                        |ETA:  0:00:02\r"
     ]
    },
    {
     "name": "stdout",
     "output_type": "stream",
     "text": [
      "[combine:0] selected predictions down via SRs from 208 to 15.\n",
      "[combine:0] sorting out subsets, reduced 512 -> 42 combinations.\n"
     ]
    },
    {
     "name": "stderr",
     "output_type": "stream",
     "text": [
      "combination #42/42 100%|||||||||||||||||||||||||||||||||||||||||||Time: 0:00:03\n"
     ]
    },
    {
     "name": "stdout",
     "output_type": "stream",
     "text": [
      "1083.6734693877552 5.48999386791541\n"
     ]
    },
    {
     "name": "stderr",
     "output_type": "stream",
     "text": [
      "combination #2/42   4%|--                                        |ETA:  0:00:03\r"
     ]
    },
    {
     "name": "stdout",
     "output_type": "stream",
     "text": [
      "[combine:0] selected predictions down via SRs from 208 to 15.\n",
      "[combine:0] sorting out subsets, reduced 512 -> 42 combinations.\n"
     ]
    },
    {
     "name": "stderr",
     "output_type": "stream",
     "text": [
      "combination #42/42 100%|||||||||||||||||||||||||||||||||||||||||||Time: 0:00:02\n"
     ]
    },
    {
     "name": "stdout",
     "output_type": "stream",
     "text": [
      "1093.8775510204082 5.774289614534786\n"
     ]
    },
    {
     "name": "stderr",
     "output_type": "stream",
     "text": [
      "combination #2/42   4%|--                                        |ETA:  0:00:03\r"
     ]
    },
    {
     "name": "stdout",
     "output_type": "stream",
     "text": [
      "[combine:0] selected predictions down via SRs from 208 to 15.\n",
      "[combine:0] sorting out subsets, reduced 512 -> 42 combinations.\n"
     ]
    },
    {
     "name": "stderr",
     "output_type": "stream",
     "text": [
      "combination #42/42 100%|||||||||||||||||||||||||||||||||||||||||||Time: 0:00:03\n"
     ]
    },
    {
     "name": "stdout",
     "output_type": "stream",
     "text": [
      "1104.0816326530612 5.917575732250893\n"
     ]
    },
    {
     "name": "stderr",
     "output_type": "stream",
     "text": [
      "combination #2/42   4%|--                                        |ETA:  0:00:03\r"
     ]
    },
    {
     "name": "stdout",
     "output_type": "stream",
     "text": [
      "[combine:0] selected predictions down via SRs from 208 to 15.\n",
      "[combine:0] sorting out subsets, reduced 512 -> 42 combinations.\n"
     ]
    },
    {
     "name": "stderr",
     "output_type": "stream",
     "text": [
      "combination #42/42 100%|||||||||||||||||||||||||||||||||||||||||||Time: 0:00:03\n"
     ]
    },
    {
     "name": "stdout",
     "output_type": "stream",
     "text": [
      "1114.2857142857142 6.051586545937867\n"
     ]
    },
    {
     "name": "stderr",
     "output_type": "stream",
     "text": [
      "combination #2/42   4%|--                                        |ETA:  0:00:02\r"
     ]
    },
    {
     "name": "stdout",
     "output_type": "stream",
     "text": [
      "[combine:0] selected predictions down via SRs from 208 to 15.\n",
      "[combine:0] sorting out subsets, reduced 512 -> 42 combinations.\n"
     ]
    },
    {
     "name": "stderr",
     "output_type": "stream",
     "text": [
      "combination #42/42 100%|||||||||||||||||||||||||||||||||||||||||||Time: 0:00:03\n"
     ]
    },
    {
     "name": "stdout",
     "output_type": "stream",
     "text": [
      "1124.4897959183672 6.198995799058975\n"
     ]
    },
    {
     "name": "stderr",
     "output_type": "stream",
     "text": [
      "combination #2/42   4%|--                                        |ETA:  0:00:02\r"
     ]
    },
    {
     "name": "stdout",
     "output_type": "stream",
     "text": [
      "[combine:0] selected predictions down via SRs from 208 to 15.\n",
      "[combine:0] sorting out subsets, reduced 512 -> 42 combinations.\n"
     ]
    },
    {
     "name": "stderr",
     "output_type": "stream",
     "text": [
      "combination #42/42 100%|||||||||||||||||||||||||||||||||||||||||||Time: 0:00:03\n"
     ]
    },
    {
     "name": "stdout",
     "output_type": "stream",
     "text": [
      "1134.6938775510205 6.314558141943853\n"
     ]
    },
    {
     "name": "stderr",
     "output_type": "stream",
     "text": [
      "combination #2/42   4%|--                                        |ETA:  0:00:03\r"
     ]
    },
    {
     "name": "stdout",
     "output_type": "stream",
     "text": [
      "[combine:0] selected predictions down via SRs from 208 to 15.\n",
      "[combine:0] sorting out subsets, reduced 512 -> 42 combinations.\n"
     ]
    },
    {
     "name": "stderr",
     "output_type": "stream",
     "text": [
      "combination #42/42 100%|||||||||||||||||||||||||||||||||||||||||||Time: 0:00:03\n"
     ]
    },
    {
     "name": "stdout",
     "output_type": "stream",
     "text": [
      "1144.8979591836735 6.475913566781993\n"
     ]
    },
    {
     "name": "stderr",
     "output_type": "stream",
     "text": [
      "combination #2/42   4%|--                                        |ETA:  0:00:03\r"
     ]
    },
    {
     "name": "stdout",
     "output_type": "stream",
     "text": [
      "[combine:0] selected predictions down via SRs from 208 to 15.\n",
      "[combine:0] sorting out subsets, reduced 512 -> 42 combinations.\n"
     ]
    },
    {
     "name": "stderr",
     "output_type": "stream",
     "text": [
      "combination #42/42 100%|||||||||||||||||||||||||||||||||||||||||||Time: 0:00:03\n"
     ]
    },
    {
     "name": "stdout",
     "output_type": "stream",
     "text": [
      "1155.1020408163265 6.669439295075107\n"
     ]
    },
    {
     "name": "stderr",
     "output_type": "stream",
     "text": [
      "combination #2/42   4%|--                                        |ETA:  0:00:03\r"
     ]
    },
    {
     "name": "stdout",
     "output_type": "stream",
     "text": [
      "[combine:0] selected predictions down via SRs from 208 to 15.\n",
      "[combine:0] sorting out subsets, reduced 512 -> 42 combinations.\n"
     ]
    },
    {
     "name": "stderr",
     "output_type": "stream",
     "text": [
      "combination #42/42 100%|||||||||||||||||||||||||||||||||||||||||||Time: 0:00:03\n"
     ]
    },
    {
     "name": "stdout",
     "output_type": "stream",
     "text": [
      "1165.3061224489795 6.8958449363183645\n"
     ]
    },
    {
     "name": "stderr",
     "output_type": "stream",
     "text": [
      "combination #2/42   4%|--                                        |ETA:  0:00:03\r"
     ]
    },
    {
     "name": "stdout",
     "output_type": "stream",
     "text": [
      "[combine:0] selected predictions down via SRs from 208 to 15.\n",
      "[combine:0] sorting out subsets, reduced 512 -> 42 combinations.\n"
     ]
    },
    {
     "name": "stderr",
     "output_type": "stream",
     "text": [
      "combination #42/42 100%|||||||||||||||||||||||||||||||||||||||||||Time: 0:00:03\n"
     ]
    },
    {
     "name": "stdout",
     "output_type": "stream",
     "text": [
      "1175.5102040816328 6.9721117545202995\n"
     ]
    },
    {
     "name": "stderr",
     "output_type": "stream",
     "text": [
      "combination #2/42   4%|--                                        |ETA:  0:00:02\r"
     ]
    },
    {
     "name": "stdout",
     "output_type": "stream",
     "text": [
      "[combine:0] selected predictions down via SRs from 208 to 15.\n",
      "[combine:0] sorting out subsets, reduced 512 -> 42 combinations.\n"
     ]
    },
    {
     "name": "stderr",
     "output_type": "stream",
     "text": [
      "combination #42/42 100%|||||||||||||||||||||||||||||||||||||||||||Time: 0:00:03\n"
     ]
    },
    {
     "name": "stdout",
     "output_type": "stream",
     "text": [
      "1185.7142857142858 6.959721924751988\n"
     ]
    },
    {
     "name": "stderr",
     "output_type": "stream",
     "text": [
      "combination #2/36   5%|--                                        |ETA:  0:00:02\r"
     ]
    },
    {
     "name": "stdout",
     "output_type": "stream",
     "text": [
      "[combine:0] selected predictions down via SRs from 202 to 14.\n",
      "[combine:0] sorting out subsets, reduced 465 -> 36 combinations.\n"
     ]
    },
    {
     "name": "stderr",
     "output_type": "stream",
     "text": [
      "combination #36/36 100%|||||||||||||||||||||||||||||||||||||||||||Time: 0:00:03\n"
     ]
    },
    {
     "name": "stdout",
     "output_type": "stream",
     "text": [
      "1195.9183673469388 6.880944692285799\n"
     ]
    },
    {
     "name": "stderr",
     "output_type": "stream",
     "text": [
      "combination #2/36   5%|--                                        |ETA:  0:00:02\r"
     ]
    },
    {
     "name": "stdout",
     "output_type": "stream",
     "text": [
      "[combine:0] selected predictions down via SRs from 202 to 14.\n",
      "[combine:0] sorting out subsets, reduced 465 -> 36 combinations.\n"
     ]
    },
    {
     "name": "stderr",
     "output_type": "stream",
     "text": [
      "combination #36/36 100%|||||||||||||||||||||||||||||||||||||||||||Time: 0:00:03\n"
     ]
    },
    {
     "name": "stdout",
     "output_type": "stream",
     "text": [
      "1206.1224489795918 6.8235581778716705\n"
     ]
    },
    {
     "name": "stderr",
     "output_type": "stream",
     "text": [
      "combination #2/36   5%|--                                        |ETA:  0:00:02\r"
     ]
    },
    {
     "name": "stdout",
     "output_type": "stream",
     "text": [
      "[combine:0] selected predictions down via SRs from 200 to 13.\n",
      "[combine:0] sorting out subsets, reduced 322 -> 36 combinations.\n"
     ]
    },
    {
     "name": "stderr",
     "output_type": "stream",
     "text": [
      "combination #36/36 100%|||||||||||||||||||||||||||||||||||||||||||Time: 0:00:03\n"
     ]
    },
    {
     "name": "stdout",
     "output_type": "stream",
     "text": [
      "1216.3265306122448 6.6642030687191225\n"
     ]
    },
    {
     "name": "stderr",
     "output_type": "stream",
     "text": [
      "combination #2/30   6%|--                                        |ETA:  0:00:02\r"
     ]
    },
    {
     "name": "stdout",
     "output_type": "stream",
     "text": [
      "[combine:0] selected predictions down via SRs from 198 to 12.\n",
      "[combine:0] sorting out subsets, reduced 275 -> 30 combinations.\n"
     ]
    },
    {
     "name": "stderr",
     "output_type": "stream",
     "text": [
      "combination #30/30 100%|||||||||||||||||||||||||||||||||||||||||||Time: 0:00:02\n"
     ]
    },
    {
     "name": "stdout",
     "output_type": "stream",
     "text": [
      "1226.5306122448978 5.358424125543846\n"
     ]
    },
    {
     "name": "stderr",
     "output_type": "stream",
     "text": [
      "combination #2/30   6%|--                                        |ETA:  0:00:02\r"
     ]
    },
    {
     "name": "stdout",
     "output_type": "stream",
     "text": [
      "[combine:0] selected predictions down via SRs from 198 to 12.\n",
      "[combine:0] sorting out subsets, reduced 275 -> 30 combinations.\n"
     ]
    },
    {
     "name": "stderr",
     "output_type": "stream",
     "text": [
      "combination #30/30 100%|||||||||||||||||||||||||||||||||||||||||||Time: 0:00:02\n"
     ]
    },
    {
     "name": "stdout",
     "output_type": "stream",
     "text": [
      "1236.734693877551 5.148358515774478\n"
     ]
    },
    {
     "name": "stderr",
     "output_type": "stream",
     "text": [
      "combination #2/30   6%|--                                        |ETA:  0:00:01\r"
     ]
    },
    {
     "name": "stdout",
     "output_type": "stream",
     "text": [
      "[combine:0] selected predictions down via SRs from 198 to 12.\n",
      "[combine:0] sorting out subsets, reduced 275 -> 30 combinations.\n"
     ]
    },
    {
     "name": "stderr",
     "output_type": "stream",
     "text": [
      "combination #30/30 100%|||||||||||||||||||||||||||||||||||||||||||Time: 0:00:02\n"
     ]
    },
    {
     "name": "stdout",
     "output_type": "stream",
     "text": [
      "1246.938775510204 5.00599398662163\n"
     ]
    },
    {
     "name": "stderr",
     "output_type": "stream",
     "text": [
      "combination #1/30   3%|/                                         |ETA:  0:00:03\r"
     ]
    },
    {
     "name": "stdout",
     "output_type": "stream",
     "text": [
      "[combine:0] selected predictions down via SRs from 198 to 12.\n",
      "[combine:0] sorting out subsets, reduced 275 -> 30 combinations.\n"
     ]
    },
    {
     "name": "stderr",
     "output_type": "stream",
     "text": [
      "combination #30/30 100%|||||||||||||||||||||||||||||||||||||||||||Time: 0:00:06\n"
     ]
    },
    {
     "name": "stdout",
     "output_type": "stream",
     "text": [
      "1257.142857142857 4.855298232139529\n"
     ]
    },
    {
     "name": "stderr",
     "output_type": "stream",
     "text": [
      "combination #3/30  10%|\\\\\\\\                                      |ETA:  0:00:01\r"
     ]
    },
    {
     "name": "stdout",
     "output_type": "stream",
     "text": [
      "[combine:0] selected predictions down via SRs from 198 to 12.\n",
      "[combine:0] sorting out subsets, reduced 275 -> 30 combinations.\n"
     ]
    },
    {
     "name": "stderr",
     "output_type": "stream",
     "text": [
      "combination #30/30 100%|||||||||||||||||||||||||||||||||||||||||||Time: 0:00:02\n"
     ]
    },
    {
     "name": "stdout",
     "output_type": "stream",
     "text": [
      "1267.3469387755101 4.842646498848938\n"
     ]
    },
    {
     "name": "stderr",
     "output_type": "stream",
     "text": [
      "combination #3/30  10%|\\\\\\\\                                      |ETA:  0:00:01\r"
     ]
    },
    {
     "name": "stdout",
     "output_type": "stream",
     "text": [
      "[combine:0] selected predictions down via SRs from 198 to 12.\n",
      "[combine:0] sorting out subsets, reduced 275 -> 30 combinations.\n"
     ]
    },
    {
     "name": "stderr",
     "output_type": "stream",
     "text": [
      "combination #30/30 100%|||||||||||||||||||||||||||||||||||||||||||Time: 0:00:02\n"
     ]
    },
    {
     "name": "stdout",
     "output_type": "stream",
     "text": [
      "1277.5510204081634 4.7540928713108785\n"
     ]
    },
    {
     "name": "stderr",
     "output_type": "stream",
     "text": [
      "combination #2/30   6%|--                                        |ETA:  0:00:02\r"
     ]
    },
    {
     "name": "stdout",
     "output_type": "stream",
     "text": [
      "[combine:0] selected predictions down via SRs from 198 to 12.\n",
      "[combine:0] sorting out subsets, reduced 275 -> 30 combinations.\n"
     ]
    },
    {
     "name": "stderr",
     "output_type": "stream",
     "text": [
      "combination #30/30 100%|||||||||||||||||||||||||||||||||||||||||||Time: 0:00:02\n"
     ]
    },
    {
     "name": "stdout",
     "output_type": "stream",
     "text": [
      "1287.7551020408164 4.719983835085327\n"
     ]
    },
    {
     "name": "stderr",
     "output_type": "stream",
     "text": [
      "combination #3/30  10%|\\\\\\\\                                      |ETA:  0:00:01\r"
     ]
    },
    {
     "name": "stdout",
     "output_type": "stream",
     "text": [
      "[combine:0] selected predictions down via SRs from 198 to 12.\n",
      "[combine:0] sorting out subsets, reduced 275 -> 30 combinations.\n"
     ]
    },
    {
     "name": "stderr",
     "output_type": "stream",
     "text": [
      "combination #30/30 100%|||||||||||||||||||||||||||||||||||||||||||Time: 0:00:02\n"
     ]
    },
    {
     "name": "stdout",
     "output_type": "stream",
     "text": [
      "1297.9591836734694 4.646607753065983\n"
     ]
    },
    {
     "name": "stderr",
     "output_type": "stream",
     "text": [
      "combination #5/30  16%|///////                                   |ETA:  0:00:01\r"
     ]
    },
    {
     "name": "stdout",
     "output_type": "stream",
     "text": [
      "[combine:0] selected predictions down via SRs from 196 to 11.\n",
      "[combine:0] sorting out subsets, reduced 132 -> 30 combinations.\n"
     ]
    },
    {
     "name": "stderr",
     "output_type": "stream",
     "text": [
      "combination #30/30 100%|||||||||||||||||||||||||||||||||||||||||||Time: 0:00:02\n"
     ]
    },
    {
     "name": "stdout",
     "output_type": "stream",
     "text": [
      "1308.1632653061224 2.653821427821514\n"
     ]
    },
    {
     "name": "stderr",
     "output_type": "stream",
     "text": [
      "combination #3/30  10%|\\\\\\\\                                      |ETA:  0:00:01\r"
     ]
    },
    {
     "name": "stdout",
     "output_type": "stream",
     "text": [
      "[combine:0] selected predictions down via SRs from 196 to 11.\n",
      "[combine:0] sorting out subsets, reduced 132 -> 30 combinations.\n"
     ]
    },
    {
     "name": "stderr",
     "output_type": "stream",
     "text": [
      "combination #30/30 100%|||||||||||||||||||||||||||||||||||||||||||Time: 0:00:01\n"
     ]
    },
    {
     "name": "stdout",
     "output_type": "stream",
     "text": [
      "1318.3673469387754 2.528484911569814\n"
     ]
    },
    {
     "name": "stderr",
     "output_type": "stream",
     "text": [
      "combination #4/30  13%||||||                                     |ETA:  0:00:01\r"
     ]
    },
    {
     "name": "stdout",
     "output_type": "stream",
     "text": [
      "[combine:0] selected predictions down via SRs from 196 to 11.\n",
      "[combine:0] sorting out subsets, reduced 132 -> 30 combinations.\n"
     ]
    },
    {
     "name": "stderr",
     "output_type": "stream",
     "text": [
      "combination #30/30 100%|||||||||||||||||||||||||||||||||||||||||||Time: 0:00:01\n"
     ]
    },
    {
     "name": "stdout",
     "output_type": "stream",
     "text": [
      "1328.5714285714284 2.4060588297560788\n"
     ]
    },
    {
     "name": "stderr",
     "output_type": "stream",
     "text": [
      "combination #4/30  13%||||||                                     |ETA:  0:00:01\r"
     ]
    },
    {
     "name": "stdout",
     "output_type": "stream",
     "text": [
      "[combine:0] selected predictions down via SRs from 196 to 11.\n",
      "[combine:0] sorting out subsets, reduced 132 -> 30 combinations.\n"
     ]
    },
    {
     "name": "stderr",
     "output_type": "stream",
     "text": [
      "combination #30/30 100%|||||||||||||||||||||||||||||||||||||||||||Time: 0:00:01\n"
     ]
    },
    {
     "name": "stdout",
     "output_type": "stream",
     "text": [
      "1338.7755102040817 2.3294519642138143\n"
     ]
    },
    {
     "name": "stderr",
     "output_type": "stream",
     "text": [
      "combination #5/30  16%|///////                                   |ETA:  0:00:00\r"
     ]
    },
    {
     "name": "stdout",
     "output_type": "stream",
     "text": [
      "[combine:0] selected predictions down via SRs from 196 to 11.\n",
      "[combine:0] sorting out subsets, reduced 132 -> 30 combinations.\n"
     ]
    },
    {
     "name": "stderr",
     "output_type": "stream",
     "text": [
      "combination #30/30 100%|||||||||||||||||||||||||||||||||||||||||||Time: 0:00:02\n"
     ]
    },
    {
     "name": "stdout",
     "output_type": "stream",
     "text": [
      "1348.9795918367347 2.341311666030368\n"
     ]
    },
    {
     "name": "stderr",
     "output_type": "stream",
     "text": [
      "combination #5/30  16%|///////                                   |ETA:  0:00:00\r"
     ]
    },
    {
     "name": "stdout",
     "output_type": "stream",
     "text": [
      "[combine:0] selected predictions down via SRs from 196 to 11.\n",
      "[combine:0] sorting out subsets, reduced 132 -> 30 combinations.\n"
     ]
    },
    {
     "name": "stderr",
     "output_type": "stream",
     "text": [
      "combination #30/30 100%|||||||||||||||||||||||||||||||||||||||||||Time: 0:00:01\n"
     ]
    },
    {
     "name": "stdout",
     "output_type": "stream",
     "text": [
      "1359.1836734693877 2.3090314337222626\n"
     ]
    },
    {
     "name": "stderr",
     "output_type": "stream",
     "text": [
      "combination #4/30  13%||||||                                     |ETA:  0:00:01\r"
     ]
    },
    {
     "name": "stdout",
     "output_type": "stream",
     "text": [
      "[combine:0] selected predictions down via SRs from 196 to 11.\n",
      "[combine:0] sorting out subsets, reduced 132 -> 30 combinations.\n"
     ]
    },
    {
     "name": "stderr",
     "output_type": "stream",
     "text": [
      "combination #30/30 100%|||||||||||||||||||||||||||||||||||||||||||Time: 0:00:01\n"
     ]
    },
    {
     "name": "stdout",
     "output_type": "stream",
     "text": [
      "1369.3877551020407 2.217051027031867\n"
     ]
    },
    {
     "name": "stderr",
     "output_type": "stream",
     "text": [
      "combination #5/30  16%|///////                                   |ETA:  0:00:00\r"
     ]
    },
    {
     "name": "stdout",
     "output_type": "stream",
     "text": [
      "[combine:0] selected predictions down via SRs from 196 to 11.\n",
      "[combine:0] sorting out subsets, reduced 132 -> 30 combinations.\n"
     ]
    },
    {
     "name": "stderr",
     "output_type": "stream",
     "text": [
      "combination #30/30 100%|||||||||||||||||||||||||||||||||||||||||||Time: 0:00:01\n"
     ]
    },
    {
     "name": "stdout",
     "output_type": "stream",
     "text": [
      "1379.591836734694 2.2452050366996614\n"
     ]
    },
    {
     "name": "stderr",
     "output_type": "stream",
     "text": [
      "combination #4/30  13%||||||                                     |ETA:  0:00:01\r"
     ]
    },
    {
     "name": "stdout",
     "output_type": "stream",
     "text": [
      "[combine:0] selected predictions down via SRs from 196 to 11.\n",
      "[combine:0] sorting out subsets, reduced 132 -> 30 combinations.\n"
     ]
    },
    {
     "name": "stderr",
     "output_type": "stream",
     "text": [
      "combination #30/30 100%|||||||||||||||||||||||||||||||||||||||||||Time: 0:00:02\n"
     ]
    },
    {
     "name": "stdout",
     "output_type": "stream",
     "text": [
      "1389.795918367347 2.134463043450171\n"
     ]
    },
    {
     "name": "stderr",
     "output_type": "stream",
     "text": [
      "combination #4/30  13%||||||                                     |ETA:  0:00:01\r"
     ]
    },
    {
     "name": "stdout",
     "output_type": "stream",
     "text": [
      "[combine:0] selected predictions down via SRs from 196 to 11.\n",
      "[combine:0] sorting out subsets, reduced 132 -> 30 combinations.\n"
     ]
    },
    {
     "name": "stderr",
     "output_type": "stream",
     "text": [
      "combination #30/30 100%|||||||||||||||||||||||||||||||||||||||||||Time: 0:00:02\r"
     ]
    },
    {
     "name": "stdout",
     "output_type": "stream",
     "text": [
      "1400.0 2.104655081690499\n"
     ]
    },
    {
     "name": "stderr",
     "output_type": "stream",
     "text": [
      "\n"
     ]
    }
   ],
   "source": [
    "mXt = np.linspace(900.,1400.,50)\n",
    "pList = []\n",
    "pred = Predictor(walkerid=0,dbpath='../official124_smodels200.pcl')\n",
    "for mass in mXt:\n",
    "    pnew = copy.deepcopy(protomodel)\n",
    "    pnew.masses[1000006] = mass\n",
    "    #Get predictions:\n",
    "    res = pred.predict(pnew)\n",
    "    pList.append(pnew)\n",
    "    print(mass,pnew.K)"
   ]
  },
  {
   "cell_type": "code",
   "execution_count": 139,
   "metadata": {},
   "outputs": [
    {
     "data": {
      "image/png": "[encoded data removed]",
      "text/plain": [
       "<Figure size 504x360 with 1 Axes>"
      ]
     },
     "metadata": {},
     "output_type": "display_data"
    }
   ],
   "source": [
    "fig = plt.figure(figsize=(7,5))\n",
    "kvalues = [pp.K for pp in pList]\n",
    "plt.plot(mXt,kvalues,'-',linewidth=3,c=colors[0])\n",
    "plt.scatter([protomodel.masses[1000006]],\n",
    "            [protomodel.K],\n",
    "            marker='^',s=250,label='proto-model',c=[colors[1]],zorder=10,alpha=1.0)\n",
    "plt.scatter([mXt[np.argmax(kvalues)]],[kvalues[np.argmax(kvalues)]],\n",
    "            marker='v',s=250,label='maximum K',c=[colors[2]],zorder=10,alpha=1.0)\n",
    "\n",
    "plt.xlabel(r'$m(X_t)$ (GeV)')\n",
    "plt.ylabel(r'$K$')\n",
    "plt.legend()\n",
    "plt.tight_layout()\n",
    "plt.savefig('KvsMXt.pdf')\n",
    "plt.show()"
   ]
  },
  {
   "cell_type": "code",
   "execution_count": 15,
   "metadata": {},
   "outputs": [
    {
     "name": "stderr",
     "output_type": "stream",
     "text": [
      "combination #2/42   4%|--                                        |ETA:  0:00:03\r"
     ]
    },
    {
     "name": "stdout",
     "output_type": "stream",
     "text": [
      "[combine:0] selected predictions down via SRs from 208 to 15.\n",
      "[combine:0] sorting out subsets, reduced 512 -> 42 combinations.\n"
     ]
    },
    {
     "name": "stderr",
     "output_type": "stream",
     "text": [
      "combination #42/42 100%|||||||||||||||||||||||||||||||||||||||||||Time: 0:00:03\n",
      "combination #1/42   2%|/                                         |ETA:  0:00:04\r"
     ]
    },
    {
     "name": "stdout",
     "output_type": "stream",
     "text": [
      "[combine:0] selected predictions down via SRs from 210 to 15.\n",
      "[combine:0] sorting out subsets, reduced 512 -> 42 combinations.\n"
     ]
    },
    {
     "name": "stderr",
     "output_type": "stream",
     "text": [
      "combination #42/42 100%|||||||||||||||||||||||||||||||||||||||||||Time: 0:00:04\n",
      "combination #1/42   2%|/                                         |ETA:  0:00:05\r"
     ]
    },
    {
     "name": "stdout",
     "output_type": "stream",
     "text": [
      "[combine:0] selected predictions down via SRs from 210 to 15.\n",
      "[combine:0] sorting out subsets, reduced 512 -> 42 combinations.\n"
     ]
    },
    {
     "name": "stderr",
     "output_type": "stream",
     "text": [
      "combination #42/42 100%|||||||||||||||||||||||||||||||||||||||||||Time: 0:00:04\n",
      "combination #1/42   2%|/                                         |ETA:  0:00:05\r"
     ]
    },
    {
     "name": "stdout",
     "output_type": "stream",
     "text": [
      "[combine:0] selected predictions down via SRs from 210 to 15.\n",
      "[combine:0] sorting out subsets, reduced 512 -> 42 combinations.\n"
     ]
    },
    {
     "name": "stderr",
     "output_type": "stream",
     "text": [
      "combination #42/42 100%|||||||||||||||||||||||||||||||||||||||||||Time: 0:00:04\n",
      "combination #1/42   2%|/                                         |ETA:  0:00:04\r"
     ]
    },
    {
     "name": "stdout",
     "output_type": "stream",
     "text": [
      "[combine:0] selected predictions down via SRs from 210 to 15.\n",
      "[combine:0] sorting out subsets, reduced 512 -> 42 combinations.\n"
     ]
    },
    {
     "name": "stderr",
     "output_type": "stream",
     "text": [
      "combination #42/42 100%|||||||||||||||||||||||||||||||||||||||||||Time: 0:00:04\n",
      "combination #2/42   4%|--                                        |ETA:  0:00:03\r"
     ]
    },
    {
     "name": "stdout",
     "output_type": "stream",
     "text": [
      "[combine:0] selected predictions down via SRs from 210 to 15.\n",
      "[combine:0] sorting out subsets, reduced 512 -> 42 combinations.\n"
     ]
    },
    {
     "name": "stderr",
     "output_type": "stream",
     "text": [
      "combination #42/42 100%|||||||||||||||||||||||||||||||||||||||||||Time: 0:00:04\n",
      "combination #1/42   2%|/                                         |ETA:  0:00:03\r"
     ]
    },
    {
     "name": "stdout",
     "output_type": "stream",
     "text": [
      "[combine:0] selected predictions down via SRs from 208 to 15.\n",
      "[combine:0] sorting out subsets, reduced 512 -> 42 combinations.\n"
     ]
    },
    {
     "name": "stderr",
     "output_type": "stream",
     "text": [
      "combination #42/42 100%|||||||||||||||||||||||||||||||||||||||||||Time: 0:00:04\n",
      "combination #1/42   2%|/                                         |ETA:  0:00:04\r"
     ]
    },
    {
     "name": "stdout",
     "output_type": "stream",
     "text": [
      "[combine:0] selected predictions down via SRs from 208 to 15.\n",
      "[combine:0] sorting out subsets, reduced 512 -> 42 combinations.\n"
     ]
    },
    {
     "name": "stderr",
     "output_type": "stream",
     "text": [
      "combination #42/42 100%|||||||||||||||||||||||||||||||||||||||||||Time: 0:00:05\n",
      "combination #1/42   2%|/                                         |ETA:  0:00:04\r"
     ]
    },
    {
     "name": "stdout",
     "output_type": "stream",
     "text": [
      "[combine:0] selected predictions down via SRs from 208 to 15.\n",
      "[combine:0] sorting out subsets, reduced 512 -> 42 combinations.\n"
     ]
    },
    {
     "name": "stderr",
     "output_type": "stream",
     "text": [
      "combination #42/42 100%|||||||||||||||||||||||||||||||||||||||||||Time: 0:00:04\n",
      "combination #2/42   4%|--                                        |ETA:  0:00:03\r"
     ]
    },
    {
     "name": "stdout",
     "output_type": "stream",
     "text": [
      "[combine:0] selected predictions down via SRs from 208 to 15.\n",
      "[combine:0] sorting out subsets, reduced 512 -> 42 combinations.\n"
     ]
    },
    {
     "name": "stderr",
     "output_type": "stream",
     "text": [
      "combination #42/42 100%|||||||||||||||||||||||||||||||||||||||||||Time: 0:00:03\n",
      "combination #2/42   4%|--                                        |ETA:  0:00:03\r"
     ]
    },
    {
     "name": "stdout",
     "output_type": "stream",
     "text": [
      "[combine:0] selected predictions down via SRs from 208 to 15.\n",
      "[combine:0] sorting out subsets, reduced 512 -> 42 combinations.\n"
     ]
    },
    {
     "name": "stderr",
     "output_type": "stream",
     "text": [
      "combination #42/42 100%|||||||||||||||||||||||||||||||||||||||||||Time: 0:00:03\n",
      "combination #2/42   4%|--                                        |ETA:  0:00:02\r"
     ]
    },
    {
     "name": "stdout",
     "output_type": "stream",
     "text": [
      "[combine:0] selected predictions down via SRs from 208 to 15.\n",
      "[combine:0] sorting out subsets, reduced 512 -> 42 combinations.\n"
     ]
    },
    {
     "name": "stderr",
     "output_type": "stream",
     "text": [
      "combination #42/42 100%|||||||||||||||||||||||||||||||||||||||||||Time: 0:00:03\n",
      "combination #3/48   6%|\\\\                                        |ETA:  0:00:02\r"
     ]
    },
    {
     "name": "stdout",
     "output_type": "stream",
     "text": [
      "[combine:0] selected predictions down via SRs from 208 to 15.\n",
      "[combine:0] sorting out subsets, reduced 416 -> 48 combinations.\n"
     ]
    },
    {
     "name": "stderr",
     "output_type": "stream",
     "text": [
      "combination #48/48 100%|||||||||||||||||||||||||||||||||||||||||||Time: 0:00:03\n",
      "combination #3/48   6%|\\\\                                        |ETA:  0:00:02\r"
     ]
    },
    {
     "name": "stdout",
     "output_type": "stream",
     "text": [
      "[combine:0] selected predictions down via SRs from 210 to 15.\n",
      "[combine:0] sorting out subsets, reduced 416 -> 48 combinations.\n"
     ]
    },
    {
     "name": "stderr",
     "output_type": "stream",
     "text": [
      "combination #48/48 100%|||||||||||||||||||||||||||||||||||||||||||Time: 0:00:03\n",
      "combination #3/48   6%|\\\\                                        |ETA:  0:00:02\r"
     ]
    },
    {
     "name": "stdout",
     "output_type": "stream",
     "text": [
      "[combine:0] selected predictions down via SRs from 210 to 15.\n",
      "[combine:0] sorting out subsets, reduced 416 -> 48 combinations.\n"
     ]
    },
    {
     "name": "stderr",
     "output_type": "stream",
     "text": [
      "combination #48/48 100%|||||||||||||||||||||||||||||||||||||||||||Time: 0:00:03\n",
      "combination #3/48   6%|\\\\                                        |ETA:  0:00:02\r"
     ]
    },
    {
     "name": "stdout",
     "output_type": "stream",
     "text": [
      "[combine:0] selected predictions down via SRs from 210 to 15.\n",
      "[combine:0] sorting out subsets, reduced 416 -> 48 combinations.\n"
     ]
    },
    {
     "name": "stderr",
     "output_type": "stream",
     "text": [
      "combination #48/48 100%|||||||||||||||||||||||||||||||||||||||||||Time: 0:00:03\n",
      "combination #3/48   6%|\\\\                                        |ETA:  0:00:02\r"
     ]
    },
    {
     "name": "stdout",
     "output_type": "stream",
     "text": [
      "[combine:0] selected predictions down via SRs from 210 to 15.\n",
      "[combine:0] sorting out subsets, reduced 416 -> 48 combinations.\n"
     ]
    },
    {
     "name": "stderr",
     "output_type": "stream",
     "text": [
      "combination #48/48 100%|||||||||||||||||||||||||||||||||||||||||||Time: 0:00:03\n",
      "combination #3/48   6%|\\\\                                        |ETA:  0:00:02\r"
     ]
    },
    {
     "name": "stdout",
     "output_type": "stream",
     "text": [
      "[combine:0] selected predictions down via SRs from 210 to 15.\n",
      "[combine:0] sorting out subsets, reduced 416 -> 48 combinations.\n"
     ]
    },
    {
     "name": "stderr",
     "output_type": "stream",
     "text": [
      "combination #48/48 100%|||||||||||||||||||||||||||||||||||||||||||Time: 0:00:03\n",
      "combination #3/48   6%|\\\\                                        |ETA:  0:00:02\r"
     ]
    },
    {
     "name": "stdout",
     "output_type": "stream",
     "text": [
      "[combine:0] selected predictions down via SRs from 210 to 15.\n",
      "[combine:0] sorting out subsets, reduced 416 -> 48 combinations.\n"
     ]
    },
    {
     "name": "stderr",
     "output_type": "stream",
     "text": [
      "combination #48/48 100%|||||||||||||||||||||||||||||||||||||||||||Time: 0:00:04\n",
      "combination #3/48   6%|\\\\                                        |ETA:  0:00:02\r"
     ]
    },
    {
     "name": "stdout",
     "output_type": "stream",
     "text": [
      "[combine:0] selected predictions down via SRs from 210 to 15.\n",
      "[combine:0] sorting out subsets, reduced 416 -> 48 combinations.\n"
     ]
    },
    {
     "name": "stderr",
     "output_type": "stream",
     "text": [
      "combination #48/48 100%|||||||||||||||||||||||||||||||||||||||||||Time: 0:00:03\n",
      "combination #3/48   6%|\\\\                                        |ETA:  0:00:01\r"
     ]
    },
    {
     "name": "stdout",
     "output_type": "stream",
     "text": [
      "[combine:0] selected predictions down via SRs from 210 to 15.\n",
      "[combine:0] sorting out subsets, reduced 416 -> 48 combinations.\n"
     ]
    },
    {
     "name": "stderr",
     "output_type": "stream",
     "text": [
      "combination #48/48 100%|||||||||||||||||||||||||||||||||||||||||||Time: 0:00:03\n",
      "combination #3/48   6%|\\\\                                        |ETA:  0:00:02\r"
     ]
    },
    {
     "name": "stdout",
     "output_type": "stream",
     "text": [
      "[combine:0] selected predictions down via SRs from 210 to 15.\n",
      "[combine:0] sorting out subsets, reduced 416 -> 48 combinations.\n"
     ]
    },
    {
     "name": "stderr",
     "output_type": "stream",
     "text": [
      "combination #48/48 100%|||||||||||||||||||||||||||||||||||||||||||Time: 0:00:03\n",
      "combination #3/48   6%|\\\\                                        |ETA:  0:00:02\r"
     ]
    },
    {
     "name": "stdout",
     "output_type": "stream",
     "text": [
      "[combine:0] selected predictions down via SRs from 210 to 15.\n",
      "[combine:0] sorting out subsets, reduced 416 -> 48 combinations.\n"
     ]
    },
    {
     "name": "stderr",
     "output_type": "stream",
     "text": [
      "combination #48/48 100%|||||||||||||||||||||||||||||||||||||||||||Time: 0:00:04\n",
      "combination #3/48   6%|\\\\                                        |ETA:  0:00:02\r"
     ]
    },
    {
     "name": "stdout",
     "output_type": "stream",
     "text": [
      "[combine:0] selected predictions down via SRs from 210 to 15.\n",
      "[combine:0] sorting out subsets, reduced 416 -> 48 combinations.\n"
     ]
    },
    {
     "name": "stderr",
     "output_type": "stream",
     "text": [
      "combination #48/48 100%|||||||||||||||||||||||||||||||||||||||||||Time: 0:00:04\n",
      "combination #3/48   6%|\\\\                                        |ETA:  0:00:02\r"
     ]
    },
    {
     "name": "stdout",
     "output_type": "stream",
     "text": [
      "[combine:0] selected predictions down via SRs from 210 to 15.\n",
      "[combine:0] sorting out subsets, reduced 416 -> 48 combinations.\n"
     ]
    },
    {
     "name": "stderr",
     "output_type": "stream",
     "text": [
      "combination #48/48 100%|||||||||||||||||||||||||||||||||||||||||||Time: 0:00:03\n",
      "combination #3/48   6%|\\\\                                        |ETA:  0:00:02\r"
     ]
    },
    {
     "name": "stdout",
     "output_type": "stream",
     "text": [
      "[combine:0] selected predictions down via SRs from 210 to 15.\n",
      "[combine:0] sorting out subsets, reduced 416 -> 48 combinations.\n"
     ]
    },
    {
     "name": "stderr",
     "output_type": "stream",
     "text": [
      "combination #48/48 100%|||||||||||||||||||||||||||||||||||||||||||Time: 0:00:04\n",
      "combination #3/48   6%|\\\\                                        |ETA:  0:00:02\r"
     ]
    },
    {
     "name": "stdout",
     "output_type": "stream",
     "text": [
      "[combine:0] selected predictions down via SRs from 210 to 15.\n",
      "[combine:0] sorting out subsets, reduced 416 -> 48 combinations.\n"
     ]
    },
    {
     "name": "stderr",
     "output_type": "stream",
     "text": [
      "combination #48/48 100%|||||||||||||||||||||||||||||||||||||||||||Time: 0:00:03\n",
      "combination #3/48   6%|\\\\                                        |ETA:  0:00:02\r"
     ]
    },
    {
     "name": "stdout",
     "output_type": "stream",
     "text": [
      "[combine:0] selected predictions down via SRs from 210 to 15.\n",
      "[combine:0] sorting out subsets, reduced 416 -> 48 combinations.\n"
     ]
    },
    {
     "name": "stderr",
     "output_type": "stream",
     "text": [
      "combination #48/48 100%|||||||||||||||||||||||||||||||||||||||||||Time: 0:00:03\n",
      "combination #3/48   6%|\\\\                                        |ETA:  0:00:01\r"
     ]
    },
    {
     "name": "stdout",
     "output_type": "stream",
     "text": [
      "[combine:0] selected predictions down via SRs from 210 to 15.\n",
      "[combine:0] sorting out subsets, reduced 416 -> 48 combinations.\n"
     ]
    },
    {
     "name": "stderr",
     "output_type": "stream",
     "text": [
      "combination #48/48 100%|||||||||||||||||||||||||||||||||||||||||||Time: 0:00:04\n",
      "combination #3/48   6%|\\\\                                        |ETA:  0:00:02\r"
     ]
    },
    {
     "name": "stdout",
     "output_type": "stream",
     "text": [
      "[combine:0] selected predictions down via SRs from 210 to 15.\n",
      "[combine:0] sorting out subsets, reduced 416 -> 48 combinations.\n"
     ]
    },
    {
     "name": "stderr",
     "output_type": "stream",
     "text": [
      "combination #48/48 100%|||||||||||||||||||||||||||||||||||||||||||Time: 0:00:03\n",
      "combination #3/48   6%|\\\\                                        |ETA:  0:00:01\r"
     ]
    },
    {
     "name": "stdout",
     "output_type": "stream",
     "text": [
      "[combine:0] selected predictions down via SRs from 210 to 15.\n",
      "[combine:0] sorting out subsets, reduced 416 -> 48 combinations.\n"
     ]
    },
    {
     "name": "stderr",
     "output_type": "stream",
     "text": [
      "combination #48/48 100%|||||||||||||||||||||||||||||||||||||||||||Time: 0:00:03\n",
      "combination #3/48   6%|\\\\                                        |ETA:  0:00:02\r"
     ]
    },
    {
     "name": "stdout",
     "output_type": "stream",
     "text": [
      "[combine:0] selected predictions down via SRs from 208 to 15.\n",
      "[combine:0] sorting out subsets, reduced 416 -> 48 combinations.\n"
     ]
    },
    {
     "name": "stderr",
     "output_type": "stream",
     "text": [
      "combination #48/48 100%|||||||||||||||||||||||||||||||||||||||||||Time: 0:00:03\n",
      "combination #3/48   6%|\\\\                                        |ETA:  0:00:02\r"
     ]
    },
    {
     "name": "stdout",
     "output_type": "stream",
     "text": [
      "[combine:0] selected predictions down via SRs from 208 to 15.\n",
      "[combine:0] sorting out subsets, reduced 416 -> 48 combinations.\n"
     ]
    },
    {
     "name": "stderr",
     "output_type": "stream",
     "text": [
      "combination #48/48 100%|||||||||||||||||||||||||||||||||||||||||||Time: 0:00:04\n",
      "combination #3/48   6%|\\\\                                        |ETA:  0:00:02\r"
     ]
    },
    {
     "name": "stdout",
     "output_type": "stream",
     "text": [
      "[combine:0] selected predictions down via SRs from 210 to 15.\n",
      "[combine:0] sorting out subsets, reduced 416 -> 48 combinations.\n"
     ]
    },
    {
     "name": "stderr",
     "output_type": "stream",
     "text": [
      "combination #48/48 100%|||||||||||||||||||||||||||||||||||||||||||Time: 0:00:03\n",
      "combination #3/48   6%|\\\\                                        |ETA:  0:00:02\r"
     ]
    },
    {
     "name": "stdout",
     "output_type": "stream",
     "text": [
      "[combine:0] selected predictions down via SRs from 210 to 15.\n",
      "[combine:0] sorting out subsets, reduced 416 -> 48 combinations.\n"
     ]
    },
    {
     "name": "stderr",
     "output_type": "stream",
     "text": [
      "combination #48/48 100%|||||||||||||||||||||||||||||||||||||||||||Time: 0:00:04\n",
      "combination #3/48   6%|\\\\                                        |ETA:  0:00:02\r"
     ]
    },
    {
     "name": "stdout",
     "output_type": "stream",
     "text": [
      "[combine:0] selected predictions down via SRs from 210 to 15.\n",
      "[combine:0] sorting out subsets, reduced 416 -> 48 combinations.\n"
     ]
    },
    {
     "name": "stderr",
     "output_type": "stream",
     "text": [
      "combination #48/48 100%|||||||||||||||||||||||||||||||||||||||||||Time: 0:00:05\n",
      "combination #3/48   6%|\\\\                                        |ETA:  0:00:01\r"
     ]
    },
    {
     "name": "stdout",
     "output_type": "stream",
     "text": [
      "[combine:0] selected predictions down via SRs from 208 to 15.\n",
      "[combine:0] sorting out subsets, reduced 416 -> 48 combinations.\n"
     ]
    },
    {
     "name": "stderr",
     "output_type": "stream",
     "text": [
      "combination #48/48 100%|||||||||||||||||||||||||||||||||||||||||||Time: 0:00:03\n",
      "combination #3/48   6%|\\\\                                        |ETA:  0:00:02\r"
     ]
    },
    {
     "name": "stdout",
     "output_type": "stream",
     "text": [
      "[combine:0] selected predictions down via SRs from 208 to 15.\n",
      "[combine:0] sorting out subsets, reduced 416 -> 48 combinations.\n"
     ]
    },
    {
     "name": "stderr",
     "output_type": "stream",
     "text": [
      "combination #48/48 100%|||||||||||||||||||||||||||||||||||||||||||Time: 0:00:03\n",
      "combination #3/48   6%|\\\\                                        |ETA:  0:00:02\r"
     ]
    },
    {
     "name": "stdout",
     "output_type": "stream",
     "text": [
      "[combine:0] selected predictions down via SRs from 208 to 15.\n",
      "[combine:0] sorting out subsets, reduced 416 -> 48 combinations.\n"
     ]
    },
    {
     "name": "stderr",
     "output_type": "stream",
     "text": [
      "combination #48/48 100%|||||||||||||||||||||||||||||||||||||||||||Time: 0:00:03\n",
      "combination #3/48   6%|\\\\                                        |ETA:  0:00:02\r"
     ]
    },
    {
     "name": "stdout",
     "output_type": "stream",
     "text": [
      "[combine:0] selected predictions down via SRs from 208 to 15.\n",
      "[combine:0] sorting out subsets, reduced 416 -> 48 combinations.\n"
     ]
    },
    {
     "name": "stderr",
     "output_type": "stream",
     "text": [
      "combination #48/48 100%|||||||||||||||||||||||||||||||||||||||||||Time: 0:00:04\n",
      "combination #3/48   6%|\\\\                                        |ETA:  0:00:02\r"
     ]
    },
    {
     "name": "stdout",
     "output_type": "stream",
     "text": [
      "[combine:0] selected predictions down via SRs from 202 to 15.\n",
      "[combine:0] sorting out subsets, reduced 416 -> 48 combinations.\n"
     ]
    },
    {
     "name": "stderr",
     "output_type": "stream",
     "text": [
      "combination #48/48 100%|||||||||||||||||||||||||||||||||||||||||||Time: 0:00:03\n",
      "combination #3/48   6%|\\\\                                        |ETA:  0:00:02\r"
     ]
    },
    {
     "name": "stdout",
     "output_type": "stream",
     "text": [
      "[combine:0] selected predictions down via SRs from 204 to 15.\n",
      "[combine:0] sorting out subsets, reduced 416 -> 48 combinations.\n"
     ]
    },
    {
     "name": "stderr",
     "output_type": "stream",
     "text": [
      "combination #48/48 100%|||||||||||||||||||||||||||||||||||||||||||Time: 0:00:04\n",
      "combination #2/48   4%|-                                         |ETA:  0:00:03\r"
     ]
    },
    {
     "name": "stdout",
     "output_type": "stream",
     "text": [
      "[combine:0] selected predictions down via SRs from 204 to 15.\n",
      "[combine:0] sorting out subsets, reduced 416 -> 48 combinations.\n"
     ]
    },
    {
     "name": "stderr",
     "output_type": "stream",
     "text": [
      "combination #48/48 100%|||||||||||||||||||||||||||||||||||||||||||Time: 0:00:03\n",
      "combination #2/48   4%|-                                         |ETA:  0:00:03\r"
     ]
    },
    {
     "name": "stdout",
     "output_type": "stream",
     "text": [
      "[combine:0] selected predictions down via SRs from 210 to 15.\n",
      "[combine:0] sorting out subsets, reduced 416 -> 48 combinations.\n"
     ]
    },
    {
     "name": "stderr",
     "output_type": "stream",
     "text": [
      "combination #48/48 100%|||||||||||||||||||||||||||||||||||||||||||Time: 0:00:04\n",
      "combination #3/48   6%|\\\\                                        |ETA:  0:00:02\r"
     ]
    },
    {
     "name": "stdout",
     "output_type": "stream",
     "text": [
      "[combine:0] selected predictions down via SRs from 210 to 15.\n",
      "[combine:0] sorting out subsets, reduced 416 -> 48 combinations.\n"
     ]
    },
    {
     "name": "stderr",
     "output_type": "stream",
     "text": [
      "combination #48/48 100%|||||||||||||||||||||||||||||||||||||||||||Time: 0:00:03\n",
      "combination #2/42   4%|--                                        |ETA:  0:00:03\r"
     ]
    },
    {
     "name": "stdout",
     "output_type": "stream",
     "text": [
      "[combine:0] selected predictions down via SRs from 210 to 15.\n",
      "[combine:0] sorting out subsets, reduced 512 -> 42 combinations.\n"
     ]
    },
    {
     "name": "stderr",
     "output_type": "stream",
     "text": [
      "combination #42/42 100%|||||||||||||||||||||||||||||||||||||||||||Time: 0:00:03\n",
      "combination #2/42   4%|--                                        |ETA:  0:00:03\r"
     ]
    },
    {
     "name": "stdout",
     "output_type": "stream",
     "text": [
      "[combine:0] selected predictions down via SRs from 210 to 15.\n",
      "[combine:0] sorting out subsets, reduced 512 -> 42 combinations.\n"
     ]
    },
    {
     "name": "stderr",
     "output_type": "stream",
     "text": [
      "combination #42/42 100%|||||||||||||||||||||||||||||||||||||||||||Time: 0:00:03\n",
      "combination #2/42   4%|--                                        |ETA:  0:00:03\r"
     ]
    },
    {
     "name": "stdout",
     "output_type": "stream",
     "text": [
      "[combine:0] selected predictions down via SRs from 210 to 15.\n",
      "[combine:0] sorting out subsets, reduced 512 -> 42 combinations.\n"
     ]
    },
    {
     "name": "stderr",
     "output_type": "stream",
     "text": [
      "combination #42/42 100%|||||||||||||||||||||||||||||||||||||||||||Time: 0:00:03\n",
      "combination #2/42   4%|--                                        |ETA:  0:00:03\r"
     ]
    },
    {
     "name": "stdout",
     "output_type": "stream",
     "text": [
      "[combine:0] selected predictions down via SRs from 210 to 15.\n",
      "[combine:0] sorting out subsets, reduced 512 -> 42 combinations.\n"
     ]
    },
    {
     "name": "stderr",
     "output_type": "stream",
     "text": [
      "combination #42/42 100%|||||||||||||||||||||||||||||||||||||||||||Time: 0:00:03\n",
      "combination #2/42   4%|--                                        |ETA:  0:00:03\r"
     ]
    },
    {
     "name": "stdout",
     "output_type": "stream",
     "text": [
      "[combine:0] selected predictions down via SRs from 210 to 15.\n",
      "[combine:0] sorting out subsets, reduced 512 -> 42 combinations.\n"
     ]
    },
    {
     "name": "stderr",
     "output_type": "stream",
     "text": [
      "combination #42/42 100%|||||||||||||||||||||||||||||||||||||||||||Time: 0:00:05\n"
     ]
    }
   ],
   "source": [
    "mZ = np.linspace(100.,400.,50)\n",
    "pList2 = []\n",
    "pred = Predictor(walkerid=0,dbpath='../official124_smodels200.pcl')\n",
    "for mass in mZ:\n",
    "    pnew = copy.deepcopy(protomodel)\n",
    "    pnew.masses[1000022] = mass\n",
    "    #Get predictions:\n",
    "    res = pred.predict(pnew)\n",
    "    pList2.append(pnew)"
   ]
  },
  {
   "cell_type": "code",
   "execution_count": 137,
   "metadata": {},
   "outputs": [
    {
     "data": {
      "image/png": "[encoded data removed]",
      "text/plain": [
       "<Figure size 504x360 with 1 Axes>"
      ]
     },
     "metadata": {},
     "output_type": "display_data"
    }
   ],
   "source": [
    "fig = plt.figure(figsize=(7,5))\n",
    "kvalues = [pp.K for pp in pList2]\n",
    "plt.plot(mZ,kvalues,'-',linewidth=3,c=colors[0])\n",
    "plt.scatter([protomodel.masses[1000022]],\n",
    "            [protomodel.K],\n",
    "            marker='^',s=250,label='proto-model',c=[colors[1]],zorder=10,alpha=1.0)\n",
    "plt.scatter([mZ[np.argmax(kvalues)]],[kvalues[np.argmax(kvalues)]],\n",
    "            marker='v',s=250,label='maximum K',c=[colors[2]],zorder=10,alpha=1.0)\n",
    "\n",
    "plt.xlabel(r'$m(X_Z^1)$ (GeV)')\n",
    "plt.ylabel(r'$K$')\n",
    "plt.legend()\n",
    "plt.tight_layout()\n",
    "plt.savefig('KvsMZ.pdf')\n",
    "plt.show()"
   ]
  },
  {
   "cell_type": "code",
   "execution_count": 18,
   "metadata": {},
   "outputs": [
    {
     "name": "stderr",
     "output_type": "stream",
     "text": [
      "combination #2/48   4%|-                                         |ETA:  0:00:03\r"
     ]
    },
    {
     "name": "stdout",
     "output_type": "stream",
     "text": [
      "[combine:0] selected predictions down via SRs from 208 to 15.\n",
      "[combine:0] sorting out subsets, reduced 416 -> 48 combinations.\n"
     ]
    },
    {
     "name": "stderr",
     "output_type": "stream",
     "text": [
      "combination #48/48 100%|||||||||||||||||||||||||||||||||||||||||||Time: 0:00:05\n",
      "combination #3/48   6%|\\\\                                        |ETA:  0:00:02\r"
     ]
    },
    {
     "name": "stdout",
     "output_type": "stream",
     "text": [
      "[combine:0] selected predictions down via SRs from 208 to 15.\n",
      "[combine:0] sorting out subsets, reduced 416 -> 48 combinations.\n"
     ]
    },
    {
     "name": "stderr",
     "output_type": "stream",
     "text": [
      "combination #48/48 100%|||||||||||||||||||||||||||||||||||||||||||Time: 0:00:04\n",
      "combination #3/48   6%|\\\\                                        |ETA:  0:00:02\r"
     ]
    },
    {
     "name": "stdout",
     "output_type": "stream",
     "text": [
      "[combine:0] selected predictions down via SRs from 208 to 15.\n",
      "[combine:0] sorting out subsets, reduced 416 -> 48 combinations.\n"
     ]
    },
    {
     "name": "stderr",
     "output_type": "stream",
     "text": [
      "combination #48/48 100%|||||||||||||||||||||||||||||||||||||||||||Time: 0:00:04\n",
      "combination #3/48   6%|\\\\                                        |ETA:  0:00:02\r"
     ]
    },
    {
     "name": "stdout",
     "output_type": "stream",
     "text": [
      "[combine:0] selected predictions down via SRs from 208 to 15.\n",
      "[combine:0] sorting out subsets, reduced 416 -> 48 combinations.\n"
     ]
    },
    {
     "name": "stderr",
     "output_type": "stream",
     "text": [
      "combination #48/48 100%|||||||||||||||||||||||||||||||||||||||||||Time: 0:00:03\n",
      "combination #3/48   6%|\\\\                                        |ETA:  0:00:02\r"
     ]
    },
    {
     "name": "stdout",
     "output_type": "stream",
     "text": [
      "[combine:0] selected predictions down via SRs from 208 to 15.\n",
      "[combine:0] sorting out subsets, reduced 416 -> 48 combinations.\n"
     ]
    },
    {
     "name": "stderr",
     "output_type": "stream",
     "text": [
      "combination #48/48 100%|||||||||||||||||||||||||||||||||||||||||||Time: 0:00:03\n",
      "combination #3/48   6%|\\\\                                        |ETA:  0:00:02\r"
     ]
    },
    {
     "name": "stdout",
     "output_type": "stream",
     "text": [
      "[combine:0] selected predictions down via SRs from 208 to 15.\n",
      "[combine:0] sorting out subsets, reduced 416 -> 48 combinations.\n"
     ]
    },
    {
     "name": "stderr",
     "output_type": "stream",
     "text": [
      "combination #48/48 100%|||||||||||||||||||||||||||||||||||||||||||Time: 0:00:03\n",
      "combination #3/48   6%|\\\\                                        |ETA:  0:00:02\r"
     ]
    },
    {
     "name": "stdout",
     "output_type": "stream",
     "text": [
      "[combine:0] selected predictions down via SRs from 208 to 15.\n",
      "[combine:0] sorting out subsets, reduced 416 -> 48 combinations.\n"
     ]
    },
    {
     "name": "stderr",
     "output_type": "stream",
     "text": [
      "combination #48/48 100%|||||||||||||||||||||||||||||||||||||||||||Time: 0:00:04\n",
      "combination #3/48   6%|\\\\                                        |ETA:  0:00:02\r"
     ]
    },
    {
     "name": "stdout",
     "output_type": "stream",
     "text": [
      "[combine:0] selected predictions down via SRs from 208 to 15.\n",
      "[combine:0] sorting out subsets, reduced 416 -> 48 combinations.\n"
     ]
    },
    {
     "name": "stderr",
     "output_type": "stream",
     "text": [
      "combination #48/48 100%|||||||||||||||||||||||||||||||||||||||||||Time: 0:00:04\n",
      "combination #3/48   6%|\\\\                                        |ETA:  0:00:02\r"
     ]
    },
    {
     "name": "stdout",
     "output_type": "stream",
     "text": [
      "[combine:0] selected predictions down via SRs from 208 to 15.\n",
      "[combine:0] sorting out subsets, reduced 416 -> 48 combinations.\n"
     ]
    },
    {
     "name": "stderr",
     "output_type": "stream",
     "text": [
      "combination #48/48 100%|||||||||||||||||||||||||||||||||||||||||||Time: 0:00:04\n",
      "combination #3/48   6%|\\\\                                        |ETA:  0:00:02\r"
     ]
    },
    {
     "name": "stdout",
     "output_type": "stream",
     "text": [
      "[combine:0] selected predictions down via SRs from 208 to 15.\n",
      "[combine:0] sorting out subsets, reduced 416 -> 48 combinations.\n"
     ]
    },
    {
     "name": "stderr",
     "output_type": "stream",
     "text": [
      "combination #48/48 100%|||||||||||||||||||||||||||||||||||||||||||Time: 0:00:03\n",
      "combination #3/48   6%|\\\\                                        |ETA:  0:00:02\r"
     ]
    },
    {
     "name": "stdout",
     "output_type": "stream",
     "text": [
      "[combine:0] selected predictions down via SRs from 208 to 15.\n",
      "[combine:0] sorting out subsets, reduced 416 -> 48 combinations.\n"
     ]
    },
    {
     "name": "stderr",
     "output_type": "stream",
     "text": [
      "combination #48/48 100%|||||||||||||||||||||||||||||||||||||||||||Time: 0:00:03\n",
      "combination #2/48   4%|-                                         |ETA:  0:00:03\r"
     ]
    },
    {
     "name": "stdout",
     "output_type": "stream",
     "text": [
      "[combine:0] selected predictions down via SRs from 208 to 15.\n",
      "[combine:0] sorting out subsets, reduced 416 -> 48 combinations.\n"
     ]
    },
    {
     "name": "stderr",
     "output_type": "stream",
     "text": [
      "combination #48/48 100%|||||||||||||||||||||||||||||||||||||||||||Time: 0:00:05\n",
      "combination #2/48   4%|-                                         |ETA:  0:00:03\r"
     ]
    },
    {
     "name": "stdout",
     "output_type": "stream",
     "text": [
      "[combine:0] selected predictions down via SRs from 210 to 15.\n",
      "[combine:0] sorting out subsets, reduced 416 -> 48 combinations.\n"
     ]
    },
    {
     "name": "stderr",
     "output_type": "stream",
     "text": [
      "combination #48/48 100%|||||||||||||||||||||||||||||||||||||||||||Time: 0:00:04\n",
      "combination #3/48   6%|\\\\                                        |ETA:  0:00:02\r"
     ]
    },
    {
     "name": "stdout",
     "output_type": "stream",
     "text": [
      "[combine:0] selected predictions down via SRs from 208 to 15.\n",
      "[combine:0] sorting out subsets, reduced 416 -> 48 combinations.\n"
     ]
    },
    {
     "name": "stderr",
     "output_type": "stream",
     "text": [
      "combination #48/48 100%|||||||||||||||||||||||||||||||||||||||||||Time: 0:00:03\n",
      "combination #3/48   6%|\\\\                                        |ETA:  0:00:02\r"
     ]
    },
    {
     "name": "stdout",
     "output_type": "stream",
     "text": [
      "[combine:0] selected predictions down via SRs from 208 to 15.\n",
      "[combine:0] sorting out subsets, reduced 416 -> 48 combinations.\n"
     ]
    },
    {
     "name": "stderr",
     "output_type": "stream",
     "text": [
      "combination #48/48 100%|||||||||||||||||||||||||||||||||||||||||||Time: 0:00:04\n",
      "combination #2/42   4%|--                                        |ETA:  0:00:02\r"
     ]
    },
    {
     "name": "stdout",
     "output_type": "stream",
     "text": [
      "[combine:0] selected predictions down via SRs from 208 to 15.\n",
      "[combine:0] sorting out subsets, reduced 512 -> 42 combinations.\n"
     ]
    },
    {
     "name": "stderr",
     "output_type": "stream",
     "text": [
      "combination #42/42 100%|||||||||||||||||||||||||||||||||||||||||||Time: 0:00:03\n",
      "combination #2/42   4%|--                                        |ETA:  0:00:03\r"
     ]
    },
    {
     "name": "stdout",
     "output_type": "stream",
     "text": [
      "[combine:0] selected predictions down via SRs from 208 to 15.\n",
      "[combine:0] sorting out subsets, reduced 512 -> 42 combinations.\n"
     ]
    },
    {
     "name": "stderr",
     "output_type": "stream",
     "text": [
      "combination #42/42 100%|||||||||||||||||||||||||||||||||||||||||||Time: 0:00:03\n",
      "combination #2/42   4%|--                                        |ETA:  0:00:02\r"
     ]
    },
    {
     "name": "stdout",
     "output_type": "stream",
     "text": [
      "[combine:0] selected predictions down via SRs from 208 to 15.\n",
      "[combine:0] sorting out subsets, reduced 512 -> 42 combinations.\n"
     ]
    },
    {
     "name": "stderr",
     "output_type": "stream",
     "text": [
      "combination #42/42 100%|||||||||||||||||||||||||||||||||||||||||||Time: 0:00:03\n",
      "combination #2/42   4%|--                                        |ETA:  0:00:03\r"
     ]
    },
    {
     "name": "stdout",
     "output_type": "stream",
     "text": [
      "[combine:0] selected predictions down via SRs from 208 to 15.\n",
      "[combine:0] sorting out subsets, reduced 512 -> 42 combinations.\n"
     ]
    },
    {
     "name": "stderr",
     "output_type": "stream",
     "text": [
      "combination #42/42 100%|||||||||||||||||||||||||||||||||||||||||||Time: 0:00:03\n",
      "combination #2/42   4%|--                                        |ETA:  0:00:03\r"
     ]
    },
    {
     "name": "stdout",
     "output_type": "stream",
     "text": [
      "[combine:0] selected predictions down via SRs from 210 to 15.\n",
      "[combine:0] sorting out subsets, reduced 512 -> 42 combinations.\n"
     ]
    },
    {
     "name": "stderr",
     "output_type": "stream",
     "text": [
      "combination #42/42 100%|||||||||||||||||||||||||||||||||||||||||||Time: 0:00:03\n",
      "combination #2/42   4%|--                                        |ETA:  0:00:03\r"
     ]
    },
    {
     "name": "stdout",
     "output_type": "stream",
     "text": [
      "[combine:0] selected predictions down via SRs from 208 to 15.\n",
      "[combine:0] sorting out subsets, reduced 512 -> 42 combinations.\n"
     ]
    },
    {
     "name": "stderr",
     "output_type": "stream",
     "text": [
      "combination #42/42 100%|||||||||||||||||||||||||||||||||||||||||||Time: 0:00:03\n",
      "combination #2/42   4%|--                                        |ETA:  0:00:03\r"
     ]
    },
    {
     "name": "stdout",
     "output_type": "stream",
     "text": [
      "[combine:0] selected predictions down via SRs from 208 to 15.\n",
      "[combine:0] sorting out subsets, reduced 512 -> 42 combinations.\n"
     ]
    },
    {
     "name": "stderr",
     "output_type": "stream",
     "text": [
      "combination #42/42 100%|||||||||||||||||||||||||||||||||||||||||||Time: 0:00:03\n",
      "combination #2/42   4%|--                                        |ETA:  0:00:03\r"
     ]
    },
    {
     "name": "stdout",
     "output_type": "stream",
     "text": [
      "[combine:0] selected predictions down via SRs from 208 to 15.\n",
      "[combine:0] sorting out subsets, reduced 512 -> 42 combinations.\n"
     ]
    },
    {
     "name": "stderr",
     "output_type": "stream",
     "text": [
      "combination #42/42 100%|||||||||||||||||||||||||||||||||||||||||||Time: 0:00:03\n",
      "combination #2/42   4%|--                                        |ETA:  0:00:03\r"
     ]
    },
    {
     "name": "stdout",
     "output_type": "stream",
     "text": [
      "[combine:0] selected predictions down via SRs from 208 to 15.\n",
      "[combine:0] sorting out subsets, reduced 512 -> 42 combinations.\n"
     ]
    },
    {
     "name": "stderr",
     "output_type": "stream",
     "text": [
      "combination #42/42 100%|||||||||||||||||||||||||||||||||||||||||||Time: 0:00:04\n",
      "combination #2/42   4%|--                                        |ETA:  0:00:03\r"
     ]
    },
    {
     "name": "stdout",
     "output_type": "stream",
     "text": [
      "[combine:0] selected predictions down via SRs from 208 to 15.\n",
      "[combine:0] sorting out subsets, reduced 512 -> 42 combinations.\n"
     ]
    },
    {
     "name": "stderr",
     "output_type": "stream",
     "text": [
      "combination #42/42 100%|||||||||||||||||||||||||||||||||||||||||||Time: 0:00:03\n",
      "combination #2/42   4%|--                                        |ETA:  0:00:03\r"
     ]
    },
    {
     "name": "stdout",
     "output_type": "stream",
     "text": [
      "[combine:0] selected predictions down via SRs from 208 to 15.\n",
      "[combine:0] sorting out subsets, reduced 512 -> 42 combinations.\n"
     ]
    },
    {
     "name": "stderr",
     "output_type": "stream",
     "text": [
      "combination #42/42 100%|||||||||||||||||||||||||||||||||||||||||||Time: 0:00:04\n",
      "combination #2/42   4%|--                                        |ETA:  0:00:03\r"
     ]
    },
    {
     "name": "stdout",
     "output_type": "stream",
     "text": [
      "[combine:0] selected predictions down via SRs from 208 to 15.\n",
      "[combine:0] sorting out subsets, reduced 512 -> 42 combinations.\n"
     ]
    },
    {
     "name": "stderr",
     "output_type": "stream",
     "text": [
      "combination #42/42 100%|||||||||||||||||||||||||||||||||||||||||||Time: 0:00:03\n",
      "combination #2/42   4%|--                                        |ETA:  0:00:02\r"
     ]
    },
    {
     "name": "stdout",
     "output_type": "stream",
     "text": [
      "[combine:0] selected predictions down via SRs from 208 to 15.\n",
      "[combine:0] sorting out subsets, reduced 512 -> 42 combinations.\n"
     ]
    },
    {
     "name": "stderr",
     "output_type": "stream",
     "text": [
      "combination #42/42 100%|||||||||||||||||||||||||||||||||||||||||||Time: 0:00:03\n",
      "combination #2/42   4%|--                                        |ETA:  0:00:03\r"
     ]
    },
    {
     "name": "stdout",
     "output_type": "stream",
     "text": [
      "[combine:0] selected predictions down via SRs from 208 to 15.\n",
      "[combine:0] sorting out subsets, reduced 512 -> 42 combinations.\n"
     ]
    },
    {
     "name": "stderr",
     "output_type": "stream",
     "text": [
      "combination #42/42 100%|||||||||||||||||||||||||||||||||||||||||||Time: 0:00:03\n",
      "combination #2/42   4%|--                                        |ETA:  0:00:03\r"
     ]
    },
    {
     "name": "stdout",
     "output_type": "stream",
     "text": [
      "[combine:0] selected predictions down via SRs from 208 to 15.\n",
      "[combine:0] sorting out subsets, reduced 512 -> 42 combinations.\n"
     ]
    },
    {
     "name": "stderr",
     "output_type": "stream",
     "text": [
      "combination #42/42 100%|||||||||||||||||||||||||||||||||||||||||||Time: 0:00:03\n",
      "combination #2/42   4%|--                                        |ETA:  0:00:03\r"
     ]
    },
    {
     "name": "stdout",
     "output_type": "stream",
     "text": [
      "[combine:0] selected predictions down via SRs from 208 to 15.\n",
      "[combine:0] sorting out subsets, reduced 512 -> 42 combinations.\n"
     ]
    },
    {
     "name": "stderr",
     "output_type": "stream",
     "text": [
      "combination #42/42 100%|||||||||||||||||||||||||||||||||||||||||||Time: 0:00:03\n",
      "combination #1/42   2%|/                                         |ETA:  0:00:04\r"
     ]
    },
    {
     "name": "stdout",
     "output_type": "stream",
     "text": [
      "[combine:0] selected predictions down via SRs from 210 to 15.\n",
      "[combine:0] sorting out subsets, reduced 512 -> 42 combinations.\n"
     ]
    },
    {
     "name": "stderr",
     "output_type": "stream",
     "text": [
      "combination #42/42 100%|||||||||||||||||||||||||||||||||||||||||||Time: 0:00:04\n",
      "combination #2/42   4%|--                                        |ETA:  0:00:03\r"
     ]
    },
    {
     "name": "stdout",
     "output_type": "stream",
     "text": [
      "[combine:0] selected predictions down via SRs from 210 to 15.\n",
      "[combine:0] sorting out subsets, reduced 512 -> 42 combinations.\n"
     ]
    },
    {
     "name": "stderr",
     "output_type": "stream",
     "text": [
      "combination #42/42 100%|||||||||||||||||||||||||||||||||||||||||||Time: 0:00:04\n",
      "combination #2/42   4%|--                                        |ETA:  0:00:03\r"
     ]
    },
    {
     "name": "stdout",
     "output_type": "stream",
     "text": [
      "[combine:0] selected predictions down via SRs from 210 to 15.\n",
      "[combine:0] sorting out subsets, reduced 512 -> 42 combinations.\n"
     ]
    },
    {
     "name": "stderr",
     "output_type": "stream",
     "text": [
      "combination #42/42 100%|||||||||||||||||||||||||||||||||||||||||||Time: 0:00:03\n",
      "combination #2/42   4%|--                                        |ETA:  0:00:02\r"
     ]
    },
    {
     "name": "stdout",
     "output_type": "stream",
     "text": [
      "[combine:0] selected predictions down via SRs from 210 to 15.\n",
      "[combine:0] sorting out subsets, reduced 512 -> 42 combinations.\n"
     ]
    },
    {
     "name": "stderr",
     "output_type": "stream",
     "text": [
      "combination #42/42 100%|||||||||||||||||||||||||||||||||||||||||||Time: 0:00:04\n",
      "combination #2/42   4%|--                                        |ETA:  0:00:03\r"
     ]
    },
    {
     "name": "stdout",
     "output_type": "stream",
     "text": [
      "[combine:0] selected predictions down via SRs from 210 to 15.\n",
      "[combine:0] sorting out subsets, reduced 512 -> 42 combinations.\n"
     ]
    },
    {
     "name": "stderr",
     "output_type": "stream",
     "text": [
      "combination #42/42 100%|||||||||||||||||||||||||||||||||||||||||||Time: 0:00:03\n",
      "combination #2/42   4%|--                                        |ETA:  0:00:02\r"
     ]
    },
    {
     "name": "stdout",
     "output_type": "stream",
     "text": [
      "[combine:0] selected predictions down via SRs from 210 to 15.\n",
      "[combine:0] sorting out subsets, reduced 512 -> 42 combinations.\n"
     ]
    },
    {
     "name": "stderr",
     "output_type": "stream",
     "text": [
      "combination #42/42 100%|||||||||||||||||||||||||||||||||||||||||||Time: 0:00:03\n",
      "combination #2/42   4%|--                                        |ETA:  0:00:03\r"
     ]
    },
    {
     "name": "stdout",
     "output_type": "stream",
     "text": [
      "[combine:0] selected predictions down via SRs from 210 to 15.\n",
      "[combine:0] sorting out subsets, reduced 512 -> 42 combinations.\n"
     ]
    },
    {
     "name": "stderr",
     "output_type": "stream",
     "text": [
      "combination #42/42 100%|||||||||||||||||||||||||||||||||||||||||||Time: 0:00:03\n",
      "combination #2/42   4%|--                                        |ETA:  0:00:02\r"
     ]
    },
    {
     "name": "stdout",
     "output_type": "stream",
     "text": [
      "[combine:0] selected predictions down via SRs from 210 to 15.\n",
      "[combine:0] sorting out subsets, reduced 512 -> 42 combinations.\n"
     ]
    },
    {
     "name": "stderr",
     "output_type": "stream",
     "text": [
      "combination #42/42 100%|||||||||||||||||||||||||||||||||||||||||||Time: 0:00:03\n",
      "combination #2/42   4%|--                                        |ETA:  0:00:02\r"
     ]
    },
    {
     "name": "stdout",
     "output_type": "stream",
     "text": [
      "[combine:0] selected predictions down via SRs from 210 to 15.\n",
      "[combine:0] sorting out subsets, reduced 512 -> 42 combinations.\n"
     ]
    },
    {
     "name": "stderr",
     "output_type": "stream",
     "text": [
      "combination #42/42 100%|||||||||||||||||||||||||||||||||||||||||||Time: 0:00:03\n",
      "combination #2/42   4%|--                                        |ETA:  0:00:02\r"
     ]
    },
    {
     "name": "stdout",
     "output_type": "stream",
     "text": [
      "[combine:0] selected predictions down via SRs from 210 to 15.\n",
      "[combine:0] sorting out subsets, reduced 512 -> 42 combinations.\n"
     ]
    },
    {
     "name": "stderr",
     "output_type": "stream",
     "text": [
      "combination #42/42 100%|||||||||||||||||||||||||||||||||||||||||||Time: 0:00:03\n",
      "combination #1/42   2%|/                                         |ETA:  0:00:03\r"
     ]
    },
    {
     "name": "stdout",
     "output_type": "stream",
     "text": [
      "[combine:0] selected predictions down via SRs from 210 to 15.\n",
      "[combine:0] sorting out subsets, reduced 512 -> 42 combinations.\n"
     ]
    },
    {
     "name": "stderr",
     "output_type": "stream",
     "text": [
      "combination #42/42 100%|||||||||||||||||||||||||||||||||||||||||||Time: 0:00:04\n",
      "combination #2/42   4%|--                                        |ETA:  0:00:02\r"
     ]
    },
    {
     "name": "stdout",
     "output_type": "stream",
     "text": [
      "[combine:0] selected predictions down via SRs from 210 to 15.\n",
      "[combine:0] sorting out subsets, reduced 512 -> 42 combinations.\n"
     ]
    },
    {
     "name": "stderr",
     "output_type": "stream",
     "text": [
      "combination #42/42 100%|||||||||||||||||||||||||||||||||||||||||||Time: 0:00:03\n",
      "combination #2/42   4%|--                                        |ETA:  0:00:03\r"
     ]
    },
    {
     "name": "stdout",
     "output_type": "stream",
     "text": [
      "[combine:0] selected predictions down via SRs from 210 to 15.\n",
      "[combine:0] sorting out subsets, reduced 512 -> 42 combinations.\n"
     ]
    },
    {
     "name": "stderr",
     "output_type": "stream",
     "text": [
      "combination #42/42 100%|||||||||||||||||||||||||||||||||||||||||||Time: 0:00:03\n",
      "combination #2/42   4%|--                                        |ETA:  0:00:03\r"
     ]
    },
    {
     "name": "stdout",
     "output_type": "stream",
     "text": [
      "[combine:0] selected predictions down via SRs from 210 to 15.\n",
      "[combine:0] sorting out subsets, reduced 512 -> 42 combinations.\n"
     ]
    },
    {
     "name": "stderr",
     "output_type": "stream",
     "text": [
      "combination #42/42 100%|||||||||||||||||||||||||||||||||||||||||||Time: 0:00:03\n",
      "combination #2/42   4%|--                                        |ETA:  0:00:03\r"
     ]
    },
    {
     "name": "stdout",
     "output_type": "stream",
     "text": [
      "[combine:0] selected predictions down via SRs from 210 to 15.\n",
      "[combine:0] sorting out subsets, reduced 512 -> 42 combinations.\n"
     ]
    },
    {
     "name": "stderr",
     "output_type": "stream",
     "text": [
      "combination #42/42 100%|||||||||||||||||||||||||||||||||||||||||||Time: 0:00:03\n",
      "combination #1/42   2%|/                                         |ETA:  0:00:05\r"
     ]
    },
    {
     "name": "stdout",
     "output_type": "stream",
     "text": [
      "[combine:0] selected predictions down via SRs from 210 to 15.\n",
      "[combine:0] sorting out subsets, reduced 512 -> 42 combinations.\n"
     ]
    },
    {
     "name": "stderr",
     "output_type": "stream",
     "text": [
      "combination #42/42 100%|||||||||||||||||||||||||||||||||||||||||||Time: 0:00:03\n",
      "combination #2/42   4%|--                                        |ETA:  0:00:03\r"
     ]
    },
    {
     "name": "stdout",
     "output_type": "stream",
     "text": [
      "[combine:0] selected predictions down via SRs from 210 to 15.\n",
      "[combine:0] sorting out subsets, reduced 512 -> 42 combinations.\n"
     ]
    },
    {
     "name": "stderr",
     "output_type": "stream",
     "text": [
      "combination #42/42 100%|||||||||||||||||||||||||||||||||||||||||||Time: 0:00:03\n",
      "combination #2/42   4%|--                                        |ETA:  0:00:03\r"
     ]
    },
    {
     "name": "stdout",
     "output_type": "stream",
     "text": [
      "[combine:0] selected predictions down via SRs from 210 to 15.\n",
      "[combine:0] sorting out subsets, reduced 512 -> 42 combinations.\n"
     ]
    },
    {
     "name": "stderr",
     "output_type": "stream",
     "text": [
      "combination #42/42 100%|||||||||||||||||||||||||||||||||||||||||||Time: 0:00:03\n",
      "combination #2/42   4%|--                                        |ETA:  0:00:02\r"
     ]
    },
    {
     "name": "stdout",
     "output_type": "stream",
     "text": [
      "[combine:0] selected predictions down via SRs from 208 to 15.\n",
      "[combine:0] sorting out subsets, reduced 512 -> 42 combinations.\n"
     ]
    },
    {
     "name": "stderr",
     "output_type": "stream",
     "text": [
      "combination #42/42 100%|||||||||||||||||||||||||||||||||||||||||||Time: 0:00:03\n"
     ]
    }
   ],
   "source": [
    "mD = np.linspace(600.,1000.,50)\n",
    "pList3 = []\n",
    "pred = Predictor(walkerid=0,dbpath='../official124_smodels200.pcl')\n",
    "for mass in mD:\n",
    "    pnew = copy.deepcopy(protomodel)\n",
    "    pnew.masses[1000001] = mass\n",
    "    #Get predictions:\n",
    "    res = pred.predict(pnew)\n",
    "    pList3.append(pnew)"
   ]
  },
  {
   "cell_type": "code",
   "execution_count": 136,
   "metadata": {},
   "outputs": [
    {
     "data": {
      "image/png": "[encoded data removed]",
      "text/plain": [
       "<Figure size 504x360 with 1 Axes>"
      ]
     },
     "metadata": {},
     "output_type": "display_data"
    }
   ],
   "source": [
    "fig = plt.figure(figsize=(7,5))\n",
    "kvalues = [pp.K for pp in pList3]\n",
    "plt.plot(mD,kvalues,'-',linewidth=3,c=colors[0])\n",
    "plt.scatter([protomodel.masses[1000001]],\n",
    "            [protomodel.K],\n",
    "            marker='^',s=250,label='proto-model',c=[colors[1]],zorder=10,alpha=1.0)\n",
    "plt.scatter([mD[np.argmax(kvalues)]],[kvalues[np.argmax(kvalues)]],\n",
    "            marker='v',s=250,label='maximum K',c=[colors[2]],zorder=10,alpha=1.0)\n",
    "\n",
    "plt.xlabel(r'$m(X_D)$ (GeV)')\n",
    "plt.ylabel(r'$K$')\n",
    "plt.legend()\n",
    "plt.tight_layout()\n",
    "plt.savefig('KvsMD.pdf')\n",
    "plt.show()"
   ]
  },
  {
   "cell_type": "code",
   "execution_count": 21,
   "metadata": {},
   "outputs": [
    {
     "name": "stderr",
     "output_type": "stream",
     "text": [
      "combination #2/42   4%|--                                        |ETA:  0:00:03\r"
     ]
    },
    {
     "name": "stdout",
     "output_type": "stream",
     "text": [
      "[combine:0] selected predictions down via SRs from 208 to 15.\n",
      "[combine:0] sorting out subsets, reduced 512 -> 42 combinations.\n"
     ]
    },
    {
     "name": "stderr",
     "output_type": "stream",
     "text": [
      "combination #42/42 100%|||||||||||||||||||||||||||||||||||||||||||Time: 0:00:03\n",
      "combination #1/42   2%|/                                         |ETA:  0:00:03\r"
     ]
    },
    {
     "name": "stdout",
     "output_type": "stream",
     "text": [
      "[combine:0] selected predictions down via SRs from 208 to 15.\n",
      "[combine:0] sorting out subsets, reduced 512 -> 42 combinations.\n"
     ]
    },
    {
     "name": "stderr",
     "output_type": "stream",
     "text": [
      "combination #42/42 100%|||||||||||||||||||||||||||||||||||||||||||Time: 0:00:03\n",
      "combination #2/42   4%|--                                        |ETA:  0:00:03\r"
     ]
    },
    {
     "name": "stdout",
     "output_type": "stream",
     "text": [
      "[combine:0] selected predictions down via SRs from 208 to 15.\n",
      "[combine:0] sorting out subsets, reduced 512 -> 42 combinations.\n"
     ]
    },
    {
     "name": "stderr",
     "output_type": "stream",
     "text": [
      "combination #42/42 100%|||||||||||||||||||||||||||||||||||||||||||Time: 0:00:03\n",
      "combination #2/42   4%|--                                        |ETA:  0:00:02\r"
     ]
    },
    {
     "name": "stdout",
     "output_type": "stream",
     "text": [
      "[combine:0] selected predictions down via SRs from 208 to 15.\n",
      "[combine:0] sorting out subsets, reduced 512 -> 42 combinations.\n"
     ]
    },
    {
     "name": "stderr",
     "output_type": "stream",
     "text": [
      "combination #42/42 100%|||||||||||||||||||||||||||||||||||||||||||Time: 0:00:03\n",
      "combination #2/42   4%|--                                        |ETA:  0:00:02\r"
     ]
    },
    {
     "name": "stdout",
     "output_type": "stream",
     "text": [
      "[combine:0] selected predictions down via SRs from 208 to 15.\n",
      "[combine:0] sorting out subsets, reduced 512 -> 42 combinations.\n"
     ]
    },
    {
     "name": "stderr",
     "output_type": "stream",
     "text": [
      "combination #42/42 100%|||||||||||||||||||||||||||||||||||||||||||Time: 0:00:03\n",
      "combination #2/42   4%|--                                        |ETA:  0:00:03\r"
     ]
    },
    {
     "name": "stdout",
     "output_type": "stream",
     "text": [
      "[combine:0] selected predictions down via SRs from 208 to 15.\n",
      "[combine:0] sorting out subsets, reduced 512 -> 42 combinations.\n"
     ]
    },
    {
     "name": "stderr",
     "output_type": "stream",
     "text": [
      "combination #42/42 100%|||||||||||||||||||||||||||||||||||||||||||Time: 0:00:04\n",
      "combination #2/42   4%|--                                        |ETA:  0:00:03\r"
     ]
    },
    {
     "name": "stdout",
     "output_type": "stream",
     "text": [
      "[combine:0] selected predictions down via SRs from 208 to 15.\n",
      "[combine:0] sorting out subsets, reduced 512 -> 42 combinations.\n"
     ]
    },
    {
     "name": "stderr",
     "output_type": "stream",
     "text": [
      "combination #42/42 100%|||||||||||||||||||||||||||||||||||||||||||Time: 0:00:03\n",
      "combination #2/42   4%|--                                        |ETA:  0:00:03\r"
     ]
    },
    {
     "name": "stdout",
     "output_type": "stream",
     "text": [
      "[combine:0] selected predictions down via SRs from 208 to 15.\n",
      "[combine:0] sorting out subsets, reduced 512 -> 42 combinations.\n"
     ]
    },
    {
     "name": "stderr",
     "output_type": "stream",
     "text": [
      "combination #42/42 100%|||||||||||||||||||||||||||||||||||||||||||Time: 0:00:03\n",
      "combination #2/42   4%|--                                        |ETA:  0:00:02\r"
     ]
    },
    {
     "name": "stdout",
     "output_type": "stream",
     "text": [
      "[combine:0] selected predictions down via SRs from 208 to 15.\n",
      "[combine:0] sorting out subsets, reduced 512 -> 42 combinations.\n"
     ]
    },
    {
     "name": "stderr",
     "output_type": "stream",
     "text": [
      "combination #42/42 100%|||||||||||||||||||||||||||||||||||||||||||Time: 0:00:03\n",
      "combination #2/42   4%|--                                        |ETA:  0:00:03\r"
     ]
    },
    {
     "name": "stdout",
     "output_type": "stream",
     "text": [
      "[combine:0] selected predictions down via SRs from 208 to 15.\n",
      "[combine:0] sorting out subsets, reduced 512 -> 42 combinations.\n"
     ]
    },
    {
     "name": "stderr",
     "output_type": "stream",
     "text": [
      "combination #42/42 100%|||||||||||||||||||||||||||||||||||||||||||Time: 0:00:03\n",
      "combination #2/42   4%|--                                        |ETA:  0:00:03\r"
     ]
    },
    {
     "name": "stdout",
     "output_type": "stream",
     "text": [
      "[combine:0] selected predictions down via SRs from 208 to 15.\n",
      "[combine:0] sorting out subsets, reduced 512 -> 42 combinations.\n"
     ]
    },
    {
     "name": "stderr",
     "output_type": "stream",
     "text": [
      "combination #42/42 100%|||||||||||||||||||||||||||||||||||||||||||Time: 0:00:03\n",
      "combination #2/42   4%|--                                        |ETA:  0:00:03\r"
     ]
    },
    {
     "name": "stdout",
     "output_type": "stream",
     "text": [
      "[combine:0] selected predictions down via SRs from 208 to 15.\n",
      "[combine:0] sorting out subsets, reduced 512 -> 42 combinations.\n"
     ]
    },
    {
     "name": "stderr",
     "output_type": "stream",
     "text": [
      "combination #42/42 100%|||||||||||||||||||||||||||||||||||||||||||Time: 0:00:03\n",
      "combination #2/42   4%|--                                        |ETA:  0:00:03\r"
     ]
    },
    {
     "name": "stdout",
     "output_type": "stream",
     "text": [
      "[combine:0] selected predictions down via SRs from 208 to 15.\n",
      "[combine:0] sorting out subsets, reduced 512 -> 42 combinations.\n"
     ]
    },
    {
     "name": "stderr",
     "output_type": "stream",
     "text": [
      "combination #42/42 100%|||||||||||||||||||||||||||||||||||||||||||Time: 0:00:03\n",
      "combination #2/42   4%|--                                        |ETA:  0:00:03\r"
     ]
    },
    {
     "name": "stdout",
     "output_type": "stream",
     "text": [
      "[combine:0] selected predictions down via SRs from 208 to 15.\n",
      "[combine:0] sorting out subsets, reduced 512 -> 42 combinations.\n"
     ]
    },
    {
     "name": "stderr",
     "output_type": "stream",
     "text": [
      "combination #42/42 100%|||||||||||||||||||||||||||||||||||||||||||Time: 0:00:04\n",
      "combination #1/42   2%|/                                         |ETA:  0:00:04\r"
     ]
    },
    {
     "name": "stdout",
     "output_type": "stream",
     "text": [
      "[combine:0] selected predictions down via SRs from 208 to 15.\n",
      "[combine:0] sorting out subsets, reduced 512 -> 42 combinations.\n"
     ]
    },
    {
     "name": "stderr",
     "output_type": "stream",
     "text": [
      "combination #42/42 100%|||||||||||||||||||||||||||||||||||||||||||Time: 0:00:04\n",
      "combination #1/42   2%|/                                         |ETA:  0:00:04\r"
     ]
    },
    {
     "name": "stdout",
     "output_type": "stream",
     "text": [
      "[combine:0] selected predictions down via SRs from 208 to 15.\n",
      "[combine:0] sorting out subsets, reduced 512 -> 42 combinations.\n"
     ]
    },
    {
     "name": "stderr",
     "output_type": "stream",
     "text": [
      "combination #42/42 100%|||||||||||||||||||||||||||||||||||||||||||Time: 0:00:03\n",
      "combination #1/42   2%|/                                         |ETA:  0:00:04\r"
     ]
    },
    {
     "name": "stdout",
     "output_type": "stream",
     "text": [
      "[combine:0] selected predictions down via SRs from 208 to 15.\n",
      "[combine:0] sorting out subsets, reduced 512 -> 42 combinations.\n"
     ]
    },
    {
     "name": "stderr",
     "output_type": "stream",
     "text": [
      "combination #42/42 100%|||||||||||||||||||||||||||||||||||||||||||Time: 0:00:03\n",
      "combination #2/42   4%|--                                        |ETA:  0:00:03\r"
     ]
    },
    {
     "name": "stdout",
     "output_type": "stream",
     "text": [
      "[combine:0] selected predictions down via SRs from 208 to 15.\n",
      "[combine:0] sorting out subsets, reduced 512 -> 42 combinations.\n"
     ]
    },
    {
     "name": "stderr",
     "output_type": "stream",
     "text": [
      "combination #42/42 100%|||||||||||||||||||||||||||||||||||||||||||Time: 0:00:03\n",
      "combination #2/42   4%|--                                        |ETA:  0:00:03\r"
     ]
    },
    {
     "name": "stdout",
     "output_type": "stream",
     "text": [
      "[combine:0] selected predictions down via SRs from 208 to 15.\n",
      "[combine:0] sorting out subsets, reduced 512 -> 42 combinations.\n"
     ]
    },
    {
     "name": "stderr",
     "output_type": "stream",
     "text": [
      "combination #42/42 100%|||||||||||||||||||||||||||||||||||||||||||Time: 0:00:05\n",
      "combination #1/42   2%|/                                         |ETA:  0:00:04\r"
     ]
    },
    {
     "name": "stdout",
     "output_type": "stream",
     "text": [
      "[combine:0] selected predictions down via SRs from 208 to 15.\n",
      "[combine:0] sorting out subsets, reduced 512 -> 42 combinations.\n"
     ]
    },
    {
     "name": "stderr",
     "output_type": "stream",
     "text": [
      "combination #42/42 100%|||||||||||||||||||||||||||||||||||||||||||Time: 0:00:03\n",
      "combination #2/42   4%|--                                        |ETA:  0:00:02\r"
     ]
    },
    {
     "name": "stdout",
     "output_type": "stream",
     "text": [
      "[combine:0] selected predictions down via SRs from 208 to 15.\n",
      "[combine:0] sorting out subsets, reduced 512 -> 42 combinations.\n"
     ]
    },
    {
     "name": "stderr",
     "output_type": "stream",
     "text": [
      "combination #42/42 100%|||||||||||||||||||||||||||||||||||||||||||Time: 0:00:03\n",
      "combination #2/42   4%|--                                        |ETA:  0:00:03\r"
     ]
    },
    {
     "name": "stdout",
     "output_type": "stream",
     "text": [
      "[combine:0] selected predictions down via SRs from 208 to 15.\n",
      "[combine:0] sorting out subsets, reduced 512 -> 42 combinations.\n"
     ]
    },
    {
     "name": "stderr",
     "output_type": "stream",
     "text": [
      "combination #42/42 100%|||||||||||||||||||||||||||||||||||||||||||Time: 0:00:03\n",
      "combination #2/42   4%|--                                        |ETA:  0:00:02\r"
     ]
    },
    {
     "name": "stdout",
     "output_type": "stream",
     "text": [
      "[combine:0] selected predictions down via SRs from 208 to 15.\n",
      "[combine:0] sorting out subsets, reduced 512 -> 42 combinations.\n"
     ]
    },
    {
     "name": "stderr",
     "output_type": "stream",
     "text": [
      "combination #42/42 100%|||||||||||||||||||||||||||||||||||||||||||Time: 0:00:03\n",
      "combination #2/42   4%|--                                        |ETA:  0:00:03\r"
     ]
    },
    {
     "name": "stdout",
     "output_type": "stream",
     "text": [
      "[combine:0] selected predictions down via SRs from 208 to 15.\n",
      "[combine:0] sorting out subsets, reduced 512 -> 42 combinations.\n"
     ]
    },
    {
     "name": "stderr",
     "output_type": "stream",
     "text": [
      "combination #42/42 100%|||||||||||||||||||||||||||||||||||||||||||Time: 0:00:03\n",
      "combination #2/42   4%|--                                        |ETA:  0:00:03\r"
     ]
    },
    {
     "name": "stdout",
     "output_type": "stream",
     "text": [
      "[combine:0] selected predictions down via SRs from 208 to 15.\n",
      "[combine:0] sorting out subsets, reduced 512 -> 42 combinations.\n"
     ]
    },
    {
     "name": "stderr",
     "output_type": "stream",
     "text": [
      "combination #42/42 100%|||||||||||||||||||||||||||||||||||||||||||Time: 0:00:03\n",
      "combination #1/42   2%|/                                         |ETA:  0:00:04\r"
     ]
    },
    {
     "name": "stdout",
     "output_type": "stream",
     "text": [
      "[combine:0] selected predictions down via SRs from 208 to 15.\n",
      "[combine:0] sorting out subsets, reduced 512 -> 42 combinations.\n"
     ]
    },
    {
     "name": "stderr",
     "output_type": "stream",
     "text": [
      "combination #42/42 100%|||||||||||||||||||||||||||||||||||||||||||Time: 0:00:04\n",
      "combination #1/42   2%|/                                         |ETA:  0:00:04\r"
     ]
    },
    {
     "name": "stdout",
     "output_type": "stream",
     "text": [
      "[combine:0] selected predictions down via SRs from 208 to 15.\n",
      "[combine:0] sorting out subsets, reduced 512 -> 42 combinations.\n"
     ]
    },
    {
     "name": "stderr",
     "output_type": "stream",
     "text": [
      "combination #42/42 100%|||||||||||||||||||||||||||||||||||||||||||Time: 0:00:04\n",
      "combination #2/42   4%|--                                        |ETA:  0:00:03\r"
     ]
    },
    {
     "name": "stdout",
     "output_type": "stream",
     "text": [
      "[combine:0] selected predictions down via SRs from 208 to 15.\n",
      "[combine:0] sorting out subsets, reduced 512 -> 42 combinations.\n"
     ]
    },
    {
     "name": "stderr",
     "output_type": "stream",
     "text": [
      "combination #42/42 100%|||||||||||||||||||||||||||||||||||||||||||Time: 0:00:03\n",
      "combination #1/42   2%|/                                         |ETA:  0:00:04\r"
     ]
    },
    {
     "name": "stdout",
     "output_type": "stream",
     "text": [
      "[combine:0] selected predictions down via SRs from 208 to 15.\n",
      "[combine:0] sorting out subsets, reduced 512 -> 42 combinations.\n"
     ]
    },
    {
     "name": "stderr",
     "output_type": "stream",
     "text": [
      "combination #42/42 100%|||||||||||||||||||||||||||||||||||||||||||Time: 0:00:04\n",
      "combination #1/42   2%|/                                         |ETA:  0:00:04\r"
     ]
    },
    {
     "name": "stdout",
     "output_type": "stream",
     "text": [
      "[combine:0] selected predictions down via SRs from 208 to 15.\n",
      "[combine:0] sorting out subsets, reduced 512 -> 42 combinations.\n"
     ]
    },
    {
     "name": "stderr",
     "output_type": "stream",
     "text": [
      "combination #42/42 100%|||||||||||||||||||||||||||||||||||||||||||Time: 0:00:04\n",
      "combination #1/42   2%|/                                         |ETA:  0:00:04\r"
     ]
    },
    {
     "name": "stdout",
     "output_type": "stream",
     "text": [
      "[combine:0] selected predictions down via SRs from 208 to 15.\n",
      "[combine:0] sorting out subsets, reduced 512 -> 42 combinations.\n"
     ]
    },
    {
     "name": "stderr",
     "output_type": "stream",
     "text": [
      "combination #42/42 100%|||||||||||||||||||||||||||||||||||||||||||Time: 0:00:03\n",
      "combination #2/42   4%|--                                        |ETA:  0:00:03\r"
     ]
    },
    {
     "name": "stdout",
     "output_type": "stream",
     "text": [
      "[combine:0] selected predictions down via SRs from 208 to 15.\n",
      "[combine:0] sorting out subsets, reduced 512 -> 42 combinations.\n"
     ]
    },
    {
     "name": "stderr",
     "output_type": "stream",
     "text": [
      "combination #42/42 100%|||||||||||||||||||||||||||||||||||||||||||Time: 0:00:03\n",
      "combination #1/42   2%|/                                         |ETA:  0:00:04\r"
     ]
    },
    {
     "name": "stdout",
     "output_type": "stream",
     "text": [
      "[combine:0] selected predictions down via SRs from 208 to 15.\n",
      "[combine:0] sorting out subsets, reduced 512 -> 42 combinations.\n"
     ]
    },
    {
     "name": "stderr",
     "output_type": "stream",
     "text": [
      "combination #42/42 100%|||||||||||||||||||||||||||||||||||||||||||Time: 0:00:03\n",
      "combination #1/42   2%|/                                         |ETA:  0:00:04\r"
     ]
    },
    {
     "name": "stdout",
     "output_type": "stream",
     "text": [
      "[combine:0] selected predictions down via SRs from 208 to 15.\n",
      "[combine:0] sorting out subsets, reduced 512 -> 42 combinations.\n"
     ]
    },
    {
     "name": "stderr",
     "output_type": "stream",
     "text": [
      "combination #42/42 100%|||||||||||||||||||||||||||||||||||||||||||Time: 0:00:04\n",
      "combination #2/42   4%|--                                        |ETA:  0:00:03\r"
     ]
    },
    {
     "name": "stdout",
     "output_type": "stream",
     "text": [
      "[combine:0] selected predictions down via SRs from 208 to 15.\n",
      "[combine:0] sorting out subsets, reduced 512 -> 42 combinations.\n"
     ]
    },
    {
     "name": "stderr",
     "output_type": "stream",
     "text": [
      "combination #42/42 100%|||||||||||||||||||||||||||||||||||||||||||Time: 0:00:03\n",
      "combination #2/42   4%|--                                        |ETA:  0:00:03\r"
     ]
    },
    {
     "name": "stdout",
     "output_type": "stream",
     "text": [
      "[combine:0] selected predictions down via SRs from 208 to 15.\n",
      "[combine:0] sorting out subsets, reduced 512 -> 42 combinations.\n"
     ]
    },
    {
     "name": "stderr",
     "output_type": "stream",
     "text": [
      "combination #42/42 100%|||||||||||||||||||||||||||||||||||||||||||Time: 0:00:03\n",
      "combination #2/42   4%|--                                        |ETA:  0:00:03\r"
     ]
    },
    {
     "name": "stdout",
     "output_type": "stream",
     "text": [
      "[combine:0] selected predictions down via SRs from 208 to 15.\n",
      "[combine:0] sorting out subsets, reduced 512 -> 42 combinations.\n"
     ]
    },
    {
     "name": "stderr",
     "output_type": "stream",
     "text": [
      "combination #42/42 100%|||||||||||||||||||||||||||||||||||||||||||Time: 0:00:03\n",
      "combination #2/42   4%|--                                        |ETA:  0:00:03\r"
     ]
    },
    {
     "name": "stdout",
     "output_type": "stream",
     "text": [
      "[combine:0] selected predictions down via SRs from 208 to 15.\n",
      "[combine:0] sorting out subsets, reduced 512 -> 42 combinations.\n"
     ]
    },
    {
     "name": "stderr",
     "output_type": "stream",
     "text": [
      "combination #42/42 100%|||||||||||||||||||||||||||||||||||||||||||Time: 0:00:04\n",
      "combination #2/42   4%|--                                        |ETA:  0:00:03\r"
     ]
    },
    {
     "name": "stdout",
     "output_type": "stream",
     "text": [
      "[combine:0] selected predictions down via SRs from 208 to 15.\n",
      "[combine:0] sorting out subsets, reduced 512 -> 42 combinations.\n"
     ]
    },
    {
     "name": "stderr",
     "output_type": "stream",
     "text": [
      "combination #42/42 100%|||||||||||||||||||||||||||||||||||||||||||Time: 0:00:03\n",
      "combination #2/42   4%|--                                        |ETA:  0:00:03\r"
     ]
    },
    {
     "name": "stdout",
     "output_type": "stream",
     "text": [
      "[combine:0] selected predictions down via SRs from 208 to 15.\n",
      "[combine:0] sorting out subsets, reduced 512 -> 42 combinations.\n"
     ]
    },
    {
     "name": "stderr",
     "output_type": "stream",
     "text": [
      "combination #42/42 100%|||||||||||||||||||||||||||||||||||||||||||Time: 0:00:03\n",
      "combination #2/42   4%|--                                        |ETA:  0:00:03\r"
     ]
    },
    {
     "name": "stdout",
     "output_type": "stream",
     "text": [
      "[combine:0] selected predictions down via SRs from 208 to 15.\n",
      "[combine:0] sorting out subsets, reduced 512 -> 42 combinations.\n"
     ]
    },
    {
     "name": "stderr",
     "output_type": "stream",
     "text": [
      "combination #42/42 100%|||||||||||||||||||||||||||||||||||||||||||Time: 0:00:03\n",
      "combination #2/42   4%|--                                        |ETA:  0:00:03\r"
     ]
    },
    {
     "name": "stdout",
     "output_type": "stream",
     "text": [
      "[combine:0] selected predictions down via SRs from 208 to 15.\n",
      "[combine:0] sorting out subsets, reduced 512 -> 42 combinations.\n"
     ]
    },
    {
     "name": "stderr",
     "output_type": "stream",
     "text": [
      "combination #42/42 100%|||||||||||||||||||||||||||||||||||||||||||Time: 0:00:03\n",
      "combination #2/42   4%|--                                        |ETA:  0:00:03\r"
     ]
    },
    {
     "name": "stdout",
     "output_type": "stream",
     "text": [
      "[combine:0] selected predictions down via SRs from 208 to 15.\n",
      "[combine:0] sorting out subsets, reduced 512 -> 42 combinations.\n"
     ]
    },
    {
     "name": "stderr",
     "output_type": "stream",
     "text": [
      "combination #42/42 100%|||||||||||||||||||||||||||||||||||||||||||Time: 0:00:03\n",
      "combination #2/42   4%|--                                        |ETA:  0:00:03\r"
     ]
    },
    {
     "name": "stdout",
     "output_type": "stream",
     "text": [
      "[combine:0] selected predictions down via SRs from 208 to 15.\n",
      "[combine:0] sorting out subsets, reduced 512 -> 42 combinations.\n"
     ]
    },
    {
     "name": "stderr",
     "output_type": "stream",
     "text": [
      "combination #42/42 100%|||||||||||||||||||||||||||||||||||||||||||Time: 0:00:03\n",
      "combination #1/42   2%|/                                         |ETA:  0:00:03\r"
     ]
    },
    {
     "name": "stdout",
     "output_type": "stream",
     "text": [
      "[combine:0] selected predictions down via SRs from 208 to 15.\n",
      "[combine:0] sorting out subsets, reduced 512 -> 42 combinations.\n"
     ]
    },
    {
     "name": "stderr",
     "output_type": "stream",
     "text": [
      "combination #42/42 100%|||||||||||||||||||||||||||||||||||||||||||Time: 0:00:04\n",
      "combination #2/42   4%|--                                        |ETA:  0:00:03\r"
     ]
    },
    {
     "name": "stdout",
     "output_type": "stream",
     "text": [
      "[combine:0] selected predictions down via SRs from 208 to 15.\n",
      "[combine:0] sorting out subsets, reduced 512 -> 42 combinations.\n"
     ]
    },
    {
     "name": "stderr",
     "output_type": "stream",
     "text": [
      "combination #42/42 100%|||||||||||||||||||||||||||||||||||||||||||Time: 0:00:04\n",
      "combination #2/42   4%|--                                        |ETA:  0:00:03\r"
     ]
    },
    {
     "name": "stdout",
     "output_type": "stream",
     "text": [
      "[combine:0] selected predictions down via SRs from 208 to 15.\n",
      "[combine:0] sorting out subsets, reduced 512 -> 42 combinations.\n"
     ]
    },
    {
     "name": "stderr",
     "output_type": "stream",
     "text": [
      "combination #42/42 100%|||||||||||||||||||||||||||||||||||||||||||Time: 0:00:03\n",
      "combination #2/42   4%|--                                        |ETA:  0:00:03\r"
     ]
    },
    {
     "name": "stdout",
     "output_type": "stream",
     "text": [
      "[combine:0] selected predictions down via SRs from 208 to 15.\n",
      "[combine:0] sorting out subsets, reduced 512 -> 42 combinations.\n"
     ]
    },
    {
     "name": "stderr",
     "output_type": "stream",
     "text": [
      "combination #42/42 100%|||||||||||||||||||||||||||||||||||||||||||Time: 0:00:03\n",
      "combination #2/42   4%|--                                        |ETA:  0:00:03\r"
     ]
    },
    {
     "name": "stdout",
     "output_type": "stream",
     "text": [
      "[combine:0] selected predictions down via SRs from 208 to 15.\n",
      "[combine:0] sorting out subsets, reduced 512 -> 42 combinations.\n"
     ]
    },
    {
     "name": "stderr",
     "output_type": "stream",
     "text": [
      "combination #42/42 100%|||||||||||||||||||||||||||||||||||||||||||Time: 0:00:03\n",
      "combination #2/42   4%|--                                        |ETA:  0:00:03\r"
     ]
    },
    {
     "name": "stdout",
     "output_type": "stream",
     "text": [
      "[combine:0] selected predictions down via SRs from 208 to 15.\n",
      "[combine:0] sorting out subsets, reduced 512 -> 42 combinations.\n"
     ]
    },
    {
     "name": "stderr",
     "output_type": "stream",
     "text": [
      "combination #42/42 100%|||||||||||||||||||||||||||||||||||||||||||Time: 0:00:03\n"
     ]
    }
   ],
   "source": [
    "kappaD = np.linspace(0.2,0.7,50)\n",
    "pList4 = []\n",
    "for k in kappaD:\n",
    "    pnew = copy.deepcopy(protomodel)\n",
    "    for key in pnew.ssmultipliers:\n",
    "        if 1000001 in key or -1000001 in key:\n",
    "            pnew.ssmultipliers[key] = k\n",
    "    #Get predictions:\n",
    "    res = pred.predict(pnew)\n",
    "    pList4.append(pnew)"
   ]
  },
  {
   "cell_type": "code",
   "execution_count": 135,
   "metadata": {},
   "outputs": [
    {
     "data": {
      "image/png": "[encoded data removed]",
      "text/plain": [
       "<Figure size 504x360 with 1 Axes>"
      ]
     },
     "metadata": {},
     "output_type": "display_data"
    }
   ],
   "source": [
    "fig = plt.figure(figsize=(7,5))\n",
    "kvalues = [pp.K for pp in pList4]\n",
    "kappaEff = kappaD*np.array([p.muhat for p in pList4])\n",
    "plt.plot(kappaEff[:-3],kvalues[:-3],'-',linewidth=3,c=colors[0])\n",
    "plt.scatter([protomodel.muhat*protomodel.ssmultipliers[(-1000001,1000001)]],\n",
    "            [protomodel.K],\n",
    "            marker='^',s=250,label='proto-model',c=[colors[1]],zorder=10,alpha=1.0)\n",
    "plt.scatter([kappaEff[np.argmax(kvalues)]],[kvalues[np.argmax(kvalues)]],\n",
    "            marker='v',s=250,label='maximum K',c=[colors[2]],zorder=10,alpha=1.0)\n",
    "\n",
    "plt.xlabel(r'$\\hat{\\mu}\\, \\kappa(\\bar{X}_D,X_D)$')\n",
    "plt.ylabel(r'$K$')\n",
    "plt.legend()\n",
    "plt.tight_layout()\n",
    "plt.savefig('KvsKappaD.pdf')\n",
    "plt.show()"
   ]
  },
  {
   "cell_type": "code",
   "execution_count": 23,
   "metadata": {},
   "outputs": [
    {
     "name": "stderr",
     "output_type": "stream",
     "text": [
      "combination #2/42   4%|--                                        |ETA:  0:00:03\r"
     ]
    },
    {
     "name": "stdout",
     "output_type": "stream",
     "text": [
      "[combine:0] selected predictions down via SRs from 208 to 15.\n",
      "[combine:0] sorting out subsets, reduced 512 -> 42 combinations.\n"
     ]
    },
    {
     "name": "stderr",
     "output_type": "stream",
     "text": [
      "combination #42/42 100%|||||||||||||||||||||||||||||||||||||||||||Time: 0:00:03\n",
      "combination #2/42   4%|--                                        |ETA:  0:00:02\r"
     ]
    },
    {
     "name": "stdout",
     "output_type": "stream",
     "text": [
      "[combine:0] selected predictions down via SRs from 208 to 15.\n",
      "[combine:0] sorting out subsets, reduced 512 -> 42 combinations.\n"
     ]
    },
    {
     "name": "stderr",
     "output_type": "stream",
     "text": [
      "combination #42/42 100%|||||||||||||||||||||||||||||||||||||||||||Time: 0:00:03\n",
      "combination #3/42   7%|\\\\\\                                       |ETA:  0:00:02\r"
     ]
    },
    {
     "name": "stdout",
     "output_type": "stream",
     "text": [
      "[combine:0] selected predictions down via SRs from 208 to 15.\n",
      "[combine:0] sorting out subsets, reduced 512 -> 42 combinations.\n"
     ]
    },
    {
     "name": "stderr",
     "output_type": "stream",
     "text": [
      "combination #42/42 100%|||||||||||||||||||||||||||||||||||||||||||Time: 0:00:02\n",
      "combination #2/42   4%|--                                        |ETA:  0:00:02\r"
     ]
    },
    {
     "name": "stdout",
     "output_type": "stream",
     "text": [
      "[combine:0] selected predictions down via SRs from 208 to 15.\n",
      "[combine:0] sorting out subsets, reduced 512 -> 42 combinations.\n"
     ]
    },
    {
     "name": "stderr",
     "output_type": "stream",
     "text": [
      "combination #42/42 100%|||||||||||||||||||||||||||||||||||||||||||Time: 0:00:03\n",
      "combination #2/42   4%|--                                        |ETA:  0:00:03\r"
     ]
    },
    {
     "name": "stdout",
     "output_type": "stream",
     "text": [
      "[combine:0] selected predictions down via SRs from 208 to 15.\n",
      "[combine:0] sorting out subsets, reduced 512 -> 42 combinations.\n"
     ]
    },
    {
     "name": "stderr",
     "output_type": "stream",
     "text": [
      "combination #42/42 100%|||||||||||||||||||||||||||||||||||||||||||Time: 0:00:03\n",
      "combination #2/42   4%|--                                        |ETA:  0:00:03\r"
     ]
    },
    {
     "name": "stdout",
     "output_type": "stream",
     "text": [
      "[combine:0] selected predictions down via SRs from 208 to 15.\n",
      "[combine:0] sorting out subsets, reduced 512 -> 42 combinations.\n"
     ]
    },
    {
     "name": "stderr",
     "output_type": "stream",
     "text": [
      "combination #42/42 100%|||||||||||||||||||||||||||||||||||||||||||Time: 0:00:04\n",
      "combination #1/42   2%|/                                         |ETA:  0:00:04\r"
     ]
    },
    {
     "name": "stdout",
     "output_type": "stream",
     "text": [
      "[combine:0] selected predictions down via SRs from 208 to 15.\n",
      "[combine:0] sorting out subsets, reduced 512 -> 42 combinations.\n"
     ]
    },
    {
     "name": "stderr",
     "output_type": "stream",
     "text": [
      "combination #42/42 100%|||||||||||||||||||||||||||||||||||||||||||Time: 0:00:05\n",
      "combination #1/42   2%|/                                         |ETA:  0:00:04\r"
     ]
    },
    {
     "name": "stdout",
     "output_type": "stream",
     "text": [
      "[combine:0] selected predictions down via SRs from 208 to 15.\n",
      "[combine:0] sorting out subsets, reduced 512 -> 42 combinations.\n"
     ]
    },
    {
     "name": "stderr",
     "output_type": "stream",
     "text": [
      "combination #42/42 100%|||||||||||||||||||||||||||||||||||||||||||Time: 0:00:04\n",
      "combination #1/42   2%|/                                         |ETA:  0:00:05\r"
     ]
    },
    {
     "name": "stdout",
     "output_type": "stream",
     "text": [
      "[combine:0] selected predictions down via SRs from 208 to 15.\n",
      "[combine:0] sorting out subsets, reduced 512 -> 42 combinations.\n"
     ]
    },
    {
     "name": "stderr",
     "output_type": "stream",
     "text": [
      "combination #42/42 100%|||||||||||||||||||||||||||||||||||||||||||Time: 0:00:04\n",
      "combination #1/42   2%|/                                         |ETA:  0:00:04\r"
     ]
    },
    {
     "name": "stdout",
     "output_type": "stream",
     "text": [
      "[combine:0] selected predictions down via SRs from 208 to 15.\n",
      "[combine:0] sorting out subsets, reduced 512 -> 42 combinations.\n"
     ]
    },
    {
     "name": "stderr",
     "output_type": "stream",
     "text": [
      "combination #42/42 100%|||||||||||||||||||||||||||||||||||||||||||Time: 0:00:05\n",
      "combination #2/42   4%|--                                        |ETA:  0:00:03\r"
     ]
    },
    {
     "name": "stdout",
     "output_type": "stream",
     "text": [
      "[combine:0] selected predictions down via SRs from 208 to 15.\n",
      "[combine:0] sorting out subsets, reduced 512 -> 42 combinations.\n"
     ]
    },
    {
     "name": "stderr",
     "output_type": "stream",
     "text": [
      "combination #42/42 100%|||||||||||||||||||||||||||||||||||||||||||Time: 0:00:04\n",
      "combination #2/42   4%|--                                        |ETA:  0:00:03\r"
     ]
    },
    {
     "name": "stdout",
     "output_type": "stream",
     "text": [
      "[combine:0] selected predictions down via SRs from 208 to 15.\n",
      "[combine:0] sorting out subsets, reduced 512 -> 42 combinations.\n"
     ]
    },
    {
     "name": "stderr",
     "output_type": "stream",
     "text": [
      "combination #42/42 100%|||||||||||||||||||||||||||||||||||||||||||Time: 0:00:03\n",
      "combination #1/42   2%|/                                         |ETA:  0:00:03\r"
     ]
    },
    {
     "name": "stdout",
     "output_type": "stream",
     "text": [
      "[combine:0] selected predictions down via SRs from 208 to 15.\n",
      "[combine:0] sorting out subsets, reduced 512 -> 42 combinations.\n"
     ]
    },
    {
     "name": "stderr",
     "output_type": "stream",
     "text": [
      "combination #42/42 100%|||||||||||||||||||||||||||||||||||||||||||Time: 0:00:05\n",
      "combination #1/42   2%|/                                         |ETA:  0:00:04\r"
     ]
    },
    {
     "name": "stdout",
     "output_type": "stream",
     "text": [
      "[combine:0] selected predictions down via SRs from 208 to 15.\n",
      "[combine:0] sorting out subsets, reduced 512 -> 42 combinations.\n"
     ]
    },
    {
     "name": "stderr",
     "output_type": "stream",
     "text": [
      "combination #42/42 100%|||||||||||||||||||||||||||||||||||||||||||Time: 0:00:04\n",
      "combination #1/42   2%|/                                         |ETA:  0:00:05\r"
     ]
    },
    {
     "name": "stdout",
     "output_type": "stream",
     "text": [
      "[combine:0] selected predictions down via SRs from 208 to 15.\n",
      "[combine:0] sorting out subsets, reduced 512 -> 42 combinations.\n"
     ]
    },
    {
     "name": "stderr",
     "output_type": "stream",
     "text": [
      "combination #42/42 100%|||||||||||||||||||||||||||||||||||||||||||Time: 0:00:04\n",
      "combination #1/42   2%|/                                         |ETA:  0:00:04\r"
     ]
    },
    {
     "name": "stdout",
     "output_type": "stream",
     "text": [
      "[combine:0] selected predictions down via SRs from 208 to 15.\n",
      "[combine:0] sorting out subsets, reduced 512 -> 42 combinations.\n"
     ]
    },
    {
     "name": "stderr",
     "output_type": "stream",
     "text": [
      "combination #42/42 100%|||||||||||||||||||||||||||||||||||||||||||Time: 0:00:04\n",
      "combination #2/42   4%|--                                        |ETA:  0:00:03\r"
     ]
    },
    {
     "name": "stdout",
     "output_type": "stream",
     "text": [
      "[combine:0] selected predictions down via SRs from 208 to 15.\n",
      "[combine:0] sorting out subsets, reduced 512 -> 42 combinations.\n"
     ]
    },
    {
     "name": "stderr",
     "output_type": "stream",
     "text": [
      "combination #42/42 100%|||||||||||||||||||||||||||||||||||||||||||Time: 0:00:03\n",
      "combination #2/42   4%|--                                        |ETA:  0:00:03\r"
     ]
    },
    {
     "name": "stdout",
     "output_type": "stream",
     "text": [
      "[combine:0] selected predictions down via SRs from 208 to 15.\n",
      "[combine:0] sorting out subsets, reduced 512 -> 42 combinations.\n"
     ]
    },
    {
     "name": "stderr",
     "output_type": "stream",
     "text": [
      "combination #42/42 100%|||||||||||||||||||||||||||||||||||||||||||Time: 0:00:04\n",
      "combination #2/42   4%|--                                        |ETA:  0:00:03\r"
     ]
    },
    {
     "name": "stdout",
     "output_type": "stream",
     "text": [
      "[combine:0] selected predictions down via SRs from 208 to 15.\n",
      "[combine:0] sorting out subsets, reduced 512 -> 42 combinations.\n"
     ]
    },
    {
     "name": "stderr",
     "output_type": "stream",
     "text": [
      "combination #42/42 100%|||||||||||||||||||||||||||||||||||||||||||Time: 0:00:04\n",
      "combination #2/42   4%|--                                        |ETA:  0:00:03\r"
     ]
    },
    {
     "name": "stdout",
     "output_type": "stream",
     "text": [
      "[combine:0] selected predictions down via SRs from 208 to 15.\n",
      "[combine:0] sorting out subsets, reduced 512 -> 42 combinations.\n"
     ]
    },
    {
     "name": "stderr",
     "output_type": "stream",
     "text": [
      "combination #42/42 100%|||||||||||||||||||||||||||||||||||||||||||Time: 0:00:03\n",
      "combination #2/42   4%|--                                        |ETA:  0:00:03\r"
     ]
    },
    {
     "name": "stdout",
     "output_type": "stream",
     "text": [
      "[combine:0] selected predictions down via SRs from 208 to 15.\n",
      "[combine:0] sorting out subsets, reduced 512 -> 42 combinations.\n"
     ]
    },
    {
     "name": "stderr",
     "output_type": "stream",
     "text": [
      "combination #42/42 100%|||||||||||||||||||||||||||||||||||||||||||Time: 0:00:03\n",
      "combination #2/42   4%|--                                        |ETA:  0:00:03\r"
     ]
    },
    {
     "name": "stdout",
     "output_type": "stream",
     "text": [
      "[combine:0] selected predictions down via SRs from 208 to 15.\n",
      "[combine:0] sorting out subsets, reduced 512 -> 42 combinations.\n"
     ]
    },
    {
     "name": "stderr",
     "output_type": "stream",
     "text": [
      "combination #42/42 100%|||||||||||||||||||||||||||||||||||||||||||Time: 0:00:03\n",
      "combination #2/42   4%|--                                        |ETA:  0:00:03\r"
     ]
    },
    {
     "name": "stdout",
     "output_type": "stream",
     "text": [
      "[combine:0] selected predictions down via SRs from 208 to 15.\n",
      "[combine:0] sorting out subsets, reduced 512 -> 42 combinations.\n"
     ]
    },
    {
     "name": "stderr",
     "output_type": "stream",
     "text": [
      "combination #42/42 100%|||||||||||||||||||||||||||||||||||||||||||Time: 0:00:03\n",
      "combination #2/42   4%|--                                        |ETA:  0:00:03\r"
     ]
    },
    {
     "name": "stdout",
     "output_type": "stream",
     "text": [
      "[combine:0] selected predictions down via SRs from 208 to 15.\n",
      "[combine:0] sorting out subsets, reduced 512 -> 42 combinations.\n"
     ]
    },
    {
     "name": "stderr",
     "output_type": "stream",
     "text": [
      "combination #42/42 100%|||||||||||||||||||||||||||||||||||||||||||Time: 0:00:03\n",
      "combination #2/42   4%|--                                        |ETA:  0:00:03\r"
     ]
    },
    {
     "name": "stdout",
     "output_type": "stream",
     "text": [
      "[combine:0] selected predictions down via SRs from 208 to 15.\n",
      "[combine:0] sorting out subsets, reduced 512 -> 42 combinations.\n"
     ]
    },
    {
     "name": "stderr",
     "output_type": "stream",
     "text": [
      "combination #42/42 100%|||||||||||||||||||||||||||||||||||||||||||Time: 0:00:03\n",
      "combination #2/42   4%|--                                        |ETA:  0:00:03\r"
     ]
    },
    {
     "name": "stdout",
     "output_type": "stream",
     "text": [
      "[combine:0] selected predictions down via SRs from 208 to 15.\n",
      "[combine:0] sorting out subsets, reduced 512 -> 42 combinations.\n"
     ]
    },
    {
     "name": "stderr",
     "output_type": "stream",
     "text": [
      "combination #42/42 100%|||||||||||||||||||||||||||||||||||||||||||Time: 0:00:03\n",
      "combination #2/42   4%|--                                        |ETA:  0:00:03\r"
     ]
    },
    {
     "name": "stdout",
     "output_type": "stream",
     "text": [
      "[combine:0] selected predictions down via SRs from 208 to 15.\n",
      "[combine:0] sorting out subsets, reduced 512 -> 42 combinations.\n"
     ]
    },
    {
     "name": "stderr",
     "output_type": "stream",
     "text": [
      "combination #42/42 100%|||||||||||||||||||||||||||||||||||||||||||Time: 0:00:03\n",
      "combination #2/42   4%|--                                        |ETA:  0:00:02\r"
     ]
    },
    {
     "name": "stdout",
     "output_type": "stream",
     "text": [
      "[combine:0] selected predictions down via SRs from 208 to 15.\n",
      "[combine:0] sorting out subsets, reduced 512 -> 42 combinations.\n"
     ]
    },
    {
     "name": "stderr",
     "output_type": "stream",
     "text": [
      "combination #42/42 100%|||||||||||||||||||||||||||||||||||||||||||Time: 0:00:03\n",
      "combination #2/42   4%|--                                        |ETA:  0:00:03\r"
     ]
    },
    {
     "name": "stdout",
     "output_type": "stream",
     "text": [
      "[combine:0] selected predictions down via SRs from 208 to 15.\n",
      "[combine:0] sorting out subsets, reduced 512 -> 42 combinations.\n"
     ]
    },
    {
     "name": "stderr",
     "output_type": "stream",
     "text": [
      "combination #42/42 100%|||||||||||||||||||||||||||||||||||||||||||Time: 0:00:04\n",
      "combination #2/42   4%|--                                        |ETA:  0:00:03\r"
     ]
    },
    {
     "name": "stdout",
     "output_type": "stream",
     "text": [
      "[combine:0] selected predictions down via SRs from 208 to 15.\n",
      "[combine:0] sorting out subsets, reduced 512 -> 42 combinations.\n"
     ]
    },
    {
     "name": "stderr",
     "output_type": "stream",
     "text": [
      "combination #42/42 100%|||||||||||||||||||||||||||||||||||||||||||Time: 0:00:03\n",
      "combination #2/42   4%|--                                        |ETA:  0:00:03\r"
     ]
    },
    {
     "name": "stdout",
     "output_type": "stream",
     "text": [
      "[combine:0] selected predictions down via SRs from 208 to 15.\n",
      "[combine:0] sorting out subsets, reduced 512 -> 42 combinations.\n"
     ]
    },
    {
     "name": "stderr",
     "output_type": "stream",
     "text": [
      "combination #42/42 100%|||||||||||||||||||||||||||||||||||||||||||Time: 0:00:03\n",
      "combination #2/42   4%|--                                        |ETA:  0:00:03\r"
     ]
    },
    {
     "name": "stdout",
     "output_type": "stream",
     "text": [
      "[combine:0] selected predictions down via SRs from 208 to 15.\n",
      "[combine:0] sorting out subsets, reduced 512 -> 42 combinations.\n"
     ]
    },
    {
     "name": "stderr",
     "output_type": "stream",
     "text": [
      "combination #42/42 100%|||||||||||||||||||||||||||||||||||||||||||Time: 0:00:03\n",
      "combination #2/42   4%|--                                        |ETA:  0:00:03\r"
     ]
    },
    {
     "name": "stdout",
     "output_type": "stream",
     "text": [
      "[combine:0] selected predictions down via SRs from 208 to 15.\n",
      "[combine:0] sorting out subsets, reduced 512 -> 42 combinations.\n"
     ]
    },
    {
     "name": "stderr",
     "output_type": "stream",
     "text": [
      "combination #42/42 100%|||||||||||||||||||||||||||||||||||||||||||Time: 0:00:03\n",
      "combination #2/42   4%|--                                        |ETA:  0:00:03\r"
     ]
    },
    {
     "name": "stdout",
     "output_type": "stream",
     "text": [
      "[combine:0] selected predictions down via SRs from 208 to 15.\n",
      "[combine:0] sorting out subsets, reduced 512 -> 42 combinations.\n"
     ]
    },
    {
     "name": "stderr",
     "output_type": "stream",
     "text": [
      "combination #42/42 100%|||||||||||||||||||||||||||||||||||||||||||Time: 0:00:03\n",
      "combination #2/42   4%|--                                        |ETA:  0:00:03\r"
     ]
    },
    {
     "name": "stdout",
     "output_type": "stream",
     "text": [
      "[combine:0] selected predictions down via SRs from 208 to 15.\n",
      "[combine:0] sorting out subsets, reduced 512 -> 42 combinations.\n"
     ]
    },
    {
     "name": "stderr",
     "output_type": "stream",
     "text": [
      "combination #42/42 100%|||||||||||||||||||||||||||||||||||||||||||Time: 0:00:03\n",
      "combination #2/42   4%|--                                        |ETA:  0:00:03\r"
     ]
    },
    {
     "name": "stdout",
     "output_type": "stream",
     "text": [
      "[combine:0] selected predictions down via SRs from 208 to 15.\n",
      "[combine:0] sorting out subsets, reduced 512 -> 42 combinations.\n"
     ]
    },
    {
     "name": "stderr",
     "output_type": "stream",
     "text": [
      "combination #42/42 100%|||||||||||||||||||||||||||||||||||||||||||Time: 0:00:03\n",
      "combination #2/42   4%|--                                        |ETA:  0:00:02\r"
     ]
    },
    {
     "name": "stdout",
     "output_type": "stream",
     "text": [
      "[combine:0] selected predictions down via SRs from 208 to 15.\n",
      "[combine:0] sorting out subsets, reduced 512 -> 42 combinations.\n"
     ]
    },
    {
     "name": "stderr",
     "output_type": "stream",
     "text": [
      "combination #42/42 100%|||||||||||||||||||||||||||||||||||||||||||Time: 0:00:03\n",
      "combination #2/42   4%|--                                        |ETA:  0:00:03\r"
     ]
    },
    {
     "name": "stdout",
     "output_type": "stream",
     "text": [
      "[combine:0] selected predictions down via SRs from 208 to 15.\n",
      "[combine:0] sorting out subsets, reduced 512 -> 42 combinations.\n"
     ]
    },
    {
     "name": "stderr",
     "output_type": "stream",
     "text": [
      "combination #42/42 100%|||||||||||||||||||||||||||||||||||||||||||Time: 0:00:03\n",
      "combination #2/42   4%|--                                        |ETA:  0:00:03\r"
     ]
    },
    {
     "name": "stdout",
     "output_type": "stream",
     "text": [
      "[combine:0] selected predictions down via SRs from 208 to 15.\n",
      "[combine:0] sorting out subsets, reduced 512 -> 42 combinations.\n"
     ]
    },
    {
     "name": "stderr",
     "output_type": "stream",
     "text": [
      "combination #42/42 100%|||||||||||||||||||||||||||||||||||||||||||Time: 0:00:03\n",
      "combination #2/42   4%|--                                        |ETA:  0:00:03\r"
     ]
    },
    {
     "name": "stdout",
     "output_type": "stream",
     "text": [
      "[combine:0] selected predictions down via SRs from 208 to 15.\n",
      "[combine:0] sorting out subsets, reduced 512 -> 42 combinations.\n"
     ]
    },
    {
     "name": "stderr",
     "output_type": "stream",
     "text": [
      "combination #42/42 100%|||||||||||||||||||||||||||||||||||||||||||Time: 0:00:03\n",
      "combination #2/42   4%|--                                        |ETA:  0:00:03\r"
     ]
    },
    {
     "name": "stdout",
     "output_type": "stream",
     "text": [
      "[combine:0] selected predictions down via SRs from 208 to 15.\n",
      "[combine:0] sorting out subsets, reduced 512 -> 42 combinations.\n"
     ]
    },
    {
     "name": "stderr",
     "output_type": "stream",
     "text": [
      "combination #42/42 100%|||||||||||||||||||||||||||||||||||||||||||Time: 0:00:03\n",
      "combination #2/42   4%|--                                        |ETA:  0:00:03\r"
     ]
    },
    {
     "name": "stdout",
     "output_type": "stream",
     "text": [
      "[combine:0] selected predictions down via SRs from 208 to 15.\n",
      "[combine:0] sorting out subsets, reduced 512 -> 42 combinations.\n"
     ]
    },
    {
     "name": "stderr",
     "output_type": "stream",
     "text": [
      "combination #42/42 100%|||||||||||||||||||||||||||||||||||||||||||Time: 0:00:03\n",
      "combination #2/42   4%|--                                        |ETA:  0:00:02\r"
     ]
    },
    {
     "name": "stdout",
     "output_type": "stream",
     "text": [
      "[combine:0] selected predictions down via SRs from 208 to 15.\n",
      "[combine:0] sorting out subsets, reduced 512 -> 42 combinations.\n"
     ]
    },
    {
     "name": "stderr",
     "output_type": "stream",
     "text": [
      "combination #42/42 100%|||||||||||||||||||||||||||||||||||||||||||Time: 0:00:03\n",
      "combination #2/42   4%|--                                        |ETA:  0:00:03\r"
     ]
    },
    {
     "name": "stdout",
     "output_type": "stream",
     "text": [
      "[combine:0] selected predictions down via SRs from 208 to 15.\n",
      "[combine:0] sorting out subsets, reduced 512 -> 42 combinations.\n"
     ]
    },
    {
     "name": "stderr",
     "output_type": "stream",
     "text": [
      "combination #42/42 100%|||||||||||||||||||||||||||||||||||||||||||Time: 0:00:03\n",
      "combination #2/42   4%|--                                        |ETA:  0:00:03\r"
     ]
    },
    {
     "name": "stdout",
     "output_type": "stream",
     "text": [
      "[combine:0] selected predictions down via SRs from 208 to 15.\n",
      "[combine:0] sorting out subsets, reduced 512 -> 42 combinations.\n"
     ]
    },
    {
     "name": "stderr",
     "output_type": "stream",
     "text": [
      "combination #42/42 100%|||||||||||||||||||||||||||||||||||||||||||Time: 0:00:03\n",
      "combination #2/42   4%|--                                        |ETA:  0:00:02\r"
     ]
    },
    {
     "name": "stdout",
     "output_type": "stream",
     "text": [
      "[combine:0] selected predictions down via SRs from 208 to 15.\n",
      "[combine:0] sorting out subsets, reduced 512 -> 42 combinations.\n"
     ]
    },
    {
     "name": "stderr",
     "output_type": "stream",
     "text": [
      "combination #42/42 100%|||||||||||||||||||||||||||||||||||||||||||Time: 0:00:03\n",
      "combination #2/42   4%|--                                        |ETA:  0:00:03\r"
     ]
    },
    {
     "name": "stdout",
     "output_type": "stream",
     "text": [
      "[combine:0] selected predictions down via SRs from 208 to 15.\n",
      "[combine:0] sorting out subsets, reduced 512 -> 42 combinations.\n"
     ]
    },
    {
     "name": "stderr",
     "output_type": "stream",
     "text": [
      "combination #42/42 100%|||||||||||||||||||||||||||||||||||||||||||Time: 0:00:03\n",
      "combination #2/42   4%|--                                        |ETA:  0:00:03\r"
     ]
    },
    {
     "name": "stdout",
     "output_type": "stream",
     "text": [
      "[combine:0] selected predictions down via SRs from 208 to 15.\n",
      "[combine:0] sorting out subsets, reduced 512 -> 42 combinations.\n"
     ]
    },
    {
     "name": "stderr",
     "output_type": "stream",
     "text": [
      "combination #42/42 100%|||||||||||||||||||||||||||||||||||||||||||Time: 0:00:03\n",
      "combination #2/42   4%|--                                        |ETA:  0:00:02\r"
     ]
    },
    {
     "name": "stdout",
     "output_type": "stream",
     "text": [
      "[combine:0] selected predictions down via SRs from 208 to 15.\n",
      "[combine:0] sorting out subsets, reduced 512 -> 42 combinations.\n"
     ]
    },
    {
     "name": "stderr",
     "output_type": "stream",
     "text": [
      "combination #42/42 100%|||||||||||||||||||||||||||||||||||||||||||Time: 0:00:03\n",
      "combination #2/42   4%|--                                        |ETA:  0:00:03\r"
     ]
    },
    {
     "name": "stdout",
     "output_type": "stream",
     "text": [
      "[combine:0] selected predictions down via SRs from 208 to 15.\n",
      "[combine:0] sorting out subsets, reduced 512 -> 42 combinations.\n"
     ]
    },
    {
     "name": "stderr",
     "output_type": "stream",
     "text": [
      "combination #42/42 100%|||||||||||||||||||||||||||||||||||||||||||Time: 0:00:03\n"
     ]
    }
   ],
   "source": [
    "kappaT = np.linspace(0.5,2.0,50)\n",
    "pList5 = []\n",
    "for k in kappaT:\n",
    "    pnew = copy.deepcopy(protomodel)\n",
    "    for key in pnew.ssmultipliers:\n",
    "        if 1000006 in key or -1000006 in key:\n",
    "            pnew.ssmultipliers[key] = k\n",
    "    #Get predictions:\n",
    "    res = pred.predict(pnew)\n",
    "    pList5.append(pnew)"
   ]
  },
  {
   "cell_type": "code",
   "execution_count": 134,
   "metadata": {},
   "outputs": [
    {
     "data": {
      "image/png": "[encoded data removed]",
      "text/plain": [
       "<Figure size 504x360 with 1 Axes>"
      ]
     },
     "metadata": {},
     "output_type": "display_data"
    }
   ],
   "source": [
    "fig = plt.figure(figsize=(7,5))\n",
    "kvalues = [pp.K for pp in pList5]\n",
    "kappaEff = kappaT*np.array([p.muhat for p in pList5])\n",
    "plt.plot(kappaEff[:-15],kvalues5[:-15],'-',linewidth=3,c=colors[0])\n",
    "plt.scatter([protomodel.muhat*protomodel.ssmultipliers[(-1000006,1000006)]],\n",
    "            [protomodel.K],\n",
    "            marker='^',s=250,label='proto-model',c=[colors[1]],zorder=10,alpha=1.0)\n",
    "plt.scatter([kappaEff[np.argmax(kvalues)]],[kvalues[np.argmax(kvalues)]],\n",
    "            marker='v',s=250,label='maximum K',c=[colors[2]],zorder=10,alpha=1.0)\n",
    "\n",
    "plt.xlabel(r'$\\hat{\\mu}\\, \\kappa(\\bar{X}_t,X_t)$')\n",
    "plt.ylabel(r'$K$')\n",
    "plt.legend()\n",
    "plt.tight_layout()\n",
    "plt.savefig('KvsKappaT.pdf')\n",
    "plt.show()"
   ]
  },
  {
   "cell_type": "code",
   "execution_count": 104,
   "metadata": {},
   "outputs": [],
   "source": []
  },
  {
   "cell_type": "code",
   "execution_count": null,
   "metadata": {},
   "outputs": [],
   "source": []
  }
 ],
 "metadata": {
  "kernelspec": {
   "display_name": "Python 3",
   "language": "python",
   "name": "python3"
  },
  "language_info": {
   "codemirror_mode": {
    "name": "ipython",
    "version": 3
   },
   "file_extension": ".py",
   "mimetype": "text/x-python",
   "name": "python",
   "nbconvert_exporter": "python",
   "pygments_lexer": "ipython3",
   "version": "3.8.5"
  }
 },
 "nbformat": 4,
 "nbformat_minor": 4
}

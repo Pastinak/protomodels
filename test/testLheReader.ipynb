{
 "metadata": {
  "name": ""
 },
 "nbformat": 3,
 "nbformat_minor": 0,
 "worksheets": [
  {
   "cells": [
    {
     "cell_type": "heading",
     "level": 3,
     "metadata": {},
     "source": [
      "How to generate an element from a LHE event"
     ]
    },
    {
     "cell_type": "code",
     "collapsed": false,
     "input": [
      "\"\"\"setup reader\"\"\"\n",
      "import sys\n",
      "sys.path.append('../')\n",
      "from smodels.theory import lheReader, lheDecomposer, crossSection\n",
      "from smodels.installation import installDirectory\n",
      "from smodels.tools.physicsUnits import GeV\n",
      "\n",
      "filename = \"%sinputFiles/lhe/simplyGluino.lhe\" % (installDirectory() )\n",
      "reader = lheReader.LheReader(filename)\n",
      "event = reader.next()\n",
      "element = lheDecomposer.elementFromEvent(event,\n",
      "                                     crossSection.XSectionList())\n",
      "print element\n",
      "print element.getMasses()"
     ],
     "language": "python",
     "metadata": {},
     "outputs": [
      {
       "output_type": "stream",
       "stream": "stdout",
       "text": [
        "[[[jet,jet]],[[jet,jet]]]\n",
        "[[6.75E+02 [GeV], 2.00E+02 [GeV]], [6.75E+02 [GeV], 2.00E+02 [GeV]]]\n"
       ]
      }
     ],
     "prompt_number": 1
    },
    {
     "cell_type": "heading",
     "level": 5,
     "metadata": {},
     "source": [
      "Expected output:"
     ]
    },
    {
     "cell_type": "code",
     "collapsed": false,
     "input": [
      "\"\"\"Verify the reader output\"\"\"\n",
      "assert element.getParticles() == [[['jet','jet']],[['jet','jet']]]\n",
      "assert element.getMasses() == [[675.*GeV,200.*GeV],[675.*GeV,200.*GeV]]"
     ],
     "language": "python",
     "metadata": {},
     "outputs": [],
     "prompt_number": 2
    }
   ],
   "metadata": {}
  }
 ]
}
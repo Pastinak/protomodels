{
 "metadata": {
  "name": ""
 },
 "nbformat": 3,
 "nbformat_minor": 0,
 "worksheets": [
  {
   "cells": [
    {
     "cell_type": "heading",
     "level": 3,
     "metadata": {},
     "source": [
      "Example of invisible compression during decomposition"
     ]
    },
    {
     "cell_type": "code",
     "collapsed": false,
     "input": [
      "\"\"\"setup the decomposition with invisible compression turned on\"\"\"\n",
      "import sys\n",
      "sys.path.append('../')\n",
      "from smodels.theory import slhaDecomposer\n",
      "from smodels.tools.physicsUnits import GeV, fb\n",
      "slhafile=\"../inputFiles/slha/compressedSpec.slha\"\n",
      "\n",
      "doInvisible = True\n",
      "topos = slhaDecomposer.decompose(slhafile, .1*fb, False, doInvisible, 5.*GeV )\n",
      "for topo in topos:\n",
      "    #Case of a compressed element\n",
      "    if str(topo) ==\"[0][0]\":        \n",
      "        for element in topo.elementList:\n",
      "            if str(element) == \"[[],[]]\":\n",
      "                compEl = element\n",
      "                print 'Compressed element = ',compEl\n",
      "                print  'number of elements compressed=',len(compEl.motherElements)\n",
      "                for el in compEl.motherElements:\n",
      "                    print 'compressed element=',el[1],'compression type=', el[0]\n",
      "    #Case of an uncompressed element\n",
      "    elif str(topo) == \"[1,1,0][1,1,0]\":\n",
      "        for element in topo.elementList:\n",
      "            if str(element) == \"[[[jet],[W+]],[[t-],[t+]]]\":\n",
      "                notCompEl = element\n",
      "                print '\\nUncompressed element = ',notCompEl\n",
      "                print \"numer of compressed elements =\",len(notCompEl.motherElements)\n",
      "        \n"
     ],
     "language": "python",
     "metadata": {},
     "outputs": [
      {
       "output_type": "stream",
       "stream": "stdout",
       "text": [
        "01:51:37.428 INFO     smodels.theory.slhaDecomposer:156 Ignoring t+ decays\n"
       ]
      },
      {
       "output_type": "stream",
       "stream": "stdout",
       "text": [
        "01:51:37.439 INFO     smodels.theory.slhaDecomposer:156 Ignoring higgs decays\n"
       ]
      },
      {
       "output_type": "stream",
       "stream": "stdout",
       "text": [
        "01:51:37.440 INFO     smodels.theory.slhaDecomposer:156 Ignoring H0 decays\n"
       ]
      },
      {
       "output_type": "stream",
       "stream": "stdout",
       "text": [
        "01:51:37.441 INFO     smodels.theory.slhaDecomposer:156 Ignoring A0 decays\n"
       ]
      },
      {
       "output_type": "stream",
       "stream": "stdout",
       "text": [
        "01:51:37.441 INFO     smodels.theory.slhaDecomposer:156 Ignoring H+ decays\n"
       ]
      },
      {
       "output_type": "stream",
       "stream": "stdout",
       "text": [
        "01:51:37.445 INFO     smodels.theory.crossSection:513 Ignoring 26 lower order cross-sections\n"
       ]
      },
      {
       "output_type": "stream",
       "stream": "stdout",
       "text": [
        " Compressed element =  [[],[]]\n",
        "number of elements compressed= 3\n",
        "compressed element= [[],[[nu,nu]]] compression type= invisible\n",
        "compressed element= [[],[[nu,nu]]] compression type= invisible\n",
        "compressed element= [[],[[nu,nu]]] compression type= invisible\n",
        "Uncompressed element =  [[[jet],[W+]],[[t-],[t+]]]\n",
        "numer of compressed elements = 0\n"
       ]
      }
     ],
     "prompt_number": 3
    },
    {
     "cell_type": "heading",
     "level": 5,
     "metadata": {},
     "source": [
      "Expected output"
     ]
    },
    {
     "cell_type": "code",
     "collapsed": false,
     "input": [
      " ## in the case of efficiency maps there is a single cluster and the avg mass is none\n",
      "assert str(compEl.motherElements[0][1]) == \"[[],[[nu,nu]]]\"\n",
      "assert len(compEl.motherElements) == 3\n",
      "assert str(compEl.motherElements[0][0]) == \"invisible\"\n",
      "assert len(notCompEl.motherElements) == 0"
     ],
     "language": "python",
     "metadata": {},
     "outputs": [],
     "prompt_number": 4
    },
    {
     "cell_type": "heading",
     "level": 3,
     "metadata": {},
     "source": [
      "Example of mass compression during decomposition"
     ]
    },
    {
     "cell_type": "heading",
     "level": 5,
     "metadata": {},
     "source": [
      "Expected output"
     ]
    },
    {
     "cell_type": "code",
     "collapsed": false,
     "input": [
      "\"\"\"setup decomposition with mass compression turned on\"\"\"\n",
      "\n",
      "doMassCompression = True\n",
      "maxMassGap = 5.*GeV\n",
      "topos = slhaDecomposer.decompose ( slhafile, .1*fb, doMassCompression, False, maxMassGap )\n",
      "for topo in topos:\n",
      "    if str(topo)!=\"[1,0][1,0]\":\n",
      "        continue\n",
      "    for element in topo.elementList:\n",
      "        if str(element)!=\"[[[b]],[[b]]]\":\n",
      "            continue\n",
      "        compEl = element\n",
      "        print 'Compressed element mass = ',compEl.getMasses()\n",
      "        print 'number of elements compressed =',len(compEl.motherElements)\n",
      "        for el in compEl.motherElements:\n",
      "            print 'compressed masses = ',el[1].getMasses(), 'compression type=', el[0]           \n",
      "        "
     ],
     "language": "python",
     "metadata": {},
     "outputs": [
      {
       "output_type": "stream",
       "stream": "stdout",
       "text": [
        "01:58:55.525 INFO     smodels.theory.slhaDecomposer:156 Ignoring t+ decays\n"
       ]
      },
      {
       "output_type": "stream",
       "stream": "stdout",
       "text": [
        "01:58:55.537 INFO     smodels.theory.slhaDecomposer:156 Ignoring higgs decays\n"
       ]
      },
      {
       "output_type": "stream",
       "stream": "stdout",
       "text": [
        "01:58:55.538 INFO     smodels.theory.slhaDecomposer:156 Ignoring H0 decays\n"
       ]
      },
      {
       "output_type": "stream",
       "stream": "stdout",
       "text": [
        "01:58:55.539 INFO     smodels.theory.slhaDecomposer:156 Ignoring A0 decays\n"
       ]
      },
      {
       "output_type": "stream",
       "stream": "stdout",
       "text": [
        "01:58:55.540 INFO     smodels.theory.slhaDecomposer:156 Ignoring H+ decays\n"
       ]
      },
      {
       "output_type": "stream",
       "stream": "stdout",
       "text": [
        "01:58:55.545 INFO     smodels.theory.crossSection:513 Ignoring 26 lower order cross-sections\n"
       ]
      },
      {
       "output_type": "stream",
       "stream": "stdout",
       "text": [
        "Compressed element mass =  [[6.48E+02 [GeV], 3.01E+02 [GeV]], [6.48E+02 [GeV], 3.01E+02 [GeV]]]\n",
        "number of elements compressed = 25\n",
        "compressed masses =  [[6.48E+02 [GeV], 3.04E+02 [GeV], 3.01E+02 [GeV]], [6.48E+02 [GeV], 3.04E+02 [GeV], 3.01E+02 [GeV]]] compression type= mass\n",
        "compressed masses =  [[6.48E+02 [GeV], 3.04E+02 [GeV], 3.01E+02 [GeV]], [6.48E+02 [GeV], 3.04E+02 [GeV], 3.01E+02 [GeV]]] compression type= mass\n",
        "compressed masses =  [[6.48E+02 [GeV], 3.04E+02 [GeV], 3.01E+02 [GeV]], [6.48E+02 [GeV], 3.04E+02 [GeV], 3.01E+02 [GeV]]] compression type= mass\n",
        "compressed masses =  [[6.48E+02 [GeV], 3.04E+02 [GeV], 3.01E+02 [GeV]], [6.48E+02 [GeV], 3.04E+02 [GeV], 3.01E+02 [GeV]]] compression type= mass\n",
        "compressed masses =  [[6.48E+02 [GeV], 3.04E+02 [GeV], 3.01E+02 [GeV]], [6.48E+02 [GeV], 3.04E+02 [GeV], 3.01E+02 [GeV]]] compression type= mass\n",
        "compressed masses =  [[6.48E+02 [GeV], 3.04E+02 [GeV], 3.01E+02 [GeV]], [6.48E+02 [GeV], 3.04E+02 [GeV], 3.01E+02 [GeV]]] compression type= mass\n",
        "compressed masses =  [[6.48E+02 [GeV], 3.04E+02 [GeV], 3.01E+02 [GeV]], [6.48E+02 [GeV], 3.04E+02 [GeV], 3.01E+02 [GeV]]] compression type= mass\n",
        "compressed masses =  [[6.48E+02 [GeV], 3.04E+02 [GeV], 3.01E+02 [GeV]], [6.48E+02 [GeV], 3.04E+02 [GeV], 3.01E+02 [GeV]]] compression type= mass\n",
        "compressed masses =  [[6.48E+02 [GeV], 3.04E+02 [GeV], 3.01E+02 [GeV]], [6.48E+02 [GeV], 3.04E+02 [GeV], 3.01E+02 [GeV]]] compression type= mass\n",
        "compressed masses =  [[6.48E+02 [GeV], 3.04E+02 [GeV], 3.01E+02 [GeV]], [6.48E+02 [GeV], 3.04E+02 [GeV], 3.01E+02 [GeV]]] compression type= mass\n",
        "compressed masses =  [[6.48E+02 [GeV], 3.04E+02 [GeV], 3.01E+02 [GeV]], [6.48E+02 [GeV], 3.04E+02 [GeV], 3.01E+02 [GeV]]] compression type= mass\n",
        "compressed masses =  [[6.48E+02 [GeV], 3.04E+02 [GeV], 3.01E+02 [GeV]], [6.48E+02 [GeV], 3.04E+02 [GeV], 3.01E+02 [GeV]]] compression type= mass\n",
        "compressed masses =  [[6.48E+02 [GeV], 3.04E+02 [GeV], 3.01E+02 [GeV]], [6.48E+02 [GeV], 3.04E+02 [GeV], 3.01E+02 [GeV]]] compression type= mass\n",
        "compressed masses =  [[6.48E+02 [GeV], 3.04E+02 [GeV], 3.01E+02 [GeV]], [6.48E+02 [GeV], 3.04E+02 [GeV], 3.01E+02 [GeV]]] compression type= mass\n",
        "compressed masses =  [[6.48E+02 [GeV], 3.04E+02 [GeV], 3.01E+02 [GeV]], [6.48E+02 [GeV], 3.04E+02 [GeV], 3.01E+02 [GeV]]] compression type= mass\n",
        "compressed masses =  [[6.48E+02 [GeV], 3.04E+02 [GeV], 3.01E+02 [GeV]], [6.48E+02 [GeV], 3.04E+02 [GeV], 3.01E+02 [GeV]]] compression type= mass\n",
        "compressed masses =  [[6.48E+02 [GeV], 3.04E+02 [GeV], 3.01E+02 [GeV]], [6.48E+02 [GeV], 3.04E+02 [GeV], 3.01E+02 [GeV]]] compression type= mass\n",
        "compressed masses =  [[6.48E+02 [GeV], 3.04E+02 [GeV], 3.01E+02 [GeV]], [6.48E+02 [GeV], 3.04E+02 [GeV], 3.01E+02 [GeV]]] compression type= mass\n",
        "compressed masses =  [[6.48E+02 [GeV], 3.04E+02 [GeV], 3.01E+02 [GeV]], [6.48E+02 [GeV], 3.04E+02 [GeV], 3.01E+02 [GeV]]] compression type= mass\n",
        "compressed masses =  [[6.48E+02 [GeV], 3.04E+02 [GeV], 3.01E+02 [GeV]], [6.48E+02 [GeV], 3.04E+02 [GeV], 3.01E+02 [GeV]]] compression type= mass\n",
        "compressed masses =  [[6.48E+02 [GeV], 3.04E+02 [GeV], 3.01E+02 [GeV]], [6.48E+02 [GeV], 3.04E+02 [GeV], 3.01E+02 [GeV]]] compression type= mass\n",
        "compressed masses =  [[6.48E+02 [GeV], 3.04E+02 [GeV], 3.01E+02 [GeV]], [6.48E+02 [GeV], 3.04E+02 [GeV], 3.01E+02 [GeV]]] compression type= mass\n",
        "compressed masses =  [[6.48E+02 [GeV], 3.04E+02 [GeV], 3.01E+02 [GeV]], [6.48E+02 [GeV], 3.04E+02 [GeV], 3.01E+02 [GeV]]] compression type= mass\n",
        "compressed masses =  [[6.48E+02 [GeV], 3.04E+02 [GeV], 3.01E+02 [GeV]], [6.48E+02 [GeV], 3.04E+02 [GeV], 3.01E+02 [GeV]]] compression type= mass\n",
        "compressed masses =  [[6.48E+02 [GeV], 3.04E+02 [GeV], 3.01E+02 [GeV]], [6.48E+02 [GeV], 3.04E+02 [GeV], 3.01E+02 [GeV]]] compression type= mass\n"
       ]
      }
     ],
     "prompt_number": 5
    },
    {
     "cell_type": "code",
     "collapsed": false,
     "input": [
      "masses = compEl.motherElements[0][1].getMasses()\n",
      "dm=abs(masses[0][1]-masses[0][2])/GeV\n",
      "assert len(compEl.motherElements) == 25\n",
      "assert compEl.motherElements[0][0] == 'mass'\n",
      "assert dm < 5.0"
     ],
     "language": "python",
     "metadata": {},
     "outputs": [],
     "prompt_number": 6
    }
   ],
   "metadata": {}
  }
 ]
}
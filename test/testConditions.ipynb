{
 "metadata": {
  "name": ""
 },
 "nbformat": 3,
 "nbformat_minor": 0,
 "worksheets": [
  {
   "cells": [
    {
     "cell_type": "heading",
     "level": 3,
     "metadata": {},
     "source": [
      "Example of condition evaluation"
     ]
    },
    {
     "cell_type": "code",
     "collapsed": false,
     "input": [
      "\"\"\"setup the condition evaluation \"\"\"\n",
      "import sys\n",
      "sys.path.append('../')\n",
      "from smodels.theory import slhaDecomposer\n",
      "from smodels.tools.physicsUnits import GeV, pb\n",
      "from smodels.experiment.databaseObjects import Database\n",
      "from smodels.theory.theoryPrediction import theoryPredictionsFor\n",
      "\n",
      "filename = \"../inputFiles/slha/lightEWinos.slha\"\n",
      "topolist = slhaDecomposer.decompose(filename,doCompress=True, doInvisible=True, minmassgap = 5*GeV)\n",
      "database = Database( \"./database/\" )\n",
      "expRes = database.getExpResults(txnames=[\"TChiWZoff\"])\n",
      "theoryPrediction = theoryPredictionsFor(expRes[0], topolist)[0]\n",
      "conditionViolation = theoryPrediction.conditions\n",
      "print theoryPrediction.value\n",
      "print conditionViolation"
     ],
     "language": "python",
     "metadata": {},
     "outputs": [
      {
       "output_type": "stream",
       "stream": "stdout",
       "text": [
        "10:42:10.311 INFO     smodels.theory.slhaDecomposer:156 Ignoring t+ decays\n"
       ]
      },
      {
       "output_type": "stream",
       "stream": "stdout",
       "text": [
        "10:42:10.317 INFO     smodels.theory.slhaDecomposer:156 Ignoring higgs decays\n"
       ]
      },
      {
       "output_type": "stream",
       "stream": "stdout",
       "text": [
        "10:42:10.317 INFO     smodels.theory.slhaDecomposer:156 Ignoring H0 decays\n"
       ]
      },
      {
       "output_type": "stream",
       "stream": "stdout",
       "text": [
        "10:42:10.318 INFO     smodels.theory.slhaDecomposer:156 Ignoring A0 decays\n"
       ]
      },
      {
       "output_type": "stream",
       "stream": "stdout",
       "text": [
        "10:42:10.318 INFO     smodels.theory.slhaDecomposer:156 Ignoring H+ decays\n"
       ]
      },
      {
       "output_type": "stream",
       "stream": "stdout",
       "text": [
        "10:42:10.321 INFO     smodels.theory.crossSection:513 Ignoring 1 lower order cross-sections\n"
       ]
      },
      {
       "output_type": "stream",
       "stream": "stdout",
       "text": [
        "['8.00E+00 [TeV]:1.40E+00 [pb]']\n",
        "{'Cgtr([[[mu+,mu-]],[[l,nu]]],[[[e+,e-]],[[l,nu]]])': 0.00E+00 }\n"
       ]
      }
     ],
     "prompt_number": 1
    },
    {
     "cell_type": "heading",
     "level": 5,
     "metadata": {},
     "source": [
      "Expected output"
     ]
    },
    {
     "cell_type": "code",
     "collapsed": false,
     "input": [
      "\"\"\"Verify that the condition and constraint are as expected\"\"\"\n",
      "from numpy.testing import assert_almost_equal\n",
      "assert_almost_equal((theoryPrediction.value[0].value/pb).asNumber(),1.40265,decimal=4)\n",
      "assert conditionViolation['Cgtr([[[mu+,mu-]],[[l,nu]]],[[[e+,e-]],[[l,nu]]])'] == 0."
     ],
     "language": "python",
     "metadata": {},
     "outputs": [],
     "prompt_number": 16
    }
   ],
   "metadata": {}
  }
 ]
}
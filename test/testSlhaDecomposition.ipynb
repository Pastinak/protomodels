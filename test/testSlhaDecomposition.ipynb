{
 "metadata": {
  "name": ""
 },
 "nbformat": 3,
 "nbformat_minor": 0,
 "worksheets": [
  {
   "cells": [
    {
     "cell_type": "heading",
     "level": 3,
     "metadata": {},
     "source": [
      "How to run SLHA decomposition"
     ]
    },
    {
     "cell_type": "code",
     "collapsed": false,
     "input": [
      "\"\"\"setup decomposition\"\"\"\n",
      "import sys\n",
      "sys.path.append('../')\n",
      "from smodels.theory import slhaDecomposer\n",
      "from smodels.tools.physicsUnits import GeV, fb\n",
      "\n",
      "slhafile=\"../inputFiles/slha/simplyGluino.slha\"\n",
      "topos = slhaDecomposer.decompose ( slhafile, .1*fb, False, False, 5.*GeV )\n",
      "print 'Number of global topologies=',len(topos)\n",
      "\n",
      "ellist=topos[0].elementList\n",
      "print 'Number of elements in topology=',len(ellist)\n",
      "print 'Element=',ellist[0].getParticles()\n"
     ],
     "language": "python",
     "metadata": {},
     "outputs": [
      {
       "output_type": "stream",
       "stream": "stdout",
       "text": [
        "Number of global topologies= 1\n",
        "Number of elements in topology= 1\n",
        "Element= [[['jet', 'jet']], [['jet', 'jet']]]\n"
       ]
      }
     ],
     "prompt_number": 5
    },
    {
     "cell_type": "heading",
     "level": 5,
     "metadata": {},
     "source": [
      "Expected output:"
     ]
    },
    {
     "cell_type": "code",
     "collapsed": false,
     "input": [
      "\"\"\"Verify the decomposition output\"\"\"\n",
      "assert len(topos) == 1\n",
      "assert len(ellist) == 1\n",
      "assert ellist[0].getParticles() == [[['jet','jet']],[['jet','jet']]]"
     ],
     "language": "python",
     "metadata": {},
     "outputs": [],
     "prompt_number": 7
    }
   ],
   "metadata": {}
  }
 ]
}
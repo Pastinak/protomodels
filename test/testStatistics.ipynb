{
 "metadata": {
  "name": ""
 },
 "nbformat": 3,
 "nbformat_minor": 0,
 "worksheets": [
  {
   "cells": [
    {
     "cell_type": "heading",
     "level": 3,
     "metadata": {},
     "source": [
      "How to use the statistics methods to compute limits"
     ]
    },
    {
     "cell_type": "code",
     "collapsed": false,
     "input": [
      "\"\"\"setup decomposition\"\"\"\n",
      "import sys\n",
      "sys.path.append('../')\n",
      "from smodels.tools import statistics\n",
      "from smodels.tools.physicsUnits import fb\n",
      "from numpy.testing import assert_almost_equal\n",
      "\n",
      "Nobs = 100 #Number of observed events\n",
      "Nexp = 100 #Number of expected events\n",
      "ErrNexp = 0. #Error on expected events\n",
      "lumi = 20./fb #Luminosity\n",
      "accError = 0. #Relative acceptance error\n",
      "\n",
      "#Compute upper limit using the default method\n",
      "ul = statistics.upperLimit(Nobs, Nexp, ErrNexp, lumi)\n",
      "print 'Default=',ul*lumi\n",
      "#Compute upper limit using bayesian method\n",
      "ulBayes = statistics._bayesianUpperLimit(Nobs, accError, Nexp, ErrNexp)\n",
      "print 'Bayes=',ulBayes\n",
      "\n",
      "#Compute CL interval\n",
      "cl = statistics._computeCLInterval ( 100., 100., 1. )\n",
      "print 'CL=',cl\n",
      "\n"
     ],
     "language": "python",
     "metadata": {},
     "outputs": [
      {
       "output_type": "stream",
       "stream": "stdout",
       "text": [
        "Default= 2.15E+01 \n",
        "Bayes="
       ]
      },
      {
       "output_type": "stream",
       "stream": "stdout",
       "text": [
        " 21.4256127382\n",
        "Integral="
       ]
      },
      {
       "output_type": "stream",
       "stream": "stdout",
       "text": [
        " 1.13686837722e-12\n",
        "CL= 18.0792727821\n"
       ]
      }
     ],
     "prompt_number": 4
    },
    {
     "cell_type": "heading",
     "level": 5,
     "metadata": {},
     "source": [
      "Expected output:"
     ]
    },
    {
     "cell_type": "code",
     "collapsed": false,
     "input": [
      "\"\"\"Verify the statistics output\"\"\"\n",
      "assert_almost_equal(ul.asNumber ( fb ), 1.076, decimal=1)\n",
      "assert_almost_equal(ulBayes, 21.4256127382, decimal=5)\n",
      "assert_almost_equal(cl, 18.0792727821, decimal=5 )"
     ],
     "language": "python",
     "metadata": {},
     "outputs": [],
     "prompt_number": 7
    }
   ],
   "metadata": {}
  }
 ]
}
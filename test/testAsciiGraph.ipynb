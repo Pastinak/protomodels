{
 "metadata": {
  "name": ""
 },
 "nbformat": 3,
 "nbformat_minor": 0,
 "worksheets": [
  {
   "cells": [
    {
     "cell_type": "heading",
     "level": 3,
     "metadata": {},
     "source": [
      "How to build an ascii graph from a LHE event"
     ]
    },
    {
     "cell_type": "code",
     "collapsed": false,
     "input": [
      "\"\"\"setup Graph\"\"\"\n",
      "import sys\n",
      "sys.path.append('../')\n",
      "from smodels.tools import asciiGraph\n",
      "from smodels.theory import lheReader, lheDecomposer, crossSection\n",
      "from smodels.installation import installDirectory\n",
      "\n",
      "#Load LHE file\n",
      "filename = \"%sinputFiles/lhe/simplyGluino.lhe\" % (installDirectory() )\n",
      "reader = lheReader.LheReader(filename)\n",
      "#Get event\n",
      "event = reader.next()\n",
      "#Create an element from the event\n",
      "element = lheDecomposer.elementFromEvent(event,crossSection.XSectionList())\n",
      "#Draw the Element as an ascii graph:\n",
      "elGraph = asciiGraph.asciidraw ( element, border=True )\n",
      "print elGraph"
     ],
     "language": "python",
     "metadata": {},
     "outputs": [
      {
       "output_type": "stream",
       "stream": "stdout",
       "text": [
        " /------------\\\n",
        " |    q  q    |\n",
        " |    \\ /     |\n",
        " | ----*----  |\n",
        " | ----*----  |\n",
        " |    / \\     |\n",
        " |    q  q    |\n",
        " \\------------/\n",
        "\n"
       ]
      }
     ],
     "prompt_number": 1
    },
    {
     "cell_type": "heading",
     "level": 5,
     "metadata": {},
     "source": [
      "Expected output:"
     ]
    },
    {
     "cell_type": "code",
     "collapsed": false,
     "input": [
      "\"\"\"Verify the ascii graph output\"\"\"\n",
      "expected_output = \"\"\" /------------\\\\\\n |    q  q    |\n",
      " |    \\ /     |\n",
      " | ----*----  |\n",
      " | ----*----  |\n",
      " |    / \\     |\n",
      " |    q  q    |\n",
      " \\------------/\n",
      "\"\"\"\n",
      "assert elGraph == expected_output"
     ],
     "language": "python",
     "metadata": {},
     "outputs": [],
     "prompt_number": 8
    }
   ],
   "metadata": {}
  }
 ]
}
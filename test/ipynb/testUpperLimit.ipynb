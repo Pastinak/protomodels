{
 "metadata": {
  "name": ""
 },
 "nbformat": 3,
 "nbformat_minor": 0,
 "worksheets": [
  {
   "cells": [
    {
     "cell_type": "heading",
     "level": 3,
     "metadata": {},
     "source": [
      "How to obtain upper limits for a specific (upper limit) result and topology"
     ]
    },
    {
     "cell_type": "code",
     "collapsed": false,
     "input": [
      "\"\"\"setup upper limits\"\"\"\n",
      "import sys\n",
      "sys.path.append('../')\n",
      "from smodels.tools.physicsUnits import GeV, pb, fb\n",
      "from smodels.experiment.databaseObjects import Database\n",
      "from numpy.testing import assert_almost_equal\n",
      "\n",
      "database=Database ( \"./database\" )\n",
      "#Select the desired experimental result\n",
      "#(selecting datasetIDs == None restrict the experimental results to upper limit-type only)\n",
      "expRes=database.getExpResults ( analysisIDs = [ \"ATLAS-SUSY-2013-05\" ], datasetIDs= [ None ])[0]\n",
      "\n",
      "#Now compute upper limits for specific topologies and masses:\n",
      "#Get upper limit for the T2bb topology with mother mass = 400 GeV and daughter mass = 100 GeV\n",
      "ulT2bb = expRes.getUpperLimitFor (txname= \"T2bb\",  mass=[[400*GeV,100*GeV],[400*GeV,100*GeV]] )\n",
      "print ulT2bb\n",
      "\n",
      "#Get upper limit for the T6bbWW topology with mother mass = 150 GeV, intermediate mass = 140 GeV\n",
      "#and daughter mass = 135 GeV\n",
      "ulT6bbWW = expRes.getUpperLimitFor (txname= \"T6bbWW\",  mass=[[150*GeV,140*GeV,135*GeV],[150*GeV,140*GeV,135*GeV]] )\n",
      "print ulT6bbWW\n",
      "\n",
      "#If the required mass is outside the data grid, the result is None\n",
      "ulOut = expRes.getUpperLimitFor (txname= \"T6bbWW\",  mass=[[400*GeV,250*GeV,100*GeV],[400*GeV,250*GeV,100*GeV]] )\n",
      "print ulOut\n"
     ],
     "language": "python",
     "metadata": {},
     "outputs": [
      {
       "output_type": "stream",
       "stream": "stdout",
       "text": [
        "6.09E-02 [pb]\n",
        "3.25E+02 [pb]"
       ]
      },
      {
       "output_type": "stream",
       "stream": "stdout",
       "text": [
        "\n",
        "None"
       ]
      },
      {
       "output_type": "stream",
       "stream": "stdout",
       "text": [
        "\n"
       ]
      }
     ],
     "prompt_number": 4
    },
    {
     "cell_type": "heading",
     "level": 5,
     "metadata": {},
     "source": [
      "Expected output:"
     ]
    },
    {
     "cell_type": "code",
     "collapsed": false,
     "input": [
      "\"\"\"Verify the upper limit values\"\"\"\n",
      "assert_almost_equal(ulT2bb.asNumber(pb),0.0608693,decimal=5)\n",
      "assert_almost_equal(ulT6bbWW.asNumber(pb),324.682,decimal=5)\n",
      "assert ulOut == None"
     ],
     "language": "python",
     "metadata": {},
     "outputs": [],
     "prompt_number": 5
    },
    {
     "cell_type": "heading",
     "level": 3,
     "metadata": {},
     "source": [
      "How to obtain upper limits for a specific (efficiency map) result and dataset (signal region)"
     ]
    },
    {
     "cell_type": "code",
     "collapsed": false,
     "input": [
      "\"\"\"setup upper limits\"\"\"\n",
      "\n",
      "#Select the desired experimental result\n",
      "#(selecting datasetIDs != None restrict the experimental results to efficiency map-type only)\n",
      "expRes=database.getExpResults(analysisIDs = [ \"ATLAS-CONF-2013-037\" ])[0]\n",
      "\n",
      "#Get upper limit for the signal region ANA3-CUT1 (note that txnames should not be defined)\n",
      "ulANA3CUT1 = expRes.getUpperLimitFor(dataID='ANA3-CUT1')\n",
      "print ulANA3CUT1\n",
      "#Get upper limit for the signal region ANA3-CUT2 (note that txnames should not be defined)\n",
      "ulANA3CUT2 = expRes.getUpperLimitFor(dataID='ANA3-CUT2')\n",
      "print ulANA3CUT2\n",
      "#Get upper limit for the signal region ANA5-CUT4 (note that txnames should not be defined)\n",
      "ulANA5CUT4 = expRes.getUpperLimitFor(dataID='ANA5-CUT4')\n",
      "print ulANA5CUT4\n",
      "\n",
      "#The upper limits are read directly from the database. In order to re-compute them using the number\n",
      "#of observed events, number of BG events and the systematic error one must set compute=True\n",
      "ul = expRes.getUpperLimitFor(dataID='ANA5-CUT4',compute=True)\n",
      "print ul"
     ],
     "language": "python",
     "metadata": {},
     "outputs": [
      {
       "output_type": "stream",
       "stream": "stdout",
       "text": [
        "4.50E-01 [fb]\n",
        "6.79E+00 [fb]\n",
        "3.90E-01 [fb]\n",
        "3.90E-01 [fb]\n"
       ]
      }
     ],
     "prompt_number": 6
    },
    {
     "cell_type": "code",
     "collapsed": false,
     "input": [
      "\"\"\"Verify the upper limit values\"\"\"\n",
      "assert_almost_equal(ulANA3CUT1.asNumber(fb),0.45,decimal=3)\n",
      "assert_almost_equal(ulANA3CUT2.asNumber(fb),6.79,decimal=3)\n",
      "assert_almost_equal(ulANA5CUT4.asNumber(fb),0.39,decimal=3)\n",
      "assert_almost_equal(ul.asNumber(fb),0.39,decimal=3)"
     ],
     "language": "python",
     "metadata": {},
     "outputs": [],
     "prompt_number": 9
    }
   ],
   "metadata": {}
  }
 ]
}
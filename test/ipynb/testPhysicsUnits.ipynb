{
 "metadata": {
  "name": ""
 },
 "nbformat": 3,
 "nbformat_minor": 0,
 "worksheets": [
  {
   "cells": [
    {
     "cell_type": "heading",
     "level": 3,
     "metadata": {},
     "source": [
      "How to use units"
     ]
    },
    {
     "cell_type": "code",
     "collapsed": false,
     "input": [
      "\"\"\"setup units\"\"\"\n",
      "import sys\n",
      "sys.path.append('../')\n",
      "from smodels.tools.physicsUnits import GeV, TeV, fb, pb\n",
      "from numpy.testing import assert_almost_equal\n",
      "\n",
      "#Cross-section units\n",
      "x1= 3000.0 * fb\n",
      "x2= 3.0 * pb\n",
      "print x1,x2\n",
      "print x1 == x2\n",
      "\n",
      "#Energy units\n",
      "d1= 7000.0 * GeV\n",
      "d2= 7.0 * TeV\n",
      "print d1,d2\n",
      "print d2 == d1\n",
      "\n",
      "#Luminosity units\n",
      "l1= 2.0/fb \n",
      "l2 = 2000./pb\n",
      "print l1,l2\n",
      "print l1 == l2"
     ],
     "language": "python",
     "metadata": {},
     "outputs": [
      {
       "output_type": "stream",
       "stream": "stdout",
       "text": [
        "3.00E+03 [fb] 3.00E+00 [pb]\n",
        "True\n",
        "7.00E+03 [GeV] 7.00E+00 [TeV]\n",
        "True\n",
        "2.00E+00 [1/fb] 2.00E+03 [1/pb]\n",
        "True\n"
       ]
      }
     ],
     "prompt_number": 3
    },
    {
     "cell_type": "heading",
     "level": 5,
     "metadata": {},
     "source": [
      "Expected output:"
     ]
    },
    {
     "cell_type": "code",
     "collapsed": false,
     "input": [
      "\"\"\"Verify the units\"\"\"\n",
      "assert_almost_equal(x1.asNumber(fb),x2.asNumber(fb),decimal=4)\n",
      "assert_almost_equal(d1.asNumber(GeV),d2.asNumber(GeV),decimal=4)\n",
      "assert_almost_equal((l1*x1).asNumber(),6000.,decimal=4)"
     ],
     "language": "python",
     "metadata": {},
     "outputs": [],
     "prompt_number": 9
    }
   ],
   "metadata": {}
  }
 ]
}
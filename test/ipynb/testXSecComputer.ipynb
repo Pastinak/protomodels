{
 "metadata": {
  "name": ""
 },
 "nbformat": 3,
 "nbformat_minor": 0,
 "worksheets": [
  {
   "cells": [
    {
     "cell_type": "heading",
     "level": 3,
     "metadata": {},
     "source": [
      "How to use the cross-section computer tool"
     ]
    },
    {
     "cell_type": "code",
     "collapsed": false,
     "input": [
      "\"\"\"setup the cross-sections\"\"\"\n",
      "import sys\n",
      "sys.path.append('../')\n",
      "from smodels.tools import xsecComputer\n",
      "from smodels.tools.xsecComputer import LO, NLL\n",
      "from smodels.tools.physicsUnits import TeV, fb\n",
      "from numpy.testing import assert_almost_equal\n",
      "\n",
      "#Choose SLHA file\n",
      "slhafile=\"../inputFiles/slha/simplyGluino.slha\"\n",
      "#Compute LO cross section with 1000 events\"\"\"\n",
      "wLO = xsecComputer.computeXSec(8*TeV,LO,1000, slhafile)\n",
      "print wLO\n",
      "\n",
      "#Compute NLO+NLL cross-section with 1000 events (uses NLLfast)\n",
      "wNLL = xsecComputer.computeXSec(8*TeV,NLL,1000, slhafile )\n",
      "print wNLL\n"
     ],
     "language": "python",
     "metadata": {},
     "outputs": [
      {
       "output_type": "stream",
       "stream": "stdout",
       "text": [
        "['8 TeV (LO):2.68E-01 [pb]']\n",
        "['8 TeV (NLO+NLL):5.83E-01 [pb]']"
       ]
      },
      {
       "output_type": "stream",
       "stream": "stdout",
       "text": [
        "\n"
       ]
      }
     ],
     "prompt_number": 2
    },
    {
     "cell_type": "heading",
     "level": 5,
     "metadata": {},
     "source": [
      "Expected output:"
     ]
    },
    {
     "cell_type": "code",
     "collapsed": false,
     "input": [
      "\"\"\"Verify the upper limit values\"\"\"\n",
      "assert_almost_equal(wLO[0].value.asNumber(fb),268.4799,decimal=3)\n",
      "assert_almost_equal(wNLL[0].value.asNumber(fb),583.165,decimal=3)\n"
     ],
     "language": "python",
     "metadata": {},
     "outputs": [],
     "prompt_number": 5
    }
   ],
   "metadata": {}
  }
 ]
}
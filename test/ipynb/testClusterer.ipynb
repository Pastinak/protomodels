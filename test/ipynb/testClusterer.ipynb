{
 "metadata": {
  "name": ""
 },
 "nbformat": 3,
 "nbformat_minor": 0,
 "worksheets": [
  {
   "cells": [
    {
     "cell_type": "heading",
     "level": 3,
     "metadata": {},
     "source": [
      "Example of mass clustering"
     ]
    },
    {
     "cell_type": "code",
     "collapsed": false,
     "input": [
      "\"\"\"setup the elements clusterer \"\"\"\n",
      "import sys\n",
      "sys.path.append('../')\n",
      "from smodels.theory import lheReader, lheDecomposer, crossSection\n",
      "from smodels.theory import clusterTools\n",
      "from smodels.experiment.txnameObject import TxName, TxNameData\n",
      "from smodels.installation import installDirectory\n",
      "from smodels.tools.physicsUnits import GeV, pb, fb\n",
      "import copy\n",
      "\n",
      "filename = \"%sinputFiles/lhe/simplyGluino.lhe\" % (installDirectory() )\n",
      "reader = lheReader.LheReader(filename)\n",
      "event = reader.next()\n",
      "event_xsec=event.metainfo[\"totalxsec\"]\n",
      "xsecs = crossSection.getXsecFromLHEFile(filename)\n",
      "element = lheDecomposer.elementFromEvent(event, xsecs )\n",
      "element.txname=None\n",
      "e0=copy.deepcopy(element) ## has a gluino with mass of 675 GeV\n",
      "\n",
      "## make a second element with a slightly different gluino mass\n",
      "e1=copy.deepcopy(element)\n",
      "e1.branches[0].masses[0]=725*GeV\n",
      "e1.branches[1].masses[0]=725*GeV"
     ],
     "language": "python",
     "metadata": {},
     "outputs": [],
     "prompt_number": 1
    },
    {
     "cell_type": "heading",
     "level": 4,
     "metadata": {},
     "source": [
      "Mass clustering for efficiency maps (simply combine all)"
     ]
    },
    {
     "cell_type": "code",
     "collapsed": false,
     "input": [
      "\"\"\"setup the efficiency map clusterer\"\"\"\n",
      "#Now cluster the two different gluino masses.\n",
      "effCluster = clusterTools.groupAll([e0,e1])\n",
      "print type(effCluster)\n",
      "for el in effCluster.elements: print el"
     ],
     "language": "python",
     "metadata": {},
     "outputs": [
      {
       "output_type": "stream",
       "stream": "stdout",
       "text": [
        "<class 'smodels.theory.clusterTools.ElementCluster'>\n",
        "[[[jet,jet]],[[jet,jet]]]\n",
        "[[[jet,jet]],[[jet,jet]]]\n"
       ]
      }
     ],
     "prompt_number": 2
    },
    {
     "cell_type": "heading",
     "level": 5,
     "metadata": {},
     "source": [
      "Expected output"
     ]
    },
    {
     "cell_type": "code",
     "collapsed": false,
     "input": [
      " ## in the case of efficiency maps there is a single cluster and the avg mass is none\n",
      "assert type(effCluster) == type(clusterTools.ElementCluster())\n",
      "assert effCluster.getAvgMass() == None"
     ],
     "language": "python",
     "metadata": {},
     "outputs": [],
     "prompt_number": 3
    },
    {
     "cell_type": "heading",
     "level": 4,
     "metadata": {},
     "source": [
      "Mass clustering for upper limits (combine according with the UL values)"
     ]
    },
    {
     "cell_type": "code",
     "collapsed": false,
     "input": [
      "\"\"\"setup the UL data\"\"\"\n",
      "data = [ [ [[ 675.*GeV, 200.*GeV], [ 675.*GeV, 200.*GeV] ],  .03*fb ], \n",
      "       [ [[ 725.*GeV,200.*GeV], [ 725.*GeV,200.*GeV] ], .06*fb ] ,\n",
      "       [ [[ 750.*GeV,250.*GeV], [ 750.*GeV,250.*GeV] ], .03*fb ] ]\n",
      "txnameData=TxNameData ( \"upperLimits\", data )\n",
      "txname=TxName(\"./database/8TeV/ATLAS/ATLAS-SUSY-2013-05/data/T2bb.txt\",\"info\")\n",
      "txname.txnameData = txnameData"
     ],
     "language": "python",
     "metadata": {},
     "outputs": [],
     "prompt_number": 4
    },
    {
     "cell_type": "code",
     "collapsed": false,
     "input": [
      "\"\"\"setup the UL clusterers for two relative distances\"\"\"\n",
      "#Cluster according to data\n",
      "maxDistA = 0.5 #maximum allowed relative distance in UL space\n",
      "maxDistB = 5. #maximum allowed relative distance in UL space\n",
      "ulClusterA = clusterTools.clusterElements([e0,e1],txname,maxDistA)\n",
      "ulClusterB = clusterTools.clusterElements([e0,e1],txname,maxDistB)\n",
      "#With a small allowed distance the elements are not clustered in a single cluster\n",
      "print 'number of clusters=',len(ulClusterA)\n",
      "for ic,cluster in enumerate(ulClusterA):\n",
      "    print 'cluster',ic\n",
      "    for el in cluster.elements: print el,el.getMasses()\n",
      "#With a higher allowed distance the elements are clustered in a single cluster\n",
      "print '\\nnumber of clusters=',len(ulClusterB)\n",
      "for ic,cluster in enumerate(ulClusterB):\n",
      "    print 'cluster',ic\n",
      "    for el in cluster.elements: print el,el.getMasses()\n"
     ],
     "language": "python",
     "metadata": {},
     "outputs": [
      {
       "output_type": "stream",
       "stream": "stdout",
       "text": [
        "number of clusters= 2\n",
        "cluster 0\n",
        "[[[jet,jet]],[[jet,jet]]] [[6.75E+02 [GeV], 2.00E+02 [GeV]], [6.75E+02 [GeV], 2.00E+02 [GeV]]]\n",
        "cluster 1\n",
        "[[[jet,jet]],[[jet,jet]]] [[7.25E+02 [GeV], 2.00E+02 [GeV]], [7.25E+02 [GeV], 2.00E+02 [GeV]]]\n",
        "\n",
        "number of clusters= 1\n",
        "cluster 0\n",
        "[[[jet,jet]],[[jet,jet]]] [[6.75E+02 [GeV], 2.00E+02 [GeV]], [6.75E+02 [GeV], 2.00E+02 [GeV]]]\n",
        "[[[jet,jet]],[[jet,jet]]] [[7.25E+02 [GeV], 2.00E+02 [GeV]], [7.25E+02 [GeV], 2.00E+02 [GeV]]]\n"
       ]
      }
     ],
     "prompt_number": 5
    },
    {
     "cell_type": "heading",
     "level": 5,
     "metadata": {},
     "source": [
      "Expected output"
     ]
    },
    {
     "cell_type": "code",
     "collapsed": false,
     "input": [
      "assert len(ulClusterA) == 2\n",
      "assert len(ulClusterB) == 1"
     ],
     "language": "python",
     "metadata": {},
     "outputs": [],
     "prompt_number": 7
    },
    {
     "cell_type": "code",
     "collapsed": false,
     "input": [
      "assert ulClusterB[0].getAvgMass()[0][0] == 700.* GeV"
     ],
     "language": "python",
     "metadata": {},
     "outputs": [],
     "prompt_number": 8
    }
   ],
   "metadata": {}
  }
 ]
}
{
 "metadata": {
  "name": ""
 },
 "nbformat": 3,
 "nbformat_minor": 0,
 "worksheets": [
  {
   "cells": [
    {
     "cell_type": "heading",
     "level": 3,
     "metadata": {},
     "source": [
      "How to test a single topology file"
     ]
    },
    {
     "cell_type": "code",
     "collapsed": false,
     "input": [
      "\"\"\"setup decomposition\"\"\"\n",
      "import sys\n",
      "sys.path.append('../')\n",
      "\n",
      "from smodels.theory import slhaDecomposer\n",
      "from smodels.tools.physicsUnits import GeV, fb, TeV\n",
      "\n",
      "slhafile=\"../inputFiles/slha/simplyGluino.slha\"\n",
      "topos = slhaDecomposer.decompose ( slhafile, .1*fb, False, False, 5.*GeV )\n",
      "print 'Number of topologies=',len(topos)\n",
      "for topo in topos:\n",
      "    print 'Number of elements=',len(topo.elementList)\n",
      "    for element in topo.elementList:\n",
      "        print 'Element=',element,'mass=',element.getMasses()"
     ],
     "language": "python",
     "metadata": {},
     "outputs": [
      {
       "output_type": "stream",
       "stream": "stdout",
       "text": [
        "Number of topologies= 1\n",
        "Number of elements= 1\n",
        "Element= [[[jet,jet]],[[jet,jet]]] mass= [[6.75E+02 [GeV], 2.00E+02 [GeV]], [6.75E+02 [GeV], 2.00E+02 [GeV]]]\n"
       ]
      }
     ],
     "prompt_number": 2
    },
    {
     "cell_type": "heading",
     "level": 5,
     "metadata": {},
     "source": [
      "Expected output:"
     ]
    },
    {
     "cell_type": "code",
     "collapsed": false,
     "input": [
      "\"\"\"Verify the decomposition output\"\"\"\n",
      "assert len(topos) == 1\n",
      "assert len(topos[0].elementList) == 1\n",
      "assert topos[0].elementList[0].getParticles() == [[['jet','jet']],[['jet','jet']]]\n",
      "assert topos[0].elementList[0].getMasses() == [[675.*GeV,200.*GeV],[675.*GeV,200.*GeV]]"
     ],
     "language": "python",
     "metadata": {},
     "outputs": [],
     "prompt_number": 5
    }
   ],
   "metadata": {}
  }
 ]
}
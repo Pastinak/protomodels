{
 "metadata": {
  "name": ""
 },
 "nbformat": 3,
 "nbformat_minor": 0,
 "worksheets": [
  {
   "cells": [
    {
     "cell_type": "heading",
     "level": 3,
     "metadata": {},
     "source": [
      "How to call RunSModelS from your own code"
     ]
    },
    {
     "cell_type": "code",
     "collapsed": false,
     "input": [
      "\"\"\"setup SModelS run and output for a valid file\"\"\"\n",
      "import sys\n",
      "sys.path.append('../')\n",
      "from smodels.tools.physicsUnits import GeV, fb\n",
      "from smodels.installation import installDirectory\n",
      "from smodels.tools import summaryReader\n",
      "from runSModelS import main\n",
      "\n",
      "#Test a good file\n",
      "filename = \"%s/inputFiles/slha/gluino_squarks.slha\" % (installDirectory() )\n",
      "main(filename, parameterFile=\"%s/test/testParameters.ini\" %installDirectory(), \n",
      "     outputFile=\"%s/test/testOutput.txt\" %installDirectory())\n",
      "fout = open(\"%s/test/testOutput.txt\" %installDirectory(),'r')\n",
      "print fout.read()\n",
      "fout.close()"
     ],
     "language": "python",
     "metadata": {},
     "outputs": [
      {
       "output_type": "stream",
       "stream": "stdout",
       "text": [
        "18:27:47.060 WARNING  runSModelS:55  Removing old output file /home/lessa/smodels//test/testOutput.txt\n"
       ]
      },
      {
       "output_type": "stream",
       "stream": "stdout",
       "text": [
        "18:27:47.126 INFO     smodels.theory.slhaDecomposer:157 Ignoring t+ decays\n"
       ]
      },
      {
       "output_type": "stream",
       "stream": "stdout",
       "text": [
        "18:27:47.131 INFO     smodels.theory.slhaDecomposer:157 Ignoring higgs decays\n"
       ]
      },
      {
       "output_type": "stream",
       "stream": "stdout",
       "text": [
        "18:27:47.131 INFO     smodels.theory.slhaDecomposer:157 Ignoring H0 decays\n"
       ]
      },
      {
       "output_type": "stream",
       "stream": "stdout",
       "text": [
        "18:27:47.131 INFO     smodels.theory.slhaDecomposer:157 Ignoring A0 decays\n"
       ]
      },
      {
       "output_type": "stream",
       "stream": "stdout",
       "text": [
        "18:27:47.132 INFO     smodels.theory.slhaDecomposer:157 Ignoring H+ decays\n"
       ]
      },
      {
       "output_type": "stream",
       "stream": "stdout",
       "text": [
        "18:27:47.161 INFO     smodels.theory.crossSection:514 Ignoring 76 lower order cross-sections\n"
       ]
      },
      {
       "output_type": "stream",
       "stream": "stdout",
       "text": [
        "Input status: 1\n",
        "Decomposition output status: 1 #decomposition was successful\n",
        "#Input File: /home/lessa/smodels//inputFiles/slha/gluino_squarks.slha\n",
        "#maxcond = 0.2\n",
        "#minmassgap = 5.\n",
        "#sigmacut = 0.03\n",
        "#Database version: unittest\n",
        "================================================================================\n",
        "Input status: 1\n",
        "Decomposition output status: 1 #decomposition was successful\n",
        "#Input File: /home/lessa/smodels//inputFiles/slha/gluino_squarks.slha\n",
        "#maxcond = 0.2\n",
        "#minmassgap = 5.\n",
        "#sigmacut = 0.03\n",
        "#Database version: unittest\n",
        "================================================================================\n",
        "#Analysis  Tx_Name  Sqrts  Cond. Violation  Theory_Value(fb)  Exp_limit(fb)  r\n",
        "\n",
        " ATLAS-SUSY-2013-02             T6WW 8.00E+00    0.0  6.617E+00  1.718E+01  3.851E-01\n",
        "#T6WW\n",
        "--------------------------------------------------------------------------------\n",
        " ATLAS-SUSY-2013-02               T2 8.00E+00    0.0  1.773E+00  6.099E+00  2.908E-01\n",
        "#T2\n",
        "--------------------------------------------------------------------------------\n",
        " ATLAS-SUSY-2013-02             T5WW 8.00E+00    0.0  9.069E+00  3.234E+01  2.805E-01\n",
        "#T5WW\n",
        "--------------------------------------------------------------------------------\n",
        " ATLAS-SUSY-2013-12           TChiWZ 8.00E+00    0.0  1.847E+01  3.301E+02  5.595E-02\n",
        "#TChiWZ\n",
        "--------------------------------------------------------------------------------\n",
        " ATLAS-SUSY-2013-02               T1 8.00E+00    0.0  3.917E-01  1.082E+01  3.621E-02\n",
        "#T1\n",
        "\n",
        " \n",
        "================================================================================\n",
        "The highest r value is = 3.85E-01 \n",
        "\n"
       ]
      }
     ],
     "prompt_number": 1
    },
    {
     "cell_type": "heading",
     "level": 5,
     "metadata": {},
     "source": [
      "Expected output"
     ]
    },
    {
     "cell_type": "code",
     "collapsed": false,
     "input": [
      "\"\"\"Verify the output\"\"\"\n",
      "output = summaryReader.Summary(\"%s/test/testOutput.txt\" %installDirectory())\n",
      "expected = summaryReader.Summary(\"%s/test/summary_default.txt\" %installDirectory())\n",
      "assert expected == output"
     ],
     "language": "python",
     "metadata": {},
     "outputs": [],
     "prompt_number": 4
    },
    {
     "cell_type": "code",
     "collapsed": false,
     "input": [
      "\"\"\"setup SModelS run and output for a non-existing file\"\"\"\n",
      "\n",
      "filename = \"%s/inputFiles/slha/I_dont_exist.slha\" % (installDirectory() )\n",
      "main(filename,parameterFile=\"%s/test/testParameters.ini\" %installDirectory(), \n",
      "     outputFile=\"%s/test/testOutput.txt\" %installDirectory())\n",
      "fout = open(\"%s/test/testOutput.txt\" %installDirectory(),'r')\n",
      "print fout.read()\n",
      "fout.close()"
     ],
     "language": "python",
     "metadata": {},
     "outputs": [
      {
       "output_type": "stream",
       "stream": "stdout",
       "text": [
        "18:28:32.020 WARNING  runSModelS:55  Removing old output file /home/lessa/smodels//test/testOutput.txt\n"
       ]
      },
      {
       "output_type": "stream",
       "stream": "stdout",
       "text": [
        "Input status: -3\n",
        "Decomposition output status: -2 #bad input file, did not run decomposition\n",
        "Could not read input SLHA file\n",
        "#Input File: /home/lessa/smodels//inputFiles/slha/I_dont_exist.slha\n",
        "#maxcond = 0.2\n",
        "#minmassgap = 5.\n",
        "#sigmacut = 0.03\n",
        "#Database version: unittest\n",
        "================================================================================\n",
        "\n"
       ]
      }
     ],
     "prompt_number": 2
    },
    {
     "cell_type": "heading",
     "level": 5,
     "metadata": {},
     "source": [
      "Expected output"
     ]
    },
    {
     "cell_type": "code",
     "collapsed": false,
     "input": [
      "\"\"\"Verify the output\"\"\"\n",
      "output = summaryReader.Summary(\"%s/test/testOutput.txt\" %installDirectory())\n",
      "expected = summaryReader.Summary(\"%s/test/summary_bad_default.txt\" %installDirectory())\n",
      "assert expected == output"
     ],
     "language": "python",
     "metadata": {},
     "outputs": [],
     "prompt_number": 3
    }
   ],
   "metadata": {}
  }
 ]
}
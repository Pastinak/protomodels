{
 "metadata": {
  "name": ""
 },
 "nbformat": 3,
 "nbformat_minor": 0,
 "worksheets": [
  {
   "cells": [
    {
     "cell_type": "heading",
     "level": 3,
     "metadata": {},
     "source": [
      "Example of interpolation of data grid with 2+ dimensions"
     ]
    },
    {
     "cell_type": "code",
     "collapsed": false,
     "input": [
      "\"\"\"setup the data grid for ATLAS-SUSY-2013-05,T2bb\"\"\"\n",
      "import sys\n",
      "sys.path.insert(0,'../')\n",
      "from smodels.experiment.databaseObjects import Database\n",
      "from smodels.experiment.txnameObject import TxNameData\n",
      "from smodels.tools.physicsUnits import GeV, TeV, pb, fb\n",
      "from numpy.testing import assert_almost_equal\n",
      "\n",
      "\n",
      "#Load database\n",
      "database = Database( \"./database/\" )\n",
      "#Get result\n",
      "expRes = database.getExpResults(analysisIDs=[\"ATLAS-SUSY-2013-05\"], datasetIDs=[None], txnames=[\"T2bb\" ])[0]\n",
      "#Select txname\n",
      "txname = expRes.datasets[0].txnameList[0] # T2bb\n",
      "#Interpolate for massA\n",
      "massA = [[ 300.*GeV,100.*GeV], [ 300.*GeV,100.*GeV]]\n",
      "resultA = txname.txnameData.getValueFor(massA)\n",
      "print massA,resultA\n",
      "#Interpolate for massB\n",
      "massB = [[ 300.*GeV,125.*GeV], [ 300.*GeV,125.*GeV]]\n",
      "resultB = txname.txnameData.getValueFor(massB)\n",
      "print massB,resultB\n",
      "#Interpolate for massC\n",
      "massC = [[ 300.*GeV,127.*GeV], [ 300.*GeV,127.5*GeV] ]\n",
      "resultC = txname.txnameData.getValueFor(massC)\n",
      "print massC,resultC\n",
      "#Interpolate for massD\n",
      "massD = [[ 600.*GeV,120.*GeV], [ 600.*GeV,130.*GeV] ]\n",
      "resultD = txname.txnameData.getValueFor(massD)\n",
      "print massD,resultD\n",
      "#Try to interpolate for massE (outside the plane)\n",
      "massE = [[ 300.*GeV,120.*GeV], [ 300.*GeV,130.*GeV] ]\n",
      "resultE = txname.txnameData.getValueFor(massE)\n",
      "print massE,resultE"
     ],
     "language": "python",
     "metadata": {},
     "outputs": [
      {
       "output_type": "stream",
       "stream": "stdout",
       "text": [
        "[[3.00E+02 [GeV], 1.00E+02 [GeV]], [3.00E+02 [GeV], 1.00E+02 [GeV]]] 1.62E-01 [pb]\n",
        "[[3.00E+02 [GeV], 1.25E+02 [GeV]], [3.00E+02 [GeV], 1.25E+02 [GeV]]] 2.38E-01 [pb]\n",
        "[[3.00E+02 [GeV], 1.27E+02 [GeV]], [3.00E+02 [GeV], 1.28E+02 [GeV]]] 2.45E-01 [pb]\n",
        "[[6.00E+02 [GeV], 1.20E+02 [GeV]], [6.00E+02 [GeV], 1.30E+02 [GeV]]] 1.97E-02 [pb]\n",
        "[[3.00E+02 [GeV], 1.20E+02 [GeV]], [3.00E+02 [GeV], 1.30E+02 [GeV]]] None\n"
       ]
      }
     ],
     "prompt_number": 1
    },
    {
     "cell_type": "heading",
     "level": 5,
     "metadata": {},
     "source": [
      "Expected output"
     ]
    },
    {
     "cell_type": "code",
     "collapsed": false,
     "input": [
      "\"\"\"Verify interpolation in 2D\"\"\"\n",
      "assert_almost_equal(resultA.asNumber(pb),0.162457,decimal=5)\n",
      "assert_almost_equal(resultB.asNumber(pb),0.237745,decimal=5)\n",
      "assert_almost_equal(resultC.asNumber(pb),0.244520,decimal=5)\n",
      "assert_almost_equal(resultD.asNumber(pb),0.019715,decimal=5)\n",
      "assert resultE == None\n"
     ],
     "language": "python",
     "metadata": {},
     "outputs": [],
     "prompt_number": 2
    },
    {
     "cell_type": "heading",
     "level": 3,
     "metadata": {},
     "source": [
      "Example of interpolation of data grid with 3+ dimensions"
     ]
    },
    {
     "cell_type": "code",
     "collapsed": false,
     "input": [
      "\"\"\"setup the data grid for ATLAS-SUSY-2013-05,T6bbWW\"\"\"\n",
      "\n",
      "expRes = database.getExpResults(analysisIDs=[\"ATLAS-SUSY-2013-05\"], txnames=[ \"T6bbWW\" ] )[0]\n",
      "txname = expRes.datasets[0].txnameList[0] # T6bbWW\n",
      "\n",
      "#Interpolate for massA\n",
      "massA = [[ 300.*GeV,105.*GeV,100.*GeV], [ 300.*GeV,105.*GeV,100.*GeV] ]\n",
      "resultA = txname.txnameData.getValueFor(massA)\n",
      "print massA,resultA\n",
      "#Interpolate for massB\n",
      "massB = [ [300.*GeV,270.*GeV,200.*GeV], [ 300.*GeV,270.*GeV,200.*GeV] ]\n",
      "resultB = txname.txnameData.getValueFor(massB)\n",
      "print massB,resultB\n",
      "#Interpolate for slightly modified massC\n",
      "massC = [[ 300.*GeV,270.*GeV,200.*GeV], [ 300.*GeV,271.*GeV,200.*GeV] ]\n",
      "resultC = txname.txnameData.getValueFor(massC)\n",
      "print massC,resultC"
     ],
     "language": "python",
     "metadata": {},
     "outputs": [
      {
       "output_type": "stream",
       "stream": "stdout",
       "text": [
        "[[3.00E+02 [GeV], 1.05E+02 [GeV], 1.00E+02 [GeV]], [3.00E+02 [GeV], 1.05E+02 [GeV], 1.00E+02 [GeV]]] 1.76E-01 [pb]\n",
        "[[3.00E+02 [GeV], 2.70E+02 [GeV], 2.00E+02 [GeV]], [3.00E+02 [GeV], 2.70E+02 [GeV], 2.00E+02 [GeV]]] 8.70E+01 [pb]\n",
        "[[3.00E+02 [GeV], 2.70E+02 [GeV], 2.00E+02 [GeV]], [3.00E+02 [GeV], 2.71E+02 [GeV], 2.00E+02 [GeV]]]"
       ]
      },
      {
       "output_type": "stream",
       "stream": "stdout",
       "text": [
        " 8.87E+01 [pb]\n"
       ]
      }
     ],
     "prompt_number": 7
    },
    {
     "cell_type": "heading",
     "level": 5,
     "metadata": {},
     "source": [
      "Expected output"
     ]
    },
    {
     "cell_type": "code",
     "collapsed": false,
     "input": [
      "\"\"\"Verify interpolation in 3D\"\"\"\n",
      "assert_almost_equal(resultA.asNumber(pb),0.176266,decimal=5)\n",
      "assert_almost_equal(resultB.asNumber(pb),87.0403,decimal=5)\n",
      "assert_almost_equal(resultC.asNumber(pb),88.6505675,decimal=5)\n"
     ],
     "language": "python",
     "metadata": {},
     "outputs": [],
     "prompt_number": 8
    },
    {
     "cell_type": "heading",
     "level": 3,
     "metadata": {},
     "source": [
      "Example of interpolation of explicit data grid for upper limits in 2D"
     ]
    },
    {
     "cell_type": "code",
     "collapsed": false,
     "input": [
      "dataUL = [ [ [[ 150.*GeV, 50.*GeV], [ 150.*GeV, 50.*GeV] ],  3.*fb ], \n",
      " [ [[ 200.*GeV,100.*GeV], [ 200.*GeV,100.*GeV] ],  5.*fb ], \n",
      " [ [[ 300.*GeV,100.*GeV], [ 300.*GeV,100.*GeV] ], 10.*fb ], \n",
      " [ [[ 300.*GeV,150.*GeV], [ 300.*GeV,150.*GeV] ], 13.*fb ], \n",
      " [ [[ 300.*GeV,200.*GeV], [ 300.*GeV,200.*GeV] ], 15.*fb ], \n",
      " [ [[ 300.*GeV,250.*GeV], [ 300.*GeV,250.*GeV] ], 20.*fb ], \n",
      " [ [[ 400.*GeV,100.*GeV], [ 400.*GeV,100.*GeV] ],  8.*fb ], \n",
      " [ [[ 400.*GeV,150.*GeV], [ 400.*GeV,150.*GeV] ], 10.*fb ], \n",
      " [ [[ 400.*GeV,200.*GeV], [ 400.*GeV,200.*GeV] ], 12.*fb ], \n",
      " [ [[ 400.*GeV,250.*GeV], [ 400.*GeV,250.*GeV] ], 15.*fb ], \n",
      " [ [[ 400.*GeV,300.*GeV], [ 400.*GeV,300.*GeV] ], 17.*fb ], \n",
      " [ [[ 400.*GeV,350.*GeV], [ 400.*GeV,350.*GeV] ], 19.*fb ], ]\n",
      "\n",
      "txnameData = TxNameData(dataUL)\n",
      "result = txnameData.getValueFor([[ 300.*GeV,125.*GeV], [ 300.*GeV,125.*GeV] ])\n",
      "print result"
     ],
     "language": "python",
     "metadata": {},
     "outputs": [
      {
       "output_type": "stream",
       "stream": "stdout",
       "text": [
        "1.15E+01 [fb]\n"
       ]
      }
     ],
     "prompt_number": 9
    },
    {
     "cell_type": "heading",
     "level": 5,
     "metadata": {},
     "source": [
      "Expected output"
     ]
    },
    {
     "cell_type": "code",
     "collapsed": false,
     "input": [
      "\"\"\"Verify interpolation of UL data\"\"\"\n",
      "assert_almost_equal(result.asNumber(pb),0.0115,decimal=4)"
     ],
     "language": "python",
     "metadata": {},
     "outputs": [],
     "prompt_number": 10
    },
    {
     "cell_type": "heading",
     "level": 3,
     "metadata": {},
     "source": [
      "Example of interpolation of explicit data grid for efficiencies in 2D"
     ]
    },
    {
     "cell_type": "code",
     "collapsed": false,
     "input": [
      "dataEM = [ [ [[ 150.*GeV, 50.*GeV], [ 150.*GeV, 50.*GeV] ],  .03 ], \n",
      " [ [[ 200.*GeV,100.*GeV], [ 200.*GeV,100.*GeV] ], .05 ], \n",
      " [ [[ 300.*GeV,100.*GeV], [ 300.*GeV,100.*GeV] ], .10 ], \n",
      " [ [[ 300.*GeV,150.*GeV], [ 300.*GeV,150.*GeV] ], .13 ], \n",
      " [ [[ 300.*GeV,200.*GeV], [ 300.*GeV,200.*GeV] ], .15 ], \n",
      " [ [[ 300.*GeV,250.*GeV], [ 300.*GeV,250.*GeV] ], .20 ], \n",
      " [ [[ 400.*GeV,100.*GeV], [ 400.*GeV,100.*GeV] ], .08 ], \n",
      " [ [[ 400.*GeV,150.*GeV], [ 400.*GeV,150.*GeV] ], .10 ], \n",
      " [ [[ 400.*GeV,200.*GeV], [ 400.*GeV,200.*GeV] ], .12 ], \n",
      " [ [[ 400.*GeV,250.*GeV], [ 400.*GeV,250.*GeV] ], .15 ], \n",
      " [ [[ 400.*GeV,300.*GeV], [ 400.*GeV,300.*GeV] ], .17 ], \n",
      " [ [[ 400.*GeV,350.*GeV], [ 400.*GeV,350.*GeV] ], .19 ], ]\n",
      "\n",
      "txnameData = TxNameData(dataEM)\n",
      "result = txnameData.getValueFor([[ 300.*GeV,125.*GeV], [ 300.*GeV,125.*GeV] ])\n",
      "print result"
     ],
     "language": "python",
     "metadata": {},
     "outputs": [
      {
       "output_type": "stream",
       "stream": "stdout",
       "text": [
        "0.115\n"
       ]
      }
     ],
     "prompt_number": 11
    },
    {
     "cell_type": "heading",
     "level": 5,
     "metadata": {},
     "source": [
      "Expected output"
     ]
    },
    {
     "cell_type": "code",
     "collapsed": false,
     "input": [
      "\"\"\"Verify interpolation of UL data\"\"\"\n",
      "assert_almost_equal(result,0.115,decimal=4)"
     ],
     "language": "python",
     "metadata": {},
     "outputs": [],
     "prompt_number": 13
    }
   ],
   "metadata": {}
  }
 ]
}
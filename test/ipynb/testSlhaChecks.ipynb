{
 "metadata": {
  "name": ""
 },
 "nbformat": 3,
 "nbformat_minor": 0,
 "worksheets": [
  {
   "cells": [
    {
     "cell_type": "heading",
     "level": 3,
     "metadata": {},
     "source": [
      "How to check the input SLHA file"
     ]
    },
    {
     "cell_type": "code",
     "collapsed": false,
     "input": [
      "\"\"\"setup file checks\"\"\"\n",
      "import sys\n",
      "sys.path.append('../')\n",
      "from smodels.installation import installDirectory\n",
      "from smodels.tools import slhaChecks\n",
      "\n",
      "\n",
      "filename = \"%sinputFiles/slha/gluino_squarks.slha\" % (installDirectory() )\n",
      "stGood = slhaChecks.SlhaStatus(filename)\n",
      "print stGood.status\n",
      "\n",
      "filename = \"%sinputFiles/slha/nobdecay.slha\" % (installDirectory() )\n",
      "stBad = slhaChecks.SlhaStatus(filename)\n",
      "print stBad.status\n"
     ],
     "language": "python",
     "metadata": {},
     "outputs": [
      {
       "output_type": "stream",
       "stream": "stdout",
       "text": [
        "(1, 'Input file ok')\n",
        "(-1, '#ERROR: special signatures in this point.\\n#Warnings:\\n##Visible decays of longlived particles / stable charged particles: [1000005]\\n#1000005 : c*tau = inf\\n\\n')\n"
       ]
      }
     ],
     "prompt_number": 1
    },
    {
     "cell_type": "heading",
     "level": 5,
     "metadata": {},
     "source": [
      "Expected output:"
     ]
    },
    {
     "cell_type": "code",
     "collapsed": false,
     "input": [
      "\"\"\"Verify the status output\"\"\"\n",
      "assert stGood.status == (1, 'Input file ok')\n",
      "assert stBad.status == (-1, '#ERROR: special signatures in this point.\\n#Warnings:\\n##Visible decays of longlived particles / stable charged particles: [1000005]\\n#1000005 : c*tau = inf\\n\\n')"
     ],
     "language": "python",
     "metadata": {},
     "outputs": [],
     "prompt_number": 3
    }
   ],
   "metadata": {}
  }
 ]
}
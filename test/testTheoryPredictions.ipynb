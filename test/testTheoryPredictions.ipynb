{
 "metadata": {
  "name": ""
 },
 "nbformat": 3,
 "nbformat_minor": 0,
 "worksheets": [
  {
   "cells": [
    {
     "cell_type": "heading",
     "level": 3,
     "metadata": {},
     "source": [
      "How to compute theory predictions"
     ]
    },
    {
     "cell_type": "code",
     "collapsed": false,
     "input": [
      "\"\"\"setup the decomposition and theory prediction calculation\"\"\"\n",
      "import sys\n",
      "sys.path.append('../')\n",
      "from smodels.installation import installDirectory\n",
      "from smodels.tools.physicsUnits import fb, GeV\n",
      "from smodels.theory import slhaDecomposer\n",
      "from smodels.experiment.databaseObjects import Database\n",
      "from smodels.theory.theoryPrediction import theoryPredictionsFor\n",
      "from numpy.testing import assert_almost_equal\n",
      "\n",
      "slhafile = '../inputFiles/slha/simplyGluino.slha'\n",
      "smstoplist = slhaDecomposer.decompose(slhafile, .1*fb, doCompress=True,doInvisible=True, minmassgap=5.*GeV)\n",
      "database = Database ( \"./database/\" )\n",
      "expRes = database.getExpResults( analysisIDs= [ \"ATLAS-SUSY-2013-02\" ], txnames = [ \"T1\" ] )[0]\n",
      "theorypredictions = theoryPredictionsFor(expRes, smstoplist)\n",
      "print 'Number of theory predictions=',len(theorypredictions)\n",
      "for pred in theorypredictions:\n",
      "    mass = pred.mass\n",
      "    value = pred.value[0].value\n",
      "    print 'Mass=',mass,'Cross-section=',value"
     ],
     "language": "python",
     "metadata": {},
     "outputs": [
      {
       "output_type": "stream",
       "stream": "stdout",
       "text": [
        "Number of theory predictions= 1\n",
        "Mass= [[6.75E+02 [GeV], 2.00E+02 [GeV]], [6.75E+02 [GeV], 2.00E+02 [GeV]]] Cross-section= 5.72E-01 [pb]\n"
       ]
      }
     ],
     "prompt_number": 1
    },
    {
     "cell_type": "heading",
     "level": 5,
     "metadata": {},
     "source": [
      "Expected output"
     ]
    },
    {
     "cell_type": "code",
     "collapsed": false,
     "input": [
      "\"\"\"Verify theory predictions output\"\"\"\n",
      "assert len(theorypredictions) == 1\n",
      "assert mass == [[675.*GeV,200.*GeV],[675.*GeV,200.*GeV]]\n",
      "assert_almost_equal(value.asNumber(fb), 572.168935,decimal=5)"
     ],
     "language": "python",
     "metadata": {},
     "outputs": [],
     "prompt_number": 3
    }
   ],
   "metadata": {}
  }
 ]
}
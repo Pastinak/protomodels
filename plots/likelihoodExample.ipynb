{
 "cells": [
  {
   "cell_type": "code",
   "execution_count": 1,
   "metadata": {},
   "outputs": [],
   "source": [
    "import sys,os,copy\n",
    "import numpy as np\n",
    "sys.path.append(os.path.abspath('../smodels'))\n",
    "sys.path.append(os.path.abspath('../protomodels'))\n",
    "from builder.protomodel import ProtoModel\n",
    "from builder.manipulator import Manipulator\n",
    "from tester.predictor import Predictor\n",
    "from walker.hiscore import Hiscore\n",
    "from smodels.experiment.databaseObj import Database\n",
    "from smodels.tools import runtime\n",
    "runtime._experimental = True\n",
    "import matplotlib.pyplot as plt\n",
    "import seaborn as sns\n",
    "sns.set() #Set style\n",
    "sns.set_style('ticks',{'font.family':'Times New Roman', 'font.serif':'Times New Roman'})\n",
    "sns.set_context('paper', font_scale=2.0)\n",
    "sns.set_palette(sns.color_palette(\"Paired\"))"
   ]
  },
  {
   "cell_type": "code",
   "execution_count": 2,
   "metadata": {},
   "outputs": [],
   "source": [
    "def fromDict(inputDict):\n",
    "    \n",
    "    p = ProtoModel(walkerid=0)\n",
    "    for key,v in inputDict.items():\n",
    "        setattr(p,key,copy.deepcopy(v))\n",
    "        \n",
    "    return p"
   ]
  },
  {
   "cell_type": "code",
   "execution_count": 3,
   "metadata": {},
   "outputs": [],
   "source": [
    "with open('../highestScores/real_run/real2.dict','r') as f:\n",
    "    pList = eval(f.read())\n",
    "pList = [fromDict(pDict) for pDict in pList[:]]\n",
    "p = sorted(pList, key = lambda p: p.K, reverse=True)[0]\n",
    "m = Manipulator(p)"
   ]
  },
  {
   "cell_type": "code",
   "execution_count": 4,
   "metadata": {},
   "outputs": [],
   "source": [
    "#Check predictions:\n",
    "pred = Predictor(walkerid=0,dbpath='../smodels-database/')"
   ]
  },
  {
   "cell_type": "code",
   "execution_count": 5,
   "metadata": {},
   "outputs": [
    {
     "name": "stderr",
     "output_type": "stream",
     "text": [
      "combination #1/42   2%|/                                         |ETA:  0:00:04\r"
     ]
    },
    {
     "name": "stdout",
     "output_type": "stream",
     "text": [
      "[combine:0] selected predictions down via SRs from 130 to 15.\n",
      "[combine:0] sorting out subsets, reduced 512 -> 42 combinations.\n"
     ]
    },
    {
     "name": "stderr",
     "output_type": "stream",
     "text": [
      "combination #42/42 100%|||||||||||||||||||||||||||||||||||||||||||Time: 0:00:04\n",
      "combination #2/42   4%|--                                        |ETA:  0:00:03\r"
     ]
    },
    {
     "name": "stdout",
     "output_type": "stream",
     "text": [
      "[combine:0] selected predictions down via SRs from 130 to 15.\n",
      "[combine:0] sorting out subsets, reduced 512 -> 42 combinations.\n"
     ]
    },
    {
     "name": "stderr",
     "output_type": "stream",
     "text": [
      "combination #42/42 100%|||||||||||||||||||||||||||||||||||||||||||Time: 0:00:04\n"
     ]
    }
   ],
   "source": [
    "res = pred.predict(p)"
   ]
  },
  {
   "cell_type": "code",
   "execution_count": 6,
   "metadata": {},
   "outputs": [
    {
     "name": "stdout",
     "output_type": "stream",
     "text": [
      "8.30509963723747\n"
     ]
    }
   ],
   "source": [
    "print(p.K)"
   ]
  },
  {
   "cell_type": "code",
   "execution_count": 7,
   "metadata": {},
   "outputs": [
    {
     "name": "stdout",
     "output_type": "stream",
     "text": [
      "3.371858111281907\n"
     ]
    }
   ],
   "source": [
    "print(p.Z)"
   ]
  },
  {
   "cell_type": "code",
   "execution_count": 8,
   "metadata": {},
   "outputs": [
    {
     "name": "stdout",
     "output_type": "stream",
     "text": [
      "ProtoModel (~chi10,~t1,~dL,~sL): K = 8.31, Z = 3.37\n"
     ]
    }
   ],
   "source": [
    "print(p)"
   ]
  },
  {
   "cell_type": "code",
   "execution_count": 9,
   "metadata": {},
   "outputs": [],
   "source": [
    "hi = Hiscore(walkerid=0,save_hiscores=False,predictor=pred)"
   ]
  },
  {
   "cell_type": "code",
   "execution_count": 10,
   "metadata": {},
   "outputs": [
    {
     "name": "stdout",
     "output_type": "stream",
     "text": [
      "[hiscore:0] computing contribution of ~t1 (1155.3): [1/3]\n"
     ]
    },
    {
     "name": "stderr",
     "output_type": "stream",
     "text": [
      "combination #3/24  12%|\\\\\\\\\\                                     |ETA:  0:00:01\r"
     ]
    },
    {
     "name": "stdout",
     "output_type": "stream",
     "text": [
      "[combine:0] selected predictions down via SRs from 113 to 10.\n",
      "[combine:0] sorting out subsets, reduced 109 -> 24 combinations.\n"
     ]
    },
    {
     "name": "stderr",
     "output_type": "stream",
     "text": [
      "combination #24/24 100%|||||||||||||||||||||||||||||||||||||||||||Time: 0:00:01\n"
     ]
    },
    {
     "name": "stdout",
     "output_type": "stream",
     "text": [
      "[hiscore:0] when removing ~t1, K changed: 8.305 -> 4.042 (-51.3%), Z: 3.372 -> 2.538 (100000 evts)\n",
      "[hiscore:0] computing contribution of ~sL (912.3): [2/3]\n"
     ]
    },
    {
     "name": "stderr",
     "output_type": "stream",
     "text": [
      "combination #4/48   8%||||                                       |ETA:  0:00:02\r"
     ]
    },
    {
     "name": "stdout",
     "output_type": "stream",
     "text": [
      "[combine:0] selected predictions down via SRs from 120 to 15.\n",
      "[combine:0] sorting out subsets, reduced 416 -> 48 combinations.\n"
     ]
    },
    {
     "name": "stderr",
     "output_type": "stream",
     "text": [
      "combination #48/48 100%|||||||||||||||||||||||||||||||||||||||||||Time: 0:00:03\n"
     ]
    },
    {
     "name": "stdout",
     "output_type": "stream",
     "text": [
      "[hiscore:0] when removing ~sL, K changed: 8.305 -> 7.756 (-6.6%), Z: 3.372 -> 3.183 (100000 evts)\n",
      "[hiscore:0] computing contribution of ~dL (807.8): [3/3]\n"
     ]
    },
    {
     "name": "stderr",
     "output_type": "stream",
     "text": [
      "combination #2/42   4%|--                                        |ETA:  0:00:03\r"
     ]
    },
    {
     "name": "stdout",
     "output_type": "stream",
     "text": [
      "[combine:0] selected predictions down via SRs from 130 to 15.\n",
      "[combine:0] sorting out subsets, reduced 512 -> 42 combinations.\n"
     ]
    },
    {
     "name": "stderr",
     "output_type": "stream",
     "text": [
      "combination #42/42 100%|||||||||||||||||||||||||||||||||||||||||||Time: 0:00:04\n"
     ]
    },
    {
     "name": "stdout",
     "output_type": "stream",
     "text": [
      "[hiscore:0] when removing ~dL, K changed: 8.305 -> 8.305 (0.0%), Z: 3.372 -> 3.372 (100000 evts)\n",
      "[hiscore:0] stored 3 particle contributions\n",
      "[hiscore:0] Now computing analysis contributions\n",
      "[hiscore:0] Recompute the score. Old one at K=8.31, Z=3.37\n",
      "[hiscore:0] without ATLAS-SUSY-2016-07(em) we get Z=2.596 (42%)\n",
      "[hiscore:0] without ATLAS-SUSY-2016-16(em) we get Z=2.952 (23%)\n",
      "[hiscore:0] without CMS-SUS-16-050(ul) we get Z=2.835 (29%)\n",
      "[hiscore:0] without ATLAS-SUSY-2013-02(em) we get Z=3.371 (0%)\n",
      "[hiscore:0] without CMS-SUS-13-012(ul) we get Z=3.282 (4%)\n",
      "[hiscore:0] stored 5 analyses contributions\n"
     ]
    }
   ],
   "source": [
    "hi.computeParticleContributions(m)\n",
    "hi.computeAnalysisContributions(m)"
   ]
  },
  {
   "cell_type": "code",
   "execution_count": 11,
   "metadata": {},
   "outputs": [
    {
     "name": "stdout",
     "output_type": "stream",
     "text": [
      "0.48570475206117636 ATLAS-SUSY-2015-06:1.30E+01 [TeV]:6.99E-03 [pb] (None, None) efficiencyMap\n",
      "0.430621836946342 ATLAS-SUSY-2016-07:1.30E+01 [TeV]:1.31E-02 [pb] (None, None) upperLimit\n",
      "0.27270004552227467 ATLAS-SUSY-2016-07:1.30E+01 [TeV]:2.04E-02 [pb] (None, None) upperLimit\n",
      "0.4685553973010079 ATLAS-SUSY-2016-07:1.30E+01 [TeV]:2.27E-03 [pb] (None, None) efficiencyMap\n",
      "0.5586677126991444 ATLAS-SUSY-2016-15:1.30E+01 [TeV]:2.64E-03 [pb] (None, None) upperLimit\n",
      "0.36609876309586825 ATLAS-SUSY-2016-16:1.30E+01 [TeV]:2.64E-03 [pb] (None, None) upperLimit\n",
      "0.3783530237540457 ATLAS-SUSY-2016-16:1.30E+01 [TeV]:1.05E-04 [pb] (-1000006, 1000006) efficiencyMap\n",
      "0.43260440479909523 CMS-SUS-16-033:1.30E+01 [TeV]:2.64E-03 [pb] (None, None) upperLimit\n",
      "1.0237674638883452 CMS-SUS-16-033:1.30E+01 [TeV]:1.31E-02 [pb] (None, None) upperLimit\n",
      "1.0838412845236982 CMS-SUS-16-033:1.30E+01 [TeV]:2.04E-02 [pb] (None, None) upperLimit\n",
      "0.6044852603803984 CMS-SUS-16-033:1.30E+01 [TeV]:2.48E-03 [pb] (None, None) efficiencyMap\n",
      "0.6970372149076146 CMS-SUS-16-036:1.30E+01 [TeV]:2.64E-03 [pb] (None, None) upperLimit\n",
      "0.7537243781857748 CMS-SUS-16-036:1.30E+01 [TeV]:1.31E-02 [pb] (None, None) upperLimit\n",
      "0.7866735671133952 CMS-SUS-16-036:1.30E+01 [TeV]:2.04E-02 [pb] (None, None) upperLimit\n",
      "0.6070725076910684 CMS-SUS-16-049:1.30E+01 [TeV]:2.64E-03 [pb] (None, None) upperLimit\n",
      "0.543732964150192 CMS-SUS-16-050:1.30E+01 [TeV]:2.64E-03 [pb] (None, None) upperLimit\n",
      "0.8425448382674805 CMS-SUS-16-051:1.30E+01 [TeV]:2.64E-03 [pb] (None, None) upperLimit\n",
      "1.2984089000806256 CMS-SUS-19-006:1.30E+01 [TeV]:1.31E-02 [pb] (None, None) upperLimit\n",
      "1.1576229422323012 CMS-SUS-19-006:1.30E+01 [TeV]:2.04E-02 [pb] (None, None) upperLimit\n",
      "1.1674678760618118 CMS-SUS-19-006:1.30E+01 [TeV]:2.64E-03 [pb] (None, None) upperLimit\n",
      "0.20700628715994715 ATLAS-SUSY-2013-02:8.00E+00 [TeV]:3.76E-04 [pb] (None, None) efficiencyMap\n"
     ]
    }
   ],
   "source": [
    "for tp in p.tpList:\n",
    "    if tp[0] > 0.2:\n",
    "        print(tp[0],tp[2],tp[2].expResult.datasets[0].dataInfo.dataType)\n",
    "#         print(tp)\n",
    "#         break"
   ]
  },
  {
   "cell_type": "code",
   "execution_count": 12,
   "metadata": {},
   "outputs": [
    {
     "name": "stdout",
     "output_type": "stream",
     "text": [
      "{'analysis': None, 'xsection': <smodels.theory.crossSection.XSection object at 0x7f6c919ef1f0>, 'conditions': None, 'mass': [[8.08E+02 [GeV], 3.00E+02 [GeV]], [8.08E+02 [GeV], 3.00E+02 [GeV]]], 'totalwidth': [[INF [GeV], 0.00E+00 [GeV]], [INF [GeV], 0.00E+00 [GeV]]], 'dataset': Dataset, 'txnames': [T2], 'elements': [[[[q]],[[q]]]], 'avgElement': averageElement, 'PIDs': [[[-1000001, -1000022], [1000001, 1000022]]], 'expResult': <smodels.experiment.expResultObj.ExpResult object at 0x7f6c91adf1f0>, 'expectedUL': None, 'upperLimit': 1.22E+01 [fb], 'likelihood': None, 'chi2': None}\n"
     ]
    }
   ],
   "source": [
    "print(tp[2].__dict__)"
   ]
  },
  {
   "cell_type": "code",
   "execution_count": 13,
   "metadata": {},
   "outputs": [
    {
     "name": "stdout",
     "output_type": "stream",
     "text": [
      "ATLAS-SUSY-2016-07:1.30E+01 [TeV]:2.27E-03 [pb] (None, None)\n",
      "ATLAS-SUSY-2016-16:1.30E+01 [TeV]:1.05E-04 [pb] (-1000006, 1000006)\n",
      "CMS-SUS-16-050:1.30E+01 [TeV]:2.64E-03 [pb] (None, None)\n",
      "ATLAS-SUSY-2013-02:8.00E+00 [TeV]:6.54E-06 [pb] (None, None)\n",
      "CMS-SUS-13-012:8.00E+00 [TeV]:1.08E-03 [pb] (None, None)\n"
     ]
    }
   ],
   "source": [
    "for tp in p.bestCombo:\n",
    "    print(tp)"
   ]
  },
  {
   "cell_type": "markdown",
   "metadata": {},
   "source": [
    "### Fake likelihoods (only for illustration)"
   ]
  },
  {
   "cell_type": "code",
   "execution_count": 14,
   "metadata": {},
   "outputs": [],
   "source": [
    "muvals = np.linspace(0.0,5.0,500)\n",
    "llhdsBest = [[c.expResult.globalInfo.id,[c.getLikelihood(mu-3.0)/c.getLikelihood(0.0-3.0) for mu in muvals]] for c in p.bestCombo]\n",
    "llhdsConst = [[tp[2].expResult.globalInfo.id,[tp[2].getLikelihood(mu-1.0)/tp[2].getLikelihood(0.0-1.0) for mu in muvals]] for tp in p.tpList if tp[2].expResult.datasets[0].dataInfo.dataType == 'efficiencyMap']\n",
    "llhdsBest = dict(llhdsBest)\n",
    "llhdsConst = dict(llhdsConst)"
   ]
  },
  {
   "cell_type": "code",
   "execution_count": 15,
   "metadata": {},
   "outputs": [
    {
     "data": {
      "image/png": "[encoded data removed]",
      "text/plain": [
       "<Figure size 432x288 with 1 Axes>"
      ]
     },
     "metadata": {},
     "output_type": "display_data"
    }
   ],
   "source": [
    "combined = None\n",
    "mumax = 1.7+2.0\n",
    "for key,val in llhdsBest.items():\n",
    "#     if key != 'ATLAS-SUSY-2016-16' and key != 'CMS-SUS-16-050':\n",
    "#         continue\n",
    "    if key != 'CMS-SUS-16-050':\n",
    "        continue \n",
    "    val = np.array(val)\n",
    "    val = val/val.sum() #Normalize\n",
    "    plt.plot(muvals,val,label='Result A',linewidth=3)\n",
    "    if combined is None:\n",
    "        combined = val[:]\n",
    "    else:\n",
    "        combined *= val\n",
    "    \n",
    "for key,val in llhdsConst.items():\n",
    "    if key != 'ATLAS-SUSY-2015-06': continue\n",
    "    val = np.array(val)\n",
    "    val = val/val.sum() #Normalize    \n",
    "    plt.plot(muvals,val,label='Result B',linewidth=3)    \n",
    "    if combined is None:\n",
    "        combined = val[:]\n",
    "    else:\n",
    "        combined *= val\n",
    "\n",
    "combined = combined/combined.sum() #Normalize    \n",
    "muhat = muvals[np.argmax(combined)]\n",
    "plt.plot(muvals,combined,label='Combined',linewidth=4)\n",
    "plt.axvline(x = mumax,ymax=0.8,c='red',linestyle='dotted',linewidth=2)\n",
    "plt.axvline(x = muhat,ymax=0.95,c='gray',linestyle='--',linewidth=2)\n",
    "\n",
    "plt.text(1.02*mumax,0.010,r'$\\mu_{max}$',c='red')\n",
    "plt.text(1.02*muhat,0.013,r'$\\hat{\\mu}$',c='gray')\n",
    "plt.xlabel(r'$\\mathrm{\\mu}$', fontsize=21)\n",
    "plt.ylabel(r'$\\mathrm{L}_{\\mathrm{BSM}}/\\mathrm{L}_{\\mathrm{SM}}$', fontsize=21)\n",
    "# plt.yscale('log')\n",
    "plt.legend()\n",
    "plt.ylim(0.,0.015)\n",
    "plt.xlim(0.,5.0)\n",
    "plt.title('Full likelihood')\n",
    "plt.tight_layout()\n",
    "plt.savefig('full_llhd.pdf')\n",
    "plt.show()\n"
   ]
  },
  {
   "cell_type": "code",
   "execution_count": 16,
   "metadata": {},
   "outputs": [
    {
     "data": {
      "image/png": "[encoded data removed]",
      "text/plain": [
       "<Figure size 432x288 with 1 Axes>"
      ]
     },
     "metadata": {},
     "output_type": "display_data"
    }
   ],
   "source": [
    "combined = None\n",
    "mumax = 1.7+2.0\n",
    "for key,val in llhdsBest.items():\n",
    "#     if key != 'ATLAS-SUSY-2016-16' and key != 'CMS-SUS-16-050':\n",
    "#         continue\n",
    "    if key != 'CMS-SUS-16-050':\n",
    "        continue\n",
    "    val = np.array(val)\n",
    "    val = val/val.sum() #Normalize\n",
    "    plt.plot(muvals,val,label='Result A',linewidth=3)\n",
    "    plt.plot(muvals,val,linewidth=3,alpha=0.0) #Just to fix the color\n",
    "    if combined is None:\n",
    "        combined = np.where(muvals < mumax,val,0.)\n",
    "    else:\n",
    "        combined *= val\n",
    "        \n",
    "plt.plot(muvals,combined,label='Truncated',linewidth=4)        \n",
    "\n",
    "combined = combined/combined.sum() #Normalize    \n",
    "muhat = muvals[np.argmax(combined)]\n",
    "plt.axvline(x = mumax,ymax=0.8,c='red',linestyle='dotted',linewidth=3)\n",
    "plt.axvline(x = muhat,ymax=0.95,c='gray',linestyle='--',linewidth=2)\n",
    "\n",
    "plt.text(1.02*mumax,0.006,r'$\\mu_{max}$',c='red')\n",
    "plt.text(1.02*muhat,0.0085,r'$\\hat{\\mu}$',c='gray')\n",
    "plt.xlabel(r'$\\mathrm{\\mu}$', fontsize=21)\n",
    "plt.ylabel(r'$\\mathrm{L}_{\\mathrm{BSM}}/\\mathrm{L}_{\\mathrm{SM}}$', fontsize=21)\n",
    "# plt.yscale('log')\n",
    "plt.legend(loc=(0.05,0.6))\n",
    "plt.ylim(0.,0.010)\n",
    "plt.xlim(0.,5.0)\n",
    "plt.title('Truncated likelihood')\n",
    "plt.tight_layout()\n",
    "plt.savefig('truncated_llhd.pdf')\n",
    "plt.show()"
   ]
  },
  {
   "cell_type": "code",
   "execution_count": null,
   "metadata": {},
   "outputs": [],
   "source": []
  }
 ],
 "metadata": {
  "kernelspec": {
   "display_name": "Python 3",
   "language": "python",
   "name": "python3"
  },
  "language_info": {
   "codemirror_mode": {
    "name": "ipython",
    "version": 3
   },
   "file_extension": ".py",
   "mimetype": "text/x-python",
   "name": "python",
   "nbconvert_exporter": "python",
   "pygments_lexer": "ipython3",
   "version": "3.8.2"
  }
 },
 "nbformat": 4,
 "nbformat_minor": 4
}

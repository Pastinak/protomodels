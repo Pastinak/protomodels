{
 "cells": [
  {
   "cell_type": "code",
   "execution_count": 35,
   "metadata": {},
   "outputs": [],
   "source": [
    "import sys,os,copy, pickle, glob\n",
    "import numpy as np\n",
    "sys.path.append(os.path.abspath('../smodels'))\n",
    "sys.path.append(os.path.abspath('../protomodels'))\n",
    "from builder.protomodel import ProtoModel\n",
    "from tester.predictor import Predictor\n",
    "from tester.combiner import Combiner\n",
    "from smodels.experiment.databaseObj import Database\n",
    "from smodels.tools import runtime\n",
    "runtime._experimental = True\n",
    "import matplotlib.pyplot as plt\n",
    "import seaborn as sns\n",
    "from names import particleLabels\n",
    "from sparticleNames import SParticleNames\n",
    "import pandas as pd\n",
    "# sns.set() #Set style\n",
    "# sns.set_style('ticks')\n",
    "sns.set_style('ticks',{'font.family':'Times New Roman', 'font.serif':'Times New Roman'})\n",
    "sns.set_context('paper', font_scale=2.0)\n",
    "# sns.set_palette(sns.color_palette(\"Paired\"))\n",
    "sns.set_palette(sns.color_palette(\"deep\"))\n"
   ]
  },
  {
   "cell_type": "code",
   "execution_count": 36,
   "metadata": {},
   "outputs": [],
   "source": [
    "#Set colors:\n",
    "namer = SParticleNames ( susy = False )\n",
    "#Replace default colors:\n",
    "colorPalette = 'deep' #Set color palette for particles, if None use default\n",
    "colorDict = dict(zip(namer.names.keys(),sns.color_palette(palette=colorPalette,n_colors=len(namer.names))))"
   ]
  },
  {
   "cell_type": "code",
   "execution_count": 3,
   "metadata": {},
   "outputs": [],
   "source": [
    "def getLikelihoods(protomodel,muvals,normalize=True):\n",
    "    \n",
    "    #Sort tpList\n",
    "    critic = sorted(protomodel.tpList, key = lambda tp: tp[0], reverse = True)[0][2]\n",
    "\n",
    "    #Combiner likelihood:\n",
    "    combiner = Combiner(0)\n",
    "    llhComb = np.array([combiner.getCombinedLikelihood(protomodel.bestCombo,mu) for mu in muvals])\n",
    "    llhCombSM = combiner.getCombinedLikelihood(protomodel.bestCombo,0.)\n",
    "    llhDict = {'Combined' : llhComb}\n",
    "    llhDictSM = {'Combined' : llhCombSM}\n",
    "    for tp in protomodel.bestCombo:\n",
    "        llhDict[tp.expResult.globalInfo.id] = np.array([tp.getLikelihood(mu) for mu in muvals])\n",
    "        llhDictSM[tp.expResult.globalInfo.id] = tp.getLikelihood(0.0)\n",
    "\n",
    "    #Critic likelihood:\n",
    "    if critic.getLikelihood(1.0) is not None:\n",
    "        llhDictSM['Critic'] = critic.getLikelihood(0.0)\n",
    "        llhDict['Critic'] = np.array([critic.getLikelihood(mu) for mu in muvals])\n",
    "    else:\n",
    "        llhDict['Critic'] = None\n",
    "        llhDictSM['Critic'] = None\n",
    "    llhDict['SM values'] = llhDictSM\n",
    "    \n",
    "    #Compute normalizations:\n",
    "    if normalize:\n",
    "        for key,llhd in llhDict.items():\n",
    "            if key != 'SM values':\n",
    "                norm = llhd.sum()\n",
    "                llhDict[key] = llhd/norm\n",
    "                llhDict['SM values'][key] *= 1/norm\n",
    "    \n",
    "    \n",
    "    return llhDict\n",
    "\n",
    "def getPredictions(protomodel,dbpath):\n",
    "    \n",
    "    #Compute predictions:\n",
    "    pred = Predictor(walkerid=0,dbpath=dbpath)\n",
    "    res = pred.predict(protomodel)"
   ]
  },
  {
   "cell_type": "code",
   "execution_count": 4,
   "metadata": {},
   "outputs": [
    {
     "name": "stdout",
     "output_type": "stream",
     "text": [
      "[combine:0] selected predictions down via SRs from 6 to 3.\n",
      "[combine:0] sorting out subsets, reduced 2 -> 2 combinations.\n",
      "[combine:0] selected predictions down via SRs from 6 to 3.\n",
      "[combine:0] sorting out subsets, reduced 2 -> 2 combinations.\n",
      "[combine:0] selected predictions down via SRs from 2 to 1.\n",
      "[combine:0] sorting out subsets, reduced 0 -> 0 combinations.\n",
      "[combine:0] selected predictions down via SRs from 0 to 0.\n",
      "[combine:0] sorting out subsets, reduced 0 -> 0 combinations.\n",
      "[combine:0] selected predictions down via SRs from 6 to 3.\n",
      "[combine:0] sorting out subsets, reduced 2 -> 2 combinations.\n",
      "[combine:0] selected predictions down via SRs from 6 to 3.\n",
      "[combine:0] sorting out subsets, reduced 2 -> 2 combinations.\n",
      "[combine:0] selected predictions down via SRs from 8 to 3.\n",
      "[combine:0] sorting out subsets, reduced 2 -> 2 combinations.\n",
      "[combine:0] selected predictions down via SRs from 2 to 1.\n",
      "[combine:0] sorting out subsets, reduced 0 -> 0 combinations.\n",
      "[combine:0] selected predictions down via SRs from 0 to 0.\n",
      "[combine:0] sorting out subsets, reduced 0 -> 0 combinations.\n",
      "[combine:0] selected predictions down via SRs from 6 to 3.\n",
      "[combine:0] sorting out subsets, reduced 2 -> 2 combinations.\n",
      "[combine:0] selected predictions down via SRs from 6 to 3.\n",
      "[combine:0] sorting out subsets, reduced 2 -> 2 combinations.\n",
      "[combine:0] selected predictions down via SRs from 2 to 1.\n",
      "[combine:0] sorting out subsets, reduced 0 -> 0 combinations.\n",
      "[combine:0] selected predictions down via SRs from 6 to 3.\n",
      "[combine:0] sorting out subsets, reduced 2 -> 2 combinations.\n",
      "[combine:0] selected predictions down via SRs from 6 to 3.\n",
      "[combine:0] sorting out subsets, reduced 2 -> 2 combinations.\n",
      "[combine:0] selected predictions down via SRs from 6 to 3.\n",
      "[combine:0] sorting out subsets, reduced 2 -> 2 combinations.\n",
      "[combine:0] selected predictions down via SRs from 6 to 3.\n",
      "[combine:0] sorting out subsets, reduced 2 -> 2 combinations.\n",
      "[combine:0] selected predictions down via SRs from 6 to 3.\n",
      "[combine:0] sorting out subsets, reduced 2 -> 2 combinations.\n",
      "[combine:0] selected predictions down via SRs from 6 to 3.\n",
      "[combine:0] sorting out subsets, reduced 2 -> 2 combinations.\n",
      "[combine:0] selected predictions down via SRs from 8 to 3.\n",
      "[combine:0] sorting out subsets, reduced 2 -> 2 combinations.\n",
      "[combine:0] selected predictions down via SRs from 6 to 3.\n",
      "[combine:0] sorting out subsets, reduced 2 -> 2 combinations.\n",
      "[combine:0] selected predictions down via SRs from 8 to 3.\n",
      "[combine:0] sorting out subsets, reduced 2 -> 2 combinations.\n",
      "[combine:0] selected predictions down via SRs from 6 to 3.\n",
      "[combine:0] sorting out subsets, reduced 2 -> 2 combinations.\n",
      "[combine:0] selected predictions down via SRs from 6 to 3.\n",
      "[combine:0] sorting out subsets, reduced 2 -> 2 combinations.\n",
      "[combine:0] selected predictions down via SRs from 6 to 3.\n",
      "[combine:0] sorting out subsets, reduced 2 -> 2 combinations.\n",
      "[combine:0] selected predictions down via SRs from 6 to 3.\n",
      "[combine:0] sorting out subsets, reduced 2 -> 2 combinations.\n",
      "[combine:0] selected predictions down via SRs from 6 to 3.\n",
      "[combine:0] sorting out subsets, reduced 2 -> 2 combinations.\n",
      "[combine:0] selected predictions down via SRs from 0 to 0.\n",
      "[combine:0] sorting out subsets, reduced 0 -> 0 combinations.\n",
      "[combine:0] selected predictions down via SRs from 6 to 3.\n",
      "[combine:0] sorting out subsets, reduced 2 -> 2 combinations.\n",
      "[combine:0] selected predictions down via SRs from 6 to 3.\n",
      "[combine:0] sorting out subsets, reduced 2 -> 2 combinations.\n",
      "[combine:0] selected predictions down via SRs from 0 to 0.\n",
      "[combine:0] sorting out subsets, reduced 0 -> 0 combinations.\n",
      "[combine:0] selected predictions down via SRs from 6 to 3.\n",
      "[combine:0] sorting out subsets, reduced 2 -> 2 combinations.\n",
      "[combine:0] selected predictions down via SRs from 6 to 3.\n",
      "[combine:0] sorting out subsets, reduced 2 -> 2 combinations.\n",
      "[combine:0] selected predictions down via SRs from 6 to 3.\n",
      "[combine:0] sorting out subsets, reduced 2 -> 2 combinations.\n",
      "[combine:0] selected predictions down via SRs from 6 to 3.\n",
      "[combine:0] sorting out subsets, reduced 2 -> 2 combinations.\n"
     ]
    },
    {
     "name": "stderr",
     "output_type": "stream",
     "text": [
      "WARNING in statistics.likelihoodFromLimits() in 41: asking for likelihood from limit but difference between oUL(7428.45) and eUL(3099.47) is too large (dr=-0.41)\n"
     ]
    },
    {
     "name": "stdout",
     "output_type": "stream",
     "text": [
      "[combine:0] selected predictions down via SRs from 6 to 3.\n",
      "[combine:0] sorting out subsets, reduced 2 -> 2 combinations.\n"
     ]
    },
    {
     "name": "stderr",
     "output_type": "stream",
     "text": [
      "WARNING in statistics.likelihoodFromLimits() in 41: asking for likelihood from limit but difference between oUL(7428.45) and eUL(3099.47) is too large (dr=-0.41)\n",
      "WARNING in statistics.likelihoodFromLimits() in 41: asking for likelihood from limit but difference between oUL(7428.45) and eUL(3099.47) is too large (dr=-0.41)\n"
     ]
    },
    {
     "name": "stdout",
     "output_type": "stream",
     "text": [
      "[combine:0] selected predictions down via SRs from 4 to 2.\n",
      "[combine:0] sorting out subsets, reduced 1 -> 1 combinations.\n",
      "[combine:0] selected predictions down via SRs from 0 to 0.\n",
      "[combine:0] sorting out subsets, reduced 0 -> 0 combinations.\n"
     ]
    },
    {
     "name": "stderr",
     "output_type": "stream",
     "text": [
      "WARNING in statistics.likelihoodFromLimits() in 41: asking for likelihood from limit but difference between oUL(7428.45) and eUL(3099.47) is too large (dr=-0.41)\n"
     ]
    },
    {
     "name": "stdout",
     "output_type": "stream",
     "text": [
      "[combine:0] selected predictions down via SRs from 6 to 3.\n",
      "[combine:0] sorting out subsets, reduced 2 -> 2 combinations.\n"
     ]
    },
    {
     "name": "stderr",
     "output_type": "stream",
     "text": [
      "WARNING in statistics.likelihoodFromLimits() in 41: asking for likelihood from limit but difference between oUL(7428.45) and eUL(3099.47) is too large (dr=-0.41)\n",
      "WARNING in statistics.likelihoodFromLimits() in 41: asking for likelihood from limit but difference between oUL(7428.45) and eUL(3099.47) is too large (dr=-0.41)\n",
      "WARNING in statistics.likelihoodFromLimits() in 41: asking for likelihood from limit but difference between oUL(7428.45) and eUL(3099.47) is too large (dr=-0.41)\n"
     ]
    },
    {
     "name": "stdout",
     "output_type": "stream",
     "text": [
      "[combine:0] selected predictions down via SRs from 4 to 2.\n",
      "[combine:0] sorting out subsets, reduced 1 -> 1 combinations.\n"
     ]
    },
    {
     "name": "stderr",
     "output_type": "stream",
     "text": [
      "WARNING in statistics.likelihoodFromLimits() in 41: asking for likelihood from limit but difference between oUL(7428.45) and eUL(3099.47) is too large (dr=-0.41)\n",
      "WARNING in statistics.likelihoodFromLimits() in 41: asking for likelihood from limit but difference between oUL(7428.45) and eUL(3099.47) is too large (dr=-0.41)\n"
     ]
    },
    {
     "name": "stdout",
     "output_type": "stream",
     "text": [
      "[combine:0] selected predictions down via SRs from 4 to 2.\n",
      "[combine:0] sorting out subsets, reduced 1 -> 1 combinations.\n",
      "[combine:0] selected predictions down via SRs from 6 to 3.\n",
      "[combine:0] sorting out subsets, reduced 2 -> 2 combinations.\n",
      "[combine:0] selected predictions down via SRs from 0 to 0.\n",
      "[combine:0] sorting out subsets, reduced 0 -> 0 combinations.\n",
      "[combine:0] selected predictions down via SRs from 8 to 3.\n",
      "[combine:0] sorting out subsets, reduced 2 -> 2 combinations.\n",
      "[combine:0] selected predictions down via SRs from 6 to 3.\n",
      "[combine:0] sorting out subsets, reduced 2 -> 2 combinations.\n",
      "[combine:0] selected predictions down via SRs from 2 to 1.\n",
      "[combine:0] sorting out subsets, reduced 0 -> 0 combinations.\n",
      "[combine:0] selected predictions down via SRs from 8 to 3.\n",
      "[combine:0] sorting out subsets, reduced 2 -> 2 combinations.\n",
      "[combine:0] selected predictions down via SRs from 6 to 3.\n",
      "[combine:0] sorting out subsets, reduced 2 -> 2 combinations.\n",
      "[combine:0] selected predictions down via SRs from 6 to 3.\n",
      "[combine:0] sorting out subsets, reduced 2 -> 2 combinations.\n",
      "[combine:0] selected predictions down via SRs from 6 to 3.\n",
      "[combine:0] sorting out subsets, reduced 2 -> 2 combinations.\n",
      "[combine:0] selected predictions down via SRs from 0 to 0.\n",
      "[combine:0] sorting out subsets, reduced 0 -> 0 combinations.\n",
      "[combine:0] selected predictions down via SRs from 6 to 3.\n",
      "[combine:0] sorting out subsets, reduced 2 -> 2 combinations.\n",
      "[combine:0] selected predictions down via SRs from 6 to 3.\n",
      "[combine:0] sorting out subsets, reduced 2 -> 2 combinations.\n",
      "[combine:0] selected predictions down via SRs from 0 to 0.\n",
      "[combine:0] sorting out subsets, reduced 0 -> 0 combinations.\n",
      "[combine:0] selected predictions down via SRs from 6 to 3.\n",
      "[combine:0] sorting out subsets, reduced 2 -> 2 combinations.\n",
      "[combine:0] selected predictions down via SRs from 0 to 0.\n",
      "[combine:0] sorting out subsets, reduced 0 -> 0 combinations.\n",
      "[combine:0] selected predictions down via SRs from 0 to 0.\n",
      "[combine:0] sorting out subsets, reduced 0 -> 0 combinations.\n",
      "[combine:0] selected predictions down via SRs from 6 to 3.\n",
      "[combine:0] sorting out subsets, reduced 2 -> 2 combinations.\n",
      "[combine:0] selected predictions down via SRs from 8 to 3.\n",
      "[combine:0] sorting out subsets, reduced 2 -> 2 combinations.\n",
      "[combine:0] selected predictions down via SRs from 0 to 0.\n",
      "[combine:0] sorting out subsets, reduced 0 -> 0 combinations.\n",
      "[combine:0] selected predictions down via SRs from 6 to 3.\n",
      "[combine:0] sorting out subsets, reduced 2 -> 2 combinations.\n",
      "[combine:0] selected predictions down via SRs from 6 to 3.\n",
      "[combine:0] sorting out subsets, reduced 2 -> 2 combinations.\n"
     ]
    },
    {
     "name": "stderr",
     "output_type": "stream",
     "text": [
      "WARNING in statistics.likelihoodFromLimits() in 41: asking for likelihood from limit but difference between oUL(7428.45) and eUL(3099.47) is too large (dr=-0.41)\n"
     ]
    },
    {
     "name": "stdout",
     "output_type": "stream",
     "text": [
      "[combine:0] selected predictions down via SRs from 6 to 3.\n",
      "[combine:0] sorting out subsets, reduced 2 -> 2 combinations.\n"
     ]
    },
    {
     "name": "stderr",
     "output_type": "stream",
     "text": [
      "WARNING in statistics.likelihoodFromLimits() in 41: asking for likelihood from limit but difference between oUL(7428.45) and eUL(3099.47) is too large (dr=-0.41)\n",
      "WARNING in statistics.likelihoodFromLimits() in 41: asking for likelihood from limit but difference between oUL(7428.45) and eUL(3099.47) is too large (dr=-0.41)\n"
     ]
    },
    {
     "name": "stdout",
     "output_type": "stream",
     "text": [
      "[combine:0] selected predictions down via SRs from 4 to 2.\n",
      "[combine:0] sorting out subsets, reduced 1 -> 1 combinations.\n",
      "[combine:0] selected predictions down via SRs from 0 to 0.\n",
      "[combine:0] sorting out subsets, reduced 0 -> 0 combinations.\n",
      "[combine:0] selected predictions down via SRs from 6 to 3.\n",
      "[combine:0] sorting out subsets, reduced 2 -> 2 combinations.\n",
      "[combine:0] selected predictions down via SRs from 6 to 3.\n",
      "[combine:0] sorting out subsets, reduced 2 -> 2 combinations.\n",
      "[combine:0] selected predictions down via SRs from 6 to 3.\n",
      "[combine:0] sorting out subsets, reduced 2 -> 2 combinations.\n",
      "[combine:0] selected predictions down via SRs from 6 to 3.\n",
      "[combine:0] sorting out subsets, reduced 2 -> 2 combinations.\n",
      "[combine:0] selected predictions down via SRs from 6 to 3.\n",
      "[combine:0] sorting out subsets, reduced 2 -> 2 combinations.\n",
      "[combine:0] selected predictions down via SRs from 8 to 3.\n",
      "[combine:0] sorting out subsets, reduced 2 -> 2 combinations.\n",
      "[combine:0] selected predictions down via SRs from 6 to 3.\n",
      "[combine:0] sorting out subsets, reduced 2 -> 2 combinations.\n",
      "[combine:0] selected predictions down via SRs from 6 to 3.\n",
      "[combine:0] sorting out subsets, reduced 2 -> 2 combinations.\n",
      "[combine:0] selected predictions down via SRs from 0 to 0.\n",
      "[combine:0] sorting out subsets, reduced 0 -> 0 combinations.\n",
      "[combine:0] selected predictions down via SRs from 6 to 3.\n",
      "[combine:0] sorting out subsets, reduced 2 -> 2 combinations.\n",
      "[combine:0] selected predictions down via SRs from 10 to 3.\n",
      "[combine:0] sorting out subsets, reduced 2 -> 2 combinations.\n",
      "[combine:0] selected predictions down via SRs from 6 to 3.\n",
      "[combine:0] sorting out subsets, reduced 2 -> 2 combinations.\n",
      "[combine:0] selected predictions down via SRs from 6 to 3.\n",
      "[combine:0] sorting out subsets, reduced 2 -> 2 combinations.\n",
      "[combine:0] selected predictions down via SRs from 6 to 3.\n",
      "[combine:0] sorting out subsets, reduced 2 -> 2 combinations.\n",
      "[combine:0] selected predictions down via SRs from 6 to 3.\n",
      "[combine:0] sorting out subsets, reduced 2 -> 2 combinations.\n",
      "[combine:0] selected predictions down via SRs from 6 to 3.\n",
      "[combine:0] sorting out subsets, reduced 2 -> 2 combinations.\n",
      "[combine:0] selected predictions down via SRs from 8 to 3.\n",
      "[combine:0] sorting out subsets, reduced 2 -> 2 combinations.\n"
     ]
    },
    {
     "name": "stderr",
     "output_type": "stream",
     "text": [
      "WARNING in statistics.likelihoodFromLimits() in 41: asking for likelihood from limit but difference between oUL(6953.24) and eUL(2952.36) is too large (dr=-0.40)\n"
     ]
    },
    {
     "name": "stdout",
     "output_type": "stream",
     "text": [
      "[combine:0] selected predictions down via SRs from 6 to 3.\n",
      "[combine:0] sorting out subsets, reduced 2 -> 2 combinations.\n"
     ]
    },
    {
     "name": "stderr",
     "output_type": "stream",
     "text": [
      "WARNING in statistics.likelihoodFromLimits() in 41: asking for likelihood from limit but difference between oUL(6953.24) and eUL(2952.36) is too large (dr=-0.40)\n",
      "WARNING in statistics.likelihoodFromLimits() in 41: asking for likelihood from limit but difference between oUL(6953.24) and eUL(2952.36) is too large (dr=-0.40)\n"
     ]
    },
    {
     "name": "stdout",
     "output_type": "stream",
     "text": [
      "[combine:0] selected predictions down via SRs from 4 to 2.\n",
      "[combine:0] sorting out subsets, reduced 1 -> 1 combinations.\n",
      "[combine:0] selected predictions down via SRs from 0 to 0.\n",
      "[combine:0] sorting out subsets, reduced 0 -> 0 combinations.\n",
      "[combine:0] selected predictions down via SRs from 0 to 0.\n",
      "[combine:0] sorting out subsets, reduced 0 -> 0 combinations.\n",
      "[combine:0] selected predictions down via SRs from 6 to 3.\n",
      "[combine:0] sorting out subsets, reduced 2 -> 2 combinations.\n",
      "[combine:0] selected predictions down via SRs from 2 to 1.\n",
      "[combine:0] sorting out subsets, reduced 0 -> 0 combinations.\n",
      "[combine:0] selected predictions down via SRs from 8 to 3.\n",
      "[combine:0] sorting out subsets, reduced 2 -> 2 combinations.\n",
      "[combine:0] selected predictions down via SRs from 6 to 3.\n",
      "[combine:0] sorting out subsets, reduced 2 -> 2 combinations.\n",
      "[combine:0] selected predictions down via SRs from 6 to 3.\n",
      "[combine:0] sorting out subsets, reduced 2 -> 2 combinations.\n"
     ]
    },
    {
     "name": "stderr",
     "output_type": "stream",
     "text": [
      "WARNING in statistics.likelihoodFromLimits() in 41: asking for likelihood from limit but difference between oUL(7428.45) and eUL(3099.47) is too large (dr=-0.41)\n"
     ]
    },
    {
     "name": "stdout",
     "output_type": "stream",
     "text": [
      "[combine:0] selected predictions down via SRs from 2 to 1.\n",
      "[combine:0] sorting out subsets, reduced 0 -> 0 combinations.\n"
     ]
    },
    {
     "name": "stderr",
     "output_type": "stream",
     "text": [
      "WARNING in statistics.likelihoodFromLimits() in 41: asking for likelihood from limit but difference between oUL(7428.45) and eUL(3099.47) is too large (dr=-0.41)\n",
      "WARNING in statistics.likelihoodFromLimits() in 41: asking for likelihood from limit but difference between oUL(7428.45) and eUL(3099.47) is too large (dr=-0.41)\n"
     ]
    },
    {
     "name": "stdout",
     "output_type": "stream",
     "text": [
      "[combine:0] selected predictions down via SRs from 4 to 2.\n",
      "[combine:0] sorting out subsets, reduced 1 -> 1 combinations.\n",
      "[combine:0] selected predictions down via SRs from 0 to 0.\n",
      "[combine:0] sorting out subsets, reduced 0 -> 0 combinations.\n",
      "[combine:0] selected predictions down via SRs from 2 to 1.\n",
      "[combine:0] sorting out subsets, reduced 0 -> 0 combinations.\n",
      "[combine:0] selected predictions down via SRs from 6 to 3.\n",
      "[combine:0] sorting out subsets, reduced 2 -> 2 combinations.\n",
      "[combine:0] selected predictions down via SRs from 6 to 3.\n",
      "[combine:0] sorting out subsets, reduced 2 -> 2 combinations.\n",
      "[combine:0] selected predictions down via SRs from 0 to 0.\n",
      "[combine:0] sorting out subsets, reduced 0 -> 0 combinations.\n",
      "[combine:0] selected predictions down via SRs from 6 to 3.\n",
      "[combine:0] sorting out subsets, reduced 2 -> 2 combinations.\n",
      "[combine:0] selected predictions down via SRs from 6 to 3.\n",
      "[combine:0] sorting out subsets, reduced 2 -> 2 combinations.\n",
      "[combine:0] selected predictions down via SRs from 0 to 0.\n",
      "[combine:0] sorting out subsets, reduced 0 -> 0 combinations.\n"
     ]
    },
    {
     "name": "stderr",
     "output_type": "stream",
     "text": [
      "WARNING in statistics.likelihoodFromLimits() in 41: asking for likelihood from limit but difference between oUL(7428.45) and eUL(3099.47) is too large (dr=-0.41)\n",
      "WARNING in statistics.likelihoodFromLimits() in 41: asking for likelihood from limit but difference between oUL(7428.45) and eUL(3099.47) is too large (dr=-0.41)\n",
      "WARNING in statistics.likelihoodFromLimits() in 41: asking for likelihood from limit but difference between oUL(7428.45) and eUL(3099.47) is too large (dr=-0.41)\n"
     ]
    },
    {
     "name": "stdout",
     "output_type": "stream",
     "text": [
      "[combine:0] selected predictions down via SRs from 4 to 2.\n",
      "[combine:0] sorting out subsets, reduced 1 -> 1 combinations.\n",
      "[combine:0] selected predictions down via SRs from 8 to 3.\n",
      "[combine:0] sorting out subsets, reduced 2 -> 2 combinations.\n",
      "[combine:0] selected predictions down via SRs from 6 to 3.\n",
      "[combine:0] sorting out subsets, reduced 2 -> 2 combinations.\n"
     ]
    },
    {
     "name": "stderr",
     "output_type": "stream",
     "text": [
      "WARNING in statistics.likelihoodFromLimits() in 41: asking for likelihood from limit but difference between oUL(6953.24) and eUL(2952.36) is too large (dr=-0.40)\n"
     ]
    },
    {
     "name": "stdout",
     "output_type": "stream",
     "text": [
      "[combine:0] selected predictions down via SRs from 6 to 3.\n",
      "[combine:0] sorting out subsets, reduced 2 -> 2 combinations.\n"
     ]
    },
    {
     "name": "stderr",
     "output_type": "stream",
     "text": [
      "WARNING in statistics.likelihoodFromLimits() in 41: asking for likelihood from limit but difference between oUL(6953.24) and eUL(2952.36) is too large (dr=-0.40)\n",
      "WARNING in statistics.likelihoodFromLimits() in 41: asking for likelihood from limit but difference between oUL(6953.24) and eUL(2952.36) is too large (dr=-0.40)\n"
     ]
    },
    {
     "name": "stdout",
     "output_type": "stream",
     "text": [
      "[combine:0] selected predictions down via SRs from 4 to 2.\n",
      "[combine:0] sorting out subsets, reduced 1 -> 1 combinations.\n",
      "[combine:0] selected predictions down via SRs from 0 to 0.\n",
      "[combine:0] sorting out subsets, reduced 0 -> 0 combinations.\n",
      "[combine:0] selected predictions down via SRs from 6 to 3.\n",
      "[combine:0] sorting out subsets, reduced 2 -> 2 combinations.\n"
     ]
    },
    {
     "name": "stderr",
     "output_type": "stream",
     "text": [
      "WARNING in statistics.likelihoodFromLimits() in 41: asking for likelihood from limit but difference between oUL(7428.45) and eUL(3099.47) is too large (dr=-0.41)\n"
     ]
    },
    {
     "name": "stdout",
     "output_type": "stream",
     "text": [
      "[combine:0] selected predictions down via SRs from 6 to 3.\n",
      "[combine:0] sorting out subsets, reduced 2 -> 2 combinations.\n"
     ]
    },
    {
     "name": "stderr",
     "output_type": "stream",
     "text": [
      "WARNING in statistics.likelihoodFromLimits() in 41: asking for likelihood from limit but difference between oUL(7428.45) and eUL(3099.47) is too large (dr=-0.41)\n",
      "WARNING in statistics.likelihoodFromLimits() in 41: asking for likelihood from limit but difference between oUL(7428.45) and eUL(3099.47) is too large (dr=-0.41)\n"
     ]
    },
    {
     "name": "stdout",
     "output_type": "stream",
     "text": [
      "[combine:0] selected predictions down via SRs from 4 to 2.\n",
      "[combine:0] sorting out subsets, reduced 1 -> 1 combinations.\n",
      "[combine:0] selected predictions down via SRs from 2 to 1.\n",
      "[combine:0] sorting out subsets, reduced 0 -> 0 combinations.\n",
      "[combine:0] selected predictions down via SRs from 8 to 3.\n",
      "[combine:0] sorting out subsets, reduced 2 -> 2 combinations.\n",
      "[combine:0] selected predictions down via SRs from 6 to 3.\n",
      "[combine:0] sorting out subsets, reduced 2 -> 2 combinations.\n",
      "[combine:0] selected predictions down via SRs from 6 to 3.\n",
      "[combine:0] sorting out subsets, reduced 2 -> 2 combinations.\n",
      "[combine:0] selected predictions down via SRs from 6 to 3.\n",
      "[combine:0] sorting out subsets, reduced 2 -> 2 combinations.\n",
      "[combine:0] selected predictions down via SRs from 6 to 3.\n",
      "[combine:0] sorting out subsets, reduced 2 -> 2 combinations.\n",
      "[combine:0] selected predictions down via SRs from 6 to 3.\n",
      "[combine:0] sorting out subsets, reduced 2 -> 2 combinations.\n",
      "[combine:0] selected predictions down via SRs from 0 to 0.\n",
      "[combine:0] sorting out subsets, reduced 0 -> 0 combinations.\n",
      "[combine:0] selected predictions down via SRs from 6 to 3.\n",
      "[combine:0] sorting out subsets, reduced 2 -> 2 combinations.\n",
      "[combine:0] selected predictions down via SRs from 0 to 0.\n",
      "[combine:0] sorting out subsets, reduced 0 -> 0 combinations.\n",
      "[combine:0] selected predictions down via SRs from 6 to 3.\n",
      "[combine:0] sorting out subsets, reduced 2 -> 2 combinations.\n",
      "[combine:0] selected predictions down via SRs from 6 to 3.\n",
      "[combine:0] sorting out subsets, reduced 2 -> 2 combinations.\n",
      "[combine:0] selected predictions down via SRs from 8 to 3.\n",
      "[combine:0] sorting out subsets, reduced 2 -> 2 combinations.\n",
      "[combine:0] selected predictions down via SRs from 0 to 0.\n",
      "[combine:0] sorting out subsets, reduced 0 -> 0 combinations.\n",
      "[combine:0] selected predictions down via SRs from 6 to 3.\n",
      "[combine:0] sorting out subsets, reduced 2 -> 2 combinations.\n",
      "[combine:0] selected predictions down via SRs from 8 to 3.\n",
      "[combine:0] sorting out subsets, reduced 2 -> 2 combinations.\n",
      "[combine:0] selected predictions down via SRs from 6 to 3.\n",
      "[combine:0] sorting out subsets, reduced 2 -> 2 combinations.\n"
     ]
    },
    {
     "name": "stderr",
     "output_type": "stream",
     "text": [
      "WARNING in statistics.likelihoodFromLimits() in 41: asking for likelihood from limit but difference between oUL(7428.45) and eUL(3099.47) is too large (dr=-0.41)\n"
     ]
    },
    {
     "name": "stdout",
     "output_type": "stream",
     "text": [
      "[combine:0] selected predictions down via SRs from 6 to 3.\n",
      "[combine:0] sorting out subsets, reduced 2 -> 2 combinations.\n"
     ]
    },
    {
     "name": "stderr",
     "output_type": "stream",
     "text": [
      "WARNING in statistics.likelihoodFromLimits() in 41: asking for likelihood from limit but difference between oUL(7428.45) and eUL(3099.47) is too large (dr=-0.41)\n",
      "WARNING in statistics.likelihoodFromLimits() in 41: asking for likelihood from limit but difference between oUL(7428.45) and eUL(3099.47) is too large (dr=-0.41)\n",
      "WARNING in statistics.likelihoodFromLimits() in 41: asking for likelihood from limit but difference between oUL(6953.24) and eUL(2952.36) is too large (dr=-0.40)\n"
     ]
    },
    {
     "name": "stdout",
     "output_type": "stream",
     "text": [
      "[combine:0] selected predictions down via SRs from 4 to 2.\n",
      "[combine:0] sorting out subsets, reduced 1 -> 1 combinations.\n"
     ]
    },
    {
     "name": "stderr",
     "output_type": "stream",
     "text": [
      "WARNING in statistics.likelihoodFromLimits() in 41: asking for likelihood from limit but difference between oUL(6953.24) and eUL(2952.36) is too large (dr=-0.40)\n",
      "WARNING in statistics.likelihoodFromLimits() in 41: asking for likelihood from limit but difference between oUL(6953.24) and eUL(2952.36) is too large (dr=-0.40)\n"
     ]
    },
    {
     "name": "stdout",
     "output_type": "stream",
     "text": [
      "[combine:0] selected predictions down via SRs from 4 to 2.\n",
      "[combine:0] sorting out subsets, reduced 1 -> 1 combinations.\n",
      "[combine:0] selected predictions down via SRs from 6 to 3.\n",
      "[combine:0] sorting out subsets, reduced 2 -> 2 combinations.\n",
      "[combine:0] selected predictions down via SRs from 6 to 3.\n",
      "[combine:0] sorting out subsets, reduced 2 -> 2 combinations.\n",
      "[combine:0] selected predictions down via SRs from 6 to 3.\n",
      "[combine:0] sorting out subsets, reduced 2 -> 2 combinations.\n",
      "[combine:0] selected predictions down via SRs from 0 to 0.\n",
      "[combine:0] sorting out subsets, reduced 0 -> 0 combinations.\n",
      "[combine:0] selected predictions down via SRs from 6 to 3.\n",
      "[combine:0] sorting out subsets, reduced 2 -> 2 combinations.\n",
      "[combine:0] selected predictions down via SRs from 0 to 0.\n",
      "[combine:0] sorting out subsets, reduced 0 -> 0 combinations.\n",
      "[combine:0] selected predictions down via SRs from 2 to 1.\n",
      "[combine:0] sorting out subsets, reduced 0 -> 0 combinations.\n",
      "[combine:0] selected predictions down via SRs from 6 to 3.\n",
      "[combine:0] sorting out subsets, reduced 2 -> 2 combinations.\n",
      "[combine:0] selected predictions down via SRs from 6 to 3.\n",
      "[combine:0] sorting out subsets, reduced 2 -> 2 combinations.\n",
      "[combine:0] selected predictions down via SRs from 6 to 3.\n",
      "[combine:0] sorting out subsets, reduced 2 -> 2 combinations.\n",
      "[combine:0] selected predictions down via SRs from 0 to 0.\n",
      "[combine:0] sorting out subsets, reduced 0 -> 0 combinations.\n",
      "[combine:0] selected predictions down via SRs from 6 to 3.\n",
      "[combine:0] sorting out subsets, reduced 2 -> 2 combinations.\n",
      "[combine:0] selected predictions down via SRs from 6 to 3.\n",
      "[combine:0] sorting out subsets, reduced 2 -> 2 combinations.\n",
      "[combine:0] selected predictions down via SRs from 6 to 3.\n",
      "[combine:0] sorting out subsets, reduced 2 -> 2 combinations.\n",
      "[combine:0] selected predictions down via SRs from 0 to 0.\n",
      "[combine:0] sorting out subsets, reduced 0 -> 0 combinations.\n",
      "[combine:0] selected predictions down via SRs from 6 to 3.\n",
      "[combine:0] sorting out subsets, reduced 2 -> 2 combinations.\n",
      "[combine:0] selected predictions down via SRs from 6 to 3.\n",
      "[combine:0] sorting out subsets, reduced 2 -> 2 combinations.\n",
      "[combine:0] selected predictions down via SRs from 2 to 1.\n",
      "[combine:0] sorting out subsets, reduced 0 -> 0 combinations.\n",
      "[combine:0] selected predictions down via SRs from 0 to 0.\n",
      "[combine:0] sorting out subsets, reduced 0 -> 0 combinations.\n",
      "[combine:0] selected predictions down via SRs from 10 to 3.\n",
      "[combine:0] sorting out subsets, reduced 2 -> 2 combinations.\n",
      "[combine:0] selected predictions down via SRs from 6 to 3.\n",
      "[combine:0] sorting out subsets, reduced 2 -> 2 combinations.\n",
      "[combine:0] selected predictions down via SRs from 6 to 3.\n",
      "[combine:0] sorting out subsets, reduced 2 -> 2 combinations.\n"
     ]
    },
    {
     "name": "stderr",
     "output_type": "stream",
     "text": [
      "WARNING in statistics.likelihoodFromLimits() in 41: asking for likelihood from limit but difference between oUL(7428.45) and eUL(3099.47) is too large (dr=-0.41)\n"
     ]
    },
    {
     "name": "stdout",
     "output_type": "stream",
     "text": [
      "[combine:0] selected predictions down via SRs from 6 to 3.\n",
      "[combine:0] sorting out subsets, reduced 2 -> 2 combinations.\n"
     ]
    },
    {
     "name": "stderr",
     "output_type": "stream",
     "text": [
      "WARNING in statistics.likelihoodFromLimits() in 41: asking for likelihood from limit but difference between oUL(7428.45) and eUL(3099.47) is too large (dr=-0.41)\n",
      "WARNING in statistics.likelihoodFromLimits() in 41: asking for likelihood from limit but difference between oUL(7428.45) and eUL(3099.47) is too large (dr=-0.41)\n"
     ]
    },
    {
     "name": "stdout",
     "output_type": "stream",
     "text": [
      "[combine:0] selected predictions down via SRs from 4 to 2.\n",
      "[combine:0] sorting out subsets, reduced 1 -> 1 combinations.\n",
      "[combine:0] selected predictions down via SRs from 2 to 1.\n",
      "[combine:0] sorting out subsets, reduced 0 -> 0 combinations.\n",
      "[combine:0] selected predictions down via SRs from 8 to 3.\n",
      "[combine:0] sorting out subsets, reduced 2 -> 2 combinations.\n",
      "[combine:0] selected predictions down via SRs from 4 to 2.\n",
      "[combine:0] sorting out subsets, reduced 0 -> 0 combinations.\n"
     ]
    },
    {
     "name": "stderr",
     "output_type": "stream",
     "text": [
      "WARNING in statistics.likelihoodFromLimits() in 41: asking for likelihood from limit but difference between oUL(7428.45) and eUL(3099.47) is too large (dr=-0.41)\n"
     ]
    },
    {
     "name": "stdout",
     "output_type": "stream",
     "text": [
      "[combine:0] selected predictions down via SRs from 6 to 3.\n",
      "[combine:0] sorting out subsets, reduced 2 -> 2 combinations.\n"
     ]
    },
    {
     "name": "stderr",
     "output_type": "stream",
     "text": [
      "WARNING in statistics.likelihoodFromLimits() in 41: asking for likelihood from limit but difference between oUL(7428.45) and eUL(3099.47) is too large (dr=-0.41)\n",
      "WARNING in statistics.likelihoodFromLimits() in 41: asking for likelihood from limit but difference between oUL(7428.45) and eUL(3099.47) is too large (dr=-0.41)\n"
     ]
    },
    {
     "name": "stdout",
     "output_type": "stream",
     "text": [
      "[combine:0] selected predictions down via SRs from 6 to 2.\n",
      "[combine:0] sorting out subsets, reduced 1 -> 1 combinations.\n"
     ]
    },
    {
     "name": "stderr",
     "output_type": "stream",
     "text": [
      "WARNING in statistics.likelihoodFromLimits() in 41: asking for likelihood from limit but difference between oUL(7428.45) and eUL(3099.47) is too large (dr=-0.41)\n"
     ]
    },
    {
     "name": "stdout",
     "output_type": "stream",
     "text": [
      "[combine:0] selected predictions down via SRs from 6 to 3.\n",
      "[combine:0] sorting out subsets, reduced 2 -> 2 combinations.\n"
     ]
    },
    {
     "name": "stderr",
     "output_type": "stream",
     "text": [
      "WARNING in statistics.likelihoodFromLimits() in 41: asking for likelihood from limit but difference between oUL(7428.45) and eUL(3099.47) is too large (dr=-0.41)\n",
      "WARNING in statistics.likelihoodFromLimits() in 41: asking for likelihood from limit but difference between oUL(7428.45) and eUL(3099.47) is too large (dr=-0.41)\n",
      "WARNING in statistics.likelihoodFromLimits() in 41: asking for likelihood from limit but difference between oUL(7428.45) and eUL(3099.47) is too large (dr=-0.41)\n"
     ]
    },
    {
     "name": "stdout",
     "output_type": "stream",
     "text": [
      "[combine:0] selected predictions down via SRs from 4 to 2.\n",
      "[combine:0] sorting out subsets, reduced 1 -> 1 combinations.\n"
     ]
    },
    {
     "name": "stderr",
     "output_type": "stream",
     "text": [
      "WARNING in statistics.likelihoodFromLimits() in 41: asking for likelihood from limit but difference between oUL(7428.45) and eUL(3099.47) is too large (dr=-0.41)\n",
      "WARNING in statistics.likelihoodFromLimits() in 41: asking for likelihood from limit but difference between oUL(7428.45) and eUL(3099.47) is too large (dr=-0.41)\n"
     ]
    },
    {
     "name": "stdout",
     "output_type": "stream",
     "text": [
      "[combine:0] selected predictions down via SRs from 4 to 2.\n",
      "[combine:0] sorting out subsets, reduced 1 -> 1 combinations.\n",
      "[combine:0] selected predictions down via SRs from 6 to 3.\n",
      "[combine:0] sorting out subsets, reduced 2 -> 2 combinations.\n",
      "[combine:0] selected predictions down via SRs from 6 to 3.\n",
      "[combine:0] sorting out subsets, reduced 2 -> 2 combinations.\n",
      "[combine:0] selected predictions down via SRs from 6 to 3.\n",
      "[combine:0] sorting out subsets, reduced 2 -> 2 combinations.\n",
      "[combine:0] selected predictions down via SRs from 6 to 3.\n",
      "[combine:0] sorting out subsets, reduced 2 -> 2 combinations.\n",
      "[combine:0] selected predictions down via SRs from 6 to 3.\n",
      "[combine:0] sorting out subsets, reduced 2 -> 2 combinations.\n",
      "[combine:0] selected predictions down via SRs from 6 to 3.\n",
      "[combine:0] sorting out subsets, reduced 2 -> 2 combinations.\n",
      "[combine:0] selected predictions down via SRs from 6 to 3.\n",
      "[combine:0] sorting out subsets, reduced 2 -> 2 combinations.\n",
      "[combine:0] selected predictions down via SRs from 6 to 3.\n",
      "[combine:0] sorting out subsets, reduced 2 -> 2 combinations.\n",
      "[combine:0] selected predictions down via SRs from 10 to 3.\n",
      "[combine:0] sorting out subsets, reduced 2 -> 2 combinations.\n",
      "[combine:0] selected predictions down via SRs from 0 to 0.\n",
      "[combine:0] sorting out subsets, reduced 0 -> 0 combinations.\n",
      "[combine:0] selected predictions down via SRs from 2 to 1.\n",
      "[combine:0] sorting out subsets, reduced 0 -> 0 combinations.\n",
      "[combine:0] selected predictions down via SRs from 6 to 3.\n",
      "[combine:0] sorting out subsets, reduced 2 -> 2 combinations.\n",
      "[combine:0] selected predictions down via SRs from 2 to 1.\n",
      "[combine:0] sorting out subsets, reduced 0 -> 0 combinations.\n",
      "[combine:0] selected predictions down via SRs from 6 to 3.\n",
      "[combine:0] sorting out subsets, reduced 2 -> 2 combinations.\n",
      "[combine:0] selected predictions down via SRs from 2 to 1.\n",
      "[combine:0] sorting out subsets, reduced 0 -> 0 combinations.\n",
      "[combine:0] selected predictions down via SRs from 6 to 3.\n",
      "[combine:0] sorting out subsets, reduced 2 -> 2 combinations.\n",
      "[combine:0] selected predictions down via SRs from 6 to 3.\n",
      "[combine:0] sorting out subsets, reduced 2 -> 2 combinations.\n",
      "[combine:0] selected predictions down via SRs from 8 to 3.\n",
      "[combine:0] sorting out subsets, reduced 2 -> 2 combinations.\n",
      "[combine:0] selected predictions down via SRs from 6 to 3.\n",
      "[combine:0] sorting out subsets, reduced 2 -> 2 combinations.\n",
      "[combine:0] selected predictions down via SRs from 6 to 3.\n",
      "[combine:0] sorting out subsets, reduced 2 -> 2 combinations.\n",
      "[combine:0] selected predictions down via SRs from 6 to 3.\n",
      "[combine:0] sorting out subsets, reduced 2 -> 2 combinations.\n",
      "[combine:0] selected predictions down via SRs from 8 to 3.\n",
      "[combine:0] sorting out subsets, reduced 2 -> 2 combinations.\n"
     ]
    },
    {
     "name": "stderr",
     "output_type": "stream",
     "text": [
      "WARNING in statistics.likelihoodFromLimits() in 41: asking for likelihood from limit but difference between oUL(7428.45) and eUL(3099.47) is too large (dr=-0.41)\n"
     ]
    },
    {
     "name": "stdout",
     "output_type": "stream",
     "text": [
      "[combine:0] selected predictions down via SRs from 6 to 3.\n",
      "[combine:0] sorting out subsets, reduced 2 -> 2 combinations.\n"
     ]
    },
    {
     "name": "stderr",
     "output_type": "stream",
     "text": [
      "WARNING in statistics.likelihoodFromLimits() in 41: asking for likelihood from limit but difference between oUL(7428.45) and eUL(3099.47) is too large (dr=-0.41)\n",
      "WARNING in statistics.likelihoodFromLimits() in 41: asking for likelihood from limit but difference between oUL(7428.45) and eUL(3099.47) is too large (dr=-0.41)\n"
     ]
    },
    {
     "name": "stdout",
     "output_type": "stream",
     "text": [
      "[combine:0] selected predictions down via SRs from 4 to 2.\n",
      "[combine:0] sorting out subsets, reduced 1 -> 1 combinations.\n",
      "[combine:0] selected predictions down via SRs from 6 to 3.\n",
      "[combine:0] sorting out subsets, reduced 2 -> 2 combinations.\n",
      "[combine:0] selected predictions down via SRs from 8 to 3.\n",
      "[combine:0] sorting out subsets, reduced 2 -> 2 combinations.\n",
      "[combine:0] selected predictions down via SRs from 12 to 3.\n",
      "[combine:0] sorting out subsets, reduced 2 -> 2 combinations.\n",
      "[combine:0] selected predictions down via SRs from 8 to 3.\n",
      "[combine:0] sorting out subsets, reduced 2 -> 2 combinations.\n",
      "[combine:0] selected predictions down via SRs from 6 to 3.\n",
      "[combine:0] sorting out subsets, reduced 2 -> 2 combinations.\n",
      "[combine:0] selected predictions down via SRs from 6 to 3.\n",
      "[combine:0] sorting out subsets, reduced 2 -> 2 combinations.\n",
      "[combine:0] selected predictions down via SRs from 6 to 3.\n",
      "[combine:0] sorting out subsets, reduced 2 -> 2 combinations.\n"
     ]
    },
    {
     "name": "stderr",
     "output_type": "stream",
     "text": [
      "WARNING in statistics.likelihoodFromLimits() in 41: asking for likelihood from limit but difference between oUL(9299.03) and eUL(3919.22) is too large (dr=-0.41)\n"
     ]
    },
    {
     "name": "stdout",
     "output_type": "stream",
     "text": [
      "[combine:0] selected predictions down via SRs from 8 to 3.\n",
      "[combine:0] sorting out subsets, reduced 2 -> 2 combinations.\n"
     ]
    },
    {
     "name": "stderr",
     "output_type": "stream",
     "text": [
      "WARNING in statistics.likelihoodFromLimits() in 41: asking for likelihood from limit but difference between oUL(9299.03) and eUL(3919.22) is too large (dr=-0.41)\n",
      "WARNING in statistics.likelihoodFromLimits() in 41: asking for likelihood from limit but difference between oUL(9299.03) and eUL(3919.22) is too large (dr=-0.41)\n"
     ]
    },
    {
     "name": "stdout",
     "output_type": "stream",
     "text": [
      "[combine:0] selected predictions down via SRs from 4 to 2.\n",
      "[combine:0] sorting out subsets, reduced 1 -> 1 combinations.\n",
      "[combine:0] selected predictions down via SRs from 0 to 0.\n",
      "[combine:0] sorting out subsets, reduced 0 -> 0 combinations.\n",
      "[combine:0] selected predictions down via SRs from 6 to 3.\n",
      "[combine:0] sorting out subsets, reduced 2 -> 2 combinations.\n",
      "[combine:0] selected predictions down via SRs from 0 to 0.\n",
      "[combine:0] sorting out subsets, reduced 0 -> 0 combinations.\n",
      "[combine:0] selected predictions down via SRs from 2 to 1.\n",
      "[combine:0] sorting out subsets, reduced 0 -> 0 combinations.\n"
     ]
    },
    {
     "name": "stderr",
     "output_type": "stream",
     "text": [
      "WARNING in statistics.likelihoodFromLimits() in 41: asking for likelihood from limit but difference between oUL(7428.45) and eUL(3099.47) is too large (dr=-0.41)\n"
     ]
    },
    {
     "name": "stdout",
     "output_type": "stream",
     "text": [
      "[combine:0] selected predictions down via SRs from 6 to 3.\n",
      "[combine:0] sorting out subsets, reduced 2 -> 2 combinations.\n"
     ]
    },
    {
     "name": "stderr",
     "output_type": "stream",
     "text": [
      "WARNING in statistics.likelihoodFromLimits() in 41: asking for likelihood from limit but difference between oUL(7428.45) and eUL(3099.47) is too large (dr=-0.41)\n",
      "WARNING in statistics.likelihoodFromLimits() in 41: asking for likelihood from limit but difference between oUL(7428.45) and eUL(3099.47) is too large (dr=-0.41)\n"
     ]
    },
    {
     "name": "stdout",
     "output_type": "stream",
     "text": [
      "[combine:0] selected predictions down via SRs from 4 to 2.\n",
      "[combine:0] sorting out subsets, reduced 1 -> 1 combinations.\n"
     ]
    }
   ],
   "source": [
    "modelList = []\n",
    "for f in glob.glob('../toyWalk/protomodel*pcl'):\n",
    "    with open(f,'rb') as ff:\n",
    "        protomodel = pickle.load(ff)\n",
    "        protomodel.templateSLHA = '../protomodels/builder/templates/template1g.slha'\n",
    "        kold = protomodel.K\n",
    "        getPredictions(protomodel,os.path.join(os.path.dirname(f),'toy-database'))\n",
    "        protomodel.step -= 1 #Set starting of step counter at zero instead of 1\n",
    "        knew = protomodel.K\n",
    "        if kold != knew and abs(kold-knew) > 0.1:\n",
    "            print(protomodel,protomodel.step,'kold=',kold,'knew=',knew)\n",
    "            break\n",
    "        modelList.append(protomodel)\n",
    "modelList = sorted(modelList, key = lambda p: p.step)        "
   ]
  },
  {
   "cell_type": "code",
   "execution_count": 13,
   "metadata": {},
   "outputs": [],
   "source": [
    "#Get all particles which appears in all steps:\n",
    "particles = []\n",
    "for p in modelList:\n",
    "    particles += p.unFrozenParticles()\n",
    "particles = list(set(particles))"
   ]
  },
  {
   "cell_type": "code",
   "execution_count": 14,
   "metadata": {},
   "outputs": [],
   "source": [
    "#Build useful dataset:\n",
    "steps = np.array([p.step for p in modelList])\n",
    "nparticles = np.array([len(p.unFrozenParticles()) for p in modelList])\n",
    "Kvalues = np.array([p.K if (p.K and p.K > 0) else 0.0 for p in modelList])\n",
    "Zvalues = np.array([p.Z if (p.Z and p.Z > 0) else 0.0 for p in modelList])\n",
    "masses = dict([[pid,[]] for pid in particles])\n",
    "for p in modelList:\n",
    "    for pid in masses:\n",
    "        if pid in p.masses:\n",
    "            masses[pid].append(p.masses[pid])\n",
    "        else:\n",
    "#             masses[pid].append(np.nan)\n",
    "            masses[pid].append(-100.0)\n",
    "for pid in masses:\n",
    "    masses[pid] = np.array(masses[pid])\n",
    "dataDict = {'step' : steps, 'K' : Kvalues, 'Z' : Zvalues, \n",
    "                   'nparticles' : nparticles}\n",
    "dataDict.update(masses) \n",
    "df = pd.DataFrame(dataDict)"
   ]
  },
  {
   "cell_type": "code",
   "execution_count": 15,
   "metadata": {},
   "outputs": [
    {
     "data": {
      "image/png": "[encoded data removed]",
      "text/plain": [
       "<Figure size 432x288 with 1 Axes>"
      ]
     },
     "metadata": {},
     "output_type": "display_data"
    }
   ],
   "source": [
    "sns.scatterplot(x='step',y='nparticles',data=df, s=100)\n",
    "plt.ylabel(r'$N_{particles}$')\n",
    "plt.xlabel('step')\n",
    "plt.show()"
   ]
  },
  {
   "cell_type": "code",
   "execution_count": 16,
   "metadata": {},
   "outputs": [
    {
     "name": "stdout",
     "output_type": "stream",
     "text": [
      "Max K = 4.05 at step 160\n",
      "ProtoModel (XZ1,Xt): K = 4.05, Z = 2.51\n"
     ]
    }
   ],
   "source": [
    "print('Max K = %1.2f at step %i' %(Kvalues[np.argmax(Kvalues)],np.argmax(Kvalues)))\n",
    "print(modelList[np.argmax(Kvalues)])"
   ]
  },
  {
   "cell_type": "code",
   "execution_count": 34,
   "metadata": {},
   "outputs": [
    {
     "data": {
      "image/png": "[encoded data removed]",
      "text/plain": [
       "<Figure size 576x360 with 1 Axes>"
      ]
     },
     "metadata": {},
     "output_type": "display_data"
    }
   ],
   "source": [
    "fig = plt.figure(figsize=(8, 5))\n",
    "nsteps = 10\n",
    "\n",
    "pids = sorted(masses.keys(), key = lambda pid: np.sum(np.where(masses[pid][::nsteps] <= 0)))\n",
    "for pid in pids:\n",
    "    if max(masses[pid][::nsteps]) <= 0.0: continue\n",
    "    sns.scatterplot(x='step',y=pid,data=df[::nsteps], size='K', sizes = (150,300),\n",
    "                    label=r'$%s$' %(particleLabels[pid]), legend=False)\n",
    "    m = np.where(masses[pid] > 0, masses[pid],np.nan) #Fix for avoid plotting to negative values\n",
    "    plt.plot(df['step'][::nsteps],m[::nsteps],'-',linewidth=2)\n",
    "\n",
    "plt.ylim(0.,2500.0)\n",
    "plt.xlabel('step', fontsize=23)\n",
    "plt.ylabel('Mass [GeV]', fontsize=23)\n",
    "plt.xticks(df['step'][::2*nsteps])\n",
    "# plt.xlim(-5,198)\n",
    "plt.grid(axis='x') \n",
    "plt.legend(loc=(0.5,0.85),framealpha=1.0,ncol=4,labelspacing=0.05,handlelength=0.1,handletextpad=0.5)\n",
    "# plt.tight_layout()\n",
    "plt.savefig('toyWalk_masses.pdf')\n",
    "plt.show()"
   ]
  },
  {
   "cell_type": "code",
   "execution_count": 18,
   "metadata": {},
   "outputs": [
    {
     "data": {
      "image/png": "[encoded data removed]",
      "text/plain": [
       "<Figure size 864x360 with 1 Axes>"
      ]
     },
     "metadata": {},
     "output_type": "display_data"
    }
   ],
   "source": [
    "fig = plt.figure(figsize=(12, 5))\n",
    "nsteps = 5\n",
    "sns.scatterplot(x='step',y='K',data=df[::nsteps],size='K',legend=False,sizes=(100,250))\n",
    "plt.scatter([steps[np.argmax(Kvalues)]],[Kvalues.max()],marker='o',s=250,c='red')\n",
    "plt.text(x=steps[np.argmax(Kvalues)]+2,y=0.95*Kvalues.max(),s=r'($K_{max}$)',c='red')\n",
    "plt.xlabel('step')\n",
    "plt.ylabel('K')\n",
    "plt.xticks(df['step'][::nsteps])\n",
    "# plt.xlim(170,200)\n",
    "plt.grid(axis='x') \n",
    "plt.tight_layout()\n",
    "plt.savefig('toyWalk_Kvalues.pdf')\n",
    "plt.show()"
   ]
  },
  {
   "cell_type": "code",
   "execution_count": 41,
   "metadata": {},
   "outputs": [
    {
     "name": "stdout",
     "output_type": "stream",
     "text": [
      "ProtoModel (XZ1,Xnumu,Xt): K = -2.68, Z = 0.76 6\n",
      "ProtoModel (XZ1,Xt): K = -1.68, Z = 0.76 7\n",
      "ProtoModel (XZ1,Xt,Xb): K = -2.95, Z = 0.76 10\n",
      "ProtoModel (XZ1,Xt): K = 3.62, Z = 2.42 11\n",
      "ProtoModel (XZ1,Xt): K = 3.62, Z = 2.42 12\n",
      "ProtoModel (XZ1,Xt,Xmu): K = 2.37, Z = 2.42 13\n",
      "ProtoModel (XZ1,Xt): K = 3.62, Z = 2.42 14\n",
      "ProtoModel (XZ1,Xt,Xtau): K = 2.37, Z = 2.42 15\n",
      "ProtoModel (XZ1,Xt): K = -1.61, Z = 0.80 16\n",
      "ProtoModel (XZ1,Xt,Xnutau): K = 2.62, Z = 2.42 17\n",
      "ProtoModel (XZ1,Xt,Xg): K = -4.46, Z = 0.74 18\n",
      "ProtoModel (XZ1,Xt): K = 3.62, Z = 2.42 19\n"
     ]
    }
   ],
   "source": [
    "for p in modelList[0:20]:\n",
    "    if not p.K: continue\n",
    "#     if len(p.unFrozenParticles()) != 2: continue\n",
    "    print(p,p.step)"
   ]
  },
  {
   "cell_type": "code",
   "execution_count": 38,
   "metadata": {},
   "outputs": [
    {
     "name": "stdout",
     "output_type": "stream",
     "text": [
      "ProtoModel (XZ1,Xt): K = 1.72, Z = 1.99\n",
      "ProtoModel (XZ1,Xt): K = 4.05, Z = 2.51\n",
      "ProtoModel (XZ1,Xt,Xtau): K = 2.80, Z = 2.51\n"
     ]
    }
   ],
   "source": [
    "printSteps = [144,160,164]\n",
    "muvals = np.linspace(-10,10,500)\n",
    "llhDictList = []\n",
    "for stp in printSteps:\n",
    "    protomodel = [p for p in modelList if p.step == stp][0]\n",
    "    print(protomodel)\n",
    "    llhDict = getLikelihoods(protomodel,muvals)\n",
    "    llhDictList.append(llhDict)"
   ]
  },
  {
   "cell_type": "code",
   "execution_count": 39,
   "metadata": {},
   "outputs": [
    {
     "data": {
      "image/png": "[encoded data removed]",
      "text/plain": [
       "<Figure size 1080x324 with 3 Axes>"
      ]
     },
     "metadata": {},
     "output_type": "display_data"
    }
   ],
   "source": [
    "f, axarr = plt.subplots(int(len(printSteps)/3), 3,figsize=(15, 4.5),sharey=True)\n",
    "irow, icolumn = 0,0\n",
    "for i,stp in enumerate(printSteps):\n",
    "    ax = axarr[icolumn]\n",
    "    protomodel = [p for p in modelList if p.step == stp][0]\n",
    "    llhDict = llhDictList[i]\n",
    "    for key,val in llhDict.items():\n",
    "        if key == 'SM values': continue\n",
    "        if key == 'Critic': continue\n",
    "        if key == 'Combined': ls = '-'\n",
    "        else: ls = '--'\n",
    "        ax.plot(muvals,val/llhDict['SM values'][key],label=key.split('-')[0],linestyle=ls,linewidth=3)\n",
    "    \n",
    "    ax.axvline(x=protomodel.mumax,ymax=0.95,c='red',linestyle='-.',label=r'$\\mathdefault{\\mu_{max}}$',\n",
    "                   linewidth=2.5)\n",
    "    tit = r'$'\n",
    "    tit += '\\mathdefault{K = %1.2f}$ (step %i)' %(protomodel.K,protomodel.step)\n",
    "    ax.set_title(tit,fontsize=25)\n",
    "    ax.set_xticks(np.linspace(0,5,6))\n",
    "    icolumn += 1\n",
    "    ax.set_xlabel(r'$\\mathdefault{\\mu}$',fontsize=30)\n",
    "    ax.xaxis.set_tick_params(labelsize=25)\n",
    "    ax.yaxis.set_tick_params(labelsize=25)\n",
    "    if icolumn == 1:\n",
    "        ax.set_ylabel(r'$\\mathdefault{\\mathrm{L}_{\\mathrm{BSM}}/\\mathrm{L}_{\\mathrm{SM}}}$',fontsize=30)\n",
    "        ax.legend(loc='upper left',framealpha=1,fontsize=20,labelspacing=0.2)\n",
    "    else:\n",
    "        ax.set_yticks([])\n",
    "    ax.set_xlim(0,3.5)\n",
    "    ax.set_ylim(0,50)\n",
    "plt.tight_layout()\n",
    "plt.subplots_adjust(wspace = 0.02)\n",
    "plt.savefig('toyWalk_likelihoods.pdf')\n",
    "plt.show()"
   ]
  },
  {
   "cell_type": "code",
   "execution_count": 28,
   "metadata": {},
   "outputs": [
    {
     "name": "stdout",
     "output_type": "stream",
     "text": [
      "ProtoModel (XZ1,Xt): K = 1.72, Z = 1.99\n",
      "{1000022: 575.4522830092981, 1000006: 797.1894410729994}\n"
     ]
    }
   ],
   "source": [
    "protomodel = [p for p in modelList if p.step == 144][0]\n",
    "print(protomodel)\n",
    "print(protomodel.masses)"
   ]
  },
  {
   "cell_type": "code",
   "execution_count": 29,
   "metadata": {},
   "outputs": [
    {
     "name": "stdout",
     "output_type": "stream",
     "text": [
      "ProtoModel (XZ1,Xt): K = 4.05, Z = 2.51\n",
      "{1000022: 487.2210492446602, 1000006: 797.1894410729994}\n"
     ]
    }
   ],
   "source": [
    "protomodel = [p for p in modelList if p.step == 160][0]\n",
    "print(protomodel)\n",
    "print(protomodel.masses)"
   ]
  },
  {
   "cell_type": "code",
   "execution_count": 37,
   "metadata": {},
   "outputs": [
    {
     "name": "stdout",
     "output_type": "stream",
     "text": [
      "ProtoModel (XZ1,Xt,Xtau): K = 2.80, Z = 2.51\n",
      "{1000022: 487.2210492446602, 1000006: 797.1894410729994, 1000015: 867.3573721573694}\n"
     ]
    }
   ],
   "source": [
    "protomodel = [p for p in modelList if p.step == 164][0]\n",
    "print(protomodel)\n",
    "print(protomodel.masses)"
   ]
  },
  {
   "cell_type": "code",
   "execution_count": 31,
   "metadata": {},
   "outputs": [
    {
     "name": "stdout",
     "output_type": "stream",
     "text": [
      "ProtoModel (XZ1,Xt): K = 4.05, Z = 2.51\n",
      "0.33794630981505386 ATLAS-SUSY-2016-16: bWN,bffN,tN_diag_high,tN_diag_low,tN_diag_med,tN_high,tN_med(7):T2ttoff,T2bbffff,T2tt(3)\n",
      "0.27733324341739524 CMS-SUS-16-050:(0):T1tttt,T1ttttoff,T2tt,T2ttoff,T5tctc,T5tttt(6)\n",
      "1.2883494307249348 CMS-SUS-19-006:(0):T1,T1bbbb,T1tttt,T1ttttoff,T2,T2bb,T2tt,T2ttoff(8)\n"
     ]
    }
   ],
   "source": [
    "protomodel = [p for p in modelList if p.step == 160][0]\n",
    "print(protomodel)\n",
    "# print(protomodel.masses)\n",
    "for tp in protomodel.tpList: print(tp[0],tp[2].expResult)"
   ]
  },
  {
   "cell_type": "code",
   "execution_count": null,
   "metadata": {},
   "outputs": [],
   "source": []
  }
 ],
 "metadata": {
  "kernelspec": {
   "display_name": "Python 3",
   "language": "python",
   "name": "python3"
  },
  "language_info": {
   "codemirror_mode": {
    "name": "ipython",
    "version": 3
   },
   "file_extension": ".py",
   "mimetype": "text/x-python",
   "name": "python",
   "nbconvert_exporter": "python",
   "pygments_lexer": "ipython3",
   "version": "3.8.2"
  }
 },
 "nbformat": 4,
 "nbformat_minor": 4
}

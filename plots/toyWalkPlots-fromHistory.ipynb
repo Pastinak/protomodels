{
 "cells": [
  {
   "cell_type": "code",
   "execution_count": 1,
   "metadata": {},
   "outputs": [],
   "source": [
    "import sys,os,copy, pickle, glob\n",
    "import numpy as np\n",
    "sys.path.append(os.path.abspath('../smodels'))\n",
    "sys.path.append(os.path.abspath('../'))\n",
    "from builder.protomodel import ProtoModel\n",
    "from builder.manipulator import Manipulator\n",
    "from tester.predictor import Predictor\n",
    "from tester.combiner import Combiner\n",
    "from smodels.experiment.databaseObj import Database\n",
    "from smodels.tools import runtime\n",
    "runtime._experimental = True\n",
    "import matplotlib.pyplot as plt\n",
    "import seaborn as sns\n",
    "from names import particleLabels\n",
    "from sparticleNames import SParticleNames\n",
    "import pandas as pd\n",
    "# sns.set() #Set style\n",
    "# sns.set_style('ticks')\n",
    "sns.set_style('ticks',{'font.family':'Times New Roman', 'font.serif':'Times New Roman'})\n",
    "sns.set_context('paper', font_scale=2.0)\n",
    "# sns.set_palette(sns.color_palette(\"Paired\"))\n",
    "sns.set_palette(sns.color_palette(\"deep\"))\n"
   ]
  },
  {
   "cell_type": "code",
   "execution_count": 2,
   "metadata": {},
   "outputs": [],
   "source": [
    "#Set colors:\n",
    "namer = SParticleNames ( susy = False )\n",
    "#Replace default colors:\n",
    "colorPalette = 'deep' #Set color palette for particles, if None use default\n",
    "colorDict = dict(zip(namer.names.keys(),sns.color_palette(palette=colorPalette,n_colors=len(namer.names))))"
   ]
  },
  {
   "cell_type": "code",
   "execution_count": 3,
   "metadata": {},
   "outputs": [],
   "source": [
    "def getLikelihoods(protomodel,muvals,normalize=True):\n",
    "    \n",
    "    #Sort tpList\n",
    "    critic = sorted(protomodel.tpList, key = lambda tp: tp[0], reverse = True)[0][2]\n",
    "\n",
    "    #Combiner likelihood:\n",
    "    combiner = Combiner(0)\n",
    "    llhComb = np.array([combiner.getCombinedLikelihood(protomodel.bestCombo,mu) for mu in muvals])\n",
    "    llhCombSM = combiner.getCombinedLikelihood(protomodel.bestCombo,0.)\n",
    "    llhDict = {'Combined' : llhComb}\n",
    "    llhDictSM = {'Combined' : llhCombSM}\n",
    "    for tp in protomodel.bestCombo:\n",
    "        llhDict[tp.expResult.globalInfo.id] = np.array([tp.getLikelihood(mu) for mu in muvals])\n",
    "        llhDictSM[tp.expResult.globalInfo.id] = tp.getLikelihood(0.0)\n",
    "\n",
    "    #Critic likelihood:\n",
    "    if critic.getLikelihood(1.0) is not None:\n",
    "        llhDictSM['Critic'] = critic.getLikelihood(0.0)\n",
    "        llhDict['Critic'] = np.array([critic.getLikelihood(mu) for mu in muvals])\n",
    "    else:\n",
    "        llhDict['Critic'] = None\n",
    "        llhDictSM['Critic'] = None\n",
    "    llhDict['SM values'] = llhDictSM\n",
    "    \n",
    "    #Compute normalizations:\n",
    "    if normalize:\n",
    "        for key,llhd in llhDict.items():\n",
    "            if key != 'SM values':\n",
    "                norm = llhd.sum()\n",
    "                llhDict[key] = llhd/norm\n",
    "                llhDict['SM values'][key] *= 1/norm\n",
    "    \n",
    "    \n",
    "    return llhDict\n",
    "\n",
    "def getPredictions(protomodel,dbpath):\n",
    "    \n",
    "    #Compute predictions:\n",
    "    pred = Predictor(walkerid=0,dbpath=dbpath)\n",
    "    res = pred.predict(protomodel)"
   ]
  },
  {
   "cell_type": "code",
   "execution_count": 4,
   "metadata": {},
   "outputs": [
    {
     "name": "stderr",
     "output_type": "stream",
     "text": [
      "WARNING in xsecComputer.addHigherOrders() in 121: No NLO or NLL cross sections available.\n",
      "WARNING in xsecComputer.addHigherOrders() in 121: No NLO or NLL cross sections available.\n"
     ]
    },
    {
     "name": "stdout",
     "output_type": "stream",
     "text": [
      "[combine:0] selected predictions down via SRs from 0 to 0.\n",
      "[combine:0] sorting out subsets, reduced 0 -> 0 combinations.\n"
     ]
    },
    {
     "name": "stderr",
     "output_type": "stream",
     "text": [
      "WARNING in xsecComputer.addHigherOrders() in 121: No NLO or NLL cross sections available.\n",
      "WARNING in xsecComputer.addHigherOrders() in 121: No NLO or NLL cross sections available.\n"
     ]
    },
    {
     "name": "stdout",
     "output_type": "stream",
     "text": [
      "[combine:0] selected predictions down via SRs from 0 to 0.\n",
      "[combine:0] sorting out subsets, reduced 0 -> 0 combinations.\n",
      "[combine:0] selected predictions down via SRs from 2 to 1.\n",
      "[combine:0] sorting out subsets, reduced 0 -> 0 combinations.\n",
      "[combine:0] selected predictions down via SRs from 0 to 0.\n",
      "[combine:0] sorting out subsets, reduced 0 -> 0 combinations.\n"
     ]
    },
    {
     "name": "stderr",
     "output_type": "stream",
     "text": [
      "WARNING in xsecComputer.addHigherOrders() in 121: No NLO or NLL cross sections available.\n",
      "WARNING in xsecComputer.addHigherOrders() in 121: No NLO or NLL cross sections available.\n"
     ]
    },
    {
     "name": "stdout",
     "output_type": "stream",
     "text": [
      "[combine:0] selected predictions down via SRs from 0 to 0.\n",
      "[combine:0] sorting out subsets, reduced 0 -> 0 combinations.\n"
     ]
    },
    {
     "name": "stderr",
     "output_type": "stream",
     "text": [
      "WARNING in xsecComputer.addHigherOrders() in 121: No NLO or NLL cross sections available.\n",
      "WARNING in xsecComputer.addHigherOrders() in 121: No NLO or NLL cross sections available.\n"
     ]
    },
    {
     "name": "stdout",
     "output_type": "stream",
     "text": [
      "[combine:0] selected predictions down via SRs from 0 to 0.\n",
      "[combine:0] sorting out subsets, reduced 0 -> 0 combinations.\n",
      "[combine:0] selected predictions down via SRs from 6 to 3.\n",
      "[combine:0] sorting out subsets, reduced 2 -> 2 combinations.\n",
      "[combine:0] selected predictions down via SRs from 6 to 3.\n",
      "[combine:0] sorting out subsets, reduced 2 -> 2 combinations.\n"
     ]
    },
    {
     "name": "stderr",
     "output_type": "stream",
     "text": [
      "WARNING in xsecComputer.addHigherOrders() in 121: No NLO or NLL cross sections available.\n",
      "WARNING in xsecComputer.addHigherOrders() in 121: No NLO or NLL cross sections available.\n"
     ]
    },
    {
     "name": "stdout",
     "output_type": "stream",
     "text": [
      "[combine:0] selected predictions down via SRs from 0 to 0.\n",
      "[combine:0] sorting out subsets, reduced 0 -> 0 combinations.\n",
      "[combine:0] selected predictions down via SRs from 4 to 2.\n",
      "[combine:0] sorting out subsets, reduced 0 -> 0 combinations.\n",
      "[combine:0] selected predictions down via SRs from 6 to 3.\n",
      "[combine:0] sorting out subsets, reduced 2 -> 2 combinations.\n",
      "[combine:0] selected predictions down via SRs from 6 to 3.\n",
      "[combine:0] sorting out subsets, reduced 2 -> 2 combinations.\n",
      "[combine:0] selected predictions down via SRs from 6 to 3.\n",
      "[combine:0] sorting out subsets, reduced 2 -> 2 combinations.\n",
      "[combine:0] selected predictions down via SRs from 12 to 3.\n",
      "[combine:0] sorting out subsets, reduced 2 -> 2 combinations.\n",
      "[combine:0] selected predictions down via SRs from 8 to 3.\n",
      "[combine:0] sorting out subsets, reduced 2 -> 2 combinations.\n",
      "[combine:0] selected predictions down via SRs from 6 to 3.\n",
      "[combine:0] sorting out subsets, reduced 2 -> 2 combinations.\n",
      "[combine:0] selected predictions down via SRs from 6 to 3.\n",
      "[combine:0] sorting out subsets, reduced 2 -> 2 combinations.\n"
     ]
    },
    {
     "name": "stderr",
     "output_type": "stream",
     "text": [
      "WARNING in xsecComputer.addHigherOrders() in 121: No NLO or NLL cross sections available.\n",
      "WARNING in xsecComputer.addHigherOrders() in 121: No NLO or NLL cross sections available.\n"
     ]
    },
    {
     "name": "stdout",
     "output_type": "stream",
     "text": [
      "[combine:0] selected predictions down via SRs from 0 to 0.\n",
      "[combine:0] sorting out subsets, reduced 0 -> 0 combinations.\n"
     ]
    },
    {
     "name": "stderr",
     "output_type": "stream",
     "text": [
      "WARNING in xsecComputer.addHigherOrders() in 121: No NLO or NLL cross sections available.\n",
      "WARNING in xsecComputer.addHigherOrders() in 121: No NLO or NLL cross sections available.\n"
     ]
    },
    {
     "name": "stdout",
     "output_type": "stream",
     "text": [
      "[combine:0] selected predictions down via SRs from 0 to 0.\n",
      "[combine:0] sorting out subsets, reduced 0 -> 0 combinations.\n",
      "[combine:0] selected predictions down via SRs from 6 to 3.\n",
      "[combine:0] sorting out subsets, reduced 2 -> 2 combinations.\n"
     ]
    },
    {
     "name": "stderr",
     "output_type": "stream",
     "text": [
      "WARNING in xsecComputer.addHigherOrders() in 121: No NLO or NLL cross sections available.\n",
      "WARNING in xsecComputer.addHigherOrders() in 121: No NLO or NLL cross sections available.\n"
     ]
    },
    {
     "name": "stdout",
     "output_type": "stream",
     "text": [
      "[combine:0] selected predictions down via SRs from 0 to 0.\n",
      "[combine:0] sorting out subsets, reduced 0 -> 0 combinations.\n"
     ]
    },
    {
     "name": "stderr",
     "output_type": "stream",
     "text": [
      "WARNING in xsecComputer.addHigherOrders() in 121: No NLO or NLL cross sections available.\n",
      "WARNING in xsecComputer.addHigherOrders() in 121: No NLO or NLL cross sections available.\n"
     ]
    },
    {
     "name": "stdout",
     "output_type": "stream",
     "text": [
      "[combine:0] selected predictions down via SRs from 0 to 0.\n",
      "[combine:0] sorting out subsets, reduced 0 -> 0 combinations.\n",
      "[combine:0] selected predictions down via SRs from 6 to 3.\n",
      "[combine:0] sorting out subsets, reduced 2 -> 2 combinations.\n",
      "[combine:0] selected predictions down via SRs from 6 to 3.\n",
      "[combine:0] sorting out subsets, reduced 2 -> 2 combinations.\n",
      "[combine:0] selected predictions down via SRs from 6 to 3.\n",
      "[combine:0] sorting out subsets, reduced 2 -> 2 combinations.\n",
      "[combine:0] selected predictions down via SRs from 8 to 3.\n",
      "[combine:0] sorting out subsets, reduced 2 -> 2 combinations.\n",
      "[combine:0] selected predictions down via SRs from 6 to 3.\n",
      "[combine:0] sorting out subsets, reduced 2 -> 2 combinations.\n",
      "[combine:0] selected predictions down via SRs from 6 to 3.\n",
      "[combine:0] sorting out subsets, reduced 2 -> 2 combinations.\n",
      "[combine:0] selected predictions down via SRs from 6 to 3.\n",
      "[combine:0] sorting out subsets, reduced 2 -> 2 combinations.\n"
     ]
    },
    {
     "name": "stderr",
     "output_type": "stream",
     "text": [
      "WARNING in xsecComputer.addHigherOrders() in 121: No NLO or NLL cross sections available.\n",
      "WARNING in xsecComputer.addHigherOrders() in 121: No NLO or NLL cross sections available.\n"
     ]
    },
    {
     "name": "stdout",
     "output_type": "stream",
     "text": [
      "[combine:0] selected predictions down via SRs from 0 to 0.\n",
      "[combine:0] sorting out subsets, reduced 0 -> 0 combinations.\n",
      "[combine:0] selected predictions down via SRs from 6 to 3.\n",
      "[combine:0] sorting out subsets, reduced 2 -> 2 combinations.\n",
      "[combine:0] selected predictions down via SRs from 6 to 3.\n",
      "[combine:0] sorting out subsets, reduced 2 -> 2 combinations.\n",
      "[combine:0] selected predictions down via SRs from 6 to 3.\n",
      "[combine:0] sorting out subsets, reduced 2 -> 2 combinations.\n",
      "[combine:0] selected predictions down via SRs from 6 to 3.\n",
      "[combine:0] sorting out subsets, reduced 2 -> 2 combinations.\n",
      "[combine:0] selected predictions down via SRs from 6 to 3.\n",
      "[combine:0] sorting out subsets, reduced 2 -> 2 combinations.\n",
      "[combine:0] selected predictions down via SRs from 10 to 3.\n",
      "[combine:0] sorting out subsets, reduced 2 -> 2 combinations.\n",
      "[combine:0] selected predictions down via SRs from 6 to 3.\n",
      "[combine:0] sorting out subsets, reduced 2 -> 2 combinations.\n",
      "[combine:0] selected predictions down via SRs from 6 to 3.\n",
      "[combine:0] sorting out subsets, reduced 2 -> 2 combinations.\n",
      "[combine:0] selected predictions down via SRs from 16 to 3.\n",
      "[combine:0] sorting out subsets, reduced 2 -> 2 combinations.\n"
     ]
    },
    {
     "name": "stderr",
     "output_type": "stream",
     "text": [
      "WARNING in xsecComputer.addHigherOrders() in 121: No NLO or NLL cross sections available.\n",
      "WARNING in xsecComputer.addHigherOrders() in 121: No NLO or NLL cross sections available.\n"
     ]
    },
    {
     "name": "stdout",
     "output_type": "stream",
     "text": [
      "[combine:0] selected predictions down via SRs from 0 to 0.\n",
      "[combine:0] sorting out subsets, reduced 0 -> 0 combinations.\n",
      "[combine:0] selected predictions down via SRs from 6 to 3.\n",
      "[combine:0] sorting out subsets, reduced 2 -> 2 combinations.\n"
     ]
    },
    {
     "name": "stderr",
     "output_type": "stream",
     "text": [
      "WARNING in xsecComputer.addHigherOrders() in 121: No NLO or NLL cross sections available.\n",
      "WARNING in xsecComputer.addHigherOrders() in 121: No NLO or NLL cross sections available.\n"
     ]
    },
    {
     "name": "stdout",
     "output_type": "stream",
     "text": [
      "[combine:0] selected predictions down via SRs from 0 to 0.\n",
      "[combine:0] sorting out subsets, reduced 0 -> 0 combinations.\n"
     ]
    },
    {
     "name": "stderr",
     "output_type": "stream",
     "text": [
      "WARNING in xsecComputer.addHigherOrders() in 121: No NLO or NLL cross sections available.\n",
      "WARNING in xsecComputer.addHigherOrders() in 121: No NLO or NLL cross sections available.\n"
     ]
    },
    {
     "name": "stdout",
     "output_type": "stream",
     "text": [
      "[combine:0] selected predictions down via SRs from 0 to 0.\n",
      "[combine:0] sorting out subsets, reduced 0 -> 0 combinations.\n",
      "[combine:0] selected predictions down via SRs from 6 to 3.\n",
      "[combine:0] sorting out subsets, reduced 2 -> 2 combinations.\n",
      "[combine:0] selected predictions down via SRs from 6 to 3.\n",
      "[combine:0] sorting out subsets, reduced 2 -> 2 combinations.\n",
      "[combine:0] selected predictions down via SRs from 6 to 3.\n",
      "[combine:0] sorting out subsets, reduced 2 -> 2 combinations.\n",
      "[combine:0] selected predictions down via SRs from 6 to 3.\n",
      "[combine:0] sorting out subsets, reduced 2 -> 2 combinations.\n",
      "[combine:0] selected predictions down via SRs from 8 to 3.\n",
      "[combine:0] sorting out subsets, reduced 2 -> 2 combinations.\n",
      "[combine:0] selected predictions down via SRs from 6 to 3.\n",
      "[combine:0] sorting out subsets, reduced 2 -> 2 combinations.\n",
      "[combine:0] selected predictions down via SRs from 6 to 3.\n",
      "[combine:0] sorting out subsets, reduced 2 -> 2 combinations.\n"
     ]
    },
    {
     "name": "stderr",
     "output_type": "stream",
     "text": [
      "WARNING in xsecComputer.addHigherOrders() in 121: No NLO or NLL cross sections available.\n",
      "WARNING in xsecComputer.addHigherOrders() in 121: No NLO or NLL cross sections available.\n"
     ]
    },
    {
     "name": "stdout",
     "output_type": "stream",
     "text": [
      "[combine:0] selected predictions down via SRs from 0 to 0.\n",
      "[combine:0] sorting out subsets, reduced 0 -> 0 combinations.\n",
      "[combine:0] selected predictions down via SRs from 6 to 3.\n",
      "[combine:0] sorting out subsets, reduced 2 -> 2 combinations.\n",
      "[combine:0] selected predictions down via SRs from 8 to 3.\n",
      "[combine:0] sorting out subsets, reduced 2 -> 2 combinations.\n",
      "[combine:0] selected predictions down via SRs from 6 to 3.\n",
      "[combine:0] sorting out subsets, reduced 2 -> 2 combinations.\n",
      "[combine:0] selected predictions down via SRs from 6 to 3.\n",
      "[combine:0] sorting out subsets, reduced 2 -> 2 combinations.\n",
      "[combine:0] selected predictions down via SRs from 8 to 3.\n",
      "[combine:0] sorting out subsets, reduced 2 -> 2 combinations.\n",
      "[combine:0] selected predictions down via SRs from 6 to 3.\n",
      "[combine:0] sorting out subsets, reduced 2 -> 2 combinations.\n",
      "[combine:0] selected predictions down via SRs from 6 to 3.\n",
      "[combine:0] sorting out subsets, reduced 2 -> 2 combinations.\n",
      "[combine:0] selected predictions down via SRs from 2 to 1.\n",
      "[combine:0] sorting out subsets, reduced 0 -> 0 combinations.\n"
     ]
    },
    {
     "name": "stderr",
     "output_type": "stream",
     "text": [
      "WARNING in xsecComputer.addHigherOrders() in 121: No NLO or NLL cross sections available.\n",
      "WARNING in xsecComputer.addHigherOrders() in 121: No NLO or NLL cross sections available.\n"
     ]
    },
    {
     "name": "stdout",
     "output_type": "stream",
     "text": [
      "[combine:0] selected predictions down via SRs from 0 to 0.\n",
      "[combine:0] sorting out subsets, reduced 0 -> 0 combinations.\n",
      "[combine:0] selected predictions down via SRs from 6 to 3.\n",
      "[combine:0] sorting out subsets, reduced 2 -> 2 combinations.\n",
      "[combine:0] selected predictions down via SRs from 8 to 2.\n",
      "[combine:0] sorting out subsets, reduced 0 -> 0 combinations.\n",
      "[combine:0] selected predictions down via SRs from 0 to 0.\n",
      "[combine:0] sorting out subsets, reduced 0 -> 0 combinations.\n",
      "[combine:0] selected predictions down via SRs from 6 to 3.\n",
      "[combine:0] sorting out subsets, reduced 2 -> 2 combinations.\n",
      "[combine:0] selected predictions down via SRs from 6 to 3.\n",
      "[combine:0] sorting out subsets, reduced 2 -> 2 combinations.\n",
      "[combine:0] selected predictions down via SRs from 6 to 3.\n",
      "[combine:0] sorting out subsets, reduced 2 -> 2 combinations.\n",
      "[combine:0] selected predictions down via SRs from 6 to 3.\n",
      "[combine:0] sorting out subsets, reduced 2 -> 2 combinations.\n",
      "[combine:0] selected predictions down via SRs from 6 to 3.\n",
      "[combine:0] sorting out subsets, reduced 2 -> 2 combinations.\n",
      "[combine:0] selected predictions down via SRs from 6 to 3.\n",
      "[combine:0] sorting out subsets, reduced 2 -> 2 combinations.\n",
      "[combine:0] selected predictions down via SRs from 6 to 3.\n",
      "[combine:0] sorting out subsets, reduced 2 -> 2 combinations.\n",
      "[combine:0] selected predictions down via SRs from 6 to 3.\n",
      "[combine:0] sorting out subsets, reduced 2 -> 2 combinations.\n",
      "[combine:0] selected predictions down via SRs from 6 to 3.\n",
      "[combine:0] sorting out subsets, reduced 2 -> 2 combinations.\n",
      "[combine:0] selected predictions down via SRs from 6 to 3.\n",
      "[combine:0] sorting out subsets, reduced 2 -> 2 combinations.\n",
      "[combine:0] selected predictions down via SRs from 6 to 3.\n",
      "[combine:0] sorting out subsets, reduced 2 -> 2 combinations.\n",
      "[combine:0] selected predictions down via SRs from 6 to 3.\n",
      "[combine:0] sorting out subsets, reduced 2 -> 2 combinations.\n",
      "[combine:0] selected predictions down via SRs from 6 to 3.\n",
      "[combine:0] sorting out subsets, reduced 2 -> 2 combinations.\n",
      "[combine:0] selected predictions down via SRs from 12 to 3.\n",
      "[combine:0] sorting out subsets, reduced 2 -> 2 combinations.\n",
      "[combine:0] selected predictions down via SRs from 12 to 3.\n",
      "[combine:0] sorting out subsets, reduced 2 -> 2 combinations.\n",
      "[combine:0] selected predictions down via SRs from 6 to 3.\n",
      "[combine:0] sorting out subsets, reduced 2 -> 2 combinations.\n",
      "[combine:0] selected predictions down via SRs from 8 to 3.\n",
      "[combine:0] sorting out subsets, reduced 2 -> 2 combinations.\n",
      "[combine:0] selected predictions down via SRs from 14 to 3.\n",
      "[combine:0] sorting out subsets, reduced 2 -> 2 combinations.\n",
      "[combine:0] selected predictions down via SRs from 14 to 3.\n",
      "[combine:0] sorting out subsets, reduced 2 -> 2 combinations.\n",
      "ProtoModel (XZ1,Xt,Xt2,Xd): K = 2.53, Z = 2.72 80 kold= 2.7550565700943332 knew= 2.530056569019325\n"
     ]
    }
   ],
   "source": [
    "modelList = []\n",
    "m = Manipulator(\"\")\n",
    "with open('../toyWalk/results/history0.list') as f:\n",
    "    data = f.read()\n",
    "    #Fix history format\n",
    "    data = data[data.find('['):data.rfind('#')] #Remove comment line\n",
    "    data = data.replace('\\n','')\n",
    "    if data[-1] == ',':\n",
    "        data = data[:-1] + ']'\n",
    "        \n",
    "#Get list of dictionaries and restore protomodels\n",
    "pList = eval(data)\n",
    "for D in pList:\n",
    "    protomodel = ProtoModel(dbversion='toy-database')\n",
    "    protomodel.templateSLHA = '../builder/templates/template1g.slha'\n",
    "    #Set attributes to dictionary values:\n",
    "    for k,v in D[\"masses\"].items():\n",
    "        protomodel.masses[k]=v\n",
    "    for k,v in D[\"ssmultipliers\"].items():\n",
    "        protomodel.ssmultipliers[k]=v\n",
    "    for mpid,decays in D[\"decays\"].items():        \n",
    "        if not mpid in protomodel.decays:        \n",
    "            protomodel.decays[mpid]={}\n",
    "        for dpid,v in decays.items():\n",
    "            protomodel.decays[mpid][dpid]=v\n",
    "    if \"step\" in D: ## keep track of number of steps\n",
    "        protomodel.step = D[\"step\"]\n",
    "    if \"Z\" in D:\n",
    "        protomodel.Z = D[\"Z\"]\n",
    "    if \"K\" in D:\n",
    "        protomodel.K = D[\"K\"]\n",
    "    modelList.append(protomodel)        \n",
    "\n",
    "    #Re-compute predictions    \n",
    "for protomodel in modelList:\n",
    "    kold = protomodel.K\n",
    "    getPredictions(protomodel,'../toyWalk/toy-database')\n",
    "    protomodel.step -= 1 #Set starting of step counter at zero instead of 1\n",
    "    knew = protomodel.K\n",
    "    if kold != knew and abs(kold-knew) > 0.1:\n",
    "        print(protomodel,protomodel.step,'kold=',kold,'knew=',knew)\n",
    "        break\n",
    "    \n",
    "modelList = sorted(modelList, key = lambda p: p.step)        "
   ]
  },
  {
   "cell_type": "code",
   "execution_count": 5,
   "metadata": {},
   "outputs": [
    {
     "name": "stdout",
     "output_type": "stream",
     "text": [
      "ProtoModel (XZ1,Xt): K = 3.49, Z = 2.40 0.9999999987465007 0.9999999987465007\n",
      "(1000022, 1000022) 0.455427149749451\n",
      "(1000006, 1000006) 0.9483370565299271\n",
      "(-1000006, 1000006) 0.5237364296621465\n",
      "(-1000006, -1000006) 0.6696718585417006\n",
      "(1000006, 1000022) 0.5237364296621465\n",
      "(-1000006, 1000022) 0.5237364296621465\n"
     ]
    }
   ],
   "source": [
    "p = modelList[45]\n",
    "print(p,p.muhat,p.mumax)\n",
    "for key,k in p.ssmultipliers.items():\n",
    "    print(key,k)"
   ]
  },
  {
   "cell_type": "code",
   "execution_count": 6,
   "metadata": {},
   "outputs": [
    {
     "name": "stdout",
     "output_type": "stream",
     "text": [
      "ATLAS-SUSY-2016-16:1.30E+01 [TeV]:2.82E-04 [pb] (-1000006, 1000006) tN_med\n",
      "1.30E+01 [TeV]:2.82E-04 [pb] (-1000006, 1000006)\n",
      "CMS-SUS-16-050:1.30E+01 [TeV]:3.39E-02 [pb] (None, None) None\n",
      "1.30E+01 [TeV]:3.39E-02 [pb] (None, None)\n"
     ]
    }
   ],
   "source": [
    "for tp in p.bestCombo:\n",
    "    print(tp,tp.dataset.dataInfo.dataId)\n",
    "    print(tp.xsection)"
   ]
  },
  {
   "cell_type": "code",
   "execution_count": 7,
   "metadata": {},
   "outputs": [],
   "source": [
    "#Get all particles which appears in all steps:\n",
    "particles = []\n",
    "for p in modelList:\n",
    "    particles += p.unFrozenParticles()\n",
    "particles = list(set(particles))"
   ]
  },
  {
   "cell_type": "code",
   "execution_count": 8,
   "metadata": {},
   "outputs": [],
   "source": [
    "#Build useful dataset:\n",
    "steps = np.array([p.step for p in modelList])\n",
    "nparticles = np.array([len(p.unFrozenParticles()) for p in modelList])\n",
    "Kvalues = np.array([p.K if (p.K and p.K > 0) else 0.0 for p in modelList])\n",
    "Zvalues = np.array([p.Z if (p.Z and p.Z > 0) else 0.0 for p in modelList])\n",
    "masses = dict([[pid,[]] for pid in particles])\n",
    "for p in modelList:\n",
    "    for pid in masses:\n",
    "        if pid in p.masses:\n",
    "            masses[pid].append(p.masses[pid])\n",
    "        else:\n",
    "#             masses[pid].append(np.nan)\n",
    "            masses[pid].append(-100.0)\n",
    "for pid in masses:\n",
    "    masses[pid] = np.array(masses[pid])\n",
    "dataDict = {'step' : steps, 'K' : Kvalues, 'Z' : Zvalues, \n",
    "                   'nparticles' : nparticles}\n",
    "dataDict.update(masses) \n",
    "df = pd.DataFrame(dataDict)"
   ]
  },
  {
   "cell_type": "code",
   "execution_count": 9,
   "metadata": {},
   "outputs": [
    {
     "data": {
      "image/png": "[encoded data removed]",
      "text/plain": [
       "<Figure size 432x288 with 1 Axes>"
      ]
     },
     "metadata": {},
     "output_type": "display_data"
    }
   ],
   "source": [
    "sns.scatterplot(x='step',y='nparticles',data=df, s=100)\n",
    "plt.ylabel(r'$N_{particles}$')\n",
    "plt.xlabel('step')\n",
    "plt.show()"
   ]
  },
  {
   "cell_type": "code",
   "execution_count": 10,
   "metadata": {},
   "outputs": [
    {
     "name": "stdout",
     "output_type": "stream",
     "text": [
      "Max K = 4.50 at step 95\n",
      "ProtoModel (XZ1,Xt): K = 4.50, Z = 2.60\n"
     ]
    }
   ],
   "source": [
    "print('Max K = %1.2f at step %i' %(Kvalues[np.argmax(Kvalues)],np.argmax(Kvalues)))\n",
    "print(modelList[np.argmax(Kvalues)])"
   ]
  },
  {
   "cell_type": "code",
   "execution_count": 11,
   "metadata": {},
   "outputs": [
    {
     "data": {
      "image/png": "[encoded data removed]",
      "text/plain": [
       "<Figure size 720x432 with 1 Axes>"
      ]
     },
     "metadata": {},
     "output_type": "display_data"
    }
   ],
   "source": [
    "fig = plt.figure(figsize=(10, 6))\n",
    "nsteps = 10\n",
    "\n",
    "pids = sorted(masses.keys(), key = lambda pid: np.sum(np.where(masses[pid][::nsteps] <= 0)))\n",
    "for pid in pids:\n",
    "    if max(masses[pid][::nsteps]) <= 0.0: continue\n",
    "    data = df[::nsteps]\n",
    "    sns.scatterplot(x=data['step'],y=data[pid], size=data['K'], sizes = (80,400),\n",
    "                    label=r'$%s$' %(particleLabels[pid]), legend=False)\n",
    "    m = np.where(masses[pid] > 0, masses[pid],np.nan) #Fix for avoid plotting to negative values\n",
    "    plt.plot(df['step'][::nsteps],m[::nsteps],'-',linewidth=2)\n",
    "\n",
    "plt.ylim(0.,2500.0)\n",
    "plt.xlabel('step', fontsize=23)\n",
    "plt.ylabel('Mass [GeV]', fontsize=23)\n",
    "plt.xticks(df['step'][::2*nsteps])\n",
    "# plt.xlim(-5,198)\n",
    "plt.grid(axis='x') \n",
    "plt.legend(loc=(0.8,0.75),framealpha=1.0,ncol=3,labelspacing=0.1,\n",
    "           handlelength=0.4,handletextpad=0.35,markerscale=0.8,columnspacing=1.0)\n",
    "# plt.tight_layout()\n",
    "plt.savefig('toyWalk_masses.pdf')\n",
    "plt.show()"
   ]
  },
  {
   "cell_type": "code",
   "execution_count": 12,
   "metadata": {},
   "outputs": [
    {
     "ename": "SyntaxError",
     "evalue": "invalid syntax (<ipython-input-12-3cdffb2c0c81>, line 7)",
     "output_type": "error",
     "traceback": [
      "\u001b[0;36m  File \u001b[0;32m\"<ipython-input-12-3cdffb2c0c81>\"\u001b[0;36m, line \u001b[0;32m7\u001b[0m\n\u001b[0;31m    plt.ylabel('K')protomodel.templateSLHA = '../builder/templates/template1g.slha'\u001b[0m\n\u001b[0m                   ^\u001b[0m\n\u001b[0;31mSyntaxError\u001b[0m\u001b[0;31m:\u001b[0m invalid syntax\n"
     ]
    }
   ],
   "source": [
    "fig = plt.figure(figsize=(12, 5))\n",
    "nsteps = 5\n",
    "sns.scatterplot(x='step',y='K',data=df[::nsteps],size='K',legend=False,sizes=(100,250))\n",
    "plt.scatter([steps[np.argmax(Kvalues)]],[Kvalues.max()],marker='o',s=250,c='red')\n",
    "plt.text(x=steps[np.argmax(Kvalues)]+2,y=0.95*Kvalues.max(),s=r'($K_{max}$)',c='red')\n",
    "plt.xlabel('step')\n",
    "plt.ylabel('K')protomodel.templateSLHA = '../builder/templates/template1g.slha'\n",
    "plt.xticks(df['step'][::nsteps])\n",
    "# plt.xlim(170,200)\n",
    "plt.grid(axis='x') \n",
    "plt.tight_layout()\n",
    "plt.savefig('toyWalk_Kvalues.pdf')\n",
    "plt.show()"
   ]
  },
  {
   "cell_type": "code",
   "execution_count": null,
   "metadata": {},
   "outputs": [],
   "source": [
    "for p in modelList[160:170]:\n",
    "    if not p.K: continue\n",
    "#     if len(p.unFrozenParticles()) != 2: continue\n",
    "    print(p,p.step)"
   ]
  },
  {
   "cell_type": "code",
   "execution_count": null,
   "metadata": {},
   "outputs": [],
   "source": [
    "printSteps = [161,173,178]\n",
    "muvals = np.linspace(-10,10,500)\n",
    "llhDictList = []\n",
    "for stp in printSteps:\n",
    "    protomodel = [p for p in modelList if p.step == stp][0]\n",
    "    print(protomodel)\n",
    "    llhDict = getLikelihoods(protomodel,muvals)\n",
    "    llhDictList.append(llhDict)"
   ]
  },
  {
   "cell_type": "code",
   "execution_count": null,
   "metadata": {},
   "outputs": [],
   "source": [
    "f, axarr = plt.subplots(int(len(printSteps)/3), 3,figsize=(15, 4.5),sharey=True)\n",
    "irow, icolumn = 0,0\n",
    "for i,stp in enumerate(printSteps):\n",
    "    ax = axarr[icolumn]\n",
    "    protomodel = [p for p in modelList if p.step == stp][0]\n",
    "    llhDict = llhDictList[i]\n",
    "    for key,val in llhDict.items():\n",
    "        if key == 'SM values': continue\n",
    "        if key == 'Critic': continue\n",
    "        if key == 'Combined': ls = '-'\n",
    "        else: ls = '--'\n",
    "        ax.plot(muvals,val/llhDict['SM values'][key],label=key.split('-')[0],linestyle=ls,linewidth=3)\n",
    "    \n",
    "    ax.axvline(x=protomodel.mumax,ymax=0.95,c='red',linestyle='-.',label=r'$\\mathdefault{\\mu_{max}}$',\n",
    "                   linewidth=2.5)\n",
    "    tit = r'$'\n",
    "    tit += '\\mathdefault{K = %1.2f}$ (step %i)' %(protomodel.K,protomodel.step)\n",
    "    ax.set_title(tit,fontsize=25)\n",
    "    ax.set_xticks(np.linspace(0,5,6))\n",
    "    icolumn += 1\n",
    "    ax.set_xlabel(r'$\\mathdefault{\\mu}$',fontsize=30)\n",
    "    ax.xaxis.set_tick_params(labelsize=25)\n",
    "    ax.yaxis.set_tick_params(labelsize=25)\n",
    "    if icolumn == 1:\n",
    "        ax.set_ylabel(r'$\\mathdefault{\\mathrm{L}_{\\mathrm{BSM}}/\\mathrm{L}_{\\mathrm{SM}}}$',fontsize=30)\n",
    "        ax.legend(loc='upper left',framealpha=1,fontsize=20,labelspacing=0.2)\n",
    "    else:\n",
    "        ax.set_yticks([])\n",
    "    ax.set_xlim(0,3.5)\n",
    "    ax.set_ylim(0,50)\n",
    "plt.tight_layout()\n",
    "plt.subplots_adjust(wspace = 0.02)\n",
    "plt.savefig('toyWalk_likelihoods.pdf')\n",
    "plt.show()"
   ]
  },
  {
   "cell_type": "code",
   "execution_count": null,
   "metadata": {},
   "outputs": [],
   "source": [
    "protomodel = [p for p in modelList if p.step == 161][0]\n",
    "print(protomodel)\n",
    "print(protomodel.masses)\n",
    "print(protomodel.ssmultipliers)\n",
    "print(protomodel.muhat)"
   ]
  },
  {
   "cell_type": "code",
   "execution_count": null,
   "metadata": {},
   "outputs": [],
   "source": [
    "protomodel = [p for p in modelList if p.step == 173][0]\n",
    "print(protomodel)\n",
    "print(protomodel.masses)\n",
    "print(protomodel.ssmultipliers)\n",
    "print(protomodel.muhat)"
   ]
  },
  {
   "cell_type": "code",
   "execution_count": null,
   "metadata": {},
   "outputs": [],
   "source": [
    "protomodel = [p for p in modelList if p.step == 178][0]\n",
    "print(protomodel)\n",
    "print(protomodel.masses)\n",
    "print(protomodel.ssmultipliers)\n",
    "print(protomodel.muhat)"
   ]
  },
  {
   "cell_type": "code",
   "execution_count": null,
   "metadata": {},
   "outputs": [],
   "source": []
  },
  {
   "cell_type": "code",
   "execution_count": null,
   "metadata": {},
   "outputs": [],
   "source": []
  }
 ],
 "metadata": {
  "kernelspec": {
   "display_name": "Python 3",
   "language": "python",
   "name": "python3"
  },
  "language_info": {
   "codemirror_mode": {
    "name": "ipython",
    "version": 3
   },
   "file_extension": ".py",
   "mimetype": "text/x-python",
   "name": "python",
   "nbconvert_exporter": "python",
   "pygments_lexer": "ipython3",
   "version": "3.8.5"
  }
 },
 "nbformat": 4,
 "nbformat_minor": 4
}

{
 "cells": [
  {
   "cell_type": "code",
   "execution_count": 1,
   "metadata": {},
   "outputs": [],
   "source": [
    "import sys,os,copy, pickle, glob\n",
    "import numpy as np\n",
    "sys.path.append(os.path.abspath('../smodels'))\n",
    "sys.path.append(os.path.abspath('../'))\n",
    "from builder.protomodel import ProtoModel\n",
    "import matplotlib.pyplot as plt\n",
    "import seaborn as sns\n",
    "from names import particleLabels\n",
    "from sparticleNames import SParticleNames\n",
    "import pandas as pd"
   ]
  },
  {
   "cell_type": "code",
   "execution_count": 2,
   "metadata": {},
   "outputs": [],
   "source": [
    "def fromDict(inputDict):\n",
    "    \n",
    "    p = ProtoModel(walkerid=0)\n",
    "    for key,v in inputDict.items():\n",
    "        setattr(p,key,copy.deepcopy(v))\n",
    "        \n",
    "    return p"
   ]
  },
  {
   "cell_type": "markdown",
   "metadata": {},
   "source": [
    "### General settings"
   ]
  },
  {
   "cell_type": "code",
   "execution_count": 3,
   "metadata": {},
   "outputs": [],
   "source": [
    "sns.set_style('ticks',{'font.family':'Times New Roman', 'font.serif':'Times New Roman'})\n",
    "sns.set_context('paper', font_scale=2.0)\n",
    "sns.set_style(\"whitegrid\")\n",
    "\n",
    "# figratio = (5,4)\n",
    "figratio = (3.5,3.5)\n",
    "lineLength = 0.3 #Line length (fraction of overall figure scale)\n",
    "deltaM = 200.0 #Tick interval in the y-axis (in GeV)\n",
    "lineWidth = 3.0 #Line thickness\n",
    "labelSize = 18 #Font size for labels\n",
    "colorPalette = 'deep' #Set color palette for particles, if None use default\n",
    "\n",
    "drawMassValue = False #Whether to write the mass value next to the particle label\n",
    "drawBRValue = False #Whether to write the branching ratio value next to the decay arrow\n",
    "drawKvalue = True #Whether to write the branching ratio value next to the decay arrow\n",
    "\n",
    "minmass = None #Set to None to be defined from the model\n",
    "maxmass = None #Set to None to be defined from the model\n",
    "\n",
    "#Arrow properties:\n",
    "prop = {'width' : 0.2*lineWidth, 'shrink' : 0.06, 'color' : 'grey', \n",
    "        'headwidth' : 7, 'alpha' : 0.5}\n",
    "\n",
    "# Load model from toy walk:\n",
    "# modelFile = '../toyWalk/results/protomodel_walker0_step178.pcl'\n",
    "# with open(modelFile, 'rb') as ff:\n",
    "#     p = pickle.load(ff)\n",
    "    \n",
    "#or get highest score from full runs:\n",
    "protomodelsDict = {}\n",
    "modelFile = '../data/signal5.dict'\n",
    "with open(modelFile,'r') as f:\n",
    "    pList = eval(f.read())\n",
    "pList = [fromDict(pDict) for pDict in pList[:]]\n",
    "p = sorted(pList, key = lambda p: p.K, reverse=True)[0]"
   ]
  },
  {
   "cell_type": "code",
   "execution_count": 4,
   "metadata": {},
   "outputs": [],
   "source": [
    "#Set colors:\n",
    "namer = SParticleNames ( susy = False )\n",
    "#Replace default colors:\n",
    "if colorPalette:\n",
    "    colorDict = dict(zip(namer.names.keys(),sns.color_palette(palette=colorPalette,n_colors=len(namer.names))))\n",
    "else:\n",
    "    colorDict = dict([[name,namer.rgbColor(name)] for name in namer.names])"
   ]
  },
  {
   "cell_type": "markdown",
   "metadata": {},
   "source": [
    "### Get model info"
   ]
  },
  {
   "cell_type": "code",
   "execution_count": 5,
   "metadata": {},
   "outputs": [],
   "source": [
    "massesDict = dict([[namer.texName(pid),mass] for pid,mass in p.masses.items() if mass<3000. ])\n",
    "sortedNames = np.array(list(massesDict.keys()))\n",
    "sortedNames = sortedNames[np.array(list(massesDict.values())).argsort()].tolist()\n",
    "decaysDict = dict([[namer.texName(pid),decay] for pid,decay in p.decays.items()])\n",
    "\n",
    "if minmass is None:\n",
    "    minmass = min(massesDict.values())\n",
    "if maxmass is None:\n",
    "    maxmass = max(massesDict.values())\n",
    "dm = maxmass - minmass    "
   ]
  },
  {
   "cell_type": "code",
   "execution_count": 6,
   "metadata": {},
   "outputs": [
    {
     "data": {
      "image/png": "[encoded data removed]",
      "text/plain": [
       "<Figure size 252x252 with 1 Axes>"
      ]
     },
     "metadata": {},
     "output_type": "display_data"
    }
   ],
   "source": [
    "fig = plt.figure(figsize=figratio)\n",
    "ax = plt.gca()\n",
    "ax.get_xaxis().set_visible(False)\n",
    "\n",
    "\n",
    "#Compute coordinates of lines and labels:\n",
    "nptc = len(sortedNames)\n",
    "xmin = 0.0\n",
    "xmax = 1.0\n",
    "dx = (xmax-xmin)/(nptc)\n",
    "x0_line = xmin\n",
    "coords = {}\n",
    "iside = 1.0\n",
    "for i,name in enumerate(sortedNames):\n",
    "    mass = massesDict[name]\n",
    "   \n",
    "    xf_line = x0_line + lineLength*(xmax-xmin)\n",
    "    y_line = mass\n",
    "    \n",
    "    x_label = (xf_line + x0_line)/2.\n",
    "    x_label -= (xf_line - x0_line)/3 #Shift the label position to the left\n",
    "    y_label = mass + 0.07*dm\n",
    "    \n",
    "    coords[name] = {'x_label' : x_label, 'y_label' : y_label, \n",
    "                    'x0_line' : x0_line, 'xf_line' : xf_line, 'y_line' : y_line}\n",
    "\n",
    "    if i > 0 or nptc == 2:\n",
    "        x0_line += dx\n",
    "\n",
    "#Center particles lines within plot range:\n",
    "maxx = max([c['xf_line'] for c in coords.values()])\n",
    "dx = (1.0 - maxx)/2.0\n",
    "for name in coords:\n",
    "    for label in coords[name]:\n",
    "        if 'y_' in label: continue\n",
    "        coords[name][label] += dx\n",
    "\n",
    "#Draw lines, labels and decay arrows:\n",
    "for name in sortedNames:\n",
    "    mass = massesDict[name]\n",
    "    col = colorDict[name]\n",
    "    if drawMassValue:\n",
    "        label = r'$\\mathrm{%s}$ (%1.0f GeV)' %(name,mass)\n",
    "    else:\n",
    "        label = r'$\\mathrm{%s}$' %(name)\n",
    "        \n",
    "    #Draw particle name\n",
    "    t = plt.text (coords[name]['x_label'], coords[name]['y_label'], label, \n",
    "              c = col, size=labelSize, ha=\"center\")\n",
    "    \n",
    "    #Draw particle line:\n",
    "    plt.hlines(mass, coords[name]['x0_line'], coords[name]['xf_line'], \n",
    "               colors= col, linewidth=lineWidth)\n",
    "\n",
    "    #Draw decay lines:\n",
    "    col = colorDict[name]\n",
    "    if name in decaysDict and len(decaysDict[name]) > 0:\n",
    "        decays = decaysDict[name]\n",
    "        for dpid in decays:\n",
    "            pid = dpid\n",
    "            if isinstance(dpid,tuple):\n",
    "                pid = [p for p in dpid if p > 10000]\n",
    "                if len(pid) != 1:\n",
    "                    print('Can not handle non-Z2 decays')\n",
    "                    continue\n",
    "                pid = pid[0]\n",
    "            daughterName = namer.texName(pid)\n",
    "            br = decays[dpid]\n",
    "            daughterMass = massesDict[daughterName]\n",
    "\n",
    "            x0_arrow = (coords[name]['xf_line'] + coords[name]['x0_line'])/2.\n",
    "            y0_arrow = coords[name]['y_line']\n",
    "            xf_arrow = (coords[daughterName]['xf_line'] + coords[daughterName]['x0_line'])/2.\n",
    "            yf_arrow = coords[daughterName]['y_line']\n",
    "\n",
    "            plt.annotate(\"\", xy=(xf_arrow,yf_arrow), xytext=(x0_arrow,y0_arrow), arrowprops=prop)\n",
    "            \n",
    "            if drawBRValue:\n",
    "                x_BR = 1.1*(x0_arrow+xf_arrow)/2\n",
    "                y_BR = (y0_arrow+yf_arrow)/2                \n",
    "                plt.annotate(\"%1.0f %%\" %(100*br),xytext=(x_BR,y_BR),\n",
    "                        xy=(x_BR,y_BR),fontsize=0.75*labelSize)\n",
    "\n",
    "if drawKvalue:\n",
    "    plt.text(0.6,0.1,r'K = %1.2f' %p.K,transform=ax.transAxes,fontsize=labelSize)\n",
    "            \n",
    "#Final changes:\n",
    "plt.yticks(deltaM*np.arange(np.floor(minmass/deltaM),np.ceil(maxmass/deltaM)+1))\n",
    "plt.xlim(xmin,xmax)\n",
    "plt.ylim(min(0.99*deltaM*np.floor(minmass/deltaM),0.99*minmass),\n",
    "                 max(1.01*maxmass,1.01*deltaM*np.ceil(maxmass/deltaM)+1))\n",
    "plt.box(on=None)\n",
    "plt.yticks(fontsize=int(0.8*labelSize))\n",
    "plt.ylabel('Mass [GeV]',fontsize=int(labelSize))\n",
    "plt.grid(True,axis='y')\n",
    "\n",
    "plt.tight_layout()\n",
    "plt.savefig(modelFile.replace('.pcl','.pdf').replace('.dict','.pdf'))\n",
    "plt.show()"
   ]
  },
  {
   "cell_type": "code",
   "execution_count": null,
   "metadata": {},
   "outputs": [],
   "source": []
  }
 ],
 "metadata": {
  "kernelspec": {
   "display_name": "Python 3",
   "language": "python",
   "name": "python3"
  },
  "language_info": {
   "codemirror_mode": {
    "name": "ipython",
    "version": 3
   },
   "file_extension": ".py",
   "mimetype": "text/x-python",
   "name": "python",
   "nbconvert_exporter": "python",
   "pygments_lexer": "ipython3",
   "version": "3.8.2"
  }
 },
 "nbformat": 4,
 "nbformat_minor": 4
}

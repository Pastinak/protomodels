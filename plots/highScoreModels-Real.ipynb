{
 "cells": [
  {
   "cell_type": "code",
   "execution_count": 1,
   "metadata": {},
   "outputs": [],
   "source": [
    "import sys,os,copy,glob\n",
    "import numpy as np\n",
    "sys.path.append(os.path.abspath('../smodels'))\n",
    "sys.path.append(os.path.abspath('../'))\n",
    "from builder.protomodel import ProtoModel\n",
    "from builder.manipulator import Manipulator\n",
    "from tester.predictor import Predictor\n",
    "from tester.combiner import Combiner\n",
    "from walker.hiscore import Hiscore\n",
    "from smodels.experiment.databaseObj import Database\n",
    "from smodels.tools import runtime\n",
    "from smodels.tools.physicsUnits import fb\n",
    "runtime._experimental = True\n",
    "import matplotlib.pyplot as plt\n",
    "import seaborn as sns\n",
    "import pandas as pd\n",
    "from names import particleLabels\n",
    "from sparticleNames import SParticleNames\n",
    "# sns.set() #Set style\n",
    "# sns.set_style('ticks')\n",
    "sns.set_style('ticks',{'font.family':'Times New Roman', 'font.serif':'Times New Roman'})\n",
    "sns.set_context('paper', font_scale=2.0)\n",
    "# sns.set_palette(sns.color_palette(\"Paired\"))\n",
    "sns.set_palette(sns.color_palette(\"deep\"))\n",
    "from smodels.tools import smodelsLogging\n",
    "smodelsLogging.setLogLevel('error')"
   ]
  },
  {
   "cell_type": "code",
   "execution_count": 2,
   "metadata": {},
   "outputs": [],
   "source": [
    "#Set colors:\n",
    "allPids = [1000022, 1000006, 1000001, 1000021, 1000012, 1000023, \n",
    "            1000013, 2000006, 1000011, 1000005, 1000014, 1000004, 1000015, 1000016, 1000024]\n",
    "namer = SParticleNames ( susy = False )\n",
    "colors = sns.color_palette('deep',n_colors=len(namer.xIDs))\n",
    "\n",
    "#Replace default colors:\n",
    "for pid in sorted(namer.xIDs.keys()):\n",
    "    if not pid in allPids:\n",
    "        allPids.append(pid)\n",
    "colorDict = dict(zip(allPids,colors))\n",
    "colorDict[1000002] = colorDict#             masses[pid].append(np.nan)[1000001]\n",
    "colorDict[1000003] = colorDict[1000001]\n",
    "colorDict[1000004] = colorDict[1000001]"
   ]
  },
  {
   "cell_type": "code",
   "execution_count": 3,
   "metadata": {},
   "outputs": [],
   "source": [
    "def getLikelihoods(protomodel,muvals,normalize=True):\n",
    "    \n",
    "    #Sort tpList\n",
    "    critic = sorted(protomodel.tpList, key = lambda tp: tp[0], reverse = True)[0][2]\n",
    "\n",
    "    #Combiner likelihood:\n",
    "    combiner = Combiner(0)\n",
    "    llhComb = np.array([combiner.getCombinedLikelihood(protomodel.bestCombo,mu) for mu in muvals])\n",
    "    llhCombSM = combiner.getCombinedLikelihood(protomodel.bestCombo,0.)\n",
    "    llhDict = {'Combined' : llhComb}\n",
    "    llhDictSM = {'Combined' : llhCombSM}\n",
    "    for tp in protomodel.bestCombo:\n",
    "        llhDict[tp.expResult.globalInfo.id] = np.array([tp.getLikelihood(mu) for mu in muvals])\n",
    "        llhDictSM[tp.expResult.globalInfo.id] = tp.getLikelihood(0.0)\n",
    "\n",
    "    #Critic likelihood:\n",
    "    if critic.getLikelihood(1.0) is not None:\n",
    "        llhDictSM['Critic'] = critic.getLikelihood(0.0)\n",
    "        llhDict['Critic'] = np.array([critic.getLikelihood(mu) for mu in muvals])\n",
    "    else:\n",
    "        llhDict['Critic'] = None\n",
    "        llhDictSM['Critic'] = None\n",
    "    llhDict['SM values'] = llhDictSM\n",
    "    \n",
    "    #Compute normalizations:\n",
    "    if normalize:\n",
    "        for key,llhd in llhDict.items():\n",
    "            if key != 'SM values':\n",
    "                norm = llhd.sum()\n",
    "                llhDict[key] = llhd/norm\n",
    "                llhDict['SM values'][key] *= 1/norm\n",
    "    \n",
    "    \n",
    "    return llhDict\n"
   ]
  },
  {
   "cell_type": "code",
   "execution_count": 4,
   "metadata": {},
   "outputs": [],
   "source": [
    "def fromDict(inputDict):\n",
    "    \n",
    "    p = ProtoModel(walkerid=0)\n",
    "    for key,v in inputDict.items():\n",
    "        setattr(p,key,copy.deepcopy(v))\n",
    "        \n",
    "    return p"
   ]
  },
  {
   "cell_type": "code",
   "execution_count": 5,
   "metadata": {},
   "outputs": [],
   "source": [
    "#Get highest score from each run:\n",
    "protomodelsDict = {}\n",
    "for ff in glob.glob('../data/real*.dict'):\n",
    "    with open(ff,'r') as f:\n",
    "        pList = eval(f.read())\n",
    "    run = eval(os.path.basename(ff).replace('real','').replace('.dict',''))\n",
    "    pList = [fromDict(pDict) for pDict in pList[:]]\n",
    "    p = sorted(pList, key = lambda p: p.K, reverse=True)[0]\n",
    "    protomodelsDict[run] = p  "
   ]
  },
  {
   "cell_type": "code",
   "execution_count": 6,
   "metadata": {},
   "outputs": [
    {
     "name": "stdout",
     "output_type": "stream",
     "text": [
      "1 ProtoModel (XZ1,Xd,Xt): K = 6.74, Z = 3.21\n",
      "2 ProtoModel (XZ1,Xd,Xt): K = 6.79, Z = 3.22\n",
      "3 ProtoModel (XZ1,Xt,Xc): K = 6.87, Z = 3.23\n",
      "4 ProtoModel (XZ1,Xd,Xt): K = 6.70, Z = 3.20\n",
      "5 ProtoModel (XZ1,Xd,Xt,Xmu): K = 6.76, Z = 3.47\n",
      "6 ProtoModel (XZ1,Xt,Xd): K = 6.77, Z = 3.21\n",
      "7 ProtoModel (XZ1,Xt,Xc): K = 6.58, Z = 3.18\n",
      "8 ProtoModel (XZ1,Xt,Xd): K = 6.79, Z = 3.21\n",
      "9 ProtoModel (XZ1,Xd,Xt): K = 6.90, Z = 3.24\n",
      "10 ProtoModel (XZ1,Xt,Xd): K = 6.73, Z = 3.21\n",
      "K (avg) = 6.76 +- 0.08\n"
     ]
    }
   ],
   "source": [
    "for run in sorted(protomodelsDict.keys()):\n",
    "    print(run,protomodelsDict[run])\n",
    "    \n",
    "Kavg = np.array([p.K for p in protomodelsDict.values()]).mean()\n",
    "Kstd = np.array([p.K for p in protomodelsDict.values()]).std()\n",
    "print('K (avg) = %1.2f +- %1.2f' %(Kavg,Kstd))"
   ]
  },
  {
   "cell_type": "code",
   "execution_count": 7,
   "metadata": {},
   "outputs": [],
   "source": [
    "#Get all particles which appears in all models:\n",
    "particles = []\n",
    "modelList = np.array(list(protomodelsDict.items()))\n",
    "runs = modelList[:,0]\n",
    "modelList = modelList[:,1]\n",
    "for p in modelList:\n",
    "    particles += p.unFrozenParticles()\n",
    "particles = list(set(particles))\n",
    "\n",
    "#Build useful dataset:\n",
    "nparticles = np.array([len(p.unFrozenParticles()) for p in modelList])\n",
    "Kvalues = np.array([p.K if (p.K and p.K > 0) else 0.0 for p in modelList])\n",
    "Zvalues = np.array([p.Z if (p.Z and p.Z > 0) else 0.0 for p in modelList])\n",
    "masses = dict([[pid,[]] for pid in particles])\n",
    "for p in modelList:\n",
    "    for pid in masses:\n",
    "        if pid in p.masses:\n",
    "            masses[pid].append(p.masses[pid])\n",
    "        else:\n",
    "            masses[pid].append(-100.0)\n",
    "for pid in masses:\n",
    "    masses[pid] = np.array(masses[pid])\n",
    "dataDict = {'run' : runs, 'K' : Kvalues,\n",
    "                   'nparticles' : nparticles}\n",
    "dataDict.update(masses) \n",
    "df = pd.DataFrame(dataDict)"
   ]
  },
  {
   "cell_type": "code",
   "execution_count": 8,
   "metadata": {},
   "outputs": [
    {
     "data": {
      "image/png": "[encoded data removed]",
      "text/plain": [
       "<Figure size 720x576 with 2 Axes>"
      ]
     },
     "metadata": {},
     "output_type": "display_data"
    }
   ],
   "source": [
    "f, axarr = plt.subplots(2,sharex=True, gridspec_kw = {'height_ratios':[1, 4]},figsize=(10,8))\n",
    "plt.subplots_adjust(left=0.12, bottom=0.12, right=0.97, top=None, wspace=None, hspace=0)\n",
    "\n",
    "nsteps = 10\n",
    "\n",
    "pids = sorted(list(masses.keys()))\n",
    "\n",
    "axarr[0].scatter(df['run'],df['K'],s=80,c='gray')\n",
    "axarr[0].set_ylabel(r'$K$')\n",
    "axarr[0].set_ylim(6.1,8.2)\n",
    "axarr[0].set_yticks([])\n",
    "for i,row in df.iterrows():\n",
    "    if row['K'] == max(df['K']):\n",
    "        axarr[0].annotate(r'$\\mathbf{%1.2f}$' %row['K'],(row['run']-0.2,row['K']+0.2),\n",
    "                          fontsize=13)\n",
    "    else:\n",
    "        axarr[0].annotate(r'$%1.2f$' %row['K'],(row['run']-0.2,row['K']+0.2),fontsize=13)\n",
    "\n",
    "\n",
    "\n",
    "for pid in pids:    \n",
    "    data = df\n",
    "    sns.scatterplot(x=data['run'],y=data[pid], size=1000,sizes=(1500,1500),marker='_',\n",
    "                    label=r'$%s$' %(particleLabels[pid]), legend=False,\n",
    "                    c=[colorDict[pid]],ax=axarr[1])\n",
    "    for i,m in enumerate(masses[pid]):\n",
    "        if m < 0: continue\n",
    "        axarr[1].annotate(r'$%s$' %(particleLabels[pid]),(runs[i],m+25.),fontsize=15)\n",
    "axarr[1].set_ylim(0.,1500.0)\n",
    "axarr[1].set_xlabel('run', fontsize=23)\n",
    "axarr[1].set_ylabel('Mass [GeV]', fontsize=23)\n",
    "axarr[1].set_xticks(sorted(df['run'].tolist()))\n",
    "plt.savefig('highScore_massesv1.pdf')\n",
    "plt.show()"
   ]
  },
  {
   "cell_type": "code",
   "execution_count": null,
   "metadata": {},
   "outputs": [],
   "source": []
  }
 ],
 "metadata": {
  "kernelspec": {
   "display_name": "Python 3",
   "language": "python",
   "name": "python3"
  },
  "language_info": {
   "codemirror_mode": {
    "name": "ipython",
    "version": 3
   },
   "file_extension": ".py",
   "mimetype": "text/x-python",
   "name": "python",
   "nbconvert_exporter": "python",
   "pygments_lexer": "ipython3",
   "version": "3.8.5"
  }
 },
 "nbformat": 4,
 "nbformat_minor": 4
}

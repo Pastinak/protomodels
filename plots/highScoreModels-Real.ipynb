{
 "cells": [
  {
   "cell_type": "code",
   "execution_count": 1,
   "metadata": {},
   "outputs": [],
   "source": [
    "import sys,os,copy,glob\n",
    "import numpy as np\n",
    "sys.path.append(os.path.abspath('../smodels'))\n",
    "sys.path.append(os.path.abspath('../'))\n",
    "from builder.protomodel import ProtoModel\n",
    "from builder.manipulator import Manipulator\n",
    "from tester.predictor import Predictor\n",
    "from tester.combiner import Combiner\n",
    "from walker.hiscore import Hiscore\n",
    "from smodels.experiment.databaseObj import Database\n",
    "from smodels.tools import runtime\n",
    "from smodels.tools.physicsUnits import fb\n",
    "runtime._experimental = True\n",
    "import matplotlib.pyplot as plt\n",
    "import seaborn as sns\n",
    "import pandas as pd\n",
    "from names import particleLabels\n",
    "from sparticleNames import SParticleNames\n",
    "# sns.set() #Set style\n",
    "# sns.set_style('ticks')\n",
    "sns.set_style('ticks',{'font.family':'Times New Roman', 'font.serif':'Times New Roman'})\n",
    "sns.set_context('paper', font_scale=2.0)\n",
    "# sns.set_palette(sns.color_palette(\"Paired\"))\n",
    "sns.set_palette(sns.color_palette(\"deep\"))\n",
    "from smodels.tools import smodelsLogging\n",
    "smodelsLogging.setLogLevel('error')"
   ]
  },
  {
   "cell_type": "code",
   "execution_count": 2,
   "metadata": {},
   "outputs": [],
   "source": [
    "#Set colors:\n",
    "allPids = [1000022, 1000006, 1000001, 1000021, 1000012, 1000023, \n",
    "            1000013, 2000006, 1000011, 1000005, 1000014, 1000004, 1000015, 1000016, 1000024]\n",
    "namer = SParticleNames ( susy = False )\n",
    "colors = sns.color_palette('deep',n_colors=len(namer.xIDs))\n",
    "\n",
    "#Replace default colors:\n",
    "for pid in sorted(namer.xIDs.keys()):\n",
    "    if not pid in allPids:\n",
    "        allPids.append(pid)\n",
    "colorDict = dict(zip(allPids,colors))\n",
    "colorDict[1000002] = colorDict[1000001]\n",
    "colorDict[1000003] = colorDict[1000001]\n",
    "colorDict[1000004] = colorDict[1000001]"
   ]
  },
  {
   "cell_type": "code",
   "execution_count": 3,
   "metadata": {},
   "outputs": [],
   "source": [
    "def getLikelihoods(protomodel,muvals,normalize=True):\n",
    "    \n",
    "    #Sort tpList\n",
    "    critic = sorted(protomodel.tpList, key = lambda tp: tp[0], reverse = True)[0][2]\n",
    "\n",
    "    #Combiner likelihood:\n",
    "    combiner = Combiner(0)\n",
    "    llhComb = np.array([combiner.getCombinedLikelihood(protomodel.bestCombo,mu) for mu in muvals])\n",
    "    llhCombSM = combiner.getCombinedLikelihood(protomodel.bestCombo,0.)\n",
    "    llhDict = {'Combined' : llhComb}\n",
    "    llhDictSM = {'Combined' : llhCombSM}\n",
    "    for tp in protomodel.bestCombo:\n",
    "        llhDict[tp.expResult.globalInfo.id] = np.array([tp.getLikelihood(mu) for mu in muvals])\n",
    "        llhDictSM[tp.expResult.globalInfo.id] = tp.getLikelihood(0.0)\n",
    "\n",
    "    #Critic likelihood:\n",
    "    if critic.getLikelihood(1.0) is not None:\n",
    "        llhDictSM['Critic'] = critic.getLikelihood(0.0)\n",
    "        llhDict['Critic'] = np.array([critic.getLikelihood(mu) for mu in muvals])\n",
    "    else:\n",
    "        llhDict['Critic'] = None\n",
    "        llhDictSM['Critic'] = None\n",
    "    llhDict['SM values'] = llhDictSM\n",
    "    \n",
    "    #Compute normalizations:\n",
    "    if normalize:\n",
    "        for key,llhd in llhDict.items():\n",
    "            if key != 'SM values':\n",
    "                norm = llhd.sum()\n",
    "                llhDict[key] = llhd/norm\n",
    "                llhDict['SM values'][key] *= 1/norm\n",
    "    \n",
    "    \n",
    "    return llhDict\n"
   ]
  },
  {
   "cell_type": "code",
   "execution_count": 4,
   "metadata": {},
   "outputs": [],
   "source": [
    "def fromDict(inputDict):\n",
    "    \n",
    "    p = ProtoModel(walkerid=0)\n",
    "    for key,v in inputDict.items():\n",
    "        setattr(p,key,copy.deepcopy(v))\n",
    "        \n",
    "    return p"
   ]
  },
  {
   "cell_type": "code",
   "execution_count": 5,
   "metadata": {},
   "outputs": [],
   "source": [
    "#Get highest score from each run:\n",
    "protomodelsDict = {}\n",
    "for ff in glob.glob('../data/real*.dict'):\n",
    "    with open(ff,'r') as f:\n",
    "        pList = eval(f.read())\n",
    "    run = eval(os.path.basename(ff).replace('real','').replace('.dict',''))\n",
    "    pList = [fromDict(pDict) for pDict in pList[:]]\n",
    "    p = sorted(pList, key = lambda p: p.K, reverse=True)[0]\n",
    "    protomodelsDict[run] = p  "
   ]
  },
  {
   "cell_type": "code",
   "execution_count": 6,
   "metadata": {},
   "outputs": [
    {
     "name": "stdout",
     "output_type": "stream",
     "text": [
      "1 ProtoModel (XZ1,Xd,Xt): K = 6.74, Z = 3.21\n",
      "2 ProtoModel (XZ1,Xd,Xt): K = 6.79, Z = 3.22\n",
      "3 ProtoModel (XZ1,Xt,Xc): K = 6.87, Z = 3.23\n",
      "4 ProtoModel (XZ1,Xd,Xt): K = 6.70, Z = 3.20\n",
      "5 ProtoModel (XZ1,Xd,Xt,Xmu): K = 6.76, Z = 3.47\n",
      "6 ProtoModel (XZ1,Xt,Xd): K = 6.77, Z = 3.21\n",
      "7 ProtoModel (XZ1,Xt,Xc): K = 6.58, Z = 3.18\n",
      "8 ProtoModel (XZ1,Xt,Xd): K = 6.79, Z = 3.21\n",
      "9 ProtoModel (XZ1,Xd,Xt): K = 6.90, Z = 3.24\n",
      "10 ProtoModel (XZ1,Xt,Xd): K = 6.73, Z = 3.21\n",
      "K (avg) = 6.76 +- 0.08\n"
     ]
    }
   ],
   "source": [
    "for run in sorted(protomodelsDict.keys()):\n",
    "    print(run,protomodelsDict[run])\n",
    "    \n",
    "Kavg = np.array([p.K for p in protomodelsDict.values()]).mean()\n",
    "Kstd = np.array([p.K for p in protomodelsDict.values()]).std()\n",
    "print('K (avg) = %1.2f +- %1.2f' %(Kavg,Kstd))"
   ]
  },
  {
   "cell_type": "code",
   "execution_count": 7,
   "metadata": {},
   "outputs": [
    {
     "name": "stdout",
     "output_type": "stream",
     "text": [
      "1.0\n",
      "(1000022, 1000022) 0.003\n",
      "(1000001, 1000001) 0.493\n",
      "(-1000001, 1000001) 0.492\n",
      "(-1000001, -1000001) 0.493\n",
      "(1000001, 1000022) 0.493\n",
      "(-1000001, 1000022) 0.493\n",
      "(1000006, 1000006) 1.325\n",
      "(-1000006, 1000006) 1.226\n",
      "(-1000006, -1000006) 1.11\n",
      "(1000006, 1000022) 1.226\n",
      "(-1000006, 1000022) 1.11\n",
      "(1000001, 1000006) 1.11\n",
      "(-1000006, 1000001) 1.11\n",
      "(-1000001, 1000006) 1.11\n",
      "(-1000006, -1000001) 1.11\n",
      "{1000022: 162.552, 1000001: 734.948, 1000006: 1165.865}\n",
      "{1000022: {}, 1000001: {(1000022, 1): 1.0}, 1000006: {(1000022, 6): 1.0}}\n",
      "8.00E+00  TeV (LO):1.38E-03 [pb] (-1000001, 1000001)\n",
      "8.00E+00  TeV (LO):1.43E-04 [pb] (1000001, 1000022)\n",
      "8.00E+00  TeV (LO):4.88E-05 [pb] (-1000006, 1000006)\n",
      "8.00E+00  TeV (LO):2.07E-05 [pb] (-1000001, 1000022)\n",
      "8.00E+00  TeV (LO):4.77E-09 [pb] (1000022, 1000022)\n",
      "8 TeV (NLO+NLL):2.66E-03 [pb] (-1000001, 1000001)\n",
      "8 TeV (NLO+NLL):1.26E-04 [pb] (-1000006, 1000006)\n",
      "1.30E+01  TeV (LO):1.39E-02 [pb] (-1000001, 1000001)\n",
      "1.30E+01  TeV (LO):1.36E-03 [pb] (-1000006, 1000006)\n",
      "1.30E+01  TeV (LO):5.87E-04 [pb] (1000001, 1000022)\n",
      "1.30E+01  TeV (LO):1.26E-04 [pb] (-1000001, 1000022)\n",
      "1.30E+01  TeV (LO):3.04E-06 [pb] (1000001, 1000001)\n",
      "13 TeV (NLO+NLL):2.39E-02 [pb] (-1000001, 1000001)\n",
      "13 TeV (NLO+NLL):2.62E-03 [pb] (-1000006, 1000006)\n"
     ]
    }
   ],
   "source": [
    "protomodel = protomodelsDict[9]\n",
    "protomodel.computeXSecs()\n",
    "print(protomodel.muhat)\n",
    "for pids, ssm in protomodel.ssmultipliers.items():\n",
    "    if not ssm: continue\n",
    "    print(pids,ssm)\n",
    "print(protomodel.masses)\n",
    "print(protomodel.decays)\n",
    "for xsec in protomodel._stored_xsecs[0]:\n",
    "    print(xsec)"
   ]
  },
  {
   "cell_type": "code",
   "execution_count": 8,
   "metadata": {},
   "outputs": [
    {
     "name": "stderr",
     "output_type": "stream",
     "text": [
      "combination #2/42   4%|--                                        |ETA:  0:00:03\r"
     ]
    },
    {
     "name": "stdout",
     "output_type": "stream",
     "text": [
      "[combine:0] selected predictions down via SRs from 208 to 15.\n",
      "[combine:0] sorting out subsets, reduced 512 -> 42 combinations.\n"
     ]
    },
    {
     "name": "stderr",
     "output_type": "stream",
     "text": [
      "combination #42/42 100%|||||||||||||||||||||||||||||||||||||||||||Time: 0:00:03\n",
      "combination #2/42   4%|--                                        |ETA:  0:00:02\r"
     ]
    },
    {
     "name": "stdout",
     "output_type": "stream",
     "text": [
      "[combine:0] selected predictions down via SRs from 208 to 15.\n",
      "[combine:0] sorting out subsets, reduced 512 -> 42 combinations.\n"
     ]
    },
    {
     "name": "stderr",
     "output_type": "stream",
     "text": [
      "combination #42/42 100%|||||||||||||||||||||||||||||||||||||||||||Time: 0:00:02\n"
     ]
    },
    {
     "name": "stdout",
     "output_type": "stream",
     "text": [
      "[hiscore:0] computing contribution of Xt (1165.9): [1/2]\n"
     ]
    },
    {
     "name": "stderr",
     "output_type": "stream",
     "text": [
      "combination #5/24  20%|////////                                  |ETA:  0:00:00\r"
     ]
    },
    {
     "name": "stdout",
     "output_type": "stream",
     "text": [
      "[combine:0] selected predictions down via SRs from 190 to 10.\n",
      "[combine:0] sorting out subsets, reduced 109 -> 24 combinations.\n"
     ]
    },
    {
     "name": "stderr",
     "output_type": "stream",
     "text": [
      "combination #24/24 100%|||||||||||||||||||||||||||||||||||||||||||Time: 0:00:01\n"
     ]
    },
    {
     "name": "stdout",
     "output_type": "stream",
     "text": [
      "[hiscore:0] when removing Xt, K changed: 6.901 -> 2.586 (-62.5%), Z: 3.237 -> 2.216 (100000 evts)\n",
      "[hiscore:0] computing contribution of Xd (734.9): [2/2]\n",
      "[combine:0] selected predictions down via SRs from 40 to 9.\n",
      "[combine:0] sorting out subsets, reduced 8 -> 8 combinations.\n",
      "[hiscore:0] when removing Xd, K changed: 6.901 -> 3.905 (-43.4%), Z: 3.237 -> 2.481 (100000 evts)\n",
      "[hiscore:0] stored 2 particle contributions\n",
      "[hiscore:0] Now computing analysis contributions\n",
      "[hiscore:0] Recompute the score. Old one at K=6.90, Z=3.24\n",
      "[hiscore:0] finished computing contributions\n",
      "[hiscore:0] contributionsK of 0 reads 7.036143001096877\n",
      "[hiscore:0] contributionsK of 1 reads 3.3085372634096144\n",
      "[hiscore:0] contributionsK of 2 reads 4.437114326356055\n",
      "[hiscore:0] contributionsK of 3 reads 6.341210189286495\n",
      "[hiscore:0] contributionsK of 4 reads 4.328802956473696\n",
      "[hiscore:0] stored 5 analyses contributions\n"
     ]
    }
   ],
   "source": [
    "run = 9\n",
    "p = protomodelsDict[run]\n",
    "m = Manipulator(p)\n",
    "#Get predictions:\n",
    "pred = Predictor(walkerid=0,dbpath='../official124_smodels200.pcl')\n",
    "res = pred.predict(p)\n",
    "#Get contributions\n",
    "hi = Hiscore(walkerid=0,save_hiscores=False,predictor=pred)   \n",
    "hi.computeParticleContributions(m)\n",
    "hi.computeAnalysisContributions(m)    "
   ]
  },
  {
   "cell_type": "code",
   "execution_count": 9,
   "metadata": {
    "scrolled": true
   },
   "outputs": [
    {
     "name": "stdout",
     "output_type": "stream",
     "text": [
      "\n",
      " run 9: K = 6.90, Z = 3.24, muhat = 1.00, mumax = 1.06\n",
      "\t Best Combo:\n",
      "\t\t ATLAS-SUSY-2013-02 [T2] SR6jtp 6 4.9 1.6\n",
      "\t\t  prediction = 0.25\n",
      "\t\t ATLAS-SUSY-2016-07 [T2] 2j_Meff_1200 611.0 526.0 31.0\n",
      "\t\t  prediction = 44.16\n",
      "\t\t ATLAS-SUSY-2016-16 [T2tt] tN_high 8 3.8 1\n",
      "\t\t  prediction = 3.93\n",
      "\t\t CMS-SUS-13-012 [T2] 3.08E+01 [fb] 1.96E+01 [fb]\n",
      "\t\t  prediction =  2.66E+00 [fb]\n",
      "\t\t CMS-SUS-16-050 [T2tt] 4.50E+00 [fb] 2.50E+00 [fb]\n",
      "\t\t  prediction =  2.62E+00 [fb]\n",
      "\t Constraints:\n",
      "\t\t r = 1.30\n",
      " CMS-SUS-19-006 upperLimit [T2] theory xsec =  23.95, UL = 1.85E+01 [fb], UL_exp = 2.16E+01 [fb]\n",
      "\n",
      "\t\t r = 1.28\n",
      " CMS-SUS-19-006 upperLimit [T2tt] theory xsec =  2.62, UL = 2.04E+00 [fb], UL_exp = 2.08E+00 [fb]\n",
      "\n",
      "\t\t r = 1.24\n",
      " CMS-SUS-16-033 upperLimit [T2] theory xsec =  23.95, UL = 1.93E+01 [fb], UL_exp = 2.83E+01 [fb]\n",
      "\n",
      "\t\t r = 0.92\n",
      " CMS-SUS-16-036 upperLimit [T2] theory xsec =  23.95, UL = 2.60E+01 [fb], UL_exp = 3.18E+01 [fb]\n",
      "\n",
      "\t\t r = 0.90\n",
      " CMS-SUS-16-051 upperLimit [T2tt] theory xsec =  2.62, UL = 2.91E+00 [fb], UL_exp = 4.44E+00 [fb]\n",
      "\n",
      "\t\t r = 0.84\n",
      " CMS-SUS-16-036 upperLimit [T2tt] theory xsec =  2.62, UL = 3.12E+00 [fb], UL_exp = 3.90E+00 [fb]\n",
      "\n",
      "\t\t r = 0.64\n",
      " ATLAS-SUSY-2016-15 upperLimit [T2tt] theory xsec =  2.62, UL = 4.08E+00 [fb], UL_exp = None\n",
      "\n",
      "\t\t r = 0.63\n",
      " CMS-SUS-16-049 upperLimit [T2tt] theory xsec =  2.62, UL = 4.17E+00 [fb], UL_exp = 2.60E+00 [fb]\n",
      "\n",
      "\t\t r = 0.58\n",
      " CMS-SUS-16-050 upperLimit [T2tt] theory xsec =  2.62, UL = 4.50E+00 [fb], UL_exp = 2.50E+00 [fb]\n",
      "\n",
      "\t Particle Contributions:\n",
      "\t\t 1000006 2.586219735520931\n",
      "\t\t 1000001 3.904595711154392\n",
      "\t Analysis Contributions:\n",
      "\t\t ATLAS-SUSY-2013-02 7.036143001096877\n",
      "\t\t ATLAS-SUSY-2016-07 3.3085372634096144\n",
      "\t\t ATLAS-SUSY-2016-16 4.437114326356055\n",
      "\t\t CMS-SUS-13-012 6.341210189286495\n",
      "\t\t CMS-SUS-16-050 4.328802956473696\n"
     ]
    }
   ],
   "source": [
    "run = 9\n",
    "p = protomodelsDict[run]\n",
    "print('\\n run %i: K = %1.2f, Z = %1.2f, muhat = %1.2f, mumax = %1.2f' %(run,p.K,p.Z,p.muhat,p.mumax))\n",
    "print('\\t Best Combo:')\n",
    "for tp in sorted(p.bestCombo, key = lambda tp: tp.expResult.globalInfo.id):\n",
    "    if tp.dataset.dataInfo.dataType == 'efficiencyMap':\n",
    "        print('\\t\\t',tp.expResult.globalInfo.id,tp.txnames,tp.dataset.dataInfo.dataId,\n",
    "          tp.dataset.dataInfo.observedN,tp.dataset.dataInfo.expectedBG,tp.dataset.dataInfo.bgError)\n",
    "        print('\\t\\t  prediction = %1.2f' %(tp.xsection.value*tp.expResult.globalInfo.lumi))\n",
    "    else:\n",
    "        print('\\t\\t',tp.expResult.globalInfo.id,tp.txnames,tp.getUpperLimit(),tp.getUpperLimit(expected=True))\n",
    "        print('\\t\\t  prediction = ',tp.xsection.value.asNumber(fb)*fb)\n",
    "print('\\t Constraints:')\n",
    "for tp in sorted(p.tpList, key = lambda x: x[0], reverse=True):\n",
    "    if tp[0] < 0.5: continue\n",
    "    print('\\t\\t r = %1.2f\\n' %tp[0],tp[2].expResult.globalInfo.id,tp[2].dataset.dataInfo.dataType,tp[2].txnames,\n",
    "          'theory xsec =  %1.2f, UL = %s, UL_exp = %s\\n' \n",
    "          %(tp[2].xsection.value.asNumber(fb),tp[2].getUpperLimit(),tp[2].getUpperLimit(expected=True)))\n",
    "print('\\t Particle Contributions:')\n",
    "for pid,cont in p.particleContributions.items():\n",
    "    print('\\t\\t',pid,cont)\n",
    "\n",
    "print('\\t Analysis Contributions:')\n",
    "for ana,cont in p.analysisContributions.items():\n",
    "    print('\\t\\t',ana,cont)\n"
   ]
  },
  {
   "cell_type": "code",
   "execution_count": 10,
   "metadata": {},
   "outputs": [
    {
     "name": "stdout",
     "output_type": "stream",
     "text": [
      "ProtoModel (XZ1,Xd,Xt): K = 6.90, Z = 3.24\n"
     ]
    }
   ],
   "source": [
    "protomodel = protomodelsDict[9]\n",
    "muvals = np.linspace(-10,10,500)\n",
    "llhDictList = []\n",
    "print(protomodel)\n",
    "llhDict = getLikelihoods(protomodel,muvals)"
   ]
  },
  {
   "cell_type": "code",
   "execution_count": 11,
   "metadata": {},
   "outputs": [
    {
     "name": "stdout",
     "output_type": "stream",
     "text": [
      "['Combined', 'ATLAS-SUSY-2016-07', 'CMS-SUS-16-050', 'ATLAS-SUSY-2016-16', 'CMS-SUS-13-012', 'ATLAS-SUSY-2013-02']\n"
     ]
    }
   ],
   "source": [
    "sortedKeys = []\n",
    "for key in llhDict.keys():\n",
    "    if key == 'SM values' or key == 'Critic':\n",
    "        continue\n",
    "    else:\n",
    "        sortedKeys.append((llhDict[key].max()/llhDict['SM values'][key],key))\n",
    "sortedKeys = sorted(sortedKeys,reverse=True)\n",
    "sortedKeys = [pt[1] for pt in sortedKeys]\n",
    "print(sortedKeys)"
   ]
  },
  {
   "cell_type": "code",
   "execution_count": 12,
   "metadata": {},
   "outputs": [
    {
     "data": {
      "image/png": "[encoded data removed]",
      "text/plain": [
       "<Figure size 648x288 with 1 Axes>"
      ]
     },
     "metadata": {},
     "output_type": "display_data"
    }
   ],
   "source": [
    "fig = plt.figure(figsize=(9,4))\n",
    "for key in sortedKeys:\n",
    "    val = llhDict[key]\n",
    "    if key == 'Combined': ls = '-'\n",
    "    else: ls = '--'\n",
    "    plt.plot(muvals,val/llhDict['SM values'][key],label=key,linestyle=ls,linewidth=3)\n",
    "\n",
    "plt.axvline(x=protomodel.mumax,ymax=0.95,c='black',linestyle='-.',label=r'$\\mathdefault{\\mu_{max}}$',\n",
    "               linewidth=2.5)\n",
    "# tit = r'$'\n",
    "# tit += '\\mathdefault{K = %1.2f}$' %(protomodel.K)\n",
    "# plt.title(tit,fontsize=25)\n",
    "plt.xticks(np.linspace(0,5,6))\n",
    "plt.xlabel(r'$\\mathdefault{\\mu}$',fontsize=30)\n",
    "# plt.xaxis.set_tick_params(labelsize=25)\n",
    "# plt.yaxis.set_tick_params(labelsize=25)\n",
    "plt.ylabel(r'$\\mathdefault{\\mathrm{L}_{\\mathrm{BSM}}/\\mathrm{L}_{\\mathrm{SM}}}$',fontsize=30)\n",
    "plt.legend(loc=(1.01,0.05),framealpha=1,fontsize=13,labelspacing=0.6)\n",
    "plt.xlim(0,2.5)\n",
    "plt.ylim(1,2e3)\n",
    "plt.yscale('log')\n",
    "plt.tight_layout()\n",
    "plt.savefig('winner_likelihood.pdf')\n",
    "plt.savefig('winner_likelihood.png')\n",
    "plt.show()"
   ]
  },
  {
   "cell_type": "code",
   "execution_count": 13,
   "metadata": {},
   "outputs": [],
   "source": [
    "#Get all particles which appears in all models:\n",
    "particles = []\n",
    "modelList = np.array(list(protomodelsDict.items()))\n",
    "runs = modelList[:,0]\n",
    "modelList = modelList[:,1]\n",
    "for p in modelList:\n",
    "    particles += p.unFrozenParticles()\n",
    "particles = list(set(particles))\n",
    "\n",
    "#Build useful dataset:\n",
    "nparticles = np.array([len(p.unFrozenParticles()) for p in modelList])\n",
    "Kvalues = np.array([p.K if (p.K and p.K > 0) else 0.0 for p in modelList])\n",
    "Zvalues = np.array([p.Z if (p.Z and p.Z > 0) else 0.0 for p in modelList])\n",
    "masses = dict([[pid,[]] for pid in particles])\n",
    "for p in modelList:\n",
    "    for pid in masses:\n",
    "        if pid in p.masses:\n",
    "            masses[pid].append(p.masses[pid])\n",
    "        else:\n",
    "#             masses[pid].append(np.nan)\n",
    "            masses[pid].append(-100.0)\n",
    "for pid in masses:\n",
    "    masses[pid] = np.array(masses[pid])\n",
    "dataDict = {'run' : runs, 'K' : Kvalues,\n",
    "                   'nparticles' : nparticles}\n",
    "dataDict.update(masses) \n",
    "df = pd.DataFrame(dataDict)"
   ]
  },
  {
   "cell_type": "code",
   "execution_count": 14,
   "metadata": {},
   "outputs": [
    {
     "data": {
      "image/png": "[encoded data removed]",
      "text/plain": [
       "<Figure size 720x576 with 2 Axes>"
      ]
     },
     "metadata": {},
     "output_type": "display_data"
    }
   ],
   "source": [
    "f, axarr = plt.subplots(2,sharex=True, gridspec_kw = {'height_ratios':[1, 4]},figsize=(10,8))\n",
    "plt.subplots_adjust(left=0.12, bottom=0.12, right=0.97, top=None, wspace=None, hspace=0)\n",
    "\n",
    "nsteps = 10\n",
    "\n",
    "pids = sorted(list(masses.keys()))\n",
    "# colors = sns.color_palette('Paired',n_colors=10)[1::2]\n",
    "# colors = sns.color_palette('tab10',n_colors=10)\n",
    "# colors = sns.color_palette('colorblind',n_colors=10)\n",
    "# colorsDict = dict([[pid,colors[i]] for i,pid in enumerate(pids)])\n",
    "# colorsDict[1000004] = colorsDict[1000001]\n",
    "\n",
    "\n",
    "\n",
    "axarr[0].scatter(df['run'],df['K'],s=80,c='gray')\n",
    "axarr[0].set_ylabel(r'$K$')\n",
    "axarr[0].set_ylim(6.1,8.2)\n",
    "axarr[0].set_yticks([])\n",
    "for i,row in df.iterrows():\n",
    "    if row['K'] == max(df['K']):\n",
    "        axarr[0].annotate(r'$\\mathbf{%1.2f}$' %row['K'],(row['run']-0.2,row['K']+0.2),\n",
    "                          fontsize=13)\n",
    "    else:\n",
    "        axarr[0].annotate(r'$%1.2f$' %row['K'],(row['run']-0.2,row['K']+0.2),fontsize=13)\n",
    "\n",
    "\n",
    "\n",
    "for pid in pids:    \n",
    "    data = df\n",
    "    sns.scatterplot(x=data['run'],y=data[pid], size=1000,sizes=(1500,1500),marker='_',\n",
    "                    label=r'$%s$' %(particleLabels[pid]), legend=False,\n",
    "                    c=[colorDict[pid]],ax=axarr[1])\n",
    "    for i,m in enumerate(masses[pid]):\n",
    "        if m < 0: continue\n",
    "        axarr[1].annotate(r'$%s$' %(particleLabels[pid]),(runs[i],m+25.),fontsize=15)\n",
    "axarr[1].set_ylim(0.,1500.0)\n",
    "axarr[1].set_xlabel('run', fontsize=23)\n",
    "axarr[1].set_ylabel('Mass [GeV]', fontsize=23)\n",
    "axarr[1].set_xticks(sorted(df['run'].tolist()))\n",
    "#     plt.plot(df['run'],m,'-',linewidth=2)\n",
    "\n",
    "\n",
    "# plt.ylim(0.,1500.0)\n",
    "\n",
    "\n",
    "\n",
    "# plt.grid(axis='x') \n",
    "# plt.legend(loc=(0.8,0.85),framealpha=1.0,ncol=3,labelspacing=0.1,\n",
    "#            handlelength=0.4,handletextpad=0.35,markerscale=0.8,columnspacing=1.0)\n",
    "# plt.tight_layout()\n",
    "plt.savefig('highScore_massesv1.pdf')\n",
    "plt.show()"
   ]
  },
  {
   "cell_type": "code",
   "execution_count": null,
   "metadata": {},
   "outputs": [],
   "source": []
  }
 ],
 "metadata": {
  "kernelspec": {
   "display_name": "Python 3",
   "language": "python",
   "name": "python3"
  },
  "language_info": {
   "codemirror_mode": {
    "name": "ipython",
    "version": 3
   },
   "file_extension": ".py",
   "mimetype": "text/x-python",
   "name": "python",
   "nbconvert_exporter": "python",
   "pygments_lexer": "ipython3",
   "version": "3.8.5"
  }
 },
 "nbformat": 4,
 "nbformat_minor": 4
}

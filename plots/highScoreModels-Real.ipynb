{
 "cells": [
  {
   "cell_type": "code",
   "execution_count": 1,
   "metadata": {},
   "outputs": [],
   "source": [
    "import sys,os,copy,glob\n",
    "import numpy as np\n",
    "sys.path.append(os.path.abspath('../smodels'))\n",
    "sys.path.append(os.path.abspath('../protomodels'))\n",
    "from builder.protomodel import ProtoModel\n",
    "from builder.manipulator import Manipulator\n",
    "from tester.predictor import Predictor\n",
    "from tester.combiner import Combiner\n",
    "from walker.hiscore import Hiscore\n",
    "from smodels.experiment.databaseObj import Database\n",
    "from smodels.tools import runtime\n",
    "from smodels.tools.physicsUnits import fb\n",
    "runtime._experimental = True\n",
    "import matplotlib.pyplot as plt\n",
    "import seaborn as sns\n",
    "sns.set() #Set style\n",
    "sns.set_style('ticks',{'font.family':'serif', 'font.serif':'Times New Roman'})\n",
    "sns.set_context('paper', font_scale=1.8)\n",
    "sns.set_palette(sns.color_palette(\"Paired\"))"
   ]
  },
  {
   "cell_type": "code",
   "execution_count": 2,
   "metadata": {},
   "outputs": [],
   "source": [
    "def getLikelihoods(protomodel,muvals,normalize=True):\n",
    "    \n",
    "    #Sort tpList\n",
    "    critic = sorted(protomodel.tpList, key = lambda tp: tp[0], reverse = True)[0][2]\n",
    "\n",
    "    #Combiner likelihood:\n",
    "    combiner = Combiner(0)\n",
    "    llhComb = np.array([combiner.getCombinedLikelihood(protomodel.bestCombo,mu) for mu in muvals])\n",
    "    llhCombSM = combiner.getCombinedLikelihood(protomodel.bestCombo,0.)\n",
    "    llhDict = {'Combined' : llhComb}\n",
    "    llhDictSM = {'Combined' : llhCombSM}\n",
    "    for tp in protomodel.bestCombo:\n",
    "        llhDict[tp.expResult.globalInfo.id] = np.array([tp.getLikelihood(mu) for mu in muvals])\n",
    "        llhDictSM[tp.expResult.globalInfo.id] = tp.getLikelihood(0.0)\n",
    "\n",
    "    #Critic likelihood:\n",
    "    if critic.getLikelihood(1.0) is not None:\n",
    "        llhDictSM['Critic'] = critic.getLikelihood(0.0)\n",
    "        llhDict['Critic'] = np.array([critic.getLikelihood(mu) for mu in muvals])\n",
    "    else:\n",
    "        llhDict['Critic'] = None\n",
    "        llhDictSM['Critic'] = None\n",
    "    llhDict['SM values'] = llhDictSM\n",
    "    \n",
    "    #Compute normalizations:\n",
    "    if normalize:\n",
    "        for key,llhd in llhDict.items():\n",
    "            if key != 'SM values':\n",
    "                norm = llhd.sum()\n",
    "                llhDict[key] = llhd/norm\n",
    "                llhDict['SM values'][key] *= 1/norm\n",
    "    \n",
    "    \n",
    "    return llhDict\n"
   ]
  },
  {
   "cell_type": "code",
   "execution_count": 3,
   "metadata": {},
   "outputs": [],
   "source": [
    "def fromDict(inputDict):\n",
    "    \n",
    "    p = ProtoModel(walkerid=0)\n",
    "    for key,v in inputDict.items():\n",
    "        setattr(p,key,copy.deepcopy(v))\n",
    "        \n",
    "    return p"
   ]
  },
  {
   "cell_type": "code",
   "execution_count": 4,
   "metadata": {},
   "outputs": [],
   "source": [
    "#Get highest score from each run:\n",
    "protomodelsDict = {}\n",
    "for ff in glob.glob('../highestScores/real_run/real*.dict'):\n",
    "    with open(ff,'r') as f:\n",
    "        pList = eval(f.read())\n",
    "    run = eval(os.path.basename(ff).replace('real','').replace('.dict',''))\n",
    "    pList = [fromDict(pDict) for pDict in pList[:]]\n",
    "    p = sorted(pList, key = lambda p: p.K, reverse=True)[0]\n",
    "    protomodelsDict[run] = p  "
   ]
  },
  {
   "cell_type": "code",
   "execution_count": 5,
   "metadata": {},
   "outputs": [
    {
     "name": "stdout",
     "output_type": "stream",
     "text": [
      "1 ProtoModel (XZ1,Xd,Xt): K = 6.57, Z = 3.18\n",
      "2 ProtoModel (XZ1,Xc,Xt): K = 6.74, Z = 3.20\n",
      "3 ProtoModel (XZ1,Xd,Xt): K = 7.53, Z = 3.33\n",
      "4 ProtoModel (XZ1,Xt,Xc): K = 6.33, Z = 3.14\n",
      "5 ProtoModel (XZ1,Xd,Xt): K = 6.63, Z = 3.19\n"
     ]
    }
   ],
   "source": [
    "for run in sorted(protomodelsDict.keys()):\n",
    "    print(run,protomodelsDict[run])    "
   ]
  },
  {
   "cell_type": "code",
   "execution_count": 6,
   "metadata": {},
   "outputs": [],
   "source": [
    "protomodel = protomodelsDict[3]"
   ]
  },
  {
   "cell_type": "code",
   "execution_count": 7,
   "metadata": {},
   "outputs": [
    {
     "name": "stdout",
     "output_type": "stream",
     "text": [
      "Skipping result for: ATLAS-SUSY-2016-07\n",
      "Skipping result for: ATLAS-SUSY-2016-07\n",
      "Skipping result for: ATLAS-SUSY-2016-15\n",
      "Skipping result for: ATLAS-SUSY-2016-15\n",
      "Skipping result for: ATLAS-SUSY-2016-16\n",
      "Skipping result for: ATLAS-SUSY-2016-16\n",
      "Skipping result for: ATLAS-SUSY-2016-17\n",
      "Skipping result for: ATLAS-SUSY-2016-17\n",
      "Skipping result for: CMS-SUS-17-001\n",
      "Skipping result for: CMS-SUS-17-001\n",
      "Skipping result for: ATLAS-SUSY-2013-02\n",
      "Skipping result for: ATLAS-SUSY-2013-02\n",
      "Skipping result for: CMS-SUS-13-004\n",
      "Skipping result for: CMS-SUS-13-004\n"
     ]
    },
    {
     "name": "stderr",
     "output_type": "stream",
     "text": [
      "combination #0/288   0%|                                        |ETA:  --:--:--\r"
     ]
    },
    {
     "name": "stdout",
     "output_type": "stream",
     "text": [
      "Skipping result for: CMS-SUS-13-019\n",
      "Skipping result for: CMS-SUS-13-019\n",
      "Skipping result for: CMS-SUS-13-019\n",
      "Skipping result for: CMS-SUS-13-019\n",
      "[combine:0] selected predictions down via SRs from 262 to 19.\n",
      "[combine:0] sorting out subsets, reduced 2788 -> 288 combinations.\n"
     ]
    },
    {
     "name": "stderr",
     "output_type": "stream",
     "text": [
      "combination #288/288 100%|||||||||||||||||||||||||||||||||||||||||Time: 0:00:19\n"
     ]
    },
    {
     "name": "stdout",
     "output_type": "stream",
     "text": [
      "Skipping result for: ATLAS-SUSY-2016-07\n",
      "Skipping result for: ATLAS-SUSY-2016-07\n",
      "Skipping result for: ATLAS-SUSY-2016-15\n",
      "Skipping result for: ATLAS-SUSY-2016-15\n",
      "Skipping result for: ATLAS-SUSY-2016-16\n",
      "Skipping result for: ATLAS-SUSY-2016-16\n",
      "Skipping result for: ATLAS-SUSY-2016-17\n",
      "Skipping result for: ATLAS-SUSY-2016-17\n",
      "Skipping result for: CMS-SUS-17-001\n",
      "Skipping result for: CMS-SUS-17-001\n",
      "Skipping result for: ATLAS-SUSY-2013-02\n",
      "Skipping result for: ATLAS-SUSY-2013-02\n",
      "Skipping result for: CMS-SUS-13-004\n",
      "Skipping result for: CMS-SUS-13-004\n"
     ]
    },
    {
     "name": "stderr",
     "output_type": "stream",
     "text": [
      "combination #0/288   0%|                                        |ETA:  --:--:--\r"
     ]
    },
    {
     "name": "stdout",
     "output_type": "stream",
     "text": [
      "Skipping result for: CMS-SUS-13-019\n",
      "Skipping result for: CMS-SUS-13-019\n",
      "Skipping result for: CMS-SUS-13-019\n",
      "Skipping result for: CMS-SUS-13-019\n",
      "[combine:0] selected predictions down via SRs from 262 to 19.\n",
      "[combine:0] sorting out subsets, reduced 2788 -> 288 combinations.\n"
     ]
    },
    {
     "name": "stderr",
     "output_type": "stream",
     "text": [
      "combination #288/288 100%|||||||||||||||||||||||||||||||||||||||||Time: 0:00:20\n"
     ]
    },
    {
     "name": "stdout",
     "output_type": "stream",
     "text": [
      "[hiscore:0] computing contribution of Xd (963.9): [1/2]\n",
      "Skipping result for: ATLAS-SUSY-2016-15\n",
      "Skipping result for: ATLAS-SUSY-2016-15\n",
      "Skipping result for: ATLAS-SUSY-2016-16\n",
      "Skipping result for: ATLAS-SUSY-2016-16\n",
      "Skipping result for: ATLAS-SUSY-2016-17\n",
      "Skipping result for: ATLAS-SUSY-2016-17\n",
      "Skipping result for: CMS-SUS-17-001\n",
      "Skipping result for: CMS-SUS-17-001\n",
      "Skipping result for: CMS-SUS-13-004\n",
      "Skipping result for: CMS-SUS-13-004\n"
     ]
    },
    {
     "name": "stderr",
     "output_type": "stream",
     "text": [
      "combination #3/48   6%|\\\\                                        |ETA:  0:00:02\r"
     ]
    },
    {
     "name": "stdout",
     "output_type": "stream",
     "text": [
      "Skipping result for: CMS-SUS-13-019\n",
      "Skipping result for: CMS-SUS-13-019\n",
      "[combine:0] selected predictions down via SRs from 164 to 14.\n",
      "[combine:0] sorting out subsets, reduced 201 -> 48 combinations.\n"
     ]
    },
    {
     "name": "stderr",
     "output_type": "stream",
     "text": [
      "combination #48/48 100%|||||||||||||||||||||||||||||||||||||||||||Time: 0:00:02\n"
     ]
    },
    {
     "name": "stdout",
     "output_type": "stream",
     "text": [
      "[hiscore:0] when removing Xd, K changed: 7.536 -> 4.653 (-38.2%), Z: 3.330 -> 2.627 (100000 evts)\n",
      "[hiscore:0] computing contribution of Xt (796.1): [2/2]\n",
      "Skipping result for: ATLAS-SUSY-2016-07\n",
      "Skipping result for: ATLAS-SUSY-2016-07\n",
      "Skipping result for: ATLAS-SUSY-2013-02\n",
      "Skipping result for: ATLAS-SUSY-2013-02\n"
     ]
    },
    {
     "name": "stderr",
     "output_type": "stream",
     "text": [
      "combination #3/24  12%|\\\\\\\\\\                                     |ETA:  0:00:00\r"
     ]
    },
    {
     "name": "stdout",
     "output_type": "stream",
     "text": [
      "Skipping result for: CMS-SUS-13-019\n",
      "Skipping result for: CMS-SUS-13-019\n",
      "[combine:0] selected predictions down via SRs from 192 to 10.\n",
      "[combine:0] sorting out subsets, reduced 109 -> 24 combinations.\n"
     ]
    },
    {
     "name": "stderr",
     "output_type": "stream",
     "text": [
      "combination #24/24 100%|||||||||||||||||||||||||||||||||||||||||||Time: 0:00:01\n"
     ]
    },
    {
     "name": "stdout",
     "output_type": "stream",
     "text": [
      "[hiscore:0] when removing Xt, K changed: 7.536 -> 2.455 (-67.4%), Z: 3.330 -> 2.243 (100000 evts)\n",
      "[hiscore:0] stored 2 particle contributions\n",
      "[hiscore:0] Now computing analysis contributions\n",
      "[hiscore:0] Recompute the score. Old one at K=7.54, Z=3.33\n",
      "[hiscore:0] stored 6 analyses contributions\n"
     ]
    }
   ],
   "source": [
    "#Compute predictions and contributions for each model:\n",
    "for run in protomodelsDict:\n",
    "    if run != 3: continue\n",
    "    p = protomodelsDict[run]\n",
    "    m = Manipulator(p)\n",
    "    #Get predictions:\n",
    "    pred = Predictor(walkerid=0,dbpath='../official124_smodels200.pcl')\n",
    "    res = pred.predict(p)\n",
    "    #Get contributions\n",
    "    hi = Hiscore(walkerid=0,save_hiscores=False,predictor=pred)   \n",
    "    hi.computeParticleContributions(m)\n",
    "    hi.computeAnalysisContributions(m)    "
   ]
  },
  {
   "cell_type": "code",
   "execution_count": 14,
   "metadata": {
    "scrolled": true
   },
   "outputs": [
    {
     "name": "stdout",
     "output_type": "stream",
     "text": [
      "\n",
      " run 3: K = 7.54, Z = 3.33, muhat = 1.00, mumax = 1.03\n",
      "\t Best Combo:\n",
      "\t\t ATLAS-SUSY-2013-02 [T2] SR6jtp 6 4.9 1.6\n",
      "\t\t  prediction = 0.16\n",
      "\t\t ATLAS-SUSY-2013-15 [T2tt] tNboost 5 3.3 0.7\n",
      "\t\t  prediction = 0.39\n",
      "\t\t ATLAS-SUSY-2016-07 [T2] 2j_Meff_1200 611.0 526.0 31.0\n",
      "\t\t  prediction = 47.54\n",
      "\t\t ATLAS-SUSY-2016-16 [T2tt] tN_med 50 36.3 6.6\n",
      "\t\t  prediction = 9.99\n",
      "\t\t CMS-SUS-13-012 [T2] 2.95E+01 [fb] 1.83E+01 [fb]\n",
      "\t\t  prediction =  1.57E+00 [fb]\n",
      "\t\t CMS-SUS-16-050 [T2tt] 1.06E+02 [fb] 4.93E+01 [fb]\n",
      "\t\t  prediction =  2.87E+01 [fb]\n",
      "\t Constraints:\n",
      "\t\t r = 1.30\n",
      " CMS-SUS-19-006 upperLimit [T2tt] theory xsec =  28.69, UL = 2.22E+01 [fb], UL_exp = 3.44E+01 [fb]\n",
      "\n",
      "\t\t r = 1.29\n",
      " CMS-SUS-19-006 upperLimit [T2] theory xsec =  20.90, UL = 1.62E+01 [fb], UL_exp = 1.83E+01 [fb]\n",
      "\n",
      "\t\t r = 1.17\n",
      " CMS-SUS-16-033 upperLimit [T2] theory xsec =  20.90, UL = 1.78E+01 [fb], UL_exp = 2.45E+01 [fb]\n",
      "\n",
      "\t\t r = 1.00\n",
      " CMS-SUS-16-049 upperLimit [T2tt] theory xsec =  28.69, UL = 2.87E+01 [fb], UL_exp = 3.95E+01 [fb]\n",
      "\n",
      "\t\t r = 0.92\n",
      " CMS-SUS-16-036 upperLimit [T2] theory xsec =  20.90, UL = 2.28E+01 [fb], UL_exp = 2.70E+01 [fb]\n",
      "\n",
      "\t\t r = 0.84\n",
      " CMS-SUS-16-036 upperLimit [T2tt] theory xsec =  28.69, UL = 3.40E+01 [fb], UL_exp = 5.16E+01 [fb]\n",
      "\n",
      "\t\t r = 0.64\n",
      " CMS-SUS-16-051 upperLimit [T2tt] theory xsec =  28.69, UL = 4.47E+01 [fb], UL_exp = 4.98E+01 [fb]\n",
      "\n",
      "\t\t r = 0.56\n",
      " CMS-SUS-16-033 upperLimit [T2tt] theory xsec =  28.69, UL = 5.13E+01 [fb], UL_exp = 5.64E+01 [fb]\n",
      "\n",
      "\t Particle Contributions:\n",
      "\t\t 1000001 4.65337207072426\n",
      "\t\t 1000006 2.454729363740607\n",
      "\t Analysis Contributions:\n",
      "\t\t ATLAS-SUSY-2013-02 10.637999890667508\n",
      "\t\t ATLAS-SUSY-2013-15 10.252420189495563\n",
      "\t\t ATLAS-SUSY-2016-07 6.087395309352307\n",
      "\t\t ATLAS-SUSY-2016-16 9.017238232820343\n",
      "\t\t CMS-SUS-13-012 9.879471539575004\n",
      "\t\t CMS-SUS-16-050 4.353166314714816\n"
     ]
    }
   ],
   "source": [
    "for run in sorted(protomodelsDict.keys()):\n",
    "    if run != 3: continue\n",
    "    p = protomodelsDict[run]\n",
    "    print('\\n run %i: K = %1.2f, Z = %1.2f, muhat = %1.2f, mumax = %1.2f' %(run,p.K,p.Z,p.muhat,p.mumax))\n",
    "    print('\\t Best Combo:')\n",
    "    for tp in sorted(p.bestCombo, key = lambda tp: tp.expResult.globalInfo.id):\n",
    "        if tp.dataset.dataInfo.dataType == 'efficiencyMap':\n",
    "            print('\\t\\t',tp.expResult.globalInfo.id,tp.txnames,tp.dataset.dataInfo.dataId,\n",
    "              tp.dataset.dataInfo.observedN,tp.dataset.dataInfo.expectedBG,tp.dataset.dataInfo.bgError)\n",
    "            print('\\t\\t  prediction = %1.2f' %(tp.xsection.value*tp.expResult.globalInfo.lumi))\n",
    "        else:\n",
    "            print('\\t\\t',tp.expResult.globalInfo.id,tp.txnames,tp.getUpperLimit(),tp.getUpperLimit(expected=True))\n",
    "            print('\\t\\t  prediction = ',tp.xsection.value.asNumber(fb)*fb)\n",
    "    print('\\t Constraints:')\n",
    "    for tp in sorted(p.tpList, key = lambda x: x[0], reverse=True):\n",
    "        if tp[0] < 0.5: continue\n",
    "        print('\\t\\t r = %1.2f\\n' %tp[0],tp[2].expResult.globalInfo.id,tp[2].dataset.dataInfo.dataType,tp[2].txnames,\n",
    "              'theory xsec =  %1.2f, UL = %s, UL_exp = %s\\n' \n",
    "              %(tp[2].xsection.value.asNumber(fb),tp[2].getUpperLimit(),tp[2].getUpperLimit(expected=True)))\n",
    "    print('\\t Particle Contributions:')\n",
    "    for pid,cont in p.particleContributions.items():\n",
    "        print('\\t\\t',pid,cont)\n",
    "\n",
    "    print('\\t Analysis Contributions:')\n",
    "    for ana,cont in p.analysisContributions.items():\n",
    "        print('\\t\\t',ana,cont)\n"
   ]
  },
  {
   "cell_type": "code",
   "execution_count": 9,
   "metadata": {},
   "outputs": [
    {
     "name": "stdout",
     "output_type": "stream",
     "text": [
      "ProtoModel (XZ1,Xd,Xt): K = 7.54, Z = 3.33\n"
     ]
    }
   ],
   "source": [
    "protomodel = protomodelsDict[3]\n",
    "muvals = np.linspace(-10,10,500)\n",
    "llhDictList = []\n",
    "print(protomodel)\n",
    "llhDict = getLikelihoods(protomodel,muvals)"
   ]
  },
  {
   "cell_type": "code",
   "execution_count": 10,
   "metadata": {},
   "outputs": [
    {
     "name": "stdout",
     "output_type": "stream",
     "text": [
      "['Combined', 'CMS-SUS-16-050', 'ATLAS-SUSY-2016-07', 'CMS-SUS-13-012', 'ATLAS-SUSY-2016-16', 'ATLAS-SUSY-2013-15', 'ATLAS-SUSY-2013-02']\n"
     ]
    }
   ],
   "source": [
    "sortedKeys = []\n",
    "for key in llhDict.keys():\n",
    "    if key == 'SM values' or key == 'Critic':\n",
    "        continue\n",
    "    else:\n",
    "        sortedKeys.append((llhDict[key].max()/llhDict['SM values'][key],key))\n",
    "sortedKeys = sorted(sortedKeys,reverse=True)\n",
    "sortedKeys = [pt[1] for pt in sortedKeys]\n",
    "print(sortedKeys)"
   ]
  },
  {
   "cell_type": "code",
   "execution_count": 11,
   "metadata": {},
   "outputs": [
    {
     "data": {
      "image/png": "[encoded data removed]",
      "text/plain": [
       "<Figure size 648x288 with 1 Axes>"
      ]
     },
     "metadata": {},
     "output_type": "display_data"
    }
   ],
   "source": [
    "fig = plt.figure(figsize=(9,4))\n",
    "for key in sortedKeys:\n",
    "    val = llhDict[key]\n",
    "    if key == 'Combined': ls = '-'\n",
    "    else: ls = '--'\n",
    "    plt.plot(muvals,val/llhDict['SM values'][key],label=key,linestyle=ls,linewidth=3)\n",
    "\n",
    "plt.axvline(x=protomodel.mumax,ymax=0.95,c='black',linestyle='-.',label=r'$\\mathdefault{\\mu_{max}}$',\n",
    "               linewidth=2.5)\n",
    "# tit = r'$'\n",
    "# tit += '\\mathdefault{K = %1.2f}$' %(protomodel.K)\n",
    "# plt.title(tit,fontsize=25)\n",
    "plt.xticks(np.linspace(0,5,6))\n",
    "plt.xlabel(r'$\\mathdefault{\\mu}$',fontsize=30)\n",
    "# plt.xaxis.set_tick_params(labelsize=25)\n",
    "# plt.yaxis.set_tick_params(labelsize=25)\n",
    "plt.ylabel(r'$\\mathdefault{\\mathrm{L}_{\\mathrm{BSM}}/\\mathrm{L}_{\\mathrm{SM}}}$',fontsize=30)\n",
    "plt.legend(loc=(1.01,0.05),framealpha=1,fontsize=13,labelspacing=0.6)\n",
    "plt.xlim(0,2.5)\n",
    "plt.ylim(1,2e3)\n",
    "plt.yscale('log')\n",
    "plt.tight_layout()\n",
    "plt.savefig('winner_likelihood.pdf')\n",
    "plt.savefig('winner_likelihood.png')\n",
    "plt.show()"
   ]
  },
  {
   "cell_type": "code",
   "execution_count": 12,
   "metadata": {},
   "outputs": [
    {
     "name": "stdout",
     "output_type": "stream",
     "text": [
      "[1000005, 1000022, 1000023, 1000024, 1000037, 1000021]\n"
     ]
    }
   ],
   "source": [
    "print(protomodel.possibledecays[1000006])"
   ]
  },
  {
   "cell_type": "code",
   "execution_count": null,
   "metadata": {},
   "outputs": [],
   "source": []
  }
 ],
 "metadata": {
  "kernelspec": {
   "display_name": "Python 3",
   "language": "python",
   "name": "python3"
  },
  "language_info": {
   "codemirror_mode": {
    "name": "ipython",
    "version": 3
   },
   "file_extension": ".py",
   "mimetype": "text/x-python",
   "name": "python",
   "nbconvert_exporter": "python",
   "pygments_lexer": "ipython3",
   "version": "3.8.2"
  }
 },
 "nbformat": 4,
 "nbformat_minor": 4
}

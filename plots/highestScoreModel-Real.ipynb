{
 "cells": [
  {
   "cell_type": "code",
   "execution_count": 1,
   "metadata": {},
   "outputs": [],
   "source": [
    "import sys,os,copy,glob\n",
    "import numpy as np\n",
    "sys.path.append(os.path.abspath('../smodels'))\n",
    "sys.path.append(os.path.abspath('../'))\n",
    "from builder.protomodel import ProtoModel\n",
    "from builder.manipulator import Manipulator\n",
    "from tester.predictor import Predictor\n",
    "from tester.combiner import Combiner\n",
    "from walker.hiscore import Hiscore\n",
    "from smodels.experiment.databaseObj import Database\n",
    "from smodels.tools import runtime\n",
    "from smodels.tools.physicsUnits import fb\n",
    "runtime._experimental = True\n",
    "import matplotlib.pyplot as plt\n",
    "import seaborn as sns\n",
    "import pandas as pd\n",
    "from names import particleLabels\n",
    "from sparticleNames import SParticleNames\n",
    "# sns.set() #Set style\n",
    "# sns.set_style('ticks')\n",
    "sns.set_style('ticks',{'font.family':'Times New Roman', 'font.serif':'Times New Roman'})\n",
    "sns.set_context('paper', font_scale=2.0)\n",
    "# sns.set_palette(sns.color_palette(\"Paired\"))\n",
    "sns.set_palette(sns.color_palette(\"deep\"))\n",
    "from smodels.tools import smodelsLogging\n",
    "smodelsLogging.setLogLevel('error')"
   ]
  },
  {
   "cell_type": "code",
   "execution_count": 2,
   "metadata": {},
   "outputs": [],
   "source": [
    "#Set colors:\n",
    "namer = SParticleNames ( susy = False )\n",
    "#Replace default colors:\n",
    "colorPalette = 'deep' #Set color palette for particles, if None use default\n",
    "colorDict = dict(zip(namer.names.keys(),sns.color_palette(palette=colorPalette,n_colors=len(namer.names))))"
   ]
  },
  {
   "cell_type": "code",
   "execution_count": 3,
   "metadata": {},
   "outputs": [],
   "source": [
    "def getLikelihoods(protomodel,muvals,normalize=True):\n",
    "    \n",
    "    #Sort tpList\n",
    "    critic = sorted(protomodel.tpList, key = lambda tp: tp[0], reverse = True)[0][2]\n",
    "\n",
    "    #Combiner likelihood:\n",
    "    combiner = Combiner(0)\n",
    "    llhComb = np.array([combiner.getCombinedLikelihood(protomodel.bestCombo,mu) for mu in muvals])\n",
    "    llhCombSM = combiner.getCombinedLikelihood(protomodel.bestCombo,0.)\n",
    "    llhDict = {'Combined' : llhComb}\n",
    "    llhDictSM = {'Combined' : llhCombSM}\n",
    "    for tp in protomodel.bestCombo:\n",
    "        llhDict[tp.expResult.globalInfo.id] = np.array([tp.getLikelihood(mu) for mu in muvals])\n",
    "        llhDictSM[tp.expResult.globalInfo.id] = tp.getLikelihood(0.0)\n",
    "\n",
    "    #Critic likelihood:\n",
    "    if critic.getLikelihood(1.0) is not None:\n",
    "        llhDictSM['Critic'] = critic.getLikelihood(0.0)\n",
    "        llhDict['Critic'] = np.array([critic.getLikelihood(mu) for mu in muvals])\n",
    "    else:\n",
    "        llhDict['Critic'] = None\n",
    "        llhDictSM['Critic'] = None\n",
    "    llhDict['SM values'] = llhDictSM\n",
    "    \n",
    "    #Compute normalizations:\n",
    "    if normalize:\n",
    "        for key,llhd in llhDict.items():\n",
    "            if key != 'SM values':\n",
    "                norm = llhd.sum()\n",
    "                llhDict[key] = llhd/norm\n",
    "                llhDict['SM values'][key] *= 1/norm\n",
    "    \n",
    "    \n",
    "    return llhDict\n"
   ]
  },
  {
   "cell_type": "code",
   "execution_count": 4,
   "metadata": {},
   "outputs": [],
   "source": [
    "def fromDict(inputDict):\n",
    "    \n",
    "    p = ProtoModel(walkerid=0)\n",
    "    for key,v in inputDict.items():\n",
    "        setattr(p,key,copy.deepcopy(v))\n",
    "        \n",
    "    return p"
   ]
  },
  {
   "cell_type": "code",
   "execution_count": 5,
   "metadata": {},
   "outputs": [],
   "source": [
    "#Get highest score from each run:\n",
    "protomodelsDict = {}\n",
    "for ff in glob.glob('../data/real9.dict'):\n",
    "    with open(ff,'r') as f:\n",
    "        pList = eval(f.read())\n",
    "    run = eval(os.path.basename(ff).replace('real','').replace('.dict',''))\n",
    "    pList = [fromDict(pDict) for pDict in pList[:]]\n",
    "    p = sorted(pList, key = lambda p: p.K, reverse=True)[0]\n",
    "    protomodelsDict[run] = p  "
   ]
  },
  {
   "cell_type": "code",
   "execution_count": 6,
   "metadata": {},
   "outputs": [
    {
     "name": "stdout",
     "output_type": "stream",
     "text": [
      "9 ProtoModel (XZ1,Xd,Xt): K = 6.90, Z = 3.24\n",
      "K (avg) = 6.90 +- 0.00\n"
     ]
    }
   ],
   "source": [
    "for run in sorted(protomodelsDict.keys()):\n",
    "    print(run,protomodelsDict[run])\n",
    "    \n",
    "Kavg = np.array([p.K for p in protomodelsDict.values()]).mean()\n",
    "Kstd = np.array([p.K for p in protomodelsDict.values()]).std()\n",
    "print('K (avg) = %1.2f +- %1.2f' %(Kavg,Kstd))"
   ]
  },
  {
   "cell_type": "code",
   "execution_count": 7,
   "metadata": {},
   "outputs": [
    {
     "name": "stdout",
     "output_type": "stream",
     "text": [
      "(1000022, 1000022) 0.003\n",
      "(1000001, 1000001) 0.493\n",
      "(-1000001, 1000001) 0.492\n",
      "(-1000001, -1000001) 0.493\n",
      "(1000001, 1000022) 0.493\n",
      "(-1000001, 1000022) 0.493\n",
      "(1000006, 1000006) 1.325\n",
      "(-1000006, 1000006) 1.226\n",
      "(-1000006, -1000006) 1.11\n",
      "(1000006, 1000022) 1.226\n",
      "(-1000006, 1000022) 1.11\n",
      "(1000001, 1000006) 1.11\n",
      "(-1000006, 1000001) 1.11\n",
      "(-1000001, 1000006) 1.11\n",
      "(-1000006, -1000001) 1.11\n",
      "{1000022: 162.552, 1000001: 734.948, 1000006: 1165.865}\n"
     ]
    }
   ],
   "source": [
    "protomodel = protomodelsDict[9]\n",
    "for pids, ssm in protomodel.ssmultipliers.items():\n",
    "    if not ssm: continue\n",
    "    print(pids,ssm)\n",
    "print(protomodel.masses)    "
   ]
  },
  {
   "cell_type": "code",
   "execution_count": 12,
   "metadata": {},
   "outputs": [
    {
     "name": "stderr",
     "output_type": "stream",
     "text": [
      "combination #0/216   0%|                                        |ETA:  --:--:--\r"
     ]
    },
    {
     "name": "stdout",
     "output_type": "stream",
     "text": [
      "[combine:0] selected predictions down via SRs from 242 to 18.\n",
      "[combine:0] sorting out subsets, reduced 1493 -> 216 combinations.\n"
     ]
    },
    {
     "name": "stderr",
     "output_type": "stream",
     "text": [
      "combination #216/216 100%|||||||||||||||||||||||||||||||||||||||||Time: 0:00:19\n"
     ]
    },
    {
     "name": "stdout",
     "output_type": "stream",
     "text": [
      "900.0 1.1181675589789561\n"
     ]
    },
    {
     "name": "stderr",
     "output_type": "stream",
     "text": [
      "combination #2/108   1%|                                         |ETA:  0:00:08\r"
     ]
    },
    {
     "name": "stdout",
     "output_type": "stream",
     "text": [
      "[combine:0] selected predictions down via SRs from 238 to 17.\n",
      "[combine:0] sorting out subsets, reduced 990 -> 108 combinations.\n"
     ]
    },
    {
     "name": "stderr",
     "output_type": "stream",
     "text": [
      "combination #108/108 100%|||||||||||||||||||||||||||||||||||||||||Time: 0:00:11\n"
     ]
    },
    {
     "name": "stdout",
     "output_type": "stream",
     "text": [
      "926.3157894736842 2.3985687955186377\n"
     ]
    },
    {
     "name": "stderr",
     "output_type": "stream",
     "text": [
      "combination #1/96   1%|                                          |ETA:  0:00:13\r"
     ]
    },
    {
     "name": "stdout",
     "output_type": "stream",
     "text": [
      "[combine:0] selected predictions down via SRs from 236 to 16.\n",
      "[combine:0] sorting out subsets, reduced 919 -> 96 combinations.\n"
     ]
    },
    {
     "name": "stderr",
     "output_type": "stream",
     "text": [
      "combination #96/96 100%|||||||||||||||||||||||||||||||||||||||||||Time: 0:00:13\n"
     ]
    },
    {
     "name": "stdout",
     "output_type": "stream",
     "text": [
      "952.6315789473684 2.898599502299068\n"
     ]
    },
    {
     "name": "stderr",
     "output_type": "stream",
     "text": [
      "combination #1/96   1%|                                          |ETA:  0:00:14\r"
     ]
    },
    {
     "name": "stdout",
     "output_type": "stream",
     "text": [
      "[combine:0] selected predictions down via SRs from 234 to 16.\n",
      "[combine:0] sorting out subsets, reduced 919 -> 96 combinations.\n"
     ]
    },
    {
     "name": "stderr",
     "output_type": "stream",
     "text": [
      "combination #96/96 100%|||||||||||||||||||||||||||||||||||||||||||Time: 0:00:14\n"
     ]
    },
    {
     "name": "stdout",
     "output_type": "stream",
     "text": [
      "978.9473684210526 3.3244195849519436\n"
     ]
    },
    {
     "name": "stderr",
     "output_type": "stream",
     "text": [
      "combination #1/48   2%|                                          |ETA:  0:00:07\r"
     ]
    },
    {
     "name": "stdout",
     "output_type": "stream",
     "text": [
      "[combine:0] selected predictions down via SRs from 208 to 15.\n",
      "[combine:0] sorting out subsets, reduced 608 -> 48 combinations.\n"
     ]
    },
    {
     "name": "stderr",
     "output_type": "stream",
     "text": [
      "combination #48/48 100%|||||||||||||||||||||||||||||||||||||||||||Time: 0:00:07\n",
      "combination #1/48   2%|                                          |ETA:  0:00:04\r"
     ]
    },
    {
     "name": "stdout",
     "output_type": "stream",
     "text": [
      "[combine:0] selected predictions down via SRs from 208 to 15.\n",
      "[combine:0] sorting out subsets, reduced 608 -> 48 combinations.\n"
     ]
    },
    {
     "name": "stderr",
     "output_type": "stream",
     "text": [
      "combination #48/48 100%|||||||||||||||||||||||||||||||||||||||||||Time: 0:00:05\n"
     ]
    },
    {
     "name": "stdout",
     "output_type": "stream",
     "text": [
      "1005.2631578947369 3.778402833002642\n"
     ]
    },
    {
     "name": "stderr",
     "output_type": "stream",
     "text": [
      "combination #1/42   2%|/                                         |ETA:  0:00:04\r"
     ]
    },
    {
     "name": "stdout",
     "output_type": "stream",
     "text": [
      "[combine:0] selected predictions down via SRs from 208 to 15.\n",
      "[combine:0] sorting out subsets, reduced 512 -> 42 combinations.\n"
     ]
    },
    {
     "name": "stderr",
     "output_type": "stream",
     "text": [
      "combination #42/42 100%|||||||||||||||||||||||||||||||||||||||||||Time: 0:00:04\n",
      "combination #1/42   2%|/                                         |ETA:  0:00:04\r"
     ]
    },
    {
     "name": "stdout",
     "output_type": "stream",
     "text": [
      "[combine:0] selected predictions down via SRs from 208 to 15.\n",
      "[combine:0] sorting out subsets, reduced 512 -> 42 combinations.\n"
     ]
    },
    {
     "name": "stderr",
     "output_type": "stream",
     "text": [
      "combination #42/42 100%|||||||||||||||||||||||||||||||||||||||||||Time: 0:00:04\n"
     ]
    },
    {
     "name": "stdout",
     "output_type": "stream",
     "text": [
      "1031.578947368421 4.306585981540766\n"
     ]
    },
    {
     "name": "stderr",
     "output_type": "stream",
     "text": [
      "combination #1/42   2%|/                                         |ETA:  0:00:03\r"
     ]
    },
    {
     "name": "stdout",
     "output_type": "stream",
     "text": [
      "[combine:0] selected predictions down via SRs from 208 to 15.\n",
      "[combine:0] sorting out subsets, reduced 512 -> 42 combinations.\n"
     ]
    },
    {
     "name": "stderr",
     "output_type": "stream",
     "text": [
      "combination #42/42 100%|||||||||||||||||||||||||||||||||||||||||||Time: 0:00:04\n",
      "combination #1/42   2%|/                                         |ETA:  0:00:04\r"
     ]
    },
    {
     "name": "stdout",
     "output_type": "stream",
     "text": [
      "[combine:0] selected predictions down via SRs from 208 to 15.\n",
      "[combine:0] sorting out subsets, reduced 512 -> 42 combinations.\n"
     ]
    },
    {
     "name": "stderr",
     "output_type": "stream",
     "text": [
      "combination #42/42 100%|||||||||||||||||||||||||||||||||||||||||||Time: 0:00:04\n"
     ]
    },
    {
     "name": "stdout",
     "output_type": "stream",
     "text": [
      "1057.8947368421052 4.957888500735142\n"
     ]
    },
    {
     "name": "stderr",
     "output_type": "stream",
     "text": [
      "combination #1/42   2%|/                                         |ETA:  0:00:03\r"
     ]
    },
    {
     "name": "stdout",
     "output_type": "stream",
     "text": [
      "[combine:0] selected predictions down via SRs from 208 to 15.\n",
      "[combine:0] sorting out subsets, reduced 512 -> 42 combinations.\n"
     ]
    },
    {
     "name": "stderr",
     "output_type": "stream",
     "text": [
      "combination #42/42 100%|||||||||||||||||||||||||||||||||||||||||||Time: 0:00:04\n",
      "combination #2/42   4%|--                                        |ETA:  0:00:03\r"
     ]
    },
    {
     "name": "stdout",
     "output_type": "stream",
     "text": [
      "[combine:0] selected predictions down via SRs from 208 to 15.\n",
      "[combine:0] sorting out subsets, reduced 512 -> 42 combinations.\n"
     ]
    },
    {
     "name": "stderr",
     "output_type": "stream",
     "text": [
      "combination #42/42 100%|||||||||||||||||||||||||||||||||||||||||||Time: 0:00:04\n"
     ]
    },
    {
     "name": "stdout",
     "output_type": "stream",
     "text": [
      "1084.2105263157894 5.532823179615316\n"
     ]
    },
    {
     "name": "stderr",
     "output_type": "stream",
     "text": [
      "combination #1/42   2%|/                                         |ETA:  0:00:04\r"
     ]
    },
    {
     "name": "stdout",
     "output_type": "stream",
     "text": [
      "[combine:0] selected predictions down via SRs from 208 to 15.\n",
      "[combine:0] sorting out subsets, reduced 512 -> 42 combinations.\n"
     ]
    },
    {
     "name": "stderr",
     "output_type": "stream",
     "text": [
      "combination #42/42 100%|||||||||||||||||||||||||||||||||||||||||||Time: 0:00:04\n",
      "combination #1/42   2%|/                                         |ETA:  0:00:04\r"
     ]
    },
    {
     "name": "stdout",
     "output_type": "stream",
     "text": [
      "[combine:0] selected predictions down via SRs from 208 to 15.\n",
      "[combine:0] sorting out subsets, reduced 512 -> 42 combinations.\n"
     ]
    },
    {
     "name": "stderr",
     "output_type": "stream",
     "text": [
      "combination #42/42 100%|||||||||||||||||||||||||||||||||||||||||||Time: 0:00:04\n"
     ]
    },
    {
     "name": "stdout",
     "output_type": "stream",
     "text": [
      "1110.5263157894738 6.015222616415007\n"
     ]
    },
    {
     "name": "stderr",
     "output_type": "stream",
     "text": [
      "combination #1/42   2%|/                                         |ETA:  0:00:03\r"
     ]
    },
    {
     "name": "stdout",
     "output_type": "stream",
     "text": [
      "[combine:0] selected predictions down via SRs from 208 to 15.\n",
      "[combine:0] sorting out subsets, reduced 512 -> 42 combinations.\n"
     ]
    },
    {
     "name": "stderr",
     "output_type": "stream",
     "text": [
      "combination #42/42 100%|||||||||||||||||||||||||||||||||||||||||||Time: 0:00:04\n",
      "combination #1/42   2%|/                                         |ETA:  0:00:04\r"
     ]
    },
    {
     "name": "stdout",
     "output_type": "stream",
     "text": [
      "[combine:0] selected predictions down via SRs from 208 to 15.\n",
      "[combine:0] sorting out subsets, reduced 512 -> 42 combinations.\n"
     ]
    },
    {
     "name": "stderr",
     "output_type": "stream",
     "text": [
      "combination #42/42 100%|||||||||||||||||||||||||||||||||||||||||||Time: 0:00:04\n"
     ]
    },
    {
     "name": "stdout",
     "output_type": "stream",
     "text": [
      "1136.842105263158 6.289998918979118\n"
     ]
    },
    {
     "name": "stderr",
     "output_type": "stream",
     "text": [
      "combination #1/42   2%|/                                         |ETA:  0:00:04\r"
     ]
    },
    {
     "name": "stdout",
     "output_type": "stream",
     "text": [
      "[combine:0] selected predictions down via SRs from 208 to 15.\n",
      "[combine:0] sorting out subsets, reduced 512 -> 42 combinations.\n"
     ]
    },
    {
     "name": "stderr",
     "output_type": "stream",
     "text": [
      "combination #42/42 100%|||||||||||||||||||||||||||||||||||||||||||Time: 0:00:05\n",
      "combination #1/42   2%|/                                         |ETA:  0:00:04\r"
     ]
    },
    {
     "name": "stdout",
     "output_type": "stream",
     "text": [
      "[combine:0] selected predictions down via SRs from 208 to 15.\n",
      "[combine:0] sorting out subsets, reduced 512 -> 42 combinations.\n"
     ]
    },
    {
     "name": "stderr",
     "output_type": "stream",
     "text": [
      "combination #42/42 100%|||||||||||||||||||||||||||||||||||||||||||Time: 0:00:05\n"
     ]
    },
    {
     "name": "stdout",
     "output_type": "stream",
     "text": [
      "1163.157894736842 6.852898654197731\n"
     ]
    },
    {
     "name": "stderr",
     "output_type": "stream",
     "text": [
      "combination #1/48   2%|                                          |ETA:  0:00:06\r"
     ]
    },
    {
     "name": "stdout",
     "output_type": "stream",
     "text": [
      "[combine:0] selected predictions down via SRs from 206 to 15.\n",
      "[combine:0] sorting out subsets, reduced 608 -> 48 combinations.\n"
     ]
    },
    {
     "name": "stderr",
     "output_type": "stream",
     "text": [
      "combination #48/48 100%|||||||||||||||||||||||||||||||||||||||||||Time: 0:00:07\n",
      "combination #1/48   2%|                                          |ETA:  0:00:05\r"
     ]
    },
    {
     "name": "stdout",
     "output_type": "stream",
     "text": [
      "[combine:0] selected predictions down via SRs from 206 to 15.\n",
      "[combine:0] sorting out subsets, reduced 608 -> 48 combinations.\n"
     ]
    },
    {
     "name": "stderr",
     "output_type": "stream",
     "text": [
      "combination #48/48 100%|||||||||||||||||||||||||||||||||||||||||||Time: 0:00:07\n"
     ]
    },
    {
     "name": "stdout",
     "output_type": "stream",
     "text": [
      "1189.4736842105262 6.95856003475861\n"
     ]
    },
    {
     "name": "stderr",
     "output_type": "stream",
     "text": [
      "combination #2/36   5%|--                                        |ETA:  0:00:03\r"
     ]
    },
    {
     "name": "stdout",
     "output_type": "stream",
     "text": [
      "[combine:0] selected predictions down via SRs from 200 to 13.\n",
      "[combine:0] sorting out subsets, reduced 322 -> 36 combinations.\n"
     ]
    },
    {
     "name": "stderr",
     "output_type": "stream",
     "text": [
      "combination #36/36 100%|||||||||||||||||||||||||||||||||||||||||||Time: 0:00:05\n",
      "combination #1/36   2%|/                                         |ETA:  0:00:03\r"
     ]
    },
    {
     "name": "stdout",
     "output_type": "stream",
     "text": [
      "[combine:0] selected predictions down via SRs from 200 to 13.\n",
      "[combine:0] sorting out subsets, reduced 322 -> 36 combinations.\n"
     ]
    },
    {
     "name": "stderr",
     "output_type": "stream",
     "text": [
      "combination #36/36 100%|||||||||||||||||||||||||||||||||||||||||||Time: 0:00:05\n"
     ]
    },
    {
     "name": "stdout",
     "output_type": "stream",
     "text": [
      "1215.7894736842104 6.66303281131825\n"
     ]
    },
    {
     "name": "stderr",
     "output_type": "stream",
     "text": [
      "combination #1/30   3%|/                                         |ETA:  0:00:03\r"
     ]
    },
    {
     "name": "stdout",
     "output_type": "stream",
     "text": [
      "[combine:0] selected predictions down via SRs from 198 to 12.\n",
      "[combine:0] sorting out subsets, reduced 275 -> 30 combinations.\n"
     ]
    },
    {
     "name": "stderr",
     "output_type": "stream",
     "text": [
      "combination #30/30 100%|||||||||||||||||||||||||||||||||||||||||||Time: 0:00:03\n",
      "combination #1/30   3%|/                                         |ETA:  0:00:02\r"
     ]
    },
    {
     "name": "stdout",
     "output_type": "stream",
     "text": [
      "[combine:0] selected predictions down via SRs from 198 to 12.\n",
      "[combine:0] sorting out subsets, reduced 275 -> 30 combinations.\n"
     ]
    },
    {
     "name": "stderr",
     "output_type": "stream",
     "text": [
      "combination #30/30 100%|||||||||||||||||||||||||||||||||||||||||||Time: 0:00:03\n"
     ]
    },
    {
     "name": "stdout",
     "output_type": "stream",
     "text": [
      "1242.1052631578948 5.071273735631263\n"
     ]
    },
    {
     "name": "stderr",
     "output_type": "stream",
     "text": [
      "combination #2/30   6%|--                                        |ETA:  0:00:02\r"
     ]
    },
    {
     "name": "stdout",
     "output_type": "stream",
     "text": [
      "[combine:0] selected predictions down via SRs from 198 to 12.\n",
      "[combine:0] sorting out subsets, reduced 275 -> 30 combinations.\n"
     ]
    },
    {
     "name": "stderr",
     "output_type": "stream",
     "text": [
      "combination #30/30 100%|||||||||||||||||||||||||||||||||||||||||||Time: 0:00:04\n",
      "combination #2/30   6%|--                                        |ETA:  0:00:02\r"
     ]
    },
    {
     "name": "stdout",
     "output_type": "stream",
     "text": [
      "[combine:0] selected predictions down via SRs from 198 to 12.\n",
      "[combine:0] sorting out subsets, reduced 275 -> 30 combinations.\n"
     ]
    },
    {
     "name": "stderr",
     "output_type": "stream",
     "text": [
      "combination #30/30 100%|||||||||||||||||||||||||||||||||||||||||||Time: 0:00:04\n"
     ]
    },
    {
     "name": "stdout",
     "output_type": "stream",
     "text": [
      "1268.421052631579 4.857500150078384\n"
     ]
    },
    {
     "name": "stderr",
     "output_type": "stream",
     "text": [
      "combination #2/30   6%|--                                        |ETA:  0:00:02\r"
     ]
    },
    {
     "name": "stdout",
     "output_type": "stream",
     "text": [
      "[combine:0] selected predictions down via SRs from 198 to 12.\n",
      "[combine:0] sorting out subsets, reduced 275 -> 30 combinations.\n"
     ]
    },
    {
     "name": "stderr",
     "output_type": "stream",
     "text": [
      "combination #30/30 100%|||||||||||||||||||||||||||||||||||||||||||Time: 0:00:03\n",
      "combination #2/30   6%|--                                        |ETA:  0:00:02\r"
     ]
    },
    {
     "name": "stdout",
     "output_type": "stream",
     "text": [
      "[combine:0] selected predictions down via SRs from 198 to 12.\n",
      "[combine:0] sorting out subsets, reduced 275 -> 30 combinations.\n"
     ]
    },
    {
     "name": "stderr",
     "output_type": "stream",
     "text": [
      "combination #30/30 100%|||||||||||||||||||||||||||||||||||||||||||Time: 0:00:03\n"
     ]
    },
    {
     "name": "stdout",
     "output_type": "stream",
     "text": [
      "1294.7368421052631 4.716199128568232\n"
     ]
    },
    {
     "name": "stderr",
     "output_type": "stream",
     "text": [
      "combination #3/30  10%|\\\\\\\\                                      |ETA:  0:00:01\r"
     ]
    },
    {
     "name": "stdout",
     "output_type": "stream",
     "text": [
      "[combine:0] selected predictions down via SRs from 196 to 11.\n",
      "[combine:0] sorting out subsets, reduced 132 -> 30 combinations.\n"
     ]
    },
    {
     "name": "stderr",
     "output_type": "stream",
     "text": [
      "combination #30/30 100%|||||||||||||||||||||||||||||||||||||||||||Time: 0:00:02\n"
     ]
    },
    {
     "name": "stdout",
     "output_type": "stream",
     "text": [
      "1321.0526315789473 2.5024283115500303\n"
     ]
    },
    {
     "name": "stderr",
     "output_type": "stream",
     "text": [
      "combination #3/30  10%|\\\\\\\\                                      |ETA:  0:00:01\r"
     ]
    },
    {
     "name": "stdout",
     "output_type": "stream",
     "text": [
      "[combine:0] selected predictions down via SRs from 196 to 11.\n",
      "[combine:0] sorting out subsets, reduced 132 -> 30 combinations.\n"
     ]
    },
    {
     "name": "stderr",
     "output_type": "stream",
     "text": [
      "combination #30/30 100%|||||||||||||||||||||||||||||||||||||||||||Time: 0:00:04\n"
     ]
    },
    {
     "name": "stdout",
     "output_type": "stream",
     "text": [
      "1347.3684210526317 2.349237274042065\n"
     ]
    },
    {
     "name": "stderr",
     "output_type": "stream",
     "text": [
      "combination #5/30  16%|///////                                   |ETA:  0:00:00\r"
     ]
    },
    {
     "name": "stdout",
     "output_type": "stream",
     "text": [
      "[combine:0] selected predictions down via SRs from 196 to 11.\n",
      "[combine:0] sorting out subsets, reduced 132 -> 30 combinations.\n"
     ]
    },
    {
     "name": "stderr",
     "output_type": "stream",
     "text": [
      "combination #30/30 100%|||||||||||||||||||||||||||||||||||||||||||Time: 0:00:02\n"
     ]
    },
    {
     "name": "stdout",
     "output_type": "stream",
     "text": [
      "1373.6842105263158 2.23255415034539\n"
     ]
    },
    {
     "name": "stderr",
     "output_type": "stream",
     "text": [
      "combination #4/30  13%||||||                                     |ETA:  0:00:01\r"
     ]
    },
    {
     "name": "stdout",
     "output_type": "stream",
     "text": [
      "[combine:0] selected predictions down via SRs from 196 to 11.\n",
      "[combine:0] sorting out subsets, reduced 132 -> 30 combinations.\n"
     ]
    },
    {
     "name": "stderr",
     "output_type": "stream",
     "text": [
      "combination #30/30 100%|||||||||||||||||||||||||||||||||||||||||||Time: 0:00:03\r"
     ]
    },
    {
     "name": "stdout",
     "output_type": "stream",
     "text": [
      "1400.0 2.104655081690499\n"
     ]
    },
    {
     "name": "stderr",
     "output_type": "stream",
     "text": [
      "\n"
     ]
    }
   ],
   "source": [
    "run = 9\n",
    "p = protomodelsDict[run]\n",
    "mXt = np.linspace(900.,1400.,20)\n",
    "pList = []\n",
    "pred = Predictor(walkerid=0,dbpath='../official124_smodels200.pcl')\n",
    "for mass in mXt:\n",
    "    protomodel = copy.deepcopy(p)\n",
    "    protomodel.masses[1000006] = mass\n",
    "    #Get predictions:\n",
    "    res = pred.predict(protomodel)\n",
    "    pList.append(protomodel)\n",
    "    print(mass,protomodel.K)"
   ]
  },
  {
   "cell_type": "code",
   "execution_count": 13,
   "metadata": {},
   "outputs": [],
   "source": [
    "kvalues = [pp.K for pp in pList]"
   ]
  },
  {
   "cell_type": "code",
   "execution_count": 14,
   "metadata": {},
   "outputs": [
    {
     "data": {
      "image/png": "[encoded data removed]",
      "text/plain": [
       "<Figure size 432x288 with 1 Axes>"
      ]
     },
     "metadata": {},
     "output_type": "display_data"
    }
   ],
   "source": [
    "plt.plot(mXt,kvalues,'o-')\n",
    "plt.xlabel(r'$m(X_t^1)$')\n",
    "plt.ylabel(r'$K$')\n",
    "plt.savefig('KvsMXt.png')\n",
    "plt.show()"
   ]
  },
  {
   "cell_type": "code",
   "execution_count": 15,
   "metadata": {},
   "outputs": [
    {
     "name": "stderr",
     "output_type": "stream",
     "text": [
      "combination #1/42   2%|/                                         |ETA:  0:00:05\r"
     ]
    },
    {
     "name": "stdout",
     "output_type": "stream",
     "text": [
      "[combine:0] selected predictions down via SRs from 208 to 15.\n",
      "[combine:0] sorting out subsets, reduced 512 -> 42 combinations.\n"
     ]
    },
    {
     "name": "stderr",
     "output_type": "stream",
     "text": [
      "combination #42/42 100%|||||||||||||||||||||||||||||||||||||||||||Time: 0:00:04\n",
      "combination #1/42   2%|/                                         |ETA:  0:00:04\r"
     ]
    },
    {
     "name": "stdout",
     "output_type": "stream",
     "text": [
      "[combine:0] selected predictions down via SRs from 208 to 15.\n",
      "[combine:0] sorting out subsets, reduced 512 -> 42 combinations.\n"
     ]
    },
    {
     "name": "stderr",
     "output_type": "stream",
     "text": [
      "combination #42/42 100%|||||||||||||||||||||||||||||||||||||||||||Time: 0:00:04\n",
      "combination #1/42   2%|/                                         |ETA:  0:00:05\r"
     ]
    },
    {
     "name": "stdout",
     "output_type": "stream",
     "text": [
      "[combine:0] selected predictions down via SRs from 210 to 15.\n",
      "[combine:0] sorting out subsets, reduced 512 -> 42 combinations.\n"
     ]
    },
    {
     "name": "stderr",
     "output_type": "stream",
     "text": [
      "combination #42/42 100%|||||||||||||||||||||||||||||||||||||||||||Time: 0:00:05\n",
      "combination #1/42   2%|/                                         |ETA:  0:00:05\r"
     ]
    },
    {
     "name": "stdout",
     "output_type": "stream",
     "text": [
      "[combine:0] selected predictions down via SRs from 210 to 15.\n",
      "[combine:0] sorting out subsets, reduced 512 -> 42 combinations.\n"
     ]
    },
    {
     "name": "stderr",
     "output_type": "stream",
     "text": [
      "combination #42/42 100%|||||||||||||||||||||||||||||||||||||||||||Time: 0:00:05\n",
      "combination #1/42   2%|/                                         |ETA:  0:00:04\r"
     ]
    },
    {
     "name": "stdout",
     "output_type": "stream",
     "text": [
      "[combine:0] selected predictions down via SRs from 210 to 15.\n",
      "[combine:0] sorting out subsets, reduced 512 -> 42 combinations.\n"
     ]
    },
    {
     "name": "stderr",
     "output_type": "stream",
     "text": [
      "combination #42/42 100%|||||||||||||||||||||||||||||||||||||||||||Time: 0:00:04\n",
      "combination #1/42   2%|/                                         |ETA:  0:00:04\r"
     ]
    },
    {
     "name": "stdout",
     "output_type": "stream",
     "text": [
      "[combine:0] selected predictions down via SRs from 210 to 15.\n",
      "[combine:0] sorting out subsets, reduced 512 -> 42 combinations.\n"
     ]
    },
    {
     "name": "stderr",
     "output_type": "stream",
     "text": [
      "combination #42/42 100%|||||||||||||||||||||||||||||||||||||||||||Time: 0:00:04\n",
      "combination #1/42   2%|/                                         |ETA:  0:00:04\r"
     ]
    },
    {
     "name": "stdout",
     "output_type": "stream",
     "text": [
      "[combine:0] selected predictions down via SRs from 210 to 15.\n",
      "[combine:0] sorting out subsets, reduced 512 -> 42 combinations.\n"
     ]
    },
    {
     "name": "stderr",
     "output_type": "stream",
     "text": [
      "combination #42/42 100%|||||||||||||||||||||||||||||||||||||||||||Time: 0:00:04\n",
      "combination #1/42   2%|/                                         |ETA:  0:00:04\r"
     ]
    },
    {
     "name": "stdout",
     "output_type": "stream",
     "text": [
      "[combine:0] selected predictions down via SRs from 210 to 15.\n",
      "[combine:0] sorting out subsets, reduced 512 -> 42 combinations.\n"
     ]
    },
    {
     "name": "stderr",
     "output_type": "stream",
     "text": [
      "combination #42/42 100%|||||||||||||||||||||||||||||||||||||||||||Time: 0:00:04\n",
      "combination #1/42   2%|/                                         |ETA:  0:00:05\r"
     ]
    },
    {
     "name": "stdout",
     "output_type": "stream",
     "text": [
      "[combine:0] selected predictions down via SRs from 208 to 15.\n",
      "[combine:0] sorting out subsets, reduced 512 -> 42 combinations.\n"
     ]
    },
    {
     "name": "stderr",
     "output_type": "stream",
     "text": [
      "combination #42/42 100%|||||||||||||||||||||||||||||||||||||||||||Time: 0:00:04\n",
      "combination #1/42   2%|/                                         |ETA:  0:00:06\r"
     ]
    },
    {
     "name": "stdout",
     "output_type": "stream",
     "text": [
      "[combine:0] selected predictions down via SRs from 208 to 15.\n",
      "[combine:0] sorting out subsets, reduced 512 -> 42 combinations.\n"
     ]
    },
    {
     "name": "stderr",
     "output_type": "stream",
     "text": [
      "combination #42/42 100%|||||||||||||||||||||||||||||||||||||||||||Time: 0:00:04\n",
      "combination #1/42   2%|/                                         |ETA:  0:00:04\r"
     ]
    },
    {
     "name": "stdout",
     "output_type": "stream",
     "text": [
      "[combine:0] selected predictions down via SRs from 208 to 15.\n",
      "[combine:0] sorting out subsets, reduced 512 -> 42 combinations.\n"
     ]
    },
    {
     "name": "stderr",
     "output_type": "stream",
     "text": [
      "combination #42/42 100%|||||||||||||||||||||||||||||||||||||||||||Time: 0:00:04\n",
      "combination #2/42   4%|--                                        |ETA:  0:00:03\r"
     ]
    },
    {
     "name": "stdout",
     "output_type": "stream",
     "text": [
      "[combine:0] selected predictions down via SRs from 208 to 15.\n",
      "[combine:0] sorting out subsets, reduced 512 -> 42 combinations.\n"
     ]
    },
    {
     "name": "stderr",
     "output_type": "stream",
     "text": [
      "combination #42/42 100%|||||||||||||||||||||||||||||||||||||||||||Time: 0:00:04\n",
      "combination #1/42   2%|/                                         |ETA:  0:00:04\r"
     ]
    },
    {
     "name": "stdout",
     "output_type": "stream",
     "text": [
      "[combine:0] selected predictions down via SRs from 208 to 15.\n",
      "[combine:0] sorting out subsets, reduced 512 -> 42 combinations.\n"
     ]
    },
    {
     "name": "stderr",
     "output_type": "stream",
     "text": [
      "combination #42/42 100%|||||||||||||||||||||||||||||||||||||||||||Time: 0:00:04\n",
      "combination #2/42   4%|--                                        |ETA:  0:00:03\r"
     ]
    },
    {
     "name": "stdout",
     "output_type": "stream",
     "text": [
      "[combine:0] selected predictions down via SRs from 208 to 15.\n",
      "[combine:0] sorting out subsets, reduced 512 -> 42 combinations.\n"
     ]
    },
    {
     "name": "stderr",
     "output_type": "stream",
     "text": [
      "combination #42/42 100%|||||||||||||||||||||||||||||||||||||||||||Time: 0:00:03\n",
      "combination #2/48   4%|-                                         |ETA:  0:00:04\r"
     ]
    },
    {
     "name": "stdout",
     "output_type": "stream",
     "text": [
      "[combine:0] selected predictions down via SRs from 208 to 15.\n",
      "[combine:0] sorting out subsets, reduced 416 -> 48 combinations.\n"
     ]
    },
    {
     "name": "stderr",
     "output_type": "stream",
     "text": [
      "combination #48/48 100%|||||||||||||||||||||||||||||||||||||||||||Time: 0:00:05\n",
      "combination #3/48   6%|\\\\                                        |ETA:  0:00:02\r"
     ]
    },
    {
     "name": "stdout",
     "output_type": "stream",
     "text": [
      "[combine:0] selected predictions down via SRs from 208 to 15.\n",
      "[combine:0] sorting out subsets, reduced 416 -> 48 combinations.\n"
     ]
    },
    {
     "name": "stderr",
     "output_type": "stream",
     "text": [
      "combination #48/48 100%|||||||||||||||||||||||||||||||||||||||||||Time: 0:00:04\n",
      "combination #2/48   4%|-                                         |ETA:  0:00:03\r"
     ]
    },
    {
     "name": "stdout",
     "output_type": "stream",
     "text": [
      "[combine:0] selected predictions down via SRs from 210 to 15.\n",
      "[combine:0] sorting out subsets, reduced 416 -> 48 combinations.\n"
     ]
    },
    {
     "name": "stderr",
     "output_type": "stream",
     "text": [
      "combination #48/48 100%|||||||||||||||||||||||||||||||||||||||||||Time: 0:00:04\n",
      "combination #3/48   6%|\\\\                                        |ETA:  0:00:02\r"
     ]
    },
    {
     "name": "stdout",
     "output_type": "stream",
     "text": [
      "[combine:0] selected predictions down via SRs from 210 to 15.\n",
      "[combine:0] sorting out subsets, reduced 416 -> 48 combinations.\n"
     ]
    },
    {
     "name": "stderr",
     "output_type": "stream",
     "text": [
      "combination #48/48 100%|||||||||||||||||||||||||||||||||||||||||||Time: 0:00:04\n",
      "combination #3/48   6%|\\\\                                        |ETA:  0:00:02\r"
     ]
    },
    {
     "name": "stdout",
     "output_type": "stream",
     "text": [
      "[combine:0] selected predictions down via SRs from 210 to 15.\n",
      "[combine:0] sorting out subsets, reduced 416 -> 48 combinations.\n"
     ]
    },
    {
     "name": "stderr",
     "output_type": "stream",
     "text": [
      "combination #48/48 100%|||||||||||||||||||||||||||||||||||||||||||Time: 0:00:04\n",
      "combination #3/48   6%|\\\\                                        |ETA:  0:00:02\r"
     ]
    },
    {
     "name": "stdout",
     "output_type": "stream",
     "text": [
      "[combine:0] selected predictions down via SRs from 210 to 15.\n",
      "[combine:0] sorting out subsets, reduced 416 -> 48 combinations.\n"
     ]
    },
    {
     "name": "stderr",
     "output_type": "stream",
     "text": [
      "combination #48/48 100%|||||||||||||||||||||||||||||||||||||||||||Time: 0:00:04\n",
      "combination #3/48   6%|\\\\                                        |ETA:  0:00:02\r"
     ]
    },
    {
     "name": "stdout",
     "output_type": "stream",
     "text": [
      "[combine:0] selected predictions down via SRs from 210 to 15.\n",
      "[combine:0] sorting out subsets, reduced 416 -> 48 combinations.\n"
     ]
    },
    {
     "name": "stderr",
     "output_type": "stream",
     "text": [
      "combination #48/48 100%|||||||||||||||||||||||||||||||||||||||||||Time: 0:00:03\n",
      "combination #3/48   6%|\\\\                                        |ETA:  0:00:02\r"
     ]
    },
    {
     "name": "stdout",
     "output_type": "stream",
     "text": [
      "[combine:0] selected predictions down via SRs from 210 to 15.\n",
      "[combine:0] sorting out subsets, reduced 416 -> 48 combinations.\n"
     ]
    },
    {
     "name": "stderr",
     "output_type": "stream",
     "text": [
      "combination #48/48 100%|||||||||||||||||||||||||||||||||||||||||||Time: 0:00:04\n",
      "combination #3/48   6%|\\\\                                        |ETA:  0:00:02\r"
     ]
    },
    {
     "name": "stdout",
     "output_type": "stream",
     "text": [
      "[combine:0] selected predictions down via SRs from 210 to 15.\n",
      "[combine:0] sorting out subsets, reduced 416 -> 48 combinations.\n"
     ]
    },
    {
     "name": "stderr",
     "output_type": "stream",
     "text": [
      "combination #48/48 100%|||||||||||||||||||||||||||||||||||||||||||Time: 0:00:04\n",
      "combination #3/48   6%|\\\\                                        |ETA:  0:00:02\r"
     ]
    },
    {
     "name": "stdout",
     "output_type": "stream",
     "text": [
      "[combine:0] selected predictions down via SRs from 210 to 15.\n",
      "[combine:0] sorting out subsets, reduced 416 -> 48 combinations.\n"
     ]
    },
    {
     "name": "stderr",
     "output_type": "stream",
     "text": [
      "combination #48/48 100%|||||||||||||||||||||||||||||||||||||||||||Time: 0:00:04\n",
      "combination #3/48   6%|\\\\                                        |ETA:  0:00:02\r"
     ]
    },
    {
     "name": "stdout",
     "output_type": "stream",
     "text": [
      "[combine:0] selected predictions down via SRs from 210 to 15.\n",
      "[combine:0] sorting out subsets, reduced 416 -> 48 combinations.\n"
     ]
    },
    {
     "name": "stderr",
     "output_type": "stream",
     "text": [
      "combination #48/48 100%|||||||||||||||||||||||||||||||||||||||||||Time: 0:00:04\n",
      "combination #3/48   6%|\\\\                                        |ETA:  0:00:02\r"
     ]
    },
    {
     "name": "stdout",
     "output_type": "stream",
     "text": [
      "[combine:0] selected predictions down via SRs from 210 to 15.\n",
      "[combine:0] sorting out subsets, reduced 416 -> 48 combinations.\n"
     ]
    },
    {
     "name": "stderr",
     "output_type": "stream",
     "text": [
      "combination #48/48 100%|||||||||||||||||||||||||||||||||||||||||||Time: 0:00:04\n",
      "combination #3/48   6%|\\\\                                        |ETA:  0:00:02\r"
     ]
    },
    {
     "name": "stdout",
     "output_type": "stream",
     "text": [
      "[combine:0] selected predictions down via SRs from 210 to 15.\n",
      "[combine:0] sorting out subsets, reduced 416 -> 48 combinations.\n"
     ]
    },
    {
     "name": "stderr",
     "output_type": "stream",
     "text": [
      "combination #48/48 100%|||||||||||||||||||||||||||||||||||||||||||Time: 0:00:04\n",
      "combination #3/48   6%|\\\\                                        |ETA:  0:00:02\r"
     ]
    },
    {
     "name": "stdout",
     "output_type": "stream",
     "text": [
      "[combine:0] selected predictions down via SRs from 210 to 15.\n",
      "[combine:0] sorting out subsets, reduced 416 -> 48 combinations.\n"
     ]
    },
    {
     "name": "stderr",
     "output_type": "stream",
     "text": [
      "combination #48/48 100%|||||||||||||||||||||||||||||||||||||||||||Time: 0:00:04\n",
      "combination #3/48   6%|\\\\                                        |ETA:  0:00:02\r"
     ]
    },
    {
     "name": "stdout",
     "output_type": "stream",
     "text": [
      "[combine:0] selected predictions down via SRs from 210 to 15.\n",
      "[combine:0] sorting out subsets, reduced 416 -> 48 combinations.\n"
     ]
    },
    {
     "name": "stderr",
     "output_type": "stream",
     "text": [
      "combination #48/48 100%|||||||||||||||||||||||||||||||||||||||||||Time: 0:00:04\n",
      "combination #3/48   6%|\\\\                                        |ETA:  0:00:02\r"
     ]
    },
    {
     "name": "stdout",
     "output_type": "stream",
     "text": [
      "[combine:0] selected predictions down via SRs from 210 to 15.\n",
      "[combine:0] sorting out subsets, reduced 416 -> 48 combinations.\n"
     ]
    },
    {
     "name": "stderr",
     "output_type": "stream",
     "text": [
      "combination #48/48 100%|||||||||||||||||||||||||||||||||||||||||||Time: 0:00:04\n",
      "combination #3/48   6%|\\\\                                        |ETA:  0:00:02\r"
     ]
    },
    {
     "name": "stdout",
     "output_type": "stream",
     "text": [
      "[combine:0] selected predictions down via SRs from 210 to 15.\n",
      "[combine:0] sorting out subsets, reduced 416 -> 48 combinations.\n"
     ]
    },
    {
     "name": "stderr",
     "output_type": "stream",
     "text": [
      "combination #48/48 100%|||||||||||||||||||||||||||||||||||||||||||Time: 0:00:06\n",
      "combination #2/48   4%|-                                         |ETA:  0:00:03\r"
     ]
    },
    {
     "name": "stdout",
     "output_type": "stream",
     "text": [
      "[combine:0] selected predictions down via SRs from 210 to 15.\n",
      "[combine:0] sorting out subsets, reduced 416 -> 48 combinations.\n"
     ]
    },
    {
     "name": "stderr",
     "output_type": "stream",
     "text": [
      "combination #48/48 100%|||||||||||||||||||||||||||||||||||||||||||Time: 0:00:07\n",
      "combination #2/48   4%|-                                         |ETA:  0:00:03\r"
     ]
    },
    {
     "name": "stdout",
     "output_type": "stream",
     "text": [
      "[combine:0] selected predictions down via SRs from 210 to 15.\n",
      "[combine:0] sorting out subsets, reduced 416 -> 48 combinations.\n"
     ]
    },
    {
     "name": "stderr",
     "output_type": "stream",
     "text": [
      "combination #48/48 100%|||||||||||||||||||||||||||||||||||||||||||Time: 0:00:05\n",
      "combination #2/48   4%|-                                         |ETA:  0:00:03\r"
     ]
    },
    {
     "name": "stdout",
     "output_type": "stream",
     "text": [
      "[combine:0] selected predictions down via SRs from 210 to 15.\n",
      "[combine:0] sorting out subsets, reduced 416 -> 48 combinations.\n"
     ]
    },
    {
     "name": "stderr",
     "output_type": "stream",
     "text": [
      "combination #48/48 100%|||||||||||||||||||||||||||||||||||||||||||Time: 0:00:05\n",
      "combination #2/48   4%|-                                         |ETA:  0:00:03\r"
     ]
    },
    {
     "name": "stdout",
     "output_type": "stream",
     "text": [
      "[combine:0] selected predictions down via SRs from 210 to 15.\n",
      "[combine:0] sorting out subsets, reduced 416 -> 48 combinations.\n"
     ]
    },
    {
     "name": "stderr",
     "output_type": "stream",
     "text": [
      "combination #48/48 100%|||||||||||||||||||||||||||||||||||||||||||Time: 0:00:04\n",
      "combination #2/48   4%|-                                         |ETA:  0:00:03\r"
     ]
    },
    {
     "name": "stdout",
     "output_type": "stream",
     "text": [
      "[combine:0] selected predictions down via SRs from 210 to 15.\n",
      "[combine:0] sorting out subsets, reduced 416 -> 48 combinations.\n"
     ]
    },
    {
     "name": "stderr",
     "output_type": "stream",
     "text": [
      "combination #48/48 100%|||||||||||||||||||||||||||||||||||||||||||Time: 0:00:05\n",
      "combination #2/48   4%|-                                         |ETA:  0:00:02\r"
     ]
    },
    {
     "name": "stdout",
     "output_type": "stream",
     "text": [
      "[combine:0] selected predictions down via SRs from 208 to 15.\n",
      "[combine:0] sorting out subsets, reduced 416 -> 48 combinations.\n"
     ]
    },
    {
     "name": "stderr",
     "output_type": "stream",
     "text": [
      "combination #48/48 100%|||||||||||||||||||||||||||||||||||||||||||Time: 0:00:05\n",
      "combination #2/48   4%|-                                         |ETA:  0:00:03\r"
     ]
    },
    {
     "name": "stdout",
     "output_type": "stream",
     "text": [
      "[combine:0] selected predictions down via SRs from 208 to 15.\n",
      "[combine:0] sorting out subsets, reduced 416 -> 48 combinations.\n"
     ]
    },
    {
     "name": "stderr",
     "output_type": "stream",
     "text": [
      "combination #48/48 100%|||||||||||||||||||||||||||||||||||||||||||Time: 0:00:05\n",
      "combination #2/48   4%|-                                         |ETA:  0:00:03\r"
     ]
    },
    {
     "name": "stdout",
     "output_type": "stream",
     "text": [
      "[combine:0] selected predictions down via SRs from 208 to 15.\n",
      "[combine:0] sorting out subsets, reduced 416 -> 48 combinations.\n"
     ]
    },
    {
     "name": "stderr",
     "output_type": "stream",
     "text": [
      "combination #48/48 100%|||||||||||||||||||||||||||||||||||||||||||Time: 0:00:06\n",
      "combination #2/48   4%|-                                         |ETA:  0:00:03\r"
     ]
    },
    {
     "name": "stdout",
     "output_type": "stream",
     "text": [
      "[combine:0] selected predictions down via SRs from 208 to 15.\n",
      "[combine:0] sorting out subsets, reduced 416 -> 48 combinations.\n"
     ]
    },
    {
     "name": "stderr",
     "output_type": "stream",
     "text": [
      "combination #48/48 100%|||||||||||||||||||||||||||||||||||||||||||Time: 0:00:06\n",
      "combination #2/48   4%|-                                         |ETA:  0:00:03\r"
     ]
    },
    {
     "name": "stdout",
     "output_type": "stream",
     "text": [
      "[combine:0] selected predictions down via SRs from 210 to 15.\n",
      "[combine:0] sorting out subsets, reduced 416 -> 48 combinations.\n"
     ]
    },
    {
     "name": "stderr",
     "output_type": "stream",
     "text": [
      "combination #48/48 100%|||||||||||||||||||||||||||||||||||||||||||Time: 0:00:05\n",
      "combination #2/48   4%|-                                         |ETA:  0:00:03\r"
     ]
    },
    {
     "name": "stdout",
     "output_type": "stream",
     "text": [
      "[combine:0] selected predictions down via SRs from 210 to 15.\n",
      "[combine:0] sorting out subsets, reduced 416 -> 48 combinations.\n"
     ]
    },
    {
     "name": "stderr",
     "output_type": "stream",
     "text": [
      "combination #48/48 100%|||||||||||||||||||||||||||||||||||||||||||Time: 0:00:06\n",
      "combination #3/48   6%|\\\\                                        |ETA:  0:00:02\r"
     ]
    },
    {
     "name": "stdout",
     "output_type": "stream",
     "text": [
      "[combine:0] selected predictions down via SRs from 210 to 15.\n",
      "[combine:0] sorting out subsets, reduced 416 -> 48 combinations.\n"
     ]
    },
    {
     "name": "stderr",
     "output_type": "stream",
     "text": [
      "combination #48/48 100%|||||||||||||||||||||||||||||||||||||||||||Time: 0:00:04\n",
      "combination #3/48   6%|\\\\                                        |ETA:  0:00:02\r"
     ]
    },
    {
     "name": "stdout",
     "output_type": "stream",
     "text": [
      "[combine:0] selected predictions down via SRs from 210 to 15.\n",
      "[combine:0] sorting out subsets, reduced 416 -> 48 combinations.\n"
     ]
    },
    {
     "name": "stderr",
     "output_type": "stream",
     "text": [
      "combination #48/48 100%|||||||||||||||||||||||||||||||||||||||||||Time: 0:00:05\n",
      "combination #3/48   6%|\\\\                                        |ETA:  0:00:02\r"
     ]
    },
    {
     "name": "stdout",
     "output_type": "stream",
     "text": [
      "[combine:0] selected predictions down via SRs from 208 to 15.\n",
      "[combine:0] sorting out subsets, reduced 416 -> 48 combinations.\n"
     ]
    },
    {
     "name": "stderr",
     "output_type": "stream",
     "text": [
      "combination #48/48 100%|||||||||||||||||||||||||||||||||||||||||||Time: 0:00:04\n",
      "combination #3/48   6%|\\\\                                        |ETA:  0:00:02\r"
     ]
    },
    {
     "name": "stdout",
     "output_type": "stream",
     "text": [
      "[combine:0] selected predictions down via SRs from 208 to 15.\n",
      "[combine:0] sorting out subsets, reduced 416 -> 48 combinations.\n"
     ]
    },
    {
     "name": "stderr",
     "output_type": "stream",
     "text": [
      "combination #48/48 100%|||||||||||||||||||||||||||||||||||||||||||Time: 0:00:04\n",
      "combination #3/48   6%|\\\\                                        |ETA:  0:00:02\r"
     ]
    },
    {
     "name": "stdout",
     "output_type": "stream",
     "text": [
      "[combine:0] selected predictions down via SRs from 208 to 15.\n",
      "[combine:0] sorting out subsets, reduced 416 -> 48 combinations.\n"
     ]
    },
    {
     "name": "stderr",
     "output_type": "stream",
     "text": [
      "combination #48/48 100%|||||||||||||||||||||||||||||||||||||||||||Time: 0:00:04\n",
      "combination #2/48   4%|-                                         |ETA:  0:00:02\r"
     ]
    },
    {
     "name": "stdout",
     "output_type": "stream",
     "text": [
      "[combine:0] selected predictions down via SRs from 208 to 15.\n",
      "[combine:0] sorting out subsets, reduced 416 -> 48 combinations.\n"
     ]
    },
    {
     "name": "stderr",
     "output_type": "stream",
     "text": [
      "combination #48/48 100%|||||||||||||||||||||||||||||||||||||||||||Time: 0:00:05\n",
      "combination #2/48   4%|-                                         |ETA:  0:00:04\r"
     ]
    },
    {
     "name": "stdout",
     "output_type": "stream",
     "text": [
      "[combine:0] selected predictions down via SRs from 204 to 15.\n",
      "[combine:0] sorting out subsets, reduced 416 -> 48 combinations.\n"
     ]
    },
    {
     "name": "stderr",
     "output_type": "stream",
     "text": [
      "combination #48/48 100%|||||||||||||||||||||||||||||||||||||||||||Time: 0:00:04\n",
      "combination #2/48   4%|-                                         |ETA:  0:00:03\r"
     ]
    },
    {
     "name": "stdout",
     "output_type": "stream",
     "text": [
      "[combine:0] selected predictions down via SRs from 204 to 15.\n",
      "[combine:0] sorting out subsets, reduced 416 -> 48 combinations.\n"
     ]
    },
    {
     "name": "stderr",
     "output_type": "stream",
     "text": [
      "combination #48/48 100%|||||||||||||||||||||||||||||||||||||||||||Time: 0:00:04\n",
      "combination #1/48   2%|                                          |ETA:  0:00:03\r"
     ]
    },
    {
     "name": "stdout",
     "output_type": "stream",
     "text": [
      "[combine:0] selected predictions down via SRs from 204 to 15.\n",
      "[combine:0] sorting out subsets, reduced 416 -> 48 combinations.\n"
     ]
    },
    {
     "name": "stderr",
     "output_type": "stream",
     "text": [
      "combination #48/48 100%|||||||||||||||||||||||||||||||||||||||||||Time: 0:00:06\n",
      "combination #2/48   4%|-                                         |ETA:  0:00:03\r"
     ]
    },
    {
     "name": "stdout",
     "output_type": "stream",
     "text": [
      "[combine:0] selected predictions down via SRs from 204 to 15.\n",
      "[combine:0] sorting out subsets, reduced 416 -> 48 combinations.\n"
     ]
    },
    {
     "name": "stderr",
     "output_type": "stream",
     "text": [
      "combination #48/48 100%|||||||||||||||||||||||||||||||||||||||||||Time: 0:00:04\n",
      "combination #2/48   4%|-                                         |ETA:  0:00:03\r"
     ]
    },
    {
     "name": "stdout",
     "output_type": "stream",
     "text": [
      "[combine:0] selected predictions down via SRs from 210 to 15.\n",
      "[combine:0] sorting out subsets, reduced 416 -> 48 combinations.\n"
     ]
    },
    {
     "name": "stderr",
     "output_type": "stream",
     "text": [
      "combination #48/48 100%|||||||||||||||||||||||||||||||||||||||||||Time: 0:00:06\n",
      "combination #2/48   4%|-                                         |ETA:  0:00:03\r"
     ]
    },
    {
     "name": "stdout",
     "output_type": "stream",
     "text": [
      "[combine:0] selected predictions down via SRs from 210 to 15.\n",
      "[combine:0] sorting out subsets, reduced 416 -> 48 combinations.\n"
     ]
    },
    {
     "name": "stderr",
     "output_type": "stream",
     "text": [
      "combination #48/48 100%|||||||||||||||||||||||||||||||||||||||||||Time: 0:00:05\n",
      "combination #1/42   2%|/                                         |ETA:  0:00:04\r"
     ]
    },
    {
     "name": "stdout",
     "output_type": "stream",
     "text": [
      "[combine:0] selected predictions down via SRs from 210 to 15.\n",
      "[combine:0] sorting out subsets, reduced 512 -> 42 combinations.\n"
     ]
    },
    {
     "name": "stderr",
     "output_type": "stream",
     "text": [
      "combination #42/42 100%|||||||||||||||||||||||||||||||||||||||||||Time: 0:00:06\n",
      "combination #1/42   2%|/                                         |ETA:  0:00:05\r"
     ]
    },
    {
     "name": "stdout",
     "output_type": "stream",
     "text": [
      "[combine:0] selected predictions down via SRs from 210 to 15.\n",
      "[combine:0] sorting out subsets, reduced 512 -> 42 combinations.\n"
     ]
    },
    {
     "name": "stderr",
     "output_type": "stream",
     "text": [
      "combination #42/42 100%|||||||||||||||||||||||||||||||||||||||||||Time: 0:00:05\n",
      "combination #1/42   2%|/                                         |ETA:  0:00:04\r"
     ]
    },
    {
     "name": "stdout",
     "output_type": "stream",
     "text": [
      "[combine:0] selected predictions down via SRs from 210 to 15.\n",
      "[combine:0] sorting out subsets, reduced 512 -> 42 combinations.\n"
     ]
    },
    {
     "name": "stderr",
     "output_type": "stream",
     "text": [
      "combination #42/42 100%|||||||||||||||||||||||||||||||||||||||||||Time: 0:00:05\n",
      "combination #2/42   4%|--                                        |ETA:  0:00:03\r"
     ]
    },
    {
     "name": "stdout",
     "output_type": "stream",
     "text": [
      "[combine:0] selected predictions down via SRs from 210 to 15.\n",
      "[combine:0] sorting out subsets, reduced 512 -> 42 combinations.\n"
     ]
    },
    {
     "name": "stderr",
     "output_type": "stream",
     "text": [
      "combination #42/42 100%|||||||||||||||||||||||||||||||||||||||||||Time: 0:00:05\n",
      "combination #1/42   2%|/                                         |ETA:  0:00:04\r"
     ]
    },
    {
     "name": "stdout",
     "output_type": "stream",
     "text": [
      "[combine:0] selected predictions down via SRs from 210 to 15.\n",
      "[combine:0] sorting out subsets, reduced 512 -> 42 combinations.\n"
     ]
    },
    {
     "name": "stderr",
     "output_type": "stream",
     "text": [
      "combination #42/42 100%|||||||||||||||||||||||||||||||||||||||||||Time: 0:00:06\n"
     ]
    }
   ],
   "source": [
    "run = 9\n",
    "p = protomodelsDict[run]\n",
    "mZ = np.linspace(100.,400.,30)\n",
    "pList2 = []\n",
    "pred = Predictor(walkerid=0,dbpath='../official124_smodels200.pcl')\n",
    "for mass in mZ:\n",
    "    protomodel = copy.deepcopy(p)\n",
    "    protomodel.masses[1000022] = mass\n",
    "    #Get predictions:\n",
    "    res = pred.predict(protomodel)\n",
    "    pList2.append(protomodel)"
   ]
  },
  {
   "cell_type": "code",
   "execution_count": 18,
   "metadata": {},
   "outputs": [],
   "source": [
    "kvalues2 = [pp.K for pp in pList2]"
   ]
  },
  {
   "cell_type": "code",
   "execution_count": 19,
   "metadata": {},
   "outputs": [
    {
     "data": {
      "image/png": "[encoded data removed]",
      "text/plain": [
       "<Figure size 432x288 with 1 Axes>"
      ]
     },
     "metadata": {},
     "output_type": "display_data"
    }
   ],
   "source": [
    "plt.plot(mZ,kvalues2,'o-')\n",
    "plt.xlabel(r'$m(Z)$')\n",
    "plt.ylabel(r'$K$')\n",
    "plt.savefig('KvsMZ.png')\n",
    "plt.show()"
   ]
  },
  {
   "cell_type": "code",
   "execution_count": 21,
   "metadata": {},
   "outputs": [
    {
     "name": "stderr",
     "output_type": "stream",
     "text": [
      "combination #3/48   6%|\\\\                                        |ETA:  0:00:02\r"
     ]
    },
    {
     "name": "stdout",
     "output_type": "stream",
     "text": [
      "[combine:0] selected predictions down via SRs from 208 to 15.\n",
      "[combine:0] sorting out subsets, reduced 416 -> 48 combinations.\n"
     ]
    },
    {
     "name": "stderr",
     "output_type": "stream",
     "text": [
      "combination #48/48 100%|||||||||||||||||||||||||||||||||||||||||||Time: 0:00:04\n",
      "combination #3/48   6%|\\\\                                        |ETA:  0:00:02\r"
     ]
    },
    {
     "name": "stdout",
     "output_type": "stream",
     "text": [
      "[combine:0] selected predictions down via SRs from 208 to 15.\n",
      "[combine:0] sorting out subsets, reduced 416 -> 48 combinations.\n"
     ]
    },
    {
     "name": "stderr",
     "output_type": "stream",
     "text": [
      "combination #48/48 100%|||||||||||||||||||||||||||||||||||||||||||Time: 0:00:04\n",
      "combination #3/48   6%|\\\\                                        |ETA:  0:00:02\r"
     ]
    },
    {
     "name": "stdout",
     "output_type": "stream",
     "text": [
      "[combine:0] selected predictions down via SRs from 208 to 15.\n",
      "[combine:0] sorting out subsets, reduced 416 -> 48 combinations.\n"
     ]
    },
    {
     "name": "stderr",
     "output_type": "stream",
     "text": [
      "combination #48/48 100%|||||||||||||||||||||||||||||||||||||||||||Time: 0:00:04\n",
      "combination #3/48   6%|\\\\                                        |ETA:  0:00:02\r"
     ]
    },
    {
     "name": "stdout",
     "output_type": "stream",
     "text": [
      "[combine:0] selected predictions down via SRs from 208 to 15.\n",
      "[combine:0] sorting out subsets, reduced 416 -> 48 combinations.\n"
     ]
    },
    {
     "name": "stderr",
     "output_type": "stream",
     "text": [
      "combination #48/48 100%|||||||||||||||||||||||||||||||||||||||||||Time: 0:00:04\n",
      "combination #2/48   4%|-                                         |ETA:  0:00:03\r"
     ]
    },
    {
     "name": "stdout",
     "output_type": "stream",
     "text": [
      "[combine:0] selected predictions down via SRs from 206 to 15.\n",
      "[combine:0] sorting out subsets, reduced 416 -> 48 combinations.\n"
     ]
    },
    {
     "name": "stderr",
     "output_type": "stream",
     "text": [
      "combination #48/48 100%|||||||||||||||||||||||||||||||||||||||||||Time: 0:00:06\n",
      "combination #2/48   4%|-                                         |ETA:  0:00:04\r"
     ]
    },
    {
     "name": "stdout",
     "output_type": "stream",
     "text": [
      "[combine:0] selected predictions down via SRs from 206 to 15.\n",
      "[combine:0] sorting out subsets, reduced 416 -> 48 combinations.\n"
     ]
    },
    {
     "name": "stderr",
     "output_type": "stream",
     "text": [
      "combination #48/48 100%|||||||||||||||||||||||||||||||||||||||||||Time: 0:00:05\n",
      "combination #2/48   4%|-                                         |ETA:  0:00:03\r"
     ]
    },
    {
     "name": "stdout",
     "output_type": "stream",
     "text": [
      "[combine:0] selected predictions down via SRs from 208 to 15.\n",
      "[combine:0] sorting out subsets, reduced 416 -> 48 combinations.\n"
     ]
    },
    {
     "name": "stderr",
     "output_type": "stream",
     "text": [
      "combination #48/48 100%|||||||||||||||||||||||||||||||||||||||||||Time: 0:00:05\n",
      "combination #2/48   4%|-                                         |ETA:  0:00:03\r"
     ]
    },
    {
     "name": "stdout",
     "output_type": "stream",
     "text": [
      "[combine:0] selected predictions down via SRs from 208 to 15.\n",
      "[combine:0] sorting out subsets, reduced 416 -> 48 combinations.\n"
     ]
    },
    {
     "name": "stderr",
     "output_type": "stream",
     "text": [
      "combination #48/48 100%|||||||||||||||||||||||||||||||||||||||||||Time: 0:00:05\n",
      "combination #2/48   4%|-                                         |ETA:  0:00:03\r"
     ]
    },
    {
     "name": "stdout",
     "output_type": "stream",
     "text": [
      "[combine:0] selected predictions down via SRs from 208 to 15.\n",
      "[combine:0] sorting out subsets, reduced 416 -> 48 combinations.\n"
     ]
    },
    {
     "name": "stderr",
     "output_type": "stream",
     "text": [
      "combination #48/48 100%|||||||||||||||||||||||||||||||||||||||||||Time: 0:00:05\n",
      "combination #2/48   4%|-                                         |ETA:  0:00:03\r"
     ]
    },
    {
     "name": "stdout",
     "output_type": "stream",
     "text": [
      "[combine:0] selected predictions down via SRs from 208 to 15.\n",
      "[combine:0] sorting out subsets, reduced 416 -> 48 combinations.\n"
     ]
    },
    {
     "name": "stderr",
     "output_type": "stream",
     "text": [
      "combination #48/48 100%|||||||||||||||||||||||||||||||||||||||||||Time: 0:00:05\n",
      "combination #2/48   4%|-                                         |ETA:  0:00:03\r"
     ]
    },
    {
     "name": "stdout",
     "output_type": "stream",
     "text": [
      "[combine:0] selected predictions down via SRs from 208 to 15.\n",
      "[combine:0] sorting out subsets, reduced 416 -> 48 combinations.\n"
     ]
    },
    {
     "name": "stderr",
     "output_type": "stream",
     "text": [
      "combination #48/48 100%|||||||||||||||||||||||||||||||||||||||||||Time: 0:00:04\n",
      "combination #3/48   6%|\\\\                                        |ETA:  0:00:02\r"
     ]
    },
    {
     "name": "stdout",
     "output_type": "stream",
     "text": [
      "[combine:0] selected predictions down via SRs from 208 to 15.\n",
      "[combine:0] sorting out subsets, reduced 416 -> 48 combinations.\n"
     ]
    },
    {
     "name": "stderr",
     "output_type": "stream",
     "text": [
      "combination #48/48 100%|||||||||||||||||||||||||||||||||||||||||||Time: 0:00:04\n",
      "combination #2/48   4%|-                                         |ETA:  0:00:04\r"
     ]
    },
    {
     "name": "stdout",
     "output_type": "stream",
     "text": [
      "[combine:0] selected predictions down via SRs from 208 to 15.\n",
      "[combine:0] sorting out subsets, reduced 416 -> 48 combinations.\n"
     ]
    },
    {
     "name": "stderr",
     "output_type": "stream",
     "text": [
      "combination #48/48 100%|||||||||||||||||||||||||||||||||||||||||||Time: 0:00:04\n",
      "combination #2/48   4%|-                                         |ETA:  0:00:03\r"
     ]
    },
    {
     "name": "stdout",
     "output_type": "stream",
     "text": [
      "[combine:0] selected predictions down via SRs from 208 to 15.\n",
      "[combine:0] sorting out subsets, reduced 416 -> 48 combinations.\n"
     ]
    },
    {
     "name": "stderr",
     "output_type": "stream",
     "text": [
      "combination #48/48 100%|||||||||||||||||||||||||||||||||||||||||||Time: 0:00:04\n",
      "combination #2/48   4%|-                                         |ETA:  0:00:03\r"
     ]
    },
    {
     "name": "stdout",
     "output_type": "stream",
     "text": [
      "[combine:0] selected predictions down via SRs from 208 to 15.\n",
      "[combine:0] sorting out subsets, reduced 416 -> 48 combinations.\n"
     ]
    },
    {
     "name": "stderr",
     "output_type": "stream",
     "text": [
      "combination #48/48 100%|||||||||||||||||||||||||||||||||||||||||||Time: 0:00:04\n",
      "combination #2/48   4%|-                                         |ETA:  0:00:03\r"
     ]
    },
    {
     "name": "stdout",
     "output_type": "stream",
     "text": [
      "[combine:0] selected predictions down via SRs from 208 to 15.\n",
      "[combine:0] sorting out subsets, reduced 416 -> 48 combinations.\n"
     ]
    },
    {
     "name": "stderr",
     "output_type": "stream",
     "text": [
      "combination #48/48 100%|||||||||||||||||||||||||||||||||||||||||||Time: 0:00:04\n",
      "combination #3/48   6%|\\\\                                        |ETA:  0:00:02\r"
     ]
    },
    {
     "name": "stdout",
     "output_type": "stream",
     "text": [
      "[combine:0] selected predictions down via SRs from 208 to 15.\n",
      "[combine:0] sorting out subsets, reduced 416 -> 48 combinations.\n"
     ]
    },
    {
     "name": "stderr",
     "output_type": "stream",
     "text": [
      "combination #48/48 100%|||||||||||||||||||||||||||||||||||||||||||Time: 0:00:04\n",
      "combination #2/48   4%|-                                         |ETA:  0:00:03\r"
     ]
    },
    {
     "name": "stdout",
     "output_type": "stream",
     "text": [
      "[combine:0] selected predictions down via SRs from 208 to 15.\n",
      "[combine:0] sorting out subsets, reduced 416 -> 48 combinations.\n"
     ]
    },
    {
     "name": "stderr",
     "output_type": "stream",
     "text": [
      "combination #48/48 100%|||||||||||||||||||||||||||||||||||||||||||Time: 0:00:04\n",
      "combination #1/42   2%|/                                         |ETA:  0:00:03\r"
     ]
    },
    {
     "name": "stdout",
     "output_type": "stream",
     "text": [
      "[combine:0] selected predictions down via SRs from 208 to 15.\n",
      "[combine:0] sorting out subsets, reduced 512 -> 42 combinations.\n"
     ]
    },
    {
     "name": "stderr",
     "output_type": "stream",
     "text": [
      "combination #42/42 100%|||||||||||||||||||||||||||||||||||||||||||Time: 0:00:03\n",
      "combination #1/42   2%|/                                         |ETA:  0:00:04\r"
     ]
    },
    {
     "name": "stdout",
     "output_type": "stream",
     "text": [
      "[combine:0] selected predictions down via SRs from 208 to 15.\n",
      "[combine:0] sorting out subsets, reduced 512 -> 42 combinations.\n"
     ]
    },
    {
     "name": "stderr",
     "output_type": "stream",
     "text": [
      "combination #42/42 100%|||||||||||||||||||||||||||||||||||||||||||Time: 0:00:03\n",
      "combination #2/42   4%|--                                        |ETA:  0:00:03\r"
     ]
    },
    {
     "name": "stdout",
     "output_type": "stream",
     "text": [
      "[combine:0] selected predictions down via SRs from 208 to 15.\n",
      "[combine:0] sorting out subsets, reduced 512 -> 42 combinations.\n"
     ]
    },
    {
     "name": "stderr",
     "output_type": "stream",
     "text": [
      "combination #42/42 100%|||||||||||||||||||||||||||||||||||||||||||Time: 0:00:03\n",
      "combination #1/42   2%|/                                         |ETA:  0:00:04\r"
     ]
    },
    {
     "name": "stdout",
     "output_type": "stream",
     "text": [
      "[combine:0] selected predictions down via SRs from 208 to 15.\n",
      "[combine:0] sorting out subsets, reduced 512 -> 42 combinations.\n"
     ]
    },
    {
     "name": "stderr",
     "output_type": "stream",
     "text": [
      "combination #42/42 100%|||||||||||||||||||||||||||||||||||||||||||Time: 0:00:03\n",
      "combination #2/42   4%|--                                        |ETA:  0:00:03\r"
     ]
    },
    {
     "name": "stdout",
     "output_type": "stream",
     "text": [
      "[combine:0] selected predictions down via SRs from 210 to 15.\n",
      "[combine:0] sorting out subsets, reduced 512 -> 42 combinations.\n"
     ]
    },
    {
     "name": "stderr",
     "output_type": "stream",
     "text": [
      "combination #42/42 100%|||||||||||||||||||||||||||||||||||||||||||Time: 0:00:04\n",
      "combination #2/42   4%|--                                        |ETA:  0:00:03\r"
     ]
    },
    {
     "name": "stdout",
     "output_type": "stream",
     "text": [
      "[combine:0] selected predictions down via SRs from 210 to 15.\n",
      "[combine:0] sorting out subsets, reduced 512 -> 42 combinations.\n"
     ]
    },
    {
     "name": "stderr",
     "output_type": "stream",
     "text": [
      "combination #42/42 100%|||||||||||||||||||||||||||||||||||||||||||Time: 0:00:05\n",
      "combination #2/42   4%|--                                        |ETA:  0:00:03\r"
     ]
    },
    {
     "name": "stdout",
     "output_type": "stream",
     "text": [
      "[combine:0] selected predictions down via SRs from 208 to 15.\n",
      "[combine:0] sorting out subsets, reduced 512 -> 42 combinations.\n"
     ]
    },
    {
     "name": "stderr",
     "output_type": "stream",
     "text": [
      "combination #42/42 100%|||||||||||||||||||||||||||||||||||||||||||Time: 0:00:04\n",
      "combination #2/42   4%|--                                        |ETA:  0:00:03\r"
     ]
    },
    {
     "name": "stdout",
     "output_type": "stream",
     "text": [
      "[combine:0] selected predictions down via SRs from 208 to 15.\n",
      "[combine:0] sorting out subsets, reduced 512 -> 42 combinations.\n"
     ]
    },
    {
     "name": "stderr",
     "output_type": "stream",
     "text": [
      "combination #42/42 100%|||||||||||||||||||||||||||||||||||||||||||Time: 0:00:04\n",
      "combination #2/42   4%|--                                        |ETA:  0:00:03\r"
     ]
    },
    {
     "name": "stdout",
     "output_type": "stream",
     "text": [
      "[combine:0] selected predictions down via SRs from 208 to 15.\n",
      "[combine:0] sorting out subsets, reduced 512 -> 42 combinations.\n"
     ]
    },
    {
     "name": "stderr",
     "output_type": "stream",
     "text": [
      "combination #42/42 100%|||||||||||||||||||||||||||||||||||||||||||Time: 0:00:03\n",
      "combination #2/42   4%|--                                        |ETA:  0:00:03\r"
     ]
    },
    {
     "name": "stdout",
     "output_type": "stream",
     "text": [
      "[combine:0] selected predictions down via SRs from 208 to 15.\n",
      "[combine:0] sorting out subsets, reduced 512 -> 42 combinations.\n"
     ]
    },
    {
     "name": "stderr",
     "output_type": "stream",
     "text": [
      "combination #42/42 100%|||||||||||||||||||||||||||||||||||||||||||Time: 0:00:03\n",
      "combination #2/42   4%|--                                        |ETA:  0:00:03\r"
     ]
    },
    {
     "name": "stdout",
     "output_type": "stream",
     "text": [
      "[combine:0] selected predictions down via SRs from 208 to 15.\n",
      "[combine:0] sorting out subsets, reduced 512 -> 42 combinations.\n"
     ]
    },
    {
     "name": "stderr",
     "output_type": "stream",
     "text": [
      "combination #42/42 100%|||||||||||||||||||||||||||||||||||||||||||Time: 0:00:03\n",
      "combination #2/42   4%|--                                        |ETA:  0:00:03\r"
     ]
    },
    {
     "name": "stdout",
     "output_type": "stream",
     "text": [
      "[combine:0] selected predictions down via SRs from 208 to 15.\n",
      "[combine:0] sorting out subsets, reduced 512 -> 42 combinations.\n"
     ]
    },
    {
     "name": "stderr",
     "output_type": "stream",
     "text": [
      "combination #42/42 100%|||||||||||||||||||||||||||||||||||||||||||Time: 0:00:03\n",
      "combination #2/42   4%|--                                        |ETA:  0:00:03\r"
     ]
    },
    {
     "name": "stdout",
     "output_type": "stream",
     "text": [
      "[combine:0] selected predictions down via SRs from 208 to 15.\n",
      "[combine:0] sorting out subsets, reduced 512 -> 42 combinations.\n"
     ]
    },
    {
     "name": "stderr",
     "output_type": "stream",
     "text": [
      "combination #42/42 100%|||||||||||||||||||||||||||||||||||||||||||Time: 0:00:04\n",
      "combination #2/42   4%|--                                        |ETA:  0:00:03\r"
     ]
    },
    {
     "name": "stdout",
     "output_type": "stream",
     "text": [
      "[combine:0] selected predictions down via SRs from 208 to 15.\n",
      "[combine:0] sorting out subsets, reduced 512 -> 42 combinations.\n"
     ]
    },
    {
     "name": "stderr",
     "output_type": "stream",
     "text": [
      "combination #42/42 100%|||||||||||||||||||||||||||||||||||||||||||Time: 0:00:03\n",
      "combination #2/42   4%|--                                        |ETA:  0:00:03\r"
     ]
    },
    {
     "name": "stdout",
     "output_type": "stream",
     "text": [
      "[combine:0] selected predictions down via SRs from 208 to 15.\n",
      "[combine:0] sorting out subsets, reduced 512 -> 42 combinations.\n"
     ]
    },
    {
     "name": "stderr",
     "output_type": "stream",
     "text": [
      "combination #42/42 100%|||||||||||||||||||||||||||||||||||||||||||Time: 0:00:04\n",
      "combination #2/42   4%|--                                        |ETA:  0:00:03\r"
     ]
    },
    {
     "name": "stdout",
     "output_type": "stream",
     "text": [
      "[combine:0] selected predictions down via SRs from 208 to 15.\n",
      "[combine:0] sorting out subsets, reduced 512 -> 42 combinations.\n"
     ]
    },
    {
     "name": "stderr",
     "output_type": "stream",
     "text": [
      "combination #42/42 100%|||||||||||||||||||||||||||||||||||||||||||Time: 0:00:04\n",
      "combination #2/42   4%|--                                        |ETA:  0:00:03\r"
     ]
    },
    {
     "name": "stdout",
     "output_type": "stream",
     "text": [
      "[combine:0] selected predictions down via SRs from 208 to 15.\n",
      "[combine:0] sorting out subsets, reduced 512 -> 42 combinations.\n"
     ]
    },
    {
     "name": "stderr",
     "output_type": "stream",
     "text": [
      "combination #42/42 100%|||||||||||||||||||||||||||||||||||||||||||Time: 0:00:03\n",
      "combination #2/42   4%|--                                        |ETA:  0:00:03\r"
     ]
    },
    {
     "name": "stdout",
     "output_type": "stream",
     "text": [
      "[combine:0] selected predictions down via SRs from 208 to 15.\n",
      "[combine:0] sorting out subsets, reduced 512 -> 42 combinations.\n"
     ]
    },
    {
     "name": "stderr",
     "output_type": "stream",
     "text": [
      "combination #42/42 100%|||||||||||||||||||||||||||||||||||||||||||Time: 0:00:03\n",
      "combination #2/42   4%|--                                        |ETA:  0:00:03\r"
     ]
    },
    {
     "name": "stdout",
     "output_type": "stream",
     "text": [
      "[combine:0] selected predictions down via SRs from 208 to 15.\n",
      "[combine:0] sorting out subsets, reduced 512 -> 42 combinations.\n"
     ]
    },
    {
     "name": "stderr",
     "output_type": "stream",
     "text": [
      "combination #42/42 100%|||||||||||||||||||||||||||||||||||||||||||Time: 0:00:03\n",
      "combination #2/42   4%|--                                        |ETA:  0:00:03\r"
     ]
    },
    {
     "name": "stdout",
     "output_type": "stream",
     "text": [
      "[combine:0] selected predictions down via SRs from 208 to 15.\n",
      "[combine:0] sorting out subsets, reduced 512 -> 42 combinations.\n"
     ]
    },
    {
     "name": "stderr",
     "output_type": "stream",
     "text": [
      "combination #42/42 100%|||||||||||||||||||||||||||||||||||||||||||Time: 0:00:03\n",
      "combination #2/42   4%|--                                        |ETA:  0:00:03\r"
     ]
    },
    {
     "name": "stdout",
     "output_type": "stream",
     "text": [
      "[combine:0] selected predictions down via SRs from 210 to 15.\n",
      "[combine:0] sorting out subsets, reduced 512 -> 42 combinations.\n"
     ]
    },
    {
     "name": "stderr",
     "output_type": "stream",
     "text": [
      "combination #42/42 100%|||||||||||||||||||||||||||||||||||||||||||Time: 0:00:04\n",
      "combination #2/42   4%|--                                        |ETA:  0:00:03\r"
     ]
    },
    {
     "name": "stdout",
     "output_type": "stream",
     "text": [
      "[combine:0] selected predictions down via SRs from 210 to 15.\n",
      "[combine:0] sorting out subsets, reduced 512 -> 42 combinations.\n"
     ]
    },
    {
     "name": "stderr",
     "output_type": "stream",
     "text": [
      "combination #42/42 100%|||||||||||||||||||||||||||||||||||||||||||Time: 0:00:04\n",
      "combination #2/42   4%|--                                        |ETA:  0:00:03\r"
     ]
    },
    {
     "name": "stdout",
     "output_type": "stream",
     "text": [
      "[combine:0] selected predictions down via SRs from 210 to 15.\n",
      "[combine:0] sorting out subsets, reduced 512 -> 42 combinations.\n"
     ]
    },
    {
     "name": "stderr",
     "output_type": "stream",
     "text": [
      "combination #42/42 100%|||||||||||||||||||||||||||||||||||||||||||Time: 0:00:03\n",
      "combination #2/42   4%|--                                        |ETA:  0:00:03\r"
     ]
    },
    {
     "name": "stdout",
     "output_type": "stream",
     "text": [
      "[combine:0] selected predictions down via SRs from 210 to 15.\n",
      "[combine:0] sorting out subsets, reduced 512 -> 42 combinations.\n"
     ]
    },
    {
     "name": "stderr",
     "output_type": "stream",
     "text": [
      "combination #42/42 100%|||||||||||||||||||||||||||||||||||||||||||Time: 0:00:03\n",
      "combination #2/42   4%|--                                        |ETA:  0:00:03\r"
     ]
    },
    {
     "name": "stdout",
     "output_type": "stream",
     "text": [
      "[combine:0] selected predictions down via SRs from 210 to 15.\n",
      "[combine:0] sorting out subsets, reduced 512 -> 42 combinations.\n"
     ]
    },
    {
     "name": "stderr",
     "output_type": "stream",
     "text": [
      "combination #42/42 100%|||||||||||||||||||||||||||||||||||||||||||Time: 0:00:03\n",
      "combination #2/42   4%|--                                        |ETA:  0:00:03\r"
     ]
    },
    {
     "name": "stdout",
     "output_type": "stream",
     "text": [
      "[combine:0] selected predictions down via SRs from 210 to 15.\n",
      "[combine:0] sorting out subsets, reduced 512 -> 42 combinations.\n"
     ]
    },
    {
     "name": "stderr",
     "output_type": "stream",
     "text": [
      "combination #42/42 100%|||||||||||||||||||||||||||||||||||||||||||Time: 0:00:03\n",
      "combination #2/42   4%|--                                        |ETA:  0:00:03\r"
     ]
    },
    {
     "name": "stdout",
     "output_type": "stream",
     "text": [
      "[combine:0] selected predictions down via SRs from 210 to 15.\n",
      "[combine:0] sorting out subsets, reduced 512 -> 42 combinations.\n"
     ]
    },
    {
     "name": "stderr",
     "output_type": "stream",
     "text": [
      "combination #42/42 100%|||||||||||||||||||||||||||||||||||||||||||Time: 0:00:03\n",
      "combination #1/42   2%|/                                         |ETA:  0:00:04\r"
     ]
    },
    {
     "name": "stdout",
     "output_type": "stream",
     "text": [
      "[combine:0] selected predictions down via SRs from 210 to 15.\n",
      "[combine:0] sorting out subsets, reduced 512 -> 42 combinations.\n"
     ]
    },
    {
     "name": "stderr",
     "output_type": "stream",
     "text": [
      "combination #42/42 100%|||||||||||||||||||||||||||||||||||||||||||Time: 0:00:04\n",
      "combination #1/42   2%|/                                         |ETA:  0:00:04\r"
     ]
    },
    {
     "name": "stdout",
     "output_type": "stream",
     "text": [
      "[combine:0] selected predictions down via SRs from 210 to 15.\n",
      "[combine:0] sorting out subsets, reduced 512 -> 42 combinations.\n"
     ]
    },
    {
     "name": "stderr",
     "output_type": "stream",
     "text": [
      "combination #42/42 100%|||||||||||||||||||||||||||||||||||||||||||Time: 0:00:04\n",
      "combination #1/42   2%|/                                         |ETA:  0:00:04\r"
     ]
    },
    {
     "name": "stdout",
     "output_type": "stream",
     "text": [
      "[combine:0] selected predictions down via SRs from 210 to 15.\n",
      "[combine:0] sorting out subsets, reduced 512 -> 42 combinations.\n"
     ]
    },
    {
     "name": "stderr",
     "output_type": "stream",
     "text": [
      "combination #42/42 100%|||||||||||||||||||||||||||||||||||||||||||Time: 0:00:03\n",
      "combination #2/42   4%|--                                        |ETA:  0:00:03\r"
     ]
    },
    {
     "name": "stdout",
     "output_type": "stream",
     "text": [
      "[combine:0] selected predictions down via SRs from 210 to 15.\n",
      "[combine:0] sorting out subsets, reduced 512 -> 42 combinations.\n"
     ]
    },
    {
     "name": "stderr",
     "output_type": "stream",
     "text": [
      "combination #42/42 100%|||||||||||||||||||||||||||||||||||||||||||Time: 0:00:03\n",
      "combination #2/42   4%|--                                        |ETA:  0:00:03\r"
     ]
    },
    {
     "name": "stdout",
     "output_type": "stream",
     "text": [
      "[combine:0] selected predictions down via SRs from 210 to 15.\n",
      "[combine:0] sorting out subsets, reduced 512 -> 42 combinations.\n"
     ]
    },
    {
     "name": "stderr",
     "output_type": "stream",
     "text": [
      "combination #42/42 100%|||||||||||||||||||||||||||||||||||||||||||Time: 0:00:03\n",
      "combination #2/42   4%|--                                        |ETA:  0:00:03\r"
     ]
    },
    {
     "name": "stdout",
     "output_type": "stream",
     "text": [
      "[combine:0] selected predictions down via SRs from 210 to 15.\n",
      "[combine:0] sorting out subsets, reduced 512 -> 42 combinations.\n"
     ]
    },
    {
     "name": "stderr",
     "output_type": "stream",
     "text": [
      "combination #42/42 100%|||||||||||||||||||||||||||||||||||||||||||Time: 0:00:03\n",
      "combination #2/42   4%|--                                        |ETA:  0:00:03\r"
     ]
    },
    {
     "name": "stdout",
     "output_type": "stream",
     "text": [
      "[combine:0] selected predictions down via SRs from 210 to 15.\n",
      "[combine:0] sorting out subsets, reduced 512 -> 42 combinations.\n"
     ]
    },
    {
     "name": "stderr",
     "output_type": "stream",
     "text": [
      "combination #42/42 100%|||||||||||||||||||||||||||||||||||||||||||Time: 0:00:03\n",
      "combination #2/42   4%|--                                        |ETA:  0:00:03\r"
     ]
    },
    {
     "name": "stdout",
     "output_type": "stream",
     "text": [
      "[combine:0] selected predictions down via SRs from 210 to 15.\n",
      "[combine:0] sorting out subsets, reduced 512 -> 42 combinations.\n"
     ]
    },
    {
     "name": "stderr",
     "output_type": "stream",
     "text": [
      "combination #42/42 100%|||||||||||||||||||||||||||||||||||||||||||Time: 0:00:03\n",
      "combination #2/42   4%|--                                        |ETA:  0:00:03\r"
     ]
    },
    {
     "name": "stdout",
     "output_type": "stream",
     "text": [
      "[combine:0] selected predictions down via SRs from 210 to 15.\n",
      "[combine:0] sorting out subsets, reduced 512 -> 42 combinations.\n"
     ]
    },
    {
     "name": "stderr",
     "output_type": "stream",
     "text": [
      "combination #42/42 100%|||||||||||||||||||||||||||||||||||||||||||Time: 0:00:03\n",
      "combination #1/42   2%|/                                         |ETA:  0:00:04\r"
     ]
    },
    {
     "name": "stdout",
     "output_type": "stream",
     "text": [
      "[combine:0] selected predictions down via SRs from 210 to 15.\n",
      "[combine:0] sorting out subsets, reduced 512 -> 42 combinations.\n"
     ]
    },
    {
     "name": "stderr",
     "output_type": "stream",
     "text": [
      "combination #42/42 100%|||||||||||||||||||||||||||||||||||||||||||Time: 0:00:05\n",
      "combination #1/42   2%|/                                         |ETA:  0:00:04\r"
     ]
    },
    {
     "name": "stdout",
     "output_type": "stream",
     "text": [
      "[combine:0] selected predictions down via SRs from 210 to 15.\n",
      "[combine:0] sorting out subsets, reduced 512 -> 42 combinations.\n"
     ]
    },
    {
     "name": "stderr",
     "output_type": "stream",
     "text": [
      "combination #42/42 100%|||||||||||||||||||||||||||||||||||||||||||Time: 0:00:04\n",
      "combination #1/42   2%|/                                         |ETA:  0:00:04\r"
     ]
    },
    {
     "name": "stdout",
     "output_type": "stream",
     "text": [
      "[combine:0] selected predictions down via SRs from 210 to 15.\n",
      "[combine:0] sorting out subsets, reduced 512 -> 42 combinations.\n"
     ]
    },
    {
     "name": "stderr",
     "output_type": "stream",
     "text": [
      "combination #42/42 100%|||||||||||||||||||||||||||||||||||||||||||Time: 0:00:04\n",
      "combination #1/42   2%|/                                         |ETA:  0:00:04\r"
     ]
    },
    {
     "name": "stdout",
     "output_type": "stream",
     "text": [
      "[combine:0] selected predictions down via SRs from 210 to 15.\n",
      "[combine:0] sorting out subsets, reduced 512 -> 42 combinations.\n"
     ]
    },
    {
     "name": "stderr",
     "output_type": "stream",
     "text": [
      "combination #42/42 100%|||||||||||||||||||||||||||||||||||||||||||Time: 0:00:04\n",
      "combination #1/42   2%|/                                         |ETA:  0:00:04\r"
     ]
    },
    {
     "name": "stdout",
     "output_type": "stream",
     "text": [
      "[combine:0] selected predictions down via SRs from 208 to 15.\n",
      "[combine:0] sorting out subsets, reduced 512 -> 42 combinations.\n"
     ]
    },
    {
     "name": "stderr",
     "output_type": "stream",
     "text": [
      "combination #42/42 100%|||||||||||||||||||||||||||||||||||||||||||Time: 0:00:04\n",
      "combination #2/42   4%|--                                        |ETA:  0:00:03\r"
     ]
    },
    {
     "name": "stdout",
     "output_type": "stream",
     "text": [
      "[combine:0] selected predictions down via SRs from 208 to 15.\n",
      "[combine:0] sorting out subsets, reduced 512 -> 42 combinations.\n"
     ]
    },
    {
     "name": "stderr",
     "output_type": "stream",
     "text": [
      "combination #42/42 100%|||||||||||||||||||||||||||||||||||||||||||Time: 0:00:05\n"
     ]
    }
   ],
   "source": [
    "run = 9\n",
    "p = protomodelsDict[run]\n",
    "mD = np.linspace(600.,1000.,30)\n",
    "pList3 = []\n",
    "pred = Predictor(walkerid=0,dbpath='../official124_smodels200.pcl')\n",
    "for mass in mD:\n",
    "    protomodel = copy.deepcopy(p)\n",
    "    protomodel.masses[1000001] = mass\n",
    "    #Get predictions:\n",
    "    res = pred.predict(protomodel)\n",
    "    pList3.append(protomodel)"
   ]
  },
  {
   "cell_type": "code",
   "execution_count": 24,
   "metadata": {},
   "outputs": [],
   "source": [
    "kvalues3 = [pp.K for pp in pList3]"
   ]
  },
  {
   "cell_type": "code",
   "execution_count": 25,
   "metadata": {},
   "outputs": [
    {
     "data": {
      "image/png": "[encoded data removed]",
      "text/plain": [
       "<Figure size 432x288 with 1 Axes>"
      ]
     },
     "metadata": {},
     "output_type": "display_data"
    }
   ],
   "source": [
    "plt.plot(mD,kvalues3,'o-')\n",
    "plt.xlabel(r'$m(D)$')\n",
    "plt.ylabel(r'$K$')\n",
    "plt.savefig('KvsMD.png')\n",
    "plt.show()"
   ]
  },
  {
   "cell_type": "code",
   "execution_count": null,
   "metadata": {},
   "outputs": [],
   "source": []
  }
 ],
 "metadata": {
  "kernelspec": {
   "display_name": "Python 3",
   "language": "python",
   "name": "python3"
  },
  "language_info": {
   "codemirror_mode": {
    "name": "ipython",
    "version": 3
   },
   "file_extension": ".py",
   "mimetype": "text/x-python",
   "name": "python",
   "nbconvert_exporter": "python",
   "pygments_lexer": "ipython3",
   "version": "3.8.5"
  }
 },
 "nbformat": 4,
 "nbformat_minor": 4
}

{
 "cells": [
  {
   "cell_type": "code",
   "execution_count": 1,
   "metadata": {},
   "outputs": [],
   "source": [
    "import sys,os,copy,glob\n",
    "import numpy as np\n",
    "sys.path.append(os.path.abspath('../smodels'))\n",
    "sys.path.append(os.path.abspath('../'))\n",
    "from builder.protomodel import ProtoModel\n",
    "from builder.manipulator import Manipulator\n",
    "from tester.predictor import Predictor\n",
    "from tester.combiner import Combiner\n",
    "from walker.hiscore import Hiscore\n",
    "from smodels.experiment.databaseObj import Database\n",
    "from smodels.tools import runtime\n",
    "from smodels.tools.physicsUnits import fb\n",
    "runtime._experimental = True\n",
    "import matplotlib.pyplot as plt\n",
    "import seaborn as sns\n",
    "import pandas as pd\n",
    "from names import particleLabels\n",
    "from sparticleNames import SParticleNames\n",
    "# sns.set() #Set style\n",
    "# sns.set_style('ticks')\n",
    "sns.set_style('ticks',{'font.family':'Times New Roman', 'font.serif':'Times New Roman'})\n",
    "sns.set_context('paper', font_scale=2.0)\n",
    "# sns.set_palette(sns.color_palette(\"Paired\"))\n",
    "sns.set_palette(sns.color_palette(\"deep\"))\n",
    "from smodels.tools import smodelsLogging\n",
    "smodelsLogging.setLogLevel('error')"
   ]
  },
  {
   "cell_type": "code",
   "execution_count": 2,
   "metadata": {},
   "outputs": [],
   "source": [
    "#Set colors:\n",
    "namer = SParticleNames ( susy = False )\n",
    "#Replace default colors:\n",
    "colorPalette = 'deep' #Set color palette for particles, if None use default\n",
    "colorDict = dict(zip(namer.names.keys(),sns.color_palette(palette=colorPalette,n_colors=len(namer.names))))"
   ]
  },
  {
   "cell_type": "code",
   "execution_count": 3,
   "metadata": {},
   "outputs": [],
   "source": [
    "def getLikelihoods(protomodel,muvals,normalize=True):\n",
    "    \n",
    "    #Sort tpList\n",
    "    critic = sorted(protomodel.tpList, key = lambda tp: tp[0], reverse = True)[0][2]\n",
    "\n",
    "    #Combiner likelihood:\n",
    "    combiner = Combiner(0)\n",
    "    llhComb = np.array([combiner.getCombinedLikelihood(protomodel.bestCombo,mu) for mu in muvals])\n",
    "    llhCombSM = combiner.getCombinedLikelihood(protomodel.bestCombo,0.)\n",
    "    llhDict = {'Combined' : llhComb}\n",
    "    llhDictSM = {'Combined' : llhCombSM}\n",
    "    for tp in protomodel.bestCombo:\n",
    "        llhDict[tp.expResult.globalInfo.id] = np.array([tp.getLikelihood(mu) for mu in muvals])\n",
    "        llhDictSM[tp.expResult.globalInfo.id] = tp.getLikelihood(0.0)\n",
    "\n",
    "    #Critic likelihood:\n",
    "    if critic.getLikelihood(1.0) is not None:\n",
    "        llhDictSM['Critic'] = critic.getLikelihood(0.0)\n",
    "        llhDict['Critic'] = np.array([critic.getLikelihood(mu) for mu in muvals])\n",
    "    else:\n",
    "        llhDict['Critic'] = None\n",
    "        llhDictSM['Critic'] = None\n",
    "    llhDict['SM values'] = llhDictSM\n",
    "    \n",
    "    #Compute normalizations:\n",
    "    if normalize:\n",
    "        for key,llhd in llhDict.items():\n",
    "            if key != 'SM values':\n",
    "                norm = llhd.sum()\n",
    "                llhDict[key] = llhd/norm\n",
    "                llhDict['SM values'][key] *= 1/norm\n",
    "    \n",
    "    \n",
    "    return llhDict\n"
   ]
  },
  {
   "cell_type": "code",
   "execution_count": 4,
   "metadata": {},
   "outputs": [],
   "source": [
    "def fromDict(inputDict):\n",
    "    \n",
    "    p = ProtoModel(walkerid=0)\n",
    "    for key,v in inputDict.items():\n",
    "        setattr(p,key,copy.deepcopy(v))\n",
    "        \n",
    "    return p"
   ]
  },
  {
   "cell_type": "code",
   "execution_count": 5,
   "metadata": {},
   "outputs": [],
   "source": [
    "#Get highest score from each run:\n",
    "protomodelsDict = {}\n",
    "for ff in glob.glob('../data/real9.dict'):\n",
    "    with open(ff,'r') as f:\n",
    "        pList = eval(f.read())\n",
    "    run = eval(os.path.basename(ff).replace('real','').replace('.dict',''))\n",
    "    pList = [fromDict(pDict) for pDict in pList[:]]\n",
    "    p = sorted(pList, key = lambda p: p.K, reverse=True)[0]\n",
    "    protomodelsDict[run] = p  "
   ]
  },
  {
   "cell_type": "code",
   "execution_count": 6,
   "metadata": {},
   "outputs": [
    {
     "name": "stdout",
     "output_type": "stream",
     "text": [
      "9 ProtoModel (XZ1,Xd,Xt): K = 6.90, Z = 3.24\n",
      "K (avg) = 6.90 +- 0.00\n"
     ]
    }
   ],
   "source": [
    "for run in sorted(protomodelsDict.keys()):\n",
    "    print(run,protomodelsDict[run])\n",
    "    \n",
    "Kavg = np.array([p.K for p in protomodelsDict.values()]).mean()\n",
    "Kstd = np.array([p.K for p in protomodelsDict.values()]).std()\n",
    "print('K (avg) = %1.2f +- %1.2f' %(Kavg,Kstd))"
   ]
  },
  {
   "cell_type": "code",
   "execution_count": 7,
   "metadata": {},
   "outputs": [
    {
     "name": "stdout",
     "output_type": "stream",
     "text": [
      "(1000022, 1000022) 0.003\n",
      "(1000001, 1000001) 0.493\n",
      "(-1000001, 1000001) 0.492\n",
      "(-1000001, -1000001) 0.493\n",
      "(1000001, 1000022) 0.493\n",
      "(-1000001, 1000022) 0.493\n",
      "(1000006, 1000006) 1.325\n",
      "(-1000006, 1000006) 1.226\n",
      "(-1000006, -1000006) 1.11\n",
      "(1000006, 1000022) 1.226\n",
      "(-1000006, 1000022) 1.11\n",
      "(1000001, 1000006) 1.11\n",
      "(-1000006, 1000001) 1.11\n",
      "(-1000001, 1000006) 1.11\n",
      "(-1000006, -1000001) 1.11\n",
      "{1000022: 162.552, 1000001: 734.948, 1000006: 1165.865}\n"
     ]
    }
   ],
   "source": [
    "protomodel = protomodelsDict[9]\n",
    "for pids, ssm in protomodel.ssmultipliers.items():\n",
    "    if not ssm: continue\n",
    "    print(pids,ssm)\n",
    "print(protomodel.masses)    "
   ]
  },
  {
   "cell_type": "code",
   "execution_count": 8,
   "metadata": {},
   "outputs": [
    {
     "name": "stdout",
     "output_type": "stream",
     "text": [
      "[combine:0] selected predictions down via SRs from 286 to 22.\n"
     ]
    },
    {
     "name": "stderr",
     "output_type": "stream",
     "text": [
      "combination #0/432   0%|                                        |ETA:  --:--:--\r"
     ]
    },
    {
     "name": "stdout",
     "output_type": "stream",
     "text": [
      "[combine:0] sorting out subsets, reduced 6025 -> 432 combinations.\n"
     ]
    },
    {
     "name": "stderr",
     "output_type": "stream",
     "text": [
      "combination #432/432 100%|||||||||||||||||||||||||||||||||||||||||Time: 0:01:00\n"
     ]
    },
    {
     "name": "stdout",
     "output_type": "stream",
     "text": [
      "700.0 0.05884287162443824\n",
      "[combine:0] selected predictions down via SRs from 286 to 22.\n"
     ]
    },
    {
     "name": "stderr",
     "output_type": "stream",
     "text": [
      "combination #0/432   0%|                                        |ETA:  --:--:--\r"
     ]
    },
    {
     "name": "stdout",
     "output_type": "stream",
     "text": [
      "[combine:0] sorting out subsets, reduced 6025 -> 432 combinations.\n"
     ]
    },
    {
     "name": "stderr",
     "output_type": "stream",
     "text": [
      "combination #432/432 100%|||||||||||||||||||||||||||||||||||||||||Time: 0:00:54\n"
     ]
    },
    {
     "name": "stdout",
     "output_type": "stream",
     "text": [
      "710.5263157894736 0.072024921384501\n",
      "[combine:0] selected predictions down via SRs from 286 to 22.\n"
     ]
    },
    {
     "name": "stderr",
     "output_type": "stream",
     "text": [
      "combination #0/432   0%|                                        |ETA:  --:--:--\r"
     ]
    },
    {
     "name": "stdout",
     "output_type": "stream",
     "text": [
      "[combine:0] sorting out subsets, reduced 6025 -> 432 combinations.\n"
     ]
    },
    {
     "name": "stderr",
     "output_type": "stream",
     "text": [
      "combination #432/432 100%|||||||||||||||||||||||||||||||||||||||||Time: 0:00:49\n"
     ]
    },
    {
     "name": "stdout",
     "output_type": "stream",
     "text": [
      "721.0526315789474 0.06154665449598884\n",
      "[combine:0] selected predictions down via SRs from 286 to 22.\n"
     ]
    },
    {
     "name": "stderr",
     "output_type": "stream",
     "text": [
      "combination #0/432   0%|                                        |ETA:  --:--:--\r"
     ]
    },
    {
     "name": "stdout",
     "output_type": "stream",
     "text": [
      "[combine:0] sorting out subsets, reduced 6025 -> 432 combinations.\n"
     ]
    },
    {
     "name": "stderr",
     "output_type": "stream",
     "text": [
      "combination #432/432 100%|||||||||||||||||||||||||||||||||||||||||Time: 0:00:46\n"
     ]
    },
    {
     "name": "stdout",
     "output_type": "stream",
     "text": [
      "731.578947368421 0.039134914708914614\n",
      "[combine:0] selected predictions down via SRs from 286 to 22.\n"
     ]
    },
    {
     "name": "stderr",
     "output_type": "stream",
     "text": [
      "combination #0/432   0%|                                        |ETA:  --:--:--\r"
     ]
    },
    {
     "name": "stdout",
     "output_type": "stream",
     "text": [
      "[combine:0] sorting out subsets, reduced 6025 -> 432 combinations.\n"
     ]
    },
    {
     "name": "stderr",
     "output_type": "stream",
     "text": [
      "combination #432/432 100%|||||||||||||||||||||||||||||||||||||||||Time: 0:00:58\n"
     ]
    },
    {
     "name": "stdout",
     "output_type": "stream",
     "text": [
      "742.1052631578948 0.014943548060625922\n",
      "[combine:0] selected predictions down via SRs from 286 to 22.\n"
     ]
    },
    {
     "name": "stderr",
     "output_type": "stream",
     "text": [
      "combination #0/432   0%|                                        |ETA:  --:--:--\r"
     ]
    },
    {
     "name": "stdout",
     "output_type": "stream",
     "text": [
      "[combine:0] sorting out subsets, reduced 6025 -> 432 combinations.\n"
     ]
    },
    {
     "name": "stderr",
     "output_type": "stream",
     "text": [
      "combination #432/432 100%|||||||||||||||||||||||||||||||||||||||||Time: 0:00:58\n"
     ]
    },
    {
     "name": "stdout",
     "output_type": "stream",
     "text": [
      "752.6315789473684 -0.011088019434526863\n",
      "[combine:0] selected predictions down via SRs from 286 to 22.\n"
     ]
    },
    {
     "name": "stderr",
     "output_type": "stream",
     "text": [
      "combination #0/432   0%|                                        |ETA:  --:--:--\r"
     ]
    },
    {
     "name": "stdout",
     "output_type": "stream",
     "text": [
      "[combine:0] sorting out subsets, reduced 6025 -> 432 combinations.\n"
     ]
    },
    {
     "name": "stderr",
     "output_type": "stream",
     "text": [
      "combination #432/432 100%|||||||||||||||||||||||||||||||||||||||||Time: 0:00:40\n"
     ]
    },
    {
     "name": "stdout",
     "output_type": "stream",
     "text": [
      "763.1578947368421 -0.06208972961799253\n",
      "[combine:0] selected predictions down via SRs from 286 to 22.\n"
     ]
    },
    {
     "name": "stderr",
     "output_type": "stream",
     "text": [
      "combination #0/432   0%|                                        |ETA:  --:--:--\r"
     ]
    },
    {
     "name": "stdout",
     "output_type": "stream",
     "text": [
      "[combine:0] sorting out subsets, reduced 6025 -> 432 combinations.\n"
     ]
    },
    {
     "name": "stderr",
     "output_type": "stream",
     "text": [
      "combination #432/432 100%|||||||||||||||||||||||||||||||||||||||||Time: 0:00:45\n"
     ]
    },
    {
     "name": "stdout",
     "output_type": "stream",
     "text": [
      "773.6842105263158 -0.08242201776176916\n",
      "[combine:0] selected predictions down via SRs from 286 to 22.\n"
     ]
    },
    {
     "name": "stderr",
     "output_type": "stream",
     "text": [
      "combination #0/432   0%|                                        |ETA:  --:--:--\r"
     ]
    },
    {
     "name": "stdout",
     "output_type": "stream",
     "text": [
      "[combine:0] sorting out subsets, reduced 6025 -> 432 combinations.\n"
     ]
    },
    {
     "name": "stderr",
     "output_type": "stream",
     "text": [
      "combination #432/432 100%|||||||||||||||||||||||||||||||||||||||||Time: 0:00:44\n"
     ]
    },
    {
     "name": "stdout",
     "output_type": "stream",
     "text": [
      "784.2105263157895 -0.07089834883564361\n",
      "[combine:0] selected predictions down via SRs from 286 to 22.\n"
     ]
    },
    {
     "name": "stderr",
     "output_type": "stream",
     "text": [
      "combination #0/432   0%|                                        |ETA:  --:--:--\r"
     ]
    },
    {
     "name": "stdout",
     "output_type": "stream",
     "text": [
      "[combine:0] sorting out subsets, reduced 6025 -> 432 combinations.\n"
     ]
    },
    {
     "name": "stderr",
     "output_type": "stream",
     "text": [
      "combination #432/432 100%|||||||||||||||||||||||||||||||||||||||||Time: 0:00:51\n"
     ]
    },
    {
     "name": "stdout",
     "output_type": "stream",
     "text": [
      "794.7368421052631 -0.08357773588207618\n"
     ]
    },
    {
     "name": "stderr",
     "output_type": "stream",
     "text": [
      "combination #0/216   0%|                                        |ETA:  --:--:--\r"
     ]
    },
    {
     "name": "stdout",
     "output_type": "stream",
     "text": [
      "[combine:0] selected predictions down via SRs from 242 to 18.\n",
      "[combine:0] sorting out subsets, reduced 1493 -> 216 combinations.\n"
     ]
    },
    {
     "name": "stderr",
     "output_type": "stream",
     "text": [
      "combination #216/216 100%|||||||||||||||||||||||||||||||||||||||||Time: 0:00:18\n"
     ]
    },
    {
     "name": "stdout",
     "output_type": "stream",
     "text": [
      "805.2631578947369 -0.45240487461412204\n"
     ]
    },
    {
     "name": "stderr",
     "output_type": "stream",
     "text": [
      "combination #0/216   0%|                                        |ETA:  --:--:--\r"
     ]
    },
    {
     "name": "stdout",
     "output_type": "stream",
     "text": [
      "[combine:0] selected predictions down via SRs from 242 to 18.\n",
      "[combine:0] sorting out subsets, reduced 1493 -> 216 combinations.\n"
     ]
    },
    {
     "name": "stderr",
     "output_type": "stream",
     "text": [
      "combination #216/216 100%|||||||||||||||||||||||||||||||||||||||||Time: 0:00:19\n"
     ]
    },
    {
     "name": "stdout",
     "output_type": "stream",
     "text": [
      "815.7894736842105 -0.41533275660352853\n"
     ]
    },
    {
     "name": "stderr",
     "output_type": "stream",
     "text": [
      "combination #0/216   0%|                                        |ETA:  --:--:--\r"
     ]
    },
    {
     "name": "stdout",
     "output_type": "stream",
     "text": [
      "[combine:0] selected predictions down via SRs from 242 to 18.\n",
      "[combine:0] sorting out subsets, reduced 1493 -> 216 combinations.\n"
     ]
    },
    {
     "name": "stderr",
     "output_type": "stream",
     "text": [
      "combination #216/216 100%|||||||||||||||||||||||||||||||||||||||||Time: 0:00:18\n"
     ]
    },
    {
     "name": "stdout",
     "output_type": "stream",
     "text": [
      "826.3157894736842 -0.32322879993329234\n"
     ]
    },
    {
     "name": "stderr",
     "output_type": "stream",
     "text": [
      "combination #0/216   0%|                                        |ETA:  --:--:--\r"
     ]
    },
    {
     "name": "stdout",
     "output_type": "stream",
     "text": [
      "[combine:0] selected predictions down via SRs from 242 to 18.\n",
      "[combine:0] sorting out subsets, reduced 1493 -> 216 combinations.\n"
     ]
    },
    {
     "name": "stderr",
     "output_type": "stream",
     "text": [
      "combination #216/216 100%|||||||||||||||||||||||||||||||||||||||||Time: 0:00:14\n"
     ]
    },
    {
     "name": "stdout",
     "output_type": "stream",
     "text": [
      "836.8421052631579 -0.2358432116673268\n"
     ]
    },
    {
     "name": "stderr",
     "output_type": "stream",
     "text": [
      "combination #0/216   0%|                                        |ETA:  --:--:--\r"
     ]
    },
    {
     "name": "stdout",
     "output_type": "stream",
     "text": [
      "[combine:0] selected predictions down via SRs from 242 to 18.\n",
      "[combine:0] sorting out subsets, reduced 1493 -> 216 combinations.\n"
     ]
    },
    {
     "name": "stderr",
     "output_type": "stream",
     "text": [
      "combination #216/216 100%|||||||||||||||||||||||||||||||||||||||||Time: 0:00:18\n"
     ]
    },
    {
     "name": "stdout",
     "output_type": "stream",
     "text": [
      "847.3684210526316 0.014116680425471095\n"
     ]
    },
    {
     "name": "stderr",
     "output_type": "stream",
     "text": [
      "combination #0/216   0%|                                        |ETA:  --:--:--\r"
     ]
    },
    {
     "name": "stdout",
     "output_type": "stream",
     "text": [
      "[combine:0] selected predictions down via SRs from 242 to 18.\n",
      "[combine:0] sorting out subsets, reduced 1493 -> 216 combinations.\n"
     ]
    },
    {
     "name": "stderr",
     "output_type": "stream",
     "text": [
      "combination #216/216 100%|||||||||||||||||||||||||||||||||||||||||Time: 0:00:16\n"
     ]
    },
    {
     "name": "stdout",
     "output_type": "stream",
     "text": [
      "857.8947368421052 0.2582932526195072\n"
     ]
    },
    {
     "name": "stderr",
     "output_type": "stream",
     "text": [
      "combination #0/216   0%|                                        |ETA:  --:--:--\r"
     ]
    },
    {
     "name": "stdout",
     "output_type": "stream",
     "text": [
      "[combine:0] selected predictions down via SRs from 242 to 18.\n",
      "[combine:0] sorting out subsets, reduced 1493 -> 216 combinations.\n"
     ]
    },
    {
     "name": "stderr",
     "output_type": "stream",
     "text": [
      "combination #216/216 100%|||||||||||||||||||||||||||||||||||||||||Time: 0:00:16\n"
     ]
    },
    {
     "name": "stdout",
     "output_type": "stream",
     "text": [
      "868.421052631579 0.44481878748331827\n"
     ]
    },
    {
     "name": "stderr",
     "output_type": "stream",
     "text": [
      "combination #0/216   0%|                                        |ETA:  --:--:--\r"
     ]
    },
    {
     "name": "stdout",
     "output_type": "stream",
     "text": [
      "[combine:0] selected predictions down via SRs from 242 to 18.\n",
      "[combine:0] sorting out subsets, reduced 1493 -> 216 combinations.\n"
     ]
    },
    {
     "name": "stderr",
     "output_type": "stream",
     "text": [
      "combination #216/216 100%|||||||||||||||||||||||||||||||||||||||||Time: 0:00:15\n"
     ]
    },
    {
     "name": "stdout",
     "output_type": "stream",
     "text": [
      "878.9473684210527 0.5908204262014225\n"
     ]
    },
    {
     "name": "stderr",
     "output_type": "stream",
     "text": [
      "combination #0/216   0%|                                        |ETA:  --:--:--\r"
     ]
    },
    {
     "name": "stdout",
     "output_type": "stream",
     "text": [
      "[combine:0] selected predictions down via SRs from 242 to 18.\n",
      "[combine:0] sorting out subsets, reduced 1493 -> 216 combinations.\n"
     ]
    },
    {
     "name": "stderr",
     "output_type": "stream",
     "text": [
      "combination #216/216 100%|||||||||||||||||||||||||||||||||||||||||Time: 0:00:16\n"
     ]
    },
    {
     "name": "stdout",
     "output_type": "stream",
     "text": [
      "889.4736842105264 0.9154830462867078\n"
     ]
    },
    {
     "name": "stderr",
     "output_type": "stream",
     "text": [
      "combination #0/216   0%|                                        |ETA:  --:--:--\r"
     ]
    },
    {
     "name": "stdout",
     "output_type": "stream",
     "text": [
      "[combine:0] selected predictions down via SRs from 242 to 18.\n",
      "[combine:0] sorting out subsets, reduced 1493 -> 216 combinations.\n"
     ]
    },
    {
     "name": "stderr",
     "output_type": "stream",
     "text": [
      "combination #216/216 100%|||||||||||||||||||||||||||||||||||||||||Time: 0:00:14\r"
     ]
    },
    {
     "name": "stdout",
     "output_type": "stream",
     "text": [
      "900.0 1.1181675589789561\n"
     ]
    },
    {
     "name": "stderr",
     "output_type": "stream",
     "text": [
      "\n"
     ]
    }
   ],
   "source": [
    "run = 9\n",
    "p = protomodelsDict[run]\n",
    "mXt = np.linspace(700.,900.,20)\n",
    "pList = []\n",
    "pred = Predictor(walkerid=0,dbpath='../official124_smodels200.pcl')\n",
    "for mass in mXt:\n",
    "    protomodel = copy.deepcopy(p)\n",
    "    protomodel.masses[1000006] = mass\n",
    "    #Get predictions:\n",
    "    res = pred.predict(protomodel)\n",
    "    pList.append(protomodel)\n",
    "    print(mass,protomodel.K)"
   ]
  },
  {
   "cell_type": "code",
   "execution_count": 9,
   "metadata": {},
   "outputs": [],
   "source": [
    "kvalues = [pp.K for pp in pList]"
   ]
  },
  {
   "cell_type": "code",
   "execution_count": 10,
   "metadata": {},
   "outputs": [
    {
     "data": {
      "image/png": "[encoded data removed]",
      "text/plain": [
       "<Figure size 432x288 with 1 Axes>"
      ]
     },
     "metadata": {},
     "output_type": "display_data"
    }
   ],
   "source": [
    "plt.plot(mXt,kvalues,'o-')\n",
    "plt.xlabel(r'$m(X_t^1)$')\n",
    "plt.ylabel(r'$K$')\n",
    "plt.savefig('KvsMXt.png')\n",
    "plt.show()"
   ]
  },
  {
   "cell_type": "code",
   "execution_count": 11,
   "metadata": {},
   "outputs": [
    {
     "name": "stderr",
     "output_type": "stream",
     "text": [
      "combination #2/42   4%|--                                        |ETA:  0:00:03\r"
     ]
    },
    {
     "name": "stdout",
     "output_type": "stream",
     "text": [
      "[combine:0] selected predictions down via SRs from 206 to 15.\n",
      "[combine:0] sorting out subsets, reduced 512 -> 42 combinations.\n"
     ]
    },
    {
     "name": "stderr",
     "output_type": "stream",
     "text": [
      "combination #42/42 100%|||||||||||||||||||||||||||||||||||||||||||Time: 0:00:06\n",
      "combination #2/42   4%|--                                        |ETA:  0:00:03\r"
     ]
    },
    {
     "name": "stdout",
     "output_type": "stream",
     "text": [
      "[combine:0] selected predictions down via SRs from 206 to 15.\n",
      "[combine:0] sorting out subsets, reduced 512 -> 42 combinations.\n"
     ]
    },
    {
     "name": "stderr",
     "output_type": "stream",
     "text": [
      "combination #42/42 100%|||||||||||||||||||||||||||||||||||||||||||Time: 0:00:05\n",
      "combination #2/42   4%|--                                        |ETA:  0:00:03\r"
     ]
    },
    {
     "name": "stdout",
     "output_type": "stream",
     "text": [
      "[combine:0] selected predictions down via SRs from 206 to 15.\n",
      "[combine:0] sorting out subsets, reduced 512 -> 42 combinations.\n"
     ]
    },
    {
     "name": "stderr",
     "output_type": "stream",
     "text": [
      "combination #42/42 100%|||||||||||||||||||||||||||||||||||||||||||Time: 0:00:03\n",
      "combination #2/42   4%|--                                        |ETA:  0:00:03\r"
     ]
    },
    {
     "name": "stdout",
     "output_type": "stream",
     "text": [
      "[combine:0] selected predictions down via SRs from 206 to 15.\n",
      "[combine:0] sorting out subsets, reduced 512 -> 42 combinations.\n"
     ]
    },
    {
     "name": "stderr",
     "output_type": "stream",
     "text": [
      "combination #42/42 100%|||||||||||||||||||||||||||||||||||||||||||Time: 0:00:03\n",
      "combination #1/42   2%|/                                         |ETA:  0:00:03\r"
     ]
    },
    {
     "name": "stdout",
     "output_type": "stream",
     "text": [
      "[combine:0] selected predictions down via SRs from 206 to 15.\n",
      "[combine:0] sorting out subsets, reduced 512 -> 42 combinations.\n"
     ]
    },
    {
     "name": "stderr",
     "output_type": "stream",
     "text": [
      "combination #42/42 100%|||||||||||||||||||||||||||||||||||||||||||Time: 0:00:04\n",
      "combination #1/42   2%|/                                         |ETA:  0:00:04\r"
     ]
    },
    {
     "name": "stdout",
     "output_type": "stream",
     "text": [
      "[combine:0] selected predictions down via SRs from 206 to 15.\n",
      "[combine:0] sorting out subsets, reduced 512 -> 42 combinations.\n"
     ]
    },
    {
     "name": "stderr",
     "output_type": "stream",
     "text": [
      "combination #42/42 100%|||||||||||||||||||||||||||||||||||||||||||Time: 0:00:03\n",
      "combination #2/42   4%|--                                        |ETA:  0:00:03\r"
     ]
    },
    {
     "name": "stdout",
     "output_type": "stream",
     "text": [
      "[combine:0] selected predictions down via SRs from 208 to 15.\n",
      "[combine:0] sorting out subsets, reduced 512 -> 42 combinations.\n"
     ]
    },
    {
     "name": "stderr",
     "output_type": "stream",
     "text": [
      "combination #42/42 100%|||||||||||||||||||||||||||||||||||||||||||Time: 0:00:03\n",
      "combination #1/42   2%|/                                         |ETA:  0:00:03\r"
     ]
    },
    {
     "name": "stdout",
     "output_type": "stream",
     "text": [
      "[combine:0] selected predictions down via SRs from 208 to 15.\n",
      "[combine:0] sorting out subsets, reduced 512 -> 42 combinations.\n"
     ]
    },
    {
     "name": "stderr",
     "output_type": "stream",
     "text": [
      "combination #42/42 100%|||||||||||||||||||||||||||||||||||||||||||Time: 0:00:04\n",
      "combination #1/42   2%|/                                         |ETA:  0:00:03\r"
     ]
    },
    {
     "name": "stdout",
     "output_type": "stream",
     "text": [
      "[combine:0] selected predictions down via SRs from 206 to 15.\n",
      "[combine:0] sorting out subsets, reduced 512 -> 42 combinations.\n"
     ]
    },
    {
     "name": "stderr",
     "output_type": "stream",
     "text": [
      "combination #42/42 100%|||||||||||||||||||||||||||||||||||||||||||Time: 0:00:07\n",
      "combination #2/42   4%|--                                        |ETA:  0:00:03\r"
     ]
    },
    {
     "name": "stdout",
     "output_type": "stream",
     "text": [
      "[combine:0] selected predictions down via SRs from 206 to 15.\n",
      "[combine:0] sorting out subsets, reduced 512 -> 42 combinations.\n"
     ]
    },
    {
     "name": "stderr",
     "output_type": "stream",
     "text": [
      "combination #42/42 100%|||||||||||||||||||||||||||||||||||||||||||Time: 0:00:05\n",
      "combination #1/42   2%|/                                         |ETA:  0:00:05\r"
     ]
    },
    {
     "name": "stdout",
     "output_type": "stream",
     "text": [
      "[combine:0] selected predictions down via SRs from 206 to 15.\n",
      "[combine:0] sorting out subsets, reduced 512 -> 42 combinations.\n"
     ]
    },
    {
     "name": "stderr",
     "output_type": "stream",
     "text": [
      "combination #42/42 100%|||||||||||||||||||||||||||||||||||||||||||Time: 0:00:04\n",
      "combination #1/42   2%|/                                         |ETA:  0:00:04\r"
     ]
    },
    {
     "name": "stdout",
     "output_type": "stream",
     "text": [
      "[combine:0] selected predictions down via SRs from 206 to 15.\n",
      "[combine:0] sorting out subsets, reduced 512 -> 42 combinations.\n"
     ]
    },
    {
     "name": "stderr",
     "output_type": "stream",
     "text": [
      "combination #42/42 100%|||||||||||||||||||||||||||||||||||||||||||Time: 0:00:05\n",
      "combination #2/42   4%|--                                        |ETA:  0:00:03\r"
     ]
    },
    {
     "name": "stdout",
     "output_type": "stream",
     "text": [
      "[combine:0] selected predictions down via SRs from 206 to 15.\n",
      "[combine:0] sorting out subsets, reduced 512 -> 42 combinations.\n"
     ]
    },
    {
     "name": "stderr",
     "output_type": "stream",
     "text": [
      "combination #42/42 100%|||||||||||||||||||||||||||||||||||||||||||Time: 0:00:03\n",
      "combination #2/42   4%|--                                        |ETA:  0:00:03\r"
     ]
    },
    {
     "name": "stdout",
     "output_type": "stream",
     "text": [
      "[combine:0] selected predictions down via SRs from 206 to 15.\n",
      "[combine:0] sorting out subsets, reduced 512 -> 42 combinations.\n"
     ]
    },
    {
     "name": "stderr",
     "output_type": "stream",
     "text": [
      "combination #42/42 100%|||||||||||||||||||||||||||||||||||||||||||Time: 0:00:03\n",
      "combination #2/42   4%|--                                        |ETA:  0:00:03\r"
     ]
    },
    {
     "name": "stdout",
     "output_type": "stream",
     "text": [
      "[combine:0] selected predictions down via SRs from 206 to 15.\n",
      "[combine:0] sorting out subsets, reduced 512 -> 42 combinations.\n"
     ]
    },
    {
     "name": "stderr",
     "output_type": "stream",
     "text": [
      "combination #42/42 100%|||||||||||||||||||||||||||||||||||||||||||Time: 0:00:06\n",
      "combination #2/42   4%|--                                        |ETA:  0:00:03\r"
     ]
    },
    {
     "name": "stdout",
     "output_type": "stream",
     "text": [
      "[combine:0] selected predictions down via SRs from 206 to 15.\n",
      "[combine:0] sorting out subsets, reduced 512 -> 42 combinations.\n"
     ]
    },
    {
     "name": "stderr",
     "output_type": "stream",
     "text": [
      "combination #42/42 100%|||||||||||||||||||||||||||||||||||||||||||Time: 0:00:04\n",
      "combination #1/42   2%|/                                         |ETA:  0:00:04\r"
     ]
    },
    {
     "name": "stdout",
     "output_type": "stream",
     "text": [
      "[combine:0] selected predictions down via SRs from 206 to 15.\n",
      "[combine:0] sorting out subsets, reduced 512 -> 42 combinations.\n"
     ]
    },
    {
     "name": "stderr",
     "output_type": "stream",
     "text": [
      "combination #42/42 100%|||||||||||||||||||||||||||||||||||||||||||Time: 0:00:04\n",
      "combination #1/42   2%|/                                         |ETA:  0:00:04\r"
     ]
    },
    {
     "name": "stdout",
     "output_type": "stream",
     "text": [
      "[combine:0] selected predictions down via SRs from 206 to 15.\n",
      "[combine:0] sorting out subsets, reduced 512 -> 42 combinations.\n"
     ]
    },
    {
     "name": "stderr",
     "output_type": "stream",
     "text": [
      "combination #42/42 100%|||||||||||||||||||||||||||||||||||||||||||Time: 0:00:05\n",
      "combination #1/42   2%|/                                         |ETA:  0:00:05\r"
     ]
    },
    {
     "name": "stdout",
     "output_type": "stream",
     "text": [
      "[combine:0] selected predictions down via SRs from 206 to 15.\n",
      "[combine:0] sorting out subsets, reduced 512 -> 42 combinations.\n"
     ]
    },
    {
     "name": "stderr",
     "output_type": "stream",
     "text": [
      "combination #42/42 100%|||||||||||||||||||||||||||||||||||||||||||Time: 0:00:08\n",
      "combination #0/42   0%|                                         |ETA:  --:--:--\r"
     ]
    },
    {
     "name": "stdout",
     "output_type": "stream",
     "text": [
      "[combine:0] selected predictions down via SRs from 206 to 15.\n",
      "[combine:0] sorting out subsets, reduced 512 -> 42 combinations.\n"
     ]
    },
    {
     "name": "stderr",
     "output_type": "stream",
     "text": [
      "combination #42/42 100%|||||||||||||||||||||||||||||||||||||||||||Time: 0:00:06\n",
      "combination #2/42   4%|--                                        |ETA:  0:00:02\r"
     ]
    },
    {
     "name": "stdout",
     "output_type": "stream",
     "text": [
      "[combine:0] selected predictions down via SRs from 204 to 14.\n",
      "[combine:0] sorting out subsets, reduced 249 -> 42 combinations.\n"
     ]
    },
    {
     "name": "stderr",
     "output_type": "stream",
     "text": [
      "combination #42/42 100%|||||||||||||||||||||||||||||||||||||||||||Time: 0:00:06\n",
      "combination #3/42   7%|\\\\\\                                       |ETA:  0:00:02\r"
     ]
    },
    {
     "name": "stdout",
     "output_type": "stream",
     "text": [
      "[combine:0] selected predictions down via SRs from 204 to 14.\n",
      "[combine:0] sorting out subsets, reduced 249 -> 42 combinations.\n"
     ]
    },
    {
     "name": "stderr",
     "output_type": "stream",
     "text": [
      "combination #42/42 100%|||||||||||||||||||||||||||||||||||||||||||Time: 0:00:04\n",
      "combination #3/28  10%|\\\\\\\\                                      |ETA:  0:00:01\r"
     ]
    },
    {
     "name": "stdout",
     "output_type": "stream",
     "text": [
      "[combine:0] selected predictions down via SRs from 202 to 13.\n",
      "[combine:0] sorting out subsets, reduced 184 -> 28 combinations.\n"
     ]
    },
    {
     "name": "stderr",
     "output_type": "stream",
     "text": [
      "combination #28/28 100%|||||||||||||||||||||||||||||||||||||||||||Time: 0:00:02\n",
      "combination #3/28  10%|\\\\\\\\                                      |ETA:  0:00:01\r"
     ]
    },
    {
     "name": "stdout",
     "output_type": "stream",
     "text": [
      "[combine:0] selected predictions down via SRs from 202 to 13.\n",
      "[combine:0] sorting out subsets, reduced 184 -> 28 combinations.\n"
     ]
    },
    {
     "name": "stderr",
     "output_type": "stream",
     "text": [
      "combination #28/28 100%|||||||||||||||||||||||||||||||||||||||||||Time: 0:00:01\n",
      "combination #4/28  14%|||||||                                    |ETA:  0:00:01\r"
     ]
    },
    {
     "name": "stdout",
     "output_type": "stream",
     "text": [
      "[combine:0] selected predictions down via SRs from 204 to 13.\n",
      "[combine:0] sorting out subsets, reduced 184 -> 28 combinations.\n"
     ]
    },
    {
     "name": "stderr",
     "output_type": "stream",
     "text": [
      "combination #28/28 100%|||||||||||||||||||||||||||||||||||||||||||Time: 0:00:01\n",
      "combination #4/28  14%|||||||                                    |ETA:  0:00:01\r"
     ]
    },
    {
     "name": "stdout",
     "output_type": "stream",
     "text": [
      "[combine:0] selected predictions down via SRs from 204 to 13.\n",
      "[combine:0] sorting out subsets, reduced 184 -> 28 combinations.\n"
     ]
    },
    {
     "name": "stderr",
     "output_type": "stream",
     "text": [
      "combination #28/28 100%|||||||||||||||||||||||||||||||||||||||||||Time: 0:00:02\n",
      "combination #2/32   6%|--                                        |ETA:  0:00:01\r"
     ]
    },
    {
     "name": "stdout",
     "output_type": "stream",
     "text": [
      "[combine:0] selected predictions down via SRs from 204 to 13.\n",
      "[combine:0] sorting out subsets, reduced 220 -> 32 combinations.\n"
     ]
    },
    {
     "name": "stderr",
     "output_type": "stream",
     "text": [
      "combination #32/32 100%|||||||||||||||||||||||||||||||||||||||||||Time: 0:00:04\n",
      "combination #1/32   3%|/                                         |ETA:  0:00:03\r"
     ]
    },
    {
     "name": "stdout",
     "output_type": "stream",
     "text": [
      "[combine:0] selected predictions down via SRs from 204 to 13.\n",
      "[combine:0] sorting out subsets, reduced 220 -> 32 combinations.\n"
     ]
    },
    {
     "name": "stderr",
     "output_type": "stream",
     "text": [
      "combination #32/32 100%|||||||||||||||||||||||||||||||||||||||||||Time: 0:00:03\n",
      "combination #2/16  12%|-----                                     |ETA:  0:00:01\r"
     ]
    },
    {
     "name": "stdout",
     "output_type": "stream",
     "text": [
      "[combine:0] selected predictions down via SRs from 190 to 12.\n",
      "[combine:0] sorting out subsets, reduced 143 -> 16 combinations.\n"
     ]
    },
    {
     "name": "stderr",
     "output_type": "stream",
     "text": [
      "combination #16/16 100%|||||||||||||||||||||||||||||||||||||||||||Time: 0:00:01\n",
      "combination #1/16   6%|//                                        |ETA:  0:00:02\r"
     ]
    },
    {
     "name": "stdout",
     "output_type": "stream",
     "text": [
      "[combine:0] selected predictions down via SRs from 190 to 12.\n",
      "[combine:0] sorting out subsets, reduced 143 -> 16 combinations.\n"
     ]
    },
    {
     "name": "stderr",
     "output_type": "stream",
     "text": [
      "combination #16/16 100%|||||||||||||||||||||||||||||||||||||||||||Time: 0:00:01\n"
     ]
    }
   ],
   "source": [
    "run = 9\n",
    "p = protomodelsDict[run]\n",
    "mZ = np.linspace(450.,600.,30)\n",
    "pList2 = []\n",
    "pred = Predictor(walkerid=0,dbpath='../official124_smodels200.pcl')\n",
    "for mass in mZ:\n",
    "    protomodel = copy.deepcopy(p)\n",
    "    protomodel.masses[1000022] = mass\n",
    "    #Get predictions:\n",
    "    res = pred.predict(protomodel)\n",
    "    pList2.append(protomodel)"
   ]
  },
  {
   "cell_type": "code",
   "execution_count": 12,
   "metadata": {},
   "outputs": [],
   "source": [
    "kvalues2 = [pp.K for pp in pList2]"
   ]
  },
  {
   "cell_type": "code",
   "execution_count": 13,
   "metadata": {},
   "outputs": [
    {
     "data": {
      "image/png": "[encoded data removed]",
      "text/plain": [
       "<Figure size 432x288 with 1 Axes>"
      ]
     },
     "metadata": {},
     "output_type": "display_data"
    }
   ],
   "source": [
    "plt.plot(mZ,kvalues2,'o-')\n",
    "plt.xlabel(r'$m(Z)$')\n",
    "plt.ylabel(r'$K$')\n",
    "plt.savefig('KvsMZ.png')\n",
    "plt.show()"
   ]
  },
  {
   "cell_type": "code",
   "execution_count": null,
   "metadata": {},
   "outputs": [],
   "source": []
  }
 ],
 "metadata": {
  "kernelspec": {
   "display_name": "Python 3",
   "language": "python",
   "name": "python3"
  },
  "language_info": {
   "codemirror_mode": {
    "name": "ipython",
    "version": 3
   },
   "file_extension": ".py",
   "mimetype": "text/x-python",
   "name": "python",
   "nbconvert_exporter": "python",
   "pygments_lexer": "ipython3",
   "version": "3.8.5"
  }
 },
 "nbformat": 4,
 "nbformat_minor": 4
}

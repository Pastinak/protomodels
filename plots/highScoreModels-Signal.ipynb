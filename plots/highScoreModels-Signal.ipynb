{
 "cells": [
  {
   "cell_type": "code",
   "execution_count": 1,
   "metadata": {},
   "outputs": [],
   "source": [
    "import sys,os,copy,glob\n",
    "import numpy as np\n",
    "sys.path.append(os.path.abspath('../smodels'))\n",
    "sys.path.append(os.path.abspath('../'))\n",
    "from builder.protomodel import ProtoModel\n",
    "from builder.manipulator import Manipulator\n",
    "from tester.predictor import Predictor\n",
    "from tester.combiner import Combiner\n",
    "from walker.hiscore import Hiscore\n",
    "from smodels.experiment.databaseObj import Database\n",
    "from smodels.tools import runtime\n",
    "from smodels.tools.physicsUnits import fb\n",
    "runtime._experimental = True\n",
    "import matplotlib.pyplot as plt\n",
    "import seaborn as sns\n",
    "sns.set() #Set style\n",
    "sns.set_style('ticks',{'font.family':'serif', 'font.serif':'Times New Roman'})\n",
    "sns.set_context('paper', font_scale=1.8)\n",
    "sns.set_palette(sns.color_palette(\"Paired\"))"
   ]
  },
  {
   "cell_type": "code",
   "execution_count": 2,
   "metadata": {},
   "outputs": [],
   "source": [
    "def getLikelihoods(protomodel,muvals,normalize=True):\n",
    "    \n",
    "    #Sort tpList\n",
    "    critic = sorted(protomodel.tpList, key = lambda tp: tp[0], reverse = True)[0][2]\n",
    "\n",
    "    #Combiner likelihood:\n",
    "    combiner = Combiner(0)\n",
    "    llhComb = np.array([combiner.getCombinedLikelihood(protomodel.bestCombo,mu) for mu in muvals])\n",
    "    llhCombSM = combiner.getCombinedLikelihood(protomodel.bestCombo,0.)\n",
    "    llhDict = {'Combined' : llhComb}\n",
    "    llhDictSM = {'Combined' : llhCombSM}\n",
    "    for tp in protomodel.bestCombo:\n",
    "        llhDict[tp.expResult.globalInfo.id] = np.array([tp.getLikelihood(mu) for mu in muvals])\n",
    "        llhDictSM[tp.expResult.globalInfo.id] = tp.getLikelihood(0.0)\n",
    "\n",
    "    #Critic likelihood:\n",
    "    if critic.getLikelihood(1.0) is not None:\n",
    "        llhDictSM['Critic'] = critic.getLikelihood(0.0)\n",
    "        llhDict['Critic'] = np.array([critic.getLikelihood(mu) for mu in muvals])\n",
    "    else:\n",
    "        llhDict['Critic'] = None\n",
    "        llhDictSM['Critic'] = None\n",
    "    llhDict['SM values'] = llhDictSM\n",
    "    \n",
    "    #Compute normalizations:\n",
    "    if normalize:\n",
    "        for key,llhd in llhDict.items():\n",
    "            if key != 'SM values':\n",
    "                norm = llhd.sum()\n",
    "                llhDict[key] = llhd/norm\n",
    "                llhDict['SM values'][key] *= 1/norm\n",
    "    \n",
    "    \n",
    "    return llhDict\n"
   ]
  },
  {
   "cell_type": "code",
   "execution_count": 3,
   "metadata": {},
   "outputs": [],
   "source": [
    "def fromDict(inputDict):\n",
    "    \n",
    "    p = ProtoModel(walkerid=0)\n",
    "    for key,v in inputDict.items():\n",
    "        setattr(p,key,copy.deepcopy(v))\n",
    "        \n",
    "    return p"
   ]
  },
  {
   "cell_type": "code",
   "execution_count": 5,
   "metadata": {},
   "outputs": [],
   "source": [
    "#Get highest score from each run:\n",
    "protomodelsDict = {}\n",
    "for ff in glob.glob('../data/signal*.dict'):\n",
    "    with open(ff,'r') as f:\n",
    "        pList = eval(f.read())\n",
    "    run = eval(os.path.basename(ff).replace('signal','').replace('.dict',''))\n",
    "    pList = [fromDict(pDict) for pDict in pList[:]]\n",
    "    p = sorted(pList, key = lambda p: p.K, reverse=True)[0]\n",
    "    protomodelsDict[run] = p  "
   ]
  },
  {
   "cell_type": "code",
   "execution_count": 6,
   "metadata": {},
   "outputs": [
    {
     "name": "stdout",
     "output_type": "stream",
     "text": [
      "1 ProtoModel (XZ1,Xb,Xt): K = 10.00, Z = 3.75\n",
      "2 ProtoModel (XZ1,XW,Xt): K = 2.57, Z = 2.58\n",
      "3 ProtoModel (XZ1,Xb,Xt): K = 10.35, Z = 3.79\n",
      "4 ProtoModel (XZ1,Xd,Xt): K = 9.66, Z = 3.67\n",
      "5 ProtoModel (XZ1,Xd,Xt): K = 12.43, Z = 4.02\n",
      "6 ProtoModel (XZ1,Xt,Xd): K = 10.46, Z = 3.78\n",
      "7 ProtoModel (XZ1,Xg): K = 8.04, Z = 3.29\n",
      "8 ProtoModel (XZ1,Xg): K = 6.83, Z = 3.25\n",
      "9 ProtoModel (XZ1,Xd,Xt): K = 9.17, Z = 3.57\n",
      "10 ProtoModel (XZ1,Xd,Xt): K = 10.98, Z = 3.81\n",
      "11 ProtoModel (XZ1,Xd,Xt): K = 16.05, Z = 4.50\n",
      "12 ProtoModel (XZ1,Xd,Xt): K = 14.19, Z = 4.21\n",
      "13 ProtoModel (XZ1,Xt,Xd,Xg): K = 19.19, Z = 4.99\n",
      "14 ProtoModel (XZ1,Xd,Xt): K = 9.93, Z = 3.68\n",
      "15 ProtoModel (XZ1,Xt,Xd): K = 11.68, Z = 3.94\n",
      "16 ProtoModel (XZ1,Xd,Xt): K = 10.44, Z = 3.77\n",
      "17 ProtoModel (XZ1,Xt,Xt2): K = 5.79, Z = 3.13\n",
      "18 ProtoModel (XZ1,Xg,Xt): K = 12.78, Z = 4.10\n",
      "19 ProtoModel (XZ1,Xt,Xc): K = 12.63, Z = 4.02\n",
      "20 ProtoModel (XZ1,Xd,Xt): K = 10.55, Z = 3.75\n",
      "K (avg) = 10.69 +- 3.48\n"
     ]
    }
   ],
   "source": [
    "for run in sorted(protomodelsDict.keys()):\n",
    "    print(run,protomodelsDict[run])\n",
    "    \n",
    "Kavg = np.array([p.K for p in protomodelsDict.values()]).mean()\n",
    "Kstd = np.array([p.K for p in protomodelsDict.values()]).std()\n",
    "print('K (avg) = %1.2f +- %1.2f' %(Kavg,Kstd))"
   ]
  },
  {
   "cell_type": "code",
   "execution_count": 16,
   "metadata": {},
   "outputs": [
    {
     "name": "stdout",
     "output_type": "stream",
     "text": [
      "(-1000004, 1000004) 2.662\n",
      "(-1000004, -1000004) 2.662\n",
      "(1000004, 1000022) 2.662\n",
      "(-1000004, 1000022) 2.662\n",
      "(1000006, 1000006) 1.001\n",
      "(-1000006, 1000006) 1.001\n",
      "(-1000006, -1000006) 1.001\n",
      "(1000006, 1000022) 1.001\n",
      "(-1000006, 1000022) 1.001\n",
      "(1000004, 1000006) 1.001\n",
      "(-1000006, 1000004) 1.001\n",
      "(-1000004, 1000006) 1.001\n",
      "(-1000006, -1000004) 1.001\n",
      "{1000022: 507.27, 1000004: 930.037, 1000006: 792.759}\n"
     ]
    }
   ],
   "source": [
    "protomodel = protomodelsDict[4]\n",
    "for pids, ssm in protomodel.ssmultipliers.items():\n",
    "    if not ssm: continue\n",
    "    print(pids,ssm)\n",
    "print(protomodel.masses)    "
   ]
  },
  {
   "cell_type": "code",
   "execution_count": 8,
   "metadata": {},
   "outputs": [
    {
     "name": "stderr",
     "output_type": "stream",
     "text": [
      "combination #0/288   0%|                                        |ETA:  --:--:--\r"
     ]
    },
    {
     "name": "stdout",
     "output_type": "stream",
     "text": [
      "[combine:0] selected predictions down via SRs from 262 to 19.\n",
      "[combine:0] sorting out subsets, reduced 2788 -> 288 combinations.\n"
     ]
    },
    {
     "name": "stderr",
     "output_type": "stream",
     "text": [
      "combination #288/288 100%|||||||||||||||||||||||||||||||||||||||||Time: 0:00:19\n",
      "combination #0/288   0%|                                        |ETA:  --:--:--\r"
     ]
    },
    {
     "name": "stdout",
     "output_type": "stream",
     "text": [
      "[combine:0] selected predictions down via SRs from 262 to 19.\n",
      "[combine:0] sorting out subsets, reduced 2788 -> 288 combinations.\n"
     ]
    },
    {
     "name": "stderr",
     "output_type": "stream",
     "text": [
      "combination #288/288 100%|||||||||||||||||||||||||||||||||||||||||Time: 0:00:19\n"
     ]
    },
    {
     "name": "stdout",
     "output_type": "stream",
     "text": [
      "[hiscore:0] computing contribution of Xc (930.0): [1/2]\n"
     ]
    },
    {
     "name": "stderr",
     "output_type": "stream",
     "text": [
      "combination #3/48   6%|\\\\                                        |ETA:  0:00:02\r"
     ]
    },
    {
     "name": "stdout",
     "output_type": "stream",
     "text": [
      "[combine:0] selected predictions down via SRs from 162 to 14.\n",
      "[combine:0] sorting out subsets, reduced 201 -> 48 combinations.\n"
     ]
    },
    {
     "name": "stderr",
     "output_type": "stream",
     "text": [
      "combination #48/48 100%|||||||||||||||||||||||||||||||||||||||||||Time: 0:00:02\n"
     ]
    },
    {
     "name": "stdout",
     "output_type": "stream",
     "text": [
      "[hiscore:0] when removing Xc, K changed: 7.653 -> 5.318 (-30.5%), Z: 3.343 -> 2.751 (100000 evts)\n",
      "[hiscore:0] computing contribution of Xt (792.8): [2/2]\n"
     ]
    },
    {
     "name": "stderr",
     "output_type": "stream",
     "text": [
      "combination #5/24  20%|////////                                  |ETA:  0:00:00\r"
     ]
    },
    {
     "name": "stdout",
     "output_type": "stream",
     "text": [
      "[combine:0] selected predictions down via SRs from 192 to 10.\n",
      "[combine:0] sorting out subsets, reduced 109 -> 24 combinations.\n"
     ]
    },
    {
     "name": "stderr",
     "output_type": "stream",
     "text": [
      "combination #24/24 100%|||||||||||||||||||||||||||||||||||||||||||Time: 0:00:01\n"
     ]
    },
    {
     "name": "stdout",
     "output_type": "stream",
     "text": [
      "[hiscore:0] when removing Xt, K changed: 7.653 -> 2.421 (-68.4%), Z: 3.343 -> 2.173 (100000 evts)\n",
      "[hiscore:0] stored 2 particle contributions\n",
      "[hiscore:0] Now computing analysis contributions\n",
      "[hiscore:0] Recompute the score. Old one at K=7.65, Z=3.34\n",
      "[hiscore:0] finished computing contributions\n",
      "[hiscore:0] contributionsK of 0 reads 11.948546980526565\n",
      "[hiscore:0] contributionsK of 1 reads 11.564252306117869\n",
      "[hiscore:0] contributionsK of 2 reads 7.47605288477296\n",
      "[hiscore:0] contributionsK of 3 reads 10.55996264634212\n",
      "[hiscore:0] contributionsK of 4 reads 11.088503776249864\n",
      "[hiscore:0] contributionsK of 5 reads 4.443780680003783\n",
      "[hiscore:0] stored 6 analyses contributions\n"
     ]
    }
   ],
   "source": [
    "run = 4\n",
    "p = protomodelsDict[run]\n",
    "m = Manipulator(p)\n",
    "#Get predictions:\n",
    "pred = Predictor(walkerid=0,dbpath='../official124_smodels200.pcl')\n",
    "res = pred.predict(p)\n",
    "#Get contributions\n",
    "hi = Hiscore(walkerid=0,save_hiscores=False,predictor=pred)   \n",
    "hi.computeParticleContributions(m)\n",
    "hi.computeAnalysisContributions(m)    "
   ]
  },
  {
   "cell_type": "code",
   "execution_count": 9,
   "metadata": {
    "scrolled": true
   },
   "outputs": [
    {
     "name": "stdout",
     "output_type": "stream",
     "text": [
      "\n",
      " run 4: K = 7.65, Z = 3.34, muhat = 1.00, mumax = 1.00\n",
      "\t Best Combo:\n",
      "\t\t ATLAS-SUSY-2013-02 [T2] SR6jtp 6 4.9 1.6\n",
      "\t\t  prediction = 0.19\n",
      "\t\t ATLAS-SUSY-2013-15 [T2tt] tNboost 5 3.3 0.7\n",
      "\t\t  prediction = 0.36\n",
      "\t\t ATLAS-SUSY-2016-07 [T2] 2j_Meff_1200 611.0 526.0 31.0\n",
      "\t\t  prediction = 44.10\n",
      "\t\t ATLAS-SUSY-2016-16 [T2tt] tN_med 50 36.3 6.6\n",
      "\t\t  prediction = 9.46\n",
      "\t\t CMS-SUS-13-012 [T2] 4.14E+01 [fb] 2.55E+01 [fb]\n",
      "\t\t  prediction =  2.22E+00 [fb]\n",
      "\t\t CMS-SUS-16-050 [T2tt] 1.32E+02 [fb] 5.74E+01 [fb]\n",
      "\t\t  prediction =  3.06E+01 [fb]\n",
      "\t Constraints:\n",
      "\t\t r = 1.30\n",
      " CMS-SUS-19-006 upperLimit [T2] theory xsec =  27.79, UL = 2.14E+01 [fb], UL_exp = 2.38E+01 [fb]\n",
      "\n",
      "\t\t r = 1.28\n",
      " CMS-SUS-16-033 upperLimit [T2] theory xsec =  27.79, UL = 2.17E+01 [fb], UL_exp = 3.17E+01 [fb]\n",
      "\n",
      "\t\t r = 1.19\n",
      " CMS-SUS-19-006 upperLimit [T2tt] theory xsec =  30.62, UL = 2.56E+01 [fb], UL_exp = 4.02E+01 [fb]\n",
      "\n",
      "\t\t r = 1.00\n",
      " CMS-SUS-16-036 upperLimit [T2] theory xsec =  27.79, UL = 2.77E+01 [fb], UL_exp = 3.59E+01 [fb]\n",
      "\n",
      "\t\t r = 0.72\n",
      " CMS-SUS-16-049 upperLimit [T2tt] theory xsec =  30.62, UL = 4.22E+01 [fb], UL_exp = 5.08E+01 [fb]\n",
      "\n",
      "\t\t r = 0.67\n",
      " CMS-SUS-16-036 upperLimit [T2tt] theory xsec =  30.62, UL = 4.54E+01 [fb], UL_exp = 6.12E+01 [fb]\n",
      "\n",
      "\t\t r = 0.57\n",
      " CMS-SUS-16-051 upperLimit [T2tt] theory xsec =  30.62, UL = 5.33E+01 [fb], UL_exp = 5.94E+01 [fb]\n",
      "\n",
      "\t\t r = 0.51\n",
      " CMS-SUS-16-033 upperLimit [T2tt] theory xsec =  30.62, UL = 5.99E+01 [fb], UL_exp = 6.97E+01 [fb]\n",
      "\n",
      "\t Particle Contributions:\n",
      "\t\t 1000004 5.317782408052232\n",
      "\t\t 1000006 2.4209045491076226\n",
      "\t Analysis Contributions:\n",
      "\t\t ATLAS-SUSY-2013-02 11.948546980526565\n",
      "\t\t ATLAS-SUSY-2013-15 11.564252306117869\n",
      "\t\t ATLAS-SUSY-2016-07 7.47605288477296\n",
      "\t\t ATLAS-SUSY-2016-16 10.55996264634212\n",
      "\t\t CMS-SUS-13-012 11.088503776249864\n",
      "\t\t CMS-SUS-16-050 4.443780680003783\n"
     ]
    }
   ],
   "source": [
    "run = 4\n",
    "p = protomodelsDict[run]\n",
    "print('\\n run %i: K = %1.2f, Z = %1.2f, muhat = %1.2f, mumax = %1.2f' %(run,p.K,p.Z,p.muhat,p.mumax))\n",
    "print('\\t Best Combo:')\n",
    "for tp in sorted(p.bestCombo, key = lambda tp: tp.expResult.globalInfo.id):\n",
    "    if tp.dataset.dataInfo.dataType == 'efficiencyMap':\n",
    "        print('\\t\\t',tp.expResult.globalInfo.id,tp.txnames,tp.dataset.dataInfo.dataId,\n",
    "          tp.dataset.dataInfo.observedN,tp.dataset.dataInfo.expectedBG,tp.dataset.dataInfo.bgError)\n",
    "        print('\\t\\t  prediction = %1.2f' %(tp.xsection.value*tp.expResult.globalInfo.lumi))\n",
    "    else:\n",
    "        print('\\t\\t',tp.expResult.globalInfo.id,tp.txnames,tp.getUpperLimit(),tp.getUpperLimit(expected=True))\n",
    "        print('\\t\\t  prediction = ',tp.xsection.value.asNumber(fb)*fb)\n",
    "print('\\t Constraints:')\n",
    "for tp in sorted(p.tpList, key = lambda x: x[0], reverse=True):\n",
    "    if tp[0] < 0.5: continue\n",
    "    print('\\t\\t r = %1.2f\\n' %tp[0],tp[2].expResult.globalInfo.id,tp[2].dataset.dataInfo.dataType,tp[2].txnames,\n",
    "          'theory xsec =  %1.2f, UL = %s, UL_exp = %s\\n' \n",
    "          %(tp[2].xsection.value.asNumber(fb),tp[2].getUpperLimit(),tp[2].getUpperLimit(expected=True)))\n",
    "print('\\t Particle Contributions:')\n",
    "for pid,cont in p.particleContributions.items():\n",
    "    print('\\t\\t',pid,cont)\n",
    "\n",
    "print('\\t Analysis Contributions:')\n",
    "for ana,cont in p.analysisContributions.items():\n",
    "    print('\\t\\t',ana,cont)\n"
   ]
  },
  {
   "cell_type": "code",
   "execution_count": 10,
   "metadata": {},
   "outputs": [
    {
     "name": "stdout",
     "output_type": "stream",
     "text": [
      "ProtoModel (XZ1,Xc,Xt): K = 7.65, Z = 3.34\n"
     ]
    }
   ],
   "source": [
    "protomodel = protomodelsDict[4]\n",
    "muvals = np.linspace(-10,10,500)\n",
    "llhDictList = []\n",
    "print(protomodel)\n",
    "llhDict = getLikelihoods(protomodel,muvals)"
   ]
  },
  {
   "cell_type": "code",
   "execution_count": 11,
   "metadata": {},
   "outputs": [
    {
     "name": "stdout",
     "output_type": "stream",
     "text": [
      "['Combined', 'CMS-SUS-16-050', 'ATLAS-SUSY-2016-07', 'CMS-SUS-13-012', 'ATLAS-SUSY-2016-16', 'ATLAS-SUSY-2013-15', 'ATLAS-SUSY-2013-02']\n"
     ]
    }
   ],
   "source": [
    "sortedKeys = []\n",
    "for key in llhDict.keys():\n",
    "    if key == 'SM values' or key == 'Critic':\n",
    "        continue\n",
    "    else:\n",
    "        sortedKeys.append((llhDict[key].max()/llhDict['SM values'][key],key))\n",
    "sortedKeys = sorted(sortedKeys,reverse=True)\n",
    "sortedKeys = [pt[1] for pt in sortedKeys]\n",
    "print(sortedKeys)"
   ]
  },
  {
   "cell_type": "code",
   "execution_count": 12,
   "metadata": {},
   "outputs": [
    {
     "data": {
      "image/png": "[encoded data removed]",
      "text/plain": [
       "<Figure size 648x288 with 1 Axes>"
      ]
     },
     "metadata": {},
     "output_type": "display_data"
    }
   ],
   "source": [
    "fig = plt.figure(figsize=(9,4))\n",
    "for key in sortedKeys:\n",
    "    val = llhDict[key]\n",
    "    if key == 'Combined': ls = '-'\n",
    "    else: ls = '--'\n",
    "    plt.plot(muvals,val/llhDict['SM values'][key],label=key,linestyle=ls,linewidth=3)\n",
    "\n",
    "plt.axvline(x=protomodel.mumax,ymax=0.95,c='black',linestyle='-.',label=r'$\\mathdefault{\\mu_{max}}$',\n",
    "               linewidth=2.5)\n",
    "# tit = r'$'\n",
    "# tit += '\\mathdefault{K = %1.2f}$' %(protomodel.K)\n",
    "# plt.title(tit,fontsize=25)\n",
    "plt.xticks(np.linspace(0,5,6))\n",
    "plt.xlabel(r'$\\mathdefault{\\mu}$',fontsize=30)\n",
    "# plt.xaxis.set_tick_params(labelsize=25)\n",
    "# plt.yaxis.set_tick_params(labelsize=25)\n",
    "plt.ylabel(r'$\\mathdefault{\\mathrm{L}_{\\mathrm{BSM}}/\\mathrm{L}_{\\mathrm{SM}}}$',fontsize=30)\n",
    "plt.legend(loc=(1.01,0.05),framealpha=1,fontsize=13,labelspacing=0.6)\n",
    "plt.xlim(0,2.5)\n",
    "plt.ylim(1,2e3)\n",
    "plt.yscale('log')\n",
    "plt.tight_layout()\n",
    "plt.savefig('winner_likelihood.pdf')\n",
    "plt.savefig('winner_likelihood.png')\n",
    "plt.show()"
   ]
  },
  {
   "cell_type": "code",
   "execution_count": 12,
   "metadata": {},
   "outputs": [
    {
     "name": "stdout",
     "output_type": "stream",
     "text": [
      "[1000005, 1000022, 1000023, 1000024, 1000037, 1000021]\n"
     ]
    }
   ],
   "source": [
    "print(protomodel.possibledecays[1000006])"
   ]
  },
  {
   "cell_type": "code",
   "execution_count": null,
   "metadata": {},
   "outputs": [],
   "source": []
  }
 ],
 "metadata": {
  "kernelspec": {
   "display_name": "Python 3",
   "language": "python",
   "name": "python3"
  },
  "language_info": {
   "codemirror_mode": {
    "name": "ipython",
    "version": 3
   },
   "file_extension": ".py",
   "mimetype": "text/x-python",
   "name": "python",
   "nbconvert_exporter": "python",
   "pygments_lexer": "ipython3",
   "version": "3.8.2"
  }
 },
 "nbformat": 4,
 "nbformat_minor": 4
}

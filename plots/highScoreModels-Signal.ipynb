{
 "cells": [
  {
   "cell_type": "code",
   "execution_count": 1,
   "metadata": {},
   "outputs": [],
   "source": [
    "import sys,os,copy,glob\n",
    "import numpy as np\n",
    "sys.path.append(os.path.abspath('../smodels'))\n",
    "sys.path.append(os.path.abspath('../'))\n",
    "from builder.protomodel import ProtoModel\n",
    "from builder.manipulator import Manipulator\n",
    "from tester.predictor import Predictor\n",
    "from tester.combiner import Combiner\n",
    "from walker.hiscore import Hiscore\n",
    "from smodels.experiment.databaseObj import Database\n",
    "from smodels.tools import runtime\n",
    "from smodels.tools.physicsUnits import fb\n",
    "runtime._experimental = True\n",
    "import matplotlib.pyplot as plt\n",
    "import seaborn as sns\n",
    "import pandas as pd\n",
    "from names import particleLabels\n",
    "# sns.set() #Set style\n",
    "# sns.set_style('ticks')\n",
    "sns.set_style('ticks',{'font.family':'Times New Roman', 'font.serif':'Times New Roman'})\n",
    "sns.set_context('paper', font_scale=2.0)\n",
    "# sns.set_palette(sns.color_palette(\"Paired\"))\n",
    "sns.set_palette(sns.color_palette(\"deep\"))"
   ]
  },
  {
   "cell_type": "code",
   "execution_count": 2,
   "metadata": {},
   "outputs": [],
   "source": [
    "def getLikelihoods(protomodel,muvals,normalize=True):\n",
    "    \n",
    "    #Sort tpList\n",
    "    critic = sorted(protomodel.tpList, key = lambda tp: tp[0], reverse = True)[0][2]\n",
    "\n",
    "    #Combiner likelihood:\n",
    "    combiner = Combiner(0)\n",
    "    llhComb = np.array([combiner.getCombinedLikelihood(protomodel.bestCombo,mu) for mu in muvals])\n",
    "    llhCombSM = combiner.getCombinedLikelihood(protomodel.bestCombo,0.)\n",
    "    llhDict = {'Combined' : llhComb}\n",
    "    llhDictSM = {'Combined' : llhCombSM}\n",
    "    for tp in protomodel.bestCombo:\n",
    "        llhDict[tp.expResult.globalInfo.id] = np.array([tp.getLikelihood(mu) for mu in muvals])\n",
    "        llhDictSM[tp.expResult.globalInfo.id] = tp.getLikelihood(0.0)\n",
    "\n",
    "    #Critic likelihood:\n",
    "    if critic.getLikelihood(1.0) is not None:\n",
    "        llhDictSM['Critic'] = critic.getLikelihood(0.0)\n",
    "        llhDict['Critic'] = np.array([critic.getLikelihood(mu) for mu in muvals])\n",
    "    else:\n",
    "        llhDict['Critic'] = None\n",
    "        llhDictSM['Critic'] = None\n",
    "    llhDict['SM values'] = llhDictSM\n",
    "    \n",
    "    #Compute normalizations:\n",
    "    if normalize:\n",
    "        for key,llhd in llhDict.items():\n",
    "            if key != 'SM values':\n",
    "                norm = llhd.sum()\n",
    "                llhDict[key] = llhd/norm\n",
    "                llhDict['SM values'][key] *= 1/norm\n",
    "    \n",
    "    \n",
    "    return llhDict\n"
   ]
  },
  {
   "cell_type": "code",
   "execution_count": 3,
   "metadata": {},
   "outputs": [],
   "source": [
    "def fromDict(inputDict):\n",
    "    \n",
    "    p = ProtoModel(walkerid=0)\n",
    "    for key,v in inputDict.items():\n",
    "        setattr(p,key,copy.deepcopy(v))\n",
    "        \n",
    "    return p"
   ]
  },
  {
   "cell_type": "code",
   "execution_count": 4,
   "metadata": {},
   "outputs": [],
   "source": [
    "#Get highest score from each run:\n",
    "protomodelsDict = {}\n",
    "for ff in glob.glob('../data/signal*.dict'):\n",
    "    with open(ff,'r') as f:\n",
    "        pList = eval(f.read())\n",
    "    run = eval(os.path.basename(ff).replace('signal','').replace('.dict',''))\n",
    "    pList = [fromDict(pDict) for pDict in pList[:]]\n",
    "    p = sorted(pList, key = lambda p: p.K, reverse=True)[0]\n",
    "    protomodelsDict[run] = p  \n",
    "    \n",
    "protomodelsDictReal = {}\n",
    "for ff in glob.glob('../data/real*.dict'):\n",
    "    with open(ff,'r') as f:\n",
    "        pList = eval(f.read())\n",
    "    run = eval(os.path.basename(ff).replace('real','').replace('.dict',''))\n",
    "    pList = [fromDict(pDict) for pDict in pList[:]]\n",
    "    p = sorted(pList, key = lambda p: p.K, reverse=True)[0]\n",
    "    protomodelsDictReal[run] = p    "
   ]
  },
  {
   "cell_type": "code",
   "execution_count": 5,
   "metadata": {},
   "outputs": [
    {
     "name": "stdout",
     "output_type": "stream",
     "text": [
      "1 ProtoModel (XZ1,Xb,Xt): K = 10.00, Z = 3.75\n",
      "2 ProtoModel (XZ1,XW,Xt): K = 2.57, Z = 2.58\n",
      "3 ProtoModel (XZ1,Xb,Xt): K = 10.35, Z = 3.79\n",
      "4 ProtoModel (XZ1,Xd,Xt): K = 9.66, Z = 3.67\n",
      "5 ProtoModel (XZ1,Xd,Xt): K = 12.43, Z = 4.02\n",
      "6 ProtoModel (XZ1,Xt,Xd): K = 10.46, Z = 3.78\n",
      "7 ProtoModel (XZ1,Xg): K = 8.04, Z = 3.29\n",
      "8 ProtoModel (XZ1,Xg): K = 6.83, Z = 3.25\n",
      "9 ProtoModel (XZ1,Xd,Xt): K = 9.17, Z = 3.57\n",
      "10 ProtoModel (XZ1,Xd,Xt): K = 10.98, Z = 3.81\n",
      "11 ProtoModel (XZ1,Xd,Xt): K = 16.05, Z = 4.50\n",
      "12 ProtoModel (XZ1,Xd,Xt): K = 14.19, Z = 4.21\n",
      "13 ProtoModel (XZ1,Xt,Xd,Xg): K = 19.19, Z = 4.99\n",
      "14 ProtoModel (XZ1,Xd,Xt): K = 9.93, Z = 3.68\n",
      "15 ProtoModel (XZ1,Xt,Xd): K = 11.68, Z = 3.94\n",
      "16 ProtoModel (XZ1,Xd,Xt): K = 10.44, Z = 3.77\n",
      "17 ProtoModel (XZ1,Xt,Xt2): K = 5.79, Z = 3.13\n",
      "18 ProtoModel (XZ1,Xg,Xt): K = 12.78, Z = 4.10\n",
      "19 ProtoModel (XZ1,Xt,Xc): K = 12.63, Z = 4.02\n",
      "20 ProtoModel (XZ1,Xd,Xt): K = 10.55, Z = 3.75\n",
      "K (avg) = 10.69 +- 3.48\n"
     ]
    }
   ],
   "source": [
    "for run in sorted(protomodelsDict.keys()):\n",
    "    print(run,protomodelsDict[run])\n",
    "    \n",
    "Kavg = np.array([p.K for p in protomodelsDict.values()]).mean()\n",
    "Kstd = np.array([p.K for p in protomodelsDict.values()]).std()\n",
    "print('K (avg) = %1.2f +- %1.2f' %(Kavg,Kstd))"
   ]
  },
  {
   "cell_type": "code",
   "execution_count": 6,
   "metadata": {},
   "outputs": [
    {
     "name": "stdout",
     "output_type": "stream",
     "text": [
      "(1000022, 1000022) 7.862\n",
      "(1000001, 1000001) 3.508\n",
      "(-1000001, 1000001) 3.508\n",
      "(-1000001, -1000001) 3.508\n",
      "(1000001, 1000022) 3.731\n",
      "(-1000001, 1000022) 3.731\n",
      "(1000006, 1000006) 0.976\n",
      "(-1000006, 1000006) 0.976\n",
      "(-1000006, -1000006) 0.976\n",
      "(1000006, 1000022) 0.976\n",
      "(-1000006, 1000022) 0.976\n",
      "(1000001, 1000006) 0.976\n",
      "(-1000006, 1000001) 0.976\n",
      "(-1000001, 1000006) 0.976\n",
      "(-1000006, -1000001) 0.976\n",
      "{1000022: 531.14, 1000001: 1012.299, 1000006: 865.082}\n"
     ]
    }
   ],
   "source": [
    "protomodel = protomodelsDict[4]\n",
    "for pids, ssm in protomodel.ssmultipliers.items():\n",
    "    if not ssm: continue\n",
    "    print(pids,ssm)\n",
    "print(protomodel.masses)    "
   ]
  },
  {
   "cell_type": "code",
   "execution_count": 7,
   "metadata": {},
   "outputs": [
    {
     "name": "stderr",
     "output_type": "stream",
     "text": [
      "combination #2/128   1%|                                         |ETA:  0:00:08\r"
     ]
    },
    {
     "name": "stdout",
     "output_type": "stream",
     "text": [
      "[combine:0] selected predictions down via SRs from 240 to 16.\n",
      "[combine:0] sorting out subsets, reduced 1036 -> 128 combinations.\n"
     ]
    },
    {
     "name": "stderr",
     "output_type": "stream",
     "text": [
      "combination #128/128 100%|||||||||||||||||||||||||||||||||||||||||Time: 0:00:11\n",
      "combination #0/128   0%|                                        |ETA:  --:--:--\r"
     ]
    },
    {
     "name": "stdout",
     "output_type": "stream",
     "text": [
      "[combine:0] selected predictions down via SRs from 240 to 16.\n",
      "[combine:0] sorting out subsets, reduced 1036 -> 128 combinations.\n"
     ]
    },
    {
     "name": "stderr",
     "output_type": "stream",
     "text": [
      "combination #128/128 100%|||||||||||||||||||||||||||||||||||||||||Time: 0:00:12\n"
     ]
    },
    {
     "name": "stdout",
     "output_type": "stream",
     "text": [
      "[hiscore:0] computing contribution of Xd (1012.3): [1/2]\n"
     ]
    },
    {
     "name": "stderr",
     "output_type": "stream",
     "text": [
      "combination #1/16   6%|//                                        |ETA:  0:00:01\r"
     ]
    },
    {
     "name": "stdout",
     "output_type": "stream",
     "text": [
      "[combine:0] selected predictions down via SRs from 144 to 12.\n",
      "[combine:0] sorting out subsets, reduced 95 -> 16 combinations.\n"
     ]
    },
    {
     "name": "stderr",
     "output_type": "stream",
     "text": [
      "combination #16/16 100%|||||||||||||||||||||||||||||||||||||||||||Time: 0:00:01\n"
     ]
    },
    {
     "name": "stdout",
     "output_type": "stream",
     "text": [
      "[hiscore:0] when removing Xd, K changed: 4.186 -> 2.336 (-44.2%), Z: 2.826 -> 2.142 (100000 evts)\n",
      "[hiscore:0] computing contribution of Xt (865.1): [2/2]\n"
     ]
    },
    {
     "name": "stderr",
     "output_type": "stream",
     "text": [
      "combination #3/16  18%|\\\\\\\\\\\\\\                                   |ETA:  0:00:00\r"
     ]
    },
    {
     "name": "stdout",
     "output_type": "stream",
     "text": [
      "[combine:0] selected predictions down via SRs from 190 to 9.\n",
      "[combine:0] sorting out subsets, reduced 80 -> 16 combinations.\n"
     ]
    },
    {
     "name": "stderr",
     "output_type": "stream",
     "text": [
      "combination #16/16 100%|||||||||||||||||||||||||||||||||||||||||||Time: 0:00:01\n"
     ]
    },
    {
     "name": "stdout",
     "output_type": "stream",
     "text": [
      "[hiscore:0] when removing Xt, K changed: 4.186 -> 1.958 (-53.2%), Z: 2.826 -> 2.181 (100000 evts)\n",
      "[hiscore:0] stored 2 particle contributions\n",
      "[hiscore:0] Now computing analysis contributions\n",
      "[hiscore:0] Recompute the score. Old one at K=4.19, Z=2.83\n",
      "[hiscore:0] finished computing contributions\n",
      "[hiscore:0] contributionsK of 0 reads 6.065846248136315\n",
      "[hiscore:0] contributionsK of 1 reads 1.4679999207653625\n",
      "[hiscore:0] contributionsK of 2 reads 4.074707568912846\n",
      "[hiscore:0] contributionsK of 3 reads 5.652031311364783\n",
      "[hiscore:0] contributionsK of 4 reads 3.4704629140206045\n",
      "[hiscore:0] stored 5 analyses contributions\n"
     ]
    }
   ],
   "source": [
    "run = 4\n",
    "p = protomodelsDict[run]\n",
    "m = Manipulator(p)\n",
    "#Get predictions:\n",
    "pred = Predictor(walkerid=0,dbpath='../official124_smodels200.pcl')\n",
    "res = pred.predict(p)\n",
    "#Get contributions\n",
    "hi = Hiscore(walkerid=0,save_hiscores=False,predictor=pred)   \n",
    "hi.computeParticleContributions(m)\n",
    "hi.computeAnalysisContributions(m)    "
   ]
  },
  {
   "cell_type": "code",
   "execution_count": 8,
   "metadata": {
    "scrolled": true
   },
   "outputs": [
    {
     "name": "stdout",
     "output_type": "stream",
     "text": [
      "\n",
      " run 4: K = 4.19, Z = 2.83, muhat = 0.91, mumax = 0.93\n",
      "\t Best Combo:\n",
      "\t\t ATLAS-SUSY-2013-02 [T2] SR6jtp 6 4.9 1.6\n",
      "\t\t  prediction = 0.15\n",
      "\t\t ATLAS-SUSY-2016-07 [T2] 2j_Meff_1200 611.0 526.0 31.0\n",
      "\t\t  prediction = 51.75\n",
      "\t\t ATLAS-SUSY-2016-16 [T2tt] tN_med 50 36.3 6.6\n",
      "\t\t  prediction = 9.61\n",
      "\t\t CMS-SUS-12-028 [T2] 2.98E+01 [fb] 2.02E+01 [fb]\n",
      "\t\t  prediction =  1.40E+00 [fb]\n",
      "\t\t CMS-SUS-16-050 [T2tt] 5.63E+01 [fb] 3.34E+01 [fb]\n",
      "\t\t  prediction =  1.65E+01 [fb]\n",
      "\t Constraints:\n",
      "\t\t r = 1.43\n",
      " CMS-SUS-19-006 upperLimit [T2] theory xsec =  20.38, UL = 1.42E+01 [fb], UL_exp = 1.60E+01 [fb]\n",
      "\n",
      "\t\t r = 1.25\n",
      " CMS-SUS-16-033 upperLimit [T2] theory xsec =  20.38, UL = 1.63E+01 [fb], UL_exp = 2.17E+01 [fb]\n",
      "\n",
      "\t\t r = 1.10\n",
      " CMS-SUS-19-006 upperLimit [T2tt] theory xsec =  16.54, UL = 1.50E+01 [fb], UL_exp = 2.56E+01 [fb]\n",
      "\n",
      "\t\t r = 1.03\n",
      " CMS-SUS-16-036 upperLimit [T2] theory xsec =  20.38, UL = 1.97E+01 [fb], UL_exp = 2.27E+01 [fb]\n",
      "\n",
      "\t\t r = 0.71\n",
      " CMS-SUS-16-036 upperLimit [T2tt] theory xsec =  16.54, UL = 2.32E+01 [fb], UL_exp = 3.43E+01 [fb]\n",
      "\n",
      "\t\t r = 0.64\n",
      " CMS-SUS-16-049 upperLimit [T2tt] theory xsec =  16.54, UL = 2.58E+01 [fb], UL_exp = 2.74E+01 [fb]\n",
      "\n",
      "\t\t r = 0.60\n",
      " CMS-SUS-16-051 upperLimit [T2tt] theory xsec =  16.54, UL = 2.76E+01 [fb], UL_exp = 3.31E+01 [fb]\n",
      "\n",
      "\t Particle Contributions:\n",
      "\t\t 1000001 2.3361895315211356\n",
      "\t\t 1000006 1.957527268595297\n",
      "\t Analysis Contributions:\n",
      "\t\t ATLAS-SUSY-2013-02 6.065846248136315\n",
      "\t\t ATLAS-SUSY-2016-07 1.4679999207653625\n",
      "\t\t ATLAS-SUSY-2016-16 4.074707568912846\n",
      "\t\t CMS-SUS-12-028 5.652031311364783\n",
      "\t\t CMS-SUS-16-050 3.4704629140206045\n"
     ]
    }
   ],
   "source": [
    "run = 4\n",
    "p = protomodelsDict[run]\n",
    "print('\\n run %i: K = %1.2f, Z = %1.2f, muhat = %1.2f, mumax = %1.2f' %(run,p.K,p.Z,p.muhat,p.mumax))\n",
    "print('\\t Best Combo:')\n",
    "for tp in sorted(p.bestCombo, key = lambda tp: tp.expResult.globalInfo.id):\n",
    "    if tp.dataset.dataInfo.dataType == 'efficiencyMap':\n",
    "        print('\\t\\t',tp.expResult.globalInfo.id,tp.txnames,tp.dataset.dataInfo.dataId,\n",
    "          tp.dataset.dataInfo.observedN,tp.dataset.dataInfo.expectedBG,tp.dataset.dataInfo.bgError)\n",
    "        print('\\t\\t  prediction = %1.2f' %(tp.xsection.value*tp.expResult.globalInfo.lumi))\n",
    "    else:\n",
    "        print('\\t\\t',tp.expResult.globalInfo.id,tp.txnames,tp.getUpperLimit(),tp.getUpperLimit(expected=True))\n",
    "        print('\\t\\t  prediction = ',tp.xsection.value.asNumber(fb)*fb)\n",
    "print('\\t Constraints:')\n",
    "for tp in sorted(p.tpList, key = lambda x: x[0], reverse=True):\n",
    "    if tp[0] < 0.5: continue\n",
    "    print('\\t\\t r = %1.2f\\n' %tp[0],tp[2].expResult.globalInfo.id,tp[2].dataset.dataInfo.dataType,tp[2].txnames,\n",
    "          'theory xsec =  %1.2f, UL = %s, UL_exp = %s\\n' \n",
    "          %(tp[2].xsection.value.asNumber(fb),tp[2].getUpperLimit(),tp[2].getUpperLimit(expected=True)))\n",
    "print('\\t Particle Contributions:')\n",
    "for pid,cont in p.particleContributions.items():\n",
    "    print('\\t\\t',pid,cont)\n",
    "\n",
    "print('\\t Analysis Contributions:')\n",
    "for ana,cont in p.analysisContributions.items():\n",
    "    print('\\t\\t',ana,cont)\n"
   ]
  },
  {
   "cell_type": "code",
   "execution_count": 9,
   "metadata": {},
   "outputs": [
    {
     "name": "stdout",
     "output_type": "stream",
     "text": [
      "[(1000005, 24), (1000022, 6), (1000023, 6), (1000024, 5), (1000037, 5), (1000021, 6)]\n"
     ]
    }
   ],
   "source": [
    "print(protomodel.possibledecays[1000006])"
   ]
  },
  {
   "cell_type": "code",
   "execution_count": 10,
   "metadata": {},
   "outputs": [],
   "source": [
    "#Get all particles which appears in all models:\n",
    "particles = []\n",
    "modelList = list(protomodelsDict.items())\n",
    "modelList = sorted(modelList, key = lambda pt: pt[0])\n",
    "modelList = [[-0.75,protomodelsDictReal[4]]] + modelList[:] #Add winning protomodel as run 0\n",
    "modelList = np.array(modelList)\n",
    "runs = modelList[:11,0]\n",
    "modelList = modelList[:11,1]\n",
    "for p in modelList:\n",
    "    particles += p.unFrozenParticles()\n",
    "particles = list(set(particles))\n",
    "\n",
    "#Build useful dataset:\n",
    "nparticles = np.array([len(p.unFrozenParticles()) for p in modelList])\n",
    "Kvalues = np.array([p.K if (p.K and p.K > 0) else 0.0 for p in modelList])\n",
    "Zvalues = np.array([p.Z if (p.Z and p.Z > 0) else 0.0 for p in modelList])\n",
    "masses = dict([[pid,[]] for pid in particles])\n",
    "for p in modelList:\n",
    "    for pid in masses:\n",
    "        if pid in p.masses:\n",
    "            masses[pid].append(p.masses[pid])\n",
    "        else:\n",
    "            masses[pid].append(-100.0)\n",
    "for pid in masses:\n",
    "    masses[pid] = np.array(masses[pid])\n",
    "dataDict = {'run' : runs, 'K' : Kvalues,\n",
    "                   'nparticles' : nparticles}\n",
    "dataDict.update(masses) \n",
    "df = pd.DataFrame(dataDict)"
   ]
  },
  {
   "cell_type": "code",
   "execution_count": 34,
   "metadata": {},
   "outputs": [
    {
     "data": {
      "image/png": "[encoded data removed]",
      "text/plain": [
       "<Figure size 864x576 with 2 Axes>"
      ]
     },
     "metadata": {},
     "output_type": "display_data"
    }
   ],
   "source": [
    "f, axarr = plt.subplots(2,sharex=True, gridspec_kw = {'height_ratios':[1, 4]},figsize=(12,8))\n",
    "plt.subplots_adjust(left=0.12, bottom=0.12, right=0.97, top=None, wspace=None, hspace=0)\n",
    "\n",
    "nsteps = 10\n",
    "\n",
    "pids = [1000001, 1000004, 1000006, 1000013, 1000022] #Use same color scheme as real runs\n",
    "\n",
    "for p in masses.keys():\n",
    "    if not p in pids:\n",
    "        pids.append(p)\n",
    "colors = sns.color_palette('Paired',n_colors=20)[1::2]\n",
    "colors = sns.color_palette('tab10',n_colors=20)\n",
    "# colors = sns.color_palette('colorblind',n_colors=10)\n",
    "colorsDict = dict([[pid,colors[i]] for i,pid in enumerate(pids)])\n",
    "colorsDict[1000004] = colorsDict[1000001]\n",
    "\n",
    "axarr[0].scatter(df['run'],df['K'],s=80,c='gray')\n",
    "axarr[0].set_ylabel(r'$K$')\n",
    "axarr[0].set_ylim(1.0,15.0)\n",
    "axarr[0].set_yticks([])\n",
    "for i,row in df.iterrows():\n",
    "    axarr[0].annotate(r'$%1.2f$' %row['K'],(row['run']-0.2,row['K']+0.8),fontsize=13)\n",
    "\n",
    "axarr[0].vlines(x=0,ymin=2,ymax=15,linestyle='--',color='gray')\n",
    "\n",
    "for pid in pids:\n",
    "    if not pid in masses: #Skip particles present in real run, but not the fakes\n",
    "        continue\n",
    "    data = df\n",
    "    sns.scatterplot(x=data['run'],y=data[pid], size=1000,sizes=(1500,1500),marker='_',\n",
    "                    label=r'$%s$' %(particleLabels[pid]), legend=False,\n",
    "                    color=colorsDict[pid],ax=axarr[1])\n",
    "    for i,m in enumerate(masses[pid]):\n",
    "        if m < 0: continue\n",
    "        if 'b' in particleLabels[pid]:\n",
    "            axarr[1].annotate(r'$%s$' %(particleLabels[pid]),(runs[i]-0.3,m+25.),fontsize=15)\n",
    "        else:\n",
    "            axarr[1].annotate(r'$%s$' %(particleLabels[pid]),(runs[i],m+25.),fontsize=15)\n",
    "axarr[1].set_ylim(0.,1500.0)\n",
    "axarr[1].set_xlabel('run (BSM)', fontsize=23)\n",
    "axarr[1].set_ylabel('Mass [GeV]', fontsize=23)\n",
    "axarr[1].set_xticks(np.arange(1,df['run'].max()+1))\n",
    "axarr[1].vlines(x=0,ymin=0,ymax=1200,linestyle='--',color='gray')\n",
    "#     plt.plot(df['run'],m,'-',linewidth=2)\n",
    "\n",
    "axarr[1].text(-0.7,1040,'highest\\nscore\\n(real run)',fontsize=15,horizontalalignment='center')\n",
    "plt.ylim(0.,1200.0)\n",
    "\n",
    "\n",
    "\n",
    "# plt.grid(axis='x') \n",
    "# plt.legend(loc=(0.8,0.85),framealpha=1.0,ncol=3,labelspacing=0.1,\n",
    "#            handlelength=0.4,handletextpad=0.35,markerscale=0.8,columnspacing=1.0)\n",
    "# plt.tight_layout()\n",
    "plt.savefig('highScoreSignal_massesv1.pdf')\n",
    "plt.show()"
   ]
  },
  {
   "cell_type": "code",
   "execution_count": null,
   "metadata": {},
   "outputs": [],
   "source": []
  }
 ],
 "metadata": {
  "kernelspec": {
   "display_name": "Python 3",
   "language": "python",
   "name": "python3"
  },
  "language_info": {
   "codemirror_mode": {
    "name": "ipython",
    "version": 3
   },
   "file_extension": ".py",
   "mimetype": "text/x-python",
   "name": "python",
   "nbconvert_exporter": "python",
   "pygments_lexer": "ipython3",
   "version": "3.8.5"
  }
 },
 "nbformat": 4,
 "nbformat_minor": 4
}

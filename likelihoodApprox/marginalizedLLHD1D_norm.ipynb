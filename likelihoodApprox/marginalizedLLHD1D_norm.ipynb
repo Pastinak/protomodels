{
 "cells": [
  {
   "cell_type": "code",
   "execution_count": 13,
   "id": "coupled-scoop",
   "metadata": {},
   "outputs": [],
   "source": [
    "import sys, os\n",
    "import numpy as np\n",
    "sys.path.append(os.path.abspath('../../smodels'))\n",
    "from smodels.tools.simplifiedLikelihoods import UpperLimitComputer, Data, LikelihoodComputer\n",
    "import matplotlib.pyplot as plt\n",
    "import seaborn as sns\n",
    "from scipy import stats,integrate,optimize,special\n",
    "from tqdm.notebook import tqdm"
   ]
  },
  {
   "cell_type": "code",
   "execution_count": 14,
   "id": "subsequent-accuracy",
   "metadata": {},
   "outputs": [],
   "source": [
    "def getSRs():\n",
    "    from smodels.experiment.databaseObj import Database\n",
    "    db = Database ( \"official\" )\n",
    "    ers = db.getExpResults( dataTypes=[ \"efficiencyMap\" ] )\n",
    "    stats_ = []\n",
    "    for er in ers:\n",
    "        for ds in er.datasets:\n",
    "            D = { \"obsN\": ds.dataInfo.observedN, \"expectedBG\": ds.dataInfo.expectedBG,\n",
    "                  \"bgError\": ds.dataInfo.bgError, \"upperLimit\": ds.dataInfo.upperLimit,\n",
    "                  \"expectedUpperLimit\": ds.dataInfo.expectedUpperLimit }\n",
    "            stats_.append ( D )\n",
    "    return stats_"
   ]
  },
  {
   "cell_type": "code",
   "execution_count": 6,
   "id": "destroyed-knock",
   "metadata": {},
   "outputs": [],
   "source": [
    "stats_ = getSRs()"
   ]
  },
  {
   "cell_type": "code",
   "execution_count": 19,
   "id": "convertible-digit",
   "metadata": {},
   "outputs": [],
   "source": [
    "def llhd_smodels (mu, nobs, nExp, nExpErr):\n",
    "    data = Data ( nobs, nExp, nExpErr**2, nsignal = 1)\n",
    "    llhd_computer = LikelihoodComputer(data)\n",
    "    return llhd_computer.marginalizedLLHD1D(mu, nll=False)"
   ]
  },
  {
   "cell_type": "code",
   "execution_count": 39,
   "id": "meaningful-subscriber",
   "metadata": {},
   "outputs": [
    {
     "data": {
      "application/vnd.jupyter.widget-view+json": {
       "model_id": "2740f8b937c647b6aafc30da0403065f",
       "version_major": 2,
       "version_minor": 0
      },
      "text/plain": [
       "  0%|          | 0/271 [00:00<?, ?it/s]"
      ]
     },
     "metadata": {},
     "output_type": "display_data"
    }
   ],
   "source": [
    "norm = []\n",
    "for i in tqdm(stats_):\n",
    "    nobs = i[\"obsN\"]\n",
    "    nExp = i[\"expectedBG\"]\n",
    "    nExpErr = i[\"bgError\"]\n",
    "    mumax = (nobs+nExp+nExpErr)*10\n",
    "    try:\n",
    "        norm_ = integrate.quad(llhd_smodels, 0, mumax, args=(nobs, nExp, nExpErr))\n",
    "    except:\n",
    "        continue\n",
    "    norm.append(norm_[0])"
   ]
  },
  {
   "cell_type": "code",
   "execution_count": 42,
   "id": "professional-submission",
   "metadata": {},
   "outputs": [
    {
     "data": {
      "image/png": "[encoded data removed]",
      "text/plain": [
       "<Figure size 432x288 with 1 Axes>"
      ]
     },
     "metadata": {
      "needs_background": "light"
     },
     "output_type": "display_data"
    }
   ],
   "source": [
    "plt.hist(norm, bins=10)\n",
    "plt.show()"
   ]
  },
  {
   "cell_type": "code",
   "execution_count": null,
   "id": "addressed-glasgow",
   "metadata": {},
   "outputs": [],
   "source": []
  },
  {
   "cell_type": "code",
   "execution_count": null,
   "id": "discrete-keyboard",
   "metadata": {},
   "outputs": [],
   "source": []
  }
 ],
 "metadata": {
  "kernelspec": {
   "display_name": "Python 3",
   "language": "python",
   "name": "python3"
  },
  "language_info": {
   "codemirror_mode": {
    "name": "ipython",
    "version": 3
   },
   "file_extension": ".py",
   "mimetype": "text/x-python",
   "name": "python",
   "nbconvert_exporter": "python",
   "pygments_lexer": "ipython3",
   "version": "3.8.5"
  }
 },
 "nbformat": 4,
 "nbformat_minor": 5
}

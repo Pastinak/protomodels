{
 "cells": [
  {
   "cell_type": "code",
   "execution_count": 1,
   "metadata": {},
   "outputs": [],
   "source": [
    "import os,sys\n",
    "import glob\n",
    "import numpy as np\n",
    "import pyslha\n",
    "import itertools\n",
    "# sys.path.append(os.path.abspath('./smodels'))\n",
    "sys.path.append(os.path.expanduser('~/smodels'))\n",
    "from smodels.theory.crossSection import getXsecFromSLHAFile"
   ]
  },
  {
   "cell_type": "code",
   "execution_count": 2,
   "metadata": {},
   "outputs": [],
   "source": [
    "def checkDuplicates(slhafile):\n",
    "\n",
    "    xsecDict = {}\n",
    "    f=pyslha.readSLHAFile(slhafile)\n",
    "    for production in f.xsections:\n",
    "        process = f.xsections.get( production )\n",
    "        pid = production[2:]\n",
    "        if not pid in xsecDict:\n",
    "            xsecDict[pid] = []\n",
    "        for pxsec in process.xsecs:\n",
    "            csOrder = pxsec.qcd_order\n",
    "            wlabel = str( int ( pxsec.sqrts / 1000) ) + ' TeV'\n",
    "            if csOrder == 0:\n",
    "                wlabel += ' (LO)'\n",
    "            elif csOrder == 1:\n",
    "                wlabel += ' (NLO)'\n",
    "            elif csOrder == 2:\n",
    "                wlabel += ' (NLL)'\n",
    "            value = pxsec.value\n",
    "            xsecDict[pid].append([wlabel,value])\n",
    "            \n",
    "    for pid,xsecs in xsecDict.items():\n",
    "        for i,xsA in enumerate(xsecs):\n",
    "            for j,xsB in enumerate(xsecs):\n",
    "                if i >= j: continue\n",
    "                if xsA[0] == xsB[0]:\n",
    "                    print('equal xsecs for %s:' %str(pid),xsA,xsB)\n",
    "                    return False\n",
    "    \n",
    "#     print('No duplicates')\n",
    "    return True\n"
   ]
  },
  {
   "cell_type": "code",
   "execution_count": 3,
   "metadata": {},
   "outputs": [
    {
     "data": {
      "text/plain": [
       "True"
      ]
     },
     "execution_count": 3,
     "metadata": {},
     "output_type": "execute_result"
    }
   ],
   "source": [
    "checkDuplicates('test0.slha')"
   ]
  },
  {
   "cell_type": "code",
   "execution_count": 4,
   "metadata": {},
   "outputs": [
    {
     "name": "stdout",
     "output_type": "stream",
     "text": [
      "8 TeV (LO):5.92E-03 [pb] (-1000006, 1000006)\n",
      "8 TeV (NLL):1.12E-02 [pb] (-1000006, 1000006)\n",
      "13 TeV (LO):4.68E-02 [pb] (-1000006, 1000006)\n",
      "13 TeV (NLL):7.91E-02 [pb] (-1000006, 1000006)\n",
      "13 TeV (LO):4.48E-07 [pb] (1000022, 1000022)\n"
     ]
    }
   ],
   "source": [
    "xsecs = getXsecFromSLHAFile('test.slha')\n",
    "for xsec in xsecs:\n",
    "    print(xsec)"
   ]
  },
  {
   "cell_type": "code",
   "execution_count": 5,
   "metadata": {},
   "outputs": [],
   "source": [
    "xsecs.removeDuplicates()"
   ]
  },
  {
   "cell_type": "code",
   "execution_count": 6,
   "metadata": {},
   "outputs": [
    {
     "name": "stdout",
     "output_type": "stream",
     "text": [
      "8 TeV (LO):5.92E-03 [pb] (-1000006, 1000006)\n",
      "8 TeV (NLL):1.12E-02 [pb] (-1000006, 1000006)\n",
      "13 TeV (LO):4.68E-02 [pb] (-1000006, 1000006)\n",
      "13 TeV (NLL):7.91E-02 [pb] (-1000006, 1000006)\n",
      "13 TeV (LO):4.48E-07 [pb] (1000022, 1000022)\n"
     ]
    }
   ],
   "source": [
    "for xsec in xsecs:\n",
    "    print(xsec)"
   ]
  },
  {
   "cell_type": "code",
   "execution_count": 7,
   "metadata": {},
   "outputs": [
    {
     "name": "stdout",
     "output_type": "stream",
     "text": [
      "equal xsecs for (-1000006, 1000006): ['8 TeV (NLL)', 0.0111903883] ['8 TeV (NLL)', 0.0111903883]\n"
     ]
    },
    {
     "data": {
      "text/plain": [
       "False"
      ]
     },
     "execution_count": 7,
     "metadata": {},
     "output_type": "execute_result"
    }
   ],
   "source": [
    "checkDuplicates('testBad.slha')"
   ]
  },
  {
   "cell_type": "code",
   "execution_count": 8,
   "metadata": {},
   "outputs": [
    {
     "name": "stderr",
     "output_type": "stream",
     "text": [
      "WARNING in crossSection.removeDuplicates() in 584: Removing 1 duplicate cross sections\n"
     ]
    },
    {
     "name": "stdout",
     "output_type": "stream",
     "text": [
      "13 TeV (LO):4.48E-07 [pb] (1000022, 1000022)\n",
      "8 TeV (LO):5.92E-03 [pb] (-1000006, 1000006)\n",
      "8 TeV (NLL):1.12E-02 [pb] (-1000006, 1000006)\n",
      "13 TeV (LO):4.68E-02 [pb] (-1000006, 1000006)\n",
      "13 TeV (NLL):7.91E-02 [pb] (-1000006, 1000006)\n"
     ]
    }
   ],
   "source": [
    "xsecs = getXsecFromSLHAFile('testBad.slha')\n",
    "for xsec in xsecs:\n",
    "    print(xsec)"
   ]
  },
  {
   "cell_type": "code",
   "execution_count": 9,
   "metadata": {},
   "outputs": [
    {
     "name": "stderr",
     "output_type": "stream",
     "text": [
      "WARNING in crossSection.removeDuplicates() in 584: Removing 1 duplicate cross sections\n"
     ]
    },
    {
     "name": "stdout",
     "output_type": "stream",
     "text": [
      "13 TeV (LO):4.48E-07 [pb] (1000022, 1000022)\n",
      "8 TeV (LO):5.92E-03 [pb] (-1000006, 1000006)\n",
      "8 TeV (NLL):2.12E-02 [pb] (-1000006, 1000006)\n",
      "13 TeV (LO):4.68E-02 [pb] (-1000006, 1000006)\n",
      "13 TeV (NLL):7.91E-02 [pb] (-1000006, 1000006)\n"
     ]
    }
   ],
   "source": [
    "xsecs = getXsecFromSLHAFile('testBad2.slha')\n",
    "for xsec in xsecs:\n",
    "    print(xsec)"
   ]
  },
  {
   "cell_type": "code",
   "execution_count": null,
   "metadata": {},
   "outputs": [],
   "source": []
  }
 ],
 "metadata": {
  "kernelspec": {
   "display_name": "Python 3",
   "language": "python",
   "name": "python3"
  },
  "language_info": {
   "codemirror_mode": {
    "name": "ipython",
    "version": 3
   },
   "file_extension": ".py",
   "mimetype": "text/x-python",
   "name": "python",
   "nbconvert_exporter": "python",
   "pygments_lexer": "ipython3",
   "version": "3.8.2"
  }
 },
 "nbformat": 4,
 "nbformat_minor": 4
}

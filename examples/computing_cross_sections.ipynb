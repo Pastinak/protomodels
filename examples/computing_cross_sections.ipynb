{
 "metadata": {
  "name": "",
  "signature": "sha256:2a826aa040d0a38de364c0381ee8498d7f1ba7eacb6b2106e35c179ff5ae9aec"
 },
 "nbformat": 3,
 "nbformat_minor": 0,
 "worksheets": [
  {
   "cells": [
    {
     "cell_type": "heading",
     "level": 1,
     "metadata": {},
     "source": [
      "Howto #1: computing cross sections for a given slha file"
     ]
    },
    {
     "cell_type": "heading",
     "level": 3,
     "metadata": {},
     "source": [
      "Wolfgang Waltenberger, june 2014"
     ]
    },
    {
     "cell_type": "code",
     "collapsed": false,
     "input": [
      "# we start by setting the python paths to the smodels installation\n",
      "import setPath"
     ],
     "language": "python",
     "metadata": {},
     "outputs": [],
     "prompt_number": 1
    },
    {
     "cell_type": "code",
     "collapsed": false,
     "input": [
      "# now lets import those parts of smodels that are needed for this exercise\n",
      "from smodels.tools import xsecComputer\n",
      "from smodels.tools.physicsUnits import TeV, pb\n",
      "from smodels.tools.xsecComputer import LO, NLL"
     ],
     "language": "python",
     "metadata": {},
     "outputs": [],
     "prompt_number": 2
    },
    {
     "cell_type": "code",
     "collapsed": false,
     "input": [
      "# fetch example1.slha via http, save as tmp.slha\n",
      "import urllib\n",
      "urllib.urlretrieve(\"http://smodels.hephy.at/slha/example1.slha\",\"tmp.slha\")"
     ],
     "language": "python",
     "metadata": {},
     "outputs": [
      {
       "metadata": {},
       "output_type": "pyout",
       "prompt_number": 3,
       "text": [
        "('tmp.slha', <httplib.HTTPMessage instance at 0x2b2500e70c68>)"
       ]
      }
     ],
     "prompt_number": 3
    },
    {
     "cell_type": "code",
     "collapsed": false,
     "input": [
      "# now lets compute the leading order (LO) cross sections for 8 TeV, simulating 1000\n",
      "# events with pythia.\n",
      "xsecs=xsecComputer.computeXSec ( 8*TeV, LO, 1000, \"tmp.slha\" )"
     ],
     "language": "python",
     "metadata": {},
     "outputs": [],
     "prompt_number": 4
    },
    {
     "cell_type": "code",
     "collapsed": false,
     "input": [
      "# the output is a XSectionList\n",
      "type(xsecs)"
     ],
     "language": "python",
     "metadata": {},
     "outputs": [
      {
       "metadata": {},
       "output_type": "pyout",
       "prompt_number": 5,
       "text": [
        "smodels.theory.crossSection.XSectionList"
       ]
      }
     ],
     "prompt_number": 5
    },
    {
     "cell_type": "code",
     "collapsed": false,
     "input": [
      "# which has a .getDictionary() method which contains the cross sections\n",
      "D=xsecs.getDictionary(groupBy=\"labels\")[\"8 TeV (LO)\"]\n",
      "print D"
     ],
     "language": "python",
     "metadata": {},
     "outputs": [
      {
       "output_type": "stream",
       "stream": "stdout",
       "text": [
        "{(-1000014, 1000013): 0.00708629236891 [pb], (-1000024, 1000024): 0.021050456743 [pb], (-2000011, 2000011): 0.000208420363792 [pb], (-1000024, 1000023): 0.0104210181896 [pb], (-1000011, 1000012): 0.018966253105 [pb], (-1000037, 1000025): 0.000208420363792 [pb], (-1000012, 1000012): 0.00854523491546 [pb], (-1000012, 1000011): 0.00917049600683 [pb], (-1000011, 1000011): 0.0075031330965 [pb], (-1000014, 1000014): 0.00917049600683 [pb], (-1000016, 1000016): 0.00791997382408 [pb], (-1000013, 1000014): 0.0177157309223 [pb], (-1000016, 1000015): 0.00917049600683 [pb], (-1000013, 1000013): 0.00646103127754 [pb], (-2000015, 1000016): 0.000208420363792 [pb], (1000023, 1000024): 0.035014621117 [pb], (-1000015, 1000016): 0.0277199083843 [pb], (-1000015, 1000015): 0.0118799607361 [pb]}\n"
       ]
      }
     ],
     "prompt_number": 6
    },
    {
     "cell_type": "code",
     "collapsed": false,
     "input": [
      "# now make a simple bar chart of all cross sections, in pb \n",
      "import pylab; import numpy; pylab.bar( range(len(D)), map ( lambda x: float(x/pb), D.values() ) )\n",
      "pylab.xticks( .5+ numpy.arange(len(D)), D.keys(), rotation=\"vertical\" ); pylab.ylabel( \"xsec [pb]\");"
     ],
     "language": "python",
     "metadata": {},
     "outputs": [
      {
       "metadata": {},
       "output_type": "display_data",
       "png": "[encoded data removed]",
       "text": [
        "<matplotlib.figure.Figure at 0x2b2500bec8d0>"
       ]
      }
     ],
     "prompt_number": 7
    }
   ],
   "metadata": {}
  }
 ]
}
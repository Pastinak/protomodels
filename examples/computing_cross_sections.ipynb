{
 "metadata": {
  "name": "",
  "signature": "sha256:2a826aa040d0a38de364c0381ee8498d7f1ba7eacb6b2106e35c179ff5ae9aec"
 },
 "nbformat": 3,
 "nbformat_minor": 0,
 "worksheets": [
  {
   "cells": [
    {
     "cell_type": "markdown",
     "metadata": {},
     "source": [
      "# this example shows how cross sections can be computed for a given slha file\n",
      "# Wolfgang Waltenberger, june 27th 2014"
     ]
    },
    {
     "cell_type": "code",
     "collapsed": false,
     "input": [
      "# we start by setting the python paths to the smodels installation\n",
      "import setPath"
     ],
     "language": "python",
     "metadata": {},
     "outputs": [],
     "prompt_number": 1
    },
    {
     "cell_type": "code",
     "collapsed": false,
     "input": [
      "# now lets import those parts of smodels that are needed for this exercise\n",
      "from smodels.tools import xsecComputer\n",
      "from smodels.tools.physicsUnits import TeV\n",
      "from smodels.tools.xsecComputer import LO, NLL"
     ],
     "language": "python",
     "metadata": {},
     "outputs": [],
     "prompt_number": 2
    },
    {
     "cell_type": "code",
     "collapsed": false,
     "input": [
      "# I pick up a sample slha file, and check that it exists\n",
      "slhafile=\"../inputFiles/slha/andrePT4.slha\"\n",
      "import os\n",
      "os.path.exists(slhafile)"
     ],
     "language": "python",
     "metadata": {},
     "outputs": [
      {
       "metadata": {},
       "output_type": "pyout",
       "prompt_number": 3,
       "text": [
        "True"
       ]
      }
     ],
     "prompt_number": 3
    },
    {
     "cell_type": "code",
     "collapsed": false,
     "input": [
      "# now lets compute the leading order (LO) cross sections for 8 TeV, simulating 1000\n",
      "# events with pythia.\n",
      "xsecs=xsecComputer.computeXSec ( 8*TeV, LO, 1000, slhafile )"
     ],
     "language": "python",
     "metadata": {},
     "outputs": [],
     "prompt_number": 4
    },
    {
     "cell_type": "code",
     "collapsed": false,
     "input": [
      "# the output is a XSectionList\n",
      "type(xsecs)"
     ],
     "language": "python",
     "metadata": {},
     "outputs": [
      {
       "ename": "NameError",
       "evalue": "name 'xsecs' is not defined",
       "output_type": "pyerr",
       "traceback": [
        "\u001b[0;31m---------------------------------------------------------------------------\u001b[0m\n\u001b[0;31mNameError\u001b[0m                                 Traceback (most recent call last)",
        "\u001b[0;32m<ipython-input-1-d685d491f7c1>\u001b[0m in \u001b[0;36m<module>\u001b[0;34m()\u001b[0m\n\u001b[1;32m      1\u001b[0m \u001b[0;31m# the output is a XSectionList\u001b[0m\u001b[0;34m\u001b[0m\u001b[0;34m\u001b[0m\u001b[0m\n\u001b[0;32m----> 2\u001b[0;31m \u001b[0mtype\u001b[0m\u001b[0;34m(\u001b[0m\u001b[0mxsecs\u001b[0m\u001b[0;34m)\u001b[0m\u001b[0;34m\u001b[0m\u001b[0m\n\u001b[0m",
        "\u001b[0;31mNameError\u001b[0m: name 'xsecs' is not defined"
       ]
      }
     ],
     "prompt_number": 1
    },
    {
     "cell_type": "code",
     "collapsed": false,
     "input": [
      "# which has a .getDictionary() method which contains the cross sections\n",
      "print xsecs.getDictionary()"
     ],
     "language": "python",
     "metadata": {},
     "outputs": [
      {
       "output_type": "stream",
       "stream": "stdout",
       "text": [
        "{(-1000013, 1000013): {'8 TeV (LO)': 0.00646103127754 [pb]}, (-1000014, 1000013): {'8 TeV (LO)': 0.00708629236891 [pb]}, (-1000024, 1000024): {'8 TeV (LO)': 0.021050456743 [pb]}, (-1000015, 1000016): {'8 TeV (LO)': 0.0277199083843 [pb]}, (-1000024, 1000023): {'8 TeV (LO)': 0.0104210181896 [pb]}, (-1000016, 1000016): {'8 TeV (LO)': 0.00791997382408 [pb]}, (-1000037, 1000025): {'8 TeV (LO)': 0.000208420363792 [pb]}, (-1000012, 1000011): {'8 TeV (LO)': 0.00917049600683 [pb]}, (-1000014, 1000014): {'8 TeV (LO)': 0.00917049600683 [pb]}, (-1000012, 1000012): {'8 TeV (LO)': 0.00854523491546 [pb]}, (-1000011, 1000011): {'8 TeV (LO)': 0.0075031330965 [pb]}, (-1000016, 1000015): {'8 TeV (LO)': 0.00917049600683 [pb]}, (-2000011, 2000011): {'8 TeV (LO)': 0.000208420363792 [pb]}, (-1000011, 1000012): {'8 TeV (LO)': 0.018966253105 [pb]}, (-1000015, 1000015): {'8 TeV (LO)': 0.0118799607361 [pb]}, (1000023, 1000024): {'8 TeV (LO)': 0.035014621117 [pb]}, (-2000015, 1000016): {'8 TeV (LO)': 0.000208420363792 [pb]}, (-1000013, 1000014): {'8 TeV (LO)': 0.0177157309223 [pb]}}\n"
       ]
      }
     ],
     "prompt_number": 6
    }
   ],
   "metadata": {}
  }
 ]
}